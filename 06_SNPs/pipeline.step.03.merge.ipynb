{
 "cells": [
  {
   "cell_type": "markdown",
   "id": "f69824d6",
   "metadata": {},
   "source": [
    "This pipeline merges BAM files."
   ]
  },
  {
   "cell_type": "code",
   "execution_count": 1,
   "id": "6f29e32f",
   "metadata": {},
   "outputs": [],
   "source": [
    "import os"
   ]
  },
  {
   "cell_type": "markdown",
   "id": "d0927639",
   "metadata": {},
   "source": [
    "# user-defined variables"
   ]
  },
  {
   "cell_type": "code",
   "execution_count": 2,
   "id": "d0f68732",
   "metadata": {},
   "outputs": [],
   "source": [
    "bam_top_aggregated = '/home/adrian/projects/reynisfjara/results/aggregated_bam_k243r/'\n",
    "bam_top_folder = '/home/adrian/projects/reynisfjara/results/bam_k243r/'"
   ]
  },
  {
   "cell_type": "markdown",
   "id": "34bc925b",
   "metadata": {},
   "source": [
    "# define function"
   ]
  },
  {
   "cell_type": "markdown",
   "id": "47f6895e",
   "metadata": {},
   "source": [
    "# read data"
   ]
  },
  {
   "cell_type": "code",
   "execution_count": 3,
   "id": "63feed69",
   "metadata": {},
   "outputs": [],
   "source": [
    "bam_folders = os.listdir(bam_top_folder)"
   ]
  },
  {
   "cell_type": "code",
   "execution_count": 4,
   "id": "52ef32e3",
   "metadata": {},
   "outputs": [
    {
     "name": "stdout",
     "output_type": "stream",
     "text": [
      "['a3922_0h', 'a3922_48h', 'a3922_72h', 'a4774_0h', 'a4774_48h', 'a4774_72h', 'a4775_0h', 'a4775_48h', 'a4775_72h', 'a4776_0h', 'a4776_48h', 'a4776_72h']\n"
     ]
    }
   ],
   "source": [
    "samples = ['_'.join(element.split('_')[:2]) for element in bam_folders]\n",
    "samples = list(set(samples))\n",
    "samples.sort()\n",
    "print(samples)"
   ]
  },
  {
   "cell_type": "markdown",
   "id": "8af188a2-6a61-4018-803e-adf3997d51b9",
   "metadata": {},
   "source": [
    "# merge"
   ]
  },
  {
   "cell_type": "code",
   "execution_count": 5,
   "id": "87b7b9b2-dc10-4c67-a2ac-0b3cc4eda952",
   "metadata": {},
   "outputs": [
    {
     "name": "stdout",
     "output_type": "stream",
     "text": [
      "time samtools merge -@ 20 /home/adrian/projects/reynisfjara/results/aggregated_bam_k243r/a3922_0h.bam /home/adrian/projects/reynisfjara/results/bam_k243r/a3922_0h_1/markdup.bam /home/adrian/projects/reynisfjara/results/bam_k243r/a3922_0h_2/markdup.bam /home/adrian/projects/reynisfjara/results/bam_k243r/a3922_0h_3/markdup.bam\n"
     ]
    },
    {
     "name": "stderr",
     "output_type": "stream",
     "text": [
      "samtools: /home/adrian/anaconda3/bin/../lib/libtinfow.so.6: no version information available (required by samtools)\n",
      "samtools: /home/adrian/anaconda3/bin/../lib/libncursesw.so.6: no version information available (required by samtools)\n",
      "samtools: /home/adrian/anaconda3/bin/../lib/libncursesw.so.6: no version information available (required by samtools)\n",
      "1006.01user 12.15system 2:06.38elapsed 805%CPU (0avgtext+0avgdata 146292maxresident)k\n",
      "13838680inputs+13182200outputs (1major+37581minor)pagefaults 0swaps\n",
      "samtools: /home/adrian/anaconda3/bin/../lib/libtinfow.so.6: no version information available (required by samtools)\n",
      "samtools: /home/adrian/anaconda3/bin/../lib/libncursesw.so.6: no version information available (required by samtools)\n",
      "samtools: /home/adrian/anaconda3/bin/../lib/libncursesw.so.6: no version information available (required by samtools)\n"
     ]
    },
    {
     "name": "stdout",
     "output_type": "stream",
     "text": [
      "\n",
      "time samtools merge -@ 20 /home/adrian/projects/reynisfjara/results/aggregated_bam_k243r/a3922_48h.bam /home/adrian/projects/reynisfjara/results/bam_k243r/a3922_48h_1/markdup.bam /home/adrian/projects/reynisfjara/results/bam_k243r/a3922_48h_2/markdup.bam /home/adrian/projects/reynisfjara/results/bam_k243r/a3922_48h_3/markdup.bam\n"
     ]
    },
    {
     "name": "stderr",
     "output_type": "stream",
     "text": [
      "895.02user 10.58system 1:52.47elapsed 805%CPU (0avgtext+0avgdata 146352maxresident)k\n",
      "12336864inputs+11658064outputs (0major+37586minor)pagefaults 0swaps\n",
      "samtools: /home/adrian/anaconda3/bin/../lib/libtinfow.so.6: no version information available (required by samtools)\n",
      "samtools: /home/adrian/anaconda3/bin/../lib/libncursesw.so.6: no version information available (required by samtools)\n",
      "samtools: /home/adrian/anaconda3/bin/../lib/libncursesw.so.6: no version information available (required by samtools)\n"
     ]
    },
    {
     "name": "stdout",
     "output_type": "stream",
     "text": [
      "\n",
      "time samtools merge -@ 20 /home/adrian/projects/reynisfjara/results/aggregated_bam_k243r/a3922_72h.bam /home/adrian/projects/reynisfjara/results/bam_k243r/a3922_72h_1/markdup.bam /home/adrian/projects/reynisfjara/results/bam_k243r/a3922_72h_2/markdup.bam /home/adrian/projects/reynisfjara/results/bam_k243r/a3922_72h_3/markdup.bam\n"
     ]
    },
    {
     "name": "stderr",
     "output_type": "stream",
     "text": [
      "1038.91user 12.58system 2:10.86elapsed 803%CPU (0avgtext+0avgdata 146348maxresident)k\n",
      "14436656inputs+13677440outputs (0major+37544minor)pagefaults 0swaps\n",
      "samtools: /home/adrian/anaconda3/bin/../lib/libtinfow.so.6: no version information available (required by samtools)\n",
      "samtools: /home/adrian/anaconda3/bin/../lib/libncursesw.so.6: no version information available (required by samtools)\n",
      "samtools: /home/adrian/anaconda3/bin/../lib/libncursesw.so.6: no version information available (required by samtools)\n"
     ]
    },
    {
     "name": "stdout",
     "output_type": "stream",
     "text": [
      "\n",
      "time samtools merge -@ 20 /home/adrian/projects/reynisfjara/results/aggregated_bam_k243r/a4774_0h.bam /home/adrian/projects/reynisfjara/results/bam_k243r/a4774_0h_1/markdup.bam /home/adrian/projects/reynisfjara/results/bam_k243r/a4774_0h_2/markdup.bam /home/adrian/projects/reynisfjara/results/bam_k243r/a4774_0h_3/markdup.bam\n"
     ]
    },
    {
     "name": "stderr",
     "output_type": "stream",
     "text": [
      "880.52user 10.15system 1:51.85elapsed 796%CPU (0avgtext+0avgdata 146048maxresident)k\n",
      "12365096inputs+11689168outputs (1major+37481minor)pagefaults 0swaps\n",
      "samtools: /home/adrian/anaconda3/bin/../lib/libtinfow.so.6: no version information available (required by samtools)\n",
      "samtools: /home/adrian/anaconda3/bin/../lib/libncursesw.so.6: no version information available (required by samtools)\n",
      "samtools: /home/adrian/anaconda3/bin/../lib/libncursesw.so.6: no version information available (required by samtools)\n"
     ]
    },
    {
     "name": "stdout",
     "output_type": "stream",
     "text": [
      "\n",
      "time samtools merge -@ 20 /home/adrian/projects/reynisfjara/results/aggregated_bam_k243r/a4774_48h.bam /home/adrian/projects/reynisfjara/results/bam_k243r/a4774_48h_1/markdup.bam /home/adrian/projects/reynisfjara/results/bam_k243r/a4774_48h_2/markdup.bam /home/adrian/projects/reynisfjara/results/bam_k243r/a4774_48h_3/markdup.bam\n"
     ]
    },
    {
     "name": "stderr",
     "output_type": "stream",
     "text": [
      "939.34user 11.08system 1:58.02elapsed 805%CPU (0avgtext+0avgdata 145596maxresident)k\n",
      "13169560inputs+12460832outputs (0major+37379minor)pagefaults 0swaps\n",
      "samtools: /home/adrian/anaconda3/bin/../lib/libtinfow.so.6: no version information available (required by samtools)\n",
      "samtools: /home/adrian/anaconda3/bin/../lib/libncursesw.so.6: no version information available (required by samtools)\n",
      "samtools: /home/adrian/anaconda3/bin/../lib/libncursesw.so.6: no version information available (required by samtools)\n"
     ]
    },
    {
     "name": "stdout",
     "output_type": "stream",
     "text": [
      "\n",
      "time samtools merge -@ 20 /home/adrian/projects/reynisfjara/results/aggregated_bam_k243r/a4774_72h.bam /home/adrian/projects/reynisfjara/results/bam_k243r/a4774_72h_1/markdup.bam /home/adrian/projects/reynisfjara/results/bam_k243r/a4774_72h_2/markdup.bam\n"
     ]
    },
    {
     "name": "stderr",
     "output_type": "stream",
     "text": [
      "796.26user 9.31system 1:38.88elapsed 814%CPU (0avgtext+0avgdata 111904maxresident)k\n",
      "10829424inputs+10470968outputs (0major+28990minor)pagefaults 0swaps\n",
      "samtools: /home/adrian/anaconda3/bin/../lib/libtinfow.so.6: no version information available (required by samtools)\n",
      "samtools: /home/adrian/anaconda3/bin/../lib/libncursesw.so.6: no version information available (required by samtools)\n",
      "samtools: /home/adrian/anaconda3/bin/../lib/libncursesw.so.6: no version information available (required by samtools)\n"
     ]
    },
    {
     "name": "stdout",
     "output_type": "stream",
     "text": [
      "\n",
      "time samtools merge -@ 20 /home/adrian/projects/reynisfjara/results/aggregated_bam_k243r/a4775_0h.bam /home/adrian/projects/reynisfjara/results/bam_k243r/a4775_0h_1/markdup.bam /home/adrian/projects/reynisfjara/results/bam_k243r/a4775_0h_2/markdup.bam /home/adrian/projects/reynisfjara/results/bam_k243r/a4775_0h_3/markdup.bam\n"
     ]
    },
    {
     "name": "stderr",
     "output_type": "stream",
     "text": [
      "927.55user 11.05system 2:00.04elapsed 781%CPU (0avgtext+0avgdata 145980maxresident)k\n",
      "12750352inputs+12134424outputs (0major+37536minor)pagefaults 0swaps\n",
      "samtools: /home/adrian/anaconda3/bin/../lib/libtinfow.so.6: no version information available (required by samtools)\n",
      "samtools: /home/adrian/anaconda3/bin/../lib/libncursesw.so.6: no version information available (required by samtools)\n",
      "samtools: /home/adrian/anaconda3/bin/../lib/libncursesw.so.6: no version information available (required by samtools)\n"
     ]
    },
    {
     "name": "stdout",
     "output_type": "stream",
     "text": [
      "\n",
      "time samtools merge -@ 20 /home/adrian/projects/reynisfjara/results/aggregated_bam_k243r/a4775_48h.bam /home/adrian/projects/reynisfjara/results/bam_k243r/a4775_48h_1/markdup.bam /home/adrian/projects/reynisfjara/results/bam_k243r/a4775_48h_2/markdup.bam /home/adrian/projects/reynisfjara/results/bam_k243r/a4775_48h_3/markdup.bam\n"
     ]
    },
    {
     "name": "stderr",
     "output_type": "stream",
     "text": [
      "976.74user 11.25system 2:08.42elapsed 769%CPU (0avgtext+0avgdata 146380maxresident)k\n",
      "13649784inputs+12916704outputs (0major+37605minor)pagefaults 0swaps\n",
      "samtools: /home/adrian/anaconda3/bin/../lib/libtinfow.so.6: no version information available (required by samtools)\n",
      "samtools: /home/adrian/anaconda3/bin/../lib/libncursesw.so.6: no version information available (required by samtools)\n",
      "samtools: /home/adrian/anaconda3/bin/../lib/libncursesw.so.6: no version information available (required by samtools)\n"
     ]
    },
    {
     "name": "stdout",
     "output_type": "stream",
     "text": [
      "\n",
      "time samtools merge -@ 20 /home/adrian/projects/reynisfjara/results/aggregated_bam_k243r/a4775_72h.bam /home/adrian/projects/reynisfjara/results/bam_k243r/a4775_72h_1/markdup.bam /home/adrian/projects/reynisfjara/results/bam_k243r/a4775_72h_2/markdup.bam /home/adrian/projects/reynisfjara/results/bam_k243r/a4775_72h_3/markdup.bam\n"
     ]
    },
    {
     "name": "stderr",
     "output_type": "stream",
     "text": [
      "1071.78user 12.40system 2:18.31elapsed 783%CPU (0avgtext+0avgdata 146484maxresident)k\n",
      "14839320inputs+14065856outputs (0major+37651minor)pagefaults 0swaps\n",
      "samtools: /home/adrian/anaconda3/bin/../lib/libtinfow.so.6: no version information available (required by samtools)\n",
      "samtools: /home/adrian/anaconda3/bin/../lib/libncursesw.so.6: no version information available (required by samtools)\n",
      "samtools: /home/adrian/anaconda3/bin/../lib/libncursesw.so.6: no version information available (required by samtools)\n"
     ]
    },
    {
     "name": "stdout",
     "output_type": "stream",
     "text": [
      "\n",
      "time samtools merge -@ 20 /home/adrian/projects/reynisfjara/results/aggregated_bam_k243r/a4776_0h.bam /home/adrian/projects/reynisfjara/results/bam_k243r/a4776_0h_1/markdup.bam /home/adrian/projects/reynisfjara/results/bam_k243r/a4776_0h_2/markdup.bam /home/adrian/projects/reynisfjara/results/bam_k243r/a4776_0h_3/markdup.bam\n"
     ]
    },
    {
     "name": "stderr",
     "output_type": "stream",
     "text": [
      "868.30user 10.52system 1:53.03elapsed 777%CPU (0avgtext+0avgdata 146128maxresident)k\n",
      "12023696inputs+11359560outputs (0major+37521minor)pagefaults 0swaps\n",
      "samtools: /home/adrian/anaconda3/bin/../lib/libtinfow.so.6: no version information available (required by samtools)\n",
      "samtools: /home/adrian/anaconda3/bin/../lib/libncursesw.so.6: no version information available (required by samtools)\n",
      "samtools: /home/adrian/anaconda3/bin/../lib/libncursesw.so.6: no version information available (required by samtools)\n"
     ]
    },
    {
     "name": "stdout",
     "output_type": "stream",
     "text": [
      "\n",
      "time samtools merge -@ 20 /home/adrian/projects/reynisfjara/results/aggregated_bam_k243r/a4776_48h.bam /home/adrian/projects/reynisfjara/results/bam_k243r/a4776_48h_1/markdup.bam /home/adrian/projects/reynisfjara/results/bam_k243r/a4776_48h_2/markdup.bam /home/adrian/projects/reynisfjara/results/bam_k243r/a4776_48h_3/markdup.bam\n"
     ]
    },
    {
     "name": "stderr",
     "output_type": "stream",
     "text": [
      "1128.62user 13.30system 2:26.34elapsed 780%CPU (0avgtext+0avgdata 146892maxresident)k\n",
      "15441824inputs+14653072outputs (0major+37742minor)pagefaults 0swaps\n",
      "samtools: /home/adrian/anaconda3/bin/../lib/libtinfow.so.6: no version information available (required by samtools)\n",
      "samtools: /home/adrian/anaconda3/bin/../lib/libncursesw.so.6: no version information available (required by samtools)\n",
      "samtools: /home/adrian/anaconda3/bin/../lib/libncursesw.so.6: no version information available (required by samtools)\n"
     ]
    },
    {
     "name": "stdout",
     "output_type": "stream",
     "text": [
      "\n",
      "time samtools merge -@ 20 /home/adrian/projects/reynisfjara/results/aggregated_bam_k243r/a4776_72h.bam /home/adrian/projects/reynisfjara/results/bam_k243r/a4776_72h_1/markdup.bam /home/adrian/projects/reynisfjara/results/bam_k243r/a4776_72h_2/markdup.bam /home/adrian/projects/reynisfjara/results/bam_k243r/a4776_72h_3/markdup.bam\n",
      "\n"
     ]
    },
    {
     "name": "stderr",
     "output_type": "stream",
     "text": [
      "914.84user 11.05system 1:57.52elapsed 787%CPU (0avgtext+0avgdata 146084maxresident)k\n",
      "12780040inputs+12173808outputs (0major+37528minor)pagefaults 0swaps\n"
     ]
    }
   ],
   "source": [
    "for sample in samples:\n",
    "    \n",
    "    target_folders = [element for element in bam_folders if sample in element]\n",
    "    target_folders.sort()\n",
    "    \n",
    "    target_bams = ['{}{}/markdup.bam'.format(bam_top_folder, element) for element in target_folders]\n",
    "    target_bams_string = ' '.join(target_bams)\n",
    "    \n",
    "    cmd = 'time samtools merge -@ 20 {}{}.bam {}'.format(bam_top_aggregated, sample, target_bams_string)\n",
    "    \n",
    "    print(cmd)\n",
    "    os.system(cmd)\n",
    "    print()\n"
   ]
  }
 ],
 "metadata": {
  "kernelspec": {
   "display_name": "Python 3 (ipykernel)",
   "language": "python",
   "name": "python3"
  },
  "language_info": {
   "codemirror_mode": {
    "name": "ipython",
    "version": 3
   },
   "file_extension": ".py",
   "mimetype": "text/x-python",
   "name": "python",
   "nbconvert_exporter": "python",
   "pygments_lexer": "ipython3",
   "version": "3.9.16"
  }
 },
 "nbformat": 4,
 "nbformat_minor": 5
}
