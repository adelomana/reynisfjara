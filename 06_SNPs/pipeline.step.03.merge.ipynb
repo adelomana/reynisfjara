{
 "cells": [
  {
   "cell_type": "markdown",
   "id": "f69824d6",
   "metadata": {},
   "source": [
    "This pipeline merges BAM files."
   ]
  },
  {
   "cell_type": "code",
   "execution_count": 1,
   "id": "6f29e32f",
   "metadata": {},
   "outputs": [],
   "source": [
    "import os"
   ]
  },
  {
   "cell_type": "markdown",
   "id": "d0927639",
   "metadata": {},
   "source": [
    "# user-defined variables"
   ]
  },
  {
   "cell_type": "code",
   "execution_count": 2,
   "id": "d0f68732",
   "metadata": {},
   "outputs": [],
   "source": [
    "bam_top_aggregated = '/home/adrian/projects/reynisfjara/data/aggregated_bam/'\n",
    "bam_top_folder = '/home/adrian/projects/reynisfjara/data/bam/'"
   ]
  },
  {
   "cell_type": "markdown",
   "id": "34bc925b",
   "metadata": {},
   "source": [
    "# define function"
   ]
  },
  {
   "cell_type": "code",
   "execution_count": 3,
   "id": "bf91ab29",
   "metadata": {},
   "outputs": [],
   "source": [
    "# time samtools merge -@ 20 -o out.bam markdup.bam markdup2.bam"
   ]
  },
  {
   "cell_type": "markdown",
   "id": "47f6895e",
   "metadata": {},
   "source": [
    "# read data"
   ]
  },
  {
   "cell_type": "code",
   "execution_count": 4,
   "id": "63feed69",
   "metadata": {},
   "outputs": [],
   "source": [
    "bam_folders = os.listdir(bam_top_folder)"
   ]
  },
  {
   "cell_type": "code",
   "execution_count": 5,
   "id": "52ef32e3",
   "metadata": {},
   "outputs": [
    {
     "name": "stdout",
     "output_type": "stream",
     "text": [
      "['a3922_0h', 'a3922_48h', 'a3922_72h', 'a4774_0h', 'a4774_48h', 'a4774_72h', 'a4775_0h', 'a4775_48h', 'a4775_72h', 'a4776_0h', 'a4776_48h', 'a4776_72h']\n"
     ]
    }
   ],
   "source": [
    "samples = ['_'.join(element.split('_')[:2]) for element in bam_folders]\n",
    "samples = list(set(samples))\n",
    "samples.sort()\n",
    "print(samples)"
   ]
  },
  {
   "cell_type": "markdown",
   "id": "8af188a2-6a61-4018-803e-adf3997d51b9",
   "metadata": {},
   "source": [
    "# merge"
   ]
  },
  {
   "cell_type": "code",
   "execution_count": 6,
   "id": "87b7b9b2-dc10-4c67-a2ac-0b3cc4eda952",
   "metadata": {},
   "outputs": [
    {
     "name": "stdout",
     "output_type": "stream",
     "text": [
      "time samtools merge -@ 20 /home/adrian/projects/reynisfjara/data/aggregated_bam/a3922_0h.bam /home/adrian/projects/reynisfjara/data/bam/a3922_0h_1/markdup.bam /home/adrian/projects/reynisfjara/data/bam/a3922_0h_2/markdup.bam /home/adrian/projects/reynisfjara/data/bam/a3922_0h_3/markdup.bam\n"
     ]
    },
    {
     "name": "stderr",
     "output_type": "stream",
     "text": [
      "samtools: /home/adrian/anaconda3/bin/../lib/libtinfow.so.6: no version information available (required by samtools)\n",
      "samtools: /home/adrian/anaconda3/bin/../lib/libncursesw.so.6: no version information available (required by samtools)\n",
      "samtools: /home/adrian/anaconda3/bin/../lib/libncursesw.so.6: no version information available (required by samtools)\n",
      "758.94user 7.20system 1:16.74elapsed 998%CPU (0avgtext+0avgdata 146360maxresident)k\n",
      "544inputs+13182456outputs (0major+37641minor)pagefaults 0swaps\n",
      "samtools: /home/adrian/anaconda3/bin/../lib/libtinfow.so.6: no version information available (required by samtools)\n",
      "samtools: /home/adrian/anaconda3/bin/../lib/libncursesw.so.6: no version information available (required by samtools)\n",
      "samtools: /home/adrian/anaconda3/bin/../lib/libncursesw.so.6: no version information available (required by samtools)\n"
     ]
    },
    {
     "name": "stdout",
     "output_type": "stream",
     "text": [
      "\n",
      "time samtools merge -@ 20 /home/adrian/projects/reynisfjara/data/aggregated_bam/a3922_48h.bam /home/adrian/projects/reynisfjara/data/bam/a3922_48h_1/markdup.bam /home/adrian/projects/reynisfjara/data/bam/a3922_48h_2/markdup.bam /home/adrian/projects/reynisfjara/data/bam/a3922_48h_3/markdup.bam\n"
     ]
    },
    {
     "name": "stderr",
     "output_type": "stream",
     "text": [
      "684.42user 7.82system 1:16.71elapsed 902%CPU (0avgtext+0avgdata 146360maxresident)k\n",
      "12336896inputs+11658280outputs (0major+37607minor)pagefaults 0swaps\n",
      "samtools: /home/adrian/anaconda3/bin/../lib/libtinfow.so.6: no version information available (required by samtools)\n",
      "samtools: /home/adrian/anaconda3/bin/../lib/libncursesw.so.6: no version information available (required by samtools)\n",
      "samtools: /home/adrian/anaconda3/bin/../lib/libncursesw.so.6: no version information available (required by samtools)\n"
     ]
    },
    {
     "name": "stdout",
     "output_type": "stream",
     "text": [
      "\n",
      "time samtools merge -@ 20 /home/adrian/projects/reynisfjara/data/aggregated_bam/a3922_72h.bam /home/adrian/projects/reynisfjara/data/bam/a3922_72h_1/markdup.bam /home/adrian/projects/reynisfjara/data/bam/a3922_72h_2/markdup.bam /home/adrian/projects/reynisfjara/data/bam/a3922_72h_3/markdup.bam\n"
     ]
    },
    {
     "name": "stderr",
     "output_type": "stream",
     "text": [
      "802.77user 8.94system 1:30.82elapsed 893%CPU (0avgtext+0avgdata 146388maxresident)k\n",
      "14436912inputs+13677512outputs (0major+37610minor)pagefaults 0swaps\n",
      "samtools: /home/adrian/anaconda3/bin/../lib/libtinfow.so.6: no version information available (required by samtools)\n",
      "samtools: /home/adrian/anaconda3/bin/../lib/libncursesw.so.6: no version information available (required by samtools)\n",
      "samtools: /home/adrian/anaconda3/bin/../lib/libncursesw.so.6: no version information available (required by samtools)\n"
     ]
    },
    {
     "name": "stdout",
     "output_type": "stream",
     "text": [
      "\n",
      "time samtools merge -@ 20 /home/adrian/projects/reynisfjara/data/aggregated_bam/a4774_0h.bam /home/adrian/projects/reynisfjara/data/bam/a4774_0h_1/markdup.bam /home/adrian/projects/reynisfjara/data/bam/a4774_0h_2/markdup.bam /home/adrian/projects/reynisfjara/data/bam/a4774_0h_3/markdup.bam\n"
     ]
    },
    {
     "name": "stderr",
     "output_type": "stream",
     "text": [
      "665.40user 7.21system 1:16.61elapsed 877%CPU (0avgtext+0avgdata 146392maxresident)k\n",
      "12365352inputs+11689504outputs (1major+37599minor)pagefaults 0swaps\n",
      "samtools: /home/adrian/anaconda3/bin/../lib/libtinfow.so.6: no version information available (required by samtools)\n",
      "samtools: /home/adrian/anaconda3/bin/../lib/libncursesw.so.6: no version information available (required by samtools)\n",
      "samtools: /home/adrian/anaconda3/bin/../lib/libncursesw.so.6: no version information available (required by samtools)\n"
     ]
    },
    {
     "name": "stdout",
     "output_type": "stream",
     "text": [
      "\n",
      "time samtools merge -@ 20 /home/adrian/projects/reynisfjara/data/aggregated_bam/a4774_48h.bam /home/adrian/projects/reynisfjara/data/bam/a4774_48h_1/markdup.bam /home/adrian/projects/reynisfjara/data/bam/a4774_48h_2/markdup.bam /home/adrian/projects/reynisfjara/data/bam/a4774_48h_3/markdup.bam\n"
     ]
    },
    {
     "name": "stderr",
     "output_type": "stream",
     "text": [
      "717.00user 8.39system 1:19.99elapsed 906%CPU (0avgtext+0avgdata 146292maxresident)k\n",
      "13171312inputs+12460984outputs (11major+37597minor)pagefaults 0swaps\n",
      "samtools: /home/adrian/anaconda3/bin/../lib/libtinfow.so.6: no version information available (required by samtools)\n",
      "samtools: /home/adrian/anaconda3/bin/../lib/libncursesw.so.6: no version information available (required by samtools)\n",
      "samtools: /home/adrian/anaconda3/bin/../lib/libncursesw.so.6: no version information available (required by samtools)\n"
     ]
    },
    {
     "name": "stdout",
     "output_type": "stream",
     "text": [
      "\n",
      "time samtools merge -@ 20 /home/adrian/projects/reynisfjara/data/aggregated_bam/a4774_72h.bam /home/adrian/projects/reynisfjara/data/bam/a4774_72h_1/markdup.bam /home/adrian/projects/reynisfjara/data/bam/a4774_72h_2/markdup.bam\n"
     ]
    },
    {
     "name": "stderr",
     "output_type": "stream",
     "text": [
      "595.35user 6.82system 1:06.63elapsed 903%CPU (0avgtext+0avgdata 111780maxresident)k\n",
      "10829416inputs+10471080outputs (0major+28956minor)pagefaults 0swaps\n",
      "samtools: /home/adrian/anaconda3/bin/../lib/libtinfow.so.6: no version information available (required by samtools)\n",
      "samtools: /home/adrian/anaconda3/bin/../lib/libncursesw.so.6: no version information available (required by samtools)\n",
      "samtools: /home/adrian/anaconda3/bin/../lib/libncursesw.so.6: no version information available (required by samtools)\n"
     ]
    },
    {
     "name": "stdout",
     "output_type": "stream",
     "text": [
      "\n",
      "time samtools merge -@ 20 /home/adrian/projects/reynisfjara/data/aggregated_bam/a4775_0h.bam /home/adrian/projects/reynisfjara/data/bam/a4775_0h_1/markdup.bam /home/adrian/projects/reynisfjara/data/bam/a4775_0h_2/markdup.bam /home/adrian/projects/reynisfjara/data/bam/a4775_0h_3/markdup.bam\n"
     ]
    },
    {
     "name": "stderr",
     "output_type": "stream",
     "text": [
      "709.78user 7.98system 1:18.60elapsed 913%CPU (0avgtext+0avgdata 146220maxresident)k\n",
      "12750256inputs+12134760outputs (0major+37606minor)pagefaults 0swaps\n",
      "samtools: /home/adrian/anaconda3/bin/../lib/libtinfow.so.6: no version information available (required by samtools)\n",
      "samtools: /home/adrian/anaconda3/bin/../lib/libncursesw.so.6: no version information available (required by samtools)\n",
      "samtools: /home/adrian/anaconda3/bin/../lib/libncursesw.so.6: no version information available (required by samtools)\n"
     ]
    },
    {
     "name": "stdout",
     "output_type": "stream",
     "text": [
      "\n",
      "time samtools merge -@ 20 /home/adrian/projects/reynisfjara/data/aggregated_bam/a4775_48h.bam /home/adrian/projects/reynisfjara/data/bam/a4775_48h_1/markdup.bam /home/adrian/projects/reynisfjara/data/bam/a4775_48h_2/markdup.bam /home/adrian/projects/reynisfjara/data/bam/a4775_48h_3/markdup.bam\n"
     ]
    },
    {
     "name": "stderr",
     "output_type": "stream",
     "text": [
      "735.72user 8.32system 1:31.01elapsed 817%CPU (0avgtext+0avgdata 146220maxresident)k\n",
      "13649632inputs+12916920outputs (0major+37627minor)pagefaults 0swaps\n",
      "samtools: /home/adrian/anaconda3/bin/../lib/libtinfow.so.6: no version information available (required by samtools)\n",
      "samtools: /home/adrian/anaconda3/bin/../lib/libncursesw.so.6: no version information available (required by samtools)\n",
      "samtools: /home/adrian/anaconda3/bin/../lib/libncursesw.so.6: no version information available (required by samtools)\n"
     ]
    },
    {
     "name": "stdout",
     "output_type": "stream",
     "text": [
      "\n",
      "time samtools merge -@ 20 /home/adrian/projects/reynisfjara/data/aggregated_bam/a4775_72h.bam /home/adrian/projects/reynisfjara/data/bam/a4775_72h_1/markdup.bam /home/adrian/projects/reynisfjara/data/bam/a4775_72h_2/markdup.bam /home/adrian/projects/reynisfjara/data/bam/a4775_72h_3/markdup.bam\n"
     ]
    },
    {
     "name": "stderr",
     "output_type": "stream",
     "text": [
      "822.33user 9.80system 1:47.37elapsed 774%CPU (0avgtext+0avgdata 146252maxresident)k\n",
      "14839216inputs+14066016outputs (0major+37641minor)pagefaults 0swaps\n",
      "samtools: /home/adrian/anaconda3/bin/../lib/libtinfow.so.6: no version information available (required by samtools)\n",
      "samtools: /home/adrian/anaconda3/bin/../lib/libncursesw.so.6: no version information available (required by samtools)\n",
      "samtools: /home/adrian/anaconda3/bin/../lib/libncursesw.so.6: no version information available (required by samtools)\n"
     ]
    },
    {
     "name": "stdout",
     "output_type": "stream",
     "text": [
      "\n",
      "time samtools merge -@ 20 /home/adrian/projects/reynisfjara/data/aggregated_bam/a4776_0h.bam /home/adrian/projects/reynisfjara/data/bam/a4776_0h_1/markdup.bam /home/adrian/projects/reynisfjara/data/bam/a4776_0h_2/markdup.bam /home/adrian/projects/reynisfjara/data/bam/a4776_0h_3/markdup.bam\n"
     ]
    },
    {
     "name": "stderr",
     "output_type": "stream",
     "text": [
      "669.71user 7.61system 1:25.23elapsed 794%CPU (0avgtext+0avgdata 146268maxresident)k\n",
      "12024008inputs+11359800outputs (0major+37604minor)pagefaults 0swaps\n",
      "samtools: /home/adrian/anaconda3/bin/../lib/libtinfow.so.6: no version information available (required by samtools)\n",
      "samtools: /home/adrian/anaconda3/bin/../lib/libncursesw.so.6: no version information available (required by samtools)\n",
      "samtools: /home/adrian/anaconda3/bin/../lib/libncursesw.so.6: no version information available (required by samtools)\n"
     ]
    },
    {
     "name": "stdout",
     "output_type": "stream",
     "text": [
      "\n",
      "time samtools merge -@ 20 /home/adrian/projects/reynisfjara/data/aggregated_bam/a4776_48h.bam /home/adrian/projects/reynisfjara/data/bam/a4776_48h_1/markdup.bam /home/adrian/projects/reynisfjara/data/bam/a4776_48h_2/markdup.bam /home/adrian/projects/reynisfjara/data/bam/a4776_48h_3/markdup.bam\n"
     ]
    },
    {
     "name": "stderr",
     "output_type": "stream",
     "text": [
      "865.96user 9.77system 1:53.67elapsed 770%CPU (0avgtext+0avgdata 146300maxresident)k\n",
      "15441568inputs+14653144outputs (0major+37615minor)pagefaults 0swaps\n",
      "samtools: /home/adrian/anaconda3/bin/../lib/libtinfow.so.6: no version information available (required by samtools)\n",
      "samtools: /home/adrian/anaconda3/bin/../lib/libncursesw.so.6: no version information available (required by samtools)\n",
      "samtools: /home/adrian/anaconda3/bin/../lib/libncursesw.so.6: no version information available (required by samtools)\n"
     ]
    },
    {
     "name": "stdout",
     "output_type": "stream",
     "text": [
      "\n",
      "time samtools merge -@ 20 /home/adrian/projects/reynisfjara/data/aggregated_bam/a4776_72h.bam /home/adrian/projects/reynisfjara/data/bam/a4776_72h_1/markdup.bam /home/adrian/projects/reynisfjara/data/bam/a4776_72h_2/markdup.bam /home/adrian/projects/reynisfjara/data/bam/a4776_72h_3/markdup.bam\n",
      "\n"
     ]
    },
    {
     "name": "stderr",
     "output_type": "stream",
     "text": [
      "715.88user 8.55system 1:29.45elapsed 809%CPU (0avgtext+0avgdata 146392maxresident)k\n",
      "12781000inputs+12173808outputs (0major+37607minor)pagefaults 0swaps\n"
     ]
    }
   ],
   "source": [
    "for sample in samples:\n",
    "    \n",
    "    target_folders = [element for element in bam_folders if sample in element]\n",
    "    target_folders.sort()\n",
    "    \n",
    "    target_bams = ['{}{}/markdup.bam'.format(bam_top_folder, element) for element in target_folders]\n",
    "    target_bams_string = ' '.join(target_bams)\n",
    "    \n",
    "    cmd = 'time samtools merge -@ 20 {}{}.bam {}'.format(bam_top_aggregated, sample, target_bams_string)\n",
    "    \n",
    "    print(cmd)\n",
    "    os.system(cmd)\n",
    "    print()\n"
   ]
  }
 ],
 "metadata": {
  "kernelspec": {
   "display_name": "Python 3 (ipykernel)",
   "language": "python",
   "name": "python3"
  },
  "language_info": {
   "codemirror_mode": {
    "name": "ipython",
    "version": 3
   },
   "file_extension": ".py",
   "mimetype": "text/x-python",
   "name": "python",
   "nbconvert_exporter": "python",
   "pygments_lexer": "ipython3",
   "version": "3.9.16"
  }
 },
 "nbformat": 4,
 "nbformat_minor": 5
}
