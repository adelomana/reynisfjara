{
 "cells": [
  {
   "cell_type": "markdown",
   "id": "f69824d6",
   "metadata": {},
   "source": [
    "This pipeline merges BAM files."
   ]
  },
  {
   "cell_type": "code",
   "execution_count": 1,
   "id": "6f29e32f",
   "metadata": {},
   "outputs": [],
   "source": [
    "import os"
   ]
  },
  {
   "cell_type": "markdown",
   "id": "d0927639",
   "metadata": {},
   "source": [
    "# user-defined variables"
   ]
  },
  {
   "cell_type": "code",
   "execution_count": 2,
   "id": "d0f68732",
   "metadata": {},
   "outputs": [],
   "source": [
    "bam_top_aggregated = '/home/adrian/projects/reynisfjara/results/aggregated_bam/'\n",
    "bam_top_folder = '/home/adrian/projects/reynisfjara/results/bam/'"
   ]
  },
  {
   "cell_type": "markdown",
   "id": "34bc925b",
   "metadata": {},
   "source": [
    "# define function"
   ]
  },
  {
   "cell_type": "markdown",
   "id": "47f6895e",
   "metadata": {},
   "source": [
    "# read data"
   ]
  },
  {
   "cell_type": "code",
   "execution_count": 3,
   "id": "63feed69",
   "metadata": {},
   "outputs": [],
   "source": [
    "bam_folders = os.listdir(bam_top_folder)"
   ]
  },
  {
   "cell_type": "code",
   "execution_count": 4,
   "id": "52ef32e3",
   "metadata": {},
   "outputs": [
    {
     "name": "stdout",
     "output_type": "stream",
     "text": [
      "['a3922_0h', 'a3922_48h', 'a3922_72h', 'a4774_0h', 'a4774_48h', 'a4774_72h', 'a4775_0h', 'a4775_48h', 'a4775_72h', 'a4776_0h', 'a4776_48h', 'a4776_72h']\n"
     ]
    }
   ],
   "source": [
    "samples = ['_'.join(element.split('_')[:2]) for element in bam_folders]\n",
    "samples = list(set(samples))\n",
    "samples.sort()\n",
    "print(samples)"
   ]
  },
  {
   "cell_type": "markdown",
   "id": "8af188a2-6a61-4018-803e-adf3997d51b9",
   "metadata": {},
   "source": [
    "# merge"
   ]
  },
  {
   "cell_type": "code",
   "execution_count": 5,
   "id": "87b7b9b2-dc10-4c67-a2ac-0b3cc4eda952",
   "metadata": {},
   "outputs": [
    {
     "name": "stdout",
     "output_type": "stream",
     "text": [
      "time samtools merge -@ 20 /home/adrian/projects/reynisfjara/results/aggregated_bam/a3922_0h.bam /home/adrian/projects/reynisfjara/results/bam/a3922_0h_1/markdup.bam /home/adrian/projects/reynisfjara/results/bam/a3922_0h_2/markdup.bam /home/adrian/projects/reynisfjara/results/bam/a3922_0h_3/markdup.bam\n"
     ]
    },
    {
     "name": "stderr",
     "output_type": "stream",
     "text": [
      "samtools: /home/adrian/anaconda3/bin/../lib/libtinfow.so.6: no version information available (required by samtools)\n",
      "samtools: /home/adrian/anaconda3/bin/../lib/libncursesw.so.6: no version information available (required by samtools)\n",
      "samtools: /home/adrian/anaconda3/bin/../lib/libncursesw.so.6: no version information available (required by samtools)\n",
      "724.03user 8.11system 1:24.33elapsed 868%CPU (0avgtext+0avgdata 146312maxresident)k\n",
      "13838120inputs+13182424outputs (1major+37608minor)pagefaults 0swaps\n",
      "samtools: /home/adrian/anaconda3/bin/../lib/libtinfow.so.6: no version information available (required by samtools)\n",
      "samtools: /home/adrian/anaconda3/bin/../lib/libncursesw.so.6: no version information available (required by samtools)\n",
      "samtools: /home/adrian/anaconda3/bin/../lib/libncursesw.so.6: no version information available (required by samtools)\n"
     ]
    },
    {
     "name": "stdout",
     "output_type": "stream",
     "text": [
      "\n",
      "time samtools merge -@ 20 /home/adrian/projects/reynisfjara/results/aggregated_bam/a3922_48h.bam /home/adrian/projects/reynisfjara/results/bam/a3922_48h_1/markdup.bam /home/adrian/projects/reynisfjara/results/bam/a3922_48h_2/markdup.bam /home/adrian/projects/reynisfjara/results/bam/a3922_48h_3/markdup.bam\n"
     ]
    },
    {
     "name": "stderr",
     "output_type": "stream",
     "text": [
      "655.16user 7.31system 1:14.18elapsed 892%CPU (0avgtext+0avgdata 146432maxresident)k\n",
      "12336256inputs+11658288outputs (0major+37604minor)pagefaults 0swaps\n",
      "samtools: /home/adrian/anaconda3/bin/../lib/libtinfow.so.6: no version information available (required by samtools)\n",
      "samtools: /home/adrian/anaconda3/bin/../lib/libncursesw.so.6: no version information available (required by samtools)\n",
      "samtools: /home/adrian/anaconda3/bin/../lib/libncursesw.so.6: no version information available (required by samtools)\n"
     ]
    },
    {
     "name": "stdout",
     "output_type": "stream",
     "text": [
      "\n",
      "time samtools merge -@ 20 /home/adrian/projects/reynisfjara/results/aggregated_bam/a3922_72h.bam /home/adrian/projects/reynisfjara/results/bam/a3922_72h_1/markdup.bam /home/adrian/projects/reynisfjara/results/bam/a3922_72h_2/markdup.bam /home/adrian/projects/reynisfjara/results/bam/a3922_72h_3/markdup.bam\n"
     ]
    },
    {
     "name": "stderr",
     "output_type": "stream",
     "text": [
      "792.91user 8.84system 1:28.49elapsed 905%CPU (0avgtext+0avgdata 146280maxresident)k\n",
      "14436216inputs+13677472outputs (0major+37606minor)pagefaults 0swaps\n",
      "samtools: /home/adrian/anaconda3/bin/../lib/libtinfow.so.6: no version information available (required by samtools)\n",
      "samtools: /home/adrian/anaconda3/bin/../lib/libncursesw.so.6: no version information available (required by samtools)\n",
      "samtools: /home/adrian/anaconda3/bin/../lib/libncursesw.so.6: no version information available (required by samtools)\n"
     ]
    },
    {
     "name": "stdout",
     "output_type": "stream",
     "text": [
      "\n",
      "time samtools merge -@ 20 /home/adrian/projects/reynisfjara/results/aggregated_bam/a4774_0h.bam /home/adrian/projects/reynisfjara/results/bam/a4774_0h_1/markdup.bam /home/adrian/projects/reynisfjara/results/bam/a4774_0h_2/markdup.bam /home/adrian/projects/reynisfjara/results/bam/a4774_0h_3/markdup.bam\n"
     ]
    },
    {
     "name": "stderr",
     "output_type": "stream",
     "text": [
      "672.02user 7.81system 1:14.42elapsed 913%CPU (0avgtext+0avgdata 146972maxresident)k\n",
      "12364720inputs+11689368outputs (0major+37759minor)pagefaults 0swaps\n",
      "samtools: /home/adrian/anaconda3/bin/../lib/libtinfow.so.6: no version information available (required by samtools)\n",
      "samtools: /home/adrian/anaconda3/bin/../lib/libncursesw.so.6: no version information available (required by samtools)\n",
      "samtools: /home/adrian/anaconda3/bin/../lib/libncursesw.so.6: no version information available (required by samtools)\n"
     ]
    },
    {
     "name": "stdout",
     "output_type": "stream",
     "text": [
      "\n",
      "time samtools merge -@ 20 /home/adrian/projects/reynisfjara/results/aggregated_bam/a4774_48h.bam /home/adrian/projects/reynisfjara/results/bam/a4774_48h_1/markdup.bam /home/adrian/projects/reynisfjara/results/bam/a4774_48h_2/markdup.bam /home/adrian/projects/reynisfjara/results/bam/a4774_48h_3/markdup.bam\n"
     ]
    },
    {
     "name": "stderr",
     "output_type": "stream",
     "text": [
      "719.82user 8.23system 1:21.66elapsed 891%CPU (0avgtext+0avgdata 146412maxresident)k\n",
      "13169160inputs+12460992outputs (0major+37648minor)pagefaults 0swaps\n",
      "samtools: /home/adrian/anaconda3/bin/../lib/libtinfow.so.6: no version information available (required by samtools)\n",
      "samtools: /home/adrian/anaconda3/bin/../lib/libncursesw.so.6: no version information available (required by samtools)\n",
      "samtools: /home/adrian/anaconda3/bin/../lib/libncursesw.so.6: no version information available (required by samtools)\n"
     ]
    },
    {
     "name": "stdout",
     "output_type": "stream",
     "text": [
      "\n",
      "time samtools merge -@ 20 /home/adrian/projects/reynisfjara/results/aggregated_bam/a4774_72h.bam /home/adrian/projects/reynisfjara/results/bam/a4774_72h_1/markdup.bam /home/adrian/projects/reynisfjara/results/bam/a4774_72h_2/markdup.bam\n"
     ]
    },
    {
     "name": "stderr",
     "output_type": "stream",
     "text": [
      "594.68user 6.80system 1:06.25elapsed 907%CPU (0avgtext+0avgdata 111708maxresident)k\n",
      "10829184inputs+10470952outputs (0major+28974minor)pagefaults 0swaps\n",
      "samtools: /home/adrian/anaconda3/bin/../lib/libtinfow.so.6: no version information available (required by samtools)\n",
      "samtools: /home/adrian/anaconda3/bin/../lib/libncursesw.so.6: no version information available (required by samtools)\n",
      "samtools: /home/adrian/anaconda3/bin/../lib/libncursesw.so.6: no version information available (required by samtools)\n"
     ]
    },
    {
     "name": "stdout",
     "output_type": "stream",
     "text": [
      "\n",
      "time samtools merge -@ 20 /home/adrian/projects/reynisfjara/results/aggregated_bam/a4775_0h.bam /home/adrian/projects/reynisfjara/results/bam/a4775_0h_1/markdup.bam /home/adrian/projects/reynisfjara/results/bam/a4775_0h_2/markdup.bam /home/adrian/projects/reynisfjara/results/bam/a4775_0h_3/markdup.bam\n"
     ]
    },
    {
     "name": "stderr",
     "output_type": "stream",
     "text": [
      "726.86user 8.32system 1:27.63elapsed 838%CPU (0avgtext+0avgdata 146840maxresident)k\n",
      "12749376inputs+12134736outputs (0major+37864minor)pagefaults 0swaps\n",
      "samtools: /home/adrian/anaconda3/bin/../lib/libtinfow.so.6: no version information available (required by samtools)\n",
      "samtools: /home/adrian/anaconda3/bin/../lib/libncursesw.so.6: no version information available (required by samtools)\n",
      "samtools: /home/adrian/anaconda3/bin/../lib/libncursesw.so.6: no version information available (required by samtools)\n"
     ]
    },
    {
     "name": "stdout",
     "output_type": "stream",
     "text": [
      "\n",
      "time samtools merge -@ 20 /home/adrian/projects/reynisfjara/results/aggregated_bam/a4775_48h.bam /home/adrian/projects/reynisfjara/results/bam/a4775_48h_1/markdup.bam /home/adrian/projects/reynisfjara/results/bam/a4775_48h_2/markdup.bam /home/adrian/projects/reynisfjara/results/bam/a4775_48h_3/markdup.bam\n"
     ]
    },
    {
     "name": "stderr",
     "output_type": "stream",
     "text": [
      "737.04user 8.31system 1:36.92elapsed 768%CPU (0avgtext+0avgdata 146328maxresident)k\n",
      "13648968inputs+12916752outputs (0major+37630minor)pagefaults 0swaps\n",
      "samtools: /home/adrian/anaconda3/bin/../lib/libtinfow.so.6: no version information available (required by samtools)\n",
      "samtools: /home/adrian/anaconda3/bin/../lib/libncursesw.so.6: no version information available (required by samtools)\n",
      "samtools: /home/adrian/anaconda3/bin/../lib/libncursesw.so.6: no version information available (required by samtools)\n"
     ]
    },
    {
     "name": "stdout",
     "output_type": "stream",
     "text": [
      "\n",
      "time samtools merge -@ 20 /home/adrian/projects/reynisfjara/results/aggregated_bam/a4775_72h.bam /home/adrian/projects/reynisfjara/results/bam/a4775_72h_1/markdup.bam /home/adrian/projects/reynisfjara/results/bam/a4775_72h_2/markdup.bam /home/adrian/projects/reynisfjara/results/bam/a4775_72h_3/markdup.bam\n"
     ]
    },
    {
     "name": "stderr",
     "output_type": "stream",
     "text": [
      "816.70user 8.98system 1:40.33elapsed 822%CPU (0avgtext+0avgdata 147084maxresident)k\n",
      "14838464inputs+14065896outputs (0major+37782minor)pagefaults 0swaps\n",
      "samtools: /home/adrian/anaconda3/bin/../lib/libtinfow.so.6: no version information available (required by samtools)\n",
      "samtools: /home/adrian/anaconda3/bin/../lib/libncursesw.so.6: no version information available (required by samtools)\n",
      "samtools: /home/adrian/anaconda3/bin/../lib/libncursesw.so.6: no version information available (required by samtools)\n"
     ]
    },
    {
     "name": "stdout",
     "output_type": "stream",
     "text": [
      "\n",
      "time samtools merge -@ 20 /home/adrian/projects/reynisfjara/results/aggregated_bam/a4776_0h.bam /home/adrian/projects/reynisfjara/results/bam/a4776_0h_1/markdup.bam /home/adrian/projects/reynisfjara/results/bam/a4776_0h_2/markdup.bam /home/adrian/projects/reynisfjara/results/bam/a4776_0h_3/markdup.bam\n"
     ]
    },
    {
     "name": "stderr",
     "output_type": "stream",
     "text": [
      "648.79user 7.08system 1:23.96elapsed 781%CPU (0avgtext+0avgdata 147588maxresident)k\n",
      "12023368inputs+11359872outputs (0major+37924minor)pagefaults 0swaps\n",
      "samtools: /home/adrian/anaconda3/bin/../lib/libtinfow.so.6: no version information available (required by samtools)\n",
      "samtools: /home/adrian/anaconda3/bin/../lib/libncursesw.so.6: no version information available (required by samtools)\n",
      "samtools: /home/adrian/anaconda3/bin/../lib/libncursesw.so.6: no version information available (required by samtools)\n"
     ]
    },
    {
     "name": "stdout",
     "output_type": "stream",
     "text": [
      "\n",
      "time samtools merge -@ 20 /home/adrian/projects/reynisfjara/results/aggregated_bam/a4776_48h.bam /home/adrian/projects/reynisfjara/results/bam/a4776_48h_1/markdup.bam /home/adrian/projects/reynisfjara/results/bam/a4776_48h_2/markdup.bam /home/adrian/projects/reynisfjara/results/bam/a4776_48h_3/markdup.bam\n"
     ]
    },
    {
     "name": "stderr",
     "output_type": "stream",
     "text": [
      "830.28user 9.30system 1:42.94elapsed 815%CPU (0avgtext+0avgdata 146308maxresident)k\n",
      "15441088inputs+14653120outputs (0major+37736minor)pagefaults 0swaps\n",
      "samtools: /home/adrian/anaconda3/bin/../lib/libtinfow.so.6: no version information available (required by samtools)\n",
      "samtools: /home/adrian/anaconda3/bin/../lib/libncursesw.so.6: no version information available (required by samtools)\n",
      "samtools: /home/adrian/anaconda3/bin/../lib/libncursesw.so.6: no version information available (required by samtools)\n"
     ]
    },
    {
     "name": "stdout",
     "output_type": "stream",
     "text": [
      "\n",
      "time samtools merge -@ 20 /home/adrian/projects/reynisfjara/results/aggregated_bam/a4776_72h.bam /home/adrian/projects/reynisfjara/results/bam/a4776_72h_1/markdup.bam /home/adrian/projects/reynisfjara/results/bam/a4776_72h_2/markdup.bam /home/adrian/projects/reynisfjara/results/bam/a4776_72h_3/markdup.bam\n",
      "\n"
     ]
    },
    {
     "name": "stderr",
     "output_type": "stream",
     "text": [
      "697.90user 8.01system 1:28.65elapsed 796%CPU (0avgtext+0avgdata 146364maxresident)k\n",
      "12780440inputs+12173576outputs (0major+37613minor)pagefaults 0swaps\n"
     ]
    }
   ],
   "source": [
    "for sample in samples:\n",
    "    \n",
    "    target_folders = [element for element in bam_folders if sample in element]\n",
    "    target_folders.sort()\n",
    "    \n",
    "    target_bams = ['{}{}/markdup.bam'.format(bam_top_folder, element) for element in target_folders]\n",
    "    target_bams_string = ' '.join(target_bams)\n",
    "    \n",
    "    cmd = 'time samtools merge -@ 20 {}{}.bam {}'.format(bam_top_aggregated, sample, target_bams_string)\n",
    "    \n",
    "    print(cmd)\n",
    "    os.system(cmd)\n",
    "    print()\n"
   ]
  }
 ],
 "metadata": {
  "kernelspec": {
   "display_name": "Python 3 (ipykernel)",
   "language": "python",
   "name": "python3"
  },
  "language_info": {
   "codemirror_mode": {
    "name": "ipython",
    "version": 3
   },
   "file_extension": ".py",
   "mimetype": "text/x-python",
   "name": "python",
   "nbconvert_exporter": "python",
   "pygments_lexer": "ipython3",
   "version": "3.9.16"
  }
 },
 "nbformat": 4,
 "nbformat_minor": 5
}
