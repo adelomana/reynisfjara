{
 "cells": [
  {
   "cell_type": "markdown",
   "id": "5af3b340",
   "metadata": {},
   "source": [
    "This pipeline sorts and removes duplicates of BAM files."
   ]
  },
  {
   "cell_type": "code",
   "execution_count": 1,
   "id": "01981558",
   "metadata": {},
   "outputs": [],
   "source": [
    "import os"
   ]
  },
  {
   "cell_type": "markdown",
   "id": "304d3d74",
   "metadata": {},
   "source": [
    "# user-defined variables"
   ]
  },
  {
   "cell_type": "code",
   "execution_count": 2,
   "id": "9a76c6b8",
   "metadata": {},
   "outputs": [],
   "source": [
    "bam_top_folder = '/home/adrian/projects/reynisfjara/data/bam/'\n",
    "bam_top_aggregated = '/home/adrian/projects/reynisfjara/data/aggregated_bam/'"
   ]
  },
  {
   "cell_type": "markdown",
   "id": "41f4280a",
   "metadata": {},
   "source": [
    "# sort and mark duplicates on individual BAM files"
   ]
  },
  {
   "cell_type": "code",
   "execution_count": 3,
   "id": "15e63501",
   "metadata": {},
   "outputs": [],
   "source": [
    "bam_folders = os.listdir(bam_top_folder)\n",
    "bam_folders.sort()"
   ]
  },
  {
   "cell_type": "code",
   "execution_count": 4,
   "id": "947c9fd1-538b-44c6-a91f-56dd52006266",
   "metadata": {},
   "outputs": [
    {
     "name": "stdout",
     "output_type": "stream",
     "text": [
      "time samtools sort -@ 20 -n -o /home/adrian/projects/reynisfjara/data/bam/a3922_0h_1/namesort.bam /home/adrian/projects/reynisfjara/data/bam/a3922_0h_1/a3922_0h_1.bam\n"
     ]
    },
    {
     "name": "stderr",
     "output_type": "stream",
     "text": [
      "samtools: /home/adrian/anaconda3/bin/../lib/libtinfow.so.6: no version information available (required by samtools)\n",
      "samtools: /home/adrian/anaconda3/bin/../lib/libncursesw.so.6: no version information available (required by samtools)\n",
      "samtools: /home/adrian/anaconda3/bin/../lib/libncursesw.so.6: no version information available (required by samtools)\n",
      "[bam_sort_core] merging from 1 files and 20 in-memory blocks...\n",
      "757.52user 19.59system 0:59.27elapsed 1311%CPU (0avgtext+0avgdata 17568444maxresident)k\n",
      "17502312inputs+17517616outputs (1major+4486740minor)pagefaults 0swaps\n",
      "samtools: /home/adrian/anaconda3/bin/../lib/libtinfow.so.6: no version information available (required by samtools)\n",
      "samtools: /home/adrian/anaconda3/bin/../lib/libncursesw.so.6: no version information available (required by samtools)\n",
      "samtools: /home/adrian/anaconda3/bin/../lib/libncursesw.so.6: no version information available (required by samtools)\n"
     ]
    },
    {
     "name": "stdout",
     "output_type": "stream",
     "text": [
      "time samtools fixmate -@ 20 -m /home/adrian/projects/reynisfjara/data/bam/a3922_0h_1/namesort.bam /home/adrian/projects/reynisfjara/data/bam/a3922_0h_1/fixmate.bam\n"
     ]
    },
    {
     "name": "stderr",
     "output_type": "stream",
     "text": [
      "420.03user 10.02system 0:35.89elapsed 1197%CPU (0avgtext+0avgdata 52140maxresident)k\n",
      "3561544inputs+10242696outputs (14major+14143minor)pagefaults 0swaps\n",
      "samtools: /home/adrian/anaconda3/bin/../lib/libtinfow.so.6: no version information available (required by samtools)\n",
      "samtools: /home/adrian/anaconda3/bin/../lib/libncursesw.so.6: no version information available (required by samtools)\n",
      "samtools: /home/adrian/anaconda3/bin/../lib/libncursesw.so.6: no version information available (required by samtools)\n"
     ]
    },
    {
     "name": "stdout",
     "output_type": "stream",
     "text": [
      "time samtools sort -@ 20 -o /home/adrian/projects/reynisfjara/data/bam/a3922_0h_1/positionsort.bam /home/adrian/projects/reynisfjara/data/bam/a3922_0h_1/fixmate.bam\n"
     ]
    },
    {
     "name": "stderr",
     "output_type": "stream",
     "text": [
      "[bam_sort_core] merging from 1 files and 20 in-memory blocks...\n",
      "499.24user 15.80system 0:45.10elapsed 1141%CPU (0avgtext+0avgdata 17513936maxresident)k\n",
      "616inputs+9100264outputs (0major+4479277minor)pagefaults 0swaps\n",
      "samtools: /home/adrian/anaconda3/bin/../lib/libtinfow.so.6: no version information available (required by samtools)\n",
      "samtools: /home/adrian/anaconda3/bin/../lib/libncursesw.so.6: no version information available (required by samtools)\n",
      "samtools: /home/adrian/anaconda3/bin/../lib/libncursesw.so.6: no version information available (required by samtools)\n"
     ]
    },
    {
     "name": "stdout",
     "output_type": "stream",
     "text": [
      "time samtools markdup -@ 20 -r /home/adrian/projects/reynisfjara/data/bam/a3922_0h_1/positionsort.bam /home/adrian/projects/reynisfjara/data/bam/a3922_0h_1/markdup.bam\n"
     ]
    },
    {
     "name": "stderr",
     "output_type": "stream",
     "text": [
      "241.43user 5.02system 0:39.82elapsed 618%CPU (0avgtext+0avgdata 234536maxresident)k\n",
      "1864inputs+4068784outputs (11major+59528minor)pagefaults 0swaps\n",
      "samtools: /home/adrian/anaconda3/bin/../lib/libtinfow.so.6: no version information available (required by samtools)\n",
      "samtools: /home/adrian/anaconda3/bin/../lib/libncursesw.so.6: no version information available (required by samtools)\n",
      "samtools: /home/adrian/anaconda3/bin/../lib/libncursesw.so.6: no version information available (required by samtools)\n"
     ]
    },
    {
     "name": "stdout",
     "output_type": "stream",
     "text": [
      "time samtools sort -@ 20 -n -o /home/adrian/projects/reynisfjara/data/bam/a3922_0h_2/namesort.bam /home/adrian/projects/reynisfjara/data/bam/a3922_0h_2/a3922_0h_2.bam\n"
     ]
    },
    {
     "name": "stderr",
     "output_type": "stream",
     "text": [
      "[bam_sort_core] merging from 1 files and 20 in-memory blocks...\n",
      "818.06user 19.33system 1:01.82elapsed 1354%CPU (0avgtext+0avgdata 17567348maxresident)k\n",
      "10488472inputs+18130104outputs (0major+4505222minor)pagefaults 0swaps\n",
      "samtools: /home/adrian/anaconda3/bin/../lib/libtinfow.so.6: no version information available (required by samtools)\n",
      "samtools: /home/adrian/anaconda3/bin/../lib/libncursesw.so.6: no version information available (required by samtools)\n",
      "samtools: /home/adrian/anaconda3/bin/../lib/libncursesw.so.6: no version information available (required by samtools)\n"
     ]
    },
    {
     "name": "stdout",
     "output_type": "stream",
     "text": [
      "time samtools fixmate -@ 20 -m /home/adrian/projects/reynisfjara/data/bam/a3922_0h_2/namesort.bam /home/adrian/projects/reynisfjara/data/bam/a3922_0h_2/fixmate.bam\n"
     ]
    },
    {
     "name": "stderr",
     "output_type": "stream",
     "text": [
      "457.10user 10.47system 0:35.40elapsed 1320%CPU (0avgtext+0avgdata 52960maxresident)k\n",
      "1720inputs+10870880outputs (10major+14144minor)pagefaults 0swaps\n",
      "samtools: /home/adrian/anaconda3/bin/../lib/libtinfow.so.6: no version information available (required by samtools)\n",
      "samtools: /home/adrian/anaconda3/bin/../lib/libncursesw.so.6: no version information available (required by samtools)\n",
      "samtools: /home/adrian/anaconda3/bin/../lib/libncursesw.so.6: no version information available (required by samtools)\n"
     ]
    },
    {
     "name": "stdout",
     "output_type": "stream",
     "text": [
      "time samtools sort -@ 20 -o /home/adrian/projects/reynisfjara/data/bam/a3922_0h_2/positionsort.bam /home/adrian/projects/reynisfjara/data/bam/a3922_0h_2/fixmate.bam\n"
     ]
    },
    {
     "name": "stderr",
     "output_type": "stream",
     "text": [
      "[bam_sort_core] merging from 1 files and 20 in-memory blocks...\n",
      "527.53user 16.49system 0:48.91elapsed 1112%CPU (0avgtext+0avgdata 17513548maxresident)k\n",
      "512inputs+9427776outputs (0major+4498034minor)pagefaults 0swaps\n",
      "samtools: /home/adrian/anaconda3/bin/../lib/libtinfow.so.6: no version information available (required by samtools)\n",
      "samtools: /home/adrian/anaconda3/bin/../lib/libncursesw.so.6: no version information available (required by samtools)\n",
      "samtools: /home/adrian/anaconda3/bin/../lib/libncursesw.so.6: no version information available (required by samtools)\n"
     ]
    },
    {
     "name": "stdout",
     "output_type": "stream",
     "text": [
      "time samtools markdup -@ 20 -r /home/adrian/projects/reynisfjara/data/bam/a3922_0h_2/positionsort.bam /home/adrian/projects/reynisfjara/data/bam/a3922_0h_2/markdup.bam\n"
     ]
    },
    {
     "name": "stderr",
     "output_type": "stream",
     "text": [
      "259.53user 5.17system 0:40.10elapsed 659%CPU (0avgtext+0avgdata 224532maxresident)k\n",
      "2144inputs+4398080outputs (12major+56945minor)pagefaults 0swaps\n",
      "samtools: /home/adrian/anaconda3/bin/../lib/libtinfow.so.6: no version information available (required by samtools)\n",
      "samtools: /home/adrian/anaconda3/bin/../lib/libncursesw.so.6: no version information available (required by samtools)\n",
      "samtools: /home/adrian/anaconda3/bin/../lib/libncursesw.so.6: no version information available (required by samtools)\n"
     ]
    },
    {
     "name": "stdout",
     "output_type": "stream",
     "text": [
      "time samtools sort -@ 20 -n -o /home/adrian/projects/reynisfjara/data/bam/a3922_0h_3/namesort.bam /home/adrian/projects/reynisfjara/data/bam/a3922_0h_3/a3922_0h_3.bam\n"
     ]
    },
    {
     "name": "stderr",
     "output_type": "stream",
     "text": [
      "[bam_sort_core] merging from 1 files and 20 in-memory blocks...\n",
      "1031.14user 21.51system 1:13.45elapsed 1433%CPU (0avgtext+0avgdata 17568108maxresident)k\n",
      "13469568inputs+21179184outputs (0major+4595590minor)pagefaults 0swaps\n",
      "samtools: /home/adrian/anaconda3/bin/../lib/libtinfow.so.6: no version information available (required by samtools)\n",
      "samtools: /home/adrian/anaconda3/bin/../lib/libncursesw.so.6: no version information available (required by samtools)\n",
      "samtools: /home/adrian/anaconda3/bin/../lib/libncursesw.so.6: no version information available (required by samtools)\n"
     ]
    },
    {
     "name": "stdout",
     "output_type": "stream",
     "text": [
      "time samtools fixmate -@ 20 -m /home/adrian/projects/reynisfjara/data/bam/a3922_0h_3/namesort.bam /home/adrian/projects/reynisfjara/data/bam/a3922_0h_3/fixmate.bam\n"
     ]
    },
    {
     "name": "stderr",
     "output_type": "stream",
     "text": [
      "590.02user 12.29system 0:45.15elapsed 1334%CPU (0avgtext+0avgdata 52932maxresident)k\n",
      "2024inputs+13988128outputs (11major+14146minor)pagefaults 0swaps\n",
      "samtools: /home/adrian/anaconda3/bin/../lib/libtinfow.so.6: no version information available (required by samtools)\n",
      "samtools: /home/adrian/anaconda3/bin/../lib/libncursesw.so.6: no version information available (required by samtools)\n",
      "samtools: /home/adrian/anaconda3/bin/../lib/libncursesw.so.6: no version information available (required by samtools)\n"
     ]
    },
    {
     "name": "stdout",
     "output_type": "stream",
     "text": [
      "time samtools sort -@ 20 -o /home/adrian/projects/reynisfjara/data/bam/a3922_0h_3/positionsort.bam /home/adrian/projects/reynisfjara/data/bam/a3922_0h_3/fixmate.bam\n"
     ]
    },
    {
     "name": "stderr",
     "output_type": "stream",
     "text": [
      "[bam_sort_core] merging from 1 files and 20 in-memory blocks...\n",
      "662.14user 17.95system 0:57.01elapsed 1192%CPU (0avgtext+0avgdata 17514356maxresident)k\n",
      "376inputs+10932112outputs (0major+4588418minor)pagefaults 0swaps\n",
      "samtools: /home/adrian/anaconda3/bin/../lib/libtinfow.so.6: no version information available (required by samtools)\n",
      "samtools: /home/adrian/anaconda3/bin/../lib/libncursesw.so.6: no version information available (required by samtools)\n",
      "samtools: /home/adrian/anaconda3/bin/../lib/libncursesw.so.6: no version information available (required by samtools)\n"
     ]
    },
    {
     "name": "stdout",
     "output_type": "stream",
     "text": [
      "time samtools markdup -@ 20 -r /home/adrian/projects/reynisfjara/data/bam/a3922_0h_3/positionsort.bam /home/adrian/projects/reynisfjara/data/bam/a3922_0h_3/markdup.bam\n"
     ]
    },
    {
     "name": "stderr",
     "output_type": "stream",
     "text": [
      "316.58user 6.61system 0:51.25elapsed 630%CPU (0avgtext+0avgdata 291412maxresident)k\n",
      "2080inputs+5383440outputs (12major+73904minor)pagefaults 0swaps\n",
      "samtools: /home/adrian/anaconda3/bin/../lib/libtinfow.so.6: no version information available (required by samtools)\n",
      "samtools: /home/adrian/anaconda3/bin/../lib/libncursesw.so.6: no version information available (required by samtools)\n",
      "samtools: /home/adrian/anaconda3/bin/../lib/libncursesw.so.6: no version information available (required by samtools)\n"
     ]
    },
    {
     "name": "stdout",
     "output_type": "stream",
     "text": [
      "time samtools sort -@ 20 -n -o /home/adrian/projects/reynisfjara/data/bam/a3922_48h_1/namesort.bam /home/adrian/projects/reynisfjara/data/bam/a3922_48h_1/a3922_48h_1.bam\n"
     ]
    },
    {
     "name": "stderr",
     "output_type": "stream",
     "text": [
      "[bam_sort_core] merging from 1 files and 20 in-memory blocks...\n",
      "848.32user 19.60system 1:02.53elapsed 1387%CPU (0avgtext+0avgdata 17566300maxresident)k\n",
      "10893928inputs+18621424outputs (0major+4514071minor)pagefaults 0swaps\n",
      "samtools: /home/adrian/anaconda3/bin/../lib/libtinfow.so.6: no version information available (required by samtools)\n",
      "samtools: /home/adrian/anaconda3/bin/../lib/libncursesw.so.6: no version information available (required by samtools)\n",
      "samtools: /home/adrian/anaconda3/bin/../lib/libncursesw.so.6: no version information available (required by samtools)\n"
     ]
    },
    {
     "name": "stdout",
     "output_type": "stream",
     "text": [
      "time samtools fixmate -@ 20 -m /home/adrian/projects/reynisfjara/data/bam/a3922_48h_1/namesort.bam /home/adrian/projects/reynisfjara/data/bam/a3922_48h_1/fixmate.bam\n"
     ]
    },
    {
     "name": "stderr",
     "output_type": "stream",
     "text": [
      "480.78user 9.96system 0:36.88elapsed 1330%CPU (0avgtext+0avgdata 52612maxresident)k\n",
      "2008inputs+11302432outputs (11major+14143minor)pagefaults 0swaps\n",
      "samtools: /home/adrian/anaconda3/bin/../lib/libtinfow.so.6: no version information available (required by samtools)\n",
      "samtools: /home/adrian/anaconda3/bin/../lib/libncursesw.so.6: no version information available (required by samtools)\n",
      "samtools: /home/adrian/anaconda3/bin/../lib/libncursesw.so.6: no version information available (required by samtools)\n"
     ]
    },
    {
     "name": "stdout",
     "output_type": "stream",
     "text": [
      "time samtools sort -@ 20 -o /home/adrian/projects/reynisfjara/data/bam/a3922_48h_1/positionsort.bam /home/adrian/projects/reynisfjara/data/bam/a3922_48h_1/fixmate.bam\n"
     ]
    },
    {
     "name": "stderr",
     "output_type": "stream",
     "text": [
      "[bam_sort_core] merging from 1 files and 20 in-memory blocks...\n",
      "551.41user 16.12system 0:47.81elapsed 1186%CPU (0avgtext+0avgdata 17506500maxresident)k\n",
      "408inputs+9709752outputs (0major+4506833minor)pagefaults 0swaps\n",
      "samtools: /home/adrian/anaconda3/bin/../lib/libtinfow.so.6: no version information available (required by samtools)\n",
      "samtools: /home/adrian/anaconda3/bin/../lib/libncursesw.so.6: no version information available (required by samtools)\n",
      "samtools: /home/adrian/anaconda3/bin/../lib/libncursesw.so.6: no version information available (required by samtools)\n"
     ]
    },
    {
     "name": "stdout",
     "output_type": "stream",
     "text": [
      "time samtools markdup -@ 20 -r /home/adrian/projects/reynisfjara/data/bam/a3922_48h_1/positionsort.bam /home/adrian/projects/reynisfjara/data/bam/a3922_48h_1/markdup.bam\n"
     ]
    },
    {
     "name": "stderr",
     "output_type": "stream",
     "text": [
      "267.78user 5.48system 0:41.15elapsed 664%CPU (0avgtext+0avgdata 217724maxresident)k\n",
      "2048inputs+4529136outputs (12major+55314minor)pagefaults 0swaps\n",
      "samtools: /home/adrian/anaconda3/bin/../lib/libtinfow.so.6: no version information available (required by samtools)\n",
      "samtools: /home/adrian/anaconda3/bin/../lib/libncursesw.so.6: no version information available (required by samtools)\n",
      "samtools: /home/adrian/anaconda3/bin/../lib/libncursesw.so.6: no version information available (required by samtools)\n"
     ]
    },
    {
     "name": "stdout",
     "output_type": "stream",
     "text": [
      "time samtools sort -@ 20 -n -o /home/adrian/projects/reynisfjara/data/bam/a3922_48h_2/namesort.bam /home/adrian/projects/reynisfjara/data/bam/a3922_48h_2/a3922_48h_2.bam\n"
     ]
    },
    {
     "name": "stderr",
     "output_type": "stream",
     "text": [
      "[bam_sort_core] merging from 1 files and 20 in-memory blocks...\n",
      "695.52user 17.21system 0:54.16elapsed 1315%CPU (0avgtext+0avgdata 17560332maxresident)k\n",
      "8676552inputs+16276968outputs (0major+4449020minor)pagefaults 0swaps\n",
      "samtools: /home/adrian/anaconda3/bin/../lib/libtinfow.so.6: no version information available (required by samtools)\n",
      "samtools: /home/adrian/anaconda3/bin/../lib/libncursesw.so.6: no version information available (required by samtools)\n",
      "samtools: /home/adrian/anaconda3/bin/../lib/libncursesw.so.6: no version information available (required by samtools)\n"
     ]
    },
    {
     "name": "stdout",
     "output_type": "stream",
     "text": [
      "time samtools fixmate -@ 20 -m /home/adrian/projects/reynisfjara/data/bam/a3922_48h_2/namesort.bam /home/adrian/projects/reynisfjara/data/bam/a3922_48h_2/fixmate.bam\n"
     ]
    },
    {
     "name": "stderr",
     "output_type": "stream",
     "text": [
      "372.35user 7.93system 0:29.26elapsed 1299%CPU (0avgtext+0avgdata 53248maxresident)k\n",
      "1848inputs+8992824outputs (11major+14153minor)pagefaults 0swaps\n",
      "samtools: /home/adrian/anaconda3/bin/../lib/libtinfow.so.6: no version information available (required by samtools)\n",
      "samtools: /home/adrian/anaconda3/bin/../lib/libncursesw.so.6: no version information available (required by samtools)\n",
      "samtools: /home/adrian/anaconda3/bin/../lib/libncursesw.so.6: no version information available (required by samtools)\n"
     ]
    },
    {
     "name": "stdout",
     "output_type": "stream",
     "text": [
      "time samtools sort -@ 20 -o /home/adrian/projects/reynisfjara/data/bam/a3922_48h_2/positionsort.bam /home/adrian/projects/reynisfjara/data/bam/a3922_48h_2/fixmate.bam\n"
     ]
    },
    {
     "name": "stderr",
     "output_type": "stream",
     "text": [
      "[bam_sort_core] merging from 1 files and 20 in-memory blocks...\n",
      "445.31user 13.72system 0:40.88elapsed 1122%CPU (0avgtext+0avgdata 17506096maxresident)k\n",
      "280inputs+8446664outputs (0major+4441476minor)pagefaults 0swaps\n",
      "samtools: /home/adrian/anaconda3/bin/../lib/libtinfow.so.6: no version information available (required by samtools)\n",
      "samtools: /home/adrian/anaconda3/bin/../lib/libncursesw.so.6: no version information available (required by samtools)\n",
      "samtools: /home/adrian/anaconda3/bin/../lib/libncursesw.so.6: no version information available (required by samtools)\n"
     ]
    },
    {
     "name": "stdout",
     "output_type": "stream",
     "text": [
      "time samtools markdup -@ 20 -r /home/adrian/projects/reynisfjara/data/bam/a3922_48h_2/positionsort.bam /home/adrian/projects/reynisfjara/data/bam/a3922_48h_2/markdup.bam\n"
     ]
    },
    {
     "name": "stderr",
     "output_type": "stream",
     "text": [
      "215.02user 4.62system 0:33.03elapsed 664%CPU (0avgtext+0avgdata 180304maxresident)k\n",
      "1984inputs+3685544outputs (12major+46011minor)pagefaults 0swaps\n",
      "samtools: /home/adrian/anaconda3/bin/../lib/libtinfow.so.6: no version information available (required by samtools)\n",
      "samtools: /home/adrian/anaconda3/bin/../lib/libncursesw.so.6: no version information available (required by samtools)\n",
      "samtools: /home/adrian/anaconda3/bin/../lib/libncursesw.so.6: no version information available (required by samtools)\n"
     ]
    },
    {
     "name": "stdout",
     "output_type": "stream",
     "text": [
      "time samtools sort -@ 20 -n -o /home/adrian/projects/reynisfjara/data/bam/a3922_48h_3/namesort.bam /home/adrian/projects/reynisfjara/data/bam/a3922_48h_3/a3922_48h_3.bam\n"
     ]
    },
    {
     "name": "stderr",
     "output_type": "stream",
     "text": [
      "[bam_sort_core] merging from 1 files and 20 in-memory blocks...\n",
      "754.29user 18.27system 0:57.82elapsed 1335%CPU (0avgtext+0avgdata 17566852maxresident)k\n",
      "9520832inputs+17180568outputs (0major+4473587minor)pagefaults 0swaps\n",
      "samtools: /home/adrian/anaconda3/bin/../lib/libtinfow.so.6: no version information available (required by samtools)\n",
      "samtools: /home/adrian/anaconda3/bin/../lib/libncursesw.so.6: no version information available (required by samtools)\n",
      "samtools: /home/adrian/anaconda3/bin/../lib/libncursesw.so.6: no version information available (required by samtools)\n"
     ]
    },
    {
     "name": "stdout",
     "output_type": "stream",
     "text": [
      "time samtools fixmate -@ 20 -m /home/adrian/projects/reynisfjara/data/bam/a3922_48h_3/namesort.bam /home/adrian/projects/reynisfjara/data/bam/a3922_48h_3/fixmate.bam\n"
     ]
    },
    {
     "name": "stderr",
     "output_type": "stream",
     "text": [
      "415.37user 8.54system 0:31.69elapsed 1337%CPU (0avgtext+0avgdata 52472maxresident)k\n",
      "328inputs+9872688outputs (0major+14001minor)pagefaults 0swaps\n",
      "samtools: /home/adrian/anaconda3/bin/../lib/libtinfow.so.6: no version information available (required by samtools)\n",
      "samtools: /home/adrian/anaconda3/bin/../lib/libncursesw.so.6: no version information available (required by samtools)\n",
      "samtools: /home/adrian/anaconda3/bin/../lib/libncursesw.so.6: no version information available (required by samtools)\n"
     ]
    },
    {
     "name": "stdout",
     "output_type": "stream",
     "text": [
      "time samtools sort -@ 20 -o /home/adrian/projects/reynisfjara/data/bam/a3922_48h_3/positionsort.bam /home/adrian/projects/reynisfjara/data/bam/a3922_48h_3/fixmate.bam\n"
     ]
    },
    {
     "name": "stderr",
     "output_type": "stream",
     "text": [
      "[bam_sort_core] merging from 1 files and 20 in-memory blocks...\n",
      "488.53user 14.93system 0:43.93elapsed 1146%CPU (0avgtext+0avgdata 17507012maxresident)k\n",
      "312inputs+9056752outputs (0major+4466600minor)pagefaults 0swaps\n",
      "samtools: /home/adrian/anaconda3/bin/../lib/libtinfow.so.6: no version information available (required by samtools)\n",
      "samtools: /home/adrian/anaconda3/bin/../lib/libncursesw.so.6: no version information available (required by samtools)\n",
      "samtools: /home/adrian/anaconda3/bin/../lib/libncursesw.so.6: no version information available (required by samtools)\n"
     ]
    },
    {
     "name": "stdout",
     "output_type": "stream",
     "text": [
      "time samtools markdup -@ 20 -r /home/adrian/projects/reynisfjara/data/bam/a3922_48h_3/positionsort.bam /home/adrian/projects/reynisfjara/data/bam/a3922_48h_3/markdup.bam\n"
     ]
    },
    {
     "name": "stderr",
     "output_type": "stream",
     "text": [
      "244.60user 4.96system 0:35.95elapsed 694%CPU (0avgtext+0avgdata 174268maxresident)k\n",
      "512inputs+4133080outputs (1major+44490minor)pagefaults 0swaps\n",
      "samtools: /home/adrian/anaconda3/bin/../lib/libtinfow.so.6: no version information available (required by samtools)\n",
      "samtools: /home/adrian/anaconda3/bin/../lib/libncursesw.so.6: no version information available (required by samtools)\n",
      "samtools: /home/adrian/anaconda3/bin/../lib/libncursesw.so.6: no version information available (required by samtools)\n"
     ]
    },
    {
     "name": "stdout",
     "output_type": "stream",
     "text": [
      "time samtools sort -@ 20 -n -o /home/adrian/projects/reynisfjara/data/bam/a3922_72h_1/namesort.bam /home/adrian/projects/reynisfjara/data/bam/a3922_72h_1/a3922_72h_1.bam\n"
     ]
    },
    {
     "name": "stderr",
     "output_type": "stream",
     "text": [
      "[bam_sort_core] merging from 1 files and 20 in-memory blocks...\n",
      "861.05user 19.67system 1:03.75elapsed 1381%CPU (0avgtext+0avgdata 17567124maxresident)k\n",
      "11084968inputs+18821432outputs (0major+4519083minor)pagefaults 0swaps\n",
      "samtools: /home/adrian/anaconda3/bin/../lib/libtinfow.so.6: no version information available (required by samtools)\n",
      "samtools: /home/adrian/anaconda3/bin/../lib/libncursesw.so.6: no version information available (required by samtools)\n",
      "samtools: /home/adrian/anaconda3/bin/../lib/libncursesw.so.6: no version information available (required by samtools)\n"
     ]
    },
    {
     "name": "stdout",
     "output_type": "stream",
     "text": [
      "time samtools fixmate -@ 20 -m /home/adrian/projects/reynisfjara/data/bam/a3922_72h_1/namesort.bam /home/adrian/projects/reynisfjara/data/bam/a3922_72h_1/fixmate.bam\n"
     ]
    },
    {
     "name": "stderr",
     "output_type": "stream",
     "text": [
      "488.20user 10.24system 0:37.02elapsed 1346%CPU (0avgtext+0avgdata 52896maxresident)k\n",
      "384inputs+11509496outputs (0major+14178minor)pagefaults 0swaps\n",
      "samtools: /home/adrian/anaconda3/bin/../lib/libtinfow.so.6: no version information available (required by samtools)\n",
      "samtools: /home/adrian/anaconda3/bin/../lib/libncursesw.so.6: no version information available (required by samtools)\n",
      "samtools: /home/adrian/anaconda3/bin/../lib/libncursesw.so.6: no version information available (required by samtools)\n"
     ]
    },
    {
     "name": "stdout",
     "output_type": "stream",
     "text": [
      "time samtools sort -@ 20 -o /home/adrian/projects/reynisfjara/data/bam/a3922_72h_1/positionsort.bam /home/adrian/projects/reynisfjara/data/bam/a3922_72h_1/fixmate.bam\n"
     ]
    },
    {
     "name": "stderr",
     "output_type": "stream",
     "text": [
      "[bam_sort_core] merging from 1 files and 20 in-memory blocks...\n",
      "565.31user 16.60system 0:50.09elapsed 1161%CPU (0avgtext+0avgdata 17508116maxresident)k\n",
      "328inputs+9975680outputs (0major+4511540minor)pagefaults 0swaps\n",
      "samtools: /home/adrian/anaconda3/bin/../lib/libtinfow.so.6: no version information available (required by samtools)\n",
      "samtools: /home/adrian/anaconda3/bin/../lib/libncursesw.so.6: no version information available (required by samtools)\n",
      "samtools: /home/adrian/anaconda3/bin/../lib/libncursesw.so.6: no version information available (required by samtools)\n"
     ]
    },
    {
     "name": "stdout",
     "output_type": "stream",
     "text": [
      "time samtools markdup -@ 20 -r /home/adrian/projects/reynisfjara/data/bam/a3922_72h_1/positionsort.bam /home/adrian/projects/reynisfjara/data/bam/a3922_72h_1/markdup.bam\n"
     ]
    },
    {
     "name": "stderr",
     "output_type": "stream",
     "text": [
      "275.88user 5.89system 0:40.97elapsed 687%CPU (0avgtext+0avgdata 192296maxresident)k\n",
      "528inputs+4712448outputs (1major+48920minor)pagefaults 0swaps\n",
      "samtools: /home/adrian/anaconda3/bin/../lib/libtinfow.so.6: no version information available (required by samtools)\n",
      "samtools: /home/adrian/anaconda3/bin/../lib/libncursesw.so.6: no version information available (required by samtools)\n",
      "samtools: /home/adrian/anaconda3/bin/../lib/libncursesw.so.6: no version information available (required by samtools)\n"
     ]
    },
    {
     "name": "stdout",
     "output_type": "stream",
     "text": [
      "time samtools sort -@ 20 -n -o /home/adrian/projects/reynisfjara/data/bam/a3922_72h_2/namesort.bam /home/adrian/projects/reynisfjara/data/bam/a3922_72h_2/a3922_72h_2.bam\n"
     ]
    },
    {
     "name": "stderr",
     "output_type": "stream",
     "text": [
      "[bam_sort_core] merging from 1 files and 20 in-memory blocks...\n",
      "923.90user 19.92system 1:06.28elapsed 1423%CPU (0avgtext+0avgdata 17566824maxresident)k\n",
      "12024528inputs+19743160outputs (0major+4548485minor)pagefaults 0swaps\n",
      "samtools: /home/adrian/anaconda3/bin/../lib/libtinfow.so.6: no version information available (required by samtools)\n",
      "samtools: /home/adrian/anaconda3/bin/../lib/libncursesw.so.6: no version information available (required by samtools)\n",
      "samtools: /home/adrian/anaconda3/bin/../lib/libncursesw.so.6: no version information available (required by samtools)\n"
     ]
    },
    {
     "name": "stdout",
     "output_type": "stream",
     "text": [
      "time samtools fixmate -@ 20 -m /home/adrian/projects/reynisfjara/data/bam/a3922_72h_2/namesort.bam /home/adrian/projects/reynisfjara/data/bam/a3922_72h_2/fixmate.bam\n"
     ]
    },
    {
     "name": "stderr",
     "output_type": "stream",
     "text": [
      "530.35user 10.86system 0:39.67elapsed 1364%CPU (0avgtext+0avgdata 52680maxresident)k\n",
      "416inputs+12483736outputs (0major+14178minor)pagefaults 0swaps\n",
      "samtools: /home/adrian/anaconda3/bin/../lib/libtinfow.so.6: no version information available (required by samtools)\n",
      "samtools: /home/adrian/anaconda3/bin/../lib/libncursesw.so.6: no version information available (required by samtools)\n",
      "samtools: /home/adrian/anaconda3/bin/../lib/libncursesw.so.6: no version information available (required by samtools)\n"
     ]
    },
    {
     "name": "stdout",
     "output_type": "stream",
     "text": [
      "time samtools sort -@ 20 -o /home/adrian/projects/reynisfjara/data/bam/a3922_72h_2/positionsort.bam /home/adrian/projects/reynisfjara/data/bam/a3922_72h_2/fixmate.bam\n"
     ]
    },
    {
     "name": "stderr",
     "output_type": "stream",
     "text": [
      "[bam_sort_core] merging from 1 files and 20 in-memory blocks...\n",
      "600.15user 16.90system 0:52.07elapsed 1184%CPU (0avgtext+0avgdata 17506956maxresident)k\n",
      "328inputs+10304416outputs (0major+4541093minor)pagefaults 0swaps\n",
      "samtools: /home/adrian/anaconda3/bin/../lib/libtinfow.so.6: no version information available (required by samtools)\n",
      "samtools: /home/adrian/anaconda3/bin/../lib/libncursesw.so.6: no version information available (required by samtools)\n",
      "samtools: /home/adrian/anaconda3/bin/../lib/libncursesw.so.6: no version information available (required by samtools)\n"
     ]
    },
    {
     "name": "stdout",
     "output_type": "stream",
     "text": [
      "time samtools markdup -@ 20 -r /home/adrian/projects/reynisfjara/data/bam/a3922_72h_2/positionsort.bam /home/adrian/projects/reynisfjara/data/bam/a3922_72h_2/markdup.bam\n"
     ]
    },
    {
     "name": "stderr",
     "output_type": "stream",
     "text": [
      "285.84user 5.91system 0:44.86elapsed 650%CPU (0avgtext+0avgdata 228616maxresident)k\n",
      "536inputs+4901792outputs (1major+58146minor)pagefaults 0swaps\n",
      "samtools: /home/adrian/anaconda3/bin/../lib/libtinfow.so.6: no version information available (required by samtools)\n",
      "samtools: /home/adrian/anaconda3/bin/../lib/libncursesw.so.6: no version information available (required by samtools)\n",
      "samtools: /home/adrian/anaconda3/bin/../lib/libncursesw.so.6: no version information available (required by samtools)\n"
     ]
    },
    {
     "name": "stdout",
     "output_type": "stream",
     "text": [
      "time samtools sort -@ 20 -n -o /home/adrian/projects/reynisfjara/data/bam/a3922_72h_3/namesort.bam /home/adrian/projects/reynisfjara/data/bam/a3922_72h_3/a3922_72h_3.bam\n"
     ]
    },
    {
     "name": "stderr",
     "output_type": "stream",
     "text": [
      "[bam_sort_core] merging from 1 files and 20 in-memory blocks...\n",
      "882.32user 19.20system 1:04.60elapsed 1395%CPU (0avgtext+0avgdata 17567836maxresident)k\n",
      "11457424inputs+19127192outputs (0major+4533539minor)pagefaults 0swaps\n",
      "samtools: /home/adrian/anaconda3/bin/../lib/libtinfow.so.6: no version information available (required by samtools)\n",
      "samtools: /home/adrian/anaconda3/bin/../lib/libncursesw.so.6: no version information available (required by samtools)\n",
      "samtools: /home/adrian/anaconda3/bin/../lib/libncursesw.so.6: no version information available (required by samtools)\n"
     ]
    },
    {
     "name": "stdout",
     "output_type": "stream",
     "text": [
      "time samtools fixmate -@ 20 -m /home/adrian/projects/reynisfjara/data/bam/a3922_72h_3/namesort.bam /home/adrian/projects/reynisfjara/data/bam/a3922_72h_3/fixmate.bam\n"
     ]
    },
    {
     "name": "stderr",
     "output_type": "stream",
     "text": [
      "503.17user 10.57system 0:37.83elapsed 1357%CPU (0avgtext+0avgdata 52888maxresident)k\n",
      "408inputs+11889976outputs (0major+14174minor)pagefaults 0swaps\n",
      "samtools: /home/adrian/anaconda3/bin/../lib/libtinfow.so.6: no version information available (required by samtools)\n",
      "samtools: /home/adrian/anaconda3/bin/../lib/libncursesw.so.6: no version information available (required by samtools)\n",
      "samtools: /home/adrian/anaconda3/bin/../lib/libncursesw.so.6: no version information available (required by samtools)\n"
     ]
    },
    {
     "name": "stdout",
     "output_type": "stream",
     "text": [
      "time samtools sort -@ 20 -o /home/adrian/projects/reynisfjara/data/bam/a3922_72h_3/positionsort.bam /home/adrian/projects/reynisfjara/data/bam/a3922_72h_3/fixmate.bam\n"
     ]
    },
    {
     "name": "stderr",
     "output_type": "stream",
     "text": [
      "[bam_sort_core] merging from 1 files and 20 in-memory blocks...\n",
      "574.00user 16.41system 0:48.98elapsed 1205%CPU (0avgtext+0avgdata 17509336maxresident)k\n",
      "328inputs+10068520outputs (0major+4526279minor)pagefaults 0swaps\n",
      "samtools: /home/adrian/anaconda3/bin/../lib/libtinfow.so.6: no version information available (required by samtools)\n",
      "samtools: /home/adrian/anaconda3/bin/../lib/libncursesw.so.6: no version information available (required by samtools)\n",
      "samtools: /home/adrian/anaconda3/bin/../lib/libncursesw.so.6: no version information available (required by samtools)\n"
     ]
    },
    {
     "name": "stdout",
     "output_type": "stream",
     "text": [
      "time samtools markdup -@ 20 -r /home/adrian/projects/reynisfjara/data/bam/a3922_72h_3/positionsort.bam /home/adrian/projects/reynisfjara/data/bam/a3922_72h_3/markdup.bam\n"
     ]
    },
    {
     "name": "stderr",
     "output_type": "stream",
     "text": [
      "288.74user 5.94system 0:44.65elapsed 659%CPU (0avgtext+0avgdata 197444maxresident)k\n",
      "520inputs+4835152outputs (1major+50247minor)pagefaults 0swaps\n",
      "samtools: /home/adrian/anaconda3/bin/../lib/libtinfow.so.6: no version information available (required by samtools)\n",
      "samtools: /home/adrian/anaconda3/bin/../lib/libncursesw.so.6: no version information available (required by samtools)\n",
      "samtools: /home/adrian/anaconda3/bin/../lib/libncursesw.so.6: no version information available (required by samtools)\n"
     ]
    },
    {
     "name": "stdout",
     "output_type": "stream",
     "text": [
      "time samtools sort -@ 20 -n -o /home/adrian/projects/reynisfjara/data/bam/a4774_0h_1/namesort.bam /home/adrian/projects/reynisfjara/data/bam/a4774_0h_1/a4774_0h_1.bam\n"
     ]
    },
    {
     "name": "stderr",
     "output_type": "stream",
     "text": [
      "[bam_sort_core] merging from 1 files and 20 in-memory blocks...\n",
      "709.85user 17.24system 0:53.39elapsed 1361%CPU (0avgtext+0avgdata 17568204maxresident)k\n",
      "8951496inputs+16615496outputs (0major+4456707minor)pagefaults 0swaps\n",
      "samtools: /home/adrian/anaconda3/bin/../lib/libtinfow.so.6: no version information available (required by samtools)\n",
      "samtools: /home/adrian/anaconda3/bin/../lib/libncursesw.so.6: no version information available (required by samtools)\n",
      "samtools: /home/adrian/anaconda3/bin/../lib/libncursesw.so.6: no version information available (required by samtools)\n"
     ]
    },
    {
     "name": "stdout",
     "output_type": "stream",
     "text": [
      "time samtools fixmate -@ 20 -m /home/adrian/projects/reynisfjara/data/bam/a4774_0h_1/namesort.bam /home/adrian/projects/reynisfjara/data/bam/a4774_0h_1/fixmate.bam\n"
     ]
    },
    {
     "name": "stderr",
     "output_type": "stream",
     "text": [
      "392.20user 8.05system 0:29.30elapsed 1365%CPU (0avgtext+0avgdata 53556maxresident)k\n",
      "296inputs+9283088outputs (0major+14156minor)pagefaults 0swaps\n",
      "samtools: /home/adrian/anaconda3/bin/../lib/libtinfow.so.6: no version information available (required by samtools)\n",
      "samtools: /home/adrian/anaconda3/bin/../lib/libncursesw.so.6: no version information available (required by samtools)\n",
      "samtools: /home/adrian/anaconda3/bin/../lib/libncursesw.so.6: no version information available (required by samtools)\n"
     ]
    },
    {
     "name": "stdout",
     "output_type": "stream",
     "text": [
      "time samtools sort -@ 20 -o /home/adrian/projects/reynisfjara/data/bam/a4774_0h_1/positionsort.bam /home/adrian/projects/reynisfjara/data/bam/a4774_0h_1/fixmate.bam\n"
     ]
    },
    {
     "name": "stderr",
     "output_type": "stream",
     "text": [
      "[bam_sort_core] merging from 1 files and 20 in-memory blocks...\n",
      "461.88user 14.59system 0:44.06elapsed 1081%CPU (0avgtext+0avgdata 17513680maxresident)k\n",
      "296inputs+8837152outputs (0major+4449588minor)pagefaults 0swaps\n",
      "samtools: /home/adrian/anaconda3/bin/../lib/libtinfow.so.6: no version information available (required by samtools)\n",
      "samtools: /home/adrian/anaconda3/bin/../lib/libncursesw.so.6: no version information available (required by samtools)\n",
      "samtools: /home/adrian/anaconda3/bin/../lib/libncursesw.so.6: no version information available (required by samtools)\n"
     ]
    },
    {
     "name": "stdout",
     "output_type": "stream",
     "text": [
      "time samtools markdup -@ 20 -r /home/adrian/projects/reynisfjara/data/bam/a4774_0h_1/positionsort.bam /home/adrian/projects/reynisfjara/data/bam/a4774_0h_1/markdup.bam\n"
     ]
    },
    {
     "name": "stderr",
     "output_type": "stream",
     "text": [
      "230.78user 5.07system 0:33.96elapsed 694%CPU (0avgtext+0avgdata 227836maxresident)k\n",
      "504inputs+3952056outputs (1major+57840minor)pagefaults 0swaps\n",
      "samtools: /home/adrian/anaconda3/bin/../lib/libtinfow.so.6: no version information available (required by samtools)\n",
      "samtools: /home/adrian/anaconda3/bin/../lib/libncursesw.so.6: no version information available (required by samtools)\n",
      "samtools: /home/adrian/anaconda3/bin/../lib/libncursesw.so.6: no version information available (required by samtools)\n"
     ]
    },
    {
     "name": "stdout",
     "output_type": "stream",
     "text": [
      "time samtools sort -@ 20 -n -o /home/adrian/projects/reynisfjara/data/bam/a4774_0h_2/namesort.bam /home/adrian/projects/reynisfjara/data/bam/a4774_0h_2/a4774_0h_2.bam\n"
     ]
    },
    {
     "name": "stderr",
     "output_type": "stream",
     "text": [
      "[bam_sort_core] merging from 1 files and 20 in-memory blocks...\n",
      "678.78user 18.19system 0:59.14elapsed 1178%CPU (0avgtext+0avgdata 17568516maxresident)k\n",
      "16217320inputs+16328744outputs (1major+4448157minor)pagefaults 0swaps\n",
      "samtools: /home/adrian/anaconda3/bin/../lib/libtinfow.so.6: no version information available (required by samtools)\n",
      "samtools: /home/adrian/anaconda3/bin/../lib/libncursesw.so.6: no version information available (required by samtools)\n",
      "samtools: /home/adrian/anaconda3/bin/../lib/libncursesw.so.6: no version information available (required by samtools)\n"
     ]
    },
    {
     "name": "stdout",
     "output_type": "stream",
     "text": [
      "time samtools fixmate -@ 20 -m /home/adrian/projects/reynisfjara/data/bam/a4774_0h_2/namesort.bam /home/adrian/projects/reynisfjara/data/bam/a4774_0h_2/fixmate.bam\n"
     ]
    },
    {
     "name": "stderr",
     "output_type": "stream",
     "text": [
      "370.24user 8.37system 0:31.28elapsed 1210%CPU (0avgtext+0avgdata 52044maxresident)k\n",
      "4204088inputs+8989200outputs (16major+13988minor)pagefaults 0swaps\n",
      "samtools: /home/adrian/anaconda3/bin/../lib/libtinfow.so.6: no version information available (required by samtools)\n",
      "samtools: /home/adrian/anaconda3/bin/../lib/libncursesw.so.6: no version information available (required by samtools)\n",
      "samtools: /home/adrian/anaconda3/bin/../lib/libncursesw.so.6: no version information available (required by samtools)\n"
     ]
    },
    {
     "name": "stdout",
     "output_type": "stream",
     "text": [
      "time samtools sort -@ 20 -o /home/adrian/projects/reynisfjara/data/bam/a4774_0h_2/positionsort.bam /home/adrian/projects/reynisfjara/data/bam/a4774_0h_2/fixmate.bam\n"
     ]
    },
    {
     "name": "stderr",
     "output_type": "stream",
     "text": [
      "[bam_sort_core] merging from 1 files and 20 in-memory blocks...\n",
      "447.18user 13.41system 0:42.89elapsed 1073%CPU (0avgtext+0avgdata 17512996maxresident)k\n",
      "288inputs+8626344outputs (0major+4440690minor)pagefaults 0swaps\n",
      "samtools: /home/adrian/anaconda3/bin/../lib/libtinfow.so.6: no version information available (required by samtools)\n",
      "samtools: /home/adrian/anaconda3/bin/../lib/libncursesw.so.6: no version information available (required by samtools)\n",
      "samtools: /home/adrian/anaconda3/bin/../lib/libncursesw.so.6: no version information available (required by samtools)\n"
     ]
    },
    {
     "name": "stdout",
     "output_type": "stream",
     "text": [
      "time samtools markdup -@ 20 -r /home/adrian/projects/reynisfjara/data/bam/a4774_0h_2/positionsort.bam /home/adrian/projects/reynisfjara/data/bam/a4774_0h_2/markdup.bam\n"
     ]
    },
    {
     "name": "stderr",
     "output_type": "stream",
     "text": [
      "219.55user 4.63system 0:32.02elapsed 700%CPU (0avgtext+0avgdata 229980maxresident)k\n",
      "2064inputs+3767560outputs (12major+58300minor)pagefaults 0swaps\n",
      "samtools: /home/adrian/anaconda3/bin/../lib/libtinfow.so.6: no version information available (required by samtools)\n",
      "samtools: /home/adrian/anaconda3/bin/../lib/libncursesw.so.6: no version information available (required by samtools)\n",
      "samtools: /home/adrian/anaconda3/bin/../lib/libncursesw.so.6: no version information available (required by samtools)\n"
     ]
    },
    {
     "name": "stdout",
     "output_type": "stream",
     "text": [
      "time samtools sort -@ 20 -n -o /home/adrian/projects/reynisfjara/data/bam/a4774_0h_3/namesort.bam /home/adrian/projects/reynisfjara/data/bam/a4774_0h_3/a4774_0h_3.bam\n"
     ]
    },
    {
     "name": "stderr",
     "output_type": "stream",
     "text": [
      "[bam_sort_core] merging from 1 files and 20 in-memory blocks...\n",
      "866.27user 20.75system 1:06.16elapsed 1340%CPU (0avgtext+0avgdata 17566668maxresident)k\n",
      "18856200inputs+18964712outputs (1major+4533241minor)pagefaults 0swaps\n",
      "samtools: /home/adrian/anaconda3/bin/../lib/libtinfow.so.6: no version information available (required by samtools)\n",
      "samtools: /home/adrian/anaconda3/bin/../lib/libncursesw.so.6: no version information available (required by samtools)\n",
      "samtools: /home/adrian/anaconda3/bin/../lib/libncursesw.so.6: no version information available (required by samtools)\n"
     ]
    },
    {
     "name": "stdout",
     "output_type": "stream",
     "text": [
      "time samtools fixmate -@ 20 -m /home/adrian/projects/reynisfjara/data/bam/a4774_0h_3/namesort.bam /home/adrian/projects/reynisfjara/data/bam/a4774_0h_3/fixmate.bam\n"
     ]
    },
    {
     "name": "stderr",
     "output_type": "stream",
     "text": [
      "472.19user 10.49system 0:40.72elapsed 1185%CPU (0avgtext+0avgdata 52976maxresident)k\n",
      "4064040inputs+11769720outputs (17major+14141minor)pagefaults 0swaps\n",
      "samtools: /home/adrian/anaconda3/bin/../lib/libtinfow.so.6: no version information available (required by samtools)\n",
      "samtools: /home/adrian/anaconda3/bin/../lib/libncursesw.so.6: no version information available (required by samtools)\n",
      "samtools: /home/adrian/anaconda3/bin/../lib/libncursesw.so.6: no version information available (required by samtools)\n"
     ]
    },
    {
     "name": "stdout",
     "output_type": "stream",
     "text": [
      "time samtools sort -@ 20 -o /home/adrian/projects/reynisfjara/data/bam/a4774_0h_3/positionsort.bam /home/adrian/projects/reynisfjara/data/bam/a4774_0h_3/fixmate.bam\n"
     ]
    },
    {
     "name": "stderr",
     "output_type": "stream",
     "text": [
      "[bam_sort_core] merging from 1 files and 20 in-memory blocks...\n",
      "555.05user 16.12system 0:53.97elapsed 1058%CPU (0avgtext+0avgdata 17507364maxresident)k\n",
      "1104inputs+9826720outputs (1major+4525736minor)pagefaults 0swaps\n",
      "samtools: /home/adrian/anaconda3/bin/../lib/libtinfow.so.6: no version information available (required by samtools)\n",
      "samtools: /home/adrian/anaconda3/bin/../lib/libncursesw.so.6: no version information available (required by samtools)\n",
      "samtools: /home/adrian/anaconda3/bin/../lib/libncursesw.so.6: no version information available (required by samtools)\n"
     ]
    },
    {
     "name": "stdout",
     "output_type": "stream",
     "text": [
      "time samtools markdup -@ 20 -r /home/adrian/projects/reynisfjara/data/bam/a4774_0h_3/positionsort.bam /home/adrian/projects/reynisfjara/data/bam/a4774_0h_3/markdup.bam\n"
     ]
    },
    {
     "name": "stderr",
     "output_type": "stream",
     "text": [
      "272.39user 5.47system 0:43.21elapsed 642%CPU (0avgtext+0avgdata 283460maxresident)k\n",
      "2672inputs+4656528outputs (12major+71838minor)pagefaults 0swaps\n",
      "samtools: /home/adrian/anaconda3/bin/../lib/libtinfow.so.6: no version information available (required by samtools)\n",
      "samtools: /home/adrian/anaconda3/bin/../lib/libncursesw.so.6: no version information available (required by samtools)\n",
      "samtools: /home/adrian/anaconda3/bin/../lib/libncursesw.so.6: no version information available (required by samtools)\n"
     ]
    },
    {
     "name": "stdout",
     "output_type": "stream",
     "text": [
      "time samtools sort -@ 20 -n -o /home/adrian/projects/reynisfjara/data/bam/a4774_48h_1/namesort.bam /home/adrian/projects/reynisfjara/data/bam/a4774_48h_1/a4774_48h_1.bam\n"
     ]
    },
    {
     "name": "stderr",
     "output_type": "stream",
     "text": [
      "[bam_sort_core] merging from 1 files and 20 in-memory blocks...\n",
      "840.29user 19.86system 1:04.77elapsed 1327%CPU (0avgtext+0avgdata 17568648maxresident)k\n",
      "18590616inputs+18604008outputs (0major+4521423minor)pagefaults 0swaps\n",
      "samtools: /home/adrian/anaconda3/bin/../lib/libtinfow.so.6: no version information available (required by samtools)\n",
      "samtools: /home/adrian/anaconda3/bin/../lib/libncursesw.so.6: no version information available (required by samtools)\n",
      "samtools: /home/adrian/anaconda3/bin/../lib/libncursesw.so.6: no version information available (required by samtools)\n"
     ]
    },
    {
     "name": "stdout",
     "output_type": "stream",
     "text": [
      "time samtools fixmate -@ 20 -m /home/adrian/projects/reynisfjara/data/bam/a4774_48h_1/namesort.bam /home/adrian/projects/reynisfjara/data/bam/a4774_48h_1/fixmate.bam\n"
     ]
    },
    {
     "name": "stderr",
     "output_type": "stream",
     "text": [
      "466.22user 10.66system 0:38.20elapsed 1248%CPU (0avgtext+0avgdata 52672maxresident)k\n",
      "4281656inputs+11380328outputs (2major+14177minor)pagefaults 0swaps\n",
      "samtools: /home/adrian/anaconda3/bin/../lib/libtinfow.so.6: no version information available (required by samtools)\n",
      "samtools: /home/adrian/anaconda3/bin/../lib/libncursesw.so.6: no version information available (required by samtools)\n",
      "samtools: /home/adrian/anaconda3/bin/../lib/libncursesw.so.6: no version information available (required by samtools)\n"
     ]
    },
    {
     "name": "stdout",
     "output_type": "stream",
     "text": [
      "time samtools sort -@ 20 -o /home/adrian/projects/reynisfjara/data/bam/a4774_48h_1/positionsort.bam /home/adrian/projects/reynisfjara/data/bam/a4774_48h_1/fixmate.bam\n"
     ]
    },
    {
     "name": "stderr",
     "output_type": "stream",
     "text": [
      "[bam_sort_core] merging from 1 files and 20 in-memory blocks...\n",
      "549.58user 16.19system 0:49.16elapsed 1150%CPU (0avgtext+0avgdata 17514556maxresident)k\n",
      "312inputs+9822312outputs (0major+4514150minor)pagefaults 0swaps\n",
      "samtools: /home/adrian/anaconda3/bin/../lib/libtinfow.so.6: no version information available (required by samtools)\n",
      "samtools: /home/adrian/anaconda3/bin/../lib/libncursesw.so.6: no version information available (required by samtools)\n",
      "samtools: /home/adrian/anaconda3/bin/../lib/libncursesw.so.6: no version information available (required by samtools)\n"
     ]
    },
    {
     "name": "stdout",
     "output_type": "stream",
     "text": [
      "time samtools markdup -@ 20 -r /home/adrian/projects/reynisfjara/data/bam/a4774_48h_1/positionsort.bam /home/adrian/projects/reynisfjara/data/bam/a4774_48h_1/markdup.bam\n"
     ]
    },
    {
     "name": "stderr",
     "output_type": "stream",
     "text": [
      "266.11user 5.96system 0:40.48elapsed 671%CPU (0avgtext+0avgdata 280076maxresident)k\n",
      "152inputs+4662576outputs (0major+70789minor)pagefaults 0swaps\n",
      "samtools: /home/adrian/anaconda3/bin/../lib/libtinfow.so.6: no version information available (required by samtools)\n",
      "samtools: /home/adrian/anaconda3/bin/../lib/libncursesw.so.6: no version information available (required by samtools)\n",
      "samtools: /home/adrian/anaconda3/bin/../lib/libncursesw.so.6: no version information available (required by samtools)\n"
     ]
    },
    {
     "name": "stdout",
     "output_type": "stream",
     "text": [
      "time samtools sort -@ 20 -n -o /home/adrian/projects/reynisfjara/data/bam/a4774_48h_2/namesort.bam /home/adrian/projects/reynisfjara/data/bam/a4774_48h_2/a4774_48h_2.bam\n"
     ]
    },
    {
     "name": "stderr",
     "output_type": "stream",
     "text": [
      "[bam_sort_core] merging from 1 files and 20 in-memory blocks...\n",
      "884.22user 20.75system 1:07.39elapsed 1342%CPU (0avgtext+0avgdata 17567580maxresident)k\n",
      "19243536inputs+19257528outputs (1major+4538832minor)pagefaults 0swaps\n",
      "samtools: /home/adrian/anaconda3/bin/../lib/libtinfow.so.6: no version information available (required by samtools)\n",
      "samtools: /home/adrian/anaconda3/bin/../lib/libncursesw.so.6: no version information available (required by samtools)\n",
      "samtools: /home/adrian/anaconda3/bin/../lib/libncursesw.so.6: no version information available (required by samtools)\n"
     ]
    },
    {
     "name": "stdout",
     "output_type": "stream",
     "text": [
      "time samtools fixmate -@ 20 -m /home/adrian/projects/reynisfjara/data/bam/a4774_48h_2/namesort.bam /home/adrian/projects/reynisfjara/data/bam/a4774_48h_2/fixmate.bam\n"
     ]
    },
    {
     "name": "stderr",
     "output_type": "stream",
     "text": [
      "491.73user 10.62system 0:42.80elapsed 1173%CPU (0avgtext+0avgdata 52360maxresident)k\n",
      "4106136inputs+12020336outputs (16major+14145minor)pagefaults 0swaps\n",
      "samtools: /home/adrian/anaconda3/bin/../lib/libtinfow.so.6: no version information available (required by samtools)\n",
      "samtools: /home/adrian/anaconda3/bin/../lib/libncursesw.so.6: no version information available (required by samtools)\n",
      "samtools: /home/adrian/anaconda3/bin/../lib/libncursesw.so.6: no version information available (required by samtools)\n"
     ]
    },
    {
     "name": "stdout",
     "output_type": "stream",
     "text": [
      "time samtools sort -@ 20 -o /home/adrian/projects/reynisfjara/data/bam/a4774_48h_2/positionsort.bam /home/adrian/projects/reynisfjara/data/bam/a4774_48h_2/fixmate.bam\n"
     ]
    },
    {
     "name": "stderr",
     "output_type": "stream",
     "text": [
      "[bam_sort_core] merging from 1 files and 20 in-memory blocks...\n",
      "571.97user 16.30system 0:51.77elapsed 1136%CPU (0avgtext+0avgdata 17513468maxresident)k\n",
      "336inputs+10064104outputs (0major+4531214minor)pagefaults 0swaps\n",
      "samtools: /home/adrian/anaconda3/bin/../lib/libtinfow.so.6: no version information available (required by samtools)\n",
      "samtools: /home/adrian/anaconda3/bin/../lib/libncursesw.so.6: no version information available (required by samtools)\n",
      "samtools: /home/adrian/anaconda3/bin/../lib/libncursesw.so.6: no version information available (required by samtools)\n"
     ]
    },
    {
     "name": "stdout",
     "output_type": "stream",
     "text": [
      "time samtools markdup -@ 20 -r /home/adrian/projects/reynisfjara/data/bam/a4774_48h_2/positionsort.bam /home/adrian/projects/reynisfjara/data/bam/a4774_48h_2/markdup.bam\n"
     ]
    },
    {
     "name": "stderr",
     "output_type": "stream",
     "text": [
      "278.84user 6.03system 0:42.69elapsed 667%CPU (0avgtext+0avgdata 307100maxresident)k\n",
      "2376inputs+4819624outputs (12major+77780minor)pagefaults 0swaps\n",
      "samtools: /home/adrian/anaconda3/bin/../lib/libtinfow.so.6: no version information available (required by samtools)\n",
      "samtools: /home/adrian/anaconda3/bin/../lib/libncursesw.so.6: no version information available (required by samtools)\n",
      "samtools: /home/adrian/anaconda3/bin/../lib/libncursesw.so.6: no version information available (required by samtools)\n"
     ]
    },
    {
     "name": "stdout",
     "output_type": "stream",
     "text": [
      "time samtools sort -@ 20 -n -o /home/adrian/projects/reynisfjara/data/bam/a4774_48h_3/namesort.bam /home/adrian/projects/reynisfjara/data/bam/a4774_48h_3/a4774_48h_3.bam\n"
     ]
    },
    {
     "name": "stderr",
     "output_type": "stream",
     "text": [
      "[bam_sort_core] merging from 1 files and 20 in-memory blocks...\n",
      "668.24user 16.99system 0:52.28elapsed 1310%CPU (0avgtext+0avgdata 17567852maxresident)k\n",
      "8317304inputs+16087168outputs (0major+4434437minor)pagefaults 0swaps\n",
      "samtools: /home/adrian/anaconda3/bin/../lib/libtinfow.so.6: no version information available (required by samtools)\n",
      "samtools: /home/adrian/anaconda3/bin/../lib/libncursesw.so.6: no version information available (required by samtools)\n",
      "samtools: /home/adrian/anaconda3/bin/../lib/libncursesw.so.6: no version information available (required by samtools)\n"
     ]
    },
    {
     "name": "stdout",
     "output_type": "stream",
     "text": [
      "time samtools fixmate -@ 20 -m /home/adrian/projects/reynisfjara/data/bam/a4774_48h_3/namesort.bam /home/adrian/projects/reynisfjara/data/bam/a4774_48h_3/fixmate.bam\n"
     ]
    },
    {
     "name": "stderr",
     "output_type": "stream",
     "text": [
      "367.30user 7.75system 0:27.91elapsed 1343%CPU (0avgtext+0avgdata 53092maxresident)k\n",
      "2056inputs+8635704outputs (11major+14148minor)pagefaults 0swaps\n",
      "samtools: /home/adrian/anaconda3/bin/../lib/libtinfow.so.6: no version information available (required by samtools)\n",
      "samtools: /home/adrian/anaconda3/bin/../lib/libncursesw.so.6: no version information available (required by samtools)\n",
      "samtools: /home/adrian/anaconda3/bin/../lib/libncursesw.so.6: no version information available (required by samtools)\n"
     ]
    },
    {
     "name": "stdout",
     "output_type": "stream",
     "text": [
      "time samtools sort -@ 20 -o /home/adrian/projects/reynisfjara/data/bam/a4774_48h_3/positionsort.bam /home/adrian/projects/reynisfjara/data/bam/a4774_48h_3/fixmate.bam\n"
     ]
    },
    {
     "name": "stderr",
     "output_type": "stream",
     "text": [
      "[bam_sort_core] merging from 1 files and 20 in-memory blocks...\n",
      "442.28user 13.87system 0:40.06elapsed 1138%CPU (0avgtext+0avgdata 17514128maxresident)k\n",
      "304inputs+8679672outputs (0major+4426854minor)pagefaults 0swaps\n",
      "samtools: /home/adrian/anaconda3/bin/../lib/libtinfow.so.6: no version information available (required by samtools)\n",
      "samtools: /home/adrian/anaconda3/bin/../lib/libncursesw.so.6: no version information available (required by samtools)\n",
      "samtools: /home/adrian/anaconda3/bin/../lib/libncursesw.so.6: no version information available (required by samtools)\n"
     ]
    },
    {
     "name": "stdout",
     "output_type": "stream",
     "text": [
      "time samtools markdup -@ 20 -r /home/adrian/projects/reynisfjara/data/bam/a4774_48h_3/positionsort.bam /home/adrian/projects/reynisfjara/data/bam/a4774_48h_3/markdup.bam\n"
     ]
    },
    {
     "name": "stderr",
     "output_type": "stream",
     "text": [
      "216.51user 4.43system 0:30.33elapsed 728%CPU (0avgtext+0avgdata 210832maxresident)k\n",
      "2288inputs+3698928outputs (12major+53838minor)pagefaults 0swaps\n",
      "samtools: /home/adrian/anaconda3/bin/../lib/libtinfow.so.6: no version information available (required by samtools)\n",
      "samtools: /home/adrian/anaconda3/bin/../lib/libncursesw.so.6: no version information available (required by samtools)\n",
      "samtools: /home/adrian/anaconda3/bin/../lib/libncursesw.so.6: no version information available (required by samtools)\n"
     ]
    },
    {
     "name": "stdout",
     "output_type": "stream",
     "text": [
      "time samtools sort -@ 20 -n -o /home/adrian/projects/reynisfjara/data/bam/a4774_72h_1/namesort.bam /home/adrian/projects/reynisfjara/data/bam/a4774_72h_1/a4774_72h_1.bam\n"
     ]
    },
    {
     "name": "stderr",
     "output_type": "stream",
     "text": [
      "[bam_sort_core] merging from 1 files and 20 in-memory blocks...\n",
      "925.38user 20.49system 1:11.49elapsed 1323%CPU (0avgtext+0avgdata 17570064maxresident)k\n",
      "19754768inputs+19898248outputs (1major+4555629minor)pagefaults 0swaps\n",
      "samtools: /home/adrian/anaconda3/bin/../lib/libtinfow.so.6: no version information available (required by samtools)\n",
      "samtools: /home/adrian/anaconda3/bin/../lib/libncursesw.so.6: no version information available (required by samtools)\n",
      "samtools: /home/adrian/anaconda3/bin/../lib/libncursesw.so.6: no version information available (required by samtools)\n"
     ]
    },
    {
     "name": "stdout",
     "output_type": "stream",
     "text": [
      "time samtools fixmate -@ 20 -m /home/adrian/projects/reynisfjara/data/bam/a4774_72h_1/namesort.bam /home/adrian/projects/reynisfjara/data/bam/a4774_72h_1/fixmate.bam\n"
     ]
    },
    {
     "name": "stderr",
     "output_type": "stream",
     "text": [
      "525.43user 11.43system 0:43.42elapsed 1236%CPU (0avgtext+0avgdata 52736maxresident)k\n",
      "4150216inputs+12657480outputs (17major+14165minor)pagefaults 0swaps\n",
      "samtools: /home/adrian/anaconda3/bin/../lib/libtinfow.so.6: no version information available (required by samtools)\n",
      "samtools: /home/adrian/anaconda3/bin/../lib/libncursesw.so.6: no version information available (required by samtools)\n",
      "samtools: /home/adrian/anaconda3/bin/../lib/libncursesw.so.6: no version information available (required by samtools)\n"
     ]
    },
    {
     "name": "stdout",
     "output_type": "stream",
     "text": [
      "time samtools sort -@ 20 -o /home/adrian/projects/reynisfjara/data/bam/a4774_72h_1/positionsort.bam /home/adrian/projects/reynisfjara/data/bam/a4774_72h_1/fixmate.bam\n"
     ]
    },
    {
     "name": "stderr",
     "output_type": "stream",
     "text": [
      "[bam_sort_core] merging from 1 files and 20 in-memory blocks...\n",
      "612.65user 17.08system 0:53.73elapsed 1171%CPU (0avgtext+0avgdata 17515872maxresident)k\n",
      "400inputs+10629064outputs (0major+4548400minor)pagefaults 0swaps\n",
      "samtools: /home/adrian/anaconda3/bin/../lib/libtinfow.so.6: no version information available (required by samtools)\n",
      "samtools: /home/adrian/anaconda3/bin/../lib/libncursesw.so.6: no version information available (required by samtools)\n",
      "samtools: /home/adrian/anaconda3/bin/../lib/libncursesw.so.6: no version information available (required by samtools)\n"
     ]
    },
    {
     "name": "stdout",
     "output_type": "stream",
     "text": [
      "time samtools markdup -@ 20 -r /home/adrian/projects/reynisfjara/data/bam/a4774_72h_1/positionsort.bam /home/adrian/projects/reynisfjara/data/bam/a4774_72h_1/markdup.bam\n"
     ]
    },
    {
     "name": "stderr",
     "output_type": "stream",
     "text": [
      "303.00user 6.20system 0:44.77elapsed 690%CPU (0avgtext+0avgdata 292840maxresident)k\n",
      "2288inputs+5225088outputs (12major+74140minor)pagefaults 0swaps\n",
      "samtools: /home/adrian/anaconda3/bin/../lib/libtinfow.so.6: no version information available (required by samtools)\n",
      "samtools: /home/adrian/anaconda3/bin/../lib/libncursesw.so.6: no version information available (required by samtools)\n",
      "samtools: /home/adrian/anaconda3/bin/../lib/libncursesw.so.6: no version information available (required by samtools)\n"
     ]
    },
    {
     "name": "stdout",
     "output_type": "stream",
     "text": [
      "time samtools sort -@ 20 -n -o /home/adrian/projects/reynisfjara/data/bam/a4774_72h_2/namesort.bam /home/adrian/projects/reynisfjara/data/bam/a4774_72h_2/a4774_72h_2.bam\n"
     ]
    },
    {
     "name": "stderr",
     "output_type": "stream",
     "text": [
      "[bam_sort_core] merging from 1 files and 20 in-memory blocks...\n",
      "1005.19user 22.11system 1:16.34elapsed 1345%CPU (0avgtext+0avgdata 17568472maxresident)k\n",
      "21001584inputs+21039800outputs (0major+4591266minor)pagefaults 0swaps\n",
      "samtools: /home/adrian/anaconda3/bin/../lib/libtinfow.so.6: no version information available (required by samtools)\n",
      "samtools: /home/adrian/anaconda3/bin/../lib/libncursesw.so.6: no version information available (required by samtools)\n",
      "samtools: /home/adrian/anaconda3/bin/../lib/libncursesw.so.6: no version information available (required by samtools)\n"
     ]
    },
    {
     "name": "stdout",
     "output_type": "stream",
     "text": [
      "time samtools fixmate -@ 20 -m /home/adrian/projects/reynisfjara/data/bam/a4774_72h_2/namesort.bam /home/adrian/projects/reynisfjara/data/bam/a4774_72h_2/fixmate.bam\n"
     ]
    },
    {
     "name": "stderr",
     "output_type": "stream",
     "text": [
      "576.14user 12.66system 0:47.54elapsed 1238%CPU (0avgtext+0avgdata 52700maxresident)k\n",
      "3776960inputs+13871168outputs (11major+14166minor)pagefaults 0swaps\n",
      "samtools: /home/adrian/anaconda3/bin/../lib/libtinfow.so.6: no version information available (required by samtools)\n",
      "samtools: /home/adrian/anaconda3/bin/../lib/libncursesw.so.6: no version information available (required by samtools)\n",
      "samtools: /home/adrian/anaconda3/bin/../lib/libncursesw.so.6: no version information available (required by samtools)\n"
     ]
    },
    {
     "name": "stdout",
     "output_type": "stream",
     "text": [
      "time samtools sort -@ 20 -o /home/adrian/projects/reynisfjara/data/bam/a4774_72h_2/positionsort.bam /home/adrian/projects/reynisfjara/data/bam/a4774_72h_2/fixmate.bam\n"
     ]
    },
    {
     "name": "stderr",
     "output_type": "stream",
     "text": [
      "[bam_sort_core] merging from 1 files and 20 in-memory blocks...\n",
      "661.10user 17.42system 0:56.97elapsed 1191%CPU (0avgtext+0avgdata 17514812maxresident)k\n",
      "416inputs+11119264outputs (0major+4584026minor)pagefaults 0swaps\n",
      "samtools: /home/adrian/anaconda3/bin/../lib/libtinfow.so.6: no version information available (required by samtools)\n",
      "samtools: /home/adrian/anaconda3/bin/../lib/libncursesw.so.6: no version information available (required by samtools)\n",
      "samtools: /home/adrian/anaconda3/bin/../lib/libncursesw.so.6: no version information available (required by samtools)\n"
     ]
    },
    {
     "name": "stdout",
     "output_type": "stream",
     "text": [
      "time samtools markdup -@ 20 -r /home/adrian/projects/reynisfjara/data/bam/a4774_72h_2/positionsort.bam /home/adrian/projects/reynisfjara/data/bam/a4774_72h_2/markdup.bam\n"
     ]
    },
    {
     "name": "stderr",
     "output_type": "stream",
     "text": [
      "325.14user 6.76system 0:49.47elapsed 670%CPU (0avgtext+0avgdata 314296maxresident)k\n",
      "2264inputs+5613600outputs (12major+79546minor)pagefaults 0swaps\n",
      "samtools: /home/adrian/anaconda3/bin/../lib/libtinfow.so.6: no version information available (required by samtools)\n",
      "samtools: /home/adrian/anaconda3/bin/../lib/libncursesw.so.6: no version information available (required by samtools)\n",
      "samtools: /home/adrian/anaconda3/bin/../lib/libncursesw.so.6: no version information available (required by samtools)\n"
     ]
    },
    {
     "name": "stdout",
     "output_type": "stream",
     "text": [
      "time samtools sort -@ 20 -n -o /home/adrian/projects/reynisfjara/data/bam/a4775_0h_1/namesort.bam /home/adrian/projects/reynisfjara/data/bam/a4775_0h_1/a4775_0h_1.bam\n"
     ]
    },
    {
     "name": "stderr",
     "output_type": "stream",
     "text": [
      "[bam_sort_core] merging from 1 files and 20 in-memory blocks...\n",
      "632.26user 16.66system 0:49.50elapsed 1310%CPU (0avgtext+0avgdata 17566960maxresident)k\n",
      "7794344inputs+15484088outputs (0major+4419236minor)pagefaults 0swaps\n",
      "samtools: /home/adrian/anaconda3/bin/../lib/libtinfow.so.6: no version information available (required by samtools)\n",
      "samtools: /home/adrian/anaconda3/bin/../lib/libncursesw.so.6: no version information available (required by samtools)\n",
      "samtools: /home/adrian/anaconda3/bin/../lib/libncursesw.so.6: no version information available (required by samtools)\n"
     ]
    },
    {
     "name": "stdout",
     "output_type": "stream",
     "text": [
      "time samtools fixmate -@ 20 -m /home/adrian/projects/reynisfjara/data/bam/a4775_0h_1/namesort.bam /home/adrian/projects/reynisfjara/data/bam/a4775_0h_1/fixmate.bam\n"
     ]
    },
    {
     "name": "stderr",
     "output_type": "stream",
     "text": [
      "339.36user 7.27system 0:25.53elapsed 1357%CPU (0avgtext+0avgdata 52368maxresident)k\n",
      "1976inputs+8084256outputs (11major+14140minor)pagefaults 0swaps\n",
      "samtools: /home/adrian/anaconda3/bin/../lib/libtinfow.so.6: no version information available (required by samtools)\n",
      "samtools: /home/adrian/anaconda3/bin/../lib/libncursesw.so.6: no version information available (required by samtools)\n",
      "samtools: /home/adrian/anaconda3/bin/../lib/libncursesw.so.6: no version information available (required by samtools)\n"
     ]
    },
    {
     "name": "stdout",
     "output_type": "stream",
     "text": [
      "time samtools sort -@ 20 -o /home/adrian/projects/reynisfjara/data/bam/a4775_0h_1/positionsort.bam /home/adrian/projects/reynisfjara/data/bam/a4775_0h_1/fixmate.bam\n"
     ]
    },
    {
     "name": "stderr",
     "output_type": "stream",
     "text": [
      "[bam_sort_core] merging from 1 files and 20 in-memory blocks...\n",
      "409.93user 13.26system 0:38.75elapsed 1091%CPU (0avgtext+0avgdata 17507688maxresident)k\n",
      "296inputs+8126552outputs (0major+4411810minor)pagefaults 0swaps\n",
      "samtools: /home/adrian/anaconda3/bin/../lib/libtinfow.so.6: no version information available (required by samtools)\n",
      "samtools: /home/adrian/anaconda3/bin/../lib/libncursesw.so.6: no version information available (required by samtools)\n",
      "samtools: /home/adrian/anaconda3/bin/../lib/libncursesw.so.6: no version information available (required by samtools)\n"
     ]
    },
    {
     "name": "stdout",
     "output_type": "stream",
     "text": [
      "time samtools markdup -@ 20 -r /home/adrian/projects/reynisfjara/data/bam/a4775_0h_1/positionsort.bam /home/adrian/projects/reynisfjara/data/bam/a4775_0h_1/markdup.bam\n"
     ]
    },
    {
     "name": "stderr",
     "output_type": "stream",
     "text": [
      "195.65user 3.86system 0:28.70elapsed 695%CPU (0avgtext+0avgdata 208616maxresident)k\n",
      "2184inputs+3341200outputs (12major+53042minor)pagefaults 0swaps\n",
      "samtools: /home/adrian/anaconda3/bin/../lib/libtinfow.so.6: no version information available (required by samtools)\n",
      "samtools: /home/adrian/anaconda3/bin/../lib/libncursesw.so.6: no version information available (required by samtools)\n",
      "samtools: /home/adrian/anaconda3/bin/../lib/libncursesw.so.6: no version information available (required by samtools)\n"
     ]
    },
    {
     "name": "stdout",
     "output_type": "stream",
     "text": [
      "time samtools sort -@ 20 -n -o /home/adrian/projects/reynisfjara/data/bam/a4775_0h_2/namesort.bam /home/adrian/projects/reynisfjara/data/bam/a4775_0h_2/a4775_0h_2.bam\n"
     ]
    },
    {
     "name": "stderr",
     "output_type": "stream",
     "text": [
      "[bam_sort_core] merging from 1 files and 20 in-memory blocks...\n",
      "943.25user 21.31system 1:10.11elapsed 1375%CPU (0avgtext+0avgdata 17567928maxresident)k\n",
      "19703160inputs+20134464outputs (0major+4571420minor)pagefaults 0swaps\n",
      "samtools: /home/adrian/anaconda3/bin/../lib/libtinfow.so.6: no version information available (required by samtools)\n",
      "samtools: /home/adrian/anaconda3/bin/../lib/libncursesw.so.6: no version information available (required by samtools)\n",
      "samtools: /home/adrian/anaconda3/bin/../lib/libncursesw.so.6: no version information available (required by samtools)\n"
     ]
    },
    {
     "name": "stdout",
     "output_type": "stream",
     "text": [
      "time samtools fixmate -@ 20 -m /home/adrian/projects/reynisfjara/data/bam/a4775_0h_2/namesort.bam /home/adrian/projects/reynisfjara/data/bam/a4775_0h_2/fixmate.bam\n"
     ]
    },
    {
     "name": "stderr",
     "output_type": "stream",
     "text": [
      "531.46user 11.81system 0:48.06elapsed 1130%CPU (0avgtext+0avgdata 52620maxresident)k\n",
      "3868424inputs+13003032outputs (17major+14148minor)pagefaults 0swaps\n",
      "samtools: /home/adrian/anaconda3/bin/../lib/libtinfow.so.6: no version information available (required by samtools)\n",
      "samtools: /home/adrian/anaconda3/bin/../lib/libncursesw.so.6: no version information available (required by samtools)\n",
      "samtools: /home/adrian/anaconda3/bin/../lib/libncursesw.so.6: no version information available (required by samtools)\n"
     ]
    },
    {
     "name": "stdout",
     "output_type": "stream",
     "text": [
      "time samtools sort -@ 20 -o /home/adrian/projects/reynisfjara/data/bam/a4775_0h_2/positionsort.bam /home/adrian/projects/reynisfjara/data/bam/a4775_0h_2/fixmate.bam\n"
     ]
    },
    {
     "name": "stderr",
     "output_type": "stream",
     "text": [
      "[bam_sort_core] merging from 1 files and 20 in-memory blocks...\n",
      "603.45user 16.57system 0:54.48elapsed 1138%CPU (0avgtext+0avgdata 17508604maxresident)k\n",
      "912inputs+10296960outputs (0major+4564240minor)pagefaults 0swaps\n",
      "samtools: /home/adrian/anaconda3/bin/../lib/libtinfow.so.6: no version information available (required by samtools)\n",
      "samtools: /home/adrian/anaconda3/bin/../lib/libncursesw.so.6: no version information available (required by samtools)\n",
      "samtools: /home/adrian/anaconda3/bin/../lib/libncursesw.so.6: no version information available (required by samtools)\n"
     ]
    },
    {
     "name": "stdout",
     "output_type": "stream",
     "text": [
      "time samtools markdup -@ 20 -r /home/adrian/projects/reynisfjara/data/bam/a4775_0h_2/positionsort.bam /home/adrian/projects/reynisfjara/data/bam/a4775_0h_2/markdup.bam\n"
     ]
    },
    {
     "name": "stderr",
     "output_type": "stream",
     "text": [
      "292.13user 5.88system 0:47.99elapsed 620%CPU (0avgtext+0avgdata 275700maxresident)k\n",
      "2440inputs+5004776outputs (12major+69887minor)pagefaults 0swaps\n",
      "samtools: /home/adrian/anaconda3/bin/../lib/libtinfow.so.6: no version information available (required by samtools)\n",
      "samtools: /home/adrian/anaconda3/bin/../lib/libncursesw.so.6: no version information available (required by samtools)\n",
      "samtools: /home/adrian/anaconda3/bin/../lib/libncursesw.so.6: no version information available (required by samtools)\n"
     ]
    },
    {
     "name": "stdout",
     "output_type": "stream",
     "text": [
      "time samtools sort -@ 20 -n -o /home/adrian/projects/reynisfjara/data/bam/a4775_0h_3/namesort.bam /home/adrian/projects/reynisfjara/data/bam/a4775_0h_3/a4775_0h_3.bam\n"
     ]
    },
    {
     "name": "stderr",
     "output_type": "stream",
     "text": [
      "[bam_sort_core] merging from 1 files and 20 in-memory blocks...\n",
      "839.85user 18.85system 1:02.22elapsed 1379%CPU (0avgtext+0avgdata 17567544maxresident)k\n",
      "10881016inputs+18544248outputs (0major+4516576minor)pagefaults 0swaps\n",
      "samtools: /home/adrian/anaconda3/bin/../lib/libtinfow.so.6: no version information available (required by samtools)\n",
      "samtools: /home/adrian/anaconda3/bin/../lib/libncursesw.so.6: no version information available (required by samtools)\n",
      "samtools: /home/adrian/anaconda3/bin/../lib/libncursesw.so.6: no version information available (required by samtools)\n"
     ]
    },
    {
     "name": "stdout",
     "output_type": "stream",
     "text": [
      "time samtools fixmate -@ 20 -m /home/adrian/projects/reynisfjara/data/bam/a4775_0h_3/namesort.bam /home/adrian/projects/reynisfjara/data/bam/a4775_0h_3/fixmate.bam\n"
     ]
    },
    {
     "name": "stderr",
     "output_type": "stream",
     "text": [
      "474.28user 9.51system 0:36.96elapsed 1308%CPU (0avgtext+0avgdata 52308maxresident)k\n",
      "2344inputs+11293576outputs (11major+14149minor)pagefaults 0swaps\n",
      "samtools: /home/adrian/anaconda3/bin/../lib/libtinfow.so.6: no version information available (required by samtools)\n",
      "samtools: /home/adrian/anaconda3/bin/../lib/libncursesw.so.6: no version information available (required by samtools)\n",
      "samtools: /home/adrian/anaconda3/bin/../lib/libncursesw.so.6: no version information available (required by samtools)\n"
     ]
    },
    {
     "name": "stdout",
     "output_type": "stream",
     "text": [
      "time samtools sort -@ 20 -o /home/adrian/projects/reynisfjara/data/bam/a4775_0h_3/positionsort.bam /home/adrian/projects/reynisfjara/data/bam/a4775_0h_3/fixmate.bam\n"
     ]
    },
    {
     "name": "stderr",
     "output_type": "stream",
     "text": [
      "[bam_sort_core] merging from 1 files and 20 in-memory blocks...\n",
      "544.44user 15.61system 0:49.69elapsed 1126%CPU (0avgtext+0avgdata 17506952maxresident)k\n",
      "440inputs+9561504outputs (0major+4509388minor)pagefaults 0swaps\n",
      "samtools: /home/adrian/anaconda3/bin/../lib/libtinfow.so.6: no version information available (required by samtools)\n",
      "samtools: /home/adrian/anaconda3/bin/../lib/libncursesw.so.6: no version information available (required by samtools)\n",
      "samtools: /home/adrian/anaconda3/bin/../lib/libncursesw.so.6: no version information available (required by samtools)\n"
     ]
    },
    {
     "name": "stdout",
     "output_type": "stream",
     "text": [
      "time samtools markdup -@ 20 -r /home/adrian/projects/reynisfjara/data/bam/a4775_0h_3/positionsort.bam /home/adrian/projects/reynisfjara/data/bam/a4775_0h_3/markdup.bam\n"
     ]
    },
    {
     "name": "stderr",
     "output_type": "stream",
     "text": [
      "255.70user 5.55system 0:40.43elapsed 646%CPU (0avgtext+0avgdata 261640maxresident)k\n",
      "2456inputs+4415328outputs (12major+66392minor)pagefaults 0swaps\n",
      "samtools: /home/adrian/anaconda3/bin/../lib/libtinfow.so.6: no version information available (required by samtools)\n",
      "samtools: /home/adrian/anaconda3/bin/../lib/libncursesw.so.6: no version information available (required by samtools)\n",
      "samtools: /home/adrian/anaconda3/bin/../lib/libncursesw.so.6: no version information available (required by samtools)\n"
     ]
    },
    {
     "name": "stdout",
     "output_type": "stream",
     "text": [
      "time samtools sort -@ 20 -n -o /home/adrian/projects/reynisfjara/data/bam/a4775_48h_1/namesort.bam /home/adrian/projects/reynisfjara/data/bam/a4775_48h_1/a4775_48h_1.bam\n"
     ]
    },
    {
     "name": "stderr",
     "output_type": "stream",
     "text": [
      "[bam_sort_core] merging from 1 files and 20 in-memory blocks...\n",
      "746.59user 17.89system 0:57.04elapsed 1340%CPU (0avgtext+0avgdata 17566200maxresident)k\n",
      "9501048inputs+17189848outputs (0major+4472171minor)pagefaults 0swaps\n",
      "samtools: /home/adrian/anaconda3/bin/../lib/libtinfow.so.6: no version information available (required by samtools)\n",
      "samtools: /home/adrian/anaconda3/bin/../lib/libncursesw.so.6: no version information available (required by samtools)\n",
      "samtools: /home/adrian/anaconda3/bin/../lib/libncursesw.so.6: no version information available (required by samtools)\n"
     ]
    },
    {
     "name": "stdout",
     "output_type": "stream",
     "text": [
      "time samtools fixmate -@ 20 -m /home/adrian/projects/reynisfjara/data/bam/a4775_48h_1/namesort.bam /home/adrian/projects/reynisfjara/data/bam/a4775_48h_1/fixmate.bam\n"
     ]
    },
    {
     "name": "stderr",
     "output_type": "stream",
     "text": [
      "411.89user 8.71system 0:36.77elapsed 1143%CPU (0avgtext+0avgdata 52108maxresident)k\n",
      "2296inputs+9854216outputs (11major+13878minor)pagefaults 0swaps\n",
      "samtools: /home/adrian/anaconda3/bin/../lib/libtinfow.so.6: no version information available (required by samtools)\n",
      "samtools: /home/adrian/anaconda3/bin/../lib/libncursesw.so.6: no version information available (required by samtools)\n",
      "samtools: /home/adrian/anaconda3/bin/../lib/libncursesw.so.6: no version information available (required by samtools)\n"
     ]
    },
    {
     "name": "stdout",
     "output_type": "stream",
     "text": [
      "time samtools sort -@ 20 -o /home/adrian/projects/reynisfjara/data/bam/a4775_48h_1/positionsort.bam /home/adrian/projects/reynisfjara/data/bam/a4775_48h_1/fixmate.bam\n"
     ]
    },
    {
     "name": "stderr",
     "output_type": "stream",
     "text": [
      "[bam_sort_core] merging from 1 files and 20 in-memory blocks...\n",
      "491.95user 14.86system 0:46.37elapsed 1092%CPU (0avgtext+0avgdata 17505688maxresident)k\n",
      "456inputs+9064256outputs (0major+4464503minor)pagefaults 0swaps\n",
      "samtools: /home/adrian/anaconda3/bin/../lib/libtinfow.so.6: no version information available (required by samtools)\n",
      "samtools: /home/adrian/anaconda3/bin/../lib/libncursesw.so.6: no version information available (required by samtools)\n",
      "samtools: /home/adrian/anaconda3/bin/../lib/libncursesw.so.6: no version information available (required by samtools)\n"
     ]
    },
    {
     "name": "stdout",
     "output_type": "stream",
     "text": [
      "time samtools markdup -@ 20 -r /home/adrian/projects/reynisfjara/data/bam/a4775_48h_1/positionsort.bam /home/adrian/projects/reynisfjara/data/bam/a4775_48h_1/markdup.bam\n"
     ]
    },
    {
     "name": "stderr",
     "output_type": "stream",
     "text": [
      "236.75user 4.91system 0:35.42elapsed 682%CPU (0avgtext+0avgdata 196908maxresident)k\n",
      "2400inputs+4065096outputs (12major+50075minor)pagefaults 0swaps\n",
      "samtools: /home/adrian/anaconda3/bin/../lib/libtinfow.so.6: no version information available (required by samtools)\n",
      "samtools: /home/adrian/anaconda3/bin/../lib/libncursesw.so.6: no version information available (required by samtools)\n",
      "samtools: /home/adrian/anaconda3/bin/../lib/libncursesw.so.6: no version information available (required by samtools)\n"
     ]
    },
    {
     "name": "stdout",
     "output_type": "stream",
     "text": [
      "time samtools sort -@ 20 -n -o /home/adrian/projects/reynisfjara/data/bam/a4775_48h_2/namesort.bam /home/adrian/projects/reynisfjara/data/bam/a4775_48h_2/a4775_48h_2.bam\n"
     ]
    },
    {
     "name": "stderr",
     "output_type": "stream",
     "text": [
      "[bam_sort_core] merging from 1 files and 20 in-memory blocks...\n",
      "912.82user 19.82system 1:05.97elapsed 1413%CPU (0avgtext+0avgdata 17566644maxresident)k\n",
      "12518824inputs+19576352outputs (0major+4545472minor)pagefaults 0swaps\n",
      "samtools: /home/adrian/anaconda3/bin/../lib/libtinfow.so.6: no version information available (required by samtools)\n",
      "samtools: /home/adrian/anaconda3/bin/../lib/libncursesw.so.6: no version information available (required by samtools)\n",
      "samtools: /home/adrian/anaconda3/bin/../lib/libncursesw.so.6: no version information available (required by samtools)\n"
     ]
    },
    {
     "name": "stdout",
     "output_type": "stream",
     "text": [
      "time samtools fixmate -@ 20 -m /home/adrian/projects/reynisfjara/data/bam/a4775_48h_2/namesort.bam /home/adrian/projects/reynisfjara/data/bam/a4775_48h_2/fixmate.bam\n"
     ]
    },
    {
     "name": "stderr",
     "output_type": "stream",
     "text": [
      "510.73user 10.54system 0:40.71elapsed 1280%CPU (0avgtext+0avgdata 52620maxresident)k\n",
      "2104inputs+12319488outputs (11major+14153minor)pagefaults 0swaps\n",
      "samtools: /home/adrian/anaconda3/bin/../lib/libtinfow.so.6: no version information available (required by samtools)\n",
      "samtools: /home/adrian/anaconda3/bin/../lib/libncursesw.so.6: no version information available (required by samtools)\n",
      "samtools: /home/adrian/anaconda3/bin/../lib/libncursesw.so.6: no version information available (required by samtools)\n"
     ]
    },
    {
     "name": "stdout",
     "output_type": "stream",
     "text": [
      "time samtools sort -@ 20 -o /home/adrian/projects/reynisfjara/data/bam/a4775_48h_2/positionsort.bam /home/adrian/projects/reynisfjara/data/bam/a4775_48h_2/fixmate.bam\n"
     ]
    },
    {
     "name": "stderr",
     "output_type": "stream",
     "text": [
      "[bam_sort_core] merging from 1 files and 20 in-memory blocks...\n",
      "589.44user 17.20system 0:52.24elapsed 1161%CPU (0avgtext+0avgdata 17506520maxresident)k\n",
      "424inputs+10192328outputs (0major+4538090minor)pagefaults 0swaps\n",
      "samtools: /home/adrian/anaconda3/bin/../lib/libtinfow.so.6: no version information available (required by samtools)\n",
      "samtools: /home/adrian/anaconda3/bin/../lib/libncursesw.so.6: no version information available (required by samtools)\n",
      "samtools: /home/adrian/anaconda3/bin/../lib/libncursesw.so.6: no version information available (required by samtools)\n"
     ]
    },
    {
     "name": "stdout",
     "output_type": "stream",
     "text": [
      "time samtools markdup -@ 20 -r /home/adrian/projects/reynisfjara/data/bam/a4775_48h_2/positionsort.bam /home/adrian/projects/reynisfjara/data/bam/a4775_48h_2/markdup.bam\n"
     ]
    },
    {
     "name": "stderr",
     "output_type": "stream",
     "text": [
      "288.62user 5.94system 0:44.14elapsed 667%CPU (0avgtext+0avgdata 238736maxresident)k\n",
      "2104inputs+4935096outputs (12major+60561minor)pagefaults 0swaps\n",
      "samtools: /home/adrian/anaconda3/bin/../lib/libtinfow.so.6: no version information available (required by samtools)\n",
      "samtools: /home/adrian/anaconda3/bin/../lib/libncursesw.so.6: no version information available (required by samtools)\n",
      "samtools: /home/adrian/anaconda3/bin/../lib/libncursesw.so.6: no version information available (required by samtools)\n"
     ]
    },
    {
     "name": "stdout",
     "output_type": "stream",
     "text": [
      "time samtools sort -@ 20 -n -o /home/adrian/projects/reynisfjara/data/bam/a4775_48h_3/namesort.bam /home/adrian/projects/reynisfjara/data/bam/a4775_48h_3/a4775_48h_3.bam\n"
     ]
    },
    {
     "name": "stderr",
     "output_type": "stream",
     "text": [
      "[bam_sort_core] merging from 1 files and 20 in-memory blocks...\n",
      "881.52user 19.64system 1:05.25elapsed 1380%CPU (0avgtext+0avgdata 17566876maxresident)k\n",
      "11560992inputs+19105832outputs (0major+4535318minor)pagefaults 0swaps\n",
      "samtools: /home/adrian/anaconda3/bin/../lib/libtinfow.so.6: no version information available (required by samtools)\n",
      "samtools: /home/adrian/anaconda3/bin/../lib/libncursesw.so.6: no version information available (required by samtools)\n",
      "samtools: /home/adrian/anaconda3/bin/../lib/libncursesw.so.6: no version information available (required by samtools)\n"
     ]
    },
    {
     "name": "stdout",
     "output_type": "stream",
     "text": [
      "time samtools fixmate -@ 20 -m /home/adrian/projects/reynisfjara/data/bam/a4775_48h_3/namesort.bam /home/adrian/projects/reynisfjara/data/bam/a4775_48h_3/fixmate.bam\n"
     ]
    },
    {
     "name": "stderr",
     "output_type": "stream",
     "text": [
      "493.10user 10.83system 0:39.43elapsed 1277%CPU (0avgtext+0avgdata 52956maxresident)k\n",
      "2072inputs+11895240outputs (11major+14149minor)pagefaults 0swaps\n",
      "samtools: /home/adrian/anaconda3/bin/../lib/libtinfow.so.6: no version information available (required by samtools)\n",
      "samtools: /home/adrian/anaconda3/bin/../lib/libncursesw.so.6: no version information available (required by samtools)\n",
      "samtools: /home/adrian/anaconda3/bin/../lib/libncursesw.so.6: no version information available (required by samtools)\n"
     ]
    },
    {
     "name": "stdout",
     "output_type": "stream",
     "text": [
      "time samtools sort -@ 20 -o /home/adrian/projects/reynisfjara/data/bam/a4775_48h_3/positionsort.bam /home/adrian/projects/reynisfjara/data/bam/a4775_48h_3/fixmate.bam\n"
     ]
    },
    {
     "name": "stderr",
     "output_type": "stream",
     "text": [
      "[bam_sort_core] merging from 1 files and 20 in-memory blocks...\n",
      "563.22user 16.89system 0:55.24elapsed 1050%CPU (0avgtext+0avgdata 17507136maxresident)k\n",
      "400inputs+9897320outputs (0major+4528397minor)pagefaults 0swaps\n",
      "samtools: /home/adrian/anaconda3/bin/../lib/libtinfow.so.6: no version information available (required by samtools)\n",
      "samtools: /home/adrian/anaconda3/bin/../lib/libncursesw.so.6: no version information available (required by samtools)\n",
      "samtools: /home/adrian/anaconda3/bin/../lib/libncursesw.so.6: no version information available (required by samtools)\n"
     ]
    },
    {
     "name": "stdout",
     "output_type": "stream",
     "text": [
      "time samtools markdup -@ 20 -r /home/adrian/projects/reynisfjara/data/bam/a4775_48h_3/positionsort.bam /home/adrian/projects/reynisfjara/data/bam/a4775_48h_3/markdup.bam\n"
     ]
    },
    {
     "name": "stderr",
     "output_type": "stream",
     "text": [
      "277.09user 5.32system 0:43.35elapsed 651%CPU (0avgtext+0avgdata 246004maxresident)k\n",
      "2056inputs+4661544outputs (12major+62294minor)pagefaults 0swaps\n",
      "samtools: /home/adrian/anaconda3/bin/../lib/libtinfow.so.6: no version information available (required by samtools)\n",
      "samtools: /home/adrian/anaconda3/bin/../lib/libncursesw.so.6: no version information available (required by samtools)\n",
      "samtools: /home/adrian/anaconda3/bin/../lib/libncursesw.so.6: no version information available (required by samtools)\n"
     ]
    },
    {
     "name": "stdout",
     "output_type": "stream",
     "text": [
      "time samtools sort -@ 20 -n -o /home/adrian/projects/reynisfjara/data/bam/a4775_72h_1/namesort.bam /home/adrian/projects/reynisfjara/data/bam/a4775_72h_1/a4775_72h_1.bam\n"
     ]
    },
    {
     "name": "stderr",
     "output_type": "stream",
     "text": [
      "[bam_sort_core] merging from 1 files and 20 in-memory blocks...\n",
      "1009.11user 22.21system 1:16.45elapsed 1348%CPU (0avgtext+0avgdata 17567224maxresident)k\n",
      "21077608inputs+21106296outputs (0major+4593780minor)pagefaults 0swaps\n",
      "samtools: /home/adrian/anaconda3/bin/../lib/libtinfow.so.6: no version information available (required by samtools)\n",
      "samtools: /home/adrian/anaconda3/bin/../lib/libncursesw.so.6: no version information available (required by samtools)\n",
      "samtools: /home/adrian/anaconda3/bin/../lib/libncursesw.so.6: no version information available (required by samtools)\n"
     ]
    },
    {
     "name": "stdout",
     "output_type": "stream",
     "text": [
      "time samtools fixmate -@ 20 -m /home/adrian/projects/reynisfjara/data/bam/a4775_72h_1/namesort.bam /home/adrian/projects/reynisfjara/data/bam/a4775_72h_1/fixmate.bam\n"
     ]
    },
    {
     "name": "stderr",
     "output_type": "stream",
     "text": [
      "582.83user 12.36system 0:47.67elapsed 1248%CPU (0avgtext+0avgdata 52620maxresident)k\n",
      "3867272inputs+13954736outputs (11major+14171minor)pagefaults 0swaps\n",
      "samtools: /home/adrian/anaconda3/bin/../lib/libtinfow.so.6: no version information available (required by samtools)\n",
      "samtools: /home/adrian/anaconda3/bin/../lib/libncursesw.so.6: no version information available (required by samtools)\n",
      "samtools: /home/adrian/anaconda3/bin/../lib/libncursesw.so.6: no version information available (required by samtools)\n"
     ]
    },
    {
     "name": "stdout",
     "output_type": "stream",
     "text": [
      "time samtools sort -@ 20 -o /home/adrian/projects/reynisfjara/data/bam/a4775_72h_1/positionsort.bam /home/adrian/projects/reynisfjara/data/bam/a4775_72h_1/fixmate.bam\n"
     ]
    },
    {
     "name": "stderr",
     "output_type": "stream",
     "text": [
      "[bam_sort_core] merging from 1 files and 20 in-memory blocks...\n",
      "657.90user 17.79system 0:56.82elapsed 1189%CPU (0avgtext+0avgdata 17507432maxresident)k\n",
      "496inputs+10982192outputs (0major+4586188minor)pagefaults 0swaps\n",
      "samtools: /home/adrian/anaconda3/bin/../lib/libtinfow.so.6: no version information available (required by samtools)\n",
      "samtools: /home/adrian/anaconda3/bin/../lib/libncursesw.so.6: no version information available (required by samtools)\n",
      "samtools: /home/adrian/anaconda3/bin/../lib/libncursesw.so.6: no version information available (required by samtools)\n"
     ]
    },
    {
     "name": "stdout",
     "output_type": "stream",
     "text": [
      "time samtools markdup -@ 20 -r /home/adrian/projects/reynisfjara/data/bam/a4775_72h_1/positionsort.bam /home/adrian/projects/reynisfjara/data/bam/a4775_72h_1/markdup.bam\n"
     ]
    },
    {
     "name": "stderr",
     "output_type": "stream",
     "text": [
      "312.23user 6.42system 0:49.16elapsed 648%CPU (0avgtext+0avgdata 280112maxresident)k\n",
      "2232inputs+5428784outputs (12major+70856minor)pagefaults 0swaps\n",
      "samtools: /home/adrian/anaconda3/bin/../lib/libtinfow.so.6: no version information available (required by samtools)\n",
      "samtools: /home/adrian/anaconda3/bin/../lib/libncursesw.so.6: no version information available (required by samtools)\n",
      "samtools: /home/adrian/anaconda3/bin/../lib/libncursesw.so.6: no version information available (required by samtools)\n"
     ]
    },
    {
     "name": "stdout",
     "output_type": "stream",
     "text": [
      "time samtools sort -@ 20 -n -o /home/adrian/projects/reynisfjara/data/bam/a4775_72h_2/namesort.bam /home/adrian/projects/reynisfjara/data/bam/a4775_72h_2/a4775_72h_2.bam\n"
     ]
    },
    {
     "name": "stderr",
     "output_type": "stream",
     "text": [
      "[bam_sort_core] merging from 1 files and 20 in-memory blocks...\n",
      "960.88user 22.00system 1:10.96elapsed 1385%CPU (0avgtext+0avgdata 17567476maxresident)k\n",
      "20308024inputs+20327448outputs (1major+4567802minor)pagefaults 0swaps\n",
      "samtools: /home/adrian/anaconda3/bin/../lib/libtinfow.so.6: no version information available (required by samtools)\n",
      "samtools: /home/adrian/anaconda3/bin/../lib/libncursesw.so.6: no version information available (required by samtools)\n",
      "samtools: /home/adrian/anaconda3/bin/../lib/libncursesw.so.6: no version information available (required by samtools)\n"
     ]
    },
    {
     "name": "stdout",
     "output_type": "stream",
     "text": [
      "time samtools fixmate -@ 20 -m /home/adrian/projects/reynisfjara/data/bam/a4775_72h_2/namesort.bam /home/adrian/projects/reynisfjara/data/bam/a4775_72h_2/fixmate.bam\n"
     ]
    },
    {
     "name": "stderr",
     "output_type": "stream",
     "text": [
      "545.99user 11.98system 0:47.15elapsed 1183%CPU (0avgtext+0avgdata 53256maxresident)k\n",
      "4218544inputs+13112024outputs (16major+14209minor)pagefaults 0swaps\n",
      "samtools: /home/adrian/anaconda3/bin/../lib/libtinfow.so.6: no version information available (required by samtools)\n",
      "samtools: /home/adrian/anaconda3/bin/../lib/libncursesw.so.6: no version information available (required by samtools)\n",
      "samtools: /home/adrian/anaconda3/bin/../lib/libncursesw.so.6: no version information available (required by samtools)\n"
     ]
    },
    {
     "name": "stdout",
     "output_type": "stream",
     "text": [
      "time samtools sort -@ 20 -o /home/adrian/projects/reynisfjara/data/bam/a4775_72h_2/positionsort.bam /home/adrian/projects/reynisfjara/data/bam/a4775_72h_2/fixmate.bam\n"
     ]
    },
    {
     "name": "stderr",
     "output_type": "stream",
     "text": [
      "[bam_sort_core] merging from 1 files and 20 in-memory blocks...\n",
      "626.27user 17.45system 0:53.94elapsed 1193%CPU (0avgtext+0avgdata 17507460maxresident)k\n",
      "544inputs+10697088outputs (0major+4560045minor)pagefaults 0swaps\n",
      "samtools: /home/adrian/anaconda3/bin/../lib/libtinfow.so.6: no version information available (required by samtools)\n",
      "samtools: /home/adrian/anaconda3/bin/../lib/libncursesw.so.6: no version information available (required by samtools)\n",
      "samtools: /home/adrian/anaconda3/bin/../lib/libncursesw.so.6: no version information available (required by samtools)\n"
     ]
    },
    {
     "name": "stdout",
     "output_type": "stream",
     "text": [
      "time samtools markdup -@ 20 -r /home/adrian/projects/reynisfjara/data/bam/a4775_72h_2/positionsort.bam /home/adrian/projects/reynisfjara/data/bam/a4775_72h_2/markdup.bam\n"
     ]
    },
    {
     "name": "stderr",
     "output_type": "stream",
     "text": [
      "313.60user 6.26system 0:47.43elapsed 674%CPU (0avgtext+0avgdata 252116maxresident)k\n",
      "2168inputs+5288040outputs (12major+63802minor)pagefaults 0swaps\n",
      "samtools: /home/adrian/anaconda3/bin/../lib/libtinfow.so.6: no version information available (required by samtools)\n",
      "samtools: /home/adrian/anaconda3/bin/../lib/libncursesw.so.6: no version information available (required by samtools)\n",
      "samtools: /home/adrian/anaconda3/bin/../lib/libncursesw.so.6: no version information available (required by samtools)\n"
     ]
    },
    {
     "name": "stdout",
     "output_type": "stream",
     "text": [
      "time samtools sort -@ 20 -n -o /home/adrian/projects/reynisfjara/data/bam/a4775_72h_3/namesort.bam /home/adrian/projects/reynisfjara/data/bam/a4775_72h_3/a4775_72h_3.bam\n"
     ]
    },
    {
     "name": "stderr",
     "output_type": "stream",
     "text": [
      "[bam_sort_core] merging from 1 files and 20 in-memory blocks...\n",
      "744.28user 18.05system 0:56.89elapsed 1339%CPU (0avgtext+0avgdata 17567096maxresident)k\n",
      "9399352inputs+17141840outputs (0major+4467381minor)pagefaults 0swaps\n",
      "samtools: /home/adrian/anaconda3/bin/../lib/libtinfow.so.6: no version information available (required by samtools)\n",
      "samtools: /home/adrian/anaconda3/bin/../lib/libncursesw.so.6: no version information available (required by samtools)\n",
      "samtools: /home/adrian/anaconda3/bin/../lib/libncursesw.so.6: no version information available (required by samtools)\n"
     ]
    },
    {
     "name": "stdout",
     "output_type": "stream",
     "text": [
      "time samtools fixmate -@ 20 -m /home/adrian/projects/reynisfjara/data/bam/a4775_72h_3/namesort.bam /home/adrian/projects/reynisfjara/data/bam/a4775_72h_3/fixmate.bam\n"
     ]
    },
    {
     "name": "stderr",
     "output_type": "stream",
     "text": [
      "413.63user 8.20system 0:32.75elapsed 1287%CPU (0avgtext+0avgdata 52400maxresident)k\n",
      "2008inputs+9761464outputs (11major+14175minor)pagefaults 0swaps\n",
      "samtools: /home/adrian/anaconda3/bin/../lib/libtinfow.so.6: no version information available (required by samtools)\n",
      "samtools: /home/adrian/anaconda3/bin/../lib/libncursesw.so.6: no version information available (required by samtools)\n",
      "samtools: /home/adrian/anaconda3/bin/../lib/libncursesw.so.6: no version information available (required by samtools)\n"
     ]
    },
    {
     "name": "stdout",
     "output_type": "stream",
     "text": [
      "time samtools sort -@ 20 -o /home/adrian/projects/reynisfjara/data/bam/a4775_72h_3/positionsort.bam /home/adrian/projects/reynisfjara/data/bam/a4775_72h_3/fixmate.bam\n"
     ]
    },
    {
     "name": "stderr",
     "output_type": "stream",
     "text": [
      "[bam_sort_core] merging from 1 files and 20 in-memory blocks...\n",
      "492.73user 14.89system 0:45.38elapsed 1118%CPU (0avgtext+0avgdata 17507356maxresident)k\n",
      "504inputs+9176456outputs (0major+4460244minor)pagefaults 0swaps\n",
      "samtools: /home/adrian/anaconda3/bin/../lib/libtinfow.so.6: no version information available (required by samtools)\n",
      "samtools: /home/adrian/anaconda3/bin/../lib/libncursesw.so.6: no version information available (required by samtools)\n",
      "samtools: /home/adrian/anaconda3/bin/../lib/libncursesw.so.6: no version information available (required by samtools)\n"
     ]
    },
    {
     "name": "stdout",
     "output_type": "stream",
     "text": [
      "time samtools markdup -@ 20 -r /home/adrian/projects/reynisfjara/data/bam/a4775_72h_3/positionsort.bam /home/adrian/projects/reynisfjara/data/bam/a4775_72h_3/markdup.bam\n"
     ]
    },
    {
     "name": "stderr",
     "output_type": "stream",
     "text": [
      "239.35user 4.66system 0:34.55elapsed 706%CPU (0avgtext+0avgdata 203060maxresident)k\n",
      "2056inputs+4135264outputs (12major+51734minor)pagefaults 0swaps\n",
      "samtools: /home/adrian/anaconda3/bin/../lib/libtinfow.so.6: no version information available (required by samtools)\n",
      "samtools: /home/adrian/anaconda3/bin/../lib/libncursesw.so.6: no version information available (required by samtools)\n",
      "samtools: /home/adrian/anaconda3/bin/../lib/libncursesw.so.6: no version information available (required by samtools)\n"
     ]
    },
    {
     "name": "stdout",
     "output_type": "stream",
     "text": [
      "time samtools sort -@ 20 -n -o /home/adrian/projects/reynisfjara/data/bam/a4776_0h_1/namesort.bam /home/adrian/projects/reynisfjara/data/bam/a4776_0h_1/a4776_0h_1.bam\n"
     ]
    },
    {
     "name": "stderr",
     "output_type": "stream",
     "text": [
      "[bam_sort_core] merging from 1 files and 20 in-memory blocks...\n",
      "698.10user 17.55system 0:53.76elapsed 1331%CPU (0avgtext+0avgdata 17567892maxresident)k\n",
      "8756256inputs+16398808outputs (0major+4451335minor)pagefaults 0swaps\n",
      "samtools: /home/adrian/anaconda3/bin/../lib/libtinfow.so.6: no version information available (required by samtools)\n",
      "samtools: /home/adrian/anaconda3/bin/../lib/libncursesw.so.6: no version information available (required by samtools)\n",
      "samtools: /home/adrian/anaconda3/bin/../lib/libncursesw.so.6: no version information available (required by samtools)\n"
     ]
    },
    {
     "name": "stdout",
     "output_type": "stream",
     "text": [
      "time samtools fixmate -@ 20 -m /home/adrian/projects/reynisfjara/data/bam/a4776_0h_1/namesort.bam /home/adrian/projects/reynisfjara/data/bam/a4776_0h_1/fixmate.bam\n"
     ]
    },
    {
     "name": "stderr",
     "output_type": "stream",
     "text": [
      "377.55user 8.12system 0:29.02elapsed 1328%CPU (0avgtext+0avgdata 52988maxresident)k\n",
      "1952inputs+9080288outputs (11major+14150minor)pagefaults 0swaps\n",
      "samtools: /home/adrian/anaconda3/bin/../lib/libtinfow.so.6: no version information available (required by samtools)\n",
      "samtools: /home/adrian/anaconda3/bin/../lib/libncursesw.so.6: no version information available (required by samtools)\n",
      "samtools: /home/adrian/anaconda3/bin/../lib/libncursesw.so.6: no version information available (required by samtools)\n"
     ]
    },
    {
     "name": "stdout",
     "output_type": "stream",
     "text": [
      "time samtools sort -@ 20 -o /home/adrian/projects/reynisfjara/data/bam/a4776_0h_1/positionsort.bam /home/adrian/projects/reynisfjara/data/bam/a4776_0h_1/fixmate.bam\n"
     ]
    },
    {
     "name": "stderr",
     "output_type": "stream",
     "text": [
      "[bam_sort_core] merging from 1 files and 20 in-memory blocks...\n",
      "455.84user 14.14system 0:43.97elapsed 1068%CPU (0avgtext+0avgdata 17507216maxresident)k\n",
      "376inputs+8622840outputs (0major+4444190minor)pagefaults 0swaps\n",
      "samtools: /home/adrian/anaconda3/bin/../lib/libtinfow.so.6: no version information available (required by samtools)\n",
      "samtools: /home/adrian/anaconda3/bin/../lib/libncursesw.so.6: no version information available (required by samtools)\n",
      "samtools: /home/adrian/anaconda3/bin/../lib/libncursesw.so.6: no version information available (required by samtools)\n"
     ]
    },
    {
     "name": "stdout",
     "output_type": "stream",
     "text": [
      "time samtools markdup -@ 20 -r /home/adrian/projects/reynisfjara/data/bam/a4776_0h_1/positionsort.bam /home/adrian/projects/reynisfjara/data/bam/a4776_0h_1/markdup.bam\n"
     ]
    },
    {
     "name": "stderr",
     "output_type": "stream",
     "text": [
      "216.05user 4.52system 0:32.58elapsed 676%CPU (0avgtext+0avgdata 246868maxresident)k\n",
      "2000inputs+3767192outputs (12major+62510minor)pagefaults 0swaps\n",
      "samtools: /home/adrian/anaconda3/bin/../lib/libtinfow.so.6: no version information available (required by samtools)\n",
      "samtools: /home/adrian/anaconda3/bin/../lib/libncursesw.so.6: no version information available (required by samtools)\n",
      "samtools: /home/adrian/anaconda3/bin/../lib/libncursesw.so.6: no version information available (required by samtools)\n"
     ]
    },
    {
     "name": "stdout",
     "output_type": "stream",
     "text": [
      "time samtools sort -@ 20 -n -o /home/adrian/projects/reynisfjara/data/bam/a4776_0h_2/namesort.bam /home/adrian/projects/reynisfjara/data/bam/a4776_0h_2/a4776_0h_2.bam\n"
     ]
    },
    {
     "name": "stderr",
     "output_type": "stream",
     "text": [
      "[bam_sort_core] merging from 1 files and 20 in-memory blocks...\n",
      "779.59user 18.35system 0:59.30elapsed 1345%CPU (0avgtext+0avgdata 17568036maxresident)k\n",
      "10039792inputs+17646432outputs (0major+4492189minor)pagefaults 0swaps\n",
      "samtools: /home/adrian/anaconda3/bin/../lib/libtinfow.so.6: no version information available (required by samtools)\n",
      "samtools: /home/adrian/anaconda3/bin/../lib/libncursesw.so.6: no version information available (required by samtools)\n",
      "samtools: /home/adrian/anaconda3/bin/../lib/libncursesw.so.6: no version information available (required by samtools)\n"
     ]
    },
    {
     "name": "stdout",
     "output_type": "stream",
     "text": [
      "time samtools fixmate -@ 20 -m /home/adrian/projects/reynisfjara/data/bam/a4776_0h_2/namesort.bam /home/adrian/projects/reynisfjara/data/bam/a4776_0h_2/fixmate.bam\n"
     ]
    },
    {
     "name": "stderr",
     "output_type": "stream",
     "text": [
      "430.88user 8.58system 0:35.40elapsed 1241%CPU (0avgtext+0avgdata 53400maxresident)k\n",
      "1848inputs+10405080outputs (11major+14141minor)pagefaults 0swaps\n",
      "samtools: /home/adrian/anaconda3/bin/../lib/libtinfow.so.6: no version information available (required by samtools)\n",
      "samtools: /home/adrian/anaconda3/bin/../lib/libncursesw.so.6: no version information available (required by samtools)\n",
      "samtools: /home/adrian/anaconda3/bin/../lib/libncursesw.so.6: no version information available (required by samtools)\n"
     ]
    },
    {
     "name": "stdout",
     "output_type": "stream",
     "text": [
      "time samtools sort -@ 20 -o /home/adrian/projects/reynisfjara/data/bam/a4776_0h_2/positionsort.bam /home/adrian/projects/reynisfjara/data/bam/a4776_0h_2/fixmate.bam\n"
     ]
    },
    {
     "name": "stderr",
     "output_type": "stream",
     "text": [
      "[bam_sort_core] merging from 1 files and 20 in-memory blocks...\n",
      "490.24user 15.29system 0:48.96elapsed 1032%CPU (0avgtext+0avgdata 17507708maxresident)k\n",
      "504inputs+9119792outputs (0major+4484969minor)pagefaults 0swaps\n",
      "samtools: /home/adrian/anaconda3/bin/../lib/libtinfow.so.6: no version information available (required by samtools)\n",
      "samtools: /home/adrian/anaconda3/bin/../lib/libncursesw.so.6: no version information available (required by samtools)\n",
      "samtools: /home/adrian/anaconda3/bin/../lib/libncursesw.so.6: no version information available (required by samtools)\n"
     ]
    },
    {
     "name": "stdout",
     "output_type": "stream",
     "text": [
      "time samtools markdup -@ 20 -r /home/adrian/projects/reynisfjara/data/bam/a4776_0h_2/positionsort.bam /home/adrian/projects/reynisfjara/data/bam/a4776_0h_2/markdup.bam\n"
     ]
    },
    {
     "name": "stderr",
     "output_type": "stream",
     "text": [
      "241.05user 4.90system 0:38.55elapsed 637%CPU (0avgtext+0avgdata 273008maxresident)k\n",
      "624inputs+4128920outputs (1major+69277minor)pagefaults 0swaps\n",
      "samtools: /home/adrian/anaconda3/bin/../lib/libtinfow.so.6: no version information available (required by samtools)\n",
      "samtools: /home/adrian/anaconda3/bin/../lib/libncursesw.so.6: no version information available (required by samtools)\n",
      "samtools: /home/adrian/anaconda3/bin/../lib/libncursesw.so.6: no version information available (required by samtools)\n"
     ]
    },
    {
     "name": "stdout",
     "output_type": "stream",
     "text": [
      "time samtools sort -@ 20 -n -o /home/adrian/projects/reynisfjara/data/bam/a4776_0h_3/namesort.bam /home/adrian/projects/reynisfjara/data/bam/a4776_0h_3/a4776_0h_3.bam\n"
     ]
    },
    {
     "name": "stderr",
     "output_type": "stream",
     "text": [
      "[bam_sort_core] merging from 1 files and 20 in-memory blocks...\n",
      "781.53user 18.28system 0:59.70elapsed 1339%CPU (0avgtext+0avgdata 17567100maxresident)k\n",
      "10045968inputs+17682816outputs (0major+4491052minor)pagefaults 0swaps\n",
      "samtools: /home/adrian/anaconda3/bin/../lib/libtinfow.so.6: no version information available (required by samtools)\n",
      "samtools: /home/adrian/anaconda3/bin/../lib/libncursesw.so.6: no version information available (required by samtools)\n",
      "samtools: /home/adrian/anaconda3/bin/../lib/libncursesw.so.6: no version information available (required by samtools)\n"
     ]
    },
    {
     "name": "stdout",
     "output_type": "stream",
     "text": [
      "time samtools fixmate -@ 20 -m /home/adrian/projects/reynisfjara/data/bam/a4776_0h_3/namesort.bam /home/adrian/projects/reynisfjara/data/bam/a4776_0h_3/fixmate.bam\n"
     ]
    },
    {
     "name": "stderr",
     "output_type": "stream",
     "text": [
      "428.06user 8.74system 0:36.11elapsed 1209%CPU (0avgtext+0avgdata 52604maxresident)k\n",
      "416inputs+10415712outputs (0major+14204minor)pagefaults 0swaps\n",
      "samtools: /home/adrian/anaconda3/bin/../lib/libtinfow.so.6: no version information available (required by samtools)\n",
      "samtools: /home/adrian/anaconda3/bin/../lib/libncursesw.so.6: no version information available (required by samtools)\n",
      "samtools: /home/adrian/anaconda3/bin/../lib/libncursesw.so.6: no version information available (required by samtools)\n"
     ]
    },
    {
     "name": "stdout",
     "output_type": "stream",
     "text": [
      "time samtools sort -@ 20 -o /home/adrian/projects/reynisfjara/data/bam/a4776_0h_3/positionsort.bam /home/adrian/projects/reynisfjara/data/bam/a4776_0h_3/fixmate.bam\n"
     ]
    },
    {
     "name": "stderr",
     "output_type": "stream",
     "text": [
      "[bam_sort_core] merging from 1 files and 20 in-memory blocks...\n",
      "506.56user 15.17system 0:46.38elapsed 1124%CPU (0avgtext+0avgdata 17507000maxresident)k\n",
      "456inputs+9183256outputs (0major+4483993minor)pagefaults 0swaps\n",
      "samtools: /home/adrian/anaconda3/bin/../lib/libtinfow.so.6: no version information available (required by samtools)\n",
      "samtools: /home/adrian/anaconda3/bin/../lib/libncursesw.so.6: no version information available (required by samtools)\n",
      "samtools: /home/adrian/anaconda3/bin/../lib/libncursesw.so.6: no version information available (required by samtools)\n"
     ]
    },
    {
     "name": "stdout",
     "output_type": "stream",
     "text": [
      "time samtools markdup -@ 20 -r /home/adrian/projects/reynisfjara/data/bam/a4776_0h_3/positionsort.bam /home/adrian/projects/reynisfjara/data/bam/a4776_0h_3/markdup.bam\n"
     ]
    },
    {
     "name": "stderr",
     "output_type": "stream",
     "text": [
      "239.25user 4.93system 0:37.32elapsed 654%CPU (0avgtext+0avgdata 273768maxresident)k\n",
      "544inputs+4138600outputs (1major+69388minor)pagefaults 0swaps\n",
      "samtools: /home/adrian/anaconda3/bin/../lib/libtinfow.so.6: no version information available (required by samtools)\n",
      "samtools: /home/adrian/anaconda3/bin/../lib/libncursesw.so.6: no version information available (required by samtools)\n",
      "samtools: /home/adrian/anaconda3/bin/../lib/libncursesw.so.6: no version information available (required by samtools)\n"
     ]
    },
    {
     "name": "stdout",
     "output_type": "stream",
     "text": [
      "time samtools sort -@ 20 -n -o /home/adrian/projects/reynisfjara/data/bam/a4776_48h_1/namesort.bam /home/adrian/projects/reynisfjara/data/bam/a4776_48h_1/a4776_48h_1.bam\n"
     ]
    },
    {
     "name": "stderr",
     "output_type": "stream",
     "text": [
      "[bam_sort_core] merging from 1 files and 20 in-memory blocks...\n",
      "932.39user 20.94system 1:11.36elapsed 1335%CPU (0avgtext+0avgdata 17570244maxresident)k\n",
      "19875672inputs+19985344outputs (1major+4557547minor)pagefaults 0swaps\n",
      "samtools: /home/adrian/anaconda3/bin/../lib/libtinfow.so.6: no version information available (required by samtools)\n",
      "samtools: /home/adrian/anaconda3/bin/../lib/libncursesw.so.6: no version information available (required by samtools)\n",
      "samtools: /home/adrian/anaconda3/bin/../lib/libncursesw.so.6: no version information available (required by samtools)\n"
     ]
    },
    {
     "name": "stdout",
     "output_type": "stream",
     "text": [
      "time samtools fixmate -@ 20 -m /home/adrian/projects/reynisfjara/data/bam/a4776_48h_1/namesort.bam /home/adrian/projects/reynisfjara/data/bam/a4776_48h_1/fixmate.bam\n"
     ]
    },
    {
     "name": "stderr",
     "output_type": "stream",
     "text": [
      "536.91user 11.15system 0:42.46elapsed 1290%CPU (0avgtext+0avgdata 53236maxresident)k\n",
      "4115504inputs+12742032outputs (16major+14168minor)pagefaults 0swaps\n",
      "samtools: /home/adrian/anaconda3/bin/../lib/libtinfow.so.6: no version information available (required by samtools)\n",
      "samtools: /home/adrian/anaconda3/bin/../lib/libncursesw.so.6: no version information available (required by samtools)\n",
      "samtools: /home/adrian/anaconda3/bin/../lib/libncursesw.so.6: no version information available (required by samtools)\n"
     ]
    },
    {
     "name": "stdout",
     "output_type": "stream",
     "text": [
      "time samtools sort -@ 20 -o /home/adrian/projects/reynisfjara/data/bam/a4776_48h_1/positionsort.bam /home/adrian/projects/reynisfjara/data/bam/a4776_48h_1/fixmate.bam\n"
     ]
    },
    {
     "name": "stderr",
     "output_type": "stream",
     "text": [
      "[bam_sort_core] merging from 1 files and 20 in-memory blocks...\n",
      "614.40user 16.25system 0:54.04elapsed 1166%CPU (0avgtext+0avgdata 17515024maxresident)k\n",
      "552inputs+10653264outputs (0major+4550316minor)pagefaults 0swaps\n",
      "samtools: /home/adrian/anaconda3/bin/../lib/libtinfow.so.6: no version information available (required by samtools)\n",
      "samtools: /home/adrian/anaconda3/bin/../lib/libncursesw.so.6: no version information available (required by samtools)\n",
      "samtools: /home/adrian/anaconda3/bin/../lib/libncursesw.so.6: no version information available (required by samtools)\n"
     ]
    },
    {
     "name": "stdout",
     "output_type": "stream",
     "text": [
      "time samtools markdup -@ 20 -r /home/adrian/projects/reynisfjara/data/bam/a4776_48h_1/positionsort.bam /home/adrian/projects/reynisfjara/data/bam/a4776_48h_1/markdup.bam\n"
     ]
    },
    {
     "name": "stderr",
     "output_type": "stream",
     "text": [
      "302.07user 6.21system 0:46.09elapsed 668%CPU (0avgtext+0avgdata 340288maxresident)k\n",
      "2192inputs+5223776outputs (12major+85908minor)pagefaults 0swaps\n",
      "samtools: /home/adrian/anaconda3/bin/../lib/libtinfow.so.6: no version information available (required by samtools)\n",
      "samtools: /home/adrian/anaconda3/bin/../lib/libncursesw.so.6: no version information available (required by samtools)\n",
      "samtools: /home/adrian/anaconda3/bin/../lib/libncursesw.so.6: no version information available (required by samtools)\n"
     ]
    },
    {
     "name": "stdout",
     "output_type": "stream",
     "text": [
      "time samtools sort -@ 20 -n -o /home/adrian/projects/reynisfjara/data/bam/a4776_48h_2/namesort.bam /home/adrian/projects/reynisfjara/data/bam/a4776_48h_2/a4776_48h_2.bam\n"
     ]
    },
    {
     "name": "stderr",
     "output_type": "stream",
     "text": [
      "[bam_sort_core] merging from 1 files and 20 in-memory blocks...\n",
      "1040.32user 22.35system 1:17.59elapsed 1369%CPU (0avgtext+0avgdata 17568652maxresident)k\n",
      "21481040inputs+21518888outputs (0major+4597869minor)pagefaults 0swaps\n",
      "samtools: /home/adrian/anaconda3/bin/../lib/libtinfow.so.6: no version information available (required by samtools)\n",
      "samtools: /home/adrian/anaconda3/bin/../lib/libncursesw.so.6: no version information available (required by samtools)\n",
      "samtools: /home/adrian/anaconda3/bin/../lib/libncursesw.so.6: no version information available (required by samtools)\n"
     ]
    },
    {
     "name": "stdout",
     "output_type": "stream",
     "text": [
      "time samtools fixmate -@ 20 -m /home/adrian/projects/reynisfjara/data/bam/a4776_48h_2/namesort.bam /home/adrian/projects/reynisfjara/data/bam/a4776_48h_2/fixmate.bam\n"
     ]
    },
    {
     "name": "stderr",
     "output_type": "stream",
     "text": [
      "604.96user 12.65system 0:47.94elapsed 1288%CPU (0avgtext+0avgdata 53152maxresident)k\n",
      "4470328inputs+14278288outputs (11major+14212minor)pagefaults 0swaps\n",
      "samtools: /home/adrian/anaconda3/bin/../lib/libtinfow.so.6: no version information available (required by samtools)\n",
      "samtools: /home/adrian/anaconda3/bin/../lib/libncursesw.so.6: no version information available (required by samtools)\n",
      "samtools: /home/adrian/anaconda3/bin/../lib/libncursesw.so.6: no version information available (required by samtools)\n"
     ]
    },
    {
     "name": "stdout",
     "output_type": "stream",
     "text": [
      "time samtools sort -@ 20 -o /home/adrian/projects/reynisfjara/data/bam/a4776_48h_2/positionsort.bam /home/adrian/projects/reynisfjara/data/bam/a4776_48h_2/fixmate.bam\n"
     ]
    },
    {
     "name": "stderr",
     "output_type": "stream",
     "text": [
      "[bam_sort_core] merging from 1 files and 20 in-memory blocks...\n",
      "683.97user 18.80system 0:57.72elapsed 1217%CPU (0avgtext+0avgdata 17507236maxresident)k\n",
      "3400inputs+11373256outputs (0major+4590389minor)pagefaults 0swaps\n",
      "samtools: /home/adrian/anaconda3/bin/../lib/libtinfow.so.6: no version information available (required by samtools)\n",
      "samtools: /home/adrian/anaconda3/bin/../lib/libncursesw.so.6: no version information available (required by samtools)\n",
      "samtools: /home/adrian/anaconda3/bin/../lib/libncursesw.so.6: no version information available (required by samtools)\n"
     ]
    },
    {
     "name": "stdout",
     "output_type": "stream",
     "text": [
      "time samtools markdup -@ 20 -r /home/adrian/projects/reynisfjara/data/bam/a4776_48h_2/positionsort.bam /home/adrian/projects/reynisfjara/data/bam/a4776_48h_2/markdup.bam\n"
     ]
    },
    {
     "name": "stderr",
     "output_type": "stream",
     "text": [
      "335.01user 7.12system 0:52.60elapsed 650%CPU (0avgtext+0avgdata 366208maxresident)k\n",
      "2272inputs+5692112outputs (12major+92355minor)pagefaults 0swaps\n",
      "samtools: /home/adrian/anaconda3/bin/../lib/libtinfow.so.6: no version information available (required by samtools)\n",
      "samtools: /home/adrian/anaconda3/bin/../lib/libncursesw.so.6: no version information available (required by samtools)\n",
      "samtools: /home/adrian/anaconda3/bin/../lib/libncursesw.so.6: no version information available (required by samtools)\n"
     ]
    },
    {
     "name": "stdout",
     "output_type": "stream",
     "text": [
      "time samtools sort -@ 20 -n -o /home/adrian/projects/reynisfjara/data/bam/a4776_48h_3/namesort.bam /home/adrian/projects/reynisfjara/data/bam/a4776_48h_3/a4776_48h_3.bam\n"
     ]
    },
    {
     "name": "stderr",
     "output_type": "stream",
     "text": [
      "[bam_sort_core] merging from 1 files and 20 in-memory blocks...\n",
      "810.05user 18.68system 0:59.88elapsed 1383%CPU (0avgtext+0avgdata 17568160maxresident)k\n",
      "10238832inputs+18059480outputs (0major+4490874minor)pagefaults 0swaps\n",
      "samtools: /home/adrian/anaconda3/bin/../lib/libtinfow.so.6: no version information available (required by samtools)\n",
      "samtools: /home/adrian/anaconda3/bin/../lib/libncursesw.so.6: no version information available (required by samtools)\n",
      "samtools: /home/adrian/anaconda3/bin/../lib/libncursesw.so.6: no version information available (required by samtools)\n"
     ]
    },
    {
     "name": "stdout",
     "output_type": "stream",
     "text": [
      "time samtools fixmate -@ 20 -m /home/adrian/projects/reynisfjara/data/bam/a4776_48h_3/namesort.bam /home/adrian/projects/reynisfjara/data/bam/a4776_48h_3/fixmate.bam\n"
     ]
    },
    {
     "name": "stderr",
     "output_type": "stream",
     "text": [
      "457.08user 9.07system 0:35.53elapsed 1311%CPU (0avgtext+0avgdata 53100maxresident)k\n",
      "2104inputs+10640592outputs (11major+14176minor)pagefaults 0swaps\n",
      "samtools: /home/adrian/anaconda3/bin/../lib/libtinfow.so.6: no version information available (required by samtools)\n",
      "samtools: /home/adrian/anaconda3/bin/../lib/libncursesw.so.6: no version information available (required by samtools)\n",
      "samtools: /home/adrian/anaconda3/bin/../lib/libncursesw.so.6: no version information available (required by samtools)\n"
     ]
    },
    {
     "name": "stdout",
     "output_type": "stream",
     "text": [
      "time samtools sort -@ 20 -o /home/adrian/projects/reynisfjara/data/bam/a4776_48h_3/positionsort.bam /home/adrian/projects/reynisfjara/data/bam/a4776_48h_3/fixmate.bam\n"
     ]
    },
    {
     "name": "stderr",
     "output_type": "stream",
     "text": [
      "[bam_sort_core] merging from 1 files and 20 in-memory blocks...\n",
      "533.70user 15.76system 0:47.05elapsed 1167%CPU (0avgtext+0avgdata 17513720maxresident)k\n",
      "504inputs+9819568outputs (0major+4483628minor)pagefaults 0swaps\n",
      "samtools: /home/adrian/anaconda3/bin/../lib/libtinfow.so.6: no version information available (required by samtools)\n",
      "samtools: /home/adrian/anaconda3/bin/../lib/libncursesw.so.6: no version information available (required by samtools)\n",
      "samtools: /home/adrian/anaconda3/bin/../lib/libncursesw.so.6: no version information available (required by samtools)\n"
     ]
    },
    {
     "name": "stdout",
     "output_type": "stream",
     "text": [
      "time samtools markdup -@ 20 -r /home/adrian/projects/reynisfjara/data/bam/a4776_48h_3/positionsort.bam /home/adrian/projects/reynisfjara/data/bam/a4776_48h_3/markdup.bam\n"
     ]
    },
    {
     "name": "stderr",
     "output_type": "stream",
     "text": [
      "265.13user 5.26system 0:38.90elapsed 695%CPU (0avgtext+0avgdata 277000maxresident)k\n",
      "2152inputs+4538800outputs (12major+70114minor)pagefaults 0swaps\n",
      "samtools: /home/adrian/anaconda3/bin/../lib/libtinfow.so.6: no version information available (required by samtools)\n",
      "samtools: /home/adrian/anaconda3/bin/../lib/libncursesw.so.6: no version information available (required by samtools)\n",
      "samtools: /home/adrian/anaconda3/bin/../lib/libncursesw.so.6: no version information available (required by samtools)\n"
     ]
    },
    {
     "name": "stdout",
     "output_type": "stream",
     "text": [
      "time samtools sort -@ 20 -n -o /home/adrian/projects/reynisfjara/data/bam/a4776_72h_1/namesort.bam /home/adrian/projects/reynisfjara/data/bam/a4776_72h_1/a4776_72h_1.bam\n"
     ]
    },
    {
     "name": "stderr",
     "output_type": "stream",
     "text": [
      "[bam_sort_core] merging from 1 files and 20 in-memory blocks...\n",
      "737.00user 17.57system 0:55.33elapsed 1363%CPU (0avgtext+0avgdata 17568796maxresident)k\n",
      "9355864inputs+17058952outputs (0major+4467926minor)pagefaults 0swaps\n",
      "samtools: /home/adrian/anaconda3/bin/../lib/libtinfow.so.6: no version information available (required by samtools)\n",
      "samtools: /home/adrian/anaconda3/bin/../lib/libncursesw.so.6: no version information available (required by samtools)\n",
      "samtools: /home/adrian/anaconda3/bin/../lib/libncursesw.so.6: no version information available (required by samtools)\n"
     ]
    },
    {
     "name": "stdout",
     "output_type": "stream",
     "text": [
      "time samtools fixmate -@ 20 -m /home/adrian/projects/reynisfjara/data/bam/a4776_72h_1/namesort.bam /home/adrian/projects/reynisfjara/data/bam/a4776_72h_1/fixmate.bam\n"
     ]
    },
    {
     "name": "stderr",
     "output_type": "stream",
     "text": [
      "408.15user 8.83system 0:30.72elapsed 1357%CPU (0avgtext+0avgdata 51256maxresident)k\n",
      "1920inputs+9713552outputs (11major+13878minor)pagefaults 0swaps\n",
      "samtools: /home/adrian/anaconda3/bin/../lib/libtinfow.so.6: no version information available (required by samtools)\n",
      "samtools: /home/adrian/anaconda3/bin/../lib/libncursesw.so.6: no version information available (required by samtools)\n",
      "samtools: /home/adrian/anaconda3/bin/../lib/libncursesw.so.6: no version information available (required by samtools)\n"
     ]
    },
    {
     "name": "stdout",
     "output_type": "stream",
     "text": [
      "time samtools sort -@ 20 -o /home/adrian/projects/reynisfjara/data/bam/a4776_72h_1/positionsort.bam /home/adrian/projects/reynisfjara/data/bam/a4776_72h_1/fixmate.bam\n"
     ]
    },
    {
     "name": "stderr",
     "output_type": "stream",
     "text": [
      "[bam_sort_core] merging from 1 files and 20 in-memory blocks...\n",
      "486.50user 14.80system 0:45.17elapsed 1109%CPU (0avgtext+0avgdata 17514776maxresident)k\n",
      "456inputs+9161016outputs (0major+4460359minor)pagefaults 0swaps\n",
      "samtools: /home/adrian/anaconda3/bin/../lib/libtinfow.so.6: no version information available (required by samtools)\n",
      "samtools: /home/adrian/anaconda3/bin/../lib/libncursesw.so.6: no version information available (required by samtools)\n",
      "samtools: /home/adrian/anaconda3/bin/../lib/libncursesw.so.6: no version information available (required by samtools)\n"
     ]
    },
    {
     "name": "stdout",
     "output_type": "stream",
     "text": [
      "time samtools markdup -@ 20 -r /home/adrian/projects/reynisfjara/data/bam/a4776_72h_1/positionsort.bam /home/adrian/projects/reynisfjara/data/bam/a4776_72h_1/markdup.bam\n"
     ]
    },
    {
     "name": "stderr",
     "output_type": "stream",
     "text": [
      "241.91user 4.90system 0:34.72elapsed 710%CPU (0avgtext+0avgdata 253388maxresident)k\n",
      "2120inputs+4134304outputs (12major+64355minor)pagefaults 0swaps\n",
      "samtools: /home/adrian/anaconda3/bin/../lib/libtinfow.so.6: no version information available (required by samtools)\n",
      "samtools: /home/adrian/anaconda3/bin/../lib/libncursesw.so.6: no version information available (required by samtools)\n",
      "samtools: /home/adrian/anaconda3/bin/../lib/libncursesw.so.6: no version information available (required by samtools)\n"
     ]
    },
    {
     "name": "stdout",
     "output_type": "stream",
     "text": [
      "time samtools sort -@ 20 -n -o /home/adrian/projects/reynisfjara/data/bam/a4776_72h_2/namesort.bam /home/adrian/projects/reynisfjara/data/bam/a4776_72h_2/a4776_72h_2.bam\n"
     ]
    },
    {
     "name": "stderr",
     "output_type": "stream",
     "text": [
      "[bam_sort_core] merging from 1 files and 20 in-memory blocks...\n",
      "819.98user 19.07system 1:00.99elapsed 1375%CPU (0avgtext+0avgdata 17568408maxresident)k\n",
      "10643160inputs+18286880outputs (0major+4510421minor)pagefaults 0swaps\n",
      "samtools: /home/adrian/anaconda3/bin/../lib/libtinfow.so.6: no version information available (required by samtools)\n",
      "samtools: /home/adrian/anaconda3/bin/../lib/libncursesw.so.6: no version information available (required by samtools)\n",
      "samtools: /home/adrian/anaconda3/bin/../lib/libncursesw.so.6: no version information available (required by samtools)\n"
     ]
    },
    {
     "name": "stdout",
     "output_type": "stream",
     "text": [
      "time samtools fixmate -@ 20 -m /home/adrian/projects/reynisfjara/data/bam/a4776_72h_2/namesort.bam /home/adrian/projects/reynisfjara/data/bam/a4776_72h_2/fixmate.bam\n"
     ]
    },
    {
     "name": "stderr",
     "output_type": "stream",
     "text": [
      "457.40user 9.43system 0:35.01elapsed 1333%CPU (0avgtext+0avgdata 51576maxresident)k\n",
      "568inputs+11045704outputs (0major+13921minor)pagefaults 0swaps\n",
      "samtools: /home/adrian/anaconda3/bin/../lib/libtinfow.so.6: no version information available (required by samtools)\n",
      "samtools: /home/adrian/anaconda3/bin/../lib/libncursesw.so.6: no version information available (required by samtools)\n",
      "samtools: /home/adrian/anaconda3/bin/../lib/libncursesw.so.6: no version information available (required by samtools)\n"
     ]
    },
    {
     "name": "stdout",
     "output_type": "stream",
     "text": [
      "time samtools sort -@ 20 -o /home/adrian/projects/reynisfjara/data/bam/a4776_72h_2/positionsort.bam /home/adrian/projects/reynisfjara/data/bam/a4776_72h_2/fixmate.bam\n"
     ]
    },
    {
     "name": "stderr",
     "output_type": "stream",
     "text": [
      "[bam_sort_core] merging from 1 files and 20 in-memory blocks...\n",
      "533.14user 16.08system 0:48.46elapsed 1133%CPU (0avgtext+0avgdata 17513904maxresident)k\n",
      "392inputs+9683296outputs (0major+4503148minor)pagefaults 0swaps\n",
      "samtools: /home/adrian/anaconda3/bin/../lib/libtinfow.so.6: no version information available (required by samtools)\n",
      "samtools: /home/adrian/anaconda3/bin/../lib/libncursesw.so.6: no version information available (required by samtools)\n",
      "samtools: /home/adrian/anaconda3/bin/../lib/libncursesw.so.6: no version information available (required by samtools)\n"
     ]
    },
    {
     "name": "stdout",
     "output_type": "stream",
     "text": [
      "time samtools markdup -@ 20 -r /home/adrian/projects/reynisfjara/data/bam/a4776_72h_2/positionsort.bam /home/adrian/projects/reynisfjara/data/bam/a4776_72h_2/markdup.bam\n"
     ]
    },
    {
     "name": "stderr",
     "output_type": "stream",
     "text": [
      "269.53user 5.32system 0:39.90elapsed 688%CPU (0avgtext+0avgdata 299528maxresident)k\n",
      "192inputs+4653688outputs (0major+75831minor)pagefaults 0swaps\n",
      "samtools: /home/adrian/anaconda3/bin/../lib/libtinfow.so.6: no version information available (required by samtools)\n",
      "samtools: /home/adrian/anaconda3/bin/../lib/libncursesw.so.6: no version information available (required by samtools)\n",
      "samtools: /home/adrian/anaconda3/bin/../lib/libncursesw.so.6: no version information available (required by samtools)\n"
     ]
    },
    {
     "name": "stdout",
     "output_type": "stream",
     "text": [
      "time samtools sort -@ 20 -n -o /home/adrian/projects/reynisfjara/data/bam/a4776_72h_3/namesort.bam /home/adrian/projects/reynisfjara/data/bam/a4776_72h_3/a4776_72h_3.bam\n"
     ]
    },
    {
     "name": "stderr",
     "output_type": "stream",
     "text": [
      "[bam_sort_core] merging from 1 files and 20 in-memory blocks...\n",
      "701.00user 17.02system 0:53.21elapsed 1349%CPU (0avgtext+0avgdata 17569148maxresident)k\n",
      "8704496inputs+16595872outputs (0major+4442644minor)pagefaults 0swaps\n",
      "samtools: /home/adrian/anaconda3/bin/../lib/libtinfow.so.6: no version information available (required by samtools)\n",
      "samtools: /home/adrian/anaconda3/bin/../lib/libncursesw.so.6: no version information available (required by samtools)\n",
      "samtools: /home/adrian/anaconda3/bin/../lib/libncursesw.so.6: no version information available (required by samtools)\n"
     ]
    },
    {
     "name": "stdout",
     "output_type": "stream",
     "text": [
      "time samtools fixmate -@ 20 -m /home/adrian/projects/reynisfjara/data/bam/a4776_72h_3/namesort.bam /home/adrian/projects/reynisfjara/data/bam/a4776_72h_3/fixmate.bam\n"
     ]
    },
    {
     "name": "stderr",
     "output_type": "stream",
     "text": [
      "394.40user 8.14system 0:28.50elapsed 1412%CPU (0avgtext+0avgdata 52304maxresident)k\n",
      "536inputs+9053416outputs (0major+14007minor)pagefaults 0swaps\n",
      "samtools: /home/adrian/anaconda3/bin/../lib/libtinfow.so.6: no version information available (required by samtools)\n",
      "samtools: /home/adrian/anaconda3/bin/../lib/libncursesw.so.6: no version information available (required by samtools)\n",
      "samtools: /home/adrian/anaconda3/bin/../lib/libncursesw.so.6: no version information available (required by samtools)\n"
     ]
    },
    {
     "name": "stdout",
     "output_type": "stream",
     "text": [
      "time samtools sort -@ 20 -o /home/adrian/projects/reynisfjara/data/bam/a4776_72h_3/positionsort.bam /home/adrian/projects/reynisfjara/data/bam/a4776_72h_3/fixmate.bam\n"
     ]
    },
    {
     "name": "stderr",
     "output_type": "stream",
     "text": [
      "[bam_sort_core] merging from 1 files and 20 in-memory blocks...\n",
      "468.38user 14.55system 0:42.20elapsed 1144%CPU (0avgtext+0avgdata 17514628maxresident)k\n",
      "424inputs+9198232outputs (0major+4435392minor)pagefaults 0swaps\n",
      "samtools: /home/adrian/anaconda3/bin/../lib/libtinfow.so.6: no version information available (required by samtools)\n",
      "samtools: /home/adrian/anaconda3/bin/../lib/libncursesw.so.6: no version information available (required by samtools)\n",
      "samtools: /home/adrian/anaconda3/bin/../lib/libncursesw.so.6: no version information available (required by samtools)\n"
     ]
    },
    {
     "name": "stdout",
     "output_type": "stream",
     "text": [
      "time samtools markdup -@ 20 -r /home/adrian/projects/reynisfjara/data/bam/a4776_72h_3/positionsort.bam /home/adrian/projects/reynisfjara/data/bam/a4776_72h_3/markdup.bam\n"
     ]
    },
    {
     "name": "stderr",
     "output_type": "stream",
     "text": [
      "235.46user 4.75system 0:32.73elapsed 733%CPU (0avgtext+0avgdata 236016maxresident)k\n",
      "136inputs+4003856outputs (0major+59807minor)pagefaults 0swaps\n"
     ]
    }
   ],
   "source": [
    "for label in bam_folders:\n",
    "    \n",
    "    bam_folder_path = bam_top_folder + label\n",
    "    \n",
    "    cmd1 = 'time samtools sort -@ 20 -n -o {}/namesort.bam {}/{}.bam'.format(bam_folder_path, bam_folder_path, label)\n",
    "    cmd2 = 'time samtools fixmate -@ 20 -m {}/namesort.bam {}/fixmate.bam'.format(bam_folder_path, bam_folder_path)\n",
    "    cmd3 = 'time samtools sort -@ 20 -o {}/positionsort.bam {}/fixmate.bam'.format(bam_folder_path, bam_folder_path)\n",
    "    cmd4 = 'time samtools markdup -@ 20 -r {}/positionsort.bam {}/markdup.bam'.format(bam_folder_path, bam_folder_path)\n",
    "    \n",
    "    print(cmd1)\n",
    "    os.system(cmd1)\n",
    "    print(cmd2)\n",
    "    os.system(cmd2)\n",
    "    print(cmd3)\n",
    "    os.system(cmd3)\n",
    "    print(cmd4)\n",
    "    os.system(cmd4)"
   ]
  }
 ],
 "metadata": {
  "kernelspec": {
   "display_name": "Python 3 (ipykernel)",
   "language": "python",
   "name": "python3"
  },
  "language_info": {
   "codemirror_mode": {
    "name": "ipython",
    "version": 3
   },
   "file_extension": ".py",
   "mimetype": "text/x-python",
   "name": "python",
   "nbconvert_exporter": "python",
   "pygments_lexer": "ipython3",
   "version": "3.9.16"
  }
 },
 "nbformat": 4,
 "nbformat_minor": 5
}
