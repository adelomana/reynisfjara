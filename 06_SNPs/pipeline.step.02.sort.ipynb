{
 "cells": [
  {
   "cell_type": "markdown",
   "id": "5af3b340",
   "metadata": {},
   "source": [
    "This pipeline sorts and removes duplicates of BAM files."
   ]
  },
  {
   "cell_type": "code",
   "execution_count": 1,
   "id": "01981558",
   "metadata": {},
   "outputs": [],
   "source": [
    "import os"
   ]
  },
  {
   "cell_type": "markdown",
   "id": "304d3d74",
   "metadata": {},
   "source": [
    "# user-defined variables"
   ]
  },
  {
   "cell_type": "code",
   "execution_count": 2,
   "id": "9a76c6b8",
   "metadata": {},
   "outputs": [],
   "source": [
    "bam_top_folder = '/home/adrian/projects/reynisfjara/results/bam/'"
   ]
  },
  {
   "cell_type": "markdown",
   "id": "41f4280a",
   "metadata": {},
   "source": [
    "# sort and mark duplicates on individual BAM files"
   ]
  },
  {
   "cell_type": "code",
   "execution_count": 3,
   "id": "15e63501",
   "metadata": {},
   "outputs": [],
   "source": [
    "bam_folders = os.listdir(bam_top_folder)\n",
    "bam_folders.sort()"
   ]
  },
  {
   "cell_type": "code",
   "execution_count": 4,
   "id": "947c9fd1-538b-44c6-a91f-56dd52006266",
   "metadata": {},
   "outputs": [
    {
     "name": "stdout",
     "output_type": "stream",
     "text": [
      "time samtools sort -@ 20 -n -o /home/adrian/projects/reynisfjara/results/bam/a3922_0h_1/namesort.bam /home/adrian/projects/reynisfjara/results/bam/a3922_0h_1/a3922_0h_1.bam\n"
     ]
    },
    {
     "name": "stderr",
     "output_type": "stream",
     "text": [
      "samtools: /home/adrian/anaconda3/bin/../lib/libtinfow.so.6: no version information available (required by samtools)\n",
      "samtools: /home/adrian/anaconda3/bin/../lib/libncursesw.so.6: no version information available (required by samtools)\n",
      "samtools: /home/adrian/anaconda3/bin/../lib/libncursesw.so.6: no version information available (required by samtools)\n",
      "[bam_sort_core] merging from 1 files and 20 in-memory blocks...\n",
      "746.79user 18.94system 0:57.60elapsed 1329%CPU (0avgtext+0avgdata 17568944maxresident)k\n",
      "9878104inputs+17517592outputs (1major+4486728minor)pagefaults 0swaps\n",
      "samtools: /home/adrian/anaconda3/bin/../lib/libtinfow.so.6: no version information available (required by samtools)\n",
      "samtools: /home/adrian/anaconda3/bin/../lib/libncursesw.so.6: no version information available (required by samtools)\n",
      "samtools: /home/adrian/anaconda3/bin/../lib/libncursesw.so.6: no version information available (required by samtools)\n"
     ]
    },
    {
     "name": "stdout",
     "output_type": "stream",
     "text": [
      "time samtools fixmate -@ 20 -m /home/adrian/projects/reynisfjara/results/bam/a3922_0h_1/namesort.bam /home/adrian/projects/reynisfjara/results/bam/a3922_0h_1/fixmate.bam\n"
     ]
    },
    {
     "name": "stderr",
     "output_type": "stream",
     "text": [
      "416.99user 9.32system 0:33.01elapsed 1291%CPU (0avgtext+0avgdata 52656maxresident)k\n",
      "488inputs+10242656outputs (1major+14177minor)pagefaults 0swaps\n",
      "samtools: /home/adrian/anaconda3/bin/../lib/libtinfow.so.6: no version information available (required by samtools)\n",
      "samtools: /home/adrian/anaconda3/bin/../lib/libncursesw.so.6: no version information available (required by samtools)\n",
      "samtools: /home/adrian/anaconda3/bin/../lib/libncursesw.so.6: no version information available (required by samtools)\n"
     ]
    },
    {
     "name": "stdout",
     "output_type": "stream",
     "text": [
      "time samtools sort -@ 20 -o /home/adrian/projects/reynisfjara/results/bam/a3922_0h_1/positionsort.bam /home/adrian/projects/reynisfjara/results/bam/a3922_0h_1/fixmate.bam\n"
     ]
    },
    {
     "name": "stderr",
     "output_type": "stream",
     "text": [
      "[bam_sort_core] merging from 1 files and 20 in-memory blocks...\n",
      "490.48user 16.11system 0:47.90elapsed 1057%CPU (0avgtext+0avgdata 17514180maxresident)k\n",
      "304inputs+9100144outputs (0major+4479697minor)pagefaults 0swaps\n",
      "samtools: /home/adrian/anaconda3/bin/../lib/libtinfow.so.6: no version information available (required by samtools)\n",
      "samtools: /home/adrian/anaconda3/bin/../lib/libncursesw.so.6: no version information available (required by samtools)\n",
      "samtools: /home/adrian/anaconda3/bin/../lib/libncursesw.so.6: no version information available (required by samtools)\n"
     ]
    },
    {
     "name": "stdout",
     "output_type": "stream",
     "text": [
      "time samtools markdup -@ 20 -r /home/adrian/projects/reynisfjara/results/bam/a3922_0h_1/positionsort.bam /home/adrian/projects/reynisfjara/results/bam/a3922_0h_1/markdup.bam\n"
     ]
    },
    {
     "name": "stderr",
     "output_type": "stream",
     "text": [
      "235.79user 5.09system 0:37.90elapsed 635%CPU (0avgtext+0avgdata 236584maxresident)k\n",
      "128inputs+4068672outputs (0major+59995minor)pagefaults 0swaps\n",
      "samtools: /home/adrian/anaconda3/bin/../lib/libtinfow.so.6: no version information available (required by samtools)\n",
      "samtools: /home/adrian/anaconda3/bin/../lib/libncursesw.so.6: no version information available (required by samtools)\n",
      "samtools: /home/adrian/anaconda3/bin/../lib/libncursesw.so.6: no version information available (required by samtools)\n"
     ]
    },
    {
     "name": "stdout",
     "output_type": "stream",
     "text": [
      "time samtools sort -@ 20 -n -o /home/adrian/projects/reynisfjara/results/bam/a3922_0h_2/namesort.bam /home/adrian/projects/reynisfjara/results/bam/a3922_0h_2/a3922_0h_2.bam\n"
     ]
    },
    {
     "name": "stderr",
     "output_type": "stream",
     "text": [
      "[bam_sort_core] merging from 1 files and 20 in-memory blocks...\n",
      "814.04user 20.76system 1:03.07elapsed 1323%CPU (0avgtext+0avgdata 17567336maxresident)k\n",
      "10488472inputs+18130064outputs (0major+4505202minor)pagefaults 0swaps\n",
      "samtools: /home/adrian/anaconda3/bin/../lib/libtinfow.so.6: no version information available (required by samtools)\n",
      "samtools: /home/adrian/anaconda3/bin/../lib/libncursesw.so.6: no version information available (required by samtools)\n",
      "samtools: /home/adrian/anaconda3/bin/../lib/libncursesw.so.6: no version information available (required by samtools)\n"
     ]
    },
    {
     "name": "stdout",
     "output_type": "stream",
     "text": [
      "time samtools fixmate -@ 20 -m /home/adrian/projects/reynisfjara/results/bam/a3922_0h_2/namesort.bam /home/adrian/projects/reynisfjara/results/bam/a3922_0h_2/fixmate.bam\n"
     ]
    },
    {
     "name": "stderr",
     "output_type": "stream",
     "text": [
      "457.52user 10.36system 0:36.51elapsed 1281%CPU (0avgtext+0avgdata 52544maxresident)k\n",
      "568inputs+10870856outputs (0major+14002minor)pagefaults 0swaps\n",
      "samtools: /home/adrian/anaconda3/bin/../lib/libtinfow.so.6: no version information available (required by samtools)\n",
      "samtools: /home/adrian/anaconda3/bin/../lib/libncursesw.so.6: no version information available (required by samtools)\n",
      "samtools: /home/adrian/anaconda3/bin/../lib/libncursesw.so.6: no version information available (required by samtools)\n"
     ]
    },
    {
     "name": "stdout",
     "output_type": "stream",
     "text": [
      "time samtools sort -@ 20 -o /home/adrian/projects/reynisfjara/results/bam/a3922_0h_2/positionsort.bam /home/adrian/projects/reynisfjara/results/bam/a3922_0h_2/fixmate.bam\n"
     ]
    },
    {
     "name": "stderr",
     "output_type": "stream",
     "text": [
      "[bam_sort_core] merging from 1 files and 20 in-memory blocks...\n",
      "519.65user 15.80system 0:50.26elapsed 1065%CPU (0avgtext+0avgdata 17513752maxresident)k\n",
      "312inputs+9427776outputs (0major+4498057minor)pagefaults 0swaps\n",
      "samtools: /home/adrian/anaconda3/bin/../lib/libtinfow.so.6: no version information available (required by samtools)\n",
      "samtools: /home/adrian/anaconda3/bin/../lib/libncursesw.so.6: no version information available (required by samtools)\n",
      "samtools: /home/adrian/anaconda3/bin/../lib/libncursesw.so.6: no version information available (required by samtools)\n"
     ]
    },
    {
     "name": "stdout",
     "output_type": "stream",
     "text": [
      "time samtools markdup -@ 20 -r /home/adrian/projects/reynisfjara/results/bam/a3922_0h_2/positionsort.bam /home/adrian/projects/reynisfjara/results/bam/a3922_0h_2/markdup.bam\n"
     ]
    },
    {
     "name": "stderr",
     "output_type": "stream",
     "text": [
      "258.83user 5.38system 0:42.18elapsed 626%CPU (0avgtext+0avgdata 223920maxresident)k\n",
      "568inputs+4398080outputs (1major+56687minor)pagefaults 0swaps\n",
      "samtools: /home/adrian/anaconda3/bin/../lib/libtinfow.so.6: no version information available (required by samtools)\n",
      "samtools: /home/adrian/anaconda3/bin/../lib/libncursesw.so.6: no version information available (required by samtools)\n",
      "samtools: /home/adrian/anaconda3/bin/../lib/libncursesw.so.6: no version information available (required by samtools)\n"
     ]
    },
    {
     "name": "stdout",
     "output_type": "stream",
     "text": [
      "time samtools sort -@ 20 -n -o /home/adrian/projects/reynisfjara/results/bam/a3922_0h_3/namesort.bam /home/adrian/projects/reynisfjara/results/bam/a3922_0h_3/a3922_0h_3.bam\n"
     ]
    },
    {
     "name": "stderr",
     "output_type": "stream",
     "text": [
      "[bam_sort_core] merging from 1 files and 20 in-memory blocks...\n",
      "1023.52user 21.60system 1:14.48elapsed 1403%CPU (0avgtext+0avgdata 17568132maxresident)k\n",
      "13469160inputs+21179136outputs (0major+4595261minor)pagefaults 0swaps\n",
      "samtools: /home/adrian/anaconda3/bin/../lib/libtinfow.so.6: no version information available (required by samtools)\n",
      "samtools: /home/adrian/anaconda3/bin/../lib/libncursesw.so.6: no version information available (required by samtools)\n",
      "samtools: /home/adrian/anaconda3/bin/../lib/libncursesw.so.6: no version information available (required by samtools)\n"
     ]
    },
    {
     "name": "stdout",
     "output_type": "stream",
     "text": [
      "time samtools fixmate -@ 20 -m /home/adrian/projects/reynisfjara/results/bam/a3922_0h_3/namesort.bam /home/adrian/projects/reynisfjara/results/bam/a3922_0h_3/fixmate.bam\n"
     ]
    },
    {
     "name": "stderr",
     "output_type": "stream",
     "text": [
      "583.18user 11.87system 0:46.66elapsed 1275%CPU (0avgtext+0avgdata 52552maxresident)k\n",
      "568inputs+13987816outputs (1major+14154minor)pagefaults 0swaps\n",
      "samtools: /home/adrian/anaconda3/bin/../lib/libtinfow.so.6: no version information available (required by samtools)\n",
      "samtools: /home/adrian/anaconda3/bin/../lib/libncursesw.so.6: no version information available (required by samtools)\n",
      "samtools: /home/adrian/anaconda3/bin/../lib/libncursesw.so.6: no version information available (required by samtools)\n"
     ]
    },
    {
     "name": "stdout",
     "output_type": "stream",
     "text": [
      "time samtools sort -@ 20 -o /home/adrian/projects/reynisfjara/results/bam/a3922_0h_3/positionsort.bam /home/adrian/projects/reynisfjara/results/bam/a3922_0h_3/fixmate.bam\n"
     ]
    },
    {
     "name": "stderr",
     "output_type": "stream",
     "text": [
      "[bam_sort_core] merging from 1 files and 20 in-memory blocks...\n",
      "657.26user 17.89system 0:59.77elapsed 1129%CPU (0avgtext+0avgdata 17513824maxresident)k\n",
      "376inputs+10931936outputs (0major+4588267minor)pagefaults 0swaps\n",
      "samtools: /home/adrian/anaconda3/bin/../lib/libtinfow.so.6: no version information available (required by samtools)\n",
      "samtools: /home/adrian/anaconda3/bin/../lib/libncursesw.so.6: no version information available (required by samtools)\n",
      "samtools: /home/adrian/anaconda3/bin/../lib/libncursesw.so.6: no version information available (required by samtools)\n"
     ]
    },
    {
     "name": "stdout",
     "output_type": "stream",
     "text": [
      "time samtools markdup -@ 20 -r /home/adrian/projects/reynisfjara/results/bam/a3922_0h_3/positionsort.bam /home/adrian/projects/reynisfjara/results/bam/a3922_0h_3/markdup.bam\n"
     ]
    },
    {
     "name": "stderr",
     "output_type": "stream",
     "text": [
      "327.84user 6.45system 0:54.69elapsed 611%CPU (0avgtext+0avgdata 292204maxresident)k\n",
      "184inputs+5383424outputs (0major+73983minor)pagefaults 0swaps\n",
      "samtools: /home/adrian/anaconda3/bin/../lib/libtinfow.so.6: no version information available (required by samtools)\n",
      "samtools: /home/adrian/anaconda3/bin/../lib/libncursesw.so.6: no version information available (required by samtools)\n",
      "samtools: /home/adrian/anaconda3/bin/../lib/libncursesw.so.6: no version information available (required by samtools)\n"
     ]
    },
    {
     "name": "stdout",
     "output_type": "stream",
     "text": [
      "time samtools sort -@ 20 -n -o /home/adrian/projects/reynisfjara/results/bam/a3922_48h_1/namesort.bam /home/adrian/projects/reynisfjara/results/bam/a3922_48h_1/a3922_48h_1.bam\n"
     ]
    },
    {
     "name": "stderr",
     "output_type": "stream",
     "text": [
      "[bam_sort_core] merging from 1 files and 20 in-memory blocks...\n",
      "845.96user 19.95system 1:04.48elapsed 1342%CPU (0avgtext+0avgdata 17566552maxresident)k\n",
      "10893776inputs+18621472outputs (0major+4514054minor)pagefaults 0swaps\n",
      "samtools: /home/adrian/anaconda3/bin/../lib/libtinfow.so.6: no version information available (required by samtools)\n",
      "samtools: /home/adrian/anaconda3/bin/../lib/libncursesw.so.6: no version information available (required by samtools)\n",
      "samtools: /home/adrian/anaconda3/bin/../lib/libncursesw.so.6: no version information available (required by samtools)\n"
     ]
    },
    {
     "name": "stdout",
     "output_type": "stream",
     "text": [
      "time samtools fixmate -@ 20 -m /home/adrian/projects/reynisfjara/results/bam/a3922_48h_1/namesort.bam /home/adrian/projects/reynisfjara/results/bam/a3922_48h_1/fixmate.bam\n"
     ]
    },
    {
     "name": "stderr",
     "output_type": "stream",
     "text": [
      "476.20user 10.19system 0:37.31elapsed 1303%CPU (0avgtext+0avgdata 53212maxresident)k\n",
      "584inputs+11302224outputs (0major+14158minor)pagefaults 0swaps\n",
      "samtools: /home/adrian/anaconda3/bin/../lib/libtinfow.so.6: no version information available (required by samtools)\n",
      "samtools: /home/adrian/anaconda3/bin/../lib/libncursesw.so.6: no version information available (required by samtools)\n",
      "samtools: /home/adrian/anaconda3/bin/../lib/libncursesw.so.6: no version information available (required by samtools)\n"
     ]
    },
    {
     "name": "stdout",
     "output_type": "stream",
     "text": [
      "time samtools sort -@ 20 -o /home/adrian/projects/reynisfjara/results/bam/a3922_48h_1/positionsort.bam /home/adrian/projects/reynisfjara/results/bam/a3922_48h_1/fixmate.bam\n"
     ]
    },
    {
     "name": "stderr",
     "output_type": "stream",
     "text": [
      "[bam_sort_core] merging from 1 files and 20 in-memory blocks...\n",
      "551.51user 15.93system 0:52.09elapsed 1089%CPU (0avgtext+0avgdata 17506964maxresident)k\n",
      "392inputs+9709640outputs (0major+4506372minor)pagefaults 0swaps\n",
      "samtools: /home/adrian/anaconda3/bin/../lib/libtinfow.so.6: no version information available (required by samtools)\n",
      "samtools: /home/adrian/anaconda3/bin/../lib/libncursesw.so.6: no version information available (required by samtools)\n",
      "samtools: /home/adrian/anaconda3/bin/../lib/libncursesw.so.6: no version information available (required by samtools)\n"
     ]
    },
    {
     "name": "stdout",
     "output_type": "stream",
     "text": [
      "time samtools markdup -@ 20 -r /home/adrian/projects/reynisfjara/results/bam/a3922_48h_1/positionsort.bam /home/adrian/projects/reynisfjara/results/bam/a3922_48h_1/markdup.bam\n"
     ]
    },
    {
     "name": "stderr",
     "output_type": "stream",
     "text": [
      "267.71user 5.45system 0:41.47elapsed 658%CPU (0avgtext+0avgdata 216732maxresident)k\n",
      "144inputs+4529208outputs (0major+55072minor)pagefaults 0swaps\n",
      "samtools: /home/adrian/anaconda3/bin/../lib/libtinfow.so.6: no version information available (required by samtools)\n",
      "samtools: /home/adrian/anaconda3/bin/../lib/libncursesw.so.6: no version information available (required by samtools)\n",
      "samtools: /home/adrian/anaconda3/bin/../lib/libncursesw.so.6: no version information available (required by samtools)\n"
     ]
    },
    {
     "name": "stdout",
     "output_type": "stream",
     "text": [
      "time samtools sort -@ 20 -n -o /home/adrian/projects/reynisfjara/results/bam/a3922_48h_2/namesort.bam /home/adrian/projects/reynisfjara/results/bam/a3922_48h_2/a3922_48h_2.bam\n"
     ]
    },
    {
     "name": "stderr",
     "output_type": "stream",
     "text": [
      "[bam_sort_core] merging from 1 files and 20 in-memory blocks...\n",
      "685.21user 17.62system 0:52.67elapsed 1334%CPU (0avgtext+0avgdata 17560400maxresident)k\n",
      "8676328inputs+16276920outputs (0major+4449004minor)pagefaults 0swaps\n",
      "samtools: /home/adrian/anaconda3/bin/../lib/libtinfow.so.6: no version information available (required by samtools)\n",
      "samtools: /home/adrian/anaconda3/bin/../lib/libncursesw.so.6: no version information available (required by samtools)\n",
      "samtools: /home/adrian/anaconda3/bin/../lib/libncursesw.so.6: no version information available (required by samtools)\n"
     ]
    },
    {
     "name": "stdout",
     "output_type": "stream",
     "text": [
      "time samtools fixmate -@ 20 -m /home/adrian/projects/reynisfjara/results/bam/a3922_48h_2/namesort.bam /home/adrian/projects/reynisfjara/results/bam/a3922_48h_2/fixmate.bam\n"
     ]
    },
    {
     "name": "stderr",
     "output_type": "stream",
     "text": [
      "378.05user 8.55system 0:31.20elapsed 1239%CPU (0avgtext+0avgdata 53160maxresident)k\n",
      "424inputs+8992864outputs (0major+14155minor)pagefaults 0swaps\n",
      "samtools: /home/adrian/anaconda3/bin/../lib/libtinfow.so.6: no version information available (required by samtools)\n",
      "samtools: /home/adrian/anaconda3/bin/../lib/libncursesw.so.6: no version information available (required by samtools)\n",
      "samtools: /home/adrian/anaconda3/bin/../lib/libncursesw.so.6: no version information available (required by samtools)\n"
     ]
    },
    {
     "name": "stdout",
     "output_type": "stream",
     "text": [
      "time samtools sort -@ 20 -o /home/adrian/projects/reynisfjara/results/bam/a3922_48h_2/positionsort.bam /home/adrian/projects/reynisfjara/results/bam/a3922_48h_2/fixmate.bam\n"
     ]
    },
    {
     "name": "stderr",
     "output_type": "stream",
     "text": [
      "[bam_sort_core] merging from 1 files and 20 in-memory blocks...\n",
      "439.38user 14.02system 0:43.67elapsed 1038%CPU (0avgtext+0avgdata 17506028maxresident)k\n",
      "336inputs+8446688outputs (0major+4441622minor)pagefaults 0swaps\n",
      "samtools: /home/adrian/anaconda3/bin/../lib/libtinfow.so.6: no version information available (required by samtools)\n",
      "samtools: /home/adrian/anaconda3/bin/../lib/libncursesw.so.6: no version information available (required by samtools)\n",
      "samtools: /home/adrian/anaconda3/bin/../lib/libncursesw.so.6: no version information available (required by samtools)\n"
     ]
    },
    {
     "name": "stdout",
     "output_type": "stream",
     "text": [
      "time samtools markdup -@ 20 -r /home/adrian/projects/reynisfjara/results/bam/a3922_48h_2/positionsort.bam /home/adrian/projects/reynisfjara/results/bam/a3922_48h_2/markdup.bam\n"
     ]
    },
    {
     "name": "stderr",
     "output_type": "stream",
     "text": [
      "213.95user 4.47system 0:33.65elapsed 648%CPU (0avgtext+0avgdata 180884maxresident)k\n",
      "128inputs+3685416outputs (0major+46101minor)pagefaults 0swaps\n",
      "samtools: /home/adrian/anaconda3/bin/../lib/libtinfow.so.6: no version information available (required by samtools)\n",
      "samtools: /home/adrian/anaconda3/bin/../lib/libncursesw.so.6: no version information available (required by samtools)\n",
      "samtools: /home/adrian/anaconda3/bin/../lib/libncursesw.so.6: no version information available (required by samtools)\n"
     ]
    },
    {
     "name": "stdout",
     "output_type": "stream",
     "text": [
      "time samtools sort -@ 20 -n -o /home/adrian/projects/reynisfjara/results/bam/a3922_48h_3/namesort.bam /home/adrian/projects/reynisfjara/results/bam/a3922_48h_3/a3922_48h_3.bam\n"
     ]
    },
    {
     "name": "stderr",
     "output_type": "stream",
     "text": [
      "[bam_sort_core] merging from 1 files and 20 in-memory blocks...\n",
      "744.96user 18.35system 0:57.41elapsed 1329%CPU (0avgtext+0avgdata 17565760maxresident)k\n",
      "9520856inputs+17180432outputs (0major+4473741minor)pagefaults 0swaps\n",
      "samtools: /home/adrian/anaconda3/bin/../lib/libtinfow.so.6: no version information available (required by samtools)\n",
      "samtools: /home/adrian/anaconda3/bin/../lib/libncursesw.so.6: no version information available (required by samtools)\n",
      "samtools: /home/adrian/anaconda3/bin/../lib/libncursesw.so.6: no version information available (required by samtools)\n"
     ]
    },
    {
     "name": "stdout",
     "output_type": "stream",
     "text": [
      "time samtools fixmate -@ 20 -m /home/adrian/projects/reynisfjara/results/bam/a3922_48h_3/namesort.bam /home/adrian/projects/reynisfjara/results/bam/a3922_48h_3/fixmate.bam\n"
     ]
    },
    {
     "name": "stderr",
     "output_type": "stream",
     "text": [
      "408.65user 8.99system 0:32.16elapsed 1298%CPU (0avgtext+0avgdata 52684maxresident)k\n",
      "400inputs+9872688outputs (0major+14153minor)pagefaults 0swaps\n",
      "samtools: /home/adrian/anaconda3/bin/../lib/libtinfow.so.6: no version information available (required by samtools)\n",
      "samtools: /home/adrian/anaconda3/bin/../lib/libncursesw.so.6: no version information available (required by samtools)\n",
      "samtools: /home/adrian/anaconda3/bin/../lib/libncursesw.so.6: no version information available (required by samtools)\n"
     ]
    },
    {
     "name": "stdout",
     "output_type": "stream",
     "text": [
      "time samtools sort -@ 20 -o /home/adrian/projects/reynisfjara/results/bam/a3922_48h_3/positionsort.bam /home/adrian/projects/reynisfjara/results/bam/a3922_48h_3/fixmate.bam\n"
     ]
    },
    {
     "name": "stderr",
     "output_type": "stream",
     "text": [
      "[bam_sort_core] merging from 1 files and 20 in-memory blocks...\n",
      "485.13user 15.05system 0:44.31elapsed 1128%CPU (0avgtext+0avgdata 17506732maxresident)k\n",
      "336inputs+9056672outputs (0major+4466058minor)pagefaults 0swaps\n",
      "samtools: /home/adrian/anaconda3/bin/../lib/libtinfow.so.6: no version information available (required by samtools)\n",
      "samtools: /home/adrian/anaconda3/bin/../lib/libncursesw.so.6: no version information available (required by samtools)\n",
      "samtools: /home/adrian/anaconda3/bin/../lib/libncursesw.so.6: no version information available (required by samtools)\n"
     ]
    },
    {
     "name": "stdout",
     "output_type": "stream",
     "text": [
      "time samtools markdup -@ 20 -r /home/adrian/projects/reynisfjara/results/bam/a3922_48h_3/positionsort.bam /home/adrian/projects/reynisfjara/results/bam/a3922_48h_3/markdup.bam\n"
     ]
    },
    {
     "name": "stderr",
     "output_type": "stream",
     "text": [
      "241.81user 4.77system 0:37.13elapsed 664%CPU (0avgtext+0avgdata 174556maxresident)k\n",
      "184inputs+4132992outputs (0major+44565minor)pagefaults 0swaps\n",
      "samtools: /home/adrian/anaconda3/bin/../lib/libtinfow.so.6: no version information available (required by samtools)\n",
      "samtools: /home/adrian/anaconda3/bin/../lib/libncursesw.so.6: no version information available (required by samtools)\n",
      "samtools: /home/adrian/anaconda3/bin/../lib/libncursesw.so.6: no version information available (required by samtools)\n"
     ]
    },
    {
     "name": "stdout",
     "output_type": "stream",
     "text": [
      "time samtools sort -@ 20 -n -o /home/adrian/projects/reynisfjara/results/bam/a3922_72h_1/namesort.bam /home/adrian/projects/reynisfjara/results/bam/a3922_72h_1/a3922_72h_1.bam\n"
     ]
    },
    {
     "name": "stderr",
     "output_type": "stream",
     "text": [
      "[bam_sort_core] merging from 1 files and 20 in-memory blocks...\n",
      "858.23user 19.40system 1:03.05elapsed 1391%CPU (0avgtext+0avgdata 17567184maxresident)k\n",
      "11085056inputs+18821560outputs (0major+4519102minor)pagefaults 0swaps\n",
      "samtools: /home/adrian/anaconda3/bin/../lib/libtinfow.so.6: no version information available (required by samtools)\n",
      "samtools: /home/adrian/anaconda3/bin/../lib/libncursesw.so.6: no version information available (required by samtools)\n",
      "samtools: /home/adrian/anaconda3/bin/../lib/libncursesw.so.6: no version information available (required by samtools)\n"
     ]
    },
    {
     "name": "stdout",
     "output_type": "stream",
     "text": [
      "time samtools fixmate -@ 20 -m /home/adrian/projects/reynisfjara/results/bam/a3922_72h_1/namesort.bam /home/adrian/projects/reynisfjara/results/bam/a3922_72h_1/fixmate.bam\n"
     ]
    },
    {
     "name": "stderr",
     "output_type": "stream",
     "text": [
      "480.19user 9.71system 0:38.69elapsed 1266%CPU (0avgtext+0avgdata 51632maxresident)k\n",
      "424inputs+11509432outputs (0major+13894minor)pagefaults 0swaps\n",
      "samtools: /home/adrian/anaconda3/bin/../lib/libtinfow.so.6: no version information available (required by samtools)\n",
      "samtools: /home/adrian/anaconda3/bin/../lib/libncursesw.so.6: no version information available (required by samtools)\n",
      "samtools: /home/adrian/anaconda3/bin/../lib/libncursesw.so.6: no version information available (required by samtools)\n"
     ]
    },
    {
     "name": "stdout",
     "output_type": "stream",
     "text": [
      "time samtools sort -@ 20 -o /home/adrian/projects/reynisfjara/results/bam/a3922_72h_1/positionsort.bam /home/adrian/projects/reynisfjara/results/bam/a3922_72h_1/fixmate.bam\n"
     ]
    },
    {
     "name": "stderr",
     "output_type": "stream",
     "text": [
      "[bam_sort_core] merging from 1 files and 20 in-memory blocks...\n",
      "561.04user 16.66system 0:51.48elapsed 1122%CPU (0avgtext+0avgdata 17507744maxresident)k\n",
      "448inputs+9975632outputs (0major+4511833minor)pagefaults 0swaps\n",
      "samtools: /home/adrian/anaconda3/bin/../lib/libtinfow.so.6: no version information available (required by samtools)\n",
      "samtools: /home/adrian/anaconda3/bin/../lib/libncursesw.so.6: no version information available (required by samtools)\n",
      "samtools: /home/adrian/anaconda3/bin/../lib/libncursesw.so.6: no version information available (required by samtools)\n"
     ]
    },
    {
     "name": "stdout",
     "output_type": "stream",
     "text": [
      "time samtools markdup -@ 20 -r /home/adrian/projects/reynisfjara/results/bam/a3922_72h_1/positionsort.bam /home/adrian/projects/reynisfjara/results/bam/a3922_72h_1/markdup.bam\n"
     ]
    },
    {
     "name": "stderr",
     "output_type": "stream",
     "text": [
      "291.95user 5.98system 0:45.86elapsed 649%CPU (0avgtext+0avgdata 191228maxresident)k\n",
      "176inputs+4712360outputs (0major+48840minor)pagefaults 0swaps\n",
      "samtools: /home/adrian/anaconda3/bin/../lib/libtinfow.so.6: no version information available (required by samtools)\n",
      "samtools: /home/adrian/anaconda3/bin/../lib/libncursesw.so.6: no version information available (required by samtools)\n",
      "samtools: /home/adrian/anaconda3/bin/../lib/libncursesw.so.6: no version information available (required by samtools)\n"
     ]
    },
    {
     "name": "stdout",
     "output_type": "stream",
     "text": [
      "time samtools sort -@ 20 -n -o /home/adrian/projects/reynisfjara/results/bam/a3922_72h_2/namesort.bam /home/adrian/projects/reynisfjara/results/bam/a3922_72h_2/a3922_72h_2.bam\n"
     ]
    },
    {
     "name": "stderr",
     "output_type": "stream",
     "text": [
      "[bam_sort_core] merging from 1 files and 20 in-memory blocks...\n",
      "946.18user 21.72system 1:17.02elapsed 1256%CPU (0avgtext+0avgdata 17565908maxresident)k\n",
      "12024808inputs+19743048outputs (0major+4548470minor)pagefaults 0swaps\n",
      "samtools: /home/adrian/anaconda3/bin/../lib/libtinfow.so.6: no version information available (required by samtools)\n",
      "samtools: /home/adrian/anaconda3/bin/../lib/libncursesw.so.6: no version information available (required by samtools)\n",
      "samtools: /home/adrian/anaconda3/bin/../lib/libncursesw.so.6: no version information available (required by samtools)\n"
     ]
    },
    {
     "name": "stdout",
     "output_type": "stream",
     "text": [
      "time samtools fixmate -@ 20 -m /home/adrian/projects/reynisfjara/results/bam/a3922_72h_2/namesort.bam /home/adrian/projects/reynisfjara/results/bam/a3922_72h_2/fixmate.bam\n"
     ]
    },
    {
     "name": "stderr",
     "output_type": "stream",
     "text": [
      "531.59user 12.05system 0:41.60elapsed 1306%CPU (0avgtext+0avgdata 52932maxresident)k\n",
      "424inputs+12483792outputs (0major+14177minor)pagefaults 0swaps\n",
      "samtools: /home/adrian/anaconda3/bin/../lib/libtinfow.so.6: no version information available (required by samtools)\n",
      "samtools: /home/adrian/anaconda3/bin/../lib/libncursesw.so.6: no version information available (required by samtools)\n",
      "samtools: /home/adrian/anaconda3/bin/../lib/libncursesw.so.6: no version information available (required by samtools)\n"
     ]
    },
    {
     "name": "stdout",
     "output_type": "stream",
     "text": [
      "time samtools sort -@ 20 -o /home/adrian/projects/reynisfjara/results/bam/a3922_72h_2/positionsort.bam /home/adrian/projects/reynisfjara/results/bam/a3922_72h_2/fixmate.bam\n"
     ]
    },
    {
     "name": "stderr",
     "output_type": "stream",
     "text": [
      "[bam_sort_core] merging from 1 files and 20 in-memory blocks...\n",
      "601.54user 17.11system 0:55.58elapsed 1112%CPU (0avgtext+0avgdata 17506168maxresident)k\n",
      "368inputs+10304336outputs (0major+4541115minor)pagefaults 0swaps\n",
      "samtools: /home/adrian/anaconda3/bin/../lib/libtinfow.so.6: no version information available (required by samtools)\n",
      "samtools: /home/adrian/anaconda3/bin/../lib/libncursesw.so.6: no version information available (required by samtools)\n",
      "samtools: /home/adrian/anaconda3/bin/../lib/libncursesw.so.6: no version information available (required by samtools)\n"
     ]
    },
    {
     "name": "stdout",
     "output_type": "stream",
     "text": [
      "time samtools markdup -@ 20 -r /home/adrian/projects/reynisfjara/results/bam/a3922_72h_2/positionsort.bam /home/adrian/projects/reynisfjara/results/bam/a3922_72h_2/markdup.bam\n"
     ]
    },
    {
     "name": "stderr",
     "output_type": "stream",
     "text": [
      "290.72user 5.73system 0:47.01elapsed 630%CPU (0avgtext+0avgdata 228912maxresident)k\n",
      "184inputs+4901856outputs (0major+58211minor)pagefaults 0swaps\n",
      "samtools: /home/adrian/anaconda3/bin/../lib/libtinfow.so.6: no version information available (required by samtools)\n",
      "samtools: /home/adrian/anaconda3/bin/../lib/libncursesw.so.6: no version information available (required by samtools)\n",
      "samtools: /home/adrian/anaconda3/bin/../lib/libncursesw.so.6: no version information available (required by samtools)\n"
     ]
    },
    {
     "name": "stdout",
     "output_type": "stream",
     "text": [
      "time samtools sort -@ 20 -n -o /home/adrian/projects/reynisfjara/results/bam/a3922_72h_3/namesort.bam /home/adrian/projects/reynisfjara/results/bam/a3922_72h_3/a3922_72h_3.bam\n"
     ]
    },
    {
     "name": "stderr",
     "output_type": "stream",
     "text": [
      "[bam_sort_core] merging from 1 files and 20 in-memory blocks...\n",
      "879.48user 19.94system 1:05.21elapsed 1379%CPU (0avgtext+0avgdata 17567572maxresident)k\n",
      "11457536inputs+19127064outputs (0major+4533542minor)pagefaults 0swaps\n",
      "samtools: /home/adrian/anaconda3/bin/../lib/libtinfow.so.6: no version information available (required by samtools)\n",
      "samtools: /home/adrian/anaconda3/bin/../lib/libncursesw.so.6: no version information available (required by samtools)\n",
      "samtools: /home/adrian/anaconda3/bin/../lib/libncursesw.so.6: no version information available (required by samtools)\n"
     ]
    },
    {
     "name": "stdout",
     "output_type": "stream",
     "text": [
      "time samtools fixmate -@ 20 -m /home/adrian/projects/reynisfjara/results/bam/a3922_72h_3/namesort.bam /home/adrian/projects/reynisfjara/results/bam/a3922_72h_3/fixmate.bam\n"
     ]
    },
    {
     "name": "stderr",
     "output_type": "stream",
     "text": [
      "497.45user 10.61system 0:39.60elapsed 1282%CPU (0avgtext+0avgdata 51924maxresident)k\n",
      "408inputs+11890032outputs (0major+13892minor)pagefaults 0swaps\n",
      "samtools: /home/adrian/anaconda3/bin/../lib/libtinfow.so.6: no version information available (required by samtools)\n",
      "samtools: /home/adrian/anaconda3/bin/../lib/libncursesw.so.6: no version information available (required by samtools)\n",
      "samtools: /home/adrian/anaconda3/bin/../lib/libncursesw.so.6: no version information available (required by samtools)\n"
     ]
    },
    {
     "name": "stdout",
     "output_type": "stream",
     "text": [
      "time samtools sort -@ 20 -o /home/adrian/projects/reynisfjara/results/bam/a3922_72h_3/positionsort.bam /home/adrian/projects/reynisfjara/results/bam/a3922_72h_3/fixmate.bam\n"
     ]
    },
    {
     "name": "stderr",
     "output_type": "stream",
     "text": [
      "[bam_sort_core] merging from 1 files and 20 in-memory blocks...\n",
      "569.69user 16.54system 0:50.03elapsed 1171%CPU (0avgtext+0avgdata 17509256maxresident)k\n",
      "376inputs+10068632outputs (0major+4526269minor)pagefaults 0swaps\n",
      "samtools: /home/adrian/anaconda3/bin/../lib/libtinfow.so.6: no version information available (required by samtools)\n",
      "samtools: /home/adrian/anaconda3/bin/../lib/libncursesw.so.6: no version information available (required by samtools)\n",
      "samtools: /home/adrian/anaconda3/bin/../lib/libncursesw.so.6: no version information available (required by samtools)\n"
     ]
    },
    {
     "name": "stdout",
     "output_type": "stream",
     "text": [
      "time samtools markdup -@ 20 -r /home/adrian/projects/reynisfjara/results/bam/a3922_72h_3/positionsort.bam /home/adrian/projects/reynisfjara/results/bam/a3922_72h_3/markdup.bam\n"
     ]
    },
    {
     "name": "stderr",
     "output_type": "stream",
     "text": [
      "282.33user 5.77system 0:44.60elapsed 645%CPU (0avgtext+0avgdata 197452maxresident)k\n",
      "160inputs+4835112outputs (0major+50331minor)pagefaults 0swaps\n",
      "samtools: /home/adrian/anaconda3/bin/../lib/libtinfow.so.6: no version information available (required by samtools)\n",
      "samtools: /home/adrian/anaconda3/bin/../lib/libncursesw.so.6: no version information available (required by samtools)\n",
      "samtools: /home/adrian/anaconda3/bin/../lib/libncursesw.so.6: no version information available (required by samtools)\n"
     ]
    },
    {
     "name": "stdout",
     "output_type": "stream",
     "text": [
      "time samtools sort -@ 20 -n -o /home/adrian/projects/reynisfjara/results/bam/a4774_0h_1/namesort.bam /home/adrian/projects/reynisfjara/results/bam/a4774_0h_1/a4774_0h_1.bam\n"
     ]
    },
    {
     "name": "stderr",
     "output_type": "stream",
     "text": [
      "[bam_sort_core] merging from 1 files and 20 in-memory blocks...\n",
      "712.23user 17.63system 0:55.37elapsed 1318%CPU (0avgtext+0avgdata 17569160maxresident)k\n",
      "8951624inputs+16615528outputs (0major+4457012minor)pagefaults 0swaps\n",
      "samtools: /home/adrian/anaconda3/bin/../lib/libtinfow.so.6: no version information available (required by samtools)\n",
      "samtools: /home/adrian/anaconda3/bin/../lib/libncursesw.so.6: no version information available (required by samtools)\n",
      "samtools: /home/adrian/anaconda3/bin/../lib/libncursesw.so.6: no version information available (required by samtools)\n"
     ]
    },
    {
     "name": "stdout",
     "output_type": "stream",
     "text": [
      "time samtools fixmate -@ 20 -m /home/adrian/projects/reynisfjara/results/bam/a4774_0h_1/namesort.bam /home/adrian/projects/reynisfjara/results/bam/a4774_0h_1/fixmate.bam\n"
     ]
    },
    {
     "name": "stderr",
     "output_type": "stream",
     "text": [
      "377.03user 8.15system 0:31.19elapsed 1234%CPU (0avgtext+0avgdata 52684maxresident)k\n",
      "320inputs+9282952outputs (0major+14151minor)pagefaults 0swaps\n",
      "samtools: /home/adrian/anaconda3/bin/../lib/libtinfow.so.6: no version information available (required by samtools)\n",
      "samtools: /home/adrian/anaconda3/bin/../lib/libncursesw.so.6: no version information available (required by samtools)\n",
      "samtools: /home/adrian/anaconda3/bin/../lib/libncursesw.so.6: no version information available (required by samtools)\n"
     ]
    },
    {
     "name": "stdout",
     "output_type": "stream",
     "text": [
      "time samtools sort -@ 20 -o /home/adrian/projects/reynisfjara/results/bam/a4774_0h_1/positionsort.bam /home/adrian/projects/reynisfjara/results/bam/a4774_0h_1/fixmate.bam\n"
     ]
    },
    {
     "name": "stderr",
     "output_type": "stream",
     "text": [
      "[bam_sort_core] merging from 1 files and 20 in-memory blocks...\n",
      "460.86user 14.74system 0:42.86elapsed 1109%CPU (0avgtext+0avgdata 17514128maxresident)k\n",
      "296inputs+8837128outputs (0major+4449847minor)pagefaults 0swaps\n",
      "samtools: /home/adrian/anaconda3/bin/../lib/libtinfow.so.6: no version information available (required by samtools)\n",
      "samtools: /home/adrian/anaconda3/bin/../lib/libncursesw.so.6: no version information available (required by samtools)\n",
      "samtools: /home/adrian/anaconda3/bin/../lib/libncursesw.so.6: no version information available (required by samtools)\n"
     ]
    },
    {
     "name": "stdout",
     "output_type": "stream",
     "text": [
      "time samtools markdup -@ 20 -r /home/adrian/projects/reynisfjara/results/bam/a4774_0h_1/positionsort.bam /home/adrian/projects/reynisfjara/results/bam/a4774_0h_1/markdup.bam\n"
     ]
    },
    {
     "name": "stderr",
     "output_type": "stream",
     "text": [
      "232.30user 4.70system 0:34.72elapsed 682%CPU (0avgtext+0avgdata 227836maxresident)k\n",
      "96inputs+3951936outputs (0major+57987minor)pagefaults 0swaps\n",
      "samtools: /home/adrian/anaconda3/bin/../lib/libtinfow.so.6: no version information available (required by samtools)\n",
      "samtools: /home/adrian/anaconda3/bin/../lib/libncursesw.so.6: no version information available (required by samtools)\n",
      "samtools: /home/adrian/anaconda3/bin/../lib/libncursesw.so.6: no version information available (required by samtools)\n"
     ]
    },
    {
     "name": "stdout",
     "output_type": "stream",
     "text": [
      "time samtools sort -@ 20 -n -o /home/adrian/projects/reynisfjara/results/bam/a4774_0h_2/namesort.bam /home/adrian/projects/reynisfjara/results/bam/a4774_0h_2/a4774_0h_2.bam\n"
     ]
    },
    {
     "name": "stderr",
     "output_type": "stream",
     "text": [
      "[bam_sort_core] merging from 1 files and 20 in-memory blocks...\n",
      "696.02user 17.50system 0:54.45elapsed 1310%CPU (0avgtext+0avgdata 17568572maxresident)k\n",
      "8669336inputs+16328568outputs (0major+4448270minor)pagefaults 0swaps\n",
      "samtools: /home/adrian/anaconda3/bin/../lib/libtinfow.so.6: no version information available (required by samtools)\n",
      "samtools: /home/adrian/anaconda3/bin/../lib/libncursesw.so.6: no version information available (required by samtools)\n",
      "samtools: /home/adrian/anaconda3/bin/../lib/libncursesw.so.6: no version information available (required by samtools)\n"
     ]
    },
    {
     "name": "stdout",
     "output_type": "stream",
     "text": [
      "time samtools fixmate -@ 20 -m /home/adrian/projects/reynisfjara/results/bam/a4774_0h_2/namesort.bam /home/adrian/projects/reynisfjara/results/bam/a4774_0h_2/fixmate.bam\n"
     ]
    },
    {
     "name": "stderr",
     "output_type": "stream",
     "text": [
      "368.60user 8.04system 0:29.60elapsed 1272%CPU (0avgtext+0avgdata 52944maxresident)k\n",
      "384inputs+8989016outputs (0major+14150minor)pagefaults 0swaps\n",
      "samtools: /home/adrian/anaconda3/bin/../lib/libtinfow.so.6: no version information available (required by samtools)\n",
      "samtools: /home/adrian/anaconda3/bin/../lib/libncursesw.so.6: no version information available (required by samtools)\n",
      "samtools: /home/adrian/anaconda3/bin/../lib/libncursesw.so.6: no version information available (required by samtools)\n"
     ]
    },
    {
     "name": "stdout",
     "output_type": "stream",
     "text": [
      "time samtools sort -@ 20 -o /home/adrian/projects/reynisfjara/results/bam/a4774_0h_2/positionsort.bam /home/adrian/projects/reynisfjara/results/bam/a4774_0h_2/fixmate.bam\n"
     ]
    },
    {
     "name": "stderr",
     "output_type": "stream",
     "text": [
      "[bam_sort_core] merging from 1 files and 20 in-memory blocks...\n",
      "444.10user 14.04system 0:42.44elapsed 1079%CPU (0avgtext+0avgdata 17513744maxresident)k\n",
      "304inputs+8626472outputs (0major+4441077minor)pagefaults 0swaps\n",
      "samtools: /home/adrian/anaconda3/bin/../lib/libtinfow.so.6: no version information available (required by samtools)\n",
      "samtools: /home/adrian/anaconda3/bin/../lib/libncursesw.so.6: no version information available (required by samtools)\n",
      "samtools: /home/adrian/anaconda3/bin/../lib/libncursesw.so.6: no version information available (required by samtools)\n"
     ]
    },
    {
     "name": "stdout",
     "output_type": "stream",
     "text": [
      "time samtools markdup -@ 20 -r /home/adrian/projects/reynisfjara/results/bam/a4774_0h_2/positionsort.bam /home/adrian/projects/reynisfjara/results/bam/a4774_0h_2/markdup.bam\n"
     ]
    },
    {
     "name": "stderr",
     "output_type": "stream",
     "text": [
      "221.23user 4.71system 0:33.01elapsed 684%CPU (0avgtext+0avgdata 231912maxresident)k\n",
      "144inputs+3767520outputs (0major+58830minor)pagefaults 0swaps\n",
      "samtools: /home/adrian/anaconda3/bin/../lib/libtinfow.so.6: no version information available (required by samtools)\n",
      "samtools: /home/adrian/anaconda3/bin/../lib/libncursesw.so.6: no version information available (required by samtools)\n",
      "samtools: /home/adrian/anaconda3/bin/../lib/libncursesw.so.6: no version information available (required by samtools)\n"
     ]
    },
    {
     "name": "stdout",
     "output_type": "stream",
     "text": [
      "time samtools sort -@ 20 -n -o /home/adrian/projects/reynisfjara/results/bam/a4774_0h_3/namesort.bam /home/adrian/projects/reynisfjara/results/bam/a4774_0h_3/a4774_0h_3.bam\n"
     ]
    },
    {
     "name": "stderr",
     "output_type": "stream",
     "text": [
      "[bam_sort_core] merging from 1 files and 20 in-memory blocks...\n",
      "882.50user 20.12system 1:06.02elapsed 1367%CPU (0avgtext+0avgdata 17568028maxresident)k\n",
      "11356392inputs+18964536outputs (0major+4533260minor)pagefaults 0swaps\n",
      "samtools: /home/adrian/anaconda3/bin/../lib/libtinfow.so.6: no version information available (required by samtools)\n",
      "samtools: /home/adrian/anaconda3/bin/../lib/libncursesw.so.6: no version information available (required by samtools)\n",
      "samtools: /home/adrian/anaconda3/bin/../lib/libncursesw.so.6: no version information available (required by samtools)\n"
     ]
    },
    {
     "name": "stdout",
     "output_type": "stream",
     "text": [
      "time samtools fixmate -@ 20 -m /home/adrian/projects/reynisfjara/results/bam/a4774_0h_3/namesort.bam /home/adrian/projects/reynisfjara/results/bam/a4774_0h_3/fixmate.bam\n"
     ]
    },
    {
     "name": "stderr",
     "output_type": "stream",
     "text": [
      "481.11user 10.32system 0:40.31elapsed 1219%CPU (0avgtext+0avgdata 51564maxresident)k\n",
      "424inputs+11769608outputs (1major+13876minor)pagefaults 0swaps\n",
      "samtools: /home/adrian/anaconda3/bin/../lib/libtinfow.so.6: no version information available (required by samtools)\n",
      "samtools: /home/adrian/anaconda3/bin/../lib/libncursesw.so.6: no version information available (required by samtools)\n",
      "samtools: /home/adrian/anaconda3/bin/../lib/libncursesw.so.6: no version information available (required by samtools)\n"
     ]
    },
    {
     "name": "stdout",
     "output_type": "stream",
     "text": [
      "time samtools sort -@ 20 -o /home/adrian/projects/reynisfjara/results/bam/a4774_0h_3/positionsort.bam /home/adrian/projects/reynisfjara/results/bam/a4774_0h_3/fixmate.bam\n"
     ]
    },
    {
     "name": "stderr",
     "output_type": "stream",
     "text": [
      "[bam_sort_core] merging from 1 files and 20 in-memory blocks...\n",
      "546.10user 15.87system 0:53.48elapsed 1050%CPU (0avgtext+0avgdata 17507292maxresident)k\n",
      "368inputs+9826784outputs (0major+4525636minor)pagefaults 0swaps\n",
      "samtools: /home/adrian/anaconda3/bin/../lib/libtinfow.so.6: no version information available (required by samtools)\n",
      "samtools: /home/adrian/anaconda3/bin/../lib/libncursesw.so.6: no version information available (required by samtools)\n",
      "samtools: /home/adrian/anaconda3/bin/../lib/libncursesw.so.6: no version information available (required by samtools)\n"
     ]
    },
    {
     "name": "stdout",
     "output_type": "stream",
     "text": [
      "time samtools markdup -@ 20 -r /home/adrian/projects/reynisfjara/results/bam/a4774_0h_3/positionsort.bam /home/adrian/projects/reynisfjara/results/bam/a4774_0h_3/markdup.bam\n"
     ]
    },
    {
     "name": "stderr",
     "output_type": "stream",
     "text": [
      "272.19user 5.32system 0:44.83elapsed 619%CPU (0avgtext+0avgdata 283708maxresident)k\n",
      "144inputs+4656600outputs (0major+71840minor)pagefaults 0swaps\n",
      "samtools: /home/adrian/anaconda3/bin/../lib/libtinfow.so.6: no version information available (required by samtools)\n",
      "samtools: /home/adrian/anaconda3/bin/../lib/libncursesw.so.6: no version information available (required by samtools)\n",
      "samtools: /home/adrian/anaconda3/bin/../lib/libncursesw.so.6: no version information available (required by samtools)\n"
     ]
    },
    {
     "name": "stdout",
     "output_type": "stream",
     "text": [
      "time samtools sort -@ 20 -n -o /home/adrian/projects/reynisfjara/results/bam/a4774_48h_1/namesort.bam /home/adrian/projects/reynisfjara/results/bam/a4774_48h_1/a4774_48h_1.bam\n"
     ]
    },
    {
     "name": "stderr",
     "output_type": "stream",
     "text": [
      "[bam_sort_core] merging from 1 files and 20 in-memory blocks...\n",
      "836.87user 19.91system 1:07.12elapsed 1276%CPU (0avgtext+0avgdata 17568864maxresident)k\n",
      "10975192inputs+18603960outputs (0major+4521432minor)pagefaults 0swaps\n",
      "samtools: /home/adrian/anaconda3/bin/../lib/libtinfow.so.6: no version information available (required by samtools)\n",
      "samtools: /home/adrian/anaconda3/bin/../lib/libncursesw.so.6: no version information available (required by samtools)\n",
      "samtools: /home/adrian/anaconda3/bin/../lib/libncursesw.so.6: no version information available (required by samtools)\n"
     ]
    },
    {
     "name": "stdout",
     "output_type": "stream",
     "text": [
      "time samtools fixmate -@ 20 -m /home/adrian/projects/reynisfjara/results/bam/a4774_48h_1/namesort.bam /home/adrian/projects/reynisfjara/results/bam/a4774_48h_1/fixmate.bam\n"
     ]
    },
    {
     "name": "stderr",
     "output_type": "stream",
     "text": [
      "484.82user 10.91system 0:39.87elapsed 1243%CPU (0avgtext+0avgdata 52356maxresident)k\n",
      "392inputs+11380312outputs (0major+13997minor)pagefaults 0swaps\n",
      "samtools: /home/adrian/anaconda3/bin/../lib/libtinfow.so.6: no version information available (required by samtools)\n",
      "samtools: /home/adrian/anaconda3/bin/../lib/libncursesw.so.6: no version information available (required by samtools)\n",
      "samtools: /home/adrian/anaconda3/bin/../lib/libncursesw.so.6: no version information available (required by samtools)\n"
     ]
    },
    {
     "name": "stdout",
     "output_type": "stream",
     "text": [
      "time samtools sort -@ 20 -o /home/adrian/projects/reynisfjara/results/bam/a4774_48h_1/positionsort.bam /home/adrian/projects/reynisfjara/results/bam/a4774_48h_1/fixmate.bam\n"
     ]
    },
    {
     "name": "stderr",
     "output_type": "stream",
     "text": [
      "[bam_sort_core] merging from 1 files and 20 in-memory blocks...\n",
      "549.58user 15.71system 0:50.37elapsed 1122%CPU (0avgtext+0avgdata 17514272maxresident)k\n",
      "304inputs+9821944outputs (0major+4514309minor)pagefaults 0swaps\n",
      "samtools: /home/adrian/anaconda3/bin/../lib/libtinfow.so.6: no version information available (required by samtools)\n",
      "samtools: /home/adrian/anaconda3/bin/../lib/libncursesw.so.6: no version information available (required by samtools)\n",
      "samtools: /home/adrian/anaconda3/bin/../lib/libncursesw.so.6: no version information available (required by samtools)\n"
     ]
    },
    {
     "name": "stdout",
     "output_type": "stream",
     "text": [
      "time samtools markdup -@ 20 -r /home/adrian/projects/reynisfjara/results/bam/a4774_48h_1/positionsort.bam /home/adrian/projects/reynisfjara/results/bam/a4774_48h_1/markdup.bam\n"
     ]
    },
    {
     "name": "stderr",
     "output_type": "stream",
     "text": [
      "271.64user 5.80system 0:42.89elapsed 646%CPU (0avgtext+0avgdata 280248maxresident)k\n",
      "184inputs+4662416outputs (0major+70965minor)pagefaults 0swaps\n",
      "samtools: /home/adrian/anaconda3/bin/../lib/libtinfow.so.6: no version information available (required by samtools)\n",
      "samtools: /home/adrian/anaconda3/bin/../lib/libncursesw.so.6: no version information available (required by samtools)\n",
      "samtools: /home/adrian/anaconda3/bin/../lib/libncursesw.so.6: no version information available (required by samtools)\n"
     ]
    },
    {
     "name": "stdout",
     "output_type": "stream",
     "text": [
      "time samtools sort -@ 20 -n -o /home/adrian/projects/reynisfjara/results/bam/a4774_48h_2/namesort.bam /home/adrian/projects/reynisfjara/results/bam/a4774_48h_2/a4774_48h_2.bam\n"
     ]
    },
    {
     "name": "stderr",
     "output_type": "stream",
     "text": [
      "[bam_sort_core] merging from 1 files and 20 in-memory blocks...\n",
      "890.03user 20.29system 1:05.81elapsed 1383%CPU (0avgtext+0avgdata 17567560maxresident)k\n",
      "11592344inputs+19257544outputs (0major+4538523minor)pagefaults 0swaps\n",
      "samtools: /home/adrian/anaconda3/bin/../lib/libtinfow.so.6: no version information available (required by samtools)\n",
      "samtools: /home/adrian/anaconda3/bin/../lib/libncursesw.so.6: no version information available (required by samtools)\n",
      "samtools: /home/adrian/anaconda3/bin/../lib/libncursesw.so.6: no version information available (required by samtools)\n"
     ]
    },
    {
     "name": "stdout",
     "output_type": "stream",
     "text": [
      "time samtools fixmate -@ 20 -m /home/adrian/projects/reynisfjara/results/bam/a4774_48h_2/namesort.bam /home/adrian/projects/reynisfjara/results/bam/a4774_48h_2/fixmate.bam\n"
     ]
    },
    {
     "name": "stderr",
     "output_type": "stream",
     "text": [
      "504.23user 10.79system 0:40.22elapsed 1280%CPU (0avgtext+0avgdata 52676maxresident)k\n",
      "400inputs+12020240outputs (0major+14156minor)pagefaults 0swaps\n",
      "samtools: /home/adrian/anaconda3/bin/../lib/libtinfow.so.6: no version information available (required by samtools)\n",
      "samtools: /home/adrian/anaconda3/bin/../lib/libncursesw.so.6: no version information available (required by samtools)\n",
      "samtools: /home/adrian/anaconda3/bin/../lib/libncursesw.so.6: no version information available (required by samtools)\n"
     ]
    },
    {
     "name": "stdout",
     "output_type": "stream",
     "text": [
      "time samtools sort -@ 20 -o /home/adrian/projects/reynisfjara/results/bam/a4774_48h_2/positionsort.bam /home/adrian/projects/reynisfjara/results/bam/a4774_48h_2/fixmate.bam\n"
     ]
    },
    {
     "name": "stderr",
     "output_type": "stream",
     "text": [
      "[bam_sort_core] merging from 1 files and 20 in-memory blocks...\n",
      "556.98user 16.29system 1:05.17elapsed 879%CPU (0avgtext+0avgdata 17513992maxresident)k\n",
      "336inputs+10064048outputs (0major+4531190minor)pagefaults 0swaps\n",
      "samtools: /home/adrian/anaconda3/bin/../lib/libtinfow.so.6: no version information available (required by samtools)\n",
      "samtools: /home/adrian/anaconda3/bin/../lib/libncursesw.so.6: no version information available (required by samtools)\n",
      "samtools: /home/adrian/anaconda3/bin/../lib/libncursesw.so.6: no version information available (required by samtools)\n"
     ]
    },
    {
     "name": "stdout",
     "output_type": "stream",
     "text": [
      "time samtools markdup -@ 20 -r /home/adrian/projects/reynisfjara/results/bam/a4774_48h_2/positionsort.bam /home/adrian/projects/reynisfjara/results/bam/a4774_48h_2/markdup.bam\n"
     ]
    },
    {
     "name": "stderr",
     "output_type": "stream",
     "text": [
      "284.88user 5.80system 0:45.16elapsed 643%CPU (0avgtext+0avgdata 305180maxresident)k\n",
      "104inputs+4819696outputs (0major+77096minor)pagefaults 0swaps\n",
      "samtools: /home/adrian/anaconda3/bin/../lib/libtinfow.so.6: no version information available (required by samtools)\n",
      "samtools: /home/adrian/anaconda3/bin/../lib/libncursesw.so.6: no version information available (required by samtools)\n",
      "samtools: /home/adrian/anaconda3/bin/../lib/libncursesw.so.6: no version information available (required by samtools)\n"
     ]
    },
    {
     "name": "stdout",
     "output_type": "stream",
     "text": [
      "time samtools sort -@ 20 -n -o /home/adrian/projects/reynisfjara/results/bam/a4774_48h_3/namesort.bam /home/adrian/projects/reynisfjara/results/bam/a4774_48h_3/a4774_48h_3.bam\n"
     ]
    },
    {
     "name": "stderr",
     "output_type": "stream",
     "text": [
      "[bam_sort_core] merging from 1 files and 20 in-memory blocks...\n",
      "669.84user 17.58system 0:54.17elapsed 1268%CPU (0avgtext+0avgdata 17568220maxresident)k\n",
      "8317408inputs+16087232outputs (0major+4434289minor)pagefaults 0swaps\n",
      "samtools: /home/adrian/anaconda3/bin/../lib/libtinfow.so.6: no version information available (required by samtools)\n",
      "samtools: /home/adrian/anaconda3/bin/../lib/libncursesw.so.6: no version information available (required by samtools)\n",
      "samtools: /home/adrian/anaconda3/bin/../lib/libncursesw.so.6: no version information available (required by samtools)\n"
     ]
    },
    {
     "name": "stdout",
     "output_type": "stream",
     "text": [
      "time samtools fixmate -@ 20 -m /home/adrian/projects/reynisfjara/results/bam/a4774_48h_3/namesort.bam /home/adrian/projects/reynisfjara/results/bam/a4774_48h_3/fixmate.bam\n"
     ]
    },
    {
     "name": "stderr",
     "output_type": "stream",
     "text": [
      "359.43user 7.52system 0:28.86elapsed 1271%CPU (0avgtext+0avgdata 53212maxresident)k\n",
      "328inputs+8635736outputs (0major+14155minor)pagefaults 0swaps\n",
      "samtools: /home/adrian/anaconda3/bin/../lib/libtinfow.so.6: no version information available (required by samtools)\n",
      "samtools: /home/adrian/anaconda3/bin/../lib/libncursesw.so.6: no version information available (required by samtools)\n",
      "samtools: /home/adrian/anaconda3/bin/../lib/libncursesw.so.6: no version information available (required by samtools)\n"
     ]
    },
    {
     "name": "stdout",
     "output_type": "stream",
     "text": [
      "time samtools sort -@ 20 -o /home/adrian/projects/reynisfjara/results/bam/a4774_48h_3/positionsort.bam /home/adrian/projects/reynisfjara/results/bam/a4774_48h_3/fixmate.bam\n"
     ]
    },
    {
     "name": "stderr",
     "output_type": "stream",
     "text": [
      "[bam_sort_core] merging from 1 files and 20 in-memory blocks...\n",
      "439.96user 14.72system 0:41.68elapsed 1090%CPU (0avgtext+0avgdata 17513836maxresident)k\n",
      "344inputs+8679384outputs (0major+4426974minor)pagefaults 0swaps\n",
      "samtools: /home/adrian/anaconda3/bin/../lib/libtinfow.so.6: no version information available (required by samtools)\n",
      "samtools: /home/adrian/anaconda3/bin/../lib/libncursesw.so.6: no version information available (required by samtools)\n",
      "samtools: /home/adrian/anaconda3/bin/../lib/libncursesw.so.6: no version information available (required by samtools)\n"
     ]
    },
    {
     "name": "stdout",
     "output_type": "stream",
     "text": [
      "time samtools markdup -@ 20 -r /home/adrian/projects/reynisfjara/results/bam/a4774_48h_3/positionsort.bam /home/adrian/projects/reynisfjara/results/bam/a4774_48h_3/markdup.bam\n"
     ]
    },
    {
     "name": "stderr",
     "output_type": "stream",
     "text": [
      "216.45user 4.11system 0:30.49elapsed 723%CPU (0avgtext+0avgdata 212028maxresident)k\n",
      "128inputs+3698976outputs (0major+53920minor)pagefaults 0swaps\n",
      "samtools: /home/adrian/anaconda3/bin/../lib/libtinfow.so.6: no version information available (required by samtools)\n",
      "samtools: /home/adrian/anaconda3/bin/../lib/libncursesw.so.6: no version information available (required by samtools)\n",
      "samtools: /home/adrian/anaconda3/bin/../lib/libncursesw.so.6: no version information available (required by samtools)\n"
     ]
    },
    {
     "name": "stdout",
     "output_type": "stream",
     "text": [
      "time samtools sort -@ 20 -n -o /home/adrian/projects/reynisfjara/results/bam/a4774_72h_1/namesort.bam /home/adrian/projects/reynisfjara/results/bam/a4774_72h_1/a4774_72h_1.bam\n"
     ]
    },
    {
     "name": "stderr",
     "output_type": "stream",
     "text": [
      "[bam_sort_core] merging from 1 files and 20 in-memory blocks...\n",
      "922.88user 20.65system 1:12.56elapsed 1300%CPU (0avgtext+0avgdata 17570320maxresident)k\n",
      "12190424inputs+19897928outputs (0major+4555317minor)pagefaults 0swaps\n",
      "samtools: /home/adrian/anaconda3/bin/../lib/libtinfow.so.6: no version information available (required by samtools)\n",
      "samtools: /home/adrian/anaconda3/bin/../lib/libncursesw.so.6: no version information available (required by samtools)\n",
      "samtools: /home/adrian/anaconda3/bin/../lib/libncursesw.so.6: no version information available (required by samtools)\n"
     ]
    },
    {
     "name": "stdout",
     "output_type": "stream",
     "text": [
      "time samtools fixmate -@ 20 -m /home/adrian/projects/reynisfjara/results/bam/a4774_72h_1/namesort.bam /home/adrian/projects/reynisfjara/results/bam/a4774_72h_1/fixmate.bam\n"
     ]
    },
    {
     "name": "stderr",
     "output_type": "stream",
     "text": [
      "528.36user 11.55system 0:49.83elapsed 1083%CPU (0avgtext+0avgdata 53180maxresident)k\n",
      "480inputs+12657392outputs (0major+14179minor)pagefaults 0swaps\n",
      "samtools: /home/adrian/anaconda3/bin/../lib/libtinfow.so.6: no version information available (required by samtools)\n",
      "samtools: /home/adrian/anaconda3/bin/../lib/libncursesw.so.6: no version information available (required by samtools)\n",
      "samtools: /home/adrian/anaconda3/bin/../lib/libncursesw.so.6: no version information available (required by samtools)\n"
     ]
    },
    {
     "name": "stdout",
     "output_type": "stream",
     "text": [
      "time samtools sort -@ 20 -o /home/adrian/projects/reynisfjara/results/bam/a4774_72h_1/positionsort.bam /home/adrian/projects/reynisfjara/results/bam/a4774_72h_1/fixmate.bam\n"
     ]
    },
    {
     "name": "stderr",
     "output_type": "stream",
     "text": [
      "[bam_sort_core] merging from 1 files and 20 in-memory blocks...\n",
      "598.68user 17.13system 0:58.14elapsed 1059%CPU (0avgtext+0avgdata 17516076maxresident)k\n",
      "312inputs+10629048outputs (0major+4547915minor)pagefaults 0swaps\n",
      "samtools: /home/adrian/anaconda3/bin/../lib/libtinfow.so.6: no version information available (required by samtools)\n",
      "samtools: /home/adrian/anaconda3/bin/../lib/libncursesw.so.6: no version information available (required by samtools)\n",
      "samtools: /home/adrian/anaconda3/bin/../lib/libncursesw.so.6: no version information available (required by samtools)\n"
     ]
    },
    {
     "name": "stdout",
     "output_type": "stream",
     "text": [
      "time samtools markdup -@ 20 -r /home/adrian/projects/reynisfjara/results/bam/a4774_72h_1/positionsort.bam /home/adrian/projects/reynisfjara/results/bam/a4774_72h_1/markdup.bam\n"
     ]
    },
    {
     "name": "stderr",
     "output_type": "stream",
     "text": [
      "310.76user 6.21system 0:47.67elapsed 664%CPU (0avgtext+0avgdata 293508maxresident)k\n",
      "1088inputs+5225024outputs (8major+74305minor)pagefaults 0swaps\n",
      "samtools: /home/adrian/anaconda3/bin/../lib/libtinfow.so.6: no version information available (required by samtools)\n",
      "samtools: /home/adrian/anaconda3/bin/../lib/libncursesw.so.6: no version information available (required by samtools)\n",
      "samtools: /home/adrian/anaconda3/bin/../lib/libncursesw.so.6: no version information available (required by samtools)\n"
     ]
    },
    {
     "name": "stdout",
     "output_type": "stream",
     "text": [
      "time samtools sort -@ 20 -n -o /home/adrian/projects/reynisfjara/results/bam/a4774_72h_2/namesort.bam /home/adrian/projects/reynisfjara/results/bam/a4774_72h_2/a4774_72h_2.bam\n"
     ]
    },
    {
     "name": "stderr",
     "output_type": "stream",
     "text": [
      "[bam_sort_core] merging from 1 files and 20 in-memory blocks...\n",
      "1016.11user 21.94system 1:13.77elapsed 1407%CPU (0avgtext+0avgdata 17568164maxresident)k\n",
      "13362040inputs+21039880outputs (0major+4590804minor)pagefaults 0swaps\n",
      "samtools: /home/adrian/anaconda3/bin/../lib/libtinfow.so.6: no version information available (required by samtools)\n",
      "samtools: /home/adrian/anaconda3/bin/../lib/libncursesw.so.6: no version information available (required by samtools)\n",
      "samtools: /home/adrian/anaconda3/bin/../lib/libncursesw.so.6: no version information available (required by samtools)\n"
     ]
    },
    {
     "name": "stdout",
     "output_type": "stream",
     "text": [
      "time samtools fixmate -@ 20 -m /home/adrian/projects/reynisfjara/results/bam/a4774_72h_2/namesort.bam /home/adrian/projects/reynisfjara/results/bam/a4774_72h_2/fixmate.bam\n"
     ]
    },
    {
     "name": "stderr",
     "output_type": "stream",
     "text": [
      "578.72user 12.31system 0:45.78elapsed 1290%CPU (0avgtext+0avgdata 52864maxresident)k\n",
      "440inputs+13871200outputs (0major+14021minor)pagefaults 0swaps\n",
      "samtools: /home/adrian/anaconda3/bin/../lib/libtinfow.so.6: no version information available (required by samtools)\n",
      "samtools: /home/adrian/anaconda3/bin/../lib/libncursesw.so.6: no version information available (required by samtools)\n",
      "samtools: /home/adrian/anaconda3/bin/../lib/libncursesw.so.6: no version information available (required by samtools)\n"
     ]
    },
    {
     "name": "stdout",
     "output_type": "stream",
     "text": [
      "time samtools sort -@ 20 -o /home/adrian/projects/reynisfjara/results/bam/a4774_72h_2/positionsort.bam /home/adrian/projects/reynisfjara/results/bam/a4774_72h_2/fixmate.bam\n"
     ]
    },
    {
     "name": "stderr",
     "output_type": "stream",
     "text": [
      "[bam_sort_core] merging from 1 files and 20 in-memory blocks...\n",
      "654.85user 18.78system 0:55.71elapsed 1209%CPU (0avgtext+0avgdata 17513948maxresident)k\n",
      "344inputs+11119216outputs (0major+4583726minor)pagefaults 0swaps\n",
      "samtools: /home/adrian/anaconda3/bin/../lib/libtinfow.so.6: no version information available (required by samtools)\n",
      "samtools: /home/adrian/anaconda3/bin/../lib/libncursesw.so.6: no version information available (required by samtools)\n",
      "samtools: /home/adrian/anaconda3/bin/../lib/libncursesw.so.6: no version information available (required by samtools)\n"
     ]
    },
    {
     "name": "stdout",
     "output_type": "stream",
     "text": [
      "time samtools markdup -@ 20 -r /home/adrian/projects/reynisfjara/results/bam/a4774_72h_2/positionsort.bam /home/adrian/projects/reynisfjara/results/bam/a4774_72h_2/markdup.bam\n"
     ]
    },
    {
     "name": "stderr",
     "output_type": "stream",
     "text": [
      "329.27user 6.61system 0:51.38elapsed 653%CPU (0avgtext+0avgdata 316468maxresident)k\n",
      "184inputs+5613840outputs (0major+79916minor)pagefaults 0swaps\n",
      "samtools: /home/adrian/anaconda3/bin/../lib/libtinfow.so.6: no version information available (required by samtools)\n",
      "samtools: /home/adrian/anaconda3/bin/../lib/libncursesw.so.6: no version information available (required by samtools)\n",
      "samtools: /home/adrian/anaconda3/bin/../lib/libncursesw.so.6: no version information available (required by samtools)\n"
     ]
    },
    {
     "name": "stdout",
     "output_type": "stream",
     "text": [
      "time samtools sort -@ 20 -n -o /home/adrian/projects/reynisfjara/results/bam/a4775_0h_1/namesort.bam /home/adrian/projects/reynisfjara/results/bam/a4775_0h_1/a4775_0h_1.bam\n"
     ]
    },
    {
     "name": "stderr",
     "output_type": "stream",
     "text": [
      "[bam_sort_core] merging from 1 files and 20 in-memory blocks...\n",
      "633.78user 16.76system 0:50.40elapsed 1290%CPU (0avgtext+0avgdata 17566972maxresident)k\n",
      "7793784inputs+15484056outputs (0major+4419056minor)pagefaults 0swaps\n",
      "samtools: /home/adrian/anaconda3/bin/../lib/libtinfow.so.6: no version information available (required by samtools)\n",
      "samtools: /home/adrian/anaconda3/bin/../lib/libncursesw.so.6: no version information available (required by samtools)\n",
      "samtools: /home/adrian/anaconda3/bin/../lib/libncursesw.so.6: no version information available (required by samtools)\n"
     ]
    },
    {
     "name": "stdout",
     "output_type": "stream",
     "text": [
      "time samtools fixmate -@ 20 -m /home/adrian/projects/reynisfjara/results/bam/a4775_0h_1/namesort.bam /home/adrian/projects/reynisfjara/results/bam/a4775_0h_1/fixmate.bam\n"
     ]
    },
    {
     "name": "stderr",
     "output_type": "stream",
     "text": [
      "332.45user 7.11system 0:30.07elapsed 1129%CPU (0avgtext+0avgdata 52180maxresident)k\n",
      "280inputs+8084224outputs (0major+13876minor)pagefaults 0swaps\n",
      "samtools: /home/adrian/anaconda3/bin/../lib/libtinfow.so.6: no version information available (required by samtools)\n",
      "samtools: /home/adrian/anaconda3/bin/../lib/libncursesw.so.6: no version information available (required by samtools)\n",
      "samtools: /home/adrian/anaconda3/bin/../lib/libncursesw.so.6: no version information available (required by samtools)\n"
     ]
    },
    {
     "name": "stdout",
     "output_type": "stream",
     "text": [
      "time samtools sort -@ 20 -o /home/adrian/projects/reynisfjara/results/bam/a4775_0h_1/positionsort.bam /home/adrian/projects/reynisfjara/results/bam/a4775_0h_1/fixmate.bam\n"
     ]
    },
    {
     "name": "stderr",
     "output_type": "stream",
     "text": [
      "[bam_sort_core] merging from 1 files and 20 in-memory blocks...\n",
      "402.55user 13.55system 0:40.47elapsed 1028%CPU (0avgtext+0avgdata 17506888maxresident)k\n",
      "280inputs+8126584outputs (0major+4411782minor)pagefaults 0swaps\n",
      "samtools: /home/adrian/anaconda3/bin/../lib/libtinfow.so.6: no version information available (required by samtools)\n",
      "samtools: /home/adrian/anaconda3/bin/../lib/libncursesw.so.6: no version information available (required by samtools)\n",
      "samtools: /home/adrian/anaconda3/bin/../lib/libncursesw.so.6: no version information available (required by samtools)\n"
     ]
    },
    {
     "name": "stdout",
     "output_type": "stream",
     "text": [
      "time samtools markdup -@ 20 -r /home/adrian/projects/reynisfjara/results/bam/a4775_0h_1/positionsort.bam /home/adrian/projects/reynisfjara/results/bam/a4775_0h_1/markdup.bam\n"
     ]
    },
    {
     "name": "stderr",
     "output_type": "stream",
     "text": [
      "198.22user 3.88system 0:29.39elapsed 687%CPU (0avgtext+0avgdata 209712maxresident)k\n",
      "120inputs+3341192outputs (0major+53303minor)pagefaults 0swaps\n",
      "samtools: /home/adrian/anaconda3/bin/../lib/libtinfow.so.6: no version information available (required by samtools)\n",
      "samtools: /home/adrian/anaconda3/bin/../lib/libncursesw.so.6: no version information available (required by samtools)\n",
      "samtools: /home/adrian/anaconda3/bin/../lib/libncursesw.so.6: no version information available (required by samtools)\n"
     ]
    },
    {
     "name": "stdout",
     "output_type": "stream",
     "text": [
      "time samtools sort -@ 20 -n -o /home/adrian/projects/reynisfjara/results/bam/a4775_0h_2/namesort.bam /home/adrian/projects/reynisfjara/results/bam/a4775_0h_2/a4775_0h_2.bam\n"
     ]
    },
    {
     "name": "stderr",
     "output_type": "stream",
     "text": [
      "[bam_sort_core] merging from 1 files and 20 in-memory blocks...\n",
      "951.95user 20.38system 1:10.69elapsed 1375%CPU (0avgtext+0avgdata 17567764maxresident)k\n",
      "12549944inputs+20134672outputs (0major+4571412minor)pagefaults 0swaps\n",
      "samtools: /home/adrian/anaconda3/bin/../lib/libtinfow.so.6: no version information available (required by samtools)\n",
      "samtools: /home/adrian/anaconda3/bin/../lib/libncursesw.so.6: no version information available (required by samtools)\n",
      "samtools: /home/adrian/anaconda3/bin/../lib/libncursesw.so.6: no version information available (required by samtools)\n"
     ]
    },
    {
     "name": "stdout",
     "output_type": "stream",
     "text": [
      "time samtools fixmate -@ 20 -m /home/adrian/projects/reynisfjara/results/bam/a4775_0h_2/namesort.bam /home/adrian/projects/reynisfjara/results/bam/a4775_0h_2/fixmate.bam\n"
     ]
    },
    {
     "name": "stderr",
     "output_type": "stream",
     "text": [
      "533.34user 11.82system 0:42.56elapsed 1280%CPU (0avgtext+0avgdata 53164maxresident)k\n",
      "424inputs+13003088outputs (1major+14155minor)pagefaults 0swaps\n",
      "samtools: /home/adrian/anaconda3/bin/../lib/libtinfow.so.6: no version information available (required by samtools)\n",
      "samtools: /home/adrian/anaconda3/bin/../lib/libncursesw.so.6: no version information available (required by samtools)\n",
      "samtools: /home/adrian/anaconda3/bin/../lib/libncursesw.so.6: no version information available (required by samtools)\n"
     ]
    },
    {
     "name": "stdout",
     "output_type": "stream",
     "text": [
      "time samtools sort -@ 20 -o /home/adrian/projects/reynisfjara/results/bam/a4775_0h_2/positionsort.bam /home/adrian/projects/reynisfjara/results/bam/a4775_0h_2/fixmate.bam\n"
     ]
    },
    {
     "name": "stderr",
     "output_type": "stream",
     "text": [
      "[bam_sort_core] merging from 1 files and 20 in-memory blocks...\n",
      "600.70user 17.15system 0:54.67elapsed 1130%CPU (0avgtext+0avgdata 17507564maxresident)k\n",
      "264inputs+10296864outputs (0major+4564056minor)pagefaults 0swaps\n",
      "samtools: /home/adrian/anaconda3/bin/../lib/libtinfow.so.6: no version information available (required by samtools)\n",
      "samtools: /home/adrian/anaconda3/bin/../lib/libncursesw.so.6: no version information available (required by samtools)\n",
      "samtools: /home/adrian/anaconda3/bin/../lib/libncursesw.so.6: no version information available (required by samtools)\n"
     ]
    },
    {
     "name": "stdout",
     "output_type": "stream",
     "text": [
      "time samtools markdup -@ 20 -r /home/adrian/projects/reynisfjara/results/bam/a4775_0h_2/positionsort.bam /home/adrian/projects/reynisfjara/results/bam/a4775_0h_2/markdup.bam\n"
     ]
    },
    {
     "name": "stderr",
     "output_type": "stream",
     "text": [
      "290.71user 6.28system 0:48.52elapsed 612%CPU (0avgtext+0avgdata 275720maxresident)k\n",
      "136inputs+5004680outputs (0major+69905minor)pagefaults 0swaps\n",
      "samtools: /home/adrian/anaconda3/bin/../lib/libtinfow.so.6: no version information available (required by samtools)\n",
      "samtools: /home/adrian/anaconda3/bin/../lib/libncursesw.so.6: no version information available (required by samtools)\n",
      "samtools: /home/adrian/anaconda3/bin/../lib/libncursesw.so.6: no version information available (required by samtools)\n"
     ]
    },
    {
     "name": "stdout",
     "output_type": "stream",
     "text": [
      "time samtools sort -@ 20 -n -o /home/adrian/projects/reynisfjara/results/bam/a4775_0h_3/namesort.bam /home/adrian/projects/reynisfjara/results/bam/a4775_0h_3/a4775_0h_3.bam\n"
     ]
    },
    {
     "name": "stderr",
     "output_type": "stream",
     "text": [
      "[bam_sort_core] merging from 1 files and 20 in-memory blocks...\n",
      "844.68user 19.64system 1:04.41elapsed 1341%CPU (0avgtext+0avgdata 17567040maxresident)k\n",
      "10880400inputs+18544152outputs (0major+4516739minor)pagefaults 0swaps\n",
      "samtools: /home/adrian/anaconda3/bin/../lib/libtinfow.so.6: no version information available (required by samtools)\n",
      "samtools: /home/adrian/anaconda3/bin/../lib/libncursesw.so.6: no version information available (required by samtools)\n",
      "samtools: /home/adrian/anaconda3/bin/../lib/libncursesw.so.6: no version information available (required by samtools)\n"
     ]
    },
    {
     "name": "stdout",
     "output_type": "stream",
     "text": [
      "time samtools fixmate -@ 20 -m /home/adrian/projects/reynisfjara/results/bam/a4775_0h_3/namesort.bam /home/adrian/projects/reynisfjara/results/bam/a4775_0h_3/fixmate.bam\n"
     ]
    },
    {
     "name": "stderr",
     "output_type": "stream",
     "text": [
      "464.88user 9.97system 0:39.48elapsed 1202%CPU (0avgtext+0avgdata 52424maxresident)k\n",
      "368inputs+11293632outputs (0major+14000minor)pagefaults 0swaps\n",
      "samtools: /home/adrian/anaconda3/bin/../lib/libtinfow.so.6: no version information available (required by samtools)\n",
      "samtools: /home/adrian/anaconda3/bin/../lib/libncursesw.so.6: no version information available (required by samtools)\n",
      "samtools: /home/adrian/anaconda3/bin/../lib/libncursesw.so.6: no version information available (required by samtools)\n"
     ]
    },
    {
     "name": "stdout",
     "output_type": "stream",
     "text": [
      "time samtools sort -@ 20 -o /home/adrian/projects/reynisfjara/results/bam/a4775_0h_3/positionsort.bam /home/adrian/projects/reynisfjara/results/bam/a4775_0h_3/fixmate.bam\n"
     ]
    },
    {
     "name": "stderr",
     "output_type": "stream",
     "text": [
      "[bam_sort_core] merging from 1 files and 20 in-memory blocks...\n",
      "526.00user 15.58system 0:53.08elapsed 1020%CPU (0avgtext+0avgdata 17507252maxresident)k\n",
      "328inputs+9561512outputs (0major+4509373minor)pagefaults 0swaps\n",
      "samtools: /home/adrian/anaconda3/bin/../lib/libtinfow.so.6: no version information available (required by samtools)\n",
      "samtools: /home/adrian/anaconda3/bin/../lib/libncursesw.so.6: no version information available (required by samtools)\n",
      "samtools: /home/adrian/anaconda3/bin/../lib/libncursesw.so.6: no version information available (required by samtools)\n"
     ]
    },
    {
     "name": "stdout",
     "output_type": "stream",
     "text": [
      "time samtools markdup -@ 20 -r /home/adrian/projects/reynisfjara/results/bam/a4775_0h_3/positionsort.bam /home/adrian/projects/reynisfjara/results/bam/a4775_0h_3/markdup.bam\n"
     ]
    },
    {
     "name": "stderr",
     "output_type": "stream",
     "text": [
      "261.76user 5.34system 0:42.12elapsed 634%CPU (0avgtext+0avgdata 261704maxresident)k\n",
      "144inputs+4415344outputs (0major+66288minor)pagefaults 0swaps\n",
      "samtools: /home/adrian/anaconda3/bin/../lib/libtinfow.so.6: no version information available (required by samtools)\n",
      "samtools: /home/adrian/anaconda3/bin/../lib/libncursesw.so.6: no version information available (required by samtools)\n",
      "samtools: /home/adrian/anaconda3/bin/../lib/libncursesw.so.6: no version information available (required by samtools)\n"
     ]
    },
    {
     "name": "stdout",
     "output_type": "stream",
     "text": [
      "time samtools sort -@ 20 -n -o /home/adrian/projects/reynisfjara/results/bam/a4775_48h_1/namesort.bam /home/adrian/projects/reynisfjara/results/bam/a4775_48h_1/a4775_48h_1.bam\n"
     ]
    },
    {
     "name": "stderr",
     "output_type": "stream",
     "text": [
      "[bam_sort_core] merging from 1 files and 20 in-memory blocks...\n",
      "749.78user 18.27system 0:59.85elapsed 1283%CPU (0avgtext+0avgdata 17566512maxresident)k\n",
      "9500776inputs+17189928outputs (0major+4471688minor)pagefaults 0swaps\n",
      "samtools: /home/adrian/anaconda3/bin/../lib/libtinfow.so.6: no version information available (required by samtools)\n",
      "samtools: /home/adrian/anaconda3/bin/../lib/libncursesw.so.6: no version information available (required by samtools)\n",
      "samtools: /home/adrian/anaconda3/bin/../lib/libncursesw.so.6: no version information available (required by samtools)\n"
     ]
    },
    {
     "name": "stdout",
     "output_type": "stream",
     "text": [
      "time samtools fixmate -@ 20 -m /home/adrian/projects/reynisfjara/results/bam/a4775_48h_1/namesort.bam /home/adrian/projects/reynisfjara/results/bam/a4775_48h_1/fixmate.bam\n"
     ]
    },
    {
     "name": "stderr",
     "output_type": "stream",
     "text": [
      "409.06user 8.47system 0:33.19elapsed 1257%CPU (0avgtext+0avgdata 51888maxresident)k\n",
      "336inputs+9854432outputs (0major+13873minor)pagefaults 0swaps\n",
      "samtools: /home/adrian/anaconda3/bin/../lib/libtinfow.so.6: no version information available (required by samtools)\n",
      "samtools: /home/adrian/anaconda3/bin/../lib/libncursesw.so.6: no version information available (required by samtools)\n",
      "samtools: /home/adrian/anaconda3/bin/../lib/libncursesw.so.6: no version information available (required by samtools)\n"
     ]
    },
    {
     "name": "stdout",
     "output_type": "stream",
     "text": [
      "time samtools sort -@ 20 -o /home/adrian/projects/reynisfjara/results/bam/a4775_48h_1/positionsort.bam /home/adrian/projects/reynisfjara/results/bam/a4775_48h_1/fixmate.bam\n"
     ]
    },
    {
     "name": "stderr",
     "output_type": "stream",
     "text": [
      "[bam_sort_core] merging from 1 files and 20 in-memory blocks...\n",
      "482.73user 14.42system 0:43.89elapsed 1132%CPU (0avgtext+0avgdata 17506788maxresident)k\n",
      "312inputs+9064200outputs (0major+4464649minor)pagefaults 0swaps\n",
      "samtools: /home/adrian/anaconda3/bin/../lib/libtinfow.so.6: no version information available (required by samtools)\n",
      "samtools: /home/adrian/anaconda3/bin/../lib/libncursesw.so.6: no version information available (required by samtools)\n",
      "samtools: /home/adrian/anaconda3/bin/../lib/libncursesw.so.6: no version information available (required by samtools)\n"
     ]
    },
    {
     "name": "stdout",
     "output_type": "stream",
     "text": [
      "time samtools markdup -@ 20 -r /home/adrian/projects/reynisfjara/results/bam/a4775_48h_1/positionsort.bam /home/adrian/projects/reynisfjara/results/bam/a4775_48h_1/markdup.bam\n"
     ]
    },
    {
     "name": "stderr",
     "output_type": "stream",
     "text": [
      "239.27user 4.80system 0:36.99elapsed 659%CPU (0avgtext+0avgdata 196932maxresident)k\n",
      "136inputs+4064992outputs (0major+50126minor)pagefaults 0swaps\n",
      "samtools: /home/adrian/anaconda3/bin/../lib/libtinfow.so.6: no version information available (required by samtools)\n",
      "samtools: /home/adrian/anaconda3/bin/../lib/libncursesw.so.6: no version information available (required by samtools)\n",
      "samtools: /home/adrian/anaconda3/bin/../lib/libncursesw.so.6: no version information available (required by samtools)\n"
     ]
    },
    {
     "name": "stdout",
     "output_type": "stream",
     "text": [
      "time samtools sort -@ 20 -n -o /home/adrian/projects/reynisfjara/results/bam/a4775_48h_2/namesort.bam /home/adrian/projects/reynisfjara/results/bam/a4775_48h_2/a4775_48h_2.bam\n"
     ]
    },
    {
     "name": "stderr",
     "output_type": "stream",
     "text": [
      "[bam_sort_core] merging from 1 files and 20 in-memory blocks...\n",
      "909.29user 20.54system 1:07.52elapsed 1377%CPU (0avgtext+0avgdata 17567144maxresident)k\n",
      "11878704inputs+19576256outputs (0major+4545465minor)pagefaults 0swaps\n",
      "samtools: /home/adrian/anaconda3/bin/../lib/libtinfow.so.6: no version information available (required by samtools)\n",
      "samtools: /home/adrian/anaconda3/bin/../lib/libncursesw.so.6: no version information available (required by samtools)\n",
      "samtools: /home/adrian/anaconda3/bin/../lib/libncursesw.so.6: no version information available (required by samtools)\n"
     ]
    },
    {
     "name": "stdout",
     "output_type": "stream",
     "text": [
      "time samtools fixmate -@ 20 -m /home/adrian/projects/reynisfjara/results/bam/a4775_48h_2/namesort.bam /home/adrian/projects/reynisfjara/results/bam/a4775_48h_2/fixmate.bam\n"
     ]
    },
    {
     "name": "stderr",
     "output_type": "stream",
     "text": [
      "509.68user 10.79system 0:40.96elapsed 1270%CPU (0avgtext+0avgdata 52964maxresident)k\n",
      "552inputs+12319520outputs (0major+14160minor)pagefaults 0swaps\n",
      "samtools: /home/adrian/anaconda3/bin/../lib/libtinfow.so.6: no version information available (required by samtools)\n",
      "samtools: /home/adrian/anaconda3/bin/../lib/libncursesw.so.6: no version information available (required by samtools)\n",
      "samtools: /home/adrian/anaconda3/bin/../lib/libncursesw.so.6: no version information available (required by samtools)\n"
     ]
    },
    {
     "name": "stdout",
     "output_type": "stream",
     "text": [
      "time samtools sort -@ 20 -o /home/adrian/projects/reynisfjara/results/bam/a4775_48h_2/positionsort.bam /home/adrian/projects/reynisfjara/results/bam/a4775_48h_2/fixmate.bam\n"
     ]
    },
    {
     "name": "stderr",
     "output_type": "stream",
     "text": [
      "[bam_sort_core] merging from 1 files and 20 in-memory blocks...\n",
      "586.32user 17.56system 0:53.05elapsed 1138%CPU (0avgtext+0avgdata 17506240maxresident)k\n",
      "376inputs+10192320outputs (0major+4538271minor)pagefaults 0swaps\n",
      "samtools: /home/adrian/anaconda3/bin/../lib/libtinfow.so.6: no version information available (required by samtools)\n",
      "samtools: /home/adrian/anaconda3/bin/../lib/libncursesw.so.6: no version information available (required by samtools)\n",
      "samtools: /home/adrian/anaconda3/bin/../lib/libncursesw.so.6: no version information available (required by samtools)\n"
     ]
    },
    {
     "name": "stdout",
     "output_type": "stream",
     "text": [
      "time samtools markdup -@ 20 -r /home/adrian/projects/reynisfjara/results/bam/a4775_48h_2/positionsort.bam /home/adrian/projects/reynisfjara/results/bam/a4775_48h_2/markdup.bam\n"
     ]
    },
    {
     "name": "stderr",
     "output_type": "stream",
     "text": [
      "293.60user 6.04system 0:47.34elapsed 632%CPU (0avgtext+0avgdata 239236maxresident)k\n",
      "168inputs+4935096outputs (0major+60678minor)pagefaults 0swaps\n",
      "samtools: /home/adrian/anaconda3/bin/../lib/libtinfow.so.6: no version information available (required by samtools)\n",
      "samtools: /home/adrian/anaconda3/bin/../lib/libncursesw.so.6: no version information available (required by samtools)\n",
      "samtools: /home/adrian/anaconda3/bin/../lib/libncursesw.so.6: no version information available (required by samtools)\n"
     ]
    },
    {
     "name": "stdout",
     "output_type": "stream",
     "text": [
      "time samtools sort -@ 20 -n -o /home/adrian/projects/reynisfjara/results/bam/a4775_48h_3/namesort.bam /home/adrian/projects/reynisfjara/results/bam/a4775_48h_3/a4775_48h_3.bam\n"
     ]
    },
    {
     "name": "stderr",
     "output_type": "stream",
     "text": [
      "[bam_sort_core] merging from 1 files and 20 in-memory blocks...\n",
      "880.71user 20.37system 1:06.38elapsed 1357%CPU (0avgtext+0avgdata 17567424maxresident)k\n",
      "11474432inputs+19105840outputs (0major+4535779minor)pagefaults 0swaps\n",
      "samtools: /home/adrian/anaconda3/bin/../lib/libtinfow.so.6: no version information available (required by samtools)\n",
      "samtools: /home/adrian/anaconda3/bin/../lib/libncursesw.so.6: no version information available (required by samtools)\n",
      "samtools: /home/adrian/anaconda3/bin/../lib/libncursesw.so.6: no version information available (required by samtools)\n"
     ]
    },
    {
     "name": "stdout",
     "output_type": "stream",
     "text": [
      "time samtools fixmate -@ 20 -m /home/adrian/projects/reynisfjara/results/bam/a4775_48h_3/namesort.bam /home/adrian/projects/reynisfjara/results/bam/a4775_48h_3/fixmate.bam\n"
     ]
    },
    {
     "name": "stderr",
     "output_type": "stream",
     "text": [
      "497.77user 10.93system 0:41.06elapsed 1238%CPU (0avgtext+0avgdata 52652maxresident)k\n",
      "392inputs+11895144outputs (1major+14157minor)pagefaults 0swaps\n",
      "samtools: /home/adrian/anaconda3/bin/../lib/libtinfow.so.6: no version information available (required by samtools)\n",
      "samtools: /home/adrian/anaconda3/bin/../lib/libncursesw.so.6: no version information available (required by samtools)\n",
      "samtools: /home/adrian/anaconda3/bin/../lib/libncursesw.so.6: no version information available (required by samtools)\n"
     ]
    },
    {
     "name": "stdout",
     "output_type": "stream",
     "text": [
      "time samtools sort -@ 20 -o /home/adrian/projects/reynisfjara/results/bam/a4775_48h_3/positionsort.bam /home/adrian/projects/reynisfjara/results/bam/a4775_48h_3/fixmate.bam\n"
     ]
    },
    {
     "name": "stderr",
     "output_type": "stream",
     "text": [
      "[bam_sort_core] merging from 1 files and 20 in-memory blocks...\n",
      "559.73user 17.02system 0:49.23elapsed 1171%CPU (0avgtext+0avgdata 17507180maxresident)k\n",
      "328inputs+9897168outputs (0major+4528130minor)pagefaults 0swaps\n",
      "samtools: /home/adrian/anaconda3/bin/../lib/libtinfow.so.6: no version information available (required by samtools)\n",
      "samtools: /home/adrian/anaconda3/bin/../lib/libncursesw.so.6: no version information available (required by samtools)\n",
      "samtools: /home/adrian/anaconda3/bin/../lib/libncursesw.so.6: no version information available (required by samtools)\n"
     ]
    },
    {
     "name": "stdout",
     "output_type": "stream",
     "text": [
      "time samtools markdup -@ 20 -r /home/adrian/projects/reynisfjara/results/bam/a4775_48h_3/positionsort.bam /home/adrian/projects/reynisfjara/results/bam/a4775_48h_3/markdup.bam\n"
     ]
    },
    {
     "name": "stderr",
     "output_type": "stream",
     "text": [
      "268.07user 5.40system 0:43.00elapsed 635%CPU (0avgtext+0avgdata 245280maxresident)k\n",
      "160inputs+4661464outputs (0major+62304minor)pagefaults 0swaps\n",
      "samtools: /home/adrian/anaconda3/bin/../lib/libtinfow.so.6: no version information available (required by samtools)\n",
      "samtools: /home/adrian/anaconda3/bin/../lib/libncursesw.so.6: no version information available (required by samtools)\n",
      "samtools: /home/adrian/anaconda3/bin/../lib/libncursesw.so.6: no version information available (required by samtools)\n"
     ]
    },
    {
     "name": "stdout",
     "output_type": "stream",
     "text": [
      "time samtools sort -@ 20 -n -o /home/adrian/projects/reynisfjara/results/bam/a4775_72h_1/namesort.bam /home/adrian/projects/reynisfjara/results/bam/a4775_72h_1/a4775_72h_1.bam\n"
     ]
    },
    {
     "name": "stderr",
     "output_type": "stream",
     "text": [
      "[bam_sort_core] merging from 1 files and 20 in-memory blocks...\n",
      "1015.01user 22.37system 1:16.68elapsed 1352%CPU (0avgtext+0avgdata 17566912maxresident)k\n",
      "13444984inputs+21106088outputs (0major+4593942minor)pagefaults 0swaps\n",
      "samtools: /home/adrian/anaconda3/bin/../lib/libtinfow.so.6: no version information available (required by samtools)\n",
      "samtools: /home/adrian/anaconda3/bin/../lib/libncursesw.so.6: no version information available (required by samtools)\n",
      "samtools: /home/adrian/anaconda3/bin/../lib/libncursesw.so.6: no version information available (required by samtools)\n"
     ]
    },
    {
     "name": "stdout",
     "output_type": "stream",
     "text": [
      "time samtools fixmate -@ 20 -m /home/adrian/projects/reynisfjara/results/bam/a4775_72h_1/namesort.bam /home/adrian/projects/reynisfjara/results/bam/a4775_72h_1/fixmate.bam\n"
     ]
    },
    {
     "name": "stderr",
     "output_type": "stream",
     "text": [
      "577.10user 12.57system 0:46.92elapsed 1256%CPU (0avgtext+0avgdata 53220maxresident)k\n",
      "520inputs+13954720outputs (0major+14175minor)pagefaults 0swaps\n",
      "samtools: /home/adrian/anaconda3/bin/../lib/libtinfow.so.6: no version information available (required by samtools)\n",
      "samtools: /home/adrian/anaconda3/bin/../lib/libncursesw.so.6: no version information available (required by samtools)\n",
      "samtools: /home/adrian/anaconda3/bin/../lib/libncursesw.so.6: no version information available (required by samtools)\n"
     ]
    },
    {
     "name": "stdout",
     "output_type": "stream",
     "text": [
      "time samtools sort -@ 20 -o /home/adrian/projects/reynisfjara/results/bam/a4775_72h_1/positionsort.bam /home/adrian/projects/reynisfjara/results/bam/a4775_72h_1/fixmate.bam\n"
     ]
    },
    {
     "name": "stderr",
     "output_type": "stream",
     "text": [
      "[bam_sort_core] merging from 1 files and 20 in-memory blocks...\n",
      "652.79user 18.60system 0:56.06elapsed 1197%CPU (0avgtext+0avgdata 17507844maxresident)k\n",
      "408inputs+10982272outputs (0major+4586238minor)pagefaults 0swaps\n",
      "samtools: /home/adrian/anaconda3/bin/../lib/libtinfow.so.6: no version information available (required by samtools)\n",
      "samtools: /home/adrian/anaconda3/bin/../lib/libncursesw.so.6: no version information available (required by samtools)\n",
      "samtools: /home/adrian/anaconda3/bin/../lib/libncursesw.so.6: no version information available (required by samtools)\n"
     ]
    },
    {
     "name": "stdout",
     "output_type": "stream",
     "text": [
      "time samtools markdup -@ 20 -r /home/adrian/projects/reynisfjara/results/bam/a4775_72h_1/positionsort.bam /home/adrian/projects/reynisfjara/results/bam/a4775_72h_1/markdup.bam\n"
     ]
    },
    {
     "name": "stderr",
     "output_type": "stream",
     "text": [
      "318.14user 6.39system 0:51.04elapsed 635%CPU (0avgtext+0avgdata 279540maxresident)k\n",
      "1872inputs+5428600outputs (1major+70875minor)pagefaults 0swaps\n",
      "samtools: /home/adrian/anaconda3/bin/../lib/libtinfow.so.6: no version information available (required by samtools)\n",
      "samtools: /home/adrian/anaconda3/bin/../lib/libncursesw.so.6: no version information available (required by samtools)\n",
      "samtools: /home/adrian/anaconda3/bin/../lib/libncursesw.so.6: no version information available (required by samtools)\n"
     ]
    },
    {
     "name": "stdout",
     "output_type": "stream",
     "text": [
      "time samtools sort -@ 20 -n -o /home/adrian/projects/reynisfjara/results/bam/a4775_72h_2/namesort.bam /home/adrian/projects/reynisfjara/results/bam/a4775_72h_2/a4775_72h_2.bam\n"
     ]
    },
    {
     "name": "stderr",
     "output_type": "stream",
     "text": [
      "[bam_sort_core] merging from 1 files and 20 in-memory blocks...\n",
      "961.12user 21.12system 1:08.49elapsed 1434%CPU (0avgtext+0avgdata 17567488maxresident)k\n",
      "12631624inputs+20327320outputs (0major+4567797minor)pagefaults 0swaps\n",
      "samtools: /home/adrian/anaconda3/bin/../lib/libtinfow.so.6: no version information available (required by samtools)\n",
      "samtools: /home/adrian/anaconda3/bin/../lib/libncursesw.so.6: no version information available (required by samtools)\n",
      "samtools: /home/adrian/anaconda3/bin/../lib/libncursesw.so.6: no version information available (required by samtools)\n"
     ]
    },
    {
     "name": "stdout",
     "output_type": "stream",
     "text": [
      "time samtools fixmate -@ 20 -m /home/adrian/projects/reynisfjara/results/bam/a4775_72h_2/namesort.bam /home/adrian/projects/reynisfjara/results/bam/a4775_72h_2/fixmate.bam\n"
     ]
    },
    {
     "name": "stderr",
     "output_type": "stream",
     "text": [
      "539.21user 11.14system 0:43.51elapsed 1264%CPU (0avgtext+0avgdata 52560maxresident)k\n",
      "544inputs+13111728outputs (0major+14175minor)pagefaults 0swaps\n",
      "samtools: /home/adrian/anaconda3/bin/../lib/libtinfow.so.6: no version information available (required by samtools)\n",
      "samtools: /home/adrian/anaconda3/bin/../lib/libncursesw.so.6: no version information available (required by samtools)\n",
      "samtools: /home/adrian/anaconda3/bin/../lib/libncursesw.so.6: no version information available (required by samtools)\n"
     ]
    },
    {
     "name": "stdout",
     "output_type": "stream",
     "text": [
      "time samtools sort -@ 20 -o /home/adrian/projects/reynisfjara/results/bam/a4775_72h_2/positionsort.bam /home/adrian/projects/reynisfjara/results/bam/a4775_72h_2/fixmate.bam\n"
     ]
    },
    {
     "name": "stderr",
     "output_type": "stream",
     "text": [
      "[bam_sort_core] merging from 1 files and 20 in-memory blocks...\n",
      "623.62user 17.40system 0:55.27elapsed 1159%CPU (0avgtext+0avgdata 17508216maxresident)k\n",
      "384inputs+10697112outputs (0major+4560382minor)pagefaults 0swaps\n",
      "samtools: /home/adrian/anaconda3/bin/../lib/libtinfow.so.6: no version information available (required by samtools)\n",
      "samtools: /home/adrian/anaconda3/bin/../lib/libncursesw.so.6: no version information available (required by samtools)\n",
      "samtools: /home/adrian/anaconda3/bin/../lib/libncursesw.so.6: no version information available (required by samtools)\n"
     ]
    },
    {
     "name": "stdout",
     "output_type": "stream",
     "text": [
      "time samtools markdup -@ 20 -r /home/adrian/projects/reynisfjara/results/bam/a4775_72h_2/positionsort.bam /home/adrian/projects/reynisfjara/results/bam/a4775_72h_2/markdup.bam\n"
     ]
    },
    {
     "name": "stderr",
     "output_type": "stream",
     "text": [
      "305.42user 6.33system 0:47.67elapsed 653%CPU (0avgtext+0avgdata 250888maxresident)k\n",
      "152inputs+5288032outputs (0major+63662minor)pagefaults 0swaps\n",
      "samtools: /home/adrian/anaconda3/bin/../lib/libtinfow.so.6: no version information available (required by samtools)\n",
      "samtools: /home/adrian/anaconda3/bin/../lib/libncursesw.so.6: no version information available (required by samtools)\n",
      "samtools: /home/adrian/anaconda3/bin/../lib/libncursesw.so.6: no version information available (required by samtools)\n"
     ]
    },
    {
     "name": "stdout",
     "output_type": "stream",
     "text": [
      "time samtools sort -@ 20 -n -o /home/adrian/projects/reynisfjara/results/bam/a4775_72h_3/namesort.bam /home/adrian/projects/reynisfjara/results/bam/a4775_72h_3/a4775_72h_3.bam\n"
     ]
    },
    {
     "name": "stderr",
     "output_type": "stream",
     "text": [
      "[bam_sort_core] merging from 1 files and 20 in-memory blocks...\n",
      "743.72user 17.79system 0:55.29elapsed 1377%CPU (0avgtext+0avgdata 17566852maxresident)k\n",
      "9398688inputs+17141456outputs (0major+4467541minor)pagefaults 0swaps\n",
      "samtools: /home/adrian/anaconda3/bin/../lib/libtinfow.so.6: no version information available (required by samtools)\n",
      "samtools: /home/adrian/anaconda3/bin/../lib/libncursesw.so.6: no version information available (required by samtools)\n",
      "samtools: /home/adrian/anaconda3/bin/../lib/libncursesw.so.6: no version information available (required by samtools)\n"
     ]
    },
    {
     "name": "stdout",
     "output_type": "stream",
     "text": [
      "time samtools fixmate -@ 20 -m /home/adrian/projects/reynisfjara/results/bam/a4775_72h_3/namesort.bam /home/adrian/projects/reynisfjara/results/bam/a4775_72h_3/fixmate.bam\n"
     ]
    },
    {
     "name": "stderr",
     "output_type": "stream",
     "text": [
      "410.58user 8.47system 0:32.66elapsed 1282%CPU (0avgtext+0avgdata 51560maxresident)k\n",
      "384inputs+9761336outputs (0major+13889minor)pagefaults 0swaps\n",
      "samtools: /home/adrian/anaconda3/bin/../lib/libtinfow.so.6: no version information available (required by samtools)\n",
      "samtools: /home/adrian/anaconda3/bin/../lib/libncursesw.so.6: no version information available (required by samtools)\n",
      "samtools: /home/adrian/anaconda3/bin/../lib/libncursesw.so.6: no version information available (required by samtools)\n"
     ]
    },
    {
     "name": "stdout",
     "output_type": "stream",
     "text": [
      "time samtools sort -@ 20 -o /home/adrian/projects/reynisfjara/results/bam/a4775_72h_3/positionsort.bam /home/adrian/projects/reynisfjara/results/bam/a4775_72h_3/fixmate.bam\n"
     ]
    },
    {
     "name": "stderr",
     "output_type": "stream",
     "text": [
      "[bam_sort_core] merging from 1 files and 20 in-memory blocks...\n",
      "486.04user 14.82system 0:43.69elapsed 1146%CPU (0avgtext+0avgdata 17508512maxresident)k\n",
      "312inputs+9176336outputs (0major+4459823minor)pagefaults 0swaps\n",
      "samtools: /home/adrian/anaconda3/bin/../lib/libtinfow.so.6: no version information available (required by samtools)\n",
      "samtools: /home/adrian/anaconda3/bin/../lib/libncursesw.so.6: no version information available (required by samtools)\n",
      "samtools: /home/adrian/anaconda3/bin/../lib/libncursesw.so.6: no version information available (required by samtools)\n"
     ]
    },
    {
     "name": "stdout",
     "output_type": "stream",
     "text": [
      "time samtools markdup -@ 20 -r /home/adrian/projects/reynisfjara/results/bam/a4775_72h_3/positionsort.bam /home/adrian/projects/reynisfjara/results/bam/a4775_72h_3/markdup.bam\n"
     ]
    },
    {
     "name": "stderr",
     "output_type": "stream",
     "text": [
      "243.67user 4.65system 0:36.74elapsed 675%CPU (0avgtext+0avgdata 203576maxresident)k\n",
      "120inputs+4135208outputs (0major+51775minor)pagefaults 0swaps\n",
      "samtools: /home/adrian/anaconda3/bin/../lib/libtinfow.so.6: no version information available (required by samtools)\n",
      "samtools: /home/adrian/anaconda3/bin/../lib/libncursesw.so.6: no version information available (required by samtools)\n",
      "samtools: /home/adrian/anaconda3/bin/../lib/libncursesw.so.6: no version information available (required by samtools)\n"
     ]
    },
    {
     "name": "stdout",
     "output_type": "stream",
     "text": [
      "time samtools sort -@ 20 -n -o /home/adrian/projects/reynisfjara/results/bam/a4776_0h_1/namesort.bam /home/adrian/projects/reynisfjara/results/bam/a4776_0h_1/a4776_0h_1.bam\n"
     ]
    },
    {
     "name": "stderr",
     "output_type": "stream",
     "text": [
      "[bam_sort_core] merging from 1 files and 20 in-memory blocks...\n",
      "697.94user 17.70system 0:54.35elapsed 1316%CPU (0avgtext+0avgdata 17567156maxresident)k\n",
      "8755896inputs+16398592outputs (0major+4450993minor)pagefaults 0swaps\n",
      "samtools: /home/adrian/anaconda3/bin/../lib/libtinfow.so.6: no version information available (required by samtools)\n",
      "samtools: /home/adrian/anaconda3/bin/../lib/libncursesw.so.6: no version information available (required by samtools)\n",
      "samtools: /home/adrian/anaconda3/bin/../lib/libncursesw.so.6: no version information available (required by samtools)\n"
     ]
    },
    {
     "name": "stdout",
     "output_type": "stream",
     "text": [
      "time samtools fixmate -@ 20 -m /home/adrian/projects/reynisfjara/results/bam/a4776_0h_1/namesort.bam /home/adrian/projects/reynisfjara/results/bam/a4776_0h_1/fixmate.bam\n"
     ]
    },
    {
     "name": "stderr",
     "output_type": "stream",
     "text": [
      "372.80user 7.88system 0:28.76elapsed 1323%CPU (0avgtext+0avgdata 52648maxresident)k\n",
      "336inputs+9080208outputs (0major+14131minor)pagefaults 0swaps\n",
      "samtools: /home/adrian/anaconda3/bin/../lib/libtinfow.so.6: no version information available (required by samtools)\n",
      "samtools: /home/adrian/anaconda3/bin/../lib/libncursesw.so.6: no version information available (required by samtools)\n",
      "samtools: /home/adrian/anaconda3/bin/../lib/libncursesw.so.6: no version information available (required by samtools)\n"
     ]
    },
    {
     "name": "stdout",
     "output_type": "stream",
     "text": [
      "time samtools sort -@ 20 -o /home/adrian/projects/reynisfjara/results/bam/a4776_0h_1/positionsort.bam /home/adrian/projects/reynisfjara/results/bam/a4776_0h_1/fixmate.bam\n"
     ]
    },
    {
     "name": "stderr",
     "output_type": "stream",
     "text": [
      "[bam_sort_core] merging from 1 files and 20 in-memory blocks...\n",
      "450.13user 14.70system 0:41.94elapsed 1108%CPU (0avgtext+0avgdata 17507492maxresident)k\n",
      "320inputs+8622832outputs (0major+4443937minor)pagefaults 0swaps\n",
      "samtools: /home/adrian/anaconda3/bin/../lib/libtinfow.so.6: no version information available (required by samtools)\n",
      "samtools: /home/adrian/anaconda3/bin/../lib/libncursesw.so.6: no version information available (required by samtools)\n",
      "samtools: /home/adrian/anaconda3/bin/../lib/libncursesw.so.6: no version information available (required by samtools)\n"
     ]
    },
    {
     "name": "stdout",
     "output_type": "stream",
     "text": [
      "time samtools markdup -@ 20 -r /home/adrian/projects/reynisfjara/results/bam/a4776_0h_1/positionsort.bam /home/adrian/projects/reynisfjara/results/bam/a4776_0h_1/markdup.bam\n"
     ]
    },
    {
     "name": "stderr",
     "output_type": "stream",
     "text": [
      "219.50user 4.72system 0:33.50elapsed 669%CPU (0avgtext+0avgdata 246076maxresident)k\n",
      "144inputs+3767176outputs (0major+62448minor)pagefaults 0swaps\n",
      "samtools: /home/adrian/anaconda3/bin/../lib/libtinfow.so.6: no version information available (required by samtools)\n",
      "samtools: /home/adrian/anaconda3/bin/../lib/libncursesw.so.6: no version information available (required by samtools)\n",
      "samtools: /home/adrian/anaconda3/bin/../lib/libncursesw.so.6: no version information available (required by samtools)\n"
     ]
    },
    {
     "name": "stdout",
     "output_type": "stream",
     "text": [
      "time samtools sort -@ 20 -n -o /home/adrian/projects/reynisfjara/results/bam/a4776_0h_2/namesort.bam /home/adrian/projects/reynisfjara/results/bam/a4776_0h_2/a4776_0h_2.bam\n"
     ]
    },
    {
     "name": "stderr",
     "output_type": "stream",
     "text": [
      "[bam_sort_core] merging from 1 files and 20 in-memory blocks...\n",
      "782.24user 18.48system 0:57.29elapsed 1397%CPU (0avgtext+0avgdata 17567768maxresident)k\n",
      "10039472inputs+17646456outputs (0major+4492191minor)pagefaults 0swaps\n",
      "samtools: /home/adrian/anaconda3/bin/../lib/libtinfow.so.6: no version information available (required by samtools)\n",
      "samtools: /home/adrian/anaconda3/bin/../lib/libncursesw.so.6: no version information available (required by samtools)\n",
      "samtools: /home/adrian/anaconda3/bin/../lib/libncursesw.so.6: no version information available (required by samtools)\n"
     ]
    },
    {
     "name": "stdout",
     "output_type": "stream",
     "text": [
      "time samtools fixmate -@ 20 -m /home/adrian/projects/reynisfjara/results/bam/a4776_0h_2/namesort.bam /home/adrian/projects/reynisfjara/results/bam/a4776_0h_2/fixmate.bam\n"
     ]
    },
    {
     "name": "stderr",
     "output_type": "stream",
     "text": [
      "430.29user 9.09system 0:34.78elapsed 1263%CPU (0avgtext+0avgdata 52428maxresident)k\n",
      "368inputs+10405056outputs (1major+13880minor)pagefaults 0swaps\n",
      "samtools: /home/adrian/anaconda3/bin/../lib/libtinfow.so.6: no version information available (required by samtools)\n",
      "samtools: /home/adrian/anaconda3/bin/../lib/libncursesw.so.6: no version information available (required by samtools)\n",
      "samtools: /home/adrian/anaconda3/bin/../lib/libncursesw.so.6: no version information available (required by samtools)\n"
     ]
    },
    {
     "name": "stdout",
     "output_type": "stream",
     "text": [
      "time samtools sort -@ 20 -o /home/adrian/projects/reynisfjara/results/bam/a4776_0h_2/positionsort.bam /home/adrian/projects/reynisfjara/results/bam/a4776_0h_2/fixmate.bam\n"
     ]
    },
    {
     "name": "stderr",
     "output_type": "stream",
     "text": [
      "[bam_sort_core] merging from 1 files and 20 in-memory blocks...\n",
      "498.79user 15.24system 0:46.49elapsed 1105%CPU (0avgtext+0avgdata 17507696maxresident)k\n",
      "288inputs+9120064outputs (0major+4485395minor)pagefaults 0swaps\n",
      "samtools: /home/adrian/anaconda3/bin/../lib/libtinfow.so.6: no version information available (required by samtools)\n",
      "samtools: /home/adrian/anaconda3/bin/../lib/libncursesw.so.6: no version information available (required by samtools)\n",
      "samtools: /home/adrian/anaconda3/bin/../lib/libncursesw.so.6: no version information available (required by samtools)\n"
     ]
    },
    {
     "name": "stdout",
     "output_type": "stream",
     "text": [
      "time samtools markdup -@ 20 -r /home/adrian/projects/reynisfjara/results/bam/a4776_0h_2/positionsort.bam /home/adrian/projects/reynisfjara/results/bam/a4776_0h_2/markdup.bam\n"
     ]
    },
    {
     "name": "stderr",
     "output_type": "stream",
     "text": [
      "238.55user 5.08system 0:38.29elapsed 636%CPU (0avgtext+0avgdata 273524maxresident)k\n",
      "152inputs+4128912outputs (0major+69286minor)pagefaults 0swaps\n",
      "samtools: /home/adrian/anaconda3/bin/../lib/libtinfow.so.6: no version information available (required by samtools)\n",
      "samtools: /home/adrian/anaconda3/bin/../lib/libncursesw.so.6: no version information available (required by samtools)\n",
      "samtools: /home/adrian/anaconda3/bin/../lib/libncursesw.so.6: no version information available (required by samtools)\n"
     ]
    },
    {
     "name": "stdout",
     "output_type": "stream",
     "text": [
      "time samtools sort -@ 20 -n -o /home/adrian/projects/reynisfjara/results/bam/a4776_0h_3/namesort.bam /home/adrian/projects/reynisfjara/results/bam/a4776_0h_3/a4776_0h_3.bam\n"
     ]
    },
    {
     "name": "stderr",
     "output_type": "stream",
     "text": [
      "[bam_sort_core] merging from 1 files and 20 in-memory blocks...\n",
      "781.49user 18.49system 0:59.08elapsed 1354%CPU (0avgtext+0avgdata 17567312maxresident)k\n",
      "10045520inputs+17682856outputs (0major+4491048minor)pagefaults 0swaps\n",
      "samtools: /home/adrian/anaconda3/bin/../lib/libtinfow.so.6: no version information available (required by samtools)\n",
      "samtools: /home/adrian/anaconda3/bin/../lib/libncursesw.so.6: no version information available (required by samtools)\n",
      "samtools: /home/adrian/anaconda3/bin/../lib/libncursesw.so.6: no version information available (required by samtools)\n"
     ]
    },
    {
     "name": "stdout",
     "output_type": "stream",
     "text": [
      "time samtools fixmate -@ 20 -m /home/adrian/projects/reynisfjara/results/bam/a4776_0h_3/namesort.bam /home/adrian/projects/reynisfjara/results/bam/a4776_0h_3/fixmate.bam\n"
     ]
    },
    {
     "name": "stderr",
     "output_type": "stream",
     "text": [
      "431.84user 9.30system 0:35.23elapsed 1252%CPU (0avgtext+0avgdata 52660maxresident)k\n",
      "344inputs+10415672outputs (0major+14154minor)pagefaults 0swaps\n",
      "samtools: /home/adrian/anaconda3/bin/../lib/libtinfow.so.6: no version information available (required by samtools)\n",
      "samtools: /home/adrian/anaconda3/bin/../lib/libncursesw.so.6: no version information available (required by samtools)\n",
      "samtools: /home/adrian/anaconda3/bin/../lib/libncursesw.so.6: no version information available (required by samtools)\n"
     ]
    },
    {
     "name": "stdout",
     "output_type": "stream",
     "text": [
      "time samtools sort -@ 20 -o /home/adrian/projects/reynisfjara/results/bam/a4776_0h_3/positionsort.bam /home/adrian/projects/reynisfjara/results/bam/a4776_0h_3/fixmate.bam\n"
     ]
    },
    {
     "name": "stderr",
     "output_type": "stream",
     "text": [
      "[bam_sort_core] merging from 1 files and 20 in-memory blocks...\n",
      "500.70user 15.11system 0:46.51elapsed 1108%CPU (0avgtext+0avgdata 17507544maxresident)k\n",
      "352inputs+9183128outputs (0major+4483791minor)pagefaults 0swaps\n",
      "samtools: /home/adrian/anaconda3/bin/../lib/libtinfow.so.6: no version information available (required by samtools)\n",
      "samtools: /home/adrian/anaconda3/bin/../lib/libncursesw.so.6: no version information available (required by samtools)\n",
      "samtools: /home/adrian/anaconda3/bin/../lib/libncursesw.so.6: no version information available (required by samtools)\n"
     ]
    },
    {
     "name": "stdout",
     "output_type": "stream",
     "text": [
      "time samtools markdup -@ 20 -r /home/adrian/projects/reynisfjara/results/bam/a4776_0h_3/positionsort.bam /home/adrian/projects/reynisfjara/results/bam/a4776_0h_3/markdup.bam\n"
     ]
    },
    {
     "name": "stderr",
     "output_type": "stream",
     "text": [
      "240.30user 4.71system 0:39.94elapsed 613%CPU (0avgtext+0avgdata 273332maxresident)k\n",
      "128inputs+4138400outputs (0major+69219minor)pagefaults 0swaps\n",
      "samtools: /home/adrian/anaconda3/bin/../lib/libtinfow.so.6: no version information available (required by samtools)\n",
      "samtools: /home/adrian/anaconda3/bin/../lib/libncursesw.so.6: no version information available (required by samtools)\n",
      "samtools: /home/adrian/anaconda3/bin/../lib/libncursesw.so.6: no version information available (required by samtools)\n"
     ]
    },
    {
     "name": "stdout",
     "output_type": "stream",
     "text": [
      "time samtools sort -@ 20 -n -o /home/adrian/projects/reynisfjara/results/bam/a4776_48h_1/namesort.bam /home/adrian/projects/reynisfjara/results/bam/a4776_48h_1/a4776_48h_1.bam\n"
     ]
    },
    {
     "name": "stderr",
     "output_type": "stream",
     "text": [
      "[bam_sort_core] merging from 1 files and 20 in-memory blocks...\n",
      "942.19user 20.83system 1:09.09elapsed 1393%CPU (0avgtext+0avgdata 17569444maxresident)k\n",
      "12272288inputs+19985472outputs (0major+4557554minor)pagefaults 0swaps\n",
      "samtools: /home/adrian/anaconda3/bin/../lib/libtinfow.so.6: no version information available (required by samtools)\n",
      "samtools: /home/adrian/anaconda3/bin/../lib/libncursesw.so.6: no version information available (required by samtools)\n",
      "samtools: /home/adrian/anaconda3/bin/../lib/libncursesw.so.6: no version information available (required by samtools)\n"
     ]
    },
    {
     "name": "stdout",
     "output_type": "stream",
     "text": [
      "time samtools fixmate -@ 20 -m /home/adrian/projects/reynisfjara/results/bam/a4776_48h_1/namesort.bam /home/adrian/projects/reynisfjara/results/bam/a4776_48h_1/fixmate.bam\n"
     ]
    },
    {
     "name": "stderr",
     "output_type": "stream",
     "text": [
      "530.81user 11.34system 0:41.41elapsed 1309%CPU (0avgtext+0avgdata 52184maxresident)k\n",
      "472inputs+12741976outputs (0major+13891minor)pagefaults 0swaps\n",
      "samtools: /home/adrian/anaconda3/bin/../lib/libtinfow.so.6: no version information available (required by samtools)\n",
      "samtools: /home/adrian/anaconda3/bin/../lib/libncursesw.so.6: no version information available (required by samtools)\n",
      "samtools: /home/adrian/anaconda3/bin/../lib/libncursesw.so.6: no version information available (required by samtools)\n"
     ]
    },
    {
     "name": "stdout",
     "output_type": "stream",
     "text": [
      "time samtools sort -@ 20 -o /home/adrian/projects/reynisfjara/results/bam/a4776_48h_1/positionsort.bam /home/adrian/projects/reynisfjara/results/bam/a4776_48h_1/fixmate.bam\n"
     ]
    },
    {
     "name": "stderr",
     "output_type": "stream",
     "text": [
      "[bam_sort_core] merging from 1 files and 20 in-memory blocks...\n",
      "609.53user 17.24system 0:54.24elapsed 1155%CPU (0avgtext+0avgdata 17514524maxresident)k\n",
      "432inputs+10653120outputs (0major+4549879minor)pagefaults 0swaps\n",
      "samtools: /home/adrian/anaconda3/bin/../lib/libtinfow.so.6: no version information available (required by samtools)\n",
      "samtools: /home/adrian/anaconda3/bin/../lib/libncursesw.so.6: no version information available (required by samtools)\n",
      "samtools: /home/adrian/anaconda3/bin/../lib/libncursesw.so.6: no version information available (required by samtools)\n"
     ]
    },
    {
     "name": "stdout",
     "output_type": "stream",
     "text": [
      "time samtools markdup -@ 20 -r /home/adrian/projects/reynisfjara/results/bam/a4776_48h_1/positionsort.bam /home/adrian/projects/reynisfjara/results/bam/a4776_48h_1/markdup.bam\n"
     ]
    },
    {
     "name": "stderr",
     "output_type": "stream",
     "text": [
      "304.24user 6.54system 0:48.25elapsed 644%CPU (0avgtext+0avgdata 338316maxresident)k\n",
      "192inputs+5223832outputs (0major+85528minor)pagefaults 0swaps\n",
      "samtools: /home/adrian/anaconda3/bin/../lib/libtinfow.so.6: no version information available (required by samtools)\n",
      "samtools: /home/adrian/anaconda3/bin/../lib/libncursesw.so.6: no version information available (required by samtools)\n",
      "samtools: /home/adrian/anaconda3/bin/../lib/libncursesw.so.6: no version information available (required by samtools)\n"
     ]
    },
    {
     "name": "stdout",
     "output_type": "stream",
     "text": [
      "time samtools sort -@ 20 -n -o /home/adrian/projects/reynisfjara/results/bam/a4776_48h_2/namesort.bam /home/adrian/projects/reynisfjara/results/bam/a4776_48h_2/a4776_48h_2.bam\n"
     ]
    },
    {
     "name": "stderr",
     "output_type": "stream",
     "text": [
      "[bam_sort_core] merging from 1 files and 20 in-memory blocks...\n",
      "1049.98user 22.15system 1:17.64elapsed 1380%CPU (0avgtext+0avgdata 17567656maxresident)k\n",
      "13744016inputs+21519032outputs (0major+4598203minor)pagefaults 0swaps\n",
      "samtools: /home/adrian/anaconda3/bin/../lib/libtinfow.so.6: no version information available (required by samtools)\n",
      "samtools: /home/adrian/anaconda3/bin/../lib/libncursesw.so.6: no version information available (required by samtools)\n",
      "samtools: /home/adrian/anaconda3/bin/../lib/libncursesw.so.6: no version information available (required by samtools)\n"
     ]
    },
    {
     "name": "stdout",
     "output_type": "stream",
     "text": [
      "time samtools fixmate -@ 20 -m /home/adrian/projects/reynisfjara/results/bam/a4776_48h_2/namesort.bam /home/adrian/projects/reynisfjara/results/bam/a4776_48h_2/fixmate.bam\n"
     ]
    },
    {
     "name": "stderr",
     "output_type": "stream",
     "text": [
      "602.04user 11.93system 0:47.70elapsed 1287%CPU (0avgtext+0avgdata 52380maxresident)k\n",
      "168inputs+14278352outputs (0major+14174minor)pagefaults 0swaps\n",
      "samtools: /home/adrian/anaconda3/bin/../lib/libtinfow.so.6: no version information available (required by samtools)\n",
      "samtools: /home/adrian/anaconda3/bin/../lib/libncursesw.so.6: no version information available (required by samtools)\n",
      "samtools: /home/adrian/anaconda3/bin/../lib/libncursesw.so.6: no version information available (required by samtools)\n"
     ]
    },
    {
     "name": "stdout",
     "output_type": "stream",
     "text": [
      "time samtools sort -@ 20 -o /home/adrian/projects/reynisfjara/results/bam/a4776_48h_2/positionsort.bam /home/adrian/projects/reynisfjara/results/bam/a4776_48h_2/fixmate.bam\n"
     ]
    },
    {
     "name": "stderr",
     "output_type": "stream",
     "text": [
      "[bam_sort_core] merging from 1 files and 20 in-memory blocks...\n",
      "677.75user 18.69system 0:58.03elapsed 1200%CPU (0avgtext+0avgdata 17508168maxresident)k\n",
      "72inputs+11373280outputs (0major+4590864minor)pagefaults 0swaps\n",
      "samtools: /home/adrian/anaconda3/bin/../lib/libtinfow.so.6: no version information available (required by samtools)\n",
      "samtools: /home/adrian/anaconda3/bin/../lib/libncursesw.so.6: no version information available (required by samtools)\n",
      "samtools: /home/adrian/anaconda3/bin/../lib/libncursesw.so.6: no version information available (required by samtools)\n"
     ]
    },
    {
     "name": "stdout",
     "output_type": "stream",
     "text": [
      "time samtools markdup -@ 20 -r /home/adrian/projects/reynisfjara/results/bam/a4776_48h_2/positionsort.bam /home/adrian/projects/reynisfjara/results/bam/a4776_48h_2/markdup.bam\n"
     ]
    },
    {
     "name": "stderr",
     "output_type": "stream",
     "text": [
      "354.16user 6.97system 1:01.72elapsed 585%CPU (0avgtext+0avgdata 365876maxresident)k\n",
      "80inputs+5692096outputs (0major+92335minor)pagefaults 0swaps\n",
      "samtools: /home/adrian/anaconda3/bin/../lib/libtinfow.so.6: no version information available (required by samtools)\n",
      "samtools: /home/adrian/anaconda3/bin/../lib/libncursesw.so.6: no version information available (required by samtools)\n",
      "samtools: /home/adrian/anaconda3/bin/../lib/libncursesw.so.6: no version information available (required by samtools)\n"
     ]
    },
    {
     "name": "stdout",
     "output_type": "stream",
     "text": [
      "time samtools sort -@ 20 -n -o /home/adrian/projects/reynisfjara/results/bam/a4776_48h_3/namesort.bam /home/adrian/projects/reynisfjara/results/bam/a4776_48h_3/a4776_48h_3.bam\n"
     ]
    },
    {
     "name": "stderr",
     "output_type": "stream",
     "text": [
      "[bam_sort_core] merging from 1 files and 20 in-memory blocks...\n",
      "808.15user 19.23system 1:00.88elapsed 1358%CPU (0avgtext+0avgdata 17568400maxresident)k\n",
      "10237784inputs+18059304outputs (0major+4490876minor)pagefaults 0swaps\n",
      "samtools: /home/adrian/anaconda3/bin/../lib/libtinfow.so.6: no version information available (required by samtools)\n",
      "samtools: /home/adrian/anaconda3/bin/../lib/libncursesw.so.6: no version information available (required by samtools)\n",
      "samtools: /home/adrian/anaconda3/bin/../lib/libncursesw.so.6: no version information available (required by samtools)\n"
     ]
    },
    {
     "name": "stdout",
     "output_type": "stream",
     "text": [
      "time samtools fixmate -@ 20 -m /home/adrian/projects/reynisfjara/results/bam/a4776_48h_3/namesort.bam /home/adrian/projects/reynisfjara/results/bam/a4776_48h_3/fixmate.bam\n"
     ]
    },
    {
     "name": "stderr",
     "output_type": "stream",
     "text": [
      "456.54user 9.24system 0:34.78elapsed 1339%CPU (0avgtext+0avgdata 52440maxresident)k\n",
      "56inputs+10640544outputs (0major+13893minor)pagefaults 0swaps\n",
      "samtools: /home/adrian/anaconda3/bin/../lib/libtinfow.so.6: no version information available (required by samtools)\n",
      "samtools: /home/adrian/anaconda3/bin/../lib/libncursesw.so.6: no version information available (required by samtools)\n",
      "samtools: /home/adrian/anaconda3/bin/../lib/libncursesw.so.6: no version information available (required by samtools)\n"
     ]
    },
    {
     "name": "stdout",
     "output_type": "stream",
     "text": [
      "time samtools sort -@ 20 -o /home/adrian/projects/reynisfjara/results/bam/a4776_48h_3/positionsort.bam /home/adrian/projects/reynisfjara/results/bam/a4776_48h_3/fixmate.bam\n"
     ]
    },
    {
     "name": "stderr",
     "output_type": "stream",
     "text": [
      "[bam_sort_core] merging from 1 files and 20 in-memory blocks...\n",
      "533.74user 16.16system 0:49.89elapsed 1102%CPU (0avgtext+0avgdata 17513256maxresident)k\n",
      "64inputs+9819680outputs (0major+4483468minor)pagefaults 0swaps\n",
      "samtools: /home/adrian/anaconda3/bin/../lib/libtinfow.so.6: no version information available (required by samtools)\n",
      "samtools: /home/adrian/anaconda3/bin/../lib/libncursesw.so.6: no version information available (required by samtools)\n",
      "samtools: /home/adrian/anaconda3/bin/../lib/libncursesw.so.6: no version information available (required by samtools)\n"
     ]
    },
    {
     "name": "stdout",
     "output_type": "stream",
     "text": [
      "time samtools markdup -@ 20 -r /home/adrian/projects/reynisfjara/results/bam/a4776_48h_3/positionsort.bam /home/adrian/projects/reynisfjara/results/bam/a4776_48h_3/markdup.bam\n"
     ]
    },
    {
     "name": "stderr",
     "output_type": "stream",
     "text": [
      "269.31user 5.51system 0:40.53elapsed 677%CPU (0avgtext+0avgdata 277264maxresident)k\n",
      "72inputs+4538792outputs (0major+70136minor)pagefaults 0swaps\n",
      "samtools: /home/adrian/anaconda3/bin/../lib/libtinfow.so.6: no version information available (required by samtools)\n",
      "samtools: /home/adrian/anaconda3/bin/../lib/libncursesw.so.6: no version information available (required by samtools)\n",
      "samtools: /home/adrian/anaconda3/bin/../lib/libncursesw.so.6: no version information available (required by samtools)\n"
     ]
    },
    {
     "name": "stdout",
     "output_type": "stream",
     "text": [
      "time samtools sort -@ 20 -n -o /home/adrian/projects/reynisfjara/results/bam/a4776_72h_1/namesort.bam /home/adrian/projects/reynisfjara/results/bam/a4776_72h_1/a4776_72h_1.bam\n"
     ]
    },
    {
     "name": "stderr",
     "output_type": "stream",
     "text": [
      "[bam_sort_core] merging from 1 files and 20 in-memory blocks...\n",
      "741.59user 18.13system 0:57.40elapsed 1323%CPU (0avgtext+0avgdata 17568412maxresident)k\n",
      "9354816inputs+17058872outputs (0major+4467924minor)pagefaults 0swaps\n",
      "samtools: /home/adrian/anaconda3/bin/../lib/libtinfow.so.6: no version information available (required by samtools)\n",
      "samtools: /home/adrian/anaconda3/bin/../lib/libncursesw.so.6: no version information available (required by samtools)\n",
      "samtools: /home/adrian/anaconda3/bin/../lib/libncursesw.so.6: no version information available (required by samtools)\n"
     ]
    },
    {
     "name": "stdout",
     "output_type": "stream",
     "text": [
      "time samtools fixmate -@ 20 -m /home/adrian/projects/reynisfjara/results/bam/a4776_72h_1/namesort.bam /home/adrian/projects/reynisfjara/results/bam/a4776_72h_1/fixmate.bam\n"
     ]
    },
    {
     "name": "stderr",
     "output_type": "stream",
     "text": [
      "401.63user 9.00system 0:33.03elapsed 1242%CPU (0avgtext+0avgdata 52640maxresident)k\n",
      "0inputs+9713536outputs (0major+14025minor)pagefaults 0swaps\n",
      "samtools: /home/adrian/anaconda3/bin/../lib/libtinfow.so.6: no version information available (required by samtools)\n",
      "samtools: /home/adrian/anaconda3/bin/../lib/libncursesw.so.6: no version information available (required by samtools)\n",
      "samtools: /home/adrian/anaconda3/bin/../lib/libncursesw.so.6: no version information available (required by samtools)\n"
     ]
    },
    {
     "name": "stdout",
     "output_type": "stream",
     "text": [
      "time samtools sort -@ 20 -o /home/adrian/projects/reynisfjara/results/bam/a4776_72h_1/positionsort.bam /home/adrian/projects/reynisfjara/results/bam/a4776_72h_1/fixmate.bam\n"
     ]
    },
    {
     "name": "stderr",
     "output_type": "stream",
     "text": [
      "[bam_sort_core] merging from 1 files and 20 in-memory blocks...\n",
      "482.54user 15.18system 0:46.16elapsed 1078%CPU (0avgtext+0avgdata 17513508maxresident)k\n",
      "8inputs+9160856outputs (0major+4460698minor)pagefaults 0swaps\n",
      "samtools: /home/adrian/anaconda3/bin/../lib/libtinfow.so.6: no version information available (required by samtools)\n",
      "samtools: /home/adrian/anaconda3/bin/../lib/libncursesw.so.6: no version information available (required by samtools)\n",
      "samtools: /home/adrian/anaconda3/bin/../lib/libncursesw.so.6: no version information available (required by samtools)\n"
     ]
    },
    {
     "name": "stdout",
     "output_type": "stream",
     "text": [
      "time samtools markdup -@ 20 -r /home/adrian/projects/reynisfjara/results/bam/a4776_72h_1/positionsort.bam /home/adrian/projects/reynisfjara/results/bam/a4776_72h_1/markdup.bam\n"
     ]
    },
    {
     "name": "stderr",
     "output_type": "stream",
     "text": [
      "261.94user 5.42system 0:42.04elapsed 635%CPU (0avgtext+0avgdata 253968maxresident)k\n",
      "0inputs+4134344outputs (0major+64346minor)pagefaults 0swaps\n",
      "samtools: /home/adrian/anaconda3/bin/../lib/libtinfow.so.6: no version information available (required by samtools)\n",
      "samtools: /home/adrian/anaconda3/bin/../lib/libncursesw.so.6: no version information available (required by samtools)\n",
      "samtools: /home/adrian/anaconda3/bin/../lib/libncursesw.so.6: no version information available (required by samtools)\n"
     ]
    },
    {
     "name": "stdout",
     "output_type": "stream",
     "text": [
      "time samtools sort -@ 20 -n -o /home/adrian/projects/reynisfjara/results/bam/a4776_72h_2/namesort.bam /home/adrian/projects/reynisfjara/results/bam/a4776_72h_2/a4776_72h_2.bam\n"
     ]
    },
    {
     "name": "stderr",
     "output_type": "stream",
     "text": [
      "[bam_sort_core] merging from 1 files and 20 in-memory blocks...\n",
      "820.19user 19.70system 1:02.29elapsed 1348%CPU (0avgtext+0avgdata 17568156maxresident)k\n",
      "10642048inputs+18286920outputs (0major+4510267minor)pagefaults 0swaps\n",
      "samtools: /home/adrian/anaconda3/bin/../lib/libtinfow.so.6: no version information available (required by samtools)\n",
      "samtools: /home/adrian/anaconda3/bin/../lib/libncursesw.so.6: no version information available (required by samtools)\n",
      "samtools: /home/adrian/anaconda3/bin/../lib/libncursesw.so.6: no version information available (required by samtools)\n"
     ]
    },
    {
     "name": "stdout",
     "output_type": "stream",
     "text": [
      "time samtools fixmate -@ 20 -m /home/adrian/projects/reynisfjara/results/bam/a4776_72h_2/namesort.bam /home/adrian/projects/reynisfjara/results/bam/a4776_72h_2/fixmate.bam\n"
     ]
    },
    {
     "name": "stderr",
     "output_type": "stream",
     "text": [
      "455.60user 9.41system 0:36.46elapsed 1275%CPU (0avgtext+0avgdata 52676maxresident)k\n",
      "8inputs+11045576outputs (0major+14157minor)pagefaults 0swaps\n",
      "samtools: /home/adrian/anaconda3/bin/../lib/libtinfow.so.6: no version information available (required by samtools)\n",
      "samtools: /home/adrian/anaconda3/bin/../lib/libncursesw.so.6: no version information available (required by samtools)\n",
      "samtools: /home/adrian/anaconda3/bin/../lib/libncursesw.so.6: no version information available (required by samtools)\n"
     ]
    },
    {
     "name": "stdout",
     "output_type": "stream",
     "text": [
      "time samtools sort -@ 20 -o /home/adrian/projects/reynisfjara/results/bam/a4776_72h_2/positionsort.bam /home/adrian/projects/reynisfjara/results/bam/a4776_72h_2/fixmate.bam\n"
     ]
    },
    {
     "name": "stderr",
     "output_type": "stream",
     "text": [
      "[bam_sort_core] merging from 1 files and 20 in-memory blocks...\n",
      "532.59user 15.66system 0:48.74elapsed 1124%CPU (0avgtext+0avgdata 17513916maxresident)k\n",
      "48inputs+9683352outputs (0major+4502979minor)pagefaults 0swaps\n",
      "samtools: /home/adrian/anaconda3/bin/../lib/libtinfow.so.6: no version information available (required by samtools)\n",
      "samtools: /home/adrian/anaconda3/bin/../lib/libncursesw.so.6: no version information available (required by samtools)\n",
      "samtools: /home/adrian/anaconda3/bin/../lib/libncursesw.so.6: no version information available (required by samtools)\n"
     ]
    },
    {
     "name": "stdout",
     "output_type": "stream",
     "text": [
      "time samtools markdup -@ 20 -r /home/adrian/projects/reynisfjara/results/bam/a4776_72h_2/positionsort.bam /home/adrian/projects/reynisfjara/results/bam/a4776_72h_2/markdup.bam\n"
     ]
    },
    {
     "name": "stderr",
     "output_type": "stream",
     "text": [
      "267.27user 5.59system 0:39.89elapsed 683%CPU (0avgtext+0avgdata 299664maxresident)k\n",
      "0inputs+4653536outputs (0major+75836minor)pagefaults 0swaps\n",
      "samtools: /home/adrian/anaconda3/bin/../lib/libtinfow.so.6: no version information available (required by samtools)\n",
      "samtools: /home/adrian/anaconda3/bin/../lib/libncursesw.so.6: no version information available (required by samtools)\n",
      "samtools: /home/adrian/anaconda3/bin/../lib/libncursesw.so.6: no version information available (required by samtools)\n"
     ]
    },
    {
     "name": "stdout",
     "output_type": "stream",
     "text": [
      "time samtools sort -@ 20 -n -o /home/adrian/projects/reynisfjara/results/bam/a4776_72h_3/namesort.bam /home/adrian/projects/reynisfjara/results/bam/a4776_72h_3/a4776_72h_3.bam\n"
     ]
    },
    {
     "name": "stderr",
     "output_type": "stream",
     "text": [
      "[bam_sort_core] merging from 1 files and 20 in-memory blocks...\n",
      "701.77user 17.06system 0:53.88elapsed 1334%CPU (0avgtext+0avgdata 17568340maxresident)k\n",
      "8703632inputs+16595800outputs (0major+4442645minor)pagefaults 0swaps\n",
      "samtools: /home/adrian/anaconda3/bin/../lib/libtinfow.so.6: no version information available (required by samtools)\n",
      "samtools: /home/adrian/anaconda3/bin/../lib/libncursesw.so.6: no version information available (required by samtools)\n",
      "samtools: /home/adrian/anaconda3/bin/../lib/libncursesw.so.6: no version information available (required by samtools)\n"
     ]
    },
    {
     "name": "stdout",
     "output_type": "stream",
     "text": [
      "time samtools fixmate -@ 20 -m /home/adrian/projects/reynisfjara/results/bam/a4776_72h_3/namesort.bam /home/adrian/projects/reynisfjara/results/bam/a4776_72h_3/fixmate.bam\n"
     ]
    },
    {
     "name": "stderr",
     "output_type": "stream",
     "text": [
      "391.27user 8.26system 0:28.54elapsed 1399%CPU (0avgtext+0avgdata 52176maxresident)k\n",
      "0inputs+9053448outputs (0major+13888minor)pagefaults 0swaps\n",
      "samtools: /home/adrian/anaconda3/bin/../lib/libtinfow.so.6: no version information available (required by samtools)\n",
      "samtools: /home/adrian/anaconda3/bin/../lib/libncursesw.so.6: no version information available (required by samtools)\n",
      "samtools: /home/adrian/anaconda3/bin/../lib/libncursesw.so.6: no version information available (required by samtools)\n"
     ]
    },
    {
     "name": "stdout",
     "output_type": "stream",
     "text": [
      "time samtools sort -@ 20 -o /home/adrian/projects/reynisfjara/results/bam/a4776_72h_3/positionsort.bam /home/adrian/projects/reynisfjara/results/bam/a4776_72h_3/fixmate.bam\n"
     ]
    },
    {
     "name": "stderr",
     "output_type": "stream",
     "text": [
      "[bam_sort_core] merging from 1 files and 20 in-memory blocks...\n",
      "467.97user 15.20system 0:42.53elapsed 1135%CPU (0avgtext+0avgdata 17470404maxresident)k\n",
      "72inputs+9198224outputs (0major+4435403minor)pagefaults 0swaps\n",
      "samtools: /home/adrian/anaconda3/bin/../lib/libtinfow.so.6: no version information available (required by samtools)\n",
      "samtools: /home/adrian/anaconda3/bin/../lib/libncursesw.so.6: no version information available (required by samtools)\n",
      "samtools: /home/adrian/anaconda3/bin/../lib/libncursesw.so.6: no version information available (required by samtools)\n"
     ]
    },
    {
     "name": "stdout",
     "output_type": "stream",
     "text": [
      "time samtools markdup -@ 20 -r /home/adrian/projects/reynisfjara/results/bam/a4776_72h_3/positionsort.bam /home/adrian/projects/reynisfjara/results/bam/a4776_72h_3/markdup.bam\n"
     ]
    },
    {
     "name": "stderr",
     "output_type": "stream",
     "text": [
      "236.63user 4.68system 0:32.44elapsed 743%CPU (0avgtext+0avgdata 236484maxresident)k\n",
      "16inputs+4003792outputs (0major+59912minor)pagefaults 0swaps\n"
     ]
    }
   ],
   "source": [
    "for label in bam_folders:\n",
    "    \n",
    "    bam_folder_path = bam_top_folder + label\n",
    "    \n",
    "    cmd1 = 'time samtools sort -@ 20 -n -o {}/namesort.bam {}/{}.bam'.format(bam_folder_path, bam_folder_path, label)\n",
    "    cmd2 = 'time samtools fixmate -@ 20 -m {}/namesort.bam {}/fixmate.bam'.format(bam_folder_path, bam_folder_path)\n",
    "    cmd3 = 'time samtools sort -@ 20 -o {}/positionsort.bam {}/fixmate.bam'.format(bam_folder_path, bam_folder_path)\n",
    "    cmd4 = 'time samtools markdup -@ 20 -r {}/positionsort.bam {}/markdup.bam'.format(bam_folder_path, bam_folder_path)\n",
    "    \n",
    "    print(cmd1)\n",
    "    os.system(cmd1)\n",
    "    print(cmd2)\n",
    "    os.system(cmd2)\n",
    "    print(cmd3)\n",
    "    os.system(cmd3)\n",
    "    print(cmd4)\n",
    "    os.system(cmd4)"
   ]
  }
 ],
 "metadata": {
  "kernelspec": {
   "display_name": "Python 3 (ipykernel)",
   "language": "python",
   "name": "python3"
  },
  "language_info": {
   "codemirror_mode": {
    "name": "ipython",
    "version": 3
   },
   "file_extension": ".py",
   "mimetype": "text/x-python",
   "name": "python",
   "nbconvert_exporter": "python",
   "pygments_lexer": "ipython3",
   "version": "3.9.16"
  }
 },
 "nbformat": 4,
 "nbformat_minor": 5
}
