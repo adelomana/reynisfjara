{
 "cells": [
  {
   "cell_type": "markdown",
   "id": "4eaa69ef-2c6d-4c9e-b81d-aa744da3493a",
   "metadata": {},
   "source": [
    "This pipeline runs freebayes on the sorted, marked duplicates, merged BAM files.\n",
    "We are looking for SNPs supported by 100 reads at least at 5% frequency."
   ]
  },
  {
   "cell_type": "code",
   "execution_count": 1,
   "id": "f9110a5b-1986-4c64-bb77-e4e4df23b157",
   "metadata": {},
   "outputs": [],
   "source": [
    "import os"
   ]
  },
  {
   "cell_type": "code",
   "execution_count": 2,
   "id": "2ac41ca2-cad1-460f-9719-ff5ab64ff988",
   "metadata": {},
   "outputs": [],
   "source": [
    "import multiprocessing, multiprocessing.pool"
   ]
  },
  {
   "cell_type": "markdown",
   "id": "7595517e-96e6-4257-941e-e9ae54f01f42",
   "metadata": {},
   "source": [
    "# user-defined variables"
   ]
  },
  {
   "cell_type": "code",
   "execution_count": 3,
   "id": "bf4cf74a-19d0-43b2-83ec-72cf2b104a7c",
   "metadata": {},
   "outputs": [],
   "source": [
    "bam_top_aggregated = '/home/adrian/projects/reynisfjara/results/aggregated_bam_k243r/'\n",
    "vcf_folder = '/home/adrian/projects/reynisfjara/results/vcf/'\n",
    "reference = '/home/adrian/databases/ensembl/mouse_k243r/Mus_musculus.GRCm39.cdna.all.fa'\n",
    "executable_file = '/home/adrian/software/freebayes/freebayes-1.3.6-linux-amd64-static'"
   ]
  },
  {
   "cell_type": "code",
   "execution_count": 4,
   "id": "a806fc37-22c7-4839-9788-6811bdfd0cd5",
   "metadata": {},
   "outputs": [],
   "source": [
    "threads = 12"
   ]
  },
  {
   "cell_type": "markdown",
   "id": "0604ae95-c9a0-4e56-b6a7-528214bbbd25",
   "metadata": {},
   "source": [
    "# read data"
   ]
  },
  {
   "cell_type": "code",
   "execution_count": 5,
   "id": "0b3d1f68-7a06-4ffa-8ff5-e0fea7bcfa78",
   "metadata": {},
   "outputs": [
    {
     "name": "stdout",
     "output_type": "stream",
     "text": [
      "['a3922_0h.bam', 'a3922_48h.bam', 'a3922_72h.bam', 'a4774_0h.bam', 'a4774_48h.bam', 'a4774_72h.bam', 'a4775_0h.bam', 'a4775_48h.bam', 'a4775_72h.bam', 'a4776_0h.bam', 'a4776_48h.bam', 'a4776_72h.bam']\n",
      "12\n"
     ]
    }
   ],
   "source": [
    "bam_files = os.listdir(bam_top_aggregated)\n",
    "bam_files.sort()\n",
    "print(bam_files)\n",
    "print(len(bam_files))"
   ]
  },
  {
   "cell_type": "markdown",
   "id": "098d44a6-ea25-441c-b15f-528bfcf8f3ef",
   "metadata": {},
   "source": [
    "# call freebayes"
   ]
  },
  {
   "cell_type": "markdown",
   "id": "234a4bde-cb7b-4eb7-9418-ea760667ab1e",
   "metadata": {},
   "source": [
    "### feedback\n",
    "\n",
    "Just found the document : according to this alignemen,t on the IGV, there was 17 000 reads at this exact location, as you can see in the joint picture."
   ]
  },
  {
   "cell_type": "raw",
   "id": "92470dc9-b599-43bc-bff6-5f32ac93b685",
   "metadata": {},
   "source": [
    "(base) drangajokull 2023-05-24 10:46:32 ~/databases/ensembl/mouse : grep 'gene_symbol:Mitf' Mus_musculus.GRCm39.cdna.all.fa\n",
    ">ENSMUST00000203884.3 cdna chromosome:GRCm39:6:97784013:97995554:1 gene:ENSMUSG00000035158.16 gene_biotype:protein_coding transcript_biotype:protein_coding gene_symbol:Mitf description:melanogenesis associated transcription factor [Source:MGI Symbol;Acc:MGI:104554]\n",
    ">ENSMUST00000148233.2 cdna chromosome:GRCm39:6:97784019:97919140:1 gene:ENSMUSG00000035158.16 gene_biotype:protein_coding transcript_biotype:retained_intron gene_symbol:Mitf description:melanogenesis associated transcription factor [Source:MGI Symbol;Acc:MGI:104554]\n",
    ">ENSMUST00000043637.14 cdna chromosome:GRCm39:6:97784019:97998310:1 gene:ENSMUSG00000035158.16 gene_biotype:protein_coding transcript_biotype:protein_coding gene_symbol:Mitf description:melanogenesis associated transcription factor [Source:MGI Symbol;Acc:MGI:104554]\n",
    ">ENSMUST00000101123.10 cdna chromosome:GRCm39:6:97906760:97995668:1 gene:ENSMUSG00000035158.16 gene_biotype:protein_coding transcript_biotype:protein_coding gene_symbol:Mitf description:melanogenesis associated transcription factor [Source:MGI Symbol;Acc:MGI:104554]\n",
    ">ENSMUST00000113339.8 cdna chromosome:GRCm39:6:97917879:97995668:1 gene:ENSMUSG00000035158.16 gene_biotype:protein_coding transcript_biotype:protein_coding gene_symbol:Mitf description:melanogenesis associated transcription factor [Source:MGI Symbol;Acc:MGI:104554]\n",
    ">ENSMUST00000043628.13 cdna chromosome:GRCm39:6:97968753:97995668:1 gene:ENSMUSG00000035158.16 gene_biotype:protein_coding transcript_biotype:protein_coding gene_symbol:Mitf description:melanogenesis associated transcription factor [Source:MGI Symbol;Acc:MGI:104554]\n",
    ">ENSMUST00000139462.2 cdna chromosome:GRCm39:6:97968780:97995458:1 gene:ENSMUSG00000035158.16 gene_biotype:protein_coding transcript_biotype:nonsense_mediated_decay gene_symbol:Mitf description:melanogenesis associated transcription factor [Source:MGI Symbol;Acc:MGI:104554]\n",
    ">ENSMUST00000203938.2 cdna chromosome:GRCm39:6:97968882:97995136:1 gene:ENSMUSG00000035158.16 gene_biotype:protein_coding transcript_biotype:protein_coding gene_symbol:Mitf description:melanogenesis associated transcription factor [Source:MGI Symbol;Acc:MGI:104554]\n",
    "(base) drangajokull 2023-05-24 10:47:12 ~/databases/ensembl/mouse : grep 'gene_symbol:Mitf' Mus_musculus.GRCm39.cdna.all.fa | wc -l\n",
    "8"
   ]
  },
  {
   "cell_type": "markdown",
   "id": "1afcdcfb-79b6-4f81-b5ba-1cb4715920f5",
   "metadata": {},
   "source": [
    "# call in a parallel mode"
   ]
  },
  {
   "cell_type": "code",
   "execution_count": 6,
   "id": "98088c31-8f03-48ff-b0e0-bb6faac2a3ab",
   "metadata": {},
   "outputs": [],
   "source": [
    "def caller(bam_file):\n",
    "    \n",
    "    # run01\n",
    "    cmd = 'time {} -f {} --min-coverage 25 -F 0.05 --standard-filters --report-genotype-likelihood-max --use-mapping-quality {}{} > {}{}.vcf'.format(executable_file, reference, bam_top_aggregated, bam_file, vcf_folder, bam_file)\n",
    "    \n",
    "    print(cmd)\n",
    "    print()\n",
    "    os.system(cmd)\n",
    "    print()\n",
    "    \n",
    "    return None"
   ]
  },
  {
   "cell_type": "code",
   "execution_count": 7,
   "id": "9b6ea9b8-2b13-4957-bfd4-d6633682aae8",
   "metadata": {},
   "outputs": [
    {
     "name": "stdout",
     "output_type": "stream",
     "text": [
      "time /home/adrian/software/freebayes/freebayes-1.3.6-linux-amd64-static -f /home/adrian/databases/ensembl/mouse_k243r/Mus_musculus.GRCm39.cdna.all.fa --min-coverage 25 -F 0.05 --standard-filters --report-genotype-likelihood-max --use-mapping-quality /home/adrian/projects/reynisfjara/results/aggregated_bam_k243r/a3922_48h.bam > /home/adrian/projects/reynisfjara/results/vcf/a3922_48h.bam.vcftime /home/adrian/software/freebayes/freebayes-1.3.6-linux-amd64-static -f /home/adrian/databases/ensembl/mouse_k243r/Mus_musculus.GRCm39.cdna.all.fa --min-coverage 25 -F 0.05 --standard-filters --report-genotype-likelihood-max --use-mapping-quality /home/adrian/projects/reynisfjara/results/aggregated_bam_k243r/a3922_0h.bam > /home/adrian/projects/reynisfjara/results/vcf/a3922_0h.bam.vcftime /home/adrian/software/freebayes/freebayes-1.3.6-linux-amd64-static -f /home/adrian/databases/ensembl/mouse_k243r/Mus_musculus.GRCm39.cdna.all.fa --min-coverage 25 -F 0.05 --standard-filters --report-genotype-likelihood-max --use-mapping-quality /home/adrian/projects/reynisfjara/results/aggregated_bam_k243r/a3922_72h.bam > /home/adrian/projects/reynisfjara/results/vcf/a3922_72h.bam.vcftime /home/adrian/software/freebayes/freebayes-1.3.6-linux-amd64-static -f /home/adrian/databases/ensembl/mouse_k243r/Mus_musculus.GRCm39.cdna.all.fa --min-coverage 25 -F 0.05 --standard-filters --report-genotype-likelihood-max --use-mapping-quality /home/adrian/projects/reynisfjara/results/aggregated_bam_k243r/a4774_0h.bam > /home/adrian/projects/reynisfjara/results/vcf/a4774_0h.bam.vcftime /home/adrian/software/freebayes/freebayes-1.3.6-linux-amd64-static -f /home/adrian/databases/ensembl/mouse_k243r/Mus_musculus.GRCm39.cdna.all.fa --min-coverage 25 -F 0.05 --standard-filters --report-genotype-likelihood-max --use-mapping-quality /home/adrian/projects/reynisfjara/results/aggregated_bam_k243r/a4774_72h.bam > /home/adrian/projects/reynisfjara/results/vcf/a4774_72h.bam.vcftime /home/adrian/software/freebayes/freebayes-1.3.6-linux-amd64-static -f /home/adrian/databases/ensembl/mouse_k243r/Mus_musculus.GRCm39.cdna.all.fa --min-coverage 25 -F 0.05 --standard-filters --report-genotype-likelihood-max --use-mapping-quality /home/adrian/projects/reynisfjara/results/aggregated_bam_k243r/a4774_48h.bam > /home/adrian/projects/reynisfjara/results/vcf/a4774_48h.bam.vcftime /home/adrian/software/freebayes/freebayes-1.3.6-linux-amd64-static -f /home/adrian/databases/ensembl/mouse_k243r/Mus_musculus.GRCm39.cdna.all.fa --min-coverage 25 -F 0.05 --standard-filters --report-genotype-likelihood-max --use-mapping-quality /home/adrian/projects/reynisfjara/results/aggregated_bam_k243r/a4775_0h.bam > /home/adrian/projects/reynisfjara/results/vcf/a4775_0h.bam.vcf\n",
      "time /home/adrian/software/freebayes/freebayes-1.3.6-linux-amd64-static -f /home/adrian/databases/ensembl/mouse_k243r/Mus_musculus.GRCm39.cdna.all.fa --min-coverage 25 -F 0.05 --standard-filters --report-genotype-likelihood-max --use-mapping-quality /home/adrian/projects/reynisfjara/results/aggregated_bam_k243r/a4775_48h.bam > /home/adrian/projects/reynisfjara/results/vcf/a4775_48h.bam.vcftime /home/adrian/software/freebayes/freebayes-1.3.6-linux-amd64-static -f /home/adrian/databases/ensembl/mouse_k243r/Mus_musculus.GRCm39.cdna.all.fa --min-coverage 25 -F 0.05 --standard-filters --report-genotype-likelihood-max --use-mapping-quality /home/adrian/projects/reynisfjara/results/aggregated_bam_k243r/a4775_72h.bam > /home/adrian/projects/reynisfjara/results/vcf/a4775_72h.bam.vcf\n",
      "\n",
      "time /home/adrian/software/freebayes/freebayes-1.3.6-linux-amd64-static -f /home/adrian/databases/ensembl/mouse_k243r/Mus_musculus.GRCm39.cdna.all.fa --min-coverage 25 -F 0.05 --standard-filters --report-genotype-likelihood-max --use-mapping-quality /home/adrian/projects/reynisfjara/results/aggregated_bam_k243r/a4776_48h.bam > /home/adrian/projects/reynisfjara/results/vcf/a4776_48h.bam.vcftime /home/adrian/software/freebayes/freebayes-1.3.6-linux-amd64-static -f /home/adrian/databases/ensembl/mouse_k243r/Mus_musculus.GRCm39.cdna.all.fa --min-coverage 25 -F 0.05 --standard-filters --report-genotype-likelihood-max --use-mapping-quality /home/adrian/projects/reynisfjara/results/aggregated_bam_k243r/a4776_72h.bam > /home/adrian/projects/reynisfjara/results/vcf/a4776_72h.bam.vcf\n",
      "\n",
      "\n",
      "\n",
      "\n",
      "\n",
      "\n",
      "\n",
      "\n",
      "\n",
      "\n",
      "\n",
      "\n",
      "time /home/adrian/software/freebayes/freebayes-1.3.6-linux-amd64-static -f /home/adrian/databases/ensembl/mouse_k243r/Mus_musculus.GRCm39.cdna.all.fa --min-coverage 25 -F 0.05 --standard-filters --report-genotype-likelihood-max --use-mapping-quality /home/adrian/projects/reynisfjara/results/aggregated_bam_k243r/a4776_0h.bam > /home/adrian/projects/reynisfjara/results/vcf/a4776_0h.bam.vcf\n",
      "\n",
      "\n",
      "\n",
      "\n",
      "\n",
      "\n",
      "\n",
      "\n"
     ]
    },
    {
     "name": "stderr",
     "output_type": "stream",
     "text": [
      "1670.58user 6.19system 28:53.15elapsed 96%CPU (0avgtext+0avgdata 264352maxresident)k\n",
      "10412760inputs+46432outputs (2major+73005minor)pagefaults 0swaps\n"
     ]
    },
    {
     "name": "stdout",
     "output_type": "stream",
     "text": [
      "\n"
     ]
    },
    {
     "name": "stderr",
     "output_type": "stream",
     "text": [
      "2012.38user 6.44system 34:41.12elapsed 97%CPU (0avgtext+0avgdata 296576maxresident)k\n",
      "11222664inputs+42512outputs (1major+81082minor)pagefaults 0swaps\n"
     ]
    },
    {
     "name": "stdout",
     "output_type": "stream",
     "text": [
      "\n"
     ]
    },
    {
     "name": "stderr",
     "output_type": "stream",
     "text": [
      "2018.54user 6.84system 34:45.86elapsed 97%CPU (0avgtext+0avgdata 297948maxresident)k\n",
      "11626904inputs+45040outputs (0major+81403minor)pagefaults 0swaps\n"
     ]
    },
    {
     "name": "stdout",
     "output_type": "stream",
     "text": [
      "\n"
     ]
    },
    {
     "name": "stderr",
     "output_type": "stream",
     "text": [
      "2041.47user 6.81system 35:06.17elapsed 97%CPU (0avgtext+0avgdata 305604maxresident)k\n",
      "11605664inputs+43672outputs (0major+83337minor)pagefaults 0swaps\n"
     ]
    },
    {
     "name": "stdout",
     "output_type": "stream",
     "text": [
      "\n"
     ]
    },
    {
     "name": "stderr",
     "output_type": "stream",
     "text": [
      "2058.07user 5.77system 35:22.88elapsed 97%CPU (0avgtext+0avgdata 301316maxresident)k\n",
      "6507312inputs+54024outputs (0major+82309minor)pagefaults 0swaps\n"
     ]
    },
    {
     "name": "stdout",
     "output_type": "stream",
     "text": [
      "\n"
     ]
    },
    {
     "name": "stderr",
     "output_type": "stream",
     "text": [
      "2114.99user 6.85system 36:20.37elapsed 97%CPU (0avgtext+0avgdata 319012maxresident)k\n",
      "12408408inputs+51064outputs (0major+86689minor)pagefaults 0swaps\n"
     ]
    },
    {
     "name": "stdout",
     "output_type": "stream",
     "text": [
      "\n"
     ]
    },
    {
     "name": "stderr",
     "output_type": "stream",
     "text": [
      "2111.20user 6.85system 36:21.34elapsed 97%CPU (0avgtext+0avgdata 308980maxresident)k\n",
      "10246320inputs+43744outputs (0major+84209minor)pagefaults 0swaps\n"
     ]
    },
    {
     "name": "stdout",
     "output_type": "stream",
     "text": [
      "\n"
     ]
    },
    {
     "name": "stderr",
     "output_type": "stream",
     "text": [
      "2178.06user 7.34system 37:23.78elapsed 97%CPU (0avgtext+0avgdata 321432maxresident)k\n",
      "12848104inputs+48360outputs (0major+87280minor)pagefaults 0swaps\n"
     ]
    },
    {
     "name": "stdout",
     "output_type": "stream",
     "text": [
      "\n"
     ]
    },
    {
     "name": "stderr",
     "output_type": "stream",
     "text": [
      "2231.98user 7.36system 38:18.43elapsed 97%CPU (0avgtext+0avgdata 318056maxresident)k\n",
      "13072224inputs+47776outputs (0major+86428minor)pagefaults 0swaps\n"
     ]
    },
    {
     "name": "stdout",
     "output_type": "stream",
     "text": [
      "\n"
     ]
    },
    {
     "name": "stderr",
     "output_type": "stream",
     "text": [
      "2240.40user 7.32system 38:24.66elapsed 97%CPU (0avgtext+0avgdata 311612maxresident)k\n",
      "13610160inputs+49880outputs (0major+84839minor)pagefaults 0swaps\n"
     ]
    },
    {
     "name": "stdout",
     "output_type": "stream",
     "text": [
      "\n"
     ]
    },
    {
     "name": "stderr",
     "output_type": "stream",
     "text": [
      "2264.87user 7.09system 38:54.54elapsed 97%CPU (0avgtext+0avgdata 331152maxresident)k\n",
      "13997512inputs+51672outputs (0major+89751minor)pagefaults 0swaps\n"
     ]
    },
    {
     "name": "stdout",
     "output_type": "stream",
     "text": [
      "\n"
     ]
    },
    {
     "name": "stderr",
     "output_type": "stream",
     "text": [
      "2317.51user 6.89system 39:47.66elapsed 97%CPU (0avgtext+0avgdata 326932maxresident)k\n",
      "11436400inputs+57904outputs (0major+88710minor)pagefaults 0swaps\n"
     ]
    }
   ],
   "source": [
    "hydra = multiprocessing.pool.Pool(threads)\n",
    "empty = hydra.map(caller, bam_files)"
   ]
  },
  {
   "cell_type": "code",
   "execution_count": 8,
   "id": "7cd1b9fd-ef4c-4590-b95f-0e4326ca0e8d",
   "metadata": {},
   "outputs": [
    {
     "name": "stdout",
     "output_type": "stream",
     "text": [
      "... done.\n"
     ]
    }
   ],
   "source": [
    "print('... done.')"
   ]
  }
 ],
 "metadata": {
  "kernelspec": {
   "display_name": "Python 3 (ipykernel)",
   "language": "python",
   "name": "python3"
  },
  "language_info": {
   "codemirror_mode": {
    "name": "ipython",
    "version": 3
   },
   "file_extension": ".py",
   "mimetype": "text/x-python",
   "name": "python",
   "nbconvert_exporter": "python",
   "pygments_lexer": "ipython3",
   "version": "3.9.16"
  }
 },
 "nbformat": 4,
 "nbformat_minor": 5
}
