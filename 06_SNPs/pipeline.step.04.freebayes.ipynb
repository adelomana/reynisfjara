{
 "cells": [
  {
   "cell_type": "code",
   "execution_count": null,
   "id": "91d443b2",
   "metadata": {},
   "outputs": [],
   "source": [
    "# run freebayes"
   ]
  },
  {
   "cell_type": "code",
   "execution_count": null,
   "id": "f9110a5b-1986-4c64-bb77-e4e4df23b157",
   "metadata": {},
   "outputs": [],
   "source": [
    "import os\n",
    "import multiprocessing, multiprocessing.pool"
   ]
  },
  {
   "cell_type": "code",
   "execution_count": null,
   "id": "bf4cf74a-19d0-43b2-83ec-72cf2b104a7c",
   "metadata": {},
   "outputs": [],
   "source": [
    "hydra = multiprocessing.pool.Pool(threads)\n",
    "empty = hydra.map(aggregator, samples)"
   ]
  },
  {
   "cell_type": "code",
   "execution_count": null,
   "id": "78ff3c46-98cb-4469-8792-3a7c911e88ba",
   "metadata": {},
   "outputs": [],
   "source": [
    "# time /home/adrian/software/freebayes/freebayes-1.3.6-linux-amd64-static -f Mus_musculus.GRCm39.cdna.all.fa -C 50 -F 0.05 out.bam > var.vcf"
   ]
  }
 ],
 "metadata": {
  "kernelspec": {
   "display_name": "Python 3 (ipykernel)",
   "language": "python",
   "name": "python3"
  },
  "language_info": {
   "codemirror_mode": {
    "name": "ipython",
    "version": 3
   },
   "file_extension": ".py",
   "mimetype": "text/x-python",
   "name": "python",
   "nbconvert_exporter": "python",
   "pygments_lexer": "ipython3",
   "version": "3.9.16"
  }
 },
 "nbformat": 4,
 "nbformat_minor": 5
}
