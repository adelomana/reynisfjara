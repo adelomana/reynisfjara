{
 "cells": [
  {
   "cell_type": "markdown",
   "id": "4eaa69ef-2c6d-4c9e-b81d-aa744da3493a",
   "metadata": {},
   "source": [
    "This pipeline runs freebayes on the sorted, marked duplicates, merged BAM files.\n",
    "We are looking for SNPs supported by 100 reads at least at 5% frequency."
   ]
  },
  {
   "cell_type": "code",
   "execution_count": 1,
   "id": "f9110a5b-1986-4c64-bb77-e4e4df23b157",
   "metadata": {},
   "outputs": [],
   "source": [
    "import os"
   ]
  },
  {
   "cell_type": "code",
   "execution_count": 2,
   "id": "2ac41ca2-cad1-460f-9719-ff5ab64ff988",
   "metadata": {},
   "outputs": [],
   "source": [
    "import multiprocessing, multiprocessing.pool"
   ]
  },
  {
   "cell_type": "markdown",
   "id": "7595517e-96e6-4257-941e-e9ae54f01f42",
   "metadata": {},
   "source": [
    "# user-defined variables"
   ]
  },
  {
   "cell_type": "code",
   "execution_count": 3,
   "id": "bf4cf74a-19d0-43b2-83ec-72cf2b104a7c",
   "metadata": {},
   "outputs": [],
   "source": [
    "bam_top_aggregated = '/home/adrian/projects/reynisfjara/data/aggregated_bam/'\n",
    "vcf_folder = '/home/adrian/projects/reynisfjara/data/vcf/'\n",
    "reference = '/home/adrian/databases/ensembl/mouse/Mus_musculus.GRCm39.cdna.all.fa'\n",
    "executable_file = '/home/adrian/software/freebayes/freebayes-1.3.6-linux-amd64-static'"
   ]
  },
  {
   "cell_type": "code",
   "execution_count": 4,
   "id": "a806fc37-22c7-4839-9788-6811bdfd0cd5",
   "metadata": {},
   "outputs": [],
   "source": [
    "threads = 6"
   ]
  },
  {
   "cell_type": "markdown",
   "id": "0604ae95-c9a0-4e56-b6a7-528214bbbd25",
   "metadata": {},
   "source": [
    "# read data"
   ]
  },
  {
   "cell_type": "code",
   "execution_count": 5,
   "id": "0b3d1f68-7a06-4ffa-8ff5-e0fea7bcfa78",
   "metadata": {},
   "outputs": [
    {
     "name": "stdout",
     "output_type": "stream",
     "text": [
      "['a3922_0h.bam', 'a3922_48h.bam', 'a3922_72h.bam', 'a4774_0h.bam', 'a4774_48h.bam', 'a4774_72h.bam', 'a4775_0h.bam', 'a4775_48h.bam', 'a4775_72h.bam', 'a4776_0h.bam', 'a4776_48h.bam', 'a4776_72h.bam']\n",
      "12\n"
     ]
    }
   ],
   "source": [
    "bam_files = os.listdir(bam_top_aggregated)\n",
    "bam_files.sort()\n",
    "print(bam_files)\n",
    "print(len(bam_files))"
   ]
  },
  {
   "cell_type": "markdown",
   "id": "098d44a6-ea25-441c-b15f-528bfcf8f3ef",
   "metadata": {},
   "source": [
    "# call freebayes"
   ]
  },
  {
   "cell_type": "markdown",
   "id": "234a4bde-cb7b-4eb7-9418-ea760667ab1e",
   "metadata": {},
   "source": [
    "### feedback\n",
    "\n",
    "Just found the document : according to this alignemen,t on the IGV, there was 17 000 reads at this exact location, as you can see in the joint picture."
   ]
  },
  {
   "cell_type": "raw",
   "id": "92470dc9-b599-43bc-bff6-5f32ac93b685",
   "metadata": {},
   "source": [
    "(base) drangajokull 2023-05-24 10:46:32 ~/databases/ensembl/mouse : grep 'gene_symbol:Mitf' Mus_musculus.GRCm39.cdna.all.fa\n",
    ">ENSMUST00000203884.3 cdna chromosome:GRCm39:6:97784013:97995554:1 gene:ENSMUSG00000035158.16 gene_biotype:protein_coding transcript_biotype:protein_coding gene_symbol:Mitf description:melanogenesis associated transcription factor [Source:MGI Symbol;Acc:MGI:104554]\n",
    ">ENSMUST00000148233.2 cdna chromosome:GRCm39:6:97784019:97919140:1 gene:ENSMUSG00000035158.16 gene_biotype:protein_coding transcript_biotype:retained_intron gene_symbol:Mitf description:melanogenesis associated transcription factor [Source:MGI Symbol;Acc:MGI:104554]\n",
    ">ENSMUST00000043637.14 cdna chromosome:GRCm39:6:97784019:97998310:1 gene:ENSMUSG00000035158.16 gene_biotype:protein_coding transcript_biotype:protein_coding gene_symbol:Mitf description:melanogenesis associated transcription factor [Source:MGI Symbol;Acc:MGI:104554]\n",
    ">ENSMUST00000101123.10 cdna chromosome:GRCm39:6:97906760:97995668:1 gene:ENSMUSG00000035158.16 gene_biotype:protein_coding transcript_biotype:protein_coding gene_symbol:Mitf description:melanogenesis associated transcription factor [Source:MGI Symbol;Acc:MGI:104554]\n",
    ">ENSMUST00000113339.8 cdna chromosome:GRCm39:6:97917879:97995668:1 gene:ENSMUSG00000035158.16 gene_biotype:protein_coding transcript_biotype:protein_coding gene_symbol:Mitf description:melanogenesis associated transcription factor [Source:MGI Symbol;Acc:MGI:104554]\n",
    ">ENSMUST00000043628.13 cdna chromosome:GRCm39:6:97968753:97995668:1 gene:ENSMUSG00000035158.16 gene_biotype:protein_coding transcript_biotype:protein_coding gene_symbol:Mitf description:melanogenesis associated transcription factor [Source:MGI Symbol;Acc:MGI:104554]\n",
    ">ENSMUST00000139462.2 cdna chromosome:GRCm39:6:97968780:97995458:1 gene:ENSMUSG00000035158.16 gene_biotype:protein_coding transcript_biotype:nonsense_mediated_decay gene_symbol:Mitf description:melanogenesis associated transcription factor [Source:MGI Symbol;Acc:MGI:104554]\n",
    ">ENSMUST00000203938.2 cdna chromosome:GRCm39:6:97968882:97995136:1 gene:ENSMUSG00000035158.16 gene_biotype:protein_coding transcript_biotype:protein_coding gene_symbol:Mitf description:melanogenesis associated transcription factor [Source:MGI Symbol;Acc:MGI:104554]\n",
    "(base) drangajokull 2023-05-24 10:47:12 ~/databases/ensembl/mouse : grep 'gene_symbol:Mitf' Mus_musculus.GRCm39.cdna.all.fa | wc -l\n",
    "8"
   ]
  },
  {
   "cell_type": "markdown",
   "id": "1afcdcfb-79b6-4f81-b5ba-1cb4715920f5",
   "metadata": {},
   "source": [
    "# call in a parallel mode"
   ]
  },
  {
   "cell_type": "code",
   "execution_count": 6,
   "id": "98088c31-8f03-48ff-b0e0-bb6faac2a3ab",
   "metadata": {},
   "outputs": [],
   "source": [
    "def caller(bam_file):\n",
    "    \n",
    "    cmd = 'time {} -f {} --min-coverage 25 -F 0.05 --standard-filters --report-genotype-likelihood-max --use-mapping-quality {}{} > {}{}.vcf'.format(executable_file, reference, bam_top_aggregated, bam_file, vcf_folder, bam_file)\n",
    "    \n",
    "    print(cmd)\n",
    "    print()\n",
    "    os.system(cmd)\n",
    "    print()\n",
    "    \n",
    "    return None"
   ]
  },
  {
   "cell_type": "code",
   "execution_count": 7,
   "id": "9b6ea9b8-2b13-4957-bfd4-d6633682aae8",
   "metadata": {},
   "outputs": [
    {
     "name": "stdout",
     "output_type": "stream",
     "text": [
      "time /home/adrian/software/freebayes/freebayes-1.3.6-linux-amd64-static -f /home/adrian/databases/ensembl/mouse/Mus_musculus.GRCm39.cdna.all.fa --min-coverage 25 -F 0.05 --standard-filters --report-genotype-likelihood-max --use-mapping-quality /home/adrian/projects/reynisfjara/data/aggregated_bam/a3922_0h.bam > /home/adrian/projects/reynisfjara/data/vcf/a3922_0h.bam.vcftime /home/adrian/software/freebayes/freebayes-1.3.6-linux-amd64-static -f /home/adrian/databases/ensembl/mouse/Mus_musculus.GRCm39.cdna.all.fa --min-coverage 25 -F 0.05 --standard-filters --report-genotype-likelihood-max --use-mapping-quality /home/adrian/projects/reynisfjara/data/aggregated_bam/a3922_48h.bam > /home/adrian/projects/reynisfjara/data/vcf/a3922_48h.bam.vcftime /home/adrian/software/freebayes/freebayes-1.3.6-linux-amd64-static -f /home/adrian/databases/ensembl/mouse/Mus_musculus.GRCm39.cdna.all.fa --min-coverage 25 -F 0.05 --standard-filters --report-genotype-likelihood-max --use-mapping-quality /home/adrian/projects/reynisfjara/data/aggregated_bam/a4774_48h.bam > /home/adrian/projects/reynisfjara/data/vcf/a4774_48h.bam.vcftime /home/adrian/software/freebayes/freebayes-1.3.6-linux-amd64-static -f /home/adrian/databases/ensembl/mouse/Mus_musculus.GRCm39.cdna.all.fa --min-coverage 25 -F 0.05 --standard-filters --report-genotype-likelihood-max --use-mapping-quality /home/adrian/projects/reynisfjara/data/aggregated_bam/a4774_0h.bam > /home/adrian/projects/reynisfjara/data/vcf/a4774_0h.bam.vcftime /home/adrian/software/freebayes/freebayes-1.3.6-linux-amd64-static -f /home/adrian/databases/ensembl/mouse/Mus_musculus.GRCm39.cdna.all.fa --min-coverage 25 -F 0.05 --standard-filters --report-genotype-likelihood-max --use-mapping-quality /home/adrian/projects/reynisfjara/data/aggregated_bam/a3922_72h.bam > /home/adrian/projects/reynisfjara/data/vcf/a3922_72h.bam.vcftime /home/adrian/software/freebayes/freebayes-1.3.6-linux-amd64-static -f /home/adrian/databases/ensembl/mouse/Mus_musculus.GRCm39.cdna.all.fa --min-coverage 25 -F 0.05 --standard-filters --report-genotype-likelihood-max --use-mapping-quality /home/adrian/projects/reynisfjara/data/aggregated_bam/a4774_72h.bam > /home/adrian/projects/reynisfjara/data/vcf/a4774_72h.bam.vcf\n",
      "\n",
      "\n",
      "\n",
      "\n",
      "\n",
      "\n",
      "\n",
      "\n",
      "\n",
      "\n",
      "\n",
      "\n",
      "time /home/adrian/software/freebayes/freebayes-1.3.6-linux-amd64-static -f /home/adrian/databases/ensembl/mouse/Mus_musculus.GRCm39.cdna.all.fa --min-coverage 25 -F 0.05 --standard-filters --report-genotype-likelihood-max --use-mapping-quality /home/adrian/projects/reynisfjara/data/aggregated_bam/a4775_0h.bam > /home/adrian/projects/reynisfjara/data/vcf/a4775_0h.bam.vcf\n",
      "\n"
     ]
    },
    {
     "name": "stderr",
     "output_type": "stream",
     "text": [
      "1175.34user 4.31system 19:39.97elapsed 99%CPU (0avgtext+0avgdata 263988maxresident)k\n",
      "10070040inputs+45752outputs (3major+73014minor)pagefaults 0swaps\n"
     ]
    },
    {
     "name": "stdout",
     "output_type": "stream",
     "text": [
      "\n",
      "time /home/adrian/software/freebayes/freebayes-1.3.6-linux-amd64-static -f /home/adrian/databases/ensembl/mouse/Mus_musculus.GRCm39.cdna.all.fa --min-coverage 25 -F 0.05 --standard-filters --report-genotype-likelihood-max --use-mapping-quality /home/adrian/projects/reynisfjara/data/aggregated_bam/a4775_48h.bam > /home/adrian/projects/reynisfjara/data/vcf/a4775_48h.bam.vcf\n",
      "\n"
     ]
    },
    {
     "name": "stderr",
     "output_type": "stream",
     "text": [
      "1449.71user 4.50system 24:14.68elapsed 99%CPU (0avgtext+0avgdata 297872maxresident)k\n",
      "10909248inputs+44248outputs (3major+81411minor)pagefaults 0swaps\n"
     ]
    },
    {
     "name": "stdout",
     "output_type": "stream",
     "text": [
      "\n",
      "time /home/adrian/software/freebayes/freebayes-1.3.6-linux-amd64-static -f /home/adrian/databases/ensembl/mouse/Mus_musculus.GRCm39.cdna.all.fa --min-coverage 25 -F 0.05 --standard-filters --report-genotype-likelihood-max --use-mapping-quality /home/adrian/projects/reynisfjara/data/aggregated_bam/a4775_72h.bam > /home/adrian/projects/reynisfjara/data/vcf/a4775_72h.bam.vcf\n",
      "\n"
     ]
    },
    {
     "name": "stderr",
     "output_type": "stream",
     "text": [
      "1474.49user 4.68system 24:39.62elapsed 99%CPU (0avgtext+0avgdata 305608maxresident)k\n",
      "10966088inputs+42872outputs (0major+83328minor)pagefaults 0swaps\n"
     ]
    },
    {
     "name": "stdout",
     "output_type": "stream",
     "text": [
      "\n",
      "time /home/adrian/software/freebayes/freebayes-1.3.6-linux-amd64-static -f /home/adrian/databases/ensembl/mouse/Mus_musculus.GRCm39.cdna.all.fa --min-coverage 25 -F 0.05 --standard-filters --report-genotype-likelihood-max --use-mapping-quality /home/adrian/projects/reynisfjara/data/aggregated_bam/a4776_0h.bam > /home/adrian/projects/reynisfjara/data/vcf/a4776_0h.bam.vcf\n",
      "\n"
     ]
    },
    {
     "name": "stderr",
     "output_type": "stream",
     "text": [
      "1532.69user 4.68system 25:37.78elapsed 99%CPU (0avgtext+0avgdata 319008maxresident)k\n",
      "11734400inputs+50232outputs (0major+86688minor)pagefaults 0swaps\n"
     ]
    },
    {
     "name": "stdout",
     "output_type": "stream",
     "text": [
      "\n",
      "time /home/adrian/software/freebayes/freebayes-1.3.6-linux-amd64-static -f /home/adrian/databases/ensembl/mouse/Mus_musculus.GRCm39.cdna.all.fa --min-coverage 25 -F 0.05 --standard-filters --report-genotype-likelihood-max --use-mapping-quality /home/adrian/projects/reynisfjara/data/aggregated_bam/a4776_48h.bam > /home/adrian/projects/reynisfjara/data/vcf/a4776_48h.bam.vcf\n",
      "\n"
     ]
    },
    {
     "name": "stderr",
     "output_type": "stream",
     "text": [
      "1677.95user 4.97system 28:03.48elapsed 99%CPU (0avgtext+0avgdata 317940maxresident)k\n",
      "12609640inputs+47008outputs (1major+86439minor)pagefaults 0swaps\n"
     ]
    },
    {
     "name": "stdout",
     "output_type": "stream",
     "text": [
      "\n",
      "time /home/adrian/software/freebayes/freebayes-1.3.6-linux-amd64-static -f /home/adrian/databases/ensembl/mouse/Mus_musculus.GRCm39.cdna.all.fa --min-coverage 25 -F 0.05 --standard-filters --report-genotype-likelihood-max --use-mapping-quality /home/adrian/projects/reynisfjara/data/aggregated_bam/a4776_72h.bam > /home/adrian/projects/reynisfjara/data/vcf/a4776_72h.bam.vcf\n",
      "\n"
     ]
    },
    {
     "name": "stderr",
     "output_type": "stream",
     "text": [
      "1704.53user 5.42system 28:30.42elapsed 99%CPU (0avgtext+0avgdata 311300maxresident)k\n",
      "13057272inputs+49032outputs (0major+84818minor)pagefaults 0swaps\n"
     ]
    },
    {
     "name": "stdout",
     "output_type": "stream",
     "text": [
      "\n"
     ]
    },
    {
     "name": "stderr",
     "output_type": "stream",
     "text": [
      "1547.92user 4.61system 25:52.88elapsed 99%CPU (0avgtext+0avgdata 308988maxresident)k\n",
      "11468192inputs+42912outputs (0major+84198minor)pagefaults 0swaps\n"
     ]
    },
    {
     "name": "stdout",
     "output_type": "stream",
     "text": [
      "\n"
     ]
    },
    {
     "name": "stderr",
     "output_type": "stream",
     "text": [
      "1348.16user 4.28system 22:32.90elapsed 99%CPU (0avgtext+0avgdata 296576maxresident)k\n",
      "11347672inputs+41672outputs (0major+81081minor)pagefaults 0swaps\n"
     ]
    },
    {
     "name": "stdout",
     "output_type": "stream",
     "text": [
      "\n"
     ]
    },
    {
     "name": "stderr",
     "output_type": "stream",
     "text": [
      "1536.84user 4.81system 25:42.25elapsed 99%CPU (0avgtext+0avgdata 321448maxresident)k\n",
      "12862624inputs+47424outputs (0major+87276minor)pagefaults 0swaps\n"
     ]
    },
    {
     "name": "stdout",
     "output_type": "stream",
     "text": [
      "\n"
     ]
    },
    {
     "name": "stderr",
     "output_type": "stream",
     "text": [
      "1704.62user 5.29system 28:30.71elapsed 99%CPU (0avgtext+0avgdata 331156maxresident)k\n",
      "14053400inputs+50848outputs (2major+89752minor)pagefaults 0swaps\n"
     ]
    },
    {
     "name": "stdout",
     "output_type": "stream",
     "text": [
      "\n"
     ]
    },
    {
     "name": "stderr",
     "output_type": "stream",
     "text": [
      "1482.86user 4.83system 24:48.99elapsed 99%CPU (0avgtext+0avgdata 301608maxresident)k\n",
      "12162048inputs+53216outputs (0major+82314minor)pagefaults 0swaps\n"
     ]
    },
    {
     "name": "stdout",
     "output_type": "stream",
     "text": [
      "\n"
     ]
    },
    {
     "name": "stderr",
     "output_type": "stream",
     "text": [
      "1762.77user 5.46system 29:29.60elapsed 99%CPU (0avgtext+0avgdata 326912maxresident)k\n",
      "14638864inputs+57160outputs (0major+88689minor)pagefaults 0swaps\n"
     ]
    }
   ],
   "source": [
    "hydra = multiprocessing.pool.Pool(threads)\n",
    "empty = hydra.map(caller, bam_files)"
   ]
  },
  {
   "cell_type": "code",
   "execution_count": 8,
   "id": "7cd1b9fd-ef4c-4590-b95f-0e4326ca0e8d",
   "metadata": {},
   "outputs": [
    {
     "name": "stdout",
     "output_type": "stream",
     "text": [
      "... done.\n"
     ]
    }
   ],
   "source": [
    "print('... done.')"
   ]
  }
 ],
 "metadata": {
  "kernelspec": {
   "display_name": "Python 3 (ipykernel)",
   "language": "python",
   "name": "python3"
  },
  "language_info": {
   "codemirror_mode": {
    "name": "ipython",
    "version": 3
   },
   "file_extension": ".py",
   "mimetype": "text/x-python",
   "name": "python",
   "nbconvert_exporter": "python",
   "pygments_lexer": "ipython3",
   "version": "3.9.16"
  }
 },
 "nbformat": 4,
 "nbformat_minor": 5
}
