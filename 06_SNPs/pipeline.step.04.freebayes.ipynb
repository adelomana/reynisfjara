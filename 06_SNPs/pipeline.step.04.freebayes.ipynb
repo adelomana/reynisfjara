{
 "cells": [
  {
   "cell_type": "markdown",
   "id": "4eaa69ef-2c6d-4c9e-b81d-aa744da3493a",
   "metadata": {},
   "source": [
    "This pipeline runs freebayes on the sorted, marked duplicates, merged BAM files.\n",
    "We are looking for SNPs supported by 100 reads at least at 5% frequency."
   ]
  },
  {
   "cell_type": "code",
   "execution_count": 1,
   "id": "f9110a5b-1986-4c64-bb77-e4e4df23b157",
   "metadata": {},
   "outputs": [],
   "source": [
    "import os"
   ]
  },
  {
   "cell_type": "code",
   "execution_count": 2,
   "id": "2ac41ca2-cad1-460f-9719-ff5ab64ff988",
   "metadata": {},
   "outputs": [],
   "source": [
    "import multiprocessing, multiprocessing.pool"
   ]
  },
  {
   "cell_type": "markdown",
   "id": "7595517e-96e6-4257-941e-e9ae54f01f42",
   "metadata": {},
   "source": [
    "# user-defined variables"
   ]
  },
  {
   "cell_type": "code",
   "execution_count": 3,
   "id": "bf4cf74a-19d0-43b2-83ec-72cf2b104a7c",
   "metadata": {},
   "outputs": [],
   "source": [
    "bam_top_aggregated = '/home/adrian/projects/reynisfjara/results/aggregated_bam/'\n",
    "vcf_folder = '/home/adrian/projects/reynisfjara/results/vcf/'\n",
    "reference = '/home/adrian/databases/ensembl/mouse/Mus_musculus.GRCm39.cdna.all.fa'\n",
    "executable_file = '/home/adrian/software/freebayes/freebayes-1.3.6-linux-amd64-static'"
   ]
  },
  {
   "cell_type": "code",
   "execution_count": 4,
   "id": "a806fc37-22c7-4839-9788-6811bdfd0cd5",
   "metadata": {},
   "outputs": [],
   "source": [
    "threads = 12"
   ]
  },
  {
   "cell_type": "markdown",
   "id": "0604ae95-c9a0-4e56-b6a7-528214bbbd25",
   "metadata": {},
   "source": [
    "# read data"
   ]
  },
  {
   "cell_type": "code",
   "execution_count": 5,
   "id": "0b3d1f68-7a06-4ffa-8ff5-e0fea7bcfa78",
   "metadata": {},
   "outputs": [
    {
     "name": "stdout",
     "output_type": "stream",
     "text": [
      "['a3922_0h.bam', 'a3922_48h.bam', 'a3922_72h.bam', 'a4774_0h.bam', 'a4774_48h.bam', 'a4774_72h.bam', 'a4775_0h.bam', 'a4775_48h.bam', 'a4775_72h.bam', 'a4776_0h.bam', 'a4776_48h.bam', 'a4776_72h.bam']\n",
      "12\n"
     ]
    }
   ],
   "source": [
    "bam_files = os.listdir(bam_top_aggregated)\n",
    "bam_files.sort()\n",
    "print(bam_files)\n",
    "print(len(bam_files))"
   ]
  },
  {
   "cell_type": "markdown",
   "id": "098d44a6-ea25-441c-b15f-528bfcf8f3ef",
   "metadata": {},
   "source": [
    "# call freebayes"
   ]
  },
  {
   "cell_type": "markdown",
   "id": "234a4bde-cb7b-4eb7-9418-ea760667ab1e",
   "metadata": {},
   "source": [
    "### feedback\n",
    "\n",
    "Just found the document : according to this alignemen,t on the IGV, there was 17 000 reads at this exact location, as you can see in the joint picture."
   ]
  },
  {
   "cell_type": "raw",
   "id": "92470dc9-b599-43bc-bff6-5f32ac93b685",
   "metadata": {},
   "source": [
    "(base) drangajokull 2023-05-24 10:46:32 ~/databases/ensembl/mouse : grep 'gene_symbol:Mitf' Mus_musculus.GRCm39.cdna.all.fa\n",
    ">ENSMUST00000203884.3 cdna chromosome:GRCm39:6:97784013:97995554:1 gene:ENSMUSG00000035158.16 gene_biotype:protein_coding transcript_biotype:protein_coding gene_symbol:Mitf description:melanogenesis associated transcription factor [Source:MGI Symbol;Acc:MGI:104554]\n",
    ">ENSMUST00000148233.2 cdna chromosome:GRCm39:6:97784019:97919140:1 gene:ENSMUSG00000035158.16 gene_biotype:protein_coding transcript_biotype:retained_intron gene_symbol:Mitf description:melanogenesis associated transcription factor [Source:MGI Symbol;Acc:MGI:104554]\n",
    ">ENSMUST00000043637.14 cdna chromosome:GRCm39:6:97784019:97998310:1 gene:ENSMUSG00000035158.16 gene_biotype:protein_coding transcript_biotype:protein_coding gene_symbol:Mitf description:melanogenesis associated transcription factor [Source:MGI Symbol;Acc:MGI:104554]\n",
    ">ENSMUST00000101123.10 cdna chromosome:GRCm39:6:97906760:97995668:1 gene:ENSMUSG00000035158.16 gene_biotype:protein_coding transcript_biotype:protein_coding gene_symbol:Mitf description:melanogenesis associated transcription factor [Source:MGI Symbol;Acc:MGI:104554]\n",
    ">ENSMUST00000113339.8 cdna chromosome:GRCm39:6:97917879:97995668:1 gene:ENSMUSG00000035158.16 gene_biotype:protein_coding transcript_biotype:protein_coding gene_symbol:Mitf description:melanogenesis associated transcription factor [Source:MGI Symbol;Acc:MGI:104554]\n",
    ">ENSMUST00000043628.13 cdna chromosome:GRCm39:6:97968753:97995668:1 gene:ENSMUSG00000035158.16 gene_biotype:protein_coding transcript_biotype:protein_coding gene_symbol:Mitf description:melanogenesis associated transcription factor [Source:MGI Symbol;Acc:MGI:104554]\n",
    ">ENSMUST00000139462.2 cdna chromosome:GRCm39:6:97968780:97995458:1 gene:ENSMUSG00000035158.16 gene_biotype:protein_coding transcript_biotype:nonsense_mediated_decay gene_symbol:Mitf description:melanogenesis associated transcription factor [Source:MGI Symbol;Acc:MGI:104554]\n",
    ">ENSMUST00000203938.2 cdna chromosome:GRCm39:6:97968882:97995136:1 gene:ENSMUSG00000035158.16 gene_biotype:protein_coding transcript_biotype:protein_coding gene_symbol:Mitf description:melanogenesis associated transcription factor [Source:MGI Symbol;Acc:MGI:104554]\n",
    "(base) drangajokull 2023-05-24 10:47:12 ~/databases/ensembl/mouse : grep 'gene_symbol:Mitf' Mus_musculus.GRCm39.cdna.all.fa | wc -l\n",
    "8"
   ]
  },
  {
   "cell_type": "markdown",
   "id": "1afcdcfb-79b6-4f81-b5ba-1cb4715920f5",
   "metadata": {},
   "source": [
    "# call in a parallel mode"
   ]
  },
  {
   "cell_type": "code",
   "execution_count": 6,
   "id": "98088c31-8f03-48ff-b0e0-bb6faac2a3ab",
   "metadata": {},
   "outputs": [],
   "source": [
    "def caller(bam_file):\n",
    "    \n",
    "    # run01\n",
    "    cmd = 'time {} -f {} --min-coverage 25 -F 0.05 --standard-filters --report-genotype-likelihood-max --use-mapping-quality {}{} > {}{}.vcf'.format(executable_file, reference, bam_top_aggregated, bam_file, vcf_folder, bam_file)\n",
    "    \n",
    "    print(cmd)\n",
    "    print()\n",
    "    os.system(cmd)\n",
    "    print()\n",
    "    \n",
    "    return None"
   ]
  },
  {
   "cell_type": "code",
   "execution_count": 7,
   "id": "9b6ea9b8-2b13-4957-bfd4-d6633682aae8",
   "metadata": {},
   "outputs": [
    {
     "name": "stdout",
     "output_type": "stream",
     "text": [
      "time /home/adrian/software/freebayes/freebayes-1.3.6-linux-amd64-static -f /home/adrian/databases/ensembl/mouse/Mus_musculus.GRCm39.cdna.all.fa --min-coverage 25 -F 0.05 /home/adrian/projects/reynisfjara/results/aggregated_bam/a4774_48h.bam > /home/adrian/projects/reynisfjara/results/vcf/a4774_48h.bam.vcftime /home/adrian/software/freebayes/freebayes-1.3.6-linux-amd64-static -f /home/adrian/databases/ensembl/mouse/Mus_musculus.GRCm39.cdna.all.fa --min-coverage 25 -F 0.05 /home/adrian/projects/reynisfjara/results/aggregated_bam/a3922_0h.bam > /home/adrian/projects/reynisfjara/results/vcf/a3922_0h.bam.vcftime /home/adrian/software/freebayes/freebayes-1.3.6-linux-amd64-static -f /home/adrian/databases/ensembl/mouse/Mus_musculus.GRCm39.cdna.all.fa --min-coverage 25 -F 0.05 /home/adrian/projects/reynisfjara/results/aggregated_bam/a4774_0h.bam > /home/adrian/projects/reynisfjara/results/vcf/a4774_0h.bam.vcftime /home/adrian/software/freebayes/freebayes-1.3.6-linux-amd64-static -f /home/adrian/databases/ensembl/mouse/Mus_musculus.GRCm39.cdna.all.fa --min-coverage 25 -F 0.05 /home/adrian/projects/reynisfjara/results/aggregated_bam/a3922_72h.bam > /home/adrian/projects/reynisfjara/results/vcf/a3922_72h.bam.vcftime /home/adrian/software/freebayes/freebayes-1.3.6-linux-amd64-static -f /home/adrian/databases/ensembl/mouse/Mus_musculus.GRCm39.cdna.all.fa --min-coverage 25 -F 0.05 /home/adrian/projects/reynisfjara/results/aggregated_bam/a3922_48h.bam > /home/adrian/projects/reynisfjara/results/vcf/a3922_48h.bam.vcftime /home/adrian/software/freebayes/freebayes-1.3.6-linux-amd64-static -f /home/adrian/databases/ensembl/mouse/Mus_musculus.GRCm39.cdna.all.fa --min-coverage 25 -F 0.05 /home/adrian/projects/reynisfjara/results/aggregated_bam/a4774_72h.bam > /home/adrian/projects/reynisfjara/results/vcf/a4774_72h.bam.vcftime /home/adrian/software/freebayes/freebayes-1.3.6-linux-amd64-static -f /home/adrian/databases/ensembl/mouse/Mus_musculus.GRCm39.cdna.all.fa --min-coverage 25 -F 0.05 /home/adrian/projects/reynisfjara/results/aggregated_bam/a4775_0h.bam > /home/adrian/projects/reynisfjara/results/vcf/a4775_0h.bam.vcf\n",
      "\n",
      "\n",
      "\n",
      "\n",
      "\n",
      "time /home/adrian/software/freebayes/freebayes-1.3.6-linux-amd64-static -f /home/adrian/databases/ensembl/mouse/Mus_musculus.GRCm39.cdna.all.fa --min-coverage 25 -F 0.05 /home/adrian/projects/reynisfjara/results/aggregated_bam/a4775_72h.bam > /home/adrian/projects/reynisfjara/results/vcf/a4775_72h.bam.vcf\n",
      "\n",
      "\n",
      "time /home/adrian/software/freebayes/freebayes-1.3.6-linux-amd64-static -f /home/adrian/databases/ensembl/mouse/Mus_musculus.GRCm39.cdna.all.fa --min-coverage 25 -F 0.05 /home/adrian/projects/reynisfjara/results/aggregated_bam/a4776_0h.bam > /home/adrian/projects/reynisfjara/results/vcf/a4776_0h.bam.vcf\n",
      "time /home/adrian/software/freebayes/freebayes-1.3.6-linux-amd64-static -f /home/adrian/databases/ensembl/mouse/Mus_musculus.GRCm39.cdna.all.fa --min-coverage 25 -F 0.05 /home/adrian/projects/reynisfjara/results/aggregated_bam/a4776_48h.bam > /home/adrian/projects/reynisfjara/results/vcf/a4776_48h.bam.vcf\n",
      "time /home/adrian/software/freebayes/freebayes-1.3.6-linux-amd64-static -f /home/adrian/databases/ensembl/mouse/Mus_musculus.GRCm39.cdna.all.fa --min-coverage 25 -F 0.05 /home/adrian/projects/reynisfjara/results/aggregated_bam/a4775_48h.bam > /home/adrian/projects/reynisfjara/results/vcf/a4775_48h.bam.vcf\n",
      "time /home/adrian/software/freebayes/freebayes-1.3.6-linux-amd64-static -f /home/adrian/databases/ensembl/mouse/Mus_musculus.GRCm39.cdna.all.fa --min-coverage 25 -F 0.05 /home/adrian/projects/reynisfjara/results/aggregated_bam/a4776_72h.bam > /home/adrian/projects/reynisfjara/results/vcf/a4776_72h.bam.vcf\n",
      "\n",
      "\n",
      "\n",
      "\n",
      "\n",
      "\n",
      "\n",
      "\n",
      "\n",
      "\n",
      "\n",
      "\n"
     ]
    },
    {
     "name": "stderr",
     "output_type": "stream",
     "text": [
      "2002.15user 8.34system 56:06.52elapsed 59%CPU (0avgtext+0avgdata 265348maxresident)k\n",
      "10656440inputs+90888outputs (33major+73429minor)pagefaults 0swaps\n"
     ]
    },
    {
     "name": "stdout",
     "output_type": "stream",
     "text": [
      "\n"
     ]
    },
    {
     "name": "stderr",
     "output_type": "stream",
     "text": [
      "2326.78user 8.39system 1:04:30elapsed 60%CPU (0avgtext+0avgdata 298132maxresident)k\n",
      "10802200inputs+78032outputs (30major+81493minor)pagefaults 0swaps\n"
     ]
    },
    {
     "name": "stdout",
     "output_type": "stream",
     "text": [
      "\n"
     ]
    },
    {
     "name": "stderr",
     "output_type": "stream",
     "text": [
      "2362.27user 8.69system 1:04:45elapsed 61%CPU (0avgtext+0avgdata 299072maxresident)k\n",
      "11675120inputs+84712outputs (216major+82057minor)pagefaults 0swaps\n"
     ]
    },
    {
     "name": "stdout",
     "output_type": "stream",
     "text": [
      "\n"
     ]
    },
    {
     "name": "stderr",
     "output_type": "stream",
     "text": [
      "2379.89user 8.44system 1:05:51elapsed 60%CPU (0avgtext+0avgdata 305744maxresident)k\n",
      "11639120inputs+80656outputs (149major+83567minor)pagefaults 0swaps\n"
     ]
    },
    {
     "name": "stdout",
     "output_type": "stream",
     "text": [
      "\n"
     ]
    },
    {
     "name": "stderr",
     "output_type": "stream",
     "text": [
      "2491.74user 9.08system 1:07:21elapsed 61%CPU (0avgtext+0avgdata 309624maxresident)k\n",
      "12067784inputs+80712outputs (134major+84484minor)pagefaults 0swaps\n"
     ]
    },
    {
     "name": "stdout",
     "output_type": "stream",
     "text": [
      "\n"
     ]
    },
    {
     "name": "stderr",
     "output_type": "stream",
     "text": [
      "2494.70user 9.60system 1:07:25elapsed 61%CPU (0avgtext+0avgdata 301640maxresident)k\n",
      "12133336inputs+105592outputs (150major+82565minor)pagefaults 0swaps\n"
     ]
    },
    {
     "name": "stdout",
     "output_type": "stream",
     "text": [
      "\n"
     ]
    },
    {
     "name": "stderr",
     "output_type": "stream",
     "text": [
      "2530.00user 8.98system 1:08:06elapsed 62%CPU (0avgtext+0avgdata 320532maxresident)k\n",
      "12446064inputs+98320outputs (162major+87384minor)pagefaults 0swaps\n"
     ]
    },
    {
     "name": "stdout",
     "output_type": "stream",
     "text": [
      "\n"
     ]
    },
    {
     "name": "stderr",
     "output_type": "stream",
     "text": [
      "2634.20user 9.88system 1:09:36elapsed 63%CPU (0avgtext+0avgdata 322904maxresident)k\n",
      "12786248inputs+91592outputs (140major+88094minor)pagefaults 0swaps\n"
     ]
    },
    {
     "name": "stdout",
     "output_type": "stream",
     "text": [
      "\n"
     ]
    },
    {
     "name": "stderr",
     "output_type": "stream",
     "text": [
      "2726.05user 9.33system 1:11:44elapsed 63%CPU (0avgtext+0avgdata 319580maxresident)k\n",
      "13163952inputs+89856outputs (113major+86954minor)pagefaults 0swaps\n"
     ]
    },
    {
     "name": "stdout",
     "output_type": "stream",
     "text": [
      "\n"
     ]
    },
    {
     "name": "stderr",
     "output_type": "stream",
     "text": [
      "2748.96user 9.75system 1:12:16elapsed 63%CPU (0avgtext+0avgdata 312904maxresident)k\n",
      "13661472inputs+94592outputs (79major+85438minor)pagefaults 0swaps\n"
     ]
    },
    {
     "name": "stdout",
     "output_type": "stream",
     "text": [
      "\n"
     ]
    },
    {
     "name": "stderr",
     "output_type": "stream",
     "text": [
      "2830.94user 9.73system 1:13:07elapsed 64%CPU (0avgtext+0avgdata 332772maxresident)k\n",
      "14008200inputs+100016outputs (67major+90246minor)pagefaults 0swaps\n"
     ]
    },
    {
     "name": "stdout",
     "output_type": "stream",
     "text": [
      "\n"
     ]
    },
    {
     "name": "stderr",
     "output_type": "stream",
     "text": [
      "2962.47user 10.33system 1:15:52elapsed 65%CPU (0avgtext+0avgdata 328760maxresident)k\n",
      "14555040inputs+112120outputs (180major+89569minor)pagefaults 0swaps\n"
     ]
    }
   ],
   "source": [
    "hydra = multiprocessing.pool.Pool(threads)\n",
    "empty = hydra.map(caller, bam_files)"
   ]
  },
  {
   "cell_type": "code",
   "execution_count": 8,
   "id": "7cd1b9fd-ef4c-4590-b95f-0e4326ca0e8d",
   "metadata": {},
   "outputs": [
    {
     "name": "stdout",
     "output_type": "stream",
     "text": [
      "... done.\n"
     ]
    }
   ],
   "source": [
    "print('... done.')"
   ]
  }
 ],
 "metadata": {
  "kernelspec": {
   "display_name": "Python 3 (ipykernel)",
   "language": "python",
   "name": "python3"
  },
  "language_info": {
   "codemirror_mode": {
    "name": "ipython",
    "version": 3
   },
   "file_extension": ".py",
   "mimetype": "text/x-python",
   "name": "python",
   "nbconvert_exporter": "python",
   "pygments_lexer": "ipython3",
   "version": "3.9.16"
  }
 },
 "nbformat": 4,
 "nbformat_minor": 5
}
