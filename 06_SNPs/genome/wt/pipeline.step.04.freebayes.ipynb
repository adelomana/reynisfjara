{
 "cells": [
  {
   "cell_type": "markdown",
   "id": "4eaa69ef-2c6d-4c9e-b81d-aa744da3493a",
   "metadata": {},
   "source": [
    "This pipeline runs freebayes on the sorted, marked duplicates, merged BAM files.\n",
    "We are looking for SNPs supported by 100 reads at least at 5% frequency."
   ]
  },
  {
   "cell_type": "code",
   "execution_count": 1,
   "id": "f9110a5b-1986-4c64-bb77-e4e4df23b157",
   "metadata": {},
   "outputs": [],
   "source": [
    "import os"
   ]
  },
  {
   "cell_type": "code",
   "execution_count": 2,
   "id": "2ac41ca2-cad1-460f-9719-ff5ab64ff988",
   "metadata": {},
   "outputs": [],
   "source": [
    "import multiprocessing, multiprocessing.pool"
   ]
  },
  {
   "cell_type": "markdown",
   "id": "7595517e-96e6-4257-941e-e9ae54f01f42",
   "metadata": {},
   "source": [
    "# user-defined variables"
   ]
  },
  {
   "cell_type": "code",
   "execution_count": 3,
   "id": "bf4cf74a-19d0-43b2-83ec-72cf2b104a7c",
   "metadata": {},
   "outputs": [],
   "source": [
    "bam_top_folder = '/home/adrian/projects/reynisfjara/results/bam_genome/'\n",
    "vcf_folder = '/home/adrian/projects/reynisfjara/results/vcf/'\n",
    "reference = '/home/adrian/databases/ensembl/mouse_genome/Mus_musculus.GRCm39.dna.toplevel.fa'\n",
    "executable_file = '/home/adrian/software/freebayes/freebayes-1.3.6-linux-amd64-static'"
   ]
  },
  {
   "cell_type": "code",
   "execution_count": 4,
   "id": "a806fc37-22c7-4839-9788-6811bdfd0cd5",
   "metadata": {},
   "outputs": [],
   "source": [
    "threads = 12"
   ]
  },
  {
   "cell_type": "markdown",
   "id": "0604ae95-c9a0-4e56-b6a7-528214bbbd25",
   "metadata": {},
   "source": [
    "# read data"
   ]
  },
  {
   "cell_type": "code",
   "execution_count": 5,
   "id": "0b3d1f68-7a06-4ffa-8ff5-e0fea7bcfa78",
   "metadata": {},
   "outputs": [
    {
     "name": "stdout",
     "output_type": "stream",
     "text": [
      "['a3922_0h', 'a3922_48h', 'a3922_72h', 'a4774_0h', 'a4774_48h', 'a4774_72h', 'a4775_0h', 'a4775_48h', 'a4775_72h', 'a4776_0h', 'a4776_48h', 'a4776_72h']\n"
     ]
    }
   ],
   "source": [
    "bam_folders = os.listdir(bam_top_folder)\n",
    "samples = ['_'.join(element.split('_')[:2]) for element in bam_folders]\n",
    "samples = list(set(samples))\n",
    "samples.sort()\n",
    "print(samples)"
   ]
  },
  {
   "cell_type": "markdown",
   "id": "07537330-e996-44ec-af29-6ffc63e26f80",
   "metadata": {},
   "source": [
    "# define process"
   ]
  },
  {
   "cell_type": "code",
   "execution_count": 6,
   "id": "98088c31-8f03-48ff-b0e0-bb6faac2a3ab",
   "metadata": {},
   "outputs": [],
   "source": [
    "def caller(sample):\n",
    "        \n",
    "    target_folders = [element for element in bam_folders if sample in element]\n",
    "    target_folders.sort()\n",
    "\n",
    "    target_bams = ['{}{}/positionsort.bam'.format(bam_top_folder, element) for element in target_folders]\n",
    "    target_bams_string = ' '.join(target_bams)\n",
    "\n",
    "    cmd = 'time {} -f {} --min-coverage 25 -F 0.05 {} > {}{}.vcf'.format(executable_file, \n",
    "    reference, target_bams_string, vcf_folder, sample\n",
    "    )\n",
    "\n",
    "    print(cmd)\n",
    "    os.system(cmd)\n",
    "    print()\n",
    "    \n",
    "    return None"
   ]
  },
  {
   "cell_type": "markdown",
   "id": "20b0c3a6-32f0-4fd5-bc9e-7ba40f0594af",
   "metadata": {},
   "source": [
    "# call freebayes in sequential mode"
   ]
  },
  {
   "cell_type": "code",
   "execution_count": 7,
   "id": "de8d626f-cc1b-47e6-b087-7c3edbc30ed4",
   "metadata": {},
   "outputs": [],
   "source": [
    "# for sample in samples:\n",
    "#     caller(sample)"
   ]
  },
  {
   "cell_type": "markdown",
   "id": "1afcdcfb-79b6-4f81-b5ba-1cb4715920f5",
   "metadata": {},
   "source": [
    "# call freebaues in parallel mode"
   ]
  },
  {
   "cell_type": "code",
   "execution_count": 8,
   "id": "9b6ea9b8-2b13-4957-bfd4-d6633682aae8",
   "metadata": {},
   "outputs": [
    {
     "name": "stdout",
     "output_type": "stream",
     "text": [
      "time /home/adrian/software/freebayes/freebayes-1.3.6-linux-amd64-static -f /home/adrian/databases/ensembl/mouse_genome/Mus_musculus.GRCm39.dna.toplevel.fa --min-coverage 25 -F 0.05 /home/adrian/projects/reynisfjara/results/bam_genome/a3922_48h_1/positionsort.bam /home/adrian/projects/reynisfjara/results/bam_genome/a3922_48h_2/positionsort.bam /home/adrian/projects/reynisfjara/results/bam_genome/a3922_48h_3/positionsort.bam > /home/adrian/projects/reynisfjara/results/vcf/a3922_48h.vcftime /home/adrian/software/freebayes/freebayes-1.3.6-linux-amd64-static -f /home/adrian/databases/ensembl/mouse_genome/Mus_musculus.GRCm39.dna.toplevel.fa --min-coverage 25 -F 0.05 /home/adrian/projects/reynisfjara/results/bam_genome/a3922_0h_1/positionsort.bam /home/adrian/projects/reynisfjara/results/bam_genome/a3922_0h_2/positionsort.bam /home/adrian/projects/reynisfjara/results/bam_genome/a3922_0h_3/positionsort.bam > /home/adrian/projects/reynisfjara/results/vcf/a3922_0h.vcftime /home/adrian/software/freebayes/freebayes-1.3.6-linux-amd64-static -f /home/adrian/databases/ensembl/mouse_genome/Mus_musculus.GRCm39.dna.toplevel.fa --min-coverage 25 -F 0.05 /home/adrian/projects/reynisfjara/results/bam_genome/a3922_72h_1/positionsort.bam /home/adrian/projects/reynisfjara/results/bam_genome/a3922_72h_2/positionsort.bam /home/adrian/projects/reynisfjara/results/bam_genome/a3922_72h_3/positionsort.bam > /home/adrian/projects/reynisfjara/results/vcf/a3922_72h.vcftime /home/adrian/software/freebayes/freebayes-1.3.6-linux-amd64-static -f /home/adrian/databases/ensembl/mouse_genome/Mus_musculus.GRCm39.dna.toplevel.fa --min-coverage 25 -F 0.05 /home/adrian/projects/reynisfjara/results/bam_genome/a4774_0h_1/positionsort.bam /home/adrian/projects/reynisfjara/results/bam_genome/a4774_0h_2/positionsort.bam /home/adrian/projects/reynisfjara/results/bam_genome/a4774_0h_3/positionsort.bam > /home/adrian/projects/reynisfjara/results/vcf/a4774_0h.vcftime /home/adrian/software/freebayes/freebayes-1.3.6-linux-amd64-static -f /home/adrian/databases/ensembl/mouse_genome/Mus_musculus.GRCm39.dna.toplevel.fa --min-coverage 25 -F 0.05 /home/adrian/projects/reynisfjara/results/bam_genome/a4774_48h_1/positionsort.bam /home/adrian/projects/reynisfjara/results/bam_genome/a4774_48h_2/positionsort.bam /home/adrian/projects/reynisfjara/results/bam_genome/a4774_48h_3/positionsort.bam > /home/adrian/projects/reynisfjara/results/vcf/a4774_48h.vcftime /home/adrian/software/freebayes/freebayes-1.3.6-linux-amd64-static -f /home/adrian/databases/ensembl/mouse_genome/Mus_musculus.GRCm39.dna.toplevel.fa --min-coverage 25 -F 0.05 /home/adrian/projects/reynisfjara/results/bam_genome/a4774_72h_1/positionsort.bam /home/adrian/projects/reynisfjara/results/bam_genome/a4774_72h_2/positionsort.bam > /home/adrian/projects/reynisfjara/results/vcf/a4774_72h.vcftime /home/adrian/software/freebayes/freebayes-1.3.6-linux-amd64-static -f /home/adrian/databases/ensembl/mouse_genome/Mus_musculus.GRCm39.dna.toplevel.fa --min-coverage 25 -F 0.05 /home/adrian/projects/reynisfjara/results/bam_genome/a4775_72h_1/positionsort.bam /home/adrian/projects/reynisfjara/results/bam_genome/a4775_72h_2/positionsort.bam /home/adrian/projects/reynisfjara/results/bam_genome/a4775_72h_3/positionsort.bam > /home/adrian/projects/reynisfjara/results/vcf/a4775_72h.vcftime /home/adrian/software/freebayes/freebayes-1.3.6-linux-amd64-static -f /home/adrian/databases/ensembl/mouse_genome/Mus_musculus.GRCm39.dna.toplevel.fa --min-coverage 25 -F 0.05 /home/adrian/projects/reynisfjara/results/bam_genome/a4775_0h_1/positionsort.bam /home/adrian/projects/reynisfjara/results/bam_genome/a4775_0h_2/positionsort.bam /home/adrian/projects/reynisfjara/results/bam_genome/a4775_0h_3/positionsort.bam > /home/adrian/projects/reynisfjara/results/vcf/a4775_0h.vcftime /home/adrian/software/freebayes/freebayes-1.3.6-linux-amd64-static -f /home/adrian/databases/ensembl/mouse_genome/Mus_musculus.GRCm39.dna.toplevel.fa --min-coverage 25 -F 0.05 /home/adrian/projects/reynisfjara/results/bam_genome/a4775_48h_1/positionsort.bam /home/adrian/projects/reynisfjara/results/bam_genome/a4775_48h_2/positionsort.bam /home/adrian/projects/reynisfjara/results/bam_genome/a4775_48h_3/positionsort.bam > /home/adrian/projects/reynisfjara/results/vcf/a4775_48h.vcftime /home/adrian/software/freebayes/freebayes-1.3.6-linux-amd64-static -f /home/adrian/databases/ensembl/mouse_genome/Mus_musculus.GRCm39.dna.toplevel.fa --min-coverage 25 -F 0.05 /home/adrian/projects/reynisfjara/results/bam_genome/a4776_48h_1/positionsort.bam /home/adrian/projects/reynisfjara/results/bam_genome/a4776_48h_2/positionsort.bam /home/adrian/projects/reynisfjara/results/bam_genome/a4776_48h_3/positionsort.bam > /home/adrian/projects/reynisfjara/results/vcf/a4776_48h.vcftime /home/adrian/software/freebayes/freebayes-1.3.6-linux-amd64-static -f /home/adrian/databases/ensembl/mouse_genome/Mus_musculus.GRCm39.dna.toplevel.fa --min-coverage 25 -F 0.05 /home/adrian/projects/reynisfjara/results/bam_genome/a4776_0h_1/positionsort.bam /home/adrian/projects/reynisfjara/results/bam_genome/a4776_0h_2/positionsort.bam /home/adrian/projects/reynisfjara/results/bam_genome/a4776_0h_3/positionsort.bam > /home/adrian/projects/reynisfjara/results/vcf/a4776_0h.vcf\n",
      "\n",
      "time /home/adrian/software/freebayes/freebayes-1.3.6-linux-amd64-static -f /home/adrian/databases/ensembl/mouse_genome/Mus_musculus.GRCm39.dna.toplevel.fa --min-coverage 25 -F 0.05 /home/adrian/projects/reynisfjara/results/bam_genome/a4776_72h_1/positionsort.bam /home/adrian/projects/reynisfjara/results/bam_genome/a4776_72h_2/positionsort.bam /home/adrian/projects/reynisfjara/results/bam_genome/a4776_72h_3/positionsort.bam > /home/adrian/projects/reynisfjara/results/vcf/a4776_72h.vcf\n",
      "\n",
      "\n",
      "\n",
      "\n",
      "\n",
      "\n",
      "\n",
      "\n",
      "\n",
      "\n"
     ]
    },
    {
     "name": "stderr",
     "output_type": "stream",
     "text": [
      "5474.29user 13.65system 1:31:28elapsed 99%CPU (0avgtext+0avgdata 2095576maxresident)k\n",
      "19917360inputs+122624outputs (17major+2813770minor)pagefaults 0swaps\n"
     ]
    },
    {
     "name": "stdout",
     "output_type": "stream",
     "text": [
      "\n"
     ]
    },
    {
     "name": "stderr",
     "output_type": "stream",
     "text": [
      "6291.72user 13.61system 1:45:06elapsed 99%CPU (0avgtext+0avgdata 2484744maxresident)k\n",
      "16974528inputs+114224outputs (16major+3023794minor)pagefaults 0swaps\n"
     ]
    },
    {
     "name": "stdout",
     "output_type": "stream",
     "text": [
      "\n"
     ]
    },
    {
     "name": "stderr",
     "output_type": "stream",
     "text": [
      "6457.95user 14.29system 1:47:52elapsed 99%CPU (0avgtext+0avgdata 2204012maxresident)k\n",
      "16753528inputs+110968outputs (16major+2966810minor)pagefaults 0swaps\n"
     ]
    },
    {
     "name": "stdout",
     "output_type": "stream",
     "text": [
      "\n"
     ]
    },
    {
     "name": "stderr",
     "output_type": "stream",
     "text": [
      "6622.74user 14.86system 1:50:39elapsed 99%CPU (0avgtext+0avgdata 2186128maxresident)k\n",
      "18020136inputs+126304outputs (17major+3136501minor)pagefaults 0swaps\n"
     ]
    },
    {
     "name": "stdout",
     "output_type": "stream",
     "text": [
      "\n"
     ]
    },
    {
     "name": "stderr",
     "output_type": "stream",
     "text": [
      "6924.08user 13.65system 1:55:38elapsed 99%CPU (0avgtext+0avgdata 2982368maxresident)k\n",
      "17938616inputs+118424outputs (17major+2680366minor)pagefaults 0swaps\n"
     ]
    },
    {
     "name": "stdout",
     "output_type": "stream",
     "text": [
      "\n"
     ]
    },
    {
     "name": "stderr",
     "output_type": "stream",
     "text": [
      "7073.39user 13.85system 1:58:07elapsed 99%CPU (0avgtext+0avgdata 2475156maxresident)k\n",
      "18984368inputs+124256outputs (17major+2784053minor)pagefaults 0swaps\n"
     ]
    },
    {
     "name": "stdout",
     "output_type": "stream",
     "text": [
      "\n"
     ]
    },
    {
     "name": "stderr",
     "output_type": "stream",
     "text": [
      "7386.09user 13.36system 2:03:20elapsed 99%CPU (0avgtext+0avgdata 2875616maxresident)k\n",
      "19388344inputs+126024outputs (14major+1885613minor)pagefaults 0swaps\n"
     ]
    },
    {
     "name": "stdout",
     "output_type": "stream",
     "text": [
      "\n"
     ]
    },
    {
     "name": "stderr",
     "output_type": "stream",
     "text": [
      "7421.12user 14.41system 2:03:56elapsed 99%CPU (0avgtext+0avgdata 2554764maxresident)k\n",
      "20026696inputs+131136outputs (15major+2817467minor)pagefaults 0swaps\n"
     ]
    },
    {
     "name": "stdout",
     "output_type": "stream",
     "text": [
      "\n"
     ]
    },
    {
     "name": "stderr",
     "output_type": "stream",
     "text": [
      "7868.15user 14.27system 2:11:22elapsed 99%CPU (0avgtext+0avgdata 2238572maxresident)k\n",
      "16859512inputs+113400outputs (14major+2144218minor)pagefaults 0swaps\n"
     ]
    },
    {
     "name": "stdout",
     "output_type": "stream",
     "text": [
      "\n"
     ]
    },
    {
     "name": "stderr",
     "output_type": "stream",
     "text": [
      "7868.00user 17.29system 2:11:25elapsed 99%CPU (0avgtext+0avgdata 1816960maxresident)k\n",
      "17057848inputs+131856outputs (16major+3626529minor)pagefaults 0swaps\n"
     ]
    },
    {
     "name": "stdout",
     "output_type": "stream",
     "text": [
      "\n"
     ]
    },
    {
     "name": "stderr",
     "output_type": "stream",
     "text": [
      "8719.22user 15.30system 2:25:35elapsed 99%CPU (0avgtext+0avgdata 2174844maxresident)k\n",
      "21325336inputs+149896outputs (17major+2317990minor)pagefaults 0swaps\n"
     ]
    },
    {
     "name": "stdout",
     "output_type": "stream",
     "text": [
      "\n"
     ]
    },
    {
     "name": "stderr",
     "output_type": "stream",
     "text": [
      "8861.61user 15.91system 2:27:58elapsed 99%CPU (0avgtext+0avgdata 2737308maxresident)k\n",
      "20579936inputs+137944outputs (16major+2648619minor)pagefaults 0swaps\n"
     ]
    }
   ],
   "source": [
    "hydra = multiprocessing.pool.Pool(threads)\n",
    "empty = hydra.map(caller, samples)"
   ]
  },
  {
   "cell_type": "code",
   "execution_count": 9,
   "id": "7cd1b9fd-ef4c-4590-b95f-0e4326ca0e8d",
   "metadata": {},
   "outputs": [
    {
     "name": "stdout",
     "output_type": "stream",
     "text": [
      "... done.\n"
     ]
    }
   ],
   "source": [
    "print('... done.')"
   ]
  }
 ],
 "metadata": {
  "kernelspec": {
   "display_name": "Python 3 (ipykernel)",
   "language": "python",
   "name": "python3"
  },
  "language_info": {
   "codemirror_mode": {
    "name": "ipython",
    "version": 3
   },
   "file_extension": ".py",
   "mimetype": "text/x-python",
   "name": "python",
   "nbconvert_exporter": "python",
   "pygments_lexer": "ipython3",
   "version": "3.9.16"
  }
 },
 "nbformat": 4,
 "nbformat_minor": 5
}
