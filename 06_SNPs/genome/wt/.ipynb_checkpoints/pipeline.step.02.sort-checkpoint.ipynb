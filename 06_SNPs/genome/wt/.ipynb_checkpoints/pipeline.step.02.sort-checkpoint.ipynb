{
 "cells": [
  {
   "cell_type": "markdown",
   "id": "5af3b340",
   "metadata": {},
   "source": [
    "This pipeline sorts and removes duplicates of BAM files."
   ]
  },
  {
   "cell_type": "code",
   "execution_count": 1,
   "id": "01981558",
   "metadata": {},
   "outputs": [],
   "source": [
    "import os"
   ]
  },
  {
   "cell_type": "markdown",
   "id": "304d3d74",
   "metadata": {},
   "source": [
    "# user-defined variables"
   ]
  },
  {
   "cell_type": "code",
   "execution_count": 2,
   "id": "9a76c6b8",
   "metadata": {},
   "outputs": [],
   "source": [
    "bam_top_folder = '/home/adrian/projects/reynisfjara/results/bam_k243r/'"
   ]
  },
  {
   "cell_type": "markdown",
   "id": "41f4280a",
   "metadata": {},
   "source": [
    "# sort and mark duplicates on individual BAM files"
   ]
  },
  {
   "cell_type": "code",
   "execution_count": 3,
   "id": "15e63501",
   "metadata": {},
   "outputs": [],
   "source": [
    "bam_folders = os.listdir(bam_top_folder)\n",
    "bam_folders.sort()"
   ]
  },
  {
   "cell_type": "code",
   "execution_count": 4,
   "id": "947c9fd1-538b-44c6-a91f-56dd52006266",
   "metadata": {},
   "outputs": [
    {
     "name": "stdout",
     "output_type": "stream",
     "text": [
      "time samtools sort -@ 10 -n -o /home/adrian/projects/reynisfjara/results/bam_k243r/a3922_0h_1/namesort.bam /home/adrian/projects/reynisfjara/results/bam_k243r/a3922_0h_1/a3922_0h_1.bam\n"
     ]
    },
    {
     "name": "stderr",
     "output_type": "stream",
     "text": [
      "samtools: /home/adrian/anaconda3/bin/../lib/libtinfow.so.6: no version information available (required by samtools)\n",
      "samtools: /home/adrian/anaconda3/bin/../lib/libncursesw.so.6: no version information available (required by samtools)\n",
      "samtools: /home/adrian/anaconda3/bin/../lib/libncursesw.so.6: no version information available (required by samtools)\n",
      "[bam_sort_core] merging from 2 files and 10 in-memory blocks...\n",
      "770.84user 21.04system 1:36.19elapsed 823%CPU (0avgtext+0avgdata 8808832maxresident)k\n",
      "9878152inputs+17521024outputs (6major+2406577minor)pagefaults 0swaps\n",
      "samtools: /home/adrian/anaconda3/bin/../lib/libtinfow.so.6: no version information available (required by samtools)\n",
      "samtools: /home/adrian/anaconda3/bin/../lib/libncursesw.so.6: no version information available (required by samtools)\n",
      "samtools: /home/adrian/anaconda3/bin/../lib/libncursesw.so.6: no version information available (required by samtools)\n"
     ]
    },
    {
     "name": "stdout",
     "output_type": "stream",
     "text": [
      "time samtools fixmate -@ 10 -m /home/adrian/projects/reynisfjara/results/bam_k243r/a3922_0h_1/namesort.bam /home/adrian/projects/reynisfjara/results/bam_k243r/a3922_0h_1/fixmate.bam\n"
     ]
    },
    {
     "name": "stderr",
     "output_type": "stream",
     "text": [
      "494.86user 10.94system 0:52.44elapsed 964%CPU (0avgtext+0avgdata 45216maxresident)k\n",
      "336inputs+10242776outputs (0major+11995minor)pagefaults 0swaps\n",
      "samtools: /home/adrian/anaconda3/bin/../lib/libtinfow.so.6: no version information available (required by samtools)\n",
      "samtools: /home/adrian/anaconda3/bin/../lib/libncursesw.so.6: no version information available (required by samtools)\n",
      "samtools: /home/adrian/anaconda3/bin/../lib/libncursesw.so.6: no version information available (required by samtools)\n"
     ]
    },
    {
     "name": "stdout",
     "output_type": "stream",
     "text": [
      "time samtools sort -@ 10 -o /home/adrian/projects/reynisfjara/results/bam_k243r/a3922_0h_1/positionsort.bam /home/adrian/projects/reynisfjara/results/bam_k243r/a3922_0h_1/fixmate.bam\n"
     ]
    },
    {
     "name": "stderr",
     "output_type": "stream",
     "text": [
      "[bam_sort_core] merging from 2 files and 10 in-memory blocks...\n",
      "535.51user 15.66system 1:15.66elapsed 728%CPU (0avgtext+0avgdata 8781044maxresident)k\n",
      "344inputs+9278304outputs (0major+2403118minor)pagefaults 0swaps\n",
      "samtools: /home/adrian/anaconda3/bin/../lib/libtinfow.so.6: no version information available (required by samtools)\n",
      "samtools: /home/adrian/anaconda3/bin/../lib/libncursesw.so.6: no version information available (required by samtools)\n",
      "samtools: /home/adrian/anaconda3/bin/../lib/libncursesw.so.6: no version information available (required by samtools)\n"
     ]
    },
    {
     "name": "stdout",
     "output_type": "stream",
     "text": [
      "time samtools markdup -@ 10 -r /home/adrian/projects/reynisfjara/results/bam_k243r/a3922_0h_1/positionsort.bam /home/adrian/projects/reynisfjara/results/bam_k243r/a3922_0h_1/markdup.bam\n"
     ]
    },
    {
     "name": "stderr",
     "output_type": "stream",
     "text": [
      "335.77user 7.49system 1:06.79elapsed 513%CPU (0avgtext+0avgdata 226620maxresident)k\n",
      "56inputs+4068816outputs (0major+57299minor)pagefaults 0swaps\n",
      "samtools: /home/adrian/anaconda3/bin/../lib/libtinfow.so.6: no version information available (required by samtools)\n",
      "samtools: /home/adrian/anaconda3/bin/../lib/libncursesw.so.6: no version information available (required by samtools)\n",
      "samtools: /home/adrian/anaconda3/bin/../lib/libncursesw.so.6: no version information available (required by samtools)\n"
     ]
    },
    {
     "name": "stdout",
     "output_type": "stream",
     "text": [
      "time samtools sort -@ 10 -n -o /home/adrian/projects/reynisfjara/results/bam_k243r/a3922_0h_2/namesort.bam /home/adrian/projects/reynisfjara/results/bam_k243r/a3922_0h_2/a3922_0h_2.bam\n"
     ]
    },
    {
     "name": "stderr",
     "output_type": "stream",
     "text": [
      "[bam_sort_core] merging from 2 files and 10 in-memory blocks...\n",
      "822.00user 21.24system 1:43.76elapsed 812%CPU (0avgtext+0avgdata 8808644maxresident)k\n",
      "10488232inputs+18133264outputs (0major+2424995minor)pagefaults 0swaps\n",
      "samtools: /home/adrian/anaconda3/bin/../lib/libtinfow.so.6: no version information available (required by samtools)\n",
      "samtools: /home/adrian/anaconda3/bin/../lib/libncursesw.so.6: no version information available (required by samtools)\n",
      "samtools: /home/adrian/anaconda3/bin/../lib/libncursesw.so.6: no version information available (required by samtools)\n"
     ]
    },
    {
     "name": "stdout",
     "output_type": "stream",
     "text": [
      "time samtools fixmate -@ 10 -m /home/adrian/projects/reynisfjara/results/bam_k243r/a3922_0h_2/namesort.bam /home/adrian/projects/reynisfjara/results/bam_k243r/a3922_0h_2/fixmate.bam\n"
     ]
    },
    {
     "name": "stderr",
     "output_type": "stream",
     "text": [
      "519.84user 11.58system 0:55.71elapsed 953%CPU (0avgtext+0avgdata 44164maxresident)k\n",
      "472inputs+10871008outputs (0major+11829minor)pagefaults 0swaps\n",
      "samtools: /home/adrian/anaconda3/bin/../lib/libtinfow.so.6: no version information available (required by samtools)\n",
      "samtools: /home/adrian/anaconda3/bin/../lib/libncursesw.so.6: no version information available (required by samtools)\n",
      "samtools: /home/adrian/anaconda3/bin/../lib/libncursesw.so.6: no version information available (required by samtools)\n"
     ]
    },
    {
     "name": "stdout",
     "output_type": "stream",
     "text": [
      "time samtools sort -@ 10 -o /home/adrian/projects/reynisfjara/results/bam_k243r/a3922_0h_2/positionsort.bam /home/adrian/projects/reynisfjara/results/bam_k243r/a3922_0h_2/fixmate.bam\n"
     ]
    },
    {
     "name": "stderr",
     "output_type": "stream",
     "text": [
      "[bam_sort_core] merging from 2 files and 10 in-memory blocks...\n",
      "560.96user 15.53system 1:16.96elapsed 749%CPU (0avgtext+0avgdata 8781052maxresident)k\n",
      "400inputs+9603960outputs (0major+2421389minor)pagefaults 0swaps\n",
      "samtools: /home/adrian/anaconda3/bin/../lib/libtinfow.so.6: no version information available (required by samtools)\n",
      "samtools: /home/adrian/anaconda3/bin/../lib/libncursesw.so.6: no version information available (required by samtools)\n",
      "samtools: /home/adrian/anaconda3/bin/../lib/libncursesw.so.6: no version information available (required by samtools)\n"
     ]
    },
    {
     "name": "stdout",
     "output_type": "stream",
     "text": [
      "time samtools markdup -@ 10 -r /home/adrian/projects/reynisfjara/results/bam_k243r/a3922_0h_2/positionsort.bam /home/adrian/projects/reynisfjara/results/bam_k243r/a3922_0h_2/markdup.bam\n"
     ]
    },
    {
     "name": "stderr",
     "output_type": "stream",
     "text": [
      "360.49user 8.01system 1:13.71elapsed 499%CPU (0avgtext+0avgdata 214112maxresident)k\n",
      "536inputs+4398128outputs (1major+54179minor)pagefaults 0swaps\n",
      "samtools: /home/adrian/anaconda3/bin/../lib/libtinfow.so.6: no version information available (required by samtools)\n",
      "samtools: /home/adrian/anaconda3/bin/../lib/libncursesw.so.6: no version information available (required by samtools)\n",
      "samtools: /home/adrian/anaconda3/bin/../lib/libncursesw.so.6: no version information available (required by samtools)\n"
     ]
    },
    {
     "name": "stdout",
     "output_type": "stream",
     "text": [
      "time samtools sort -@ 10 -n -o /home/adrian/projects/reynisfjara/results/bam_k243r/a3922_0h_3/namesort.bam /home/adrian/projects/reynisfjara/results/bam_k243r/a3922_0h_3/a3922_0h_3.bam\n"
     ]
    },
    {
     "name": "stderr",
     "output_type": "stream",
     "text": [
      "[bam_sort_core] merging from 3 files and 10 in-memory blocks...\n",
      "1103.68user 29.62system 2:21.07elapsed 803%CPU (0avgtext+0avgdata 8808148maxresident)k\n",
      "13469432inputs+25048384outputs (0major+2519078minor)pagefaults 0swaps\n",
      "samtools: /home/adrian/anaconda3/bin/../lib/libtinfow.so.6: no version information available (required by samtools)\n",
      "samtools: /home/adrian/anaconda3/bin/../lib/libncursesw.so.6: no version information available (required by samtools)\n",
      "samtools: /home/adrian/anaconda3/bin/../lib/libncursesw.so.6: no version information available (required by samtools)\n"
     ]
    },
    {
     "name": "stdout",
     "output_type": "stream",
     "text": [
      "time samtools fixmate -@ 10 -m /home/adrian/projects/reynisfjara/results/bam_k243r/a3922_0h_3/namesort.bam /home/adrian/projects/reynisfjara/results/bam_k243r/a3922_0h_3/fixmate.bam\n"
     ]
    },
    {
     "name": "stderr",
     "output_type": "stream",
     "text": [
      "682.05user 14.97system 1:12.88elapsed 956%CPU (0avgtext+0avgdata 45020maxresident)k\n",
      "504inputs+13987920outputs (0major+12009minor)pagefaults 0swaps\n",
      "samtools: /home/adrian/anaconda3/bin/../lib/libtinfow.so.6: no version information available (required by samtools)\n",
      "samtools: /home/adrian/anaconda3/bin/../lib/libncursesw.so.6: no version information available (required by samtools)\n",
      "samtools: /home/adrian/anaconda3/bin/../lib/libncursesw.so.6: no version information available (required by samtools)\n"
     ]
    },
    {
     "name": "stdout",
     "output_type": "stream",
     "text": [
      "time samtools sort -@ 10 -o /home/adrian/projects/reynisfjara/results/bam_k243r/a3922_0h_3/positionsort.bam /home/adrian/projects/reynisfjara/results/bam_k243r/a3922_0h_3/fixmate.bam\n"
     ]
    },
    {
     "name": "stderr",
     "output_type": "stream",
     "text": [
      "[bam_sort_core] merging from 3 files and 10 in-memory blocks...\n",
      "757.15user 21.79system 1:48.14elapsed 720%CPU (0avgtext+0avgdata 8780936maxresident)k\n",
      "480inputs+13295672outputs (0major+2515309minor)pagefaults 0swaps\n",
      "samtools: /home/adrian/anaconda3/bin/../lib/libtinfow.so.6: no version information available (required by samtools)\n",
      "samtools: /home/adrian/anaconda3/bin/../lib/libncursesw.so.6: no version information available (required by samtools)\n",
      "samtools: /home/adrian/anaconda3/bin/../lib/libncursesw.so.6: no version information available (required by samtools)\n"
     ]
    },
    {
     "name": "stdout",
     "output_type": "stream",
     "text": [
      "time samtools markdup -@ 10 -r /home/adrian/projects/reynisfjara/results/bam_k243r/a3922_0h_3/positionsort.bam /home/adrian/projects/reynisfjara/results/bam_k243r/a3922_0h_3/markdup.bam\n"
     ]
    },
    {
     "name": "stderr",
     "output_type": "stream",
     "text": [
      "460.90user 10.97system 1:34.23elapsed 500%CPU (0avgtext+0avgdata 282568maxresident)k\n",
      "560inputs+5383456outputs (1major+71213minor)pagefaults 0swaps\n",
      "samtools: /home/adrian/anaconda3/bin/../lib/libtinfow.so.6: no version information available (required by samtools)\n",
      "samtools: /home/adrian/anaconda3/bin/../lib/libncursesw.so.6: no version information available (required by samtools)\n",
      "samtools: /home/adrian/anaconda3/bin/../lib/libncursesw.so.6: no version information available (required by samtools)\n"
     ]
    },
    {
     "name": "stdout",
     "output_type": "stream",
     "text": [
      "time samtools sort -@ 10 -n -o /home/adrian/projects/reynisfjara/results/bam_k243r/a3922_48h_1/namesort.bam /home/adrian/projects/reynisfjara/results/bam_k243r/a3922_48h_1/a3922_48h_1.bam\n"
     ]
    },
    {
     "name": "stderr",
     "output_type": "stream",
     "text": [
      "[bam_sort_core] merging from 2 files and 10 in-memory blocks...\n",
      "854.76user 22.57system 1:48.73elapsed 806%CPU (0avgtext+0avgdata 8807896maxresident)k\n",
      "10893816inputs+18624832outputs (0major+2434010minor)pagefaults 0swaps\n",
      "samtools: /home/adrian/anaconda3/bin/../lib/libtinfow.so.6: no version information available (required by samtools)\n",
      "samtools: /home/adrian/anaconda3/bin/../lib/libncursesw.so.6: no version information available (required by samtools)\n",
      "samtools: /home/adrian/anaconda3/bin/../lib/libncursesw.so.6: no version information available (required by samtools)\n"
     ]
    },
    {
     "name": "stdout",
     "output_type": "stream",
     "text": [
      "time samtools fixmate -@ 10 -m /home/adrian/projects/reynisfjara/results/bam_k243r/a3922_48h_1/namesort.bam /home/adrian/projects/reynisfjara/results/bam_k243r/a3922_48h_1/fixmate.bam\n"
     ]
    },
    {
     "name": "stderr",
     "output_type": "stream",
     "text": [
      "553.42user 13.56system 1:03.59elapsed 891%CPU (0avgtext+0avgdata 45520maxresident)k\n",
      "360inputs+11302352outputs (0major+11984minor)pagefaults 0swaps\n",
      "samtools: /home/adrian/anaconda3/bin/../lib/libtinfow.so.6: no version information available (required by samtools)\n",
      "samtools: /home/adrian/anaconda3/bin/../lib/libncursesw.so.6: no version information available (required by samtools)\n",
      "samtools: /home/adrian/anaconda3/bin/../lib/libncursesw.so.6: no version information available (required by samtools)\n"
     ]
    },
    {
     "name": "stdout",
     "output_type": "stream",
     "text": [
      "time samtools sort -@ 10 -o /home/adrian/projects/reynisfjara/results/bam_k243r/a3922_48h_1/positionsort.bam /home/adrian/projects/reynisfjara/results/bam_k243r/a3922_48h_1/fixmate.bam\n"
     ]
    },
    {
     "name": "stderr",
     "output_type": "stream",
     "text": [
      "[bam_sort_core] merging from 3 files and 10 in-memory blocks...\n",
      "637.45user 19.54system 1:32.17elapsed 712%CPU (0avgtext+0avgdata 8777592maxresident)k\n",
      "480inputs+12058904outputs (0major+2432159minor)pagefaults 0swaps\n",
      "samtools: /home/adrian/anaconda3/bin/../lib/libtinfow.so.6: no version information available (required by samtools)\n",
      "samtools: /home/adrian/anaconda3/bin/../lib/libncursesw.so.6: no version information available (required by samtools)\n",
      "samtools: /home/adrian/anaconda3/bin/../lib/libncursesw.so.6: no version information available (required by samtools)\n"
     ]
    },
    {
     "name": "stdout",
     "output_type": "stream",
     "text": [
      "time samtools markdup -@ 10 -r /home/adrian/projects/reynisfjara/results/bam_k243r/a3922_48h_1/positionsort.bam /home/adrian/projects/reynisfjara/results/bam_k243r/a3922_48h_1/markdup.bam\n"
     ]
    },
    {
     "name": "stderr",
     "output_type": "stream",
     "text": [
      "384.96user 9.07system 1:13.74elapsed 534%CPU (0avgtext+0avgdata 207520maxresident)k\n",
      "192inputs+4529296outputs (1major+52577minor)pagefaults 0swaps\n",
      "samtools: /home/adrian/anaconda3/bin/../lib/libtinfow.so.6: no version information available (required by samtools)\n",
      "samtools: /home/adrian/anaconda3/bin/../lib/libncursesw.so.6: no version information available (required by samtools)\n",
      "samtools: /home/adrian/anaconda3/bin/../lib/libncursesw.so.6: no version information available (required by samtools)\n"
     ]
    },
    {
     "name": "stdout",
     "output_type": "stream",
     "text": [
      "time samtools sort -@ 10 -n -o /home/adrian/projects/reynisfjara/results/bam_k243r/a3922_48h_2/namesort.bam /home/adrian/projects/reynisfjara/results/bam_k243r/a3922_48h_2/a3922_48h_2.bam\n"
     ]
    },
    {
     "name": "stderr",
     "output_type": "stream",
     "text": [
      "[bam_sort_core] merging from 2 files and 10 in-memory blocks...\n",
      "697.19user 20.01system 1:41.80elapsed 704%CPU (0avgtext+0avgdata 8804676maxresident)k\n",
      "8676336inputs+16280240outputs (0major+2368918minor)pagefaults 0swaps\n",
      "samtools: /home/adrian/anaconda3/bin/../lib/libtinfow.so.6: no version information available (required by samtools)\n",
      "samtools: /home/adrian/anaconda3/bin/../lib/libncursesw.so.6: no version information available (required by samtools)\n",
      "samtools: /home/adrian/anaconda3/bin/../lib/libncursesw.so.6: no version information available (required by samtools)\n"
     ]
    },
    {
     "name": "stdout",
     "output_type": "stream",
     "text": [
      "time samtools fixmate -@ 10 -m /home/adrian/projects/reynisfjara/results/bam_k243r/a3922_48h_2/namesort.bam /home/adrian/projects/reynisfjara/results/bam_k243r/a3922_48h_2/fixmate.bam\n"
     ]
    },
    {
     "name": "stderr",
     "output_type": "stream",
     "text": [
      "429.45user 9.96system 0:49.86elapsed 881%CPU (0avgtext+0avgdata 44708maxresident)k\n",
      "296inputs+8992776outputs (0major+11827minor)pagefaults 0swaps\n",
      "samtools: /home/adrian/anaconda3/bin/../lib/libtinfow.so.6: no version information available (required by samtools)\n",
      "samtools: /home/adrian/anaconda3/bin/../lib/libncursesw.so.6: no version information available (required by samtools)\n",
      "samtools: /home/adrian/anaconda3/bin/../lib/libncursesw.so.6: no version information available (required by samtools)\n"
     ]
    },
    {
     "name": "stdout",
     "output_type": "stream",
     "text": [
      "time samtools sort -@ 10 -o /home/adrian/projects/reynisfjara/results/bam_k243r/a3922_48h_2/positionsort.bam /home/adrian/projects/reynisfjara/results/bam_k243r/a3922_48h_2/fixmate.bam\n"
     ]
    },
    {
     "name": "stderr",
     "output_type": "stream",
     "text": [
      "[bam_sort_core] merging from 2 files and 10 in-memory blocks...\n",
      "480.72user 15.57system 1:12.04elapsed 688%CPU (0avgtext+0avgdata 8776928maxresident)k\n",
      "240inputs+8623024outputs (0major+2365436minor)pagefaults 0swaps\n",
      "samtools: /home/adrian/anaconda3/bin/../lib/libtinfow.so.6: no version information available (required by samtools)\n",
      "samtools: /home/adrian/anaconda3/bin/../lib/libncursesw.so.6: no version information available (required by samtools)\n",
      "samtools: /home/adrian/anaconda3/bin/../lib/libncursesw.so.6: no version information available (required by samtools)\n"
     ]
    },
    {
     "name": "stdout",
     "output_type": "stream",
     "text": [
      "time samtools markdup -@ 10 -r /home/adrian/projects/reynisfjara/results/bam_k243r/a3922_48h_2/positionsort.bam /home/adrian/projects/reynisfjara/results/bam_k243r/a3922_48h_2/markdup.bam\n"
     ]
    },
    {
     "name": "stderr",
     "output_type": "stream",
     "text": [
      "310.50user 7.34system 1:01.12elapsed 519%CPU (0avgtext+0avgdata 170776maxresident)k\n",
      "112inputs+3685480outputs (0major+43254minor)pagefaults 0swaps\n",
      "samtools: /home/adrian/anaconda3/bin/../lib/libtinfow.so.6: no version information available (required by samtools)\n",
      "samtools: /home/adrian/anaconda3/bin/../lib/libncursesw.so.6: no version information available (required by samtools)\n",
      "samtools: /home/adrian/anaconda3/bin/../lib/libncursesw.so.6: no version information available (required by samtools)\n"
     ]
    },
    {
     "name": "stdout",
     "output_type": "stream",
     "text": [
      "time samtools sort -@ 10 -n -o /home/adrian/projects/reynisfjara/results/bam_k243r/a3922_48h_3/namesort.bam /home/adrian/projects/reynisfjara/results/bam_k243r/a3922_48h_3/a3922_48h_3.bam\n"
     ]
    },
    {
     "name": "stderr",
     "output_type": "stream",
     "text": [
      "[bam_sort_core] merging from 2 files and 10 in-memory blocks...\n",
      "767.86user 21.81system 1:46.79elapsed 739%CPU (0avgtext+0avgdata 8807636maxresident)k\n",
      "9520992inputs+17183872outputs (0major+2393718minor)pagefaults 0swaps\n",
      "samtools: /home/adrian/anaconda3/bin/../lib/libtinfow.so.6: no version information available (required by samtools)\n",
      "samtools: /home/adrian/anaconda3/bin/../lib/libncursesw.so.6: no version information available (required by samtools)\n",
      "samtools: /home/adrian/anaconda3/bin/../lib/libncursesw.so.6: no version information available (required by samtools)\n"
     ]
    },
    {
     "name": "stdout",
     "output_type": "stream",
     "text": [
      "time samtools fixmate -@ 10 -m /home/adrian/projects/reynisfjara/results/bam_k243r/a3922_48h_3/namesort.bam /home/adrian/projects/reynisfjara/results/bam_k243r/a3922_48h_3/fixmate.bam\n"
     ]
    },
    {
     "name": "stderr",
     "output_type": "stream",
     "text": [
      "478.99user 11.56system 0:51.96elapsed 944%CPU (0avgtext+0avgdata 44828maxresident)k\n",
      "312inputs+9872816outputs (1major+11985minor)pagefaults 0swaps\n",
      "samtools: /home/adrian/anaconda3/bin/../lib/libtinfow.so.6: no version information available (required by samtools)\n",
      "samtools: /home/adrian/anaconda3/bin/../lib/libncursesw.so.6: no version information available (required by samtools)\n",
      "samtools: /home/adrian/anaconda3/bin/../lib/libncursesw.so.6: no version information available (required by samtools)\n"
     ]
    },
    {
     "name": "stdout",
     "output_type": "stream",
     "text": [
      "time samtools sort -@ 10 -o /home/adrian/projects/reynisfjara/results/bam_k243r/a3922_48h_3/positionsort.bam /home/adrian/projects/reynisfjara/results/bam_k243r/a3922_48h_3/fixmate.bam\n"
     ]
    },
    {
     "name": "stderr",
     "output_type": "stream",
     "text": [
      "[bam_sort_core] merging from 2 files and 10 in-memory blocks...\n",
      "524.75user 14.61system 1:14.41elapsed 724%CPU (0avgtext+0avgdata 8777484maxresident)k\n",
      "304inputs+9236488outputs (0major+2390141minor)pagefaults 0swaps\n",
      "samtools: /home/adrian/anaconda3/bin/../lib/libtinfow.so.6: no version information available (required by samtools)\n",
      "samtools: /home/adrian/anaconda3/bin/../lib/libncursesw.so.6: no version information available (required by samtools)\n",
      "samtools: /home/adrian/anaconda3/bin/../lib/libncursesw.so.6: no version information available (required by samtools)\n"
     ]
    },
    {
     "name": "stdout",
     "output_type": "stream",
     "text": [
      "time samtools markdup -@ 10 -r /home/adrian/projects/reynisfjara/results/bam_k243r/a3922_48h_3/positionsort.bam /home/adrian/projects/reynisfjara/results/bam_k243r/a3922_48h_3/markdup.bam\n"
     ]
    },
    {
     "name": "stderr",
     "output_type": "stream",
     "text": [
      "336.54user 7.61system 1:05.99elapsed 521%CPU (0avgtext+0avgdata 165544maxresident)k\n",
      "168inputs+4132936outputs (0major+41980minor)pagefaults 0swaps\n",
      "samtools: /home/adrian/anaconda3/bin/../lib/libtinfow.so.6: no version information available (required by samtools)\n",
      "samtools: /home/adrian/anaconda3/bin/../lib/libncursesw.so.6: no version information available (required by samtools)\n",
      "samtools: /home/adrian/anaconda3/bin/../lib/libncursesw.so.6: no version information available (required by samtools)\n"
     ]
    },
    {
     "name": "stdout",
     "output_type": "stream",
     "text": [
      "time samtools sort -@ 10 -n -o /home/adrian/projects/reynisfjara/results/bam_k243r/a3922_72h_1/namesort.bam /home/adrian/projects/reynisfjara/results/bam_k243r/a3922_72h_1/a3922_72h_1.bam\n"
     ]
    },
    {
     "name": "stderr",
     "output_type": "stream",
     "text": [
      "[bam_sort_core] merging from 3 files and 10 in-memory blocks...\n",
      "930.53user 27.30system 2:00.60elapsed 794%CPU (0avgtext+0avgdata 8808520maxresident)k\n",
      "11085088inputs+22732696outputs (0major+2441953minor)pagefaults 0swaps\n",
      "samtools: /home/adrian/anaconda3/bin/../lib/libtinfow.so.6: no version information available (required by samtools)\n",
      "samtools: /home/adrian/anaconda3/bin/../lib/libncursesw.so.6: no version information available (required by samtools)\n",
      "samtools: /home/adrian/anaconda3/bin/../lib/libncursesw.so.6: no version information available (required by samtools)\n"
     ]
    },
    {
     "name": "stdout",
     "output_type": "stream",
     "text": [
      "time samtools fixmate -@ 10 -m /home/adrian/projects/reynisfjara/results/bam_k243r/a3922_72h_1/namesort.bam /home/adrian/projects/reynisfjara/results/bam_k243r/a3922_72h_1/fixmate.bam\n"
     ]
    },
    {
     "name": "stderr",
     "output_type": "stream",
     "text": [
      "562.50user 13.93system 1:04.07elapsed 899%CPU (0avgtext+0avgdata 45256maxresident)k\n",
      "408inputs+11509440outputs (0major+11991minor)pagefaults 0swaps\n",
      "samtools: /home/adrian/anaconda3/bin/../lib/libtinfow.so.6: no version information available (required by samtools)\n",
      "samtools: /home/adrian/anaconda3/bin/../lib/libncursesw.so.6: no version information available (required by samtools)\n",
      "samtools: /home/adrian/anaconda3/bin/../lib/libncursesw.so.6: no version information available (required by samtools)\n"
     ]
    },
    {
     "name": "stdout",
     "output_type": "stream",
     "text": [
      "time samtools sort -@ 10 -o /home/adrian/projects/reynisfjara/results/bam_k243r/a3922_72h_1/positionsort.bam /home/adrian/projects/reynisfjara/results/bam_k243r/a3922_72h_1/fixmate.bam\n"
     ]
    },
    {
     "name": "stderr",
     "output_type": "stream",
     "text": [
      "[bam_sort_core] merging from 3 files and 10 in-memory blocks...\n",
      "650.44user 20.41system 1:36.85elapsed 692%CPU (0avgtext+0avgdata 8778856maxresident)k\n",
      "344inputs+12412600outputs (0major+2436136minor)pagefaults 0swaps\n",
      "samtools: /home/adrian/anaconda3/bin/../lib/libtinfow.so.6: no version information available (required by samtools)\n",
      "samtools: /home/adrian/anaconda3/bin/../lib/libncursesw.so.6: no version information available (required by samtools)\n",
      "samtools: /home/adrian/anaconda3/bin/../lib/libncursesw.so.6: no version information available (required by samtools)\n"
     ]
    },
    {
     "name": "stdout",
     "output_type": "stream",
     "text": [
      "time samtools markdup -@ 10 -r /home/adrian/projects/reynisfjara/results/bam_k243r/a3922_72h_1/positionsort.bam /home/adrian/projects/reynisfjara/results/bam_k243r/a3922_72h_1/markdup.bam\n"
     ]
    },
    {
     "name": "stderr",
     "output_type": "stream",
     "text": [
      "388.58user 8.61system 1:16.01elapsed 522%CPU (0avgtext+0avgdata 182348maxresident)k\n",
      "96inputs+4712408outputs (0major+46179minor)pagefaults 0swaps\n",
      "samtools: /home/adrian/anaconda3/bin/../lib/libtinfow.so.6: no version information available (required by samtools)\n",
      "samtools: /home/adrian/anaconda3/bin/../lib/libncursesw.so.6: no version information available (required by samtools)\n",
      "samtools: /home/adrian/anaconda3/bin/../lib/libncursesw.so.6: no version information available (required by samtools)\n"
     ]
    },
    {
     "name": "stdout",
     "output_type": "stream",
     "text": [
      "time samtools sort -@ 10 -n -o /home/adrian/projects/reynisfjara/results/bam_k243r/a3922_72h_2/namesort.bam /home/adrian/projects/reynisfjara/results/bam_k243r/a3922_72h_2/a3922_72h_2.bam\n"
     ]
    },
    {
     "name": "stderr",
     "output_type": "stream",
     "text": [
      "[bam_sort_core] merging from 3 files and 10 in-memory blocks...\n",
      "981.10user 26.12system 2:01.39elapsed 829%CPU (0avgtext+0avgdata 8807724maxresident)k\n",
      "12024576inputs+23613664outputs (0major+2472387minor)pagefaults 0swaps\n",
      "samtools: /home/adrian/anaconda3/bin/../lib/libtinfow.so.6: no version information available (required by samtools)\n",
      "samtools: /home/adrian/anaconda3/bin/../lib/libncursesw.so.6: no version information available (required by samtools)\n",
      "samtools: /home/adrian/anaconda3/bin/../lib/libncursesw.so.6: no version information available (required by samtools)\n"
     ]
    },
    {
     "name": "stdout",
     "output_type": "stream",
     "text": [
      "time samtools fixmate -@ 10 -m /home/adrian/projects/reynisfjara/results/bam_k243r/a3922_72h_2/namesort.bam /home/adrian/projects/reynisfjara/results/bam_k243r/a3922_72h_2/fixmate.bam\n"
     ]
    },
    {
     "name": "stderr",
     "output_type": "stream",
     "text": [
      "610.34user 13.66system 1:04.38elapsed 969%CPU (0avgtext+0avgdata 45348maxresident)k\n",
      "472inputs+12483784outputs (0major+11992minor)pagefaults 0swaps\n",
      "samtools: /home/adrian/anaconda3/bin/../lib/libtinfow.so.6: no version information available (required by samtools)\n",
      "samtools: /home/adrian/anaconda3/bin/../lib/libncursesw.so.6: no version information available (required by samtools)\n",
      "samtools: /home/adrian/anaconda3/bin/../lib/libncursesw.so.6: no version information available (required by samtools)\n"
     ]
    },
    {
     "name": "stdout",
     "output_type": "stream",
     "text": [
      "time samtools sort -@ 10 -o /home/adrian/projects/reynisfjara/results/bam_k243r/a3922_72h_2/positionsort.bam /home/adrian/projects/reynisfjara/results/bam_k243r/a3922_72h_2/fixmate.bam\n"
     ]
    },
    {
     "name": "stderr",
     "output_type": "stream",
     "text": [
      "[bam_sort_core] merging from 3 files and 10 in-memory blocks...\n",
      "686.28user 19.65system 1:34.30elapsed 748%CPU (0avgtext+0avgdata 8777820maxresident)k\n",
      "344inputs+12699128outputs (0major+2468461minor)pagefaults 0swaps\n",
      "samtools: /home/adrian/anaconda3/bin/../lib/libtinfow.so.6: no version information available (required by samtools)\n",
      "samtools: /home/adrian/anaconda3/bin/../lib/libncursesw.so.6: no version information available (required by samtools)\n",
      "samtools: /home/adrian/anaconda3/bin/../lib/libncursesw.so.6: no version information available (required by samtools)\n"
     ]
    },
    {
     "name": "stdout",
     "output_type": "stream",
     "text": [
      "time samtools markdup -@ 10 -r /home/adrian/projects/reynisfjara/results/bam_k243r/a3922_72h_2/positionsort.bam /home/adrian/projects/reynisfjara/results/bam_k243r/a3922_72h_2/markdup.bam\n"
     ]
    },
    {
     "name": "stderr",
     "output_type": "stream",
     "text": [
      "408.44user 8.89system 1:21.15elapsed 514%CPU (0avgtext+0avgdata 218900maxresident)k\n",
      "152inputs+4901752outputs (0major+55384minor)pagefaults 0swaps\n",
      "samtools: /home/adrian/anaconda3/bin/../lib/libtinfow.so.6: no version information available (required by samtools)\n",
      "samtools: /home/adrian/anaconda3/bin/../lib/libncursesw.so.6: no version information available (required by samtools)\n",
      "samtools: /home/adrian/anaconda3/bin/../lib/libncursesw.so.6: no version information available (required by samtools)\n"
     ]
    },
    {
     "name": "stdout",
     "output_type": "stream",
     "text": [
      "time samtools sort -@ 10 -n -o /home/adrian/projects/reynisfjara/results/bam_k243r/a3922_72h_3/namesort.bam /home/adrian/projects/reynisfjara/results/bam_k243r/a3922_72h_3/a3922_72h_3.bam\n"
     ]
    },
    {
     "name": "stderr",
     "output_type": "stream",
     "text": [
      "[bam_sort_core] merging from 3 files and 10 in-memory blocks...\n",
      "943.05user 25.19system 1:55.53elapsed 838%CPU (0avgtext+0avgdata 8808964maxresident)k\n",
      "11457728inputs+23002120outputs (0major+2456983minor)pagefaults 0swaps\n",
      "samtools: /home/adrian/anaconda3/bin/../lib/libtinfow.so.6: no version information available (required by samtools)\n",
      "samtools: /home/adrian/anaconda3/bin/../lib/libncursesw.so.6: no version information available (required by samtools)\n",
      "samtools: /home/adrian/anaconda3/bin/../lib/libncursesw.so.6: no version information available (required by samtools)\n"
     ]
    },
    {
     "name": "stdout",
     "output_type": "stream",
     "text": [
      "time samtools fixmate -@ 10 -m /home/adrian/projects/reynisfjara/results/bam_k243r/a3922_72h_3/namesort.bam /home/adrian/projects/reynisfjara/results/bam_k243r/a3922_72h_3/fixmate.bam\n"
     ]
    },
    {
     "name": "stderr",
     "output_type": "stream",
     "text": [
      "577.59user 13.11system 1:01.53elapsed 959%CPU (0avgtext+0avgdata 44736maxresident)k\n",
      "392inputs+11889944outputs (1major+11836minor)pagefaults 0swaps\n",
      "samtools: /home/adrian/anaconda3/bin/../lib/libtinfow.so.6: no version information available (required by samtools)\n",
      "samtools: /home/adrian/anaconda3/bin/../lib/libncursesw.so.6: no version information available (required by samtools)\n",
      "samtools: /home/adrian/anaconda3/bin/../lib/libncursesw.so.6: no version information available (required by samtools)\n"
     ]
    },
    {
     "name": "stdout",
     "output_type": "stream",
     "text": [
      "time samtools sort -@ 10 -o /home/adrian/projects/reynisfjara/results/bam_k243r/a3922_72h_3/positionsort.bam /home/adrian/projects/reynisfjara/results/bam_k243r/a3922_72h_3/fixmate.bam\n"
     ]
    },
    {
     "name": "stderr",
     "output_type": "stream",
     "text": [
      "[bam_sort_core] merging from 3 files and 10 in-memory blocks...\n",
      "658.70user 19.57system 1:31.88elapsed 738%CPU (0avgtext+0avgdata 8781604maxresident)k\n",
      "368inputs+12440712outputs (0major+2453430minor)pagefaults 0swaps\n",
      "samtools: /home/adrian/anaconda3/bin/../lib/libtinfow.so.6: no version information available (required by samtools)\n",
      "samtools: /home/adrian/anaconda3/bin/../lib/libncursesw.so.6: no version information available (required by samtools)\n",
      "samtools: /home/adrian/anaconda3/bin/../lib/libncursesw.so.6: no version information available (required by samtools)\n"
     ]
    },
    {
     "name": "stdout",
     "output_type": "stream",
     "text": [
      "time samtools markdup -@ 10 -r /home/adrian/projects/reynisfjara/results/bam_k243r/a3922_72h_3/positionsort.bam /home/adrian/projects/reynisfjara/results/bam_k243r/a3922_72h_3/markdup.bam\n"
     ]
    },
    {
     "name": "stderr",
     "output_type": "stream",
     "text": [
      "394.31user 8.54system 1:18.30elapsed 514%CPU (0avgtext+0avgdata 188764maxresident)k\n",
      "176inputs+4835056outputs (0major+47738minor)pagefaults 0swaps\n",
      "samtools: /home/adrian/anaconda3/bin/../lib/libtinfow.so.6: no version information available (required by samtools)\n",
      "samtools: /home/adrian/anaconda3/bin/../lib/libncursesw.so.6: no version information available (required by samtools)\n",
      "samtools: /home/adrian/anaconda3/bin/../lib/libncursesw.so.6: no version information available (required by samtools)\n"
     ]
    },
    {
     "name": "stdout",
     "output_type": "stream",
     "text": [
      "time samtools sort -@ 10 -n -o /home/adrian/projects/reynisfjara/results/bam_k243r/a4774_0h_1/namesort.bam /home/adrian/projects/reynisfjara/results/bam_k243r/a4774_0h_1/a4774_0h_1.bam\n"
     ]
    },
    {
     "name": "stderr",
     "output_type": "stream",
     "text": [
      "[bam_sort_core] merging from 2 files and 10 in-memory blocks...\n",
      "710.11user 19.33system 1:26.21elapsed 846%CPU (0avgtext+0avgdata 8808912maxresident)k\n",
      "8951592inputs+16619256outputs (0major+2376723minor)pagefaults 0swaps\n",
      "samtools: /home/adrian/anaconda3/bin/../lib/libtinfow.so.6: no version information available (required by samtools)\n",
      "samtools: /home/adrian/anaconda3/bin/../lib/libncursesw.so.6: no version information available (required by samtools)\n",
      "samtools: /home/adrian/anaconda3/bin/../lib/libncursesw.so.6: no version information available (required by samtools)\n"
     ]
    },
    {
     "name": "stdout",
     "output_type": "stream",
     "text": [
      "time samtools fixmate -@ 10 -m /home/adrian/projects/reynisfjara/results/bam_k243r/a4774_0h_1/namesort.bam /home/adrian/projects/reynisfjara/results/bam_k243r/a4774_0h_1/fixmate.bam\n"
     ]
    },
    {
     "name": "stderr",
     "output_type": "stream",
     "text": [
      "449.08user 10.03system 0:46.33elapsed 990%CPU (0avgtext+0avgdata 45552maxresident)k\n",
      "232inputs+9283096outputs (0major+11981minor)pagefaults 0swaps\n",
      "samtools: /home/adrian/anaconda3/bin/../lib/libtinfow.so.6: no version information available (required by samtools)\n",
      "samtools: /home/adrian/anaconda3/bin/../lib/libncursesw.so.6: no version information available (required by samtools)\n",
      "samtools: /home/adrian/anaconda3/bin/../lib/libncursesw.so.6: no version information available (required by samtools)\n"
     ]
    },
    {
     "name": "stdout",
     "output_type": "stream",
     "text": [
      "time samtools sort -@ 10 -o /home/adrian/projects/reynisfjara/results/bam_k243r/a4774_0h_1/positionsort.bam /home/adrian/projects/reynisfjara/results/bam_k243r/a4774_0h_1/fixmate.bam\n"
     ]
    },
    {
     "name": "stderr",
     "output_type": "stream",
     "text": [
      "[bam_sort_core] merging from 2 files and 10 in-memory blocks...\n",
      "494.87user 14.39system 1:10.07elapsed 726%CPU (0avgtext+0avgdata 8781284maxresident)k\n",
      "80inputs+9013960outputs (0major+2373144minor)pagefaults 0swaps\n",
      "samtools: /home/adrian/anaconda3/bin/../lib/libtinfow.so.6: no version information available (required by samtools)\n",
      "samtools: /home/adrian/anaconda3/bin/../lib/libncursesw.so.6: no version information available (required by samtools)\n",
      "samtools: /home/adrian/anaconda3/bin/../lib/libncursesw.so.6: no version information available (required by samtools)\n"
     ]
    },
    {
     "name": "stdout",
     "output_type": "stream",
     "text": [
      "time samtools markdup -@ 10 -r /home/adrian/projects/reynisfjara/results/bam_k243r/a4774_0h_1/positionsort.bam /home/adrian/projects/reynisfjara/results/bam_k243r/a4774_0h_1/markdup.bam\n"
     ]
    },
    {
     "name": "stderr",
     "output_type": "stream",
     "text": [
      "319.12user 7.09system 1:01.80elapsed 527%CPU (0avgtext+0avgdata 218860maxresident)k\n",
      "96inputs+3951832outputs (0major+55227minor)pagefaults 0swaps\n",
      "samtools: /home/adrian/anaconda3/bin/../lib/libtinfow.so.6: no version information available (required by samtools)\n",
      "samtools: /home/adrian/anaconda3/bin/../lib/libncursesw.so.6: no version information available (required by samtools)\n",
      "samtools: /home/adrian/anaconda3/bin/../lib/libncursesw.so.6: no version information available (required by samtools)\n"
     ]
    },
    {
     "name": "stdout",
     "output_type": "stream",
     "text": [
      "time samtools sort -@ 10 -n -o /home/adrian/projects/reynisfjara/results/bam_k243r/a4774_0h_2/namesort.bam /home/adrian/projects/reynisfjara/results/bam_k243r/a4774_0h_2/a4774_0h_2.bam\n"
     ]
    },
    {
     "name": "stderr",
     "output_type": "stream",
     "text": [
      "[bam_sort_core] merging from 2 files and 10 in-memory blocks...\n",
      "692.03user 18.96system 1:25.78elapsed 828%CPU (0avgtext+0avgdata 8808812maxresident)k\n",
      "8669264inputs+16332184outputs (0major+2367997minor)pagefaults 0swaps\n",
      "samtools: /home/adrian/anaconda3/bin/../lib/libtinfow.so.6: no version information available (required by samtools)\n",
      "samtools: /home/adrian/anaconda3/bin/../lib/libncursesw.so.6: no version information available (required by samtools)\n",
      "samtools: /home/adrian/anaconda3/bin/../lib/libncursesw.so.6: no version information available (required by samtools)\n"
     ]
    },
    {
     "name": "stdout",
     "output_type": "stream",
     "text": [
      "time samtools fixmate -@ 10 -m /home/adrian/projects/reynisfjara/results/bam_k243r/a4774_0h_2/namesort.bam /home/adrian/projects/reynisfjara/results/bam_k243r/a4774_0h_2/fixmate.bam\n"
     ]
    },
    {
     "name": "stderr",
     "output_type": "stream",
     "text": [
      "434.56user 9.52system 0:47.10elapsed 942%CPU (0avgtext+0avgdata 45540maxresident)k\n",
      "160inputs+8989320outputs (1major+11998minor)pagefaults 0swaps\n",
      "samtools: /home/adrian/anaconda3/bin/../lib/libtinfow.so.6: no version information available (required by samtools)\n",
      "samtools: /home/adrian/anaconda3/bin/../lib/libncursesw.so.6: no version information available (required by samtools)\n",
      "samtools: /home/adrian/anaconda3/bin/../lib/libncursesw.so.6: no version information available (required by samtools)\n"
     ]
    },
    {
     "name": "stdout",
     "output_type": "stream",
     "text": [
      "time samtools sort -@ 10 -o /home/adrian/projects/reynisfjara/results/bam_k243r/a4774_0h_2/positionsort.bam /home/adrian/projects/reynisfjara/results/bam_k243r/a4774_0h_2/fixmate.bam\n"
     ]
    },
    {
     "name": "stderr",
     "output_type": "stream",
     "text": [
      "[bam_sort_core] merging from 2 files and 10 in-memory blocks...\n",
      "486.07user 14.72system 1:07.95elapsed 736%CPU (0avgtext+0avgdata 8780996maxresident)k\n",
      "312inputs+8802232outputs (0major+2364417minor)pagefaults 0swaps\n",
      "samtools: /home/adrian/anaconda3/bin/../lib/libtinfow.so.6: no version information available (required by samtools)\n",
      "samtools: /home/adrian/anaconda3/bin/../lib/libncursesw.so.6: no version information available (required by samtools)\n",
      "samtools: /home/adrian/anaconda3/bin/../lib/libncursesw.so.6: no version information available (required by samtools)\n"
     ]
    },
    {
     "name": "stdout",
     "output_type": "stream",
     "text": [
      "time samtools markdup -@ 10 -r /home/adrian/projects/reynisfjara/results/bam_k243r/a4774_0h_2/positionsort.bam /home/adrian/projects/reynisfjara/results/bam_k243r/a4774_0h_2/markdup.bam\n"
     ]
    },
    {
     "name": "stderr",
     "output_type": "stream",
     "text": [
      "305.41user 6.71system 0:57.76elapsed 540%CPU (0avgtext+0avgdata 221488maxresident)k\n",
      "64inputs+3767512outputs (0major+55988minor)pagefaults 0swaps\n",
      "samtools: /home/adrian/anaconda3/bin/../lib/libtinfow.so.6: no version information available (required by samtools)\n",
      "samtools: /home/adrian/anaconda3/bin/../lib/libncursesw.so.6: no version information available (required by samtools)\n",
      "samtools: /home/adrian/anaconda3/bin/../lib/libncursesw.so.6: no version information available (required by samtools)\n"
     ]
    },
    {
     "name": "stdout",
     "output_type": "stream",
     "text": [
      "time samtools sort -@ 10 -n -o /home/adrian/projects/reynisfjara/results/bam_k243r/a4774_0h_3/namesort.bam /home/adrian/projects/reynisfjara/results/bam_k243r/a4774_0h_3/a4774_0h_3.bam\n"
     ]
    },
    {
     "name": "stderr",
     "output_type": "stream",
     "text": [
      "[bam_sort_core] merging from 3 files and 10 in-memory blocks...\n",
      "929.12user 24.50system 1:53.36elapsed 841%CPU (0avgtext+0avgdata 8807908maxresident)k\n",
      "11356704inputs+22776472outputs (0major+2456870minor)pagefaults 0swaps\n",
      "samtools: /home/adrian/anaconda3/bin/../lib/libtinfow.so.6: no version information available (required by samtools)\n",
      "samtools: /home/adrian/anaconda3/bin/../lib/libncursesw.so.6: no version information available (required by samtools)\n",
      "samtools: /home/adrian/anaconda3/bin/../lib/libncursesw.so.6: no version information available (required by samtools)\n"
     ]
    },
    {
     "name": "stdout",
     "output_type": "stream",
     "text": [
      "time samtools fixmate -@ 10 -m /home/adrian/projects/reynisfjara/results/bam_k243r/a4774_0h_3/namesort.bam /home/adrian/projects/reynisfjara/results/bam_k243r/a4774_0h_3/fixmate.bam\n"
     ]
    },
    {
     "name": "stderr",
     "output_type": "stream",
     "text": [
      "566.86user 12.35system 0:58.96elapsed 982%CPU (0avgtext+0avgdata 45560maxresident)k\n",
      "408inputs+11769728outputs (0major+11980minor)pagefaults 0swaps\n",
      "samtools: /home/adrian/anaconda3/bin/../lib/libtinfow.so.6: no version information available (required by samtools)\n",
      "samtools: /home/adrian/anaconda3/bin/../lib/libncursesw.so.6: no version information available (required by samtools)\n",
      "samtools: /home/adrian/anaconda3/bin/../lib/libncursesw.so.6: no version information available (required by samtools)\n"
     ]
    },
    {
     "name": "stdout",
     "output_type": "stream",
     "text": [
      "time samtools sort -@ 10 -o /home/adrian/projects/reynisfjara/results/bam_k243r/a4774_0h_3/positionsort.bam /home/adrian/projects/reynisfjara/results/bam_k243r/a4774_0h_3/fixmate.bam\n"
     ]
    },
    {
     "name": "stderr",
     "output_type": "stream",
     "text": [
      "[bam_sort_core] merging from 3 files and 10 in-memory blocks...\n",
      "649.11user 18.93system 1:33.06elapsed 717%CPU (0avgtext+0avgdata 8777936maxresident)k\n",
      "336inputs+12148576outputs (0major+2453215minor)pagefaults 0swaps\n",
      "samtools: /home/adrian/anaconda3/bin/../lib/libtinfow.so.6: no version information available (required by samtools)\n",
      "samtools: /home/adrian/anaconda3/bin/../lib/libncursesw.so.6: no version information available (required by samtools)\n",
      "samtools: /home/adrian/anaconda3/bin/../lib/libncursesw.so.6: no version information available (required by samtools)\n"
     ]
    },
    {
     "name": "stdout",
     "output_type": "stream",
     "text": [
      "time samtools markdup -@ 10 -r /home/adrian/projects/reynisfjara/results/bam_k243r/a4774_0h_3/positionsort.bam /home/adrian/projects/reynisfjara/results/bam_k243r/a4774_0h_3/markdup.bam\n"
     ]
    },
    {
     "name": "stderr",
     "output_type": "stream",
     "text": [
      "384.19user 8.61system 1:19.18elapsed 496%CPU (0avgtext+0avgdata 273680maxresident)k\n",
      "176inputs+4656528outputs (1major+69067minor)pagefaults 0swaps\n",
      "samtools: /home/adrian/anaconda3/bin/../lib/libtinfow.so.6: no version information available (required by samtools)\n",
      "samtools: /home/adrian/anaconda3/bin/../lib/libncursesw.so.6: no version information available (required by samtools)\n",
      "samtools: /home/adrian/anaconda3/bin/../lib/libncursesw.so.6: no version information available (required by samtools)\n"
     ]
    },
    {
     "name": "stdout",
     "output_type": "stream",
     "text": [
      "time samtools sort -@ 10 -n -o /home/adrian/projects/reynisfjara/results/bam_k243r/a4774_48h_1/namesort.bam /home/adrian/projects/reynisfjara/results/bam_k243r/a4774_48h_1/a4774_48h_1.bam\n"
     ]
    },
    {
     "name": "stderr",
     "output_type": "stream",
     "text": [
      "[bam_sort_core] merging from 3 files and 10 in-memory blocks...\n",
      "906.75user 23.72system 1:48.68elapsed 856%CPU (0avgtext+0avgdata 8808764maxresident)k\n",
      "10975232inputs+22428168outputs (0major+2443558minor)pagefaults 0swaps\n",
      "samtools: /home/adrian/anaconda3/bin/../lib/libtinfow.so.6: no version information available (required by samtools)\n",
      "samtools: /home/adrian/anaconda3/bin/../lib/libncursesw.so.6: no version information available (required by samtools)\n",
      "samtools: /home/adrian/anaconda3/bin/../lib/libncursesw.so.6: no version information available (required by samtools)\n"
     ]
    },
    {
     "name": "stdout",
     "output_type": "stream",
     "text": [
      "time samtools fixmate -@ 10 -m /home/adrian/projects/reynisfjara/results/bam_k243r/a4774_48h_1/namesort.bam /home/adrian/projects/reynisfjara/results/bam_k243r/a4774_48h_1/fixmate.bam\n"
     ]
    },
    {
     "name": "stderr",
     "output_type": "stream",
     "text": [
      "544.91user 12.04system 0:57.55elapsed 967%CPU (0avgtext+0avgdata 45260maxresident)k\n",
      "1168inputs+11380120outputs (4major+11979minor)pagefaults 0swaps\n",
      "samtools: /home/adrian/anaconda3/bin/../lib/libtinfow.so.6: no version information available (required by samtools)\n",
      "samtools: /home/adrian/anaconda3/bin/../lib/libncursesw.so.6: no version information available (required by samtools)\n",
      "samtools: /home/adrian/anaconda3/bin/../lib/libncursesw.so.6: no version information available (required by samtools)\n"
     ]
    },
    {
     "name": "stdout",
     "output_type": "stream",
     "text": [
      "time samtools sort -@ 10 -o /home/adrian/projects/reynisfjara/results/bam_k243r/a4774_48h_1/positionsort.bam /home/adrian/projects/reynisfjara/results/bam_k243r/a4774_48h_1/fixmate.bam\n"
     ]
    },
    {
     "name": "stderr",
     "output_type": "stream",
     "text": [
      "[bam_sort_core] merging from 3 files and 10 in-memory blocks...\n",
      "629.32user 17.69system 1:25.67elapsed 755%CPU (0avgtext+0avgdata 8781588maxresident)k\n",
      "408inputs+12193248outputs (0major+2441377minor)pagefaults 0swaps\n",
      "samtools: /home/adrian/anaconda3/bin/../lib/libtinfow.so.6: no version information available (required by samtools)\n",
      "samtools: /home/adrian/anaconda3/bin/../lib/libncursesw.so.6: no version information available (required by samtools)\n",
      "samtools: /home/adrian/anaconda3/bin/../lib/libncursesw.so.6: no version information available (required by samtools)\n"
     ]
    },
    {
     "name": "stdout",
     "output_type": "stream",
     "text": [
      "time samtools markdup -@ 10 -r /home/adrian/projects/reynisfjara/results/bam_k243r/a4774_48h_1/positionsort.bam /home/adrian/projects/reynisfjara/results/bam_k243r/a4774_48h_1/markdup.bam\n"
     ]
    },
    {
     "name": "stderr",
     "output_type": "stream",
     "text": [
      "376.26user 8.18system 1:14.49elapsed 516%CPU (0avgtext+0avgdata 270020maxresident)k\n",
      "144inputs+4662552outputs (0major+68195minor)pagefaults 0swaps\n",
      "samtools: /home/adrian/anaconda3/bin/../lib/libtinfow.so.6: no version information available (required by samtools)\n",
      "samtools: /home/adrian/anaconda3/bin/../lib/libncursesw.so.6: no version information available (required by samtools)\n",
      "samtools: /home/adrian/anaconda3/bin/../lib/libncursesw.so.6: no version information available (required by samtools)\n"
     ]
    },
    {
     "name": "stdout",
     "output_type": "stream",
     "text": [
      "time samtools sort -@ 10 -n -o /home/adrian/projects/reynisfjara/results/bam_k243r/a4774_48h_2/namesort.bam /home/adrian/projects/reynisfjara/results/bam_k243r/a4774_48h_2/a4774_48h_2.bam\n"
     ]
    },
    {
     "name": "stderr",
     "output_type": "stream",
     "text": [
      "[bam_sort_core] merging from 3 files and 10 in-memory blocks...\n",
      "941.35user 24.30system 1:53.76elapsed 848%CPU (0avgtext+0avgdata 8808572maxresident)k\n",
      "11592248inputs+23092336outputs (0major+2462380minor)pagefaults 0swaps\n",
      "samtools: /home/adrian/anaconda3/bin/../lib/libtinfow.so.6: no version information available (required by samtools)\n",
      "samtools: /home/adrian/anaconda3/bin/../lib/libncursesw.so.6: no version information available (required by samtools)\n",
      "samtools: /home/adrian/anaconda3/bin/../lib/libncursesw.so.6: no version information available (required by samtools)\n"
     ]
    },
    {
     "name": "stdout",
     "output_type": "stream",
     "text": [
      "time samtools fixmate -@ 10 -m /home/adrian/projects/reynisfjara/results/bam_k243r/a4774_48h_2/namesort.bam /home/adrian/projects/reynisfjara/results/bam_k243r/a4774_48h_2/fixmate.bam\n"
     ]
    },
    {
     "name": "stderr",
     "output_type": "stream",
     "text": [
      "573.56user 12.24system 1:00.01elapsed 976%CPU (0avgtext+0avgdata 45096maxresident)k\n",
      "376inputs+12020312outputs (1major+11986minor)pagefaults 0swaps\n",
      "samtools: /home/adrian/anaconda3/bin/../lib/libtinfow.so.6: no version information available (required by samtools)\n",
      "samtools: /home/adrian/anaconda3/bin/../lib/libncursesw.so.6: no version information available (required by samtools)\n",
      "samtools: /home/adrian/anaconda3/bin/../lib/libncursesw.so.6: no version information available (required by samtools)\n"
     ]
    },
    {
     "name": "stdout",
     "output_type": "stream",
     "text": [
      "time samtools sort -@ 10 -o /home/adrian/projects/reynisfjara/results/bam_k243r/a4774_48h_2/positionsort.bam /home/adrian/projects/reynisfjara/results/bam_k243r/a4774_48h_2/fixmate.bam\n"
     ]
    },
    {
     "name": "stderr",
     "output_type": "stream",
     "text": [
      "[bam_sort_core] merging from 3 files and 10 in-memory blocks...\n",
      "657.42user 17.76system 1:31.81elapsed 735%CPU (0avgtext+0avgdata 8781148maxresident)k\n",
      "480inputs+12414080outputs (0major+2458741minor)pagefaults 0swaps\n",
      "samtools: /home/adrian/anaconda3/bin/../lib/libtinfow.so.6: no version information available (required by samtools)\n",
      "samtools: /home/adrian/anaconda3/bin/../lib/libncursesw.so.6: no version information available (required by samtools)\n",
      "samtools: /home/adrian/anaconda3/bin/../lib/libncursesw.so.6: no version information available (required by samtools)\n"
     ]
    },
    {
     "name": "stdout",
     "output_type": "stream",
     "text": [
      "time samtools markdup -@ 10 -r /home/adrian/projects/reynisfjara/results/bam_k243r/a4774_48h_2/positionsort.bam /home/adrian/projects/reynisfjara/results/bam_k243r/a4774_48h_2/markdup.bam\n"
     ]
    },
    {
     "name": "stderr",
     "output_type": "stream",
     "text": [
      "394.38user 8.51system 1:17.97elapsed 516%CPU (0avgtext+0avgdata 295732maxresident)k\n",
      "928inputs+4819624outputs (4major+74575minor)pagefaults 0swaps\n",
      "samtools: /home/adrian/anaconda3/bin/../lib/libtinfow.so.6: no version information available (required by samtools)\n",
      "samtools: /home/adrian/anaconda3/bin/../lib/libncursesw.so.6: no version information available (required by samtools)\n",
      "samtools: /home/adrian/anaconda3/bin/../lib/libncursesw.so.6: no version information available (required by samtools)\n"
     ]
    },
    {
     "name": "stdout",
     "output_type": "stream",
     "text": [
      "time samtools sort -@ 10 -n -o /home/adrian/projects/reynisfjara/results/bam_k243r/a4774_48h_3/namesort.bam /home/adrian/projects/reynisfjara/results/bam_k243r/a4774_48h_3/a4774_48h_3.bam\n"
     ]
    },
    {
     "name": "stderr",
     "output_type": "stream",
     "text": [
      "[bam_sort_core] merging from 2 files and 10 in-memory blocks...\n",
      "664.75user 18.09system 1:20.81elapsed 844%CPU (0avgtext+0avgdata 8808868maxresident)k\n",
      "8317240inputs+16090504outputs (0major+2354177minor)pagefaults 0swaps\n",
      "samtools: /home/adrian/anaconda3/bin/../lib/libtinfow.so.6: no version information available (required by samtools)\n",
      "samtools: /home/adrian/anaconda3/bin/../lib/libncursesw.so.6: no version information available (required by samtools)\n",
      "samtools: /home/adrian/anaconda3/bin/../lib/libncursesw.so.6: no version information available (required by samtools)\n"
     ]
    },
    {
     "name": "stdout",
     "output_type": "stream",
     "text": [
      "time samtools fixmate -@ 10 -m /home/adrian/projects/reynisfjara/results/bam_k243r/a4774_48h_3/namesort.bam /home/adrian/projects/reynisfjara/results/bam_k243r/a4774_48h_3/fixmate.bam\n"
     ]
    },
    {
     "name": "stderr",
     "output_type": "stream",
     "text": [
      "425.66user 10.22system 0:50.00elapsed 871%CPU (0avgtext+0avgdata 45308maxresident)k\n",
      "24inputs+8635624outputs (0major+11983minor)pagefaults 0swaps\n",
      "samtools: /home/adrian/anaconda3/bin/../lib/libtinfow.so.6: no version information available (required by samtools)\n",
      "samtools: /home/adrian/anaconda3/bin/../lib/libncursesw.so.6: no version information available (required by samtools)\n",
      "samtools: /home/adrian/anaconda3/bin/../lib/libncursesw.so.6: no version information available (required by samtools)\n"
     ]
    },
    {
     "name": "stdout",
     "output_type": "stream",
     "text": [
      "time samtools sort -@ 10 -o /home/adrian/projects/reynisfjara/results/bam_k243r/a4774_48h_3/positionsort.bam /home/adrian/projects/reynisfjara/results/bam_k243r/a4774_48h_3/fixmate.bam\n"
     ]
    },
    {
     "name": "stderr",
     "output_type": "stream",
     "text": [
      "[bam_sort_core] merging from 2 files and 10 in-memory blocks...\n",
      "475.68user 13.72system 1:06.32elapsed 737%CPU (0avgtext+0avgdata 8781376maxresident)k\n",
      "56inputs+8856760outputs (0major+2350436minor)pagefaults 0swaps\n",
      "samtools: /home/adrian/anaconda3/bin/../lib/libtinfow.so.6: no version information available (required by samtools)\n",
      "samtools: /home/adrian/anaconda3/bin/../lib/libncursesw.so.6: no version information available (required by samtools)\n",
      "samtools: /home/adrian/anaconda3/bin/../lib/libncursesw.so.6: no version information available (required by samtools)\n"
     ]
    },
    {
     "name": "stdout",
     "output_type": "stream",
     "text": [
      "time samtools markdup -@ 10 -r /home/adrian/projects/reynisfjara/results/bam_k243r/a4774_48h_3/positionsort.bam /home/adrian/projects/reynisfjara/results/bam_k243r/a4774_48h_3/markdup.bam\n"
     ]
    },
    {
     "name": "stderr",
     "output_type": "stream",
     "text": [
      "299.04user 6.16system 0:56.51elapsed 540%CPU (0avgtext+0avgdata 202132maxresident)k\n",
      "80inputs+3698912outputs (0major+51183minor)pagefaults 0swaps\n",
      "samtools: /home/adrian/anaconda3/bin/../lib/libtinfow.so.6: no version information available (required by samtools)\n",
      "samtools: /home/adrian/anaconda3/bin/../lib/libncursesw.so.6: no version information available (required by samtools)\n",
      "samtools: /home/adrian/anaconda3/bin/../lib/libncursesw.so.6: no version information available (required by samtools)\n"
     ]
    },
    {
     "name": "stdout",
     "output_type": "stream",
     "text": [
      "time samtools sort -@ 10 -n -o /home/adrian/projects/reynisfjara/results/bam_k243r/a4774_72h_1/namesort.bam /home/adrian/projects/reynisfjara/results/bam_k243r/a4774_72h_1/a4774_72h_1.bam\n"
     ]
    },
    {
     "name": "stderr",
     "output_type": "stream",
     "text": [
      "[bam_sort_core] merging from 3 files and 10 in-memory blocks...\n",
      "981.29user 25.46system 1:57.23elapsed 858%CPU (0avgtext+0avgdata 8810248maxresident)k\n",
      "12190344inputs+23773576outputs (0major+2478855minor)pagefaults 0swaps\n",
      "samtools: /home/adrian/anaconda3/bin/../lib/libtinfow.so.6: no version information available (required by samtools)\n",
      "samtools: /home/adrian/anaconda3/bin/../lib/libncursesw.so.6: no version information available (required by samtools)\n",
      "samtools: /home/adrian/anaconda3/bin/../lib/libncursesw.so.6: no version information available (required by samtools)\n"
     ]
    },
    {
     "name": "stdout",
     "output_type": "stream",
     "text": [
      "time samtools fixmate -@ 10 -m /home/adrian/projects/reynisfjara/results/bam_k243r/a4774_72h_1/namesort.bam /home/adrian/projects/reynisfjara/results/bam_k243r/a4774_72h_1/fixmate.bam\n"
     ]
    },
    {
     "name": "stderr",
     "output_type": "stream",
     "text": [
      "609.04user 12.71system 1:03.16elapsed 984%CPU (0avgtext+0avgdata 45444maxresident)k\n",
      "104inputs+12657504outputs (1major+11995minor)pagefaults 0swaps\n",
      "samtools: /home/adrian/anaconda3/bin/../lib/libtinfow.so.6: no version information available (required by samtools)\n",
      "samtools: /home/adrian/anaconda3/bin/../lib/libncursesw.so.6: no version information available (required by samtools)\n",
      "samtools: /home/adrian/anaconda3/bin/../lib/libncursesw.so.6: no version information available (required by samtools)\n"
     ]
    },
    {
     "name": "stdout",
     "output_type": "stream",
     "text": [
      "time samtools sort -@ 10 -o /home/adrian/projects/reynisfjara/results/bam_k243r/a4774_72h_1/positionsort.bam /home/adrian/projects/reynisfjara/results/bam_k243r/a4774_72h_1/fixmate.bam\n"
     ]
    },
    {
     "name": "stderr",
     "output_type": "stream",
     "text": [
      "[bam_sort_core] merging from 3 files and 10 in-memory blocks...\n",
      "696.22user 18.56system 1:32.91elapsed 769%CPU (0avgtext+0avgdata 8782424maxresident)k\n",
      "120inputs+13076696outputs (0major+2475298minor)pagefaults 0swaps\n",
      "samtools: /home/adrian/anaconda3/bin/../lib/libtinfow.so.6: no version information available (required by samtools)\n",
      "samtools: /home/adrian/anaconda3/bin/../lib/libncursesw.so.6: no version information available (required by samtools)\n",
      "samtools: /home/adrian/anaconda3/bin/../lib/libncursesw.so.6: no version information available (required by samtools)\n"
     ]
    },
    {
     "name": "stdout",
     "output_type": "stream",
     "text": [
      "time samtools markdup -@ 10 -r /home/adrian/projects/reynisfjara/results/bam_k243r/a4774_72h_1/positionsort.bam /home/adrian/projects/reynisfjara/results/bam_k243r/a4774_72h_1/markdup.bam\n"
     ]
    },
    {
     "name": "stderr",
     "output_type": "stream",
     "text": [
      "423.03user 8.86system 1:21.18elapsed 531%CPU (0avgtext+0avgdata 283288maxresident)k\n",
      "944inputs+5225008outputs (4major+71383minor)pagefaults 0swaps\n",
      "samtools: /home/adrian/anaconda3/bin/../lib/libtinfow.so.6: no version information available (required by samtools)\n",
      "samtools: /home/adrian/anaconda3/bin/../lib/libncursesw.so.6: no version information available (required by samtools)\n",
      "samtools: /home/adrian/anaconda3/bin/../lib/libncursesw.so.6: no version information available (required by samtools)\n"
     ]
    },
    {
     "name": "stdout",
     "output_type": "stream",
     "text": [
      "time samtools sort -@ 10 -n -o /home/adrian/projects/reynisfjara/results/bam_k243r/a4774_72h_2/namesort.bam /home/adrian/projects/reynisfjara/results/bam_k243r/a4774_72h_2/a4774_72h_2.bam\n"
     ]
    },
    {
     "name": "stderr",
     "output_type": "stream",
     "text": [
      "[bam_sort_core] merging from 3 files and 10 in-memory blocks...\n",
      "1056.98user 26.47system 2:09.20elapsed 838%CPU (0avgtext+0avgdata 8809056maxresident)k\n",
      "13362056inputs+24925976outputs (0major+2514626minor)pagefaults 0swaps\n",
      "samtools: /home/adrian/anaconda3/bin/../lib/libtinfow.so.6: no version information available (required by samtools)\n",
      "samtools: /home/adrian/anaconda3/bin/../lib/libncursesw.so.6: no version information available (required by samtools)\n",
      "samtools: /home/adrian/anaconda3/bin/../lib/libncursesw.so.6: no version information available (required by samtools)\n"
     ]
    },
    {
     "name": "stdout",
     "output_type": "stream",
     "text": [
      "time samtools fixmate -@ 10 -m /home/adrian/projects/reynisfjara/results/bam_k243r/a4774_72h_2/namesort.bam /home/adrian/projects/reynisfjara/results/bam_k243r/a4774_72h_2/fixmate.bam\n"
     ]
    },
    {
     "name": "stderr",
     "output_type": "stream",
     "text": [
      "661.59user 13.58system 1:13.33elapsed 920%CPU (0avgtext+0avgdata 45412maxresident)k\n",
      "480inputs+13871120outputs (1major+12033minor)pagefaults 0swaps\n",
      "samtools: /home/adrian/anaconda3/bin/../lib/libtinfow.so.6: no version information available (required by samtools)\n",
      "samtools: /home/adrian/anaconda3/bin/../lib/libncursesw.so.6: no version information available (required by samtools)\n",
      "samtools: /home/adrian/anaconda3/bin/../lib/libncursesw.so.6: no version information available (required by samtools)\n"
     ]
    },
    {
     "name": "stdout",
     "output_type": "stream",
     "text": [
      "time samtools sort -@ 10 -o /home/adrian/projects/reynisfjara/results/bam_k243r/a4774_72h_2/positionsort.bam /home/adrian/projects/reynisfjara/results/bam_k243r/a4774_72h_2/fixmate.bam\n"
     ]
    },
    {
     "name": "stderr",
     "output_type": "stream",
     "text": [
      "[bam_sort_core] merging from 3 files and 10 in-memory blocks...\n",
      "744.85user 19.86system 1:40.99elapsed 757%CPU (0avgtext+0avgdata 8781128maxresident)k\n",
      "632inputs+13559648outputs (0major+2511240minor)pagefaults 0swaps\n",
      "samtools: /home/adrian/anaconda3/bin/../lib/libtinfow.so.6: no version information available (required by samtools)\n",
      "samtools: /home/adrian/anaconda3/bin/../lib/libncursesw.so.6: no version information available (required by samtools)\n",
      "samtools: /home/adrian/anaconda3/bin/../lib/libncursesw.so.6: no version information available (required by samtools)\n"
     ]
    },
    {
     "name": "stdout",
     "output_type": "stream",
     "text": [
      "time samtools markdup -@ 10 -r /home/adrian/projects/reynisfjara/results/bam_k243r/a4774_72h_2/positionsort.bam /home/adrian/projects/reynisfjara/results/bam_k243r/a4774_72h_2/markdup.bam\n"
     ]
    },
    {
     "name": "stderr",
     "output_type": "stream",
     "text": [
      "456.17user 9.73system 1:28.73elapsed 525%CPU (0avgtext+0avgdata 302420maxresident)k\n",
      "208inputs+5613728outputs (0major+76155minor)pagefaults 0swaps\n",
      "samtools: /home/adrian/anaconda3/bin/../lib/libtinfow.so.6: no version information available (required by samtools)\n",
      "samtools: /home/adrian/anaconda3/bin/../lib/libncursesw.so.6: no version information available (required by samtools)\n",
      "samtools: /home/adrian/anaconda3/bin/../lib/libncursesw.so.6: no version information available (required by samtools)\n"
     ]
    },
    {
     "name": "stdout",
     "output_type": "stream",
     "text": [
      "time samtools sort -@ 10 -n -o /home/adrian/projects/reynisfjara/results/bam_k243r/a4775_0h_1/namesort.bam /home/adrian/projects/reynisfjara/results/bam_k243r/a4775_0h_1/a4775_0h_1.bam\n"
     ]
    },
    {
     "name": "stderr",
     "output_type": "stream",
     "text": [
      "[bam_sort_core] merging from 2 files and 10 in-memory blocks...\n",
      "633.82user 17.32system 1:15.17elapsed 866%CPU (0avgtext+0avgdata 8808148maxresident)k\n",
      "7793832inputs+15487592outputs (0major+2339686minor)pagefaults 0swaps\n",
      "samtools: /home/adrian/anaconda3/bin/../lib/libtinfow.so.6: no version information available (required by samtools)\n",
      "samtools: /home/adrian/anaconda3/bin/../lib/libncursesw.so.6: no version information available (required by samtools)\n",
      "samtools: /home/adrian/anaconda3/bin/../lib/libncursesw.so.6: no version information available (required by samtools)\n"
     ]
    },
    {
     "name": "stdout",
     "output_type": "stream",
     "text": [
      "time samtools fixmate -@ 10 -m /home/adrian/projects/reynisfjara/results/bam_k243r/a4775_0h_1/namesort.bam /home/adrian/projects/reynisfjara/results/bam_k243r/a4775_0h_1/fixmate.bam\n"
     ]
    },
    {
     "name": "stderr",
     "output_type": "stream",
     "text": [
      "386.60user 8.27system 0:40.46elapsed 975%CPU (0avgtext+0avgdata 45212maxresident)k\n",
      "256inputs+8084360outputs (0major+11984minor)pagefaults 0swaps\n",
      "samtools: /home/adrian/anaconda3/bin/../lib/libtinfow.so.6: no version information available (required by samtools)\n",
      "samtools: /home/adrian/anaconda3/bin/../lib/libncursesw.so.6: no version information available (required by samtools)\n",
      "samtools: /home/adrian/anaconda3/bin/../lib/libncursesw.so.6: no version information available (required by samtools)\n"
     ]
    },
    {
     "name": "stdout",
     "output_type": "stream",
     "text": [
      "time samtools sort -@ 10 -o /home/adrian/projects/reynisfjara/results/bam_k243r/a4775_0h_1/positionsort.bam /home/adrian/projects/reynisfjara/results/bam_k243r/a4775_0h_1/fixmate.bam\n"
     ]
    },
    {
     "name": "stderr",
     "output_type": "stream",
     "text": [
      "[bam_sort_core] merging from 2 files and 10 in-memory blocks...\n",
      "438.66user 13.01system 1:02.18elapsed 726%CPU (0avgtext+0avgdata 8778352maxresident)k\n",
      "256inputs+8299048outputs (0major+2336191minor)pagefaults 0swaps\n",
      "samtools: /home/adrian/anaconda3/bin/../lib/libtinfow.so.6: no version information available (required by samtools)\n",
      "samtools: /home/adrian/anaconda3/bin/../lib/libncursesw.so.6: no version information available (required by samtools)\n",
      "samtools: /home/adrian/anaconda3/bin/../lib/libncursesw.so.6: no version information available (required by samtools)\n"
     ]
    },
    {
     "name": "stdout",
     "output_type": "stream",
     "text": [
      "time samtools markdup -@ 10 -r /home/adrian/projects/reynisfjara/results/bam_k243r/a4775_0h_1/positionsort.bam /home/adrian/projects/reynisfjara/results/bam_k243r/a4775_0h_1/markdup.bam\n"
     ]
    },
    {
     "name": "stderr",
     "output_type": "stream",
     "text": [
      "270.68user 5.93system 0:53.07elapsed 521%CPU (0avgtext+0avgdata 199868maxresident)k\n",
      "104inputs+3341128outputs (0major+50553minor)pagefaults 0swaps\n",
      "samtools: /home/adrian/anaconda3/bin/../lib/libtinfow.so.6: no version information available (required by samtools)\n",
      "samtools: /home/adrian/anaconda3/bin/../lib/libncursesw.so.6: no version information available (required by samtools)\n",
      "samtools: /home/adrian/anaconda3/bin/../lib/libncursesw.so.6: no version information available (required by samtools)\n"
     ]
    },
    {
     "name": "stdout",
     "output_type": "stream",
     "text": [
      "time samtools sort -@ 10 -n -o /home/adrian/projects/reynisfjara/results/bam_k243r/a4775_0h_2/namesort.bam /home/adrian/projects/reynisfjara/results/bam_k243r/a4775_0h_2/a4775_0h_2.bam\n"
     ]
    },
    {
     "name": "stderr",
     "output_type": "stream",
     "text": [
      "[bam_sort_core] merging from 3 files and 10 in-memory blocks...\n",
      "995.46user 25.56system 1:58.74elapsed 859%CPU (0avgtext+0avgdata 8808080maxresident)k\n",
      "12550328inputs+23939328outputs (0major+2494829minor)pagefaults 0swaps\n",
      "samtools: /home/adrian/anaconda3/bin/../lib/libtinfow.so.6: no version information available (required by samtools)\n",
      "samtools: /home/adrian/anaconda3/bin/../lib/libncursesw.so.6: no version information available (required by samtools)\n",
      "samtools: /home/adrian/anaconda3/bin/../lib/libncursesw.so.6: no version information available (required by samtools)\n"
     ]
    },
    {
     "name": "stdout",
     "output_type": "stream",
     "text": [
      "time samtools fixmate -@ 10 -m /home/adrian/projects/reynisfjara/results/bam_k243r/a4775_0h_2/namesort.bam /home/adrian/projects/reynisfjara/results/bam_k243r/a4775_0h_2/fixmate.bam\n"
     ]
    },
    {
     "name": "stderr",
     "output_type": "stream",
     "text": [
      "617.38user 13.27system 1:04.35elapsed 979%CPU (0avgtext+0avgdata 45392maxresident)k\n",
      "400inputs+13003192outputs (0major+12010minor)pagefaults 0swaps\n",
      "samtools: /home/adrian/anaconda3/bin/../lib/libtinfow.so.6: no version information available (required by samtools)\n",
      "samtools: /home/adrian/anaconda3/bin/../lib/libncursesw.so.6: no version information available (required by samtools)\n",
      "samtools: /home/adrian/anaconda3/bin/../lib/libncursesw.so.6: no version information available (required by samtools)\n"
     ]
    },
    {
     "name": "stdout",
     "output_type": "stream",
     "text": [
      "time samtools sort -@ 10 -o /home/adrian/projects/reynisfjara/results/bam_k243r/a4775_0h_2/positionsort.bam /home/adrian/projects/reynisfjara/results/bam_k243r/a4775_0h_2/fixmate.bam\n"
     ]
    },
    {
     "name": "stderr",
     "output_type": "stream",
     "text": [
      "[bam_sort_core] merging from 3 files and 10 in-memory blocks...\n",
      "692.70user 18.88system 1:35.10elapsed 748%CPU (0avgtext+0avgdata 8778160maxresident)k\n",
      "272inputs+12599032outputs (0major+2491174minor)pagefaults 0swaps\n",
      "samtools: /home/adrian/anaconda3/bin/../lib/libtinfow.so.6: no version information available (required by samtools)\n",
      "samtools: /home/adrian/anaconda3/bin/../lib/libncursesw.so.6: no version information available (required by samtools)\n",
      "samtools: /home/adrian/anaconda3/bin/../lib/libncursesw.so.6: no version information available (required by samtools)\n"
     ]
    },
    {
     "name": "stdout",
     "output_type": "stream",
     "text": [
      "time samtools markdup -@ 10 -r /home/adrian/projects/reynisfjara/results/bam_k243r/a4775_0h_2/positionsort.bam /home/adrian/projects/reynisfjara/results/bam_k243r/a4775_0h_2/markdup.bam\n"
     ]
    },
    {
     "name": "stderr",
     "output_type": "stream",
     "text": [
      "412.70user 9.04system 1:23.40elapsed 505%CPU (0avgtext+0avgdata 266276maxresident)k\n",
      "8inputs+5004640outputs (0major+67188minor)pagefaults 0swaps\n",
      "samtools: /home/adrian/anaconda3/bin/../lib/libtinfow.so.6: no version information available (required by samtools)\n",
      "samtools: /home/adrian/anaconda3/bin/../lib/libncursesw.so.6: no version information available (required by samtools)\n",
      "samtools: /home/adrian/anaconda3/bin/../lib/libncursesw.so.6: no version information available (required by samtools)\n"
     ]
    },
    {
     "name": "stdout",
     "output_type": "stream",
     "text": [
      "time samtools sort -@ 10 -n -o /home/adrian/projects/reynisfjara/results/bam_k243r/a4775_0h_3/namesort.bam /home/adrian/projects/reynisfjara/results/bam_k243r/a4775_0h_3/a4775_0h_3.bam\n"
     ]
    },
    {
     "name": "stderr",
     "output_type": "stream",
     "text": [
      "[bam_sort_core] merging from 3 files and 10 in-memory blocks...\n",
      "898.50user 23.68system 1:47.68elapsed 856%CPU (0avgtext+0avgdata 8807320maxresident)k\n",
      "10880168inputs+22381888outputs (0major+2439999minor)pagefaults 0swaps\n",
      "samtools: /home/adrian/anaconda3/bin/../lib/libtinfow.so.6: no version information available (required by samtools)\n",
      "samtools: /home/adrian/anaconda3/bin/../lib/libncursesw.so.6: no version information available (required by samtools)\n",
      "samtools: /home/adrian/anaconda3/bin/../lib/libncursesw.so.6: no version information available (required by samtools)\n"
     ]
    },
    {
     "name": "stdout",
     "output_type": "stream",
     "text": [
      "time samtools fixmate -@ 10 -m /home/adrian/projects/reynisfjara/results/bam_k243r/a4775_0h_3/namesort.bam /home/adrian/projects/reynisfjara/results/bam_k243r/a4775_0h_3/fixmate.bam\n"
     ]
    },
    {
     "name": "stderr",
     "output_type": "stream",
     "text": [
      "541.73user 11.39system 0:56.51elapsed 978%CPU (0avgtext+0avgdata 45040maxresident)k\n",
      "304inputs+11293800outputs (0major+11988minor)pagefaults 0swaps\n",
      "samtools: /home/adrian/anaconda3/bin/../lib/libtinfow.so.6: no version information available (required by samtools)\n",
      "samtools: /home/adrian/anaconda3/bin/../lib/libncursesw.so.6: no version information available (required by samtools)\n",
      "samtools: /home/adrian/anaconda3/bin/../lib/libncursesw.so.6: no version information available (required by samtools)\n"
     ]
    },
    {
     "name": "stdout",
     "output_type": "stream",
     "text": [
      "time samtools sort -@ 10 -o /home/adrian/projects/reynisfjara/results/bam_k243r/a4775_0h_3/positionsort.bam /home/adrian/projects/reynisfjara/results/bam_k243r/a4775_0h_3/fixmate.bam\n"
     ]
    },
    {
     "name": "stderr",
     "output_type": "stream",
     "text": [
      "[bam_sort_core] merging from 3 files and 10 in-memory blocks...\n",
      "626.51user 17.29system 1:24.94elapsed 757%CPU (0avgtext+0avgdata 8777808maxresident)k\n",
      "424inputs+11882464outputs (0major+2434483minor)pagefaults 0swaps\n",
      "samtools: /home/adrian/anaconda3/bin/../lib/libtinfow.so.6: no version information available (required by samtools)\n",
      "samtools: /home/adrian/anaconda3/bin/../lib/libncursesw.so.6: no version information available (required by samtools)\n",
      "samtools: /home/adrian/anaconda3/bin/../lib/libncursesw.so.6: no version information available (required by samtools)\n"
     ]
    },
    {
     "name": "stdout",
     "output_type": "stream",
     "text": [
      "time samtools markdup -@ 10 -r /home/adrian/projects/reynisfjara/results/bam_k243r/a4775_0h_3/positionsort.bam /home/adrian/projects/reynisfjara/results/bam_k243r/a4775_0h_3/markdup.bam\n"
     ]
    },
    {
     "name": "stderr",
     "output_type": "stream",
     "text": [
      "369.14user 7.68system 1:13.74elapsed 511%CPU (0avgtext+0avgdata 251280maxresident)k\n",
      "128inputs+4415296outputs (0major+63375minor)pagefaults 0swaps\n",
      "samtools: /home/adrian/anaconda3/bin/../lib/libtinfow.so.6: no version information available (required by samtools)\n",
      "samtools: /home/adrian/anaconda3/bin/../lib/libncursesw.so.6: no version information available (required by samtools)\n",
      "samtools: /home/adrian/anaconda3/bin/../lib/libncursesw.so.6: no version information available (required by samtools)\n"
     ]
    },
    {
     "name": "stdout",
     "output_type": "stream",
     "text": [
      "time samtools sort -@ 10 -n -o /home/adrian/projects/reynisfjara/results/bam_k243r/a4775_48h_1/namesort.bam /home/adrian/projects/reynisfjara/results/bam_k243r/a4775_48h_1/a4775_48h_1.bam\n"
     ]
    },
    {
     "name": "stderr",
     "output_type": "stream",
     "text": [
      "[bam_sort_core] merging from 2 files and 10 in-memory blocks...\n",
      "737.08user 19.10system 1:28.58elapsed 853%CPU (0avgtext+0avgdata 8807920maxresident)k\n",
      "9500672inputs+17193232outputs (0major+2392134minor)pagefaults 0swaps\n",
      "samtools: /home/adrian/anaconda3/bin/../lib/libtinfow.so.6: no version information available (required by samtools)\n",
      "samtools: /home/adrian/anaconda3/bin/../lib/libncursesw.so.6: no version information available (required by samtools)\n",
      "samtools: /home/adrian/anaconda3/bin/../lib/libncursesw.so.6: no version information available (required by samtools)\n"
     ]
    },
    {
     "name": "stdout",
     "output_type": "stream",
     "text": [
      "time samtools fixmate -@ 10 -m /home/adrian/projects/reynisfjara/results/bam_k243r/a4775_48h_1/namesort.bam /home/adrian/projects/reynisfjara/results/bam_k243r/a4775_48h_1/fixmate.bam\n"
     ]
    },
    {
     "name": "stderr",
     "output_type": "stream",
     "text": [
      "471.32user 10.00system 0:50.11elapsed 960%CPU (0avgtext+0avgdata 43968maxresident)k\n",
      "160inputs+9854248outputs (0major+11827minor)pagefaults 0swaps\n",
      "samtools: /home/adrian/anaconda3/bin/../lib/libtinfow.so.6: no version information available (required by samtools)\n",
      "samtools: /home/adrian/anaconda3/bin/../lib/libncursesw.so.6: no version information available (required by samtools)\n",
      "samtools: /home/adrian/anaconda3/bin/../lib/libncursesw.so.6: no version information available (required by samtools)\n"
     ]
    },
    {
     "name": "stdout",
     "output_type": "stream",
     "text": [
      "time samtools sort -@ 10 -o /home/adrian/projects/reynisfjara/results/bam_k243r/a4775_48h_1/positionsort.bam /home/adrian/projects/reynisfjara/results/bam_k243r/a4775_48h_1/fixmate.bam\n"
     ]
    },
    {
     "name": "stderr",
     "output_type": "stream",
     "text": [
      "[bam_sort_core] merging from 2 files and 10 in-memory blocks...\n",
      "521.11user 14.54system 1:09.28elapsed 773%CPU (0avgtext+0avgdata 8778236maxresident)k\n",
      "280inputs+9243952outputs (0major+2388364minor)pagefaults 0swaps\n",
      "samtools: /home/adrian/anaconda3/bin/../lib/libtinfow.so.6: no version information available (required by samtools)\n",
      "samtools: /home/adrian/anaconda3/bin/../lib/libncursesw.so.6: no version information available (required by samtools)\n",
      "samtools: /home/adrian/anaconda3/bin/../lib/libncursesw.so.6: no version information available (required by samtools)\n"
     ]
    },
    {
     "name": "stdout",
     "output_type": "stream",
     "text": [
      "time samtools markdup -@ 10 -r /home/adrian/projects/reynisfjara/results/bam_k243r/a4775_48h_1/positionsort.bam /home/adrian/projects/reynisfjara/results/bam_k243r/a4775_48h_1/markdup.bam\n"
     ]
    },
    {
     "name": "stderr",
     "output_type": "stream",
     "text": [
      "332.06user 6.99system 1:05.00elapsed 521%CPU (0avgtext+0avgdata 187672maxresident)k\n",
      "64inputs+4065064outputs (0major+47509minor)pagefaults 0swaps\n",
      "samtools: /home/adrian/anaconda3/bin/../lib/libtinfow.so.6: no version information available (required by samtools)\n",
      "samtools: /home/adrian/anaconda3/bin/../lib/libncursesw.so.6: no version information available (required by samtools)\n",
      "samtools: /home/adrian/anaconda3/bin/../lib/libncursesw.so.6: no version information available (required by samtools)\n"
     ]
    },
    {
     "name": "stdout",
     "output_type": "stream",
     "text": [
      "time samtools sort -@ 10 -n -o /home/adrian/projects/reynisfjara/results/bam_k243r/a4775_48h_2/namesort.bam /home/adrian/projects/reynisfjara/results/bam_k243r/a4775_48h_2/a4775_48h_2.bam\n"
     ]
    },
    {
     "name": "stderr",
     "output_type": "stream",
     "text": [
      "[bam_sort_core] merging from 3 files and 10 in-memory blocks...\n",
      "953.90user 24.99system 1:55.82elapsed 845%CPU (0avgtext+0avgdata 8807844maxresident)k\n",
      "11878600inputs+23425040outputs (0major+2469151minor)pagefaults 0swaps\n",
      "samtools: /home/adrian/anaconda3/bin/../lib/libtinfow.so.6: no version information available (required by samtools)\n",
      "samtools: /home/adrian/anaconda3/bin/../lib/libncursesw.so.6: no version information available (required by samtools)\n",
      "samtools: /home/adrian/anaconda3/bin/../lib/libncursesw.so.6: no version information available (required by samtools)\n"
     ]
    },
    {
     "name": "stdout",
     "output_type": "stream",
     "text": [
      "time samtools fixmate -@ 10 -m /home/adrian/projects/reynisfjara/results/bam_k243r/a4775_48h_2/namesort.bam /home/adrian/projects/reynisfjara/results/bam_k243r/a4775_48h_2/fixmate.bam\n"
     ]
    },
    {
     "name": "stderr",
     "output_type": "stream",
     "text": [
      "593.14user 12.67system 1:01.50elapsed 984%CPU (0avgtext+0avgdata 45516maxresident)k\n",
      "416inputs+12319352outputs (0major+11986minor)pagefaults 0swaps\n",
      "samtools: /home/adrian/anaconda3/bin/../lib/libtinfow.so.6: no version information available (required by samtools)\n",
      "samtools: /home/adrian/anaconda3/bin/../lib/libncursesw.so.6: no version information available (required by samtools)\n",
      "samtools: /home/adrian/anaconda3/bin/../lib/libncursesw.so.6: no version information available (required by samtools)\n"
     ]
    },
    {
     "name": "stdout",
     "output_type": "stream",
     "text": [
      "time samtools sort -@ 10 -o /home/adrian/projects/reynisfjara/results/bam_k243r/a4775_48h_2/positionsort.bam /home/adrian/projects/reynisfjara/results/bam_k243r/a4775_48h_2/fixmate.bam\n"
     ]
    },
    {
     "name": "stderr",
     "output_type": "stream",
     "text": [
      "[bam_sort_core] merging from 3 files and 10 in-memory blocks...\n",
      "671.90user 18.66system 1:30.98elapsed 759%CPU (0avgtext+0avgdata 8777268maxresident)k\n",
      "368inputs+12546864outputs (0major+2465382minor)pagefaults 0swaps\n",
      "samtools: /home/adrian/anaconda3/bin/../lib/libtinfow.so.6: no version information available (required by samtools)\n",
      "samtools: /home/adrian/anaconda3/bin/../lib/libncursesw.so.6: no version information available (required by samtools)\n",
      "samtools: /home/adrian/anaconda3/bin/../lib/libncursesw.so.6: no version information available (required by samtools)\n"
     ]
    },
    {
     "name": "stdout",
     "output_type": "stream",
     "text": [
      "time samtools markdup -@ 10 -r /home/adrian/projects/reynisfjara/results/bam_k243r/a4775_48h_2/positionsort.bam /home/adrian/projects/reynisfjara/results/bam_k243r/a4775_48h_2/markdup.bam\n"
     ]
    },
    {
     "name": "stderr",
     "output_type": "stream",
     "text": [
      "407.79user 8.81system 1:20.00elapsed 520%CPU (0avgtext+0avgdata 229228maxresident)k\n",
      "32inputs+4935112outputs (0major+57910minor)pagefaults 0swaps\n",
      "samtools: /home/adrian/anaconda3/bin/../lib/libtinfow.so.6: no version information available (required by samtools)\n",
      "samtools: /home/adrian/anaconda3/bin/../lib/libncursesw.so.6: no version information available (required by samtools)\n",
      "samtools: /home/adrian/anaconda3/bin/../lib/libncursesw.so.6: no version information available (required by samtools)\n"
     ]
    },
    {
     "name": "stdout",
     "output_type": "stream",
     "text": [
      "time samtools sort -@ 10 -n -o /home/adrian/projects/reynisfjara/results/bam_k243r/a4775_48h_3/namesort.bam /home/adrian/projects/reynisfjara/results/bam_k243r/a4775_48h_3/a4775_48h_3.bam\n"
     ]
    },
    {
     "name": "stderr",
     "output_type": "stream",
     "text": [
      "[bam_sort_core] merging from 3 files and 10 in-memory blocks...\n",
      "927.28user 24.70system 1:51.76elapsed 851%CPU (0avgtext+0avgdata 8808092maxresident)k\n",
      "11474216inputs+22926328outputs (0major+2459297minor)pagefaults 0swaps\n",
      "samtools: /home/adrian/anaconda3/bin/../lib/libtinfow.so.6: no version information available (required by samtools)\n",
      "samtools: /home/adrian/anaconda3/bin/../lib/libncursesw.so.6: no version information available (required by samtools)\n",
      "samtools: /home/adrian/anaconda3/bin/../lib/libncursesw.so.6: no version information available (required by samtools)\n"
     ]
    },
    {
     "name": "stdout",
     "output_type": "stream",
     "text": [
      "time samtools fixmate -@ 10 -m /home/adrian/projects/reynisfjara/results/bam_k243r/a4775_48h_3/namesort.bam /home/adrian/projects/reynisfjara/results/bam_k243r/a4775_48h_3/fixmate.bam\n"
     ]
    },
    {
     "name": "stderr",
     "output_type": "stream",
     "text": [
      "570.58user 11.79system 0:58.88elapsed 988%CPU (0avgtext+0avgdata 44244maxresident)k\n",
      "328inputs+11895232outputs (1major+11829minor)pagefaults 0swaps\n",
      "samtools: /home/adrian/anaconda3/bin/../lib/libtinfow.so.6: no version information available (required by samtools)\n",
      "samtools: /home/adrian/anaconda3/bin/../lib/libncursesw.so.6: no version information available (required by samtools)\n",
      "samtools: /home/adrian/anaconda3/bin/../lib/libncursesw.so.6: no version information available (required by samtools)\n"
     ]
    },
    {
     "name": "stdout",
     "output_type": "stream",
     "text": [
      "time samtools sort -@ 10 -o /home/adrian/projects/reynisfjara/results/bam_k243r/a4775_48h_3/positionsort.bam /home/adrian/projects/reynisfjara/results/bam_k243r/a4775_48h_3/fixmate.bam\n"
     ]
    },
    {
     "name": "stderr",
     "output_type": "stream",
     "text": [
      "[bam_sort_core] merging from 3 files and 10 in-memory blocks...\n",
      "647.25user 19.02system 1:29.98elapsed 740%CPU (0avgtext+0avgdata 8777384maxresident)k\n",
      "336inputs+12228120outputs (0major+2455779minor)pagefaults 0swaps\n",
      "samtools: /home/adrian/anaconda3/bin/../lib/libtinfow.so.6: no version information available (required by samtools)\n",
      "samtools: /home/adrian/anaconda3/bin/../lib/libncursesw.so.6: no version information available (required by samtools)\n",
      "samtools: /home/adrian/anaconda3/bin/../lib/libncursesw.so.6: no version information available (required by samtools)\n"
     ]
    },
    {
     "name": "stdout",
     "output_type": "stream",
     "text": [
      "time samtools markdup -@ 10 -r /home/adrian/projects/reynisfjara/results/bam_k243r/a4775_48h_3/positionsort.bam /home/adrian/projects/reynisfjara/results/bam_k243r/a4775_48h_3/markdup.bam\n"
     ]
    },
    {
     "name": "stderr",
     "output_type": "stream",
     "text": [
      "381.79user 8.23system 1:16.57elapsed 509%CPU (0avgtext+0avgdata 236276maxresident)k\n",
      "112inputs+4661624outputs (0major+59733minor)pagefaults 0swaps\n",
      "samtools: /home/adrian/anaconda3/bin/../lib/libtinfow.so.6: no version information available (required by samtools)\n",
      "samtools: /home/adrian/anaconda3/bin/../lib/libncursesw.so.6: no version information available (required by samtools)\n",
      "samtools: /home/adrian/anaconda3/bin/../lib/libncursesw.so.6: no version information available (required by samtools)\n"
     ]
    },
    {
     "name": "stdout",
     "output_type": "stream",
     "text": [
      "time samtools sort -@ 10 -n -o /home/adrian/projects/reynisfjara/results/bam_k243r/a4775_72h_1/namesort.bam /home/adrian/projects/reynisfjara/results/bam_k243r/a4775_72h_1/a4775_72h_1.bam\n"
     ]
    },
    {
     "name": "stderr",
     "output_type": "stream",
     "text": [
      "[bam_sort_core] merging from 3 files and 10 in-memory blocks...\n",
      "1058.16user 25.98system 2:09.80elapsed 835%CPU (0avgtext+0avgdata 8808616maxresident)k\n",
      "13445280inputs+24985768outputs (0major+2517414minor)pagefaults 0swaps\n",
      "samtools: /home/adrian/anaconda3/bin/../lib/libtinfow.so.6: no version information available (required by samtools)\n",
      "samtools: /home/adrian/anaconda3/bin/../lib/libncursesw.so.6: no version information available (required by samtools)\n",
      "samtools: /home/adrian/anaconda3/bin/../lib/libncursesw.so.6: no version information available (required by samtools)\n"
     ]
    },
    {
     "name": "stdout",
     "output_type": "stream",
     "text": [
      "time samtools fixmate -@ 10 -m /home/adrian/projects/reynisfjara/results/bam_k243r/a4775_72h_1/namesort.bam /home/adrian/projects/reynisfjara/results/bam_k243r/a4775_72h_1/fixmate.bam\n"
     ]
    },
    {
     "name": "stderr",
     "output_type": "stream",
     "text": [
      "670.98user 14.20system 1:09.55elapsed 985%CPU (0avgtext+0avgdata 45332maxresident)k\n",
      "424inputs+13954648outputs (0major+11994minor)pagefaults 0swaps\n",
      "samtools: /home/adrian/anaconda3/bin/../lib/libtinfow.so.6: no version information available (required by samtools)\n",
      "samtools: /home/adrian/anaconda3/bin/../lib/libncursesw.so.6: no version information available (required by samtools)\n",
      "samtools: /home/adrian/anaconda3/bin/../lib/libncursesw.so.6: no version information available (required by samtools)\n"
     ]
    },
    {
     "name": "stdout",
     "output_type": "stream",
     "text": [
      "time samtools sort -@ 10 -o /home/adrian/projects/reynisfjara/results/bam_k243r/a4775_72h_1/positionsort.bam /home/adrian/projects/reynisfjara/results/bam_k243r/a4775_72h_1/fixmate.bam\n"
     ]
    },
    {
     "name": "stderr",
     "output_type": "stream",
     "text": [
      "[bam_sort_core] merging from 3 files and 10 in-memory blocks...\n",
      "570.61user 15.62system 1:23.55elapsed 701%CPU (0avgtext+0avgdata 8778024maxresident)k\n",
      "1480inputs+13400128outputs (0major+2513881minor)pagefaults 0swaps\n",
      "samtools: /home/adrian/anaconda3/bin/../lib/libtinfow.so.6: no version information available (required by samtools)\n",
      "samtools: /home/adrian/anaconda3/bin/../lib/libncursesw.so.6: no version information available (required by samtools)\n",
      "samtools: /home/adrian/anaconda3/bin/../lib/libncursesw.so.6: no version information available (required by samtools)\n"
     ]
    },
    {
     "name": "stdout",
     "output_type": "stream",
     "text": [
      "time samtools markdup -@ 10 -r /home/adrian/projects/reynisfjara/results/bam_k243r/a4775_72h_1/positionsort.bam /home/adrian/projects/reynisfjara/results/bam_k243r/a4775_72h_1/markdup.bam\n"
     ]
    },
    {
     "name": "stderr",
     "output_type": "stream",
     "text": [
      "336.29user 6.91system 1:08.15elapsed 503%CPU (0avgtext+0avgdata 270340maxresident)k\n",
      "200inputs+5428768outputs (0major+68117minor)pagefaults 0swaps\n",
      "samtools: /home/adrian/anaconda3/bin/../lib/libtinfow.so.6: no version information available (required by samtools)\n",
      "samtools: /home/adrian/anaconda3/bin/../lib/libncursesw.so.6: no version information available (required by samtools)\n",
      "samtools: /home/adrian/anaconda3/bin/../lib/libncursesw.so.6: no version information available (required by samtools)\n"
     ]
    },
    {
     "name": "stdout",
     "output_type": "stream",
     "text": [
      "time samtools sort -@ 10 -n -o /home/adrian/projects/reynisfjara/results/bam_k243r/a4775_72h_2/namesort.bam /home/adrian/projects/reynisfjara/results/bam_k243r/a4775_72h_2/a4775_72h_2.bam\n"
     ]
    },
    {
     "name": "stderr",
     "output_type": "stream",
     "text": [
      "[bam_sort_core] merging from 3 files and 10 in-memory blocks...\n",
      "742.41user 17.41system 1:30.43elapsed 840%CPU (0avgtext+0avgdata 8808256maxresident)k\n",
      "12631840inputs+24218272outputs (0major+2491342minor)pagefaults 0swaps\n",
      "samtools: /home/adrian/anaconda3/bin/../lib/libtinfow.so.6: no version information available (required by samtools)\n",
      "samtools: /home/adrian/anaconda3/bin/../lib/libncursesw.so.6: no version information available (required by samtools)\n",
      "samtools: /home/adrian/anaconda3/bin/../lib/libncursesw.so.6: no version information available (required by samtools)\n"
     ]
    },
    {
     "name": "stdout",
     "output_type": "stream",
     "text": [
      "time samtools fixmate -@ 10 -m /home/adrian/projects/reynisfjara/results/bam_k243r/a4775_72h_2/namesort.bam /home/adrian/projects/reynisfjara/results/bam_k243r/a4775_72h_2/fixmate.bam\n"
     ]
    },
    {
     "name": "stderr",
     "output_type": "stream",
     "text": [
      "468.61user 9.70system 0:48.21elapsed 992%CPU (0avgtext+0avgdata 44820maxresident)k\n",
      "336inputs+13111824outputs (0major+11974minor)pagefaults 0swaps\n",
      "samtools: /home/adrian/anaconda3/bin/../lib/libtinfow.so.6: no version information available (required by samtools)\n",
      "samtools: /home/adrian/anaconda3/bin/../lib/libncursesw.so.6: no version information available (required by samtools)\n",
      "samtools: /home/adrian/anaconda3/bin/../lib/libncursesw.so.6: no version information available (required by samtools)\n"
     ]
    },
    {
     "name": "stdout",
     "output_type": "stream",
     "text": [
      "time samtools sort -@ 10 -o /home/adrian/projects/reynisfjara/results/bam_k243r/a4775_72h_2/positionsort.bam /home/adrian/projects/reynisfjara/results/bam_k243r/a4775_72h_2/fixmate.bam\n"
     ]
    },
    {
     "name": "stderr",
     "output_type": "stream",
     "text": [
      "[bam_sort_core] merging from 3 files and 10 in-memory blocks...\n",
      "584.27user 15.41system 1:20.59elapsed 744%CPU (0avgtext+0avgdata 8781160maxresident)k\n",
      "1286136inputs+13118856outputs (0major+2487764minor)pagefaults 0swaps\n",
      "samtools: /home/adrian/anaconda3/bin/../lib/libtinfow.so.6: no version information available (required by samtools)\n",
      "samtools: /home/adrian/anaconda3/bin/../lib/libncursesw.so.6: no version information available (required by samtools)\n",
      "samtools: /home/adrian/anaconda3/bin/../lib/libncursesw.so.6: no version information available (required by samtools)\n"
     ]
    },
    {
     "name": "stdout",
     "output_type": "stream",
     "text": [
      "time samtools markdup -@ 10 -r /home/adrian/projects/reynisfjara/results/bam_k243r/a4775_72h_2/positionsort.bam /home/adrian/projects/reynisfjara/results/bam_k243r/a4775_72h_2/markdup.bam\n"
     ]
    },
    {
     "name": "stderr",
     "output_type": "stream",
     "text": [
      "497.19user 14.45system 1:53.33elapsed 451%CPU (0avgtext+0avgdata 241792maxresident)k\n",
      "2605016inputs+5288112outputs (0major+61055minor)pagefaults 0swaps\n",
      "samtools: /home/adrian/anaconda3/bin/../lib/libtinfow.so.6: no version information available (required by samtools)\n",
      "samtools: /home/adrian/anaconda3/bin/../lib/libncursesw.so.6: no version information available (required by samtools)\n",
      "samtools: /home/adrian/anaconda3/bin/../lib/libncursesw.so.6: no version information available (required by samtools)\n"
     ]
    },
    {
     "name": "stdout",
     "output_type": "stream",
     "text": [
      "time samtools sort -@ 10 -n -o /home/adrian/projects/reynisfjara/results/bam_k243r/a4775_72h_3/namesort.bam /home/adrian/projects/reynisfjara/results/bam_k243r/a4775_72h_3/a4775_72h_3.bam\n"
     ]
    },
    {
     "name": "stderr",
     "output_type": "stream",
     "text": [
      "[bam_sort_core] merging from 2 files and 10 in-memory blocks...\n",
      "858.11user 26.23system 1:52.03elapsed 789%CPU (0avgtext+0avgdata 8808100maxresident)k\n",
      "17126680inputs+17144944outputs (10major+2387143minor)pagefaults 0swaps\n",
      "samtools: /home/adrian/anaconda3/bin/../lib/libtinfow.so.6: no version information available (required by samtools)\n",
      "samtools: /home/adrian/anaconda3/bin/../lib/libncursesw.so.6: no version information available (required by samtools)\n",
      "samtools: /home/adrian/anaconda3/bin/../lib/libncursesw.so.6: no version information available (required by samtools)\n"
     ]
    },
    {
     "name": "stdout",
     "output_type": "stream",
     "text": [
      "time samtools fixmate -@ 10 -m /home/adrian/projects/reynisfjara/results/bam_k243r/a4775_72h_3/namesort.bam /home/adrian/projects/reynisfjara/results/bam_k243r/a4775_72h_3/fixmate.bam\n"
     ]
    },
    {
     "name": "stderr",
     "output_type": "stream",
     "text": [
      "490.43user 13.48system 0:50.88elapsed 990%CPU (0avgtext+0avgdata 44712maxresident)k\n",
      "7141544inputs+9761560outputs (8major+11904minor)pagefaults 0swaps\n",
      "samtools: /home/adrian/anaconda3/bin/../lib/libtinfow.so.6: no version information available (required by samtools)\n",
      "samtools: /home/adrian/anaconda3/bin/../lib/libncursesw.so.6: no version information available (required by samtools)\n",
      "samtools: /home/adrian/anaconda3/bin/../lib/libncursesw.so.6: no version information available (required by samtools)\n"
     ]
    },
    {
     "name": "stdout",
     "output_type": "stream",
     "text": [
      "time samtools sort -@ 10 -o /home/adrian/projects/reynisfjara/results/bam_k243r/a4775_72h_3/positionsort.bam /home/adrian/projects/reynisfjara/results/bam_k243r/a4775_72h_3/fixmate.bam\n"
     ]
    },
    {
     "name": "stderr",
     "output_type": "stream",
     "text": [
      "[bam_sort_core] merging from 2 files and 10 in-memory blocks...\n",
      "553.78user 20.08system 1:22.78elapsed 693%CPU (0avgtext+0avgdata 8780016maxresident)k\n",
      "10819592inputs+9355184outputs (4major+2383592minor)pagefaults 0swaps\n",
      "samtools: /home/adrian/anaconda3/bin/../lib/libtinfow.so.6: no version information available (required by samtools)\n",
      "samtools: /home/adrian/anaconda3/bin/../lib/libncursesw.so.6: no version information available (required by samtools)\n",
      "samtools: /home/adrian/anaconda3/bin/../lib/libncursesw.so.6: no version information available (required by samtools)\n"
     ]
    },
    {
     "name": "stdout",
     "output_type": "stream",
     "text": [
      "time samtools markdup -@ 10 -r /home/adrian/projects/reynisfjara/results/bam_k243r/a4775_72h_3/positionsort.bam /home/adrian/projects/reynisfjara/results/bam_k243r/a4775_72h_3/markdup.bam\n"
     ]
    },
    {
     "name": "stderr",
     "output_type": "stream",
     "text": [
      "381.56user 10.53system 1:19.56elapsed 492%CPU (0avgtext+0avgdata 193816maxresident)k\n",
      "3314952inputs+4135344outputs (16major+49029minor)pagefaults 0swaps\n",
      "samtools: /home/adrian/anaconda3/bin/../lib/libtinfow.so.6: no version information available (required by samtools)\n",
      "samtools: /home/adrian/anaconda3/bin/../lib/libncursesw.so.6: no version information available (required by samtools)\n",
      "samtools: /home/adrian/anaconda3/bin/../lib/libncursesw.so.6: no version information available (required by samtools)\n"
     ]
    },
    {
     "name": "stdout",
     "output_type": "stream",
     "text": [
      "time samtools sort -@ 10 -n -o /home/adrian/projects/reynisfjara/results/bam_k243r/a4776_0h_1/namesort.bam /home/adrian/projects/reynisfjara/results/bam_k243r/a4776_0h_1/a4776_0h_1.bam\n"
     ]
    },
    {
     "name": "stderr",
     "output_type": "stream",
     "text": [
      "[bam_sort_core] merging from 2 files and 10 in-memory blocks...\n",
      "808.67user 25.22system 1:41.90elapsed 818%CPU (0avgtext+0avgdata 8807528maxresident)k\n",
      "16392136inputs+16402272outputs (18major+2371132minor)pagefaults 0swaps\n",
      "samtools: /home/adrian/anaconda3/bin/../lib/libtinfow.so.6: no version information available (required by samtools)\n",
      "samtools: /home/adrian/anaconda3/bin/../lib/libncursesw.so.6: no version information available (required by samtools)\n",
      "samtools: /home/adrian/anaconda3/bin/../lib/libncursesw.so.6: no version information available (required by samtools)\n"
     ]
    },
    {
     "name": "stdout",
     "output_type": "stream",
     "text": [
      "time samtools fixmate -@ 10 -m /home/adrian/projects/reynisfjara/results/bam_k243r/a4776_0h_1/namesort.bam /home/adrian/projects/reynisfjara/results/bam_k243r/a4776_0h_1/fixmate.bam\n"
     ]
    },
    {
     "name": "stderr",
     "output_type": "stream",
     "text": [
      "453.74user 11.53system 0:46.59elapsed 998%CPU (0avgtext+0avgdata 45228maxresident)k\n",
      "3787200inputs+9080536outputs (9major+11972minor)pagefaults 0swaps\n",
      "samtools: /home/adrian/anaconda3/bin/../lib/libtinfow.so.6: no version information available (required by samtools)\n",
      "samtools: /home/adrian/anaconda3/bin/../lib/libncursesw.so.6: no version information available (required by samtools)\n",
      "samtools: /home/adrian/anaconda3/bin/../lib/libncursesw.so.6: no version information available (required by samtools)\n"
     ]
    },
    {
     "name": "stdout",
     "output_type": "stream",
     "text": [
      "time samtools sort -@ 10 -o /home/adrian/projects/reynisfjara/results/bam_k243r/a4776_0h_1/positionsort.bam /home/adrian/projects/reynisfjara/results/bam_k243r/a4776_0h_1/fixmate.bam\n"
     ]
    },
    {
     "name": "stderr",
     "output_type": "stream",
     "text": [
      "[bam_sort_core] merging from 2 files and 10 in-memory blocks...\n",
      "514.46user 19.82system 1:17.97elapsed 685%CPU (0avgtext+0avgdata 8778972maxresident)k\n",
      "9646272inputs+8799432outputs (1major+2367744minor)pagefaults 0swaps\n",
      "samtools: /home/adrian/anaconda3/bin/../lib/libtinfow.so.6: no version information available (required by samtools)\n",
      "samtools: /home/adrian/anaconda3/bin/../lib/libncursesw.so.6: no version information available (required by samtools)\n",
      "samtools: /home/adrian/anaconda3/bin/../lib/libncursesw.so.6: no version information available (required by samtools)\n"
     ]
    },
    {
     "name": "stdout",
     "output_type": "stream",
     "text": [
      "time samtools markdup -@ 10 -r /home/adrian/projects/reynisfjara/results/bam_k243r/a4776_0h_1/positionsort.bam /home/adrian/projects/reynisfjara/results/bam_k243r/a4776_0h_1/markdup.bam\n"
     ]
    },
    {
     "name": "stderr",
     "output_type": "stream",
     "text": [
      "351.77user 10.10system 1:19.98elapsed 452%CPU (0avgtext+0avgdata 236732maxresident)k\n",
      "2170592inputs+3767104outputs (18major+59737minor)pagefaults 0swaps\n",
      "samtools: /home/adrian/anaconda3/bin/../lib/libtinfow.so.6: no version information available (required by samtools)\n",
      "samtools: /home/adrian/anaconda3/bin/../lib/libncursesw.so.6: no version information available (required by samtools)\n",
      "samtools: /home/adrian/anaconda3/bin/../lib/libncursesw.so.6: no version information available (required by samtools)\n"
     ]
    },
    {
     "name": "stdout",
     "output_type": "stream",
     "text": [
      "time samtools sort -@ 10 -n -o /home/adrian/projects/reynisfjara/results/bam_k243r/a4776_0h_2/namesort.bam /home/adrian/projects/reynisfjara/results/bam_k243r/a4776_0h_2/a4776_0h_2.bam\n"
     ]
    },
    {
     "name": "stderr",
     "output_type": "stream",
     "text": [
      "[bam_sort_core] merging from 2 files and 10 in-memory blocks...\n",
      "898.83user 26.64system 1:53.22elapsed 817%CPU (0avgtext+0avgdata 8808280maxresident)k\n",
      "17573784inputs+17650176outputs (9major+2412686minor)pagefaults 0swaps\n",
      "samtools: /home/adrian/anaconda3/bin/../lib/libtinfow.so.6: no version information available (required by samtools)\n",
      "samtools: /home/adrian/anaconda3/bin/../lib/libncursesw.so.6: no version information available (required by samtools)\n",
      "samtools: /home/adrian/anaconda3/bin/../lib/libncursesw.so.6: no version information available (required by samtools)\n"
     ]
    },
    {
     "name": "stdout",
     "output_type": "stream",
     "text": [
      "time samtools fixmate -@ 10 -m /home/adrian/projects/reynisfjara/results/bam_k243r/a4776_0h_2/namesort.bam /home/adrian/projects/reynisfjara/results/bam_k243r/a4776_0h_2/fixmate.bam\n"
     ]
    },
    {
     "name": "stderr",
     "output_type": "stream",
     "text": [
      "516.98user 13.95system 0:53.13elapsed 999%CPU (0avgtext+0avgdata 45048maxresident)k\n",
      "8506616inputs+10404936outputs (14major+11975minor)pagefaults 0swaps\n",
      "samtools: /home/adrian/anaconda3/bin/../lib/libtinfow.so.6: no version information available (required by samtools)\n",
      "samtools: /home/adrian/anaconda3/bin/../lib/libncursesw.so.6: no version information available (required by samtools)\n",
      "samtools: /home/adrian/anaconda3/bin/../lib/libncursesw.so.6: no version information available (required by samtools)\n"
     ]
    },
    {
     "name": "stdout",
     "output_type": "stream",
     "text": [
      "time samtools sort -@ 10 -o /home/adrian/projects/reynisfjara/results/bam_k243r/a4776_0h_2/positionsort.bam /home/adrian/projects/reynisfjara/results/bam_k243r/a4776_0h_2/fixmate.bam\n"
     ]
    },
    {
     "name": "stderr",
     "output_type": "stream",
     "text": [
      "[bam_sort_core] merging from 2 files and 10 in-memory blocks...\n",
      "549.08user 23.68system 1:29.46elapsed 640%CPU (0avgtext+0avgdata 8778520maxresident)k\n",
      "10954624inputs+9295144outputs (493major+2408919minor)pagefaults 0swaps\n",
      "samtools: /home/adrian/anaconda3/bin/../lib/libtinfow.so.6: no version information available (required by samtools)\n",
      "samtools: /home/adrian/anaconda3/bin/../lib/libncursesw.so.6: no version information available (required by samtools)\n",
      "samtools: /home/adrian/anaconda3/bin/../lib/libncursesw.so.6: no version information available (required by samtools)\n"
     ]
    },
    {
     "name": "stdout",
     "output_type": "stream",
     "text": [
      "time samtools markdup -@ 10 -r /home/adrian/projects/reynisfjara/results/bam_k243r/a4776_0h_2/positionsort.bam /home/adrian/projects/reynisfjara/results/bam_k243r/a4776_0h_2/markdup.bam\n"
     ]
    },
    {
     "name": "stderr",
     "output_type": "stream",
     "text": [
      "305.92user 7.02system 0:57.30elapsed 546%CPU (0avgtext+0avgdata 262332maxresident)k\n",
      "1312inputs+4128728outputs (0major+66256minor)pagefaults 0swaps\n",
      "samtools: /home/adrian/anaconda3/bin/../lib/libtinfow.so.6: no version information available (required by samtools)\n",
      "samtools: /home/adrian/anaconda3/bin/../lib/libncursesw.so.6: no version information available (required by samtools)\n",
      "samtools: /home/adrian/anaconda3/bin/../lib/libncursesw.so.6: no version information available (required by samtools)\n"
     ]
    },
    {
     "name": "stdout",
     "output_type": "stream",
     "text": [
      "time samtools sort -@ 10 -n -o /home/adrian/projects/reynisfjara/results/bam_k243r/a4776_0h_3/namesort.bam /home/adrian/projects/reynisfjara/results/bam_k243r/a4776_0h_3/a4776_0h_3.bam\n"
     ]
    },
    {
     "name": "stderr",
     "output_type": "stream",
     "text": [
      "[bam_sort_core] merging from 2 files and 10 in-memory blocks...\n",
      "752.52user 17.88system 1:29.65elapsed 859%CPU (0avgtext+0avgdata 8808436maxresident)k\n",
      "10045800inputs+17685864outputs (0major+2411391minor)pagefaults 0swaps\n",
      "samtools: /home/adrian/anaconda3/bin/../lib/libtinfow.so.6: no version information available (required by samtools)\n",
      "samtools: /home/adrian/anaconda3/bin/../lib/libncursesw.so.6: no version information available (required by samtools)\n",
      "samtools: /home/adrian/anaconda3/bin/../lib/libncursesw.so.6: no version information available (required by samtools)\n"
     ]
    },
    {
     "name": "stdout",
     "output_type": "stream",
     "text": [
      "time samtools fixmate -@ 10 -m /home/adrian/projects/reynisfjara/results/bam_k243r/a4776_0h_3/namesort.bam /home/adrian/projects/reynisfjara/results/bam_k243r/a4776_0h_3/fixmate.bam\n"
     ]
    },
    {
     "name": "stderr",
     "output_type": "stream",
     "text": [
      "455.42user 9.15system 0:46.01elapsed 1009%CPU (0avgtext+0avgdata 44444maxresident)k\n",
      "496inputs+10415752outputs (0major+11861minor)pagefaults 0swaps\n",
      "samtools: /home/adrian/anaconda3/bin/../lib/libtinfow.so.6: no version information available (required by samtools)\n",
      "samtools: /home/adrian/anaconda3/bin/../lib/libncursesw.so.6: no version information available (required by samtools)\n",
      "samtools: /home/adrian/anaconda3/bin/../lib/libncursesw.so.6: no version information available (required by samtools)\n"
     ]
    },
    {
     "name": "stdout",
     "output_type": "stream",
     "text": [
      "time samtools sort -@ 10 -o /home/adrian/projects/reynisfjara/results/bam_k243r/a4776_0h_3/positionsort.bam /home/adrian/projects/reynisfjara/results/bam_k243r/a4776_0h_3/fixmate.bam\n"
     ]
    },
    {
     "name": "stderr",
     "output_type": "stream",
     "text": [
      "[bam_sort_core] merging from 2 files and 10 in-memory blocks...\n",
      "454.93user 12.41system 1:02.74elapsed 744%CPU (0avgtext+0avgdata 8777488maxresident)k\n",
      "648inputs+9360984outputs (0major+2407752minor)pagefaults 0swaps\n",
      "samtools: /home/adrian/anaconda3/bin/../lib/libtinfow.so.6: no version information available (required by samtools)\n",
      "samtools: /home/adrian/anaconda3/bin/../lib/libncursesw.so.6: no version information available (required by samtools)\n",
      "samtools: /home/adrian/anaconda3/bin/../lib/libncursesw.so.6: no version information available (required by samtools)\n"
     ]
    },
    {
     "name": "stdout",
     "output_type": "stream",
     "text": [
      "time samtools markdup -@ 10 -r /home/adrian/projects/reynisfjara/results/bam_k243r/a4776_0h_3/positionsort.bam /home/adrian/projects/reynisfjara/results/bam_k243r/a4776_0h_3/markdup.bam\n"
     ]
    },
    {
     "name": "stderr",
     "output_type": "stream",
     "text": [
      "263.08user 5.66system 0:46.76elapsed 574%CPU (0avgtext+0avgdata 264928maxresident)k\n",
      "1744inputs+4138448outputs (12major+66847minor)pagefaults 0swaps\n",
      "samtools: /home/adrian/anaconda3/bin/../lib/libtinfow.so.6: no version information available (required by samtools)\n",
      "samtools: /home/adrian/anaconda3/bin/../lib/libncursesw.so.6: no version information available (required by samtools)\n",
      "samtools: /home/adrian/anaconda3/bin/../lib/libncursesw.so.6: no version information available (required by samtools)\n"
     ]
    },
    {
     "name": "stdout",
     "output_type": "stream",
     "text": [
      "time samtools sort -@ 10 -n -o /home/adrian/projects/reynisfjara/results/bam_k243r/a4776_48h_1/namesort.bam /home/adrian/projects/reynisfjara/results/bam_k243r/a4776_48h_1/a4776_48h_1.bam\n"
     ]
    },
    {
     "name": "stderr",
     "output_type": "stream",
     "text": [
      "[bam_sort_core] merging from 3 files and 10 in-memory blocks...\n",
      "799.91user 19.00system 1:42.83elapsed 796%CPU (0avgtext+0avgdata 8809828maxresident)k\n",
      "12272808inputs+23865192outputs (0major+2481062minor)pagefaults 0swaps\n",
      "samtools: /home/adrian/anaconda3/bin/../lib/libtinfow.so.6: no version information available (required by samtools)\n",
      "samtools: /home/adrian/anaconda3/bin/../lib/libncursesw.so.6: no version information available (required by samtools)\n",
      "samtools: /home/adrian/anaconda3/bin/../lib/libncursesw.so.6: no version information available (required by samtools)\n"
     ]
    },
    {
     "name": "stdout",
     "output_type": "stream",
     "text": [
      "time samtools fixmate -@ 10 -m /home/adrian/projects/reynisfjara/results/bam_k243r/a4776_48h_1/namesort.bam /home/adrian/projects/reynisfjara/results/bam_k243r/a4776_48h_1/fixmate.bam\n"
     ]
    },
    {
     "name": "stderr",
     "output_type": "stream",
     "text": [
      "607.44user 12.35system 1:20.75elapsed 767%CPU (0avgtext+0avgdata 45012maxresident)k\n",
      "632inputs+12741872outputs (0major+11992minor)pagefaults 0swaps\n",
      "samtools: /home/adrian/anaconda3/bin/../lib/libtinfow.so.6: no version information available (required by samtools)\n",
      "samtools: /home/adrian/anaconda3/bin/../lib/libncursesw.so.6: no version information available (required by samtools)\n",
      "samtools: /home/adrian/anaconda3/bin/../lib/libncursesw.so.6: no version information available (required by samtools)\n"
     ]
    },
    {
     "name": "stdout",
     "output_type": "stream",
     "text": [
      "time samtools sort -@ 10 -o /home/adrian/projects/reynisfjara/results/bam_k243r/a4776_48h_1/positionsort.bam /home/adrian/projects/reynisfjara/results/bam_k243r/a4776_48h_1/fixmate.bam\n"
     ]
    },
    {
     "name": "stderr",
     "output_type": "stream",
     "text": [
      "[bam_sort_core] merging from 3 files and 10 in-memory blocks...\n",
      "574.69user 16.46system 1:44.74elapsed 564%CPU (0avgtext+0avgdata 8781988maxresident)k\n",
      "696inputs+13103344outputs (0major+2477096minor)pagefaults 0swaps\n",
      "samtools: /home/adrian/anaconda3/bin/../lib/libtinfow.so.6: no version information available (required by samtools)\n",
      "samtools: /home/adrian/anaconda3/bin/../lib/libncursesw.so.6: no version information available (required by samtools)\n",
      "samtools: /home/adrian/anaconda3/bin/../lib/libncursesw.so.6: no version information available (required by samtools)\n"
     ]
    },
    {
     "name": "stdout",
     "output_type": "stream",
     "text": [
      "time samtools markdup -@ 10 -r /home/adrian/projects/reynisfjara/results/bam_k243r/a4776_48h_1/positionsort.bam /home/adrian/projects/reynisfjara/results/bam_k243r/a4776_48h_1/markdup.bam\n"
     ]
    },
    {
     "name": "stderr",
     "output_type": "stream",
     "text": [
      "368.32user 7.69system 1:09.84elapsed 538%CPU (0avgtext+0avgdata 330548maxresident)k\n",
      "256inputs+5223768outputs (0major+83338minor)pagefaults 0swaps\n",
      "samtools: /home/adrian/anaconda3/bin/../lib/libtinfow.so.6: no version information available (required by samtools)\n",
      "samtools: /home/adrian/anaconda3/bin/../lib/libncursesw.so.6: no version information available (required by samtools)\n",
      "samtools: /home/adrian/anaconda3/bin/../lib/libncursesw.so.6: no version information available (required by samtools)\n"
     ]
    },
    {
     "name": "stdout",
     "output_type": "stream",
     "text": [
      "time samtools sort -@ 10 -n -o /home/adrian/projects/reynisfjara/results/bam_k243r/a4776_48h_2/namesort.bam /home/adrian/projects/reynisfjara/results/bam_k243r/a4776_48h_2/a4776_48h_2.bam\n"
     ]
    },
    {
     "name": "stderr",
     "output_type": "stream",
     "text": [
      "[bam_sort_core] merging from 3 files and 10 in-memory blocks...\n",
      "1079.86user 26.23system 2:08.94elapsed 857%CPU (0avgtext+0avgdata 8808388maxresident)k\n",
      "13744936inputs+25451032outputs (0major+2521630minor)pagefaults 0swaps\n",
      "samtools: /home/adrian/anaconda3/bin/../lib/libtinfow.so.6: no version information available (required by samtools)\n",
      "samtools: /home/adrian/anaconda3/bin/../lib/libncursesw.so.6: no version information available (required by samtools)\n",
      "samtools: /home/adrian/anaconda3/bin/../lib/libncursesw.so.6: no version information available (required by samtools)\n"
     ]
    },
    {
     "name": "stdout",
     "output_type": "stream",
     "text": [
      "time samtools fixmate -@ 10 -m /home/adrian/projects/reynisfjara/results/bam_k243r/a4776_48h_2/namesort.bam /home/adrian/projects/reynisfjara/results/bam_k243r/a4776_48h_2/fixmate.bam\n"
     ]
    },
    {
     "name": "stderr",
     "output_type": "stream",
     "text": [
      "693.73user 14.17system 1:11.24elapsed 993%CPU (0avgtext+0avgdata 45236maxresident)k\n",
      "1384inputs+14278088outputs (5major+11986minor)pagefaults 0swaps\n",
      "samtools: /home/adrian/anaconda3/bin/../lib/libtinfow.so.6: no version information available (required by samtools)\n",
      "samtools: /home/adrian/anaconda3/bin/../lib/libncursesw.so.6: no version information available (required by samtools)\n",
      "samtools: /home/adrian/anaconda3/bin/../lib/libncursesw.so.6: no version information available (required by samtools)\n"
     ]
    },
    {
     "name": "stdout",
     "output_type": "stream",
     "text": [
      "time samtools sort -@ 10 -o /home/adrian/projects/reynisfjara/results/bam_k243r/a4776_48h_2/positionsort.bam /home/adrian/projects/reynisfjara/results/bam_k243r/a4776_48h_2/fixmate.bam\n"
     ]
    },
    {
     "name": "stderr",
     "output_type": "stream",
     "text": [
      "[bam_sort_core] merging from 3 files and 10 in-memory blocks...\n",
      "769.73user 19.76system 1:42.50elapsed 770%CPU (0avgtext+0avgdata 8778296maxresident)k\n",
      "544inputs+13863880outputs (0major+2518262minor)pagefaults 0swaps\n",
      "samtools: /home/adrian/anaconda3/bin/../lib/libtinfow.so.6: no version information available (required by samtools)\n",
      "samtools: /home/adrian/anaconda3/bin/../lib/libncursesw.so.6: no version information available (required by samtools)\n",
      "samtools: /home/adrian/anaconda3/bin/../lib/libncursesw.so.6: no version information available (required by samtools)\n"
     ]
    },
    {
     "name": "stdout",
     "output_type": "stream",
     "text": [
      "time samtools markdup -@ 10 -r /home/adrian/projects/reynisfjara/results/bam_k243r/a4776_48h_2/positionsort.bam /home/adrian/projects/reynisfjara/results/bam_k243r/a4776_48h_2/markdup.bam\n"
     ]
    },
    {
     "name": "stderr",
     "output_type": "stream",
     "text": [
      "475.99user 9.83system 1:30.61elapsed 536%CPU (0avgtext+0avgdata 356104maxresident)k\n",
      "304inputs+5692272outputs (0major+89670minor)pagefaults 0swaps\n",
      "samtools: /home/adrian/anaconda3/bin/../lib/libtinfow.so.6: no version information available (required by samtools)\n",
      "samtools: /home/adrian/anaconda3/bin/../lib/libncursesw.so.6: no version information available (required by samtools)\n",
      "samtools: /home/adrian/anaconda3/bin/../lib/libncursesw.so.6: no version information available (required by samtools)\n"
     ]
    },
    {
     "name": "stdout",
     "output_type": "stream",
     "text": [
      "time samtools sort -@ 10 -n -o /home/adrian/projects/reynisfjara/results/bam_k243r/a4776_48h_3/namesort.bam /home/adrian/projects/reynisfjara/results/bam_k243r/a4776_48h_3/a4776_48h_3.bam\n"
     ]
    },
    {
     "name": "stderr",
     "output_type": "stream",
     "text": [
      "[bam_sort_core] merging from 2 files and 10 in-memory blocks...\n",
      "791.91user 19.47system 1:34.08elapsed 862%CPU (0avgtext+0avgdata 8809108maxresident)k\n",
      "10238624inputs+18062816outputs (0major+2410499minor)pagefaults 0swaps\n",
      "samtools: /home/adrian/anaconda3/bin/../lib/libtinfow.so.6: no version information available (required by samtools)\n",
      "samtools: /home/adrian/anaconda3/bin/../lib/libncursesw.so.6: no version information available (required by samtools)\n",
      "samtools: /home/adrian/anaconda3/bin/../lib/libncursesw.so.6: no version information available (required by samtools)\n"
     ]
    },
    {
     "name": "stdout",
     "output_type": "stream",
     "text": [
      "time samtools fixmate -@ 10 -m /home/adrian/projects/reynisfjara/results/bam_k243r/a4776_48h_3/namesort.bam /home/adrian/projects/reynisfjara/results/bam_k243r/a4776_48h_3/fixmate.bam\n"
     ]
    },
    {
     "name": "stderr",
     "output_type": "stream",
     "text": [
      "519.43user 10.53system 0:55.22elapsed 959%CPU (0avgtext+0avgdata 45184maxresident)k\n",
      "448inputs+10640696outputs (0major+12009minor)pagefaults 0swaps\n",
      "samtools: /home/adrian/anaconda3/bin/../lib/libtinfow.so.6: no version information available (required by samtools)\n",
      "samtools: /home/adrian/anaconda3/bin/../lib/libncursesw.so.6: no version information available (required by samtools)\n",
      "samtools: /home/adrian/anaconda3/bin/../lib/libncursesw.so.6: no version information available (required by samtools)\n"
     ]
    },
    {
     "name": "stdout",
     "output_type": "stream",
     "text": [
      "time samtools sort -@ 10 -o /home/adrian/projects/reynisfjara/results/bam_k243r/a4776_48h_3/positionsort.bam /home/adrian/projects/reynisfjara/results/bam_k243r/a4776_48h_3/fixmate.bam\n"
     ]
    },
    {
     "name": "stderr",
     "output_type": "stream",
     "text": [
      "[bam_sort_core] merging from 2 files and 10 in-memory blocks...\n",
      "565.40user 14.94system 1:16.23elapsed 761%CPU (0avgtext+0avgdata 8781444maxresident)k\n",
      "472inputs+10000256outputs (0major+2407038minor)pagefaults 0swaps\n",
      "samtools: /home/adrian/anaconda3/bin/../lib/libtinfow.so.6: no version information available (required by samtools)\n",
      "samtools: /home/adrian/anaconda3/bin/../lib/libncursesw.so.6: no version information available (required by samtools)\n",
      "samtools: /home/adrian/anaconda3/bin/../lib/libncursesw.so.6: no version information available (required by samtools)\n"
     ]
    },
    {
     "name": "stdout",
     "output_type": "stream",
     "text": [
      "time samtools markdup -@ 10 -r /home/adrian/projects/reynisfjara/results/bam_k243r/a4776_48h_3/positionsort.bam /home/adrian/projects/reynisfjara/results/bam_k243r/a4776_48h_3/markdup.bam\n"
     ]
    },
    {
     "name": "stderr",
     "output_type": "stream",
     "text": [
      "370.11user 7.96system 1:09.70elapsed 542%CPU (0avgtext+0avgdata 267532maxresident)k\n",
      "712inputs+4538904outputs (5major+67453minor)pagefaults 0swaps\n",
      "samtools: /home/adrian/anaconda3/bin/../lib/libtinfow.so.6: no version information available (required by samtools)\n",
      "samtools: /home/adrian/anaconda3/bin/../lib/libncursesw.so.6: no version information available (required by samtools)\n",
      "samtools: /home/adrian/anaconda3/bin/../lib/libncursesw.so.6: no version information available (required by samtools)\n"
     ]
    },
    {
     "name": "stdout",
     "output_type": "stream",
     "text": [
      "time samtools sort -@ 10 -n -o /home/adrian/projects/reynisfjara/results/bam_k243r/a4776_72h_1/namesort.bam /home/adrian/projects/reynisfjara/results/bam_k243r/a4776_72h_1/a4776_72h_1.bam\n"
     ]
    },
    {
     "name": "stderr",
     "output_type": "stream",
     "text": [
      "[bam_sort_core] merging from 2 files and 10 in-memory blocks...\n",
      "728.60user 18.82system 1:29.10elapsed 838%CPU (0avgtext+0avgdata 8809108maxresident)k\n",
      "9355600inputs+17062416outputs (0major+2387679minor)pagefaults 0swaps\n",
      "samtools: /home/adrian/anaconda3/bin/../lib/libtinfow.so.6: no version information available (required by samtools)\n",
      "samtools: /home/adrian/anaconda3/bin/../lib/libncursesw.so.6: no version information available (required by samtools)\n",
      "samtools: /home/adrian/anaconda3/bin/../lib/libncursesw.so.6: no version information available (required by samtools)\n"
     ]
    },
    {
     "name": "stdout",
     "output_type": "stream",
     "text": [
      "time samtools fixmate -@ 10 -m /home/adrian/projects/reynisfjara/results/bam_k243r/a4776_72h_1/namesort.bam /home/adrian/projects/reynisfjara/results/bam_k243r/a4776_72h_1/fixmate.bam\n"
     ]
    },
    {
     "name": "stderr",
     "output_type": "stream",
     "text": [
      "469.65user 9.82system 0:47.38elapsed 1011%CPU (0avgtext+0avgdata 45136maxresident)k\n",
      "544inputs+9713624outputs (1major+11993minor)pagefaults 0swaps\n",
      "samtools: /home/adrian/anaconda3/bin/../lib/libtinfow.so.6: no version information available (required by samtools)\n",
      "samtools: /home/adrian/anaconda3/bin/../lib/libncursesw.so.6: no version information available (required by samtools)\n",
      "samtools: /home/adrian/anaconda3/bin/../lib/libncursesw.so.6: no version information available (required by samtools)\n"
     ]
    },
    {
     "name": "stdout",
     "output_type": "stream",
     "text": [
      "time samtools sort -@ 10 -o /home/adrian/projects/reynisfjara/results/bam_k243r/a4776_72h_1/positionsort.bam /home/adrian/projects/reynisfjara/results/bam_k243r/a4776_72h_1/fixmate.bam\n"
     ]
    },
    {
     "name": "stderr",
     "output_type": "stream",
     "text": [
      "[bam_sort_core] merging from 2 files and 10 in-memory blocks...\n",
      "516.13user 13.60system 1:10.76elapsed 748%CPU (0avgtext+0avgdata 8781676maxresident)k\n",
      "328inputs+9342904outputs (0major+2384165minor)pagefaults 0swaps\n",
      "samtools: /home/adrian/anaconda3/bin/../lib/libtinfow.so.6: no version information available (required by samtools)\n",
      "samtools: /home/adrian/anaconda3/bin/../lib/libncursesw.so.6: no version information available (required by samtools)\n",
      "samtools: /home/adrian/anaconda3/bin/../lib/libncursesw.so.6: no version information available (required by samtools)\n"
     ]
    },
    {
     "name": "stdout",
     "output_type": "stream",
     "text": [
      "time samtools markdup -@ 10 -r /home/adrian/projects/reynisfjara/results/bam_k243r/a4776_72h_1/positionsort.bam /home/adrian/projects/reynisfjara/results/bam_k243r/a4776_72h_1/markdup.bam\n"
     ]
    },
    {
     "name": "stderr",
     "output_type": "stream",
     "text": [
      "333.03user 6.91system 1:03.78elapsed 532%CPU (0avgtext+0avgdata 244364maxresident)k\n",
      "192inputs+4134376outputs (0major+61690minor)pagefaults 0swaps\n",
      "samtools: /home/adrian/anaconda3/bin/../lib/libtinfow.so.6: no version information available (required by samtools)\n",
      "samtools: /home/adrian/anaconda3/bin/../lib/libncursesw.so.6: no version information available (required by samtools)\n",
      "samtools: /home/adrian/anaconda3/bin/../lib/libncursesw.so.6: no version information available (required by samtools)\n"
     ]
    },
    {
     "name": "stdout",
     "output_type": "stream",
     "text": [
      "time samtools sort -@ 10 -n -o /home/adrian/projects/reynisfjara/results/bam_k243r/a4776_72h_2/namesort.bam /home/adrian/projects/reynisfjara/results/bam_k243r/a4776_72h_2/a4776_72h_2.bam\n"
     ]
    },
    {
     "name": "stderr",
     "output_type": "stream",
     "text": [
      "[bam_sort_core] merging from 2 files and 10 in-memory blocks...\n",
      "807.24user 19.58system 1:36.09elapsed 860%CPU (0avgtext+0avgdata 8808580maxresident)k\n",
      "10643016inputs+18290440outputs (0major+2430158minor)pagefaults 0swaps\n",
      "samtools: /home/adrian/anaconda3/bin/../lib/libtinfow.so.6: no version information available (required by samtools)\n",
      "samtools: /home/adrian/anaconda3/bin/../lib/libncursesw.so.6: no version information available (required by samtools)\n",
      "samtools: /home/adrian/anaconda3/bin/../lib/libncursesw.so.6: no version information available (required by samtools)\n"
     ]
    },
    {
     "name": "stdout",
     "output_type": "stream",
     "text": [
      "time samtools fixmate -@ 10 -m /home/adrian/projects/reynisfjara/results/bam_k243r/a4776_72h_2/namesort.bam /home/adrian/projects/reynisfjara/results/bam_k243r/a4776_72h_2/fixmate.bam\n"
     ]
    },
    {
     "name": "stderr",
     "output_type": "stream",
     "text": [
      "530.21user 10.79system 0:55.23elapsed 979%CPU (0avgtext+0avgdata 45344maxresident)k\n",
      "472inputs+11045656outputs (0major+11985minor)pagefaults 0swaps\n",
      "samtools: /home/adrian/anaconda3/bin/../lib/libtinfow.so.6: no version information available (required by samtools)\n",
      "samtools: /home/adrian/anaconda3/bin/../lib/libncursesw.so.6: no version information available (required by samtools)\n",
      "samtools: /home/adrian/anaconda3/bin/../lib/libncursesw.so.6: no version information available (required by samtools)\n"
     ]
    },
    {
     "name": "stdout",
     "output_type": "stream",
     "text": [
      "time samtools sort -@ 10 -o /home/adrian/projects/reynisfjara/results/bam_k243r/a4776_72h_2/positionsort.bam /home/adrian/projects/reynisfjara/results/bam_k243r/a4776_72h_2/fixmate.bam\n"
     ]
    },
    {
     "name": "stderr",
     "output_type": "stream",
     "text": [
      "[bam_sort_core] merging from 3 files and 10 in-memory blocks...\n",
      "621.03user 18.84system 1:27.90elapsed 727%CPU (0avgtext+0avgdata 8781292maxresident)k\n",
      "568inputs+12060968outputs (0major+2429381minor)pagefaults 0swaps\n",
      "samtools: /home/adrian/anaconda3/bin/../lib/libtinfow.so.6: no version information available (required by samtools)\n",
      "samtools: /home/adrian/anaconda3/bin/../lib/libncursesw.so.6: no version information available (required by samtools)\n",
      "samtools: /home/adrian/anaconda3/bin/../lib/libncursesw.so.6: no version information available (required by samtools)\n"
     ]
    },
    {
     "name": "stdout",
     "output_type": "stream",
     "text": [
      "time samtools markdup -@ 10 -r /home/adrian/projects/reynisfjara/results/bam_k243r/a4776_72h_2/positionsort.bam /home/adrian/projects/reynisfjara/results/bam_k243r/a4776_72h_2/markdup.bam\n"
     ]
    },
    {
     "name": "stderr",
     "output_type": "stream",
     "text": [
      "377.20user 8.52system 1:13.51elapsed 524%CPU (0avgtext+0avgdata 289900maxresident)k\n",
      "280inputs+4653584outputs (0major+73066minor)pagefaults 0swaps\n",
      "samtools: /home/adrian/anaconda3/bin/../lib/libtinfow.so.6: no version information available (required by samtools)\n",
      "samtools: /home/adrian/anaconda3/bin/../lib/libncursesw.so.6: no version information available (required by samtools)\n",
      "samtools: /home/adrian/anaconda3/bin/../lib/libncursesw.so.6: no version information available (required by samtools)\n"
     ]
    },
    {
     "name": "stdout",
     "output_type": "stream",
     "text": [
      "time samtools sort -@ 10 -n -o /home/adrian/projects/reynisfjara/results/bam_k243r/a4776_72h_3/namesort.bam /home/adrian/projects/reynisfjara/results/bam_k243r/a4776_72h_3/a4776_72h_3.bam\n"
     ]
    },
    {
     "name": "stderr",
     "output_type": "stream",
     "text": [
      "[bam_sort_core] merging from 2 files and 10 in-memory blocks...\n",
      "699.05user 18.75system 1:26.57elapsed 829%CPU (0avgtext+0avgdata 8809888maxresident)k\n",
      "8704200inputs+16599144outputs (0major+2362356minor)pagefaults 0swaps\n",
      "samtools: /home/adrian/anaconda3/bin/../lib/libtinfow.so.6: no version information available (required by samtools)\n",
      "samtools: /home/adrian/anaconda3/bin/../lib/libncursesw.so.6: no version information available (required by samtools)\n",
      "samtools: /home/adrian/anaconda3/bin/../lib/libncursesw.so.6: no version information available (required by samtools)\n"
     ]
    },
    {
     "name": "stdout",
     "output_type": "stream",
     "text": [
      "time samtools fixmate -@ 10 -m /home/adrian/projects/reynisfjara/results/bam_k243r/a4776_72h_3/namesort.bam /home/adrian/projects/reynisfjara/results/bam_k243r/a4776_72h_3/fixmate.bam\n"
     ]
    },
    {
     "name": "stderr",
     "output_type": "stream",
     "text": [
      "445.46user 9.74system 0:46.76elapsed 973%CPU (0avgtext+0avgdata 45560maxresident)k\n",
      "528inputs+9053416outputs (1major+11982minor)pagefaults 0swaps\n",
      "samtools: /home/adrian/anaconda3/bin/../lib/libtinfow.so.6: no version information available (required by samtools)\n",
      "samtools: /home/adrian/anaconda3/bin/../lib/libncursesw.so.6: no version information available (required by samtools)\n",
      "samtools: /home/adrian/anaconda3/bin/../lib/libncursesw.so.6: no version information available (required by samtools)\n"
     ]
    },
    {
     "name": "stdout",
     "output_type": "stream",
     "text": [
      "time samtools sort -@ 10 -o /home/adrian/projects/reynisfjara/results/bam_k243r/a4776_72h_3/positionsort.bam /home/adrian/projects/reynisfjara/results/bam_k243r/a4776_72h_3/fixmate.bam\n"
     ]
    },
    {
     "name": "stderr",
     "output_type": "stream",
     "text": [
      "[bam_sort_core] merging from 2 files and 10 in-memory blocks...\n",
      "501.81user 14.15system 1:11.98elapsed 716%CPU (0avgtext+0avgdata 8781804maxresident)k\n",
      "480inputs+9378992outputs (0major+2358691minor)pagefaults 0swaps\n",
      "samtools: /home/adrian/anaconda3/bin/../lib/libtinfow.so.6: no version information available (required by samtools)\n",
      "samtools: /home/adrian/anaconda3/bin/../lib/libncursesw.so.6: no version information available (required by samtools)\n",
      "samtools: /home/adrian/anaconda3/bin/../lib/libncursesw.so.6: no version information available (required by samtools)\n"
     ]
    },
    {
     "name": "stdout",
     "output_type": "stream",
     "text": [
      "time samtools markdup -@ 10 -r /home/adrian/projects/reynisfjara/results/bam_k243r/a4776_72h_3/positionsort.bam /home/adrian/projects/reynisfjara/results/bam_k243r/a4776_72h_3/markdup.bam\n"
     ]
    },
    {
     "name": "stderr",
     "output_type": "stream",
     "text": [
      "319.38user 6.59system 1:00.74elapsed 536%CPU (0avgtext+0avgdata 226536maxresident)k\n",
      "152inputs+4003888outputs (0major+57208minor)pagefaults 0swaps\n"
     ]
    }
   ],
   "source": [
    "for label in bam_folders:\n",
    "    \n",
    "    bam_folder_path = bam_top_folder + label\n",
    "    \n",
    "    cmd1 = 'time samtools sort -@ 10 -n -o {}/namesort.bam {}/{}.bam'.format(bam_folder_path, bam_folder_path, label)\n",
    "    cmd2 = 'time samtools fixmate -@ 10 -m {}/namesort.bam {}/fixmate.bam'.format(bam_folder_path, bam_folder_path)\n",
    "    cmd3 = 'time samtools sort -@ 10 -o {}/positionsort.bam {}/fixmate.bam'.format(bam_folder_path, bam_folder_path)\n",
    "    cmd4 = 'time samtools markdup -@ 10 -r {}/positionsort.bam {}/markdup.bam'.format(bam_folder_path, bam_folder_path)\n",
    "    \n",
    "    print(cmd1)\n",
    "    os.system(cmd1)\n",
    "    print(cmd2)\n",
    "    os.system(cmd2)\n",
    "    print(cmd3)\n",
    "    os.system(cmd3)\n",
    "    print(cmd4)\n",
    "    os.system(cmd4)"
   ]
  }
 ],
 "metadata": {
  "kernelspec": {
   "display_name": "Python 3 (ipykernel)",
   "language": "python",
   "name": "python3"
  },
  "language_info": {
   "codemirror_mode": {
    "name": "ipython",
    "version": 3
   },
   "file_extension": ".py",
   "mimetype": "text/x-python",
   "name": "python",
   "nbconvert_exporter": "python",
   "pygments_lexer": "ipython3",
   "version": "3.9.16"
  }
 },
 "nbformat": 4,
 "nbformat_minor": 5
}
