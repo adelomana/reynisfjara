{
 "cells": [
  {
   "cell_type": "markdown",
   "id": "5af3b340",
   "metadata": {},
   "source": [
    "This pipeline sorts and removes duplicates of BAM files."
   ]
  },
  {
   "cell_type": "code",
   "execution_count": 1,
   "id": "01981558",
   "metadata": {},
   "outputs": [],
   "source": [
    "import os"
   ]
  },
  {
   "cell_type": "markdown",
   "id": "304d3d74",
   "metadata": {},
   "source": [
    "# user-defined variables"
   ]
  },
  {
   "cell_type": "code",
   "execution_count": 2,
   "id": "9a76c6b8",
   "metadata": {},
   "outputs": [],
   "source": [
    "bam_top_folder = '/home/adrian/projects/reynisfjara/results/bam_genome/'"
   ]
  },
  {
   "cell_type": "markdown",
   "id": "41f4280a",
   "metadata": {},
   "source": [
    "# sort and mark duplicates on individual BAM files"
   ]
  },
  {
   "cell_type": "code",
   "execution_count": 3,
   "id": "15e63501",
   "metadata": {},
   "outputs": [],
   "source": [
    "bam_folders = os.listdir(bam_top_folder)\n",
    "bam_folders.sort()"
   ]
  },
  {
   "cell_type": "code",
   "execution_count": 4,
   "id": "947c9fd1-538b-44c6-a91f-56dd52006266",
   "metadata": {},
   "outputs": [
    {
     "name": "stdout",
     "output_type": "stream",
     "text": [
      "time samtools sort -@ 10 -n -o /home/adrian/projects/reynisfjara/results/bam_genome/a3922_0h_1/namesort.bam /home/adrian/projects/reynisfjara/results/bam_genome/a3922_0h_1/a3922_0h_1.bam\n"
     ]
    },
    {
     "name": "stderr",
     "output_type": "stream",
     "text": [
      "samtools: /home/adrian/anaconda3/bin/../lib/libtinfow.so.6: no version information available (required by samtools)\n",
      "samtools: /home/adrian/anaconda3/bin/../lib/libncursesw.so.6: no version information available (required by samtools)\n",
      "samtools: /home/adrian/anaconda3/bin/../lib/libncursesw.so.6: no version information available (required by samtools)\n",
      "[bam_sort_core] merging from 2 files and 10 in-memory blocks...\n",
      "621.63user 14.66system 1:13.69elapsed 863%CPU (0avgtext+0avgdata 8891180maxresident)k\n",
      "11996688inputs+20330888outputs (5major+2484109minor)pagefaults 0swaps\n",
      "samtools: /home/adrian/anaconda3/bin/../lib/libtinfow.so.6: no version information available (required by samtools)\n",
      "samtools: /home/adrian/anaconda3/bin/../lib/libncursesw.so.6: no version information available (required by samtools)\n",
      "samtools: /home/adrian/anaconda3/bin/../lib/libncursesw.so.6: no version information available (required by samtools)\n"
     ]
    },
    {
     "name": "stdout",
     "output_type": "stream",
     "text": [
      "time samtools fixmate -@ 10 -m /home/adrian/projects/reynisfjara/results/bam_genome/a3922_0h_1/namesort.bam /home/adrian/projects/reynisfjara/results/bam_genome/a3922_0h_1/fixmate.bam\n"
     ]
    },
    {
     "name": "stderr",
     "output_type": "stream",
     "text": [
      "410.71user 8.90system 0:40.89elapsed 1026%CPU (0avgtext+0avgdata 13868maxresident)k\n",
      "480inputs+12380088outputs (0major+3009minor)pagefaults 0swaps\n",
      "samtools: /home/adrian/anaconda3/bin/../lib/libtinfow.so.6: no version information available (required by samtools)\n",
      "samtools: /home/adrian/anaconda3/bin/../lib/libncursesw.so.6: no version information available (required by samtools)\n",
      "samtools: /home/adrian/anaconda3/bin/../lib/libncursesw.so.6: no version information available (required by samtools)\n"
     ]
    },
    {
     "name": "stdout",
     "output_type": "stream",
     "text": [
      "time samtools sort -@ 10 -o /home/adrian/projects/reynisfjara/results/bam_genome/a3922_0h_1/positionsort.bam /home/adrian/projects/reynisfjara/results/bam_genome/a3922_0h_1/fixmate.bam\n"
     ]
    },
    {
     "name": "stderr",
     "output_type": "stream",
     "text": [
      "[bam_sort_core] merging from 3 files and 10 in-memory blocks...\n",
      "485.60user 14.44system 1:14.59elapsed 670%CPU (0avgtext+0avgdata 8864716maxresident)k\n",
      "1219192inputs+12242424outputs (0major+2482282minor)pagefaults 0swaps\n",
      "samtools: /home/adrian/anaconda3/bin/../lib/libtinfow.so.6: no version information available (required by samtools)\n",
      "samtools: /home/adrian/anaconda3/bin/../lib/libncursesw.so.6: no version information available (required by samtools)\n",
      "samtools: /home/adrian/anaconda3/bin/../lib/libncursesw.so.6: no version information available (required by samtools)\n"
     ]
    },
    {
     "name": "stdout",
     "output_type": "stream",
     "text": [
      "time samtools markdup -@ 10 -r /home/adrian/projects/reynisfjara/results/bam_genome/a3922_0h_1/positionsort.bam /home/adrian/projects/reynisfjara/results/bam_genome/a3922_0h_1/markdup.bam\n"
     ]
    },
    {
     "name": "stderr",
     "output_type": "stream",
     "text": [
      "345.26user 8.30system 1:15.94elapsed 465%CPU (0avgtext+0avgdata 248372maxresident)k\n",
      "2219008inputs+4214504outputs (1major+75389minor)pagefaults 0swaps\n",
      "samtools: /home/adrian/anaconda3/bin/../lib/libtinfow.so.6: no version information available (required by samtools)\n",
      "samtools: /home/adrian/anaconda3/bin/../lib/libncursesw.so.6: no version information available (required by samtools)\n",
      "samtools: /home/adrian/anaconda3/bin/../lib/libncursesw.so.6: no version information available (required by samtools)\n"
     ]
    },
    {
     "name": "stdout",
     "output_type": "stream",
     "text": [
      "time samtools sort -@ 10 -n -o /home/adrian/projects/reynisfjara/results/bam_genome/a3922_0h_2/namesort.bam /home/adrian/projects/reynisfjara/results/bam_genome/a3922_0h_2/a3922_0h_2.bam\n"
     ]
    },
    {
     "name": "stderr",
     "output_type": "stream",
     "text": [
      "[bam_sort_core] merging from 3 files and 10 in-memory blocks...\n",
      "927.32user 26.93system 2:42.39elapsed 587%CPU (0avgtext+0avgdata 8897520maxresident)k\n",
      "24720752inputs+25352944outputs (1major+2514227minor)pagefaults 0swaps\n",
      "samtools: /home/adrian/anaconda3/bin/../lib/libtinfow.so.6: no version information available (required by samtools)\n",
      "samtools: /home/adrian/anaconda3/bin/../lib/libncursesw.so.6: no version information available (required by samtools)\n",
      "samtools: /home/adrian/anaconda3/bin/../lib/libncursesw.so.6: no version information available (required by samtools)\n"
     ]
    },
    {
     "name": "stdout",
     "output_type": "stream",
     "text": [
      "time samtools fixmate -@ 10 -m /home/adrian/projects/reynisfjara/results/bam_genome/a3922_0h_2/namesort.bam /home/adrian/projects/reynisfjara/results/bam_genome/a3922_0h_2/fixmate.bam\n"
     ]
    },
    {
     "name": "stderr",
     "output_type": "stream",
     "text": [
      "550.04user 12.16system 1:08.15elapsed 824%CPU (0avgtext+0avgdata 13724maxresident)k\n",
      "3323464inputs+13239096outputs (9major+2982minor)pagefaults 0swaps\n",
      "samtools: /home/adrian/anaconda3/bin/../lib/libtinfow.so.6: no version information available (required by samtools)\n",
      "samtools: /home/adrian/anaconda3/bin/../lib/libncursesw.so.6: no version information available (required by samtools)\n",
      "samtools: /home/adrian/anaconda3/bin/../lib/libncursesw.so.6: no version information available (required by samtools)\n"
     ]
    },
    {
     "name": "stdout",
     "output_type": "stream",
     "text": [
      "time samtools sort -@ 10 -o /home/adrian/projects/reynisfjara/results/bam_genome/a3922_0h_2/positionsort.bam /home/adrian/projects/reynisfjara/results/bam_genome/a3922_0h_2/fixmate.bam\n"
     ]
    },
    {
     "name": "stderr",
     "output_type": "stream",
     "text": [
      "[bam_sort_core] merging from 3 files and 10 in-memory blocks...\n",
      "581.06user 16.89system 1:42.74elapsed 582%CPU (0avgtext+0avgdata 8866120maxresident)k\n",
      "570504inputs+12699776outputs (0major+2509914minor)pagefaults 0swaps\n",
      "samtools: /home/adrian/anaconda3/bin/../lib/libtinfow.so.6: no version information available (required by samtools)\n",
      "samtools: /home/adrian/anaconda3/bin/../lib/libncursesw.so.6: no version information available (required by samtools)\n",
      "samtools: /home/adrian/anaconda3/bin/../lib/libncursesw.so.6: no version information available (required by samtools)\n"
     ]
    },
    {
     "name": "stdout",
     "output_type": "stream",
     "text": [
      "time samtools markdup -@ 10 -r /home/adrian/projects/reynisfjara/results/bam_genome/a3922_0h_2/positionsort.bam /home/adrian/projects/reynisfjara/results/bam_genome/a3922_0h_2/markdup.bam\n"
     ]
    },
    {
     "name": "stderr",
     "output_type": "stream",
     "text": [
      "378.17user 8.30system 1:20.61elapsed 479%CPU (0avgtext+0avgdata 268252maxresident)k\n",
      "2144inputs+4636216outputs (12major+72884minor)pagefaults 0swaps\n",
      "samtools: /home/adrian/anaconda3/bin/../lib/libtinfow.so.6: no version information available (required by samtools)\n",
      "samtools: /home/adrian/anaconda3/bin/../lib/libncursesw.so.6: no version information available (required by samtools)\n",
      "samtools: /home/adrian/anaconda3/bin/../lib/libncursesw.so.6: no version information available (required by samtools)\n"
     ]
    },
    {
     "name": "stdout",
     "output_type": "stream",
     "text": [
      "time samtools sort -@ 10 -n -o /home/adrian/projects/reynisfjara/results/bam_genome/a3922_0h_3/namesort.bam /home/adrian/projects/reynisfjara/results/bam_genome/a3922_0h_3/a3922_0h_3.bam\n"
     ]
    },
    {
     "name": "stderr",
     "output_type": "stream",
     "text": [
      "[bam_sort_core] merging from 4 files and 10 in-memory blocks...\n",
      "1217.56user 34.70system 3:22.82elapsed 617%CPU (0avgtext+0avgdata 8897356maxresident)k\n",
      "32626592inputs+33218104outputs (0major+2627950minor)pagefaults 0swaps\n",
      "samtools: /home/adrian/anaconda3/bin/../lib/libtinfow.so.6: no version information available (required by samtools)\n",
      "samtools: /home/adrian/anaconda3/bin/../lib/libncursesw.so.6: no version information available (required by samtools)\n",
      "samtools: /home/adrian/anaconda3/bin/../lib/libncursesw.so.6: no version information available (required by samtools)\n"
     ]
    },
    {
     "name": "stdout",
     "output_type": "stream",
     "text": [
      "time samtools fixmate -@ 10 -m /home/adrian/projects/reynisfjara/results/bam_genome/a3922_0h_3/namesort.bam /home/adrian/projects/reynisfjara/results/bam_genome/a3922_0h_3/fixmate.bam\n"
     ]
    },
    {
     "name": "stderr",
     "output_type": "stream",
     "text": [
      "691.69user 13.98system 1:20.72elapsed 874%CPU (0avgtext+0avgdata 13536maxresident)k\n",
      "82944inputs+16944928outputs (0major+2990minor)pagefaults 0swaps\n",
      "samtools: /home/adrian/anaconda3/bin/../lib/libtinfow.so.6: no version information available (required by samtools)\n",
      "samtools: /home/adrian/anaconda3/bin/../lib/libncursesw.so.6: no version information available (required by samtools)\n",
      "samtools: /home/adrian/anaconda3/bin/../lib/libncursesw.so.6: no version information available (required by samtools)\n"
     ]
    },
    {
     "name": "stdout",
     "output_type": "stream",
     "text": [
      "time samtools sort -@ 10 -o /home/adrian/projects/reynisfjara/results/bam_genome/a3922_0h_3/positionsort.bam /home/adrian/projects/reynisfjara/results/bam_genome/a3922_0h_3/fixmate.bam\n"
     ]
    },
    {
     "name": "stderr",
     "output_type": "stream",
     "text": [
      "[bam_sort_core] merging from 4 files and 10 in-memory blocks...\n",
      "816.67user 25.57system 2:32.07elapsed 553%CPU (0avgtext+0avgdata 8865872maxresident)k\n",
      "10424464inputs+16589520outputs (1major+2623472minor)pagefaults 0swaps\n",
      "samtools: /home/adrian/anaconda3/bin/../lib/libtinfow.so.6: no version information available (required by samtools)\n",
      "samtools: /home/adrian/anaconda3/bin/../lib/libncursesw.so.6: no version information available (required by samtools)\n",
      "samtools: /home/adrian/anaconda3/bin/../lib/libncursesw.so.6: no version information available (required by samtools)\n"
     ]
    },
    {
     "name": "stdout",
     "output_type": "stream",
     "text": [
      "time samtools markdup -@ 10 -r /home/adrian/projects/reynisfjara/results/bam_genome/a3922_0h_3/positionsort.bam /home/adrian/projects/reynisfjara/results/bam_genome/a3922_0h_3/markdup.bam\n"
     ]
    },
    {
     "name": "stderr",
     "output_type": "stream",
     "text": [
      "462.67user 9.85system 1:41.18elapsed 466%CPU (0avgtext+0avgdata 329084maxresident)k\n",
      "1502136inputs+5535096outputs (8major+88733minor)pagefaults 0swaps\n",
      "samtools: /home/adrian/anaconda3/bin/../lib/libtinfow.so.6: no version information available (required by samtools)\n",
      "samtools: /home/adrian/anaconda3/bin/../lib/libncursesw.so.6: no version information available (required by samtools)\n",
      "samtools: /home/adrian/anaconda3/bin/../lib/libncursesw.so.6: no version information available (required by samtools)\n"
     ]
    },
    {
     "name": "stdout",
     "output_type": "stream",
     "text": [
      "time samtools sort -@ 10 -n -o /home/adrian/projects/reynisfjara/results/bam_genome/a3922_48h_1/namesort.bam /home/adrian/projects/reynisfjara/results/bam_genome/a3922_48h_1/a3922_48h_1.bam\n"
     ]
    },
    {
     "name": "stderr",
     "output_type": "stream",
     "text": [
      "[bam_sort_core] merging from 3 files and 10 in-memory blocks...\n",
      "972.98user 25.74system 2:26.16elapsed 683%CPU (0avgtext+0avgdata 8895936maxresident)k\n",
      "13291504inputs+25950184outputs (0major+2523718minor)pagefaults 0swaps\n",
      "samtools: /home/adrian/anaconda3/bin/../lib/libtinfow.so.6: no version information available (required by samtools)\n",
      "samtools: /home/adrian/anaconda3/bin/../lib/libncursesw.so.6: no version information available (required by samtools)\n",
      "samtools: /home/adrian/anaconda3/bin/../lib/libncursesw.so.6: no version information available (required by samtools)\n"
     ]
    },
    {
     "name": "stdout",
     "output_type": "stream",
     "text": [
      "time samtools fixmate -@ 10 -m /home/adrian/projects/reynisfjara/results/bam_genome/a3922_48h_1/namesort.bam /home/adrian/projects/reynisfjara/results/bam_genome/a3922_48h_1/fixmate.bam\n"
     ]
    },
    {
     "name": "stderr",
     "output_type": "stream",
     "text": [
      "561.17user 10.59system 1:00.11elapsed 951%CPU (0avgtext+0avgdata 13748maxresident)k\n",
      "240inputs+13724000outputs (0major+2990minor)pagefaults 0swaps\n",
      "samtools: /home/adrian/anaconda3/bin/../lib/libtinfow.so.6: no version information available (required by samtools)\n",
      "samtools: /home/adrian/anaconda3/bin/../lib/libncursesw.so.6: no version information available (required by samtools)\n",
      "samtools: /home/adrian/anaconda3/bin/../lib/libncursesw.so.6: no version information available (required by samtools)\n"
     ]
    },
    {
     "name": "stdout",
     "output_type": "stream",
     "text": [
      "time samtools sort -@ 10 -o /home/adrian/projects/reynisfjara/results/bam_genome/a3922_48h_1/positionsort.bam /home/adrian/projects/reynisfjara/results/bam_genome/a3922_48h_1/fixmate.bam\n"
     ]
    },
    {
     "name": "stderr",
     "output_type": "stream",
     "text": [
      "[bam_sort_core] merging from 3 files and 10 in-memory blocks...\n",
      "619.87user 17.59system 1:49.90elapsed 580%CPU (0avgtext+0avgdata 8864632maxresident)k\n",
      "347776inputs+13034576outputs (0major+2519343minor)pagefaults 0swaps\n",
      "samtools: /home/adrian/anaconda3/bin/../lib/libtinfow.so.6: no version information available (required by samtools)\n",
      "samtools: /home/adrian/anaconda3/bin/../lib/libncursesw.so.6: no version information available (required by samtools)\n",
      "samtools: /home/adrian/anaconda3/bin/../lib/libncursesw.so.6: no version information available (required by samtools)\n"
     ]
    },
    {
     "name": "stdout",
     "output_type": "stream",
     "text": [
      "time samtools markdup -@ 10 -r /home/adrian/projects/reynisfjara/results/bam_genome/a3922_48h_1/positionsort.bam /home/adrian/projects/reynisfjara/results/bam_genome/a3922_48h_1/markdup.bam\n"
     ]
    },
    {
     "name": "stderr",
     "output_type": "stream",
     "text": [
      "404.42user 8.46system 1:22.81elapsed 498%CPU (0avgtext+0avgdata 228992maxresident)k\n",
      "2008inputs+4753856outputs (12major+59286minor)pagefaults 0swaps\n",
      "samtools: /home/adrian/anaconda3/bin/../lib/libtinfow.so.6: no version information available (required by samtools)\n",
      "samtools: /home/adrian/anaconda3/bin/../lib/libncursesw.so.6: no version information available (required by samtools)\n",
      "samtools: /home/adrian/anaconda3/bin/../lib/libncursesw.so.6: no version information available (required by samtools)\n"
     ]
    },
    {
     "name": "stdout",
     "output_type": "stream",
     "text": [
      "time samtools sort -@ 10 -n -o /home/adrian/projects/reynisfjara/results/bam_genome/a3922_48h_2/namesort.bam /home/adrian/projects/reynisfjara/results/bam_genome/a3922_48h_2/a3922_48h_2.bam\n"
     ]
    },
    {
     "name": "stderr",
     "output_type": "stream",
     "text": [
      "[bam_sort_core] merging from 2 files and 10 in-memory blocks...\n",
      "736.92user 19.20system 1:44.25elapsed 725%CPU (0avgtext+0avgdata 8891468maxresident)k\n",
      "10614392inputs+18937312outputs (0major+2440613minor)pagefaults 0swaps\n",
      "samtools: /home/adrian/anaconda3/bin/../lib/libtinfow.so.6: no version information available (required by samtools)\n",
      "samtools: /home/adrian/anaconda3/bin/../lib/libncursesw.so.6: no version information available (required by samtools)\n",
      "samtools: /home/adrian/anaconda3/bin/../lib/libncursesw.so.6: no version information available (required by samtools)\n"
     ]
    },
    {
     "name": "stdout",
     "output_type": "stream",
     "text": [
      "time samtools fixmate -@ 10 -m /home/adrian/projects/reynisfjara/results/bam_genome/a3922_48h_2/namesort.bam /home/adrian/projects/reynisfjara/results/bam_genome/a3922_48h_2/fixmate.bam\n"
     ]
    },
    {
     "name": "stderr",
     "output_type": "stream",
     "text": [
      "463.90user 9.97system 0:52.11elapsed 909%CPU (0avgtext+0avgdata 14176maxresident)k\n",
      "1800inputs+10951480outputs (11major+3031minor)pagefaults 0swaps\n",
      "samtools: /home/adrian/anaconda3/bin/../lib/libtinfow.so.6: no version information available (required by samtools)\n",
      "samtools: /home/adrian/anaconda3/bin/../lib/libncursesw.so.6: no version information available (required by samtools)\n",
      "samtools: /home/adrian/anaconda3/bin/../lib/libncursesw.so.6: no version information available (required by samtools)\n"
     ]
    },
    {
     "name": "stdout",
     "output_type": "stream",
     "text": [
      "time samtools sort -@ 10 -o /home/adrian/projects/reynisfjara/results/bam_genome/a3922_48h_2/positionsort.bam /home/adrian/projects/reynisfjara/results/bam_genome/a3922_48h_2/fixmate.bam\n"
     ]
    },
    {
     "name": "stderr",
     "output_type": "stream",
     "text": [
      "[bam_sort_core] merging from 2 files and 10 in-memory blocks...\n",
      "449.62user 12.19system 1:09.39elapsed 665%CPU (0avgtext+0avgdata 8862136maxresident)k\n",
      "408inputs+9398728outputs (0major+2436457minor)pagefaults 0swaps\n",
      "samtools: /home/adrian/anaconda3/bin/../lib/libtinfow.so.6: no version information available (required by samtools)\n",
      "samtools: /home/adrian/anaconda3/bin/../lib/libncursesw.so.6: no version information available (required by samtools)\n",
      "samtools: /home/adrian/anaconda3/bin/../lib/libncursesw.so.6: no version information available (required by samtools)\n"
     ]
    },
    {
     "name": "stdout",
     "output_type": "stream",
     "text": [
      "time samtools markdup -@ 10 -r /home/adrian/projects/reynisfjara/results/bam_genome/a3922_48h_2/positionsort.bam /home/adrian/projects/reynisfjara/results/bam_genome/a3922_48h_2/markdup.bam\n"
     ]
    },
    {
     "name": "stderr",
     "output_type": "stream",
     "text": [
      "296.78user 6.29system 1:04.68elapsed 468%CPU (0avgtext+0avgdata 178956maxresident)k\n",
      "176inputs+3915600outputs (0major+47264minor)pagefaults 0swaps\n",
      "samtools: /home/adrian/anaconda3/bin/../lib/libtinfow.so.6: no version information available (required by samtools)\n",
      "samtools: /home/adrian/anaconda3/bin/../lib/libncursesw.so.6: no version information available (required by samtools)\n",
      "samtools: /home/adrian/anaconda3/bin/../lib/libncursesw.so.6: no version information available (required by samtools)\n"
     ]
    },
    {
     "name": "stdout",
     "output_type": "stream",
     "text": [
      "time samtools sort -@ 10 -n -o /home/adrian/projects/reynisfjara/results/bam_genome/a3922_48h_3/namesort.bam /home/adrian/projects/reynisfjara/results/bam_genome/a3922_48h_3/a3922_48h_3.bam\n"
     ]
    },
    {
     "name": "stderr",
     "output_type": "stream",
     "text": [
      "[bam_sort_core] merging from 2 files and 10 in-memory blocks...\n",
      "791.39user 20.33system 1:55.28elapsed 704%CPU (0avgtext+0avgdata 8894412maxresident)k\n",
      "11599208inputs+19954960outputs (11major+2471811minor)pagefaults 0swaps\n",
      "samtools: /home/adrian/anaconda3/bin/../lib/libtinfow.so.6: no version information available (required by samtools)\n",
      "samtools: /home/adrian/anaconda3/bin/../lib/libncursesw.so.6: no version information available (required by samtools)\n",
      "samtools: /home/adrian/anaconda3/bin/../lib/libncursesw.so.6: no version information available (required by samtools)\n"
     ]
    },
    {
     "name": "stdout",
     "output_type": "stream",
     "text": [
      "time samtools fixmate -@ 10 -m /home/adrian/projects/reynisfjara/results/bam_genome/a3922_48h_3/namesort.bam /home/adrian/projects/reynisfjara/results/bam_genome/a3922_48h_3/fixmate.bam\n"
     ]
    },
    {
     "name": "stderr",
     "output_type": "stream",
     "text": [
      "516.09user 11.04system 1:00.34elapsed 873%CPU (0avgtext+0avgdata 13780maxresident)k\n",
      "264inputs+11968256outputs (2major+2994minor)pagefaults 0swaps\n",
      "samtools: /home/adrian/anaconda3/bin/../lib/libtinfow.so.6: no version information available (required by samtools)\n",
      "samtools: /home/adrian/anaconda3/bin/../lib/libncursesw.so.6: no version information available (required by samtools)\n",
      "samtools: /home/adrian/anaconda3/bin/../lib/libncursesw.so.6: no version information available (required by samtools)\n"
     ]
    },
    {
     "name": "stdout",
     "output_type": "stream",
     "text": [
      "time samtools sort -@ 10 -o /home/adrian/projects/reynisfjara/results/bam_genome/a3922_48h_3/positionsort.bam /home/adrian/projects/reynisfjara/results/bam_genome/a3922_48h_3/fixmate.bam\n"
     ]
    },
    {
     "name": "stderr",
     "output_type": "stream",
     "text": [
      "[bam_sort_core] merging from 2 files and 10 in-memory blocks...\n",
      "494.35user 13.23system 1:18.45elapsed 647%CPU (0avgtext+0avgdata 8863180maxresident)k\n",
      "384inputs+10061064outputs (0major+2467579minor)pagefaults 0swaps\n",
      "samtools: /home/adrian/anaconda3/bin/../lib/libtinfow.so.6: no version information available (required by samtools)\n",
      "samtools: /home/adrian/anaconda3/bin/../lib/libncursesw.so.6: no version information available (required by samtools)\n",
      "samtools: /home/adrian/anaconda3/bin/../lib/libncursesw.so.6: no version information available (required by samtools)\n"
     ]
    },
    {
     "name": "stdout",
     "output_type": "stream",
     "text": [
      "time samtools markdup -@ 10 -r /home/adrian/projects/reynisfjara/results/bam_genome/a3922_48h_3/positionsort.bam /home/adrian/projects/reynisfjara/results/bam_genome/a3922_48h_3/markdup.bam\n"
     ]
    },
    {
     "name": "stderr",
     "output_type": "stream",
     "text": [
      "335.19user 6.83system 1:11.27elapsed 479%CPU (0avgtext+0avgdata 196320maxresident)k\n",
      "288inputs+4386176outputs (2major+48646minor)pagefaults 0swaps\n",
      "samtools: /home/adrian/anaconda3/bin/../lib/libtinfow.so.6: no version information available (required by samtools)\n",
      "samtools: /home/adrian/anaconda3/bin/../lib/libncursesw.so.6: no version information available (required by samtools)\n",
      "samtools: /home/adrian/anaconda3/bin/../lib/libncursesw.so.6: no version information available (required by samtools)\n"
     ]
    },
    {
     "name": "stdout",
     "output_type": "stream",
     "text": [
      "time samtools sort -@ 10 -n -o /home/adrian/projects/reynisfjara/results/bam_genome/a3922_72h_1/namesort.bam /home/adrian/projects/reynisfjara/results/bam_genome/a3922_72h_1/a3922_72h_1.bam\n"
     ]
    },
    {
     "name": "stderr",
     "output_type": "stream",
     "text": [
      "[bam_sort_core] merging from 3 files and 10 in-memory blocks...\n",
      "984.93user 25.43system 2:14.53elapsed 751%CPU (0avgtext+0avgdata 8897228maxresident)k\n",
      "13465560inputs+26123160outputs (0major+2529962minor)pagefaults 0swaps\n",
      "samtools: /home/adrian/anaconda3/bin/../lib/libtinfow.so.6: no version information available (required by samtools)\n",
      "samtools: /home/adrian/anaconda3/bin/../lib/libncursesw.so.6: no version information available (required by samtools)\n",
      "samtools: /home/adrian/anaconda3/bin/../lib/libncursesw.so.6: no version information available (required by samtools)\n"
     ]
    },
    {
     "name": "stdout",
     "output_type": "stream",
     "text": [
      "time samtools fixmate -@ 10 -m /home/adrian/projects/reynisfjara/results/bam_genome/a3922_72h_1/namesort.bam /home/adrian/projects/reynisfjara/results/bam_genome/a3922_72h_1/fixmate.bam\n"
     ]
    },
    {
     "name": "stderr",
     "output_type": "stream",
     "text": [
      "570.78user 11.13system 1:17.70elapsed 748%CPU (0avgtext+0avgdata 13792maxresident)k\n",
      "240inputs+13912880outputs (2major+3019minor)pagefaults 0swaps\n",
      "samtools: /home/adrian/anaconda3/bin/../lib/libtinfow.so.6: no version information available (required by samtools)\n",
      "samtools: /home/adrian/anaconda3/bin/../lib/libncursesw.so.6: no version information available (required by samtools)\n",
      "samtools: /home/adrian/anaconda3/bin/../lib/libncursesw.so.6: no version information available (required by samtools)\n"
     ]
    },
    {
     "name": "stdout",
     "output_type": "stream",
     "text": [
      "time samtools sort -@ 10 -o /home/adrian/projects/reynisfjara/results/bam_genome/a3922_72h_1/positionsort.bam /home/adrian/projects/reynisfjara/results/bam_genome/a3922_72h_1/fixmate.bam\n"
     ]
    },
    {
     "name": "stderr",
     "output_type": "stream",
     "text": [
      "[bam_sort_core] merging from 3 files and 10 in-memory blocks...\n",
      "646.58user 17.93system 1:54.92elapsed 578%CPU (0avgtext+0avgdata 8866256maxresident)k\n",
      "86360inputs+13329032outputs (0major+2525563minor)pagefaults 0swaps\n",
      "samtools: /home/adrian/anaconda3/bin/../lib/libtinfow.so.6: no version information available (required by samtools)\n",
      "samtools: /home/adrian/anaconda3/bin/../lib/libncursesw.so.6: no version information available (required by samtools)\n",
      "samtools: /home/adrian/anaconda3/bin/../lib/libncursesw.so.6: no version information available (required by samtools)\n"
     ]
    },
    {
     "name": "stdout",
     "output_type": "stream",
     "text": [
      "time samtools markdup -@ 10 -r /home/adrian/projects/reynisfjara/results/bam_genome/a3922_72h_1/positionsort.bam /home/adrian/projects/reynisfjara/results/bam_genome/a3922_72h_1/markdup.bam\n"
     ]
    },
    {
     "name": "stderr",
     "output_type": "stream",
     "text": [
      "398.43user 8.70system 1:21.47elapsed 499%CPU (0avgtext+0avgdata 223744maxresident)k\n",
      "160inputs+4902448outputs (2major+57518minor)pagefaults 0swaps\n",
      "samtools: /home/adrian/anaconda3/bin/../lib/libtinfow.so.6: no version information available (required by samtools)\n",
      "samtools: /home/adrian/anaconda3/bin/../lib/libncursesw.so.6: no version information available (required by samtools)\n",
      "samtools: /home/adrian/anaconda3/bin/../lib/libncursesw.so.6: no version information available (required by samtools)\n"
     ]
    },
    {
     "name": "stdout",
     "output_type": "stream",
     "text": [
      "time samtools sort -@ 10 -n -o /home/adrian/projects/reynisfjara/results/bam_genome/a3922_72h_2/namesort.bam /home/adrian/projects/reynisfjara/results/bam_genome/a3922_72h_2/a3922_72h_2.bam\n"
     ]
    },
    {
     "name": "stderr",
     "output_type": "stream",
     "text": [
      "[bam_sort_core] merging from 3 files and 10 in-memory blocks...\n",
      "1047.57user 26.54system 2:34.50elapsed 695%CPU (0avgtext+0avgdata 8896396maxresident)k\n",
      "14543880inputs+27156824outputs (0major+2564020minor)pagefaults 0swaps\n",
      "samtools: /home/adrian/anaconda3/bin/../lib/libtinfow.so.6: no version information available (required by samtools)\n",
      "samtools: /home/adrian/anaconda3/bin/../lib/libncursesw.so.6: no version information available (required by samtools)\n",
      "samtools: /home/adrian/anaconda3/bin/../lib/libncursesw.so.6: no version information available (required by samtools)\n"
     ]
    },
    {
     "name": "stdout",
     "output_type": "stream",
     "text": [
      "time samtools fixmate -@ 10 -m /home/adrian/projects/reynisfjara/results/bam_genome/a3922_72h_2/namesort.bam /home/adrian/projects/reynisfjara/results/bam_genome/a3922_72h_2/fixmate.bam\n"
     ]
    },
    {
     "name": "stderr",
     "output_type": "stream",
     "text": [
      "620.53user 11.52system 1:08.60elapsed 921%CPU (0avgtext+0avgdata 14060maxresident)k\n",
      "400inputs+15026648outputs (0major+3076minor)pagefaults 0swaps\n",
      "samtools: /home/adrian/anaconda3/bin/../lib/libtinfow.so.6: no version information available (required by samtools)\n",
      "samtools: /home/adrian/anaconda3/bin/../lib/libncursesw.so.6: no version information available (required by samtools)\n",
      "samtools: /home/adrian/anaconda3/bin/../lib/libncursesw.so.6: no version information available (required by samtools)\n"
     ]
    },
    {
     "name": "stdout",
     "output_type": "stream",
     "text": [
      "time samtools sort -@ 10 -o /home/adrian/projects/reynisfjara/results/bam_genome/a3922_72h_2/positionsort.bam /home/adrian/projects/reynisfjara/results/bam_genome/a3922_72h_2/fixmate.bam\n"
     ]
    },
    {
     "name": "stderr",
     "output_type": "stream",
     "text": [
      "[bam_sort_core] merging from 3 files and 10 in-memory blocks...\n",
      "706.28user 19.97system 1:54.69elapsed 633%CPU (0avgtext+0avgdata 8864996maxresident)k\n",
      "475400inputs+13655512outputs (0major+2559658minor)pagefaults 0swaps\n",
      "samtools: /home/adrian/anaconda3/bin/../lib/libtinfow.so.6: no version information available (required by samtools)\n",
      "samtools: /home/adrian/anaconda3/bin/../lib/libncursesw.so.6: no version information available (required by samtools)\n",
      "samtools: /home/adrian/anaconda3/bin/../lib/libncursesw.so.6: no version information available (required by samtools)\n"
     ]
    },
    {
     "name": "stdout",
     "output_type": "stream",
     "text": [
      "time samtools markdup -@ 10 -r /home/adrian/projects/reynisfjara/results/bam_genome/a3922_72h_2/positionsort.bam /home/adrian/projects/reynisfjara/results/bam_genome/a3922_72h_2/markdup.bam\n"
     ]
    },
    {
     "name": "stderr",
     "output_type": "stream",
     "text": [
      "425.90user 9.34system 1:31.12elapsed 477%CPU (0avgtext+0avgdata 236852maxresident)k\n",
      "280inputs+5048936outputs (2major+60354minor)pagefaults 0swaps\n",
      "samtools: /home/adrian/anaconda3/bin/../lib/libtinfow.so.6: no version information available (required by samtools)\n",
      "samtools: /home/adrian/anaconda3/bin/../lib/libncursesw.so.6: no version information available (required by samtools)\n",
      "samtools: /home/adrian/anaconda3/bin/../lib/libncursesw.so.6: no version information available (required by samtools)\n"
     ]
    },
    {
     "name": "stdout",
     "output_type": "stream",
     "text": [
      "time samtools sort -@ 10 -n -o /home/adrian/projects/reynisfjara/results/bam_genome/a3922_72h_3/namesort.bam /home/adrian/projects/reynisfjara/results/bam_genome/a3922_72h_3/a3922_72h_3.bam\n"
     ]
    },
    {
     "name": "stderr",
     "output_type": "stream",
     "text": [
      "[bam_sort_core] merging from 3 files and 10 in-memory blocks...\n",
      "1017.21user 26.05system 2:26.97elapsed 709%CPU (0avgtext+0avgdata 8897124maxresident)k\n",
      "13924584inputs+26497720outputs (0major+2546451minor)pagefaults 0swaps\n",
      "samtools: /home/adrian/anaconda3/bin/../lib/libtinfow.so.6: no version information available (required by samtools)\n",
      "samtools: /home/adrian/anaconda3/bin/../lib/libncursesw.so.6: no version information available (required by samtools)\n",
      "samtools: /home/adrian/anaconda3/bin/../lib/libncursesw.so.6: no version information available (required by samtools)\n"
     ]
    },
    {
     "name": "stdout",
     "output_type": "stream",
     "text": [
      "time samtools fixmate -@ 10 -m /home/adrian/projects/reynisfjara/results/bam_genome/a3922_72h_3/namesort.bam /home/adrian/projects/reynisfjara/results/bam_genome/a3922_72h_3/fixmate.bam\n"
     ]
    },
    {
     "name": "stderr",
     "output_type": "stream",
     "text": [
      "585.20user 11.75system 1:05.14elapsed 916%CPU (0avgtext+0avgdata 13700maxresident)k\n",
      "384inputs+14381640outputs (0major+3138minor)pagefaults 0swaps\n",
      "samtools: /home/adrian/anaconda3/bin/../lib/libtinfow.so.6: no version information available (required by samtools)\n",
      "samtools: /home/adrian/anaconda3/bin/../lib/libncursesw.so.6: no version information available (required by samtools)\n",
      "samtools: /home/adrian/anaconda3/bin/../lib/libncursesw.so.6: no version information available (required by samtools)\n"
     ]
    },
    {
     "name": "stdout",
     "output_type": "stream",
     "text": [
      "time samtools sort -@ 10 -o /home/adrian/projects/reynisfjara/results/bam_genome/a3922_72h_3/positionsort.bam /home/adrian/projects/reynisfjara/results/bam_genome/a3922_72h_3/fixmate.bam\n"
     ]
    },
    {
     "name": "stderr",
     "output_type": "stream",
     "text": [
      "[bam_sort_core] merging from 3 files and 10 in-memory blocks...\n",
      "673.90user 19.69system 1:54.00elapsed 608%CPU (0avgtext+0avgdata 8865468maxresident)k\n",
      "230832inputs+13368912outputs (0major+2541995minor)pagefaults 0swaps\n",
      "samtools: /home/adrian/anaconda3/bin/../lib/libtinfow.so.6: no version information available (required by samtools)\n",
      "samtools: /home/adrian/anaconda3/bin/../lib/libncursesw.so.6: no version information available (required by samtools)\n",
      "samtools: /home/adrian/anaconda3/bin/../lib/libncursesw.so.6: no version information available (required by samtools)\n"
     ]
    },
    {
     "name": "stdout",
     "output_type": "stream",
     "text": [
      "time samtools markdup -@ 10 -r /home/adrian/projects/reynisfjara/results/bam_genome/a3922_72h_3/positionsort.bam /home/adrian/projects/reynisfjara/results/bam_genome/a3922_72h_3/markdup.bam\n"
     ]
    },
    {
     "name": "stderr",
     "output_type": "stream",
     "text": [
      "410.19user 9.08system 1:28.56elapsed 473%CPU (0avgtext+0avgdata 225140maxresident)k\n",
      "216inputs+5008352outputs (2major+61500minor)pagefaults 0swaps\n",
      "samtools: /home/adrian/anaconda3/bin/../lib/libtinfow.so.6: no version information available (required by samtools)\n",
      "samtools: /home/adrian/anaconda3/bin/../lib/libncursesw.so.6: no version information available (required by samtools)\n",
      "samtools: /home/adrian/anaconda3/bin/../lib/libncursesw.so.6: no version information available (required by samtools)\n"
     ]
    },
    {
     "name": "stdout",
     "output_type": "stream",
     "text": [
      "time samtools sort -@ 10 -n -o /home/adrian/projects/reynisfjara/results/bam_genome/a4774_0h_1/namesort.bam /home/adrian/projects/reynisfjara/results/bam_genome/a4774_0h_1/a4774_0h_1.bam\n"
     ]
    },
    {
     "name": "stderr",
     "output_type": "stream",
     "text": [
      "[bam_sort_core] merging from 2 files and 10 in-memory blocks...\n",
      "774.79user 19.87system 1:56.82elapsed 680%CPU (0avgtext+0avgdata 8895228maxresident)k\n",
      "10933008inputs+19295096outputs (0major+2450859minor)pagefaults 0swaps\n",
      "samtools: /home/adrian/anaconda3/bin/../lib/libtinfow.so.6: no version information available (required by samtools)\n",
      "samtools: /home/adrian/anaconda3/bin/../lib/libncursesw.so.6: no version information available (required by samtools)\n",
      "samtools: /home/adrian/anaconda3/bin/../lib/libncursesw.so.6: no version information available (required by samtools)\n"
     ]
    },
    {
     "name": "stdout",
     "output_type": "stream",
     "text": [
      "time samtools fixmate -@ 10 -m /home/adrian/projects/reynisfjara/results/bam_genome/a4774_0h_1/namesort.bam /home/adrian/projects/reynisfjara/results/bam_genome/a4774_0h_1/fixmate.bam\n"
     ]
    },
    {
     "name": "stderr",
     "output_type": "stream",
     "text": [
      "472.13user 10.43system 0:54.39elapsed 887%CPU (0avgtext+0avgdata 13688maxresident)k\n",
      "536inputs+11282424outputs (2major+3051minor)pagefaults 0swaps\n",
      "samtools: /home/adrian/anaconda3/bin/../lib/libtinfow.so.6: no version information available (required by samtools)\n",
      "samtools: /home/adrian/anaconda3/bin/../lib/libncursesw.so.6: no version information available (required by samtools)\n",
      "samtools: /home/adrian/anaconda3/bin/../lib/libncursesw.so.6: no version information available (required by samtools)\n"
     ]
    },
    {
     "name": "stdout",
     "output_type": "stream",
     "text": [
      "time samtools sort -@ 10 -o /home/adrian/projects/reynisfjara/results/bam_genome/a4774_0h_1/positionsort.bam /home/adrian/projects/reynisfjara/results/bam_genome/a4774_0h_1/fixmate.bam\n"
     ]
    },
    {
     "name": "stderr",
     "output_type": "stream",
     "text": [
      "[bam_sort_core] merging from 2 files and 10 in-memory blocks...\n",
      "467.10user 12.88system 1:25.67elapsed 560%CPU (0avgtext+0avgdata 8863932maxresident)k\n",
      "528inputs+9801680outputs (0major+2446640minor)pagefaults 0swaps\n",
      "samtools: /home/adrian/anaconda3/bin/../lib/libtinfow.so.6: no version information available (required by samtools)\n",
      "samtools: /home/adrian/anaconda3/bin/../lib/libncursesw.so.6: no version information available (required by samtools)\n",
      "samtools: /home/adrian/anaconda3/bin/../lib/libncursesw.so.6: no version information available (required by samtools)\n"
     ]
    },
    {
     "name": "stdout",
     "output_type": "stream",
     "text": [
      "time samtools markdup -@ 10 -r /home/adrian/projects/reynisfjara/results/bam_genome/a4774_0h_1/positionsort.bam /home/adrian/projects/reynisfjara/results/bam_genome/a4774_0h_1/markdup.bam\n"
     ]
    },
    {
     "name": "stderr",
     "output_type": "stream",
     "text": [
      "323.71user 7.08system 1:10.20elapsed 471%CPU (0avgtext+0avgdata 303420maxresident)k\n",
      "160inputs+4204344outputs (2major+88078minor)pagefaults 0swaps\n",
      "samtools: /home/adrian/anaconda3/bin/../lib/libtinfow.so.6: no version information available (required by samtools)\n",
      "samtools: /home/adrian/anaconda3/bin/../lib/libncursesw.so.6: no version information available (required by samtools)\n",
      "samtools: /home/adrian/anaconda3/bin/../lib/libncursesw.so.6: no version information available (required by samtools)\n"
     ]
    },
    {
     "name": "stdout",
     "output_type": "stream",
     "text": [
      "time samtools sort -@ 10 -n -o /home/adrian/projects/reynisfjara/results/bam_genome/a4774_0h_2/namesort.bam /home/adrian/projects/reynisfjara/results/bam_genome/a4774_0h_2/a4774_0h_2.bam\n"
     ]
    },
    {
     "name": "stderr",
     "output_type": "stream",
     "text": [
      "[bam_sort_core] merging from 2 files and 10 in-memory blocks...\n",
      "739.46user 19.15system 1:53.13elapsed 670%CPU (0avgtext+0avgdata 8895204maxresident)k\n",
      "10618280inputs+18987112outputs (0major+2440609minor)pagefaults 0swaps\n",
      "samtools: /home/adrian/anaconda3/bin/../lib/libtinfow.so.6: no version information available (required by samtools)\n",
      "samtools: /home/adrian/anaconda3/bin/../lib/libncursesw.so.6: no version information available (required by samtools)\n",
      "samtools: /home/adrian/anaconda3/bin/../lib/libncursesw.so.6: no version information available (required by samtools)\n"
     ]
    },
    {
     "name": "stdout",
     "output_type": "stream",
     "text": [
      "time samtools fixmate -@ 10 -m /home/adrian/projects/reynisfjara/results/bam_genome/a4774_0h_2/namesort.bam /home/adrian/projects/reynisfjara/results/bam_genome/a4774_0h_2/fixmate.bam\n"
     ]
    },
    {
     "name": "stderr",
     "output_type": "stream",
     "text": [
      "476.54user 10.90system 0:55.30elapsed 881%CPU (0avgtext+0avgdata 13752maxresident)k\n",
      "184inputs+10957632outputs (2major+3012minor)pagefaults 0swaps\n",
      "samtools: /home/adrian/anaconda3/bin/../lib/libtinfow.so.6: no version information available (required by samtools)\n",
      "samtools: /home/adrian/anaconda3/bin/../lib/libncursesw.so.6: no version information available (required by samtools)\n",
      "samtools: /home/adrian/anaconda3/bin/../lib/libncursesw.so.6: no version information available (required by samtools)\n"
     ]
    },
    {
     "name": "stdout",
     "output_type": "stream",
     "text": [
      "time samtools sort -@ 10 -o /home/adrian/projects/reynisfjara/results/bam_genome/a4774_0h_2/positionsort.bam /home/adrian/projects/reynisfjara/results/bam_genome/a4774_0h_2/fixmate.bam\n"
     ]
    },
    {
     "name": "stderr",
     "output_type": "stream",
     "text": [
      "[bam_sort_core] merging from 2 files and 10 in-memory blocks...\n",
      "454.84user 12.44system 1:16.87elapsed 607%CPU (0avgtext+0avgdata 8863516maxresident)k\n",
      "440inputs+9584704outputs (0major+2436455minor)pagefaults 0swaps\n",
      "samtools: /home/adrian/anaconda3/bin/../lib/libtinfow.so.6: no version information available (required by samtools)\n",
      "samtools: /home/adrian/anaconda3/bin/../lib/libncursesw.so.6: no version information available (required by samtools)\n",
      "samtools: /home/adrian/anaconda3/bin/../lib/libncursesw.so.6: no version information available (required by samtools)\n"
     ]
    },
    {
     "name": "stdout",
     "output_type": "stream",
     "text": [
      "time samtools markdup -@ 10 -r /home/adrian/projects/reynisfjara/results/bam_genome/a4774_0h_2/positionsort.bam /home/adrian/projects/reynisfjara/results/bam_genome/a4774_0h_2/markdup.bam\n"
     ]
    },
    {
     "name": "stderr",
     "output_type": "stream",
     "text": [
      "298.54user 6.19system 1:06.04elapsed 461%CPU (0avgtext+0avgdata 270052maxresident)k\n",
      "256inputs+4009824outputs (2major+78570minor)pagefaults 0swaps\n",
      "samtools: /home/adrian/anaconda3/bin/../lib/libtinfow.so.6: no version information available (required by samtools)\n",
      "samtools: /home/adrian/anaconda3/bin/../lib/libncursesw.so.6: no version information available (required by samtools)\n",
      "samtools: /home/adrian/anaconda3/bin/../lib/libncursesw.so.6: no version information available (required by samtools)\n"
     ]
    },
    {
     "name": "stdout",
     "output_type": "stream",
     "text": [
      "time samtools sort -@ 10 -n -o /home/adrian/projects/reynisfjara/results/bam_genome/a4774_0h_3/namesort.bam /home/adrian/projects/reynisfjara/results/bam_genome/a4774_0h_3/a4774_0h_3.bam\n"
     ]
    },
    {
     "name": "stderr",
     "output_type": "stream",
     "text": [
      "[bam_sort_core] merging from 3 files and 10 in-memory blocks...\n",
      "950.09user 25.72system 2:49.98elapsed 574%CPU (0avgtext+0avgdata 8898080maxresident)k\n",
      "14024384inputs+26388632outputs (0major+2550975minor)pagefaults 0swaps\n",
      "samtools: /home/adrian/anaconda3/bin/../lib/libtinfow.so.6: no version information available (required by samtools)\n",
      "samtools: /home/adrian/anaconda3/bin/../lib/libncursesw.so.6: no version information available (required by samtools)\n",
      "samtools: /home/adrian/anaconda3/bin/../lib/libncursesw.so.6: no version information available (required by samtools)\n"
     ]
    },
    {
     "name": "stdout",
     "output_type": "stream",
     "text": [
      "time samtools fixmate -@ 10 -m /home/adrian/projects/reynisfjara/results/bam_genome/a4774_0h_3/namesort.bam /home/adrian/projects/reynisfjara/results/bam_genome/a4774_0h_3/fixmate.bam\n"
     ]
    },
    {
     "name": "stderr",
     "output_type": "stream",
     "text": [
      "470.67user 10.99system 1:01.77elapsed 779%CPU (0avgtext+0avgdata 13712maxresident)k\n",
      "0inputs+14356904outputs (0major+2990minor)pagefaults 0swaps\n",
      "samtools: /home/adrian/anaconda3/bin/../lib/libtinfow.so.6: no version information available (required by samtools)\n",
      "samtools: /home/adrian/anaconda3/bin/../lib/libncursesw.so.6: no version information available (required by samtools)\n",
      "samtools: /home/adrian/anaconda3/bin/../lib/libncursesw.so.6: no version information available (required by samtools)\n"
     ]
    },
    {
     "name": "stdout",
     "output_type": "stream",
     "text": [
      "time samtools sort -@ 10 -o /home/adrian/projects/reynisfjara/results/bam_genome/a4774_0h_3/positionsort.bam /home/adrian/projects/reynisfjara/results/bam_genome/a4774_0h_3/fixmate.bam\n"
     ]
    },
    {
     "name": "stderr",
     "output_type": "stream",
     "text": [
      "[bam_sort_core] merging from 3 files and 10 in-memory blocks...\n",
      "477.99user 13.99system 1:15.48elapsed 651%CPU (0avgtext+0avgdata 8866268maxresident)k\n",
      "0inputs+13184560outputs (0major+2546643minor)pagefaults 0swaps\n",
      "samtools: /home/adrian/anaconda3/bin/../lib/libtinfow.so.6: no version information available (required by samtools)\n",
      "samtools: /home/adrian/anaconda3/bin/../lib/libncursesw.so.6: no version information available (required by samtools)\n",
      "samtools: /home/adrian/anaconda3/bin/../lib/libncursesw.so.6: no version information available (required by samtools)\n"
     ]
    },
    {
     "name": "stdout",
     "output_type": "stream",
     "text": [
      "time samtools markdup -@ 10 -r /home/adrian/projects/reynisfjara/results/bam_genome/a4774_0h_3/positionsort.bam /home/adrian/projects/reynisfjara/results/bam_genome/a4774_0h_3/markdup.bam\n"
     ]
    },
    {
     "name": "stderr",
     "output_type": "stream",
     "text": [
      "266.57user 5.69system 1:00.80elapsed 447%CPU (0avgtext+0avgdata 351864maxresident)k\n",
      "0inputs+4899184outputs (0major+98247minor)pagefaults 0swaps\n",
      "samtools: /home/adrian/anaconda3/bin/../lib/libtinfow.so.6: no version information available (required by samtools)\n",
      "samtools: /home/adrian/anaconda3/bin/../lib/libncursesw.so.6: no version information available (required by samtools)\n",
      "samtools: /home/adrian/anaconda3/bin/../lib/libncursesw.so.6: no version information available (required by samtools)\n"
     ]
    },
    {
     "name": "stdout",
     "output_type": "stream",
     "text": [
      "time samtools sort -@ 10 -n -o /home/adrian/projects/reynisfjara/results/bam_genome/a4774_48h_1/namesort.bam /home/adrian/projects/reynisfjara/results/bam_genome/a4774_48h_1/a4774_48h_1.bam\n"
     ]
    },
    {
     "name": "stderr",
     "output_type": "stream",
     "text": [
      "[bam_sort_core] merging from 3 files and 10 in-memory blocks...\n",
      "759.80user 20.01system 1:49.97elapsed 709%CPU (0avgtext+0avgdata 8897752maxresident)k\n",
      "13304352inputs+25761376outputs (0major+2531456minor)pagefaults 0swaps\n",
      "samtools: /home/adrian/anaconda3/bin/../lib/libtinfow.so.6: no version information available (required by samtools)\n",
      "samtools: /home/adrian/anaconda3/bin/../lib/libncursesw.so.6: no version information available (required by samtools)\n",
      "samtools: /home/adrian/anaconda3/bin/../lib/libncursesw.so.6: no version information available (required by samtools)\n"
     ]
    },
    {
     "name": "stdout",
     "output_type": "stream",
     "text": [
      "time samtools fixmate -@ 10 -m /home/adrian/projects/reynisfjara/results/bam_genome/a4774_48h_1/namesort.bam /home/adrian/projects/reynisfjara/results/bam_genome/a4774_48h_1/fixmate.bam\n"
     ]
    },
    {
     "name": "stderr",
     "output_type": "stream",
     "text": [
      "436.64user 9.84system 0:54.15elapsed 824%CPU (0avgtext+0avgdata 13944maxresident)k\n",
      "24inputs+13727072outputs (0major+3007minor)pagefaults 0swaps\n",
      "samtools: /home/adrian/anaconda3/bin/../lib/libtinfow.so.6: no version information available (required by samtools)\n",
      "samtools: /home/adrian/anaconda3/bin/../lib/libncursesw.so.6: no version information available (required by samtools)\n",
      "samtools: /home/adrian/anaconda3/bin/../lib/libncursesw.so.6: no version information available (required by samtools)\n"
     ]
    },
    {
     "name": "stdout",
     "output_type": "stream",
     "text": [
      "time samtools sort -@ 10 -o /home/adrian/projects/reynisfjara/results/bam_genome/a4774_48h_1/positionsort.bam /home/adrian/projects/reynisfjara/results/bam_genome/a4774_48h_1/fixmate.bam\n"
     ]
    },
    {
     "name": "stderr",
     "output_type": "stream",
     "text": [
      "[bam_sort_core] merging from 3 files and 10 in-memory blocks...\n",
      "465.52user 13.33system 1:13.04elapsed 655%CPU (0avgtext+0avgdata 8865632maxresident)k\n",
      "0inputs+13068040outputs (0major+2527083minor)pagefaults 0swaps\n",
      "samtools: /home/adrian/anaconda3/bin/../lib/libtinfow.so.6: no version information available (required by samtools)\n",
      "samtools: /home/adrian/anaconda3/bin/../lib/libncursesw.so.6: no version information available (required by samtools)\n",
      "samtools: /home/adrian/anaconda3/bin/../lib/libncursesw.so.6: no version information available (required by samtools)\n"
     ]
    },
    {
     "name": "stdout",
     "output_type": "stream",
     "text": [
      "time samtools markdup -@ 10 -r /home/adrian/projects/reynisfjara/results/bam_genome/a4774_48h_1/positionsort.bam /home/adrian/projects/reynisfjara/results/bam_genome/a4774_48h_1/markdup.bam\n"
     ]
    },
    {
     "name": "stderr",
     "output_type": "stream",
     "text": [
      "254.43user 5.49system 0:49.73elapsed 522%CPU (0avgtext+0avgdata 345420maxresident)k\n",
      "0inputs+4839888outputs (0major+88551minor)pagefaults 0swaps\n",
      "samtools: /home/adrian/anaconda3/bin/../lib/libtinfow.so.6: no version information available (required by samtools)\n",
      "samtools: /home/adrian/anaconda3/bin/../lib/libncursesw.so.6: no version information available (required by samtools)\n",
      "samtools: /home/adrian/anaconda3/bin/../lib/libncursesw.so.6: no version information available (required by samtools)\n"
     ]
    },
    {
     "name": "stdout",
     "output_type": "stream",
     "text": [
      "time samtools sort -@ 10 -n -o /home/adrian/projects/reynisfjara/results/bam_genome/a4774_48h_2/namesort.bam /home/adrian/projects/reynisfjara/results/bam_genome/a4774_48h_2/a4774_48h_2.bam\n"
     ]
    },
    {
     "name": "stderr",
     "output_type": "stream",
     "text": [
      "[bam_sort_core] merging from 3 files and 10 in-memory blocks...\n",
      "806.34user 20.48system 1:59.08elapsed 694%CPU (0avgtext+0avgdata 8897392maxresident)k\n",
      "14101208inputs+26630296outputs (0major+2554444minor)pagefaults 0swaps\n",
      "samtools: /home/adrian/anaconda3/bin/../lib/libtinfow.so.6: no version information available (required by samtools)\n",
      "samtools: /home/adrian/anaconda3/bin/../lib/libncursesw.so.6: no version information available (required by samtools)\n",
      "samtools: /home/adrian/anaconda3/bin/../lib/libncursesw.so.6: no version information available (required by samtools)\n"
     ]
    },
    {
     "name": "stdout",
     "output_type": "stream",
     "text": [
      "time samtools fixmate -@ 10 -m /home/adrian/projects/reynisfjara/results/bam_genome/a4774_48h_2/namesort.bam /home/adrian/projects/reynisfjara/results/bam_genome/a4774_48h_2/fixmate.bam\n"
     ]
    },
    {
     "name": "stderr",
     "output_type": "stream",
     "text": [
      "462.48user 10.58system 0:57.72elapsed 819%CPU (0avgtext+0avgdata 13652maxresident)k\n",
      "0inputs+14549920outputs (0major+2966minor)pagefaults 0swaps\n",
      "samtools: /home/adrian/anaconda3/bin/../lib/libtinfow.so.6: no version information available (required by samtools)\n",
      "samtools: /home/adrian/anaconda3/bin/../lib/libncursesw.so.6: no version information available (required by samtools)\n",
      "samtools: /home/adrian/anaconda3/bin/../lib/libncursesw.so.6: no version information available (required by samtools)\n"
     ]
    },
    {
     "name": "stdout",
     "output_type": "stream",
     "text": [
      "time samtools sort -@ 10 -o /home/adrian/projects/reynisfjara/results/bam_genome/a4774_48h_2/positionsort.bam /home/adrian/projects/reynisfjara/results/bam_genome/a4774_48h_2/fixmate.bam\n"
     ]
    },
    {
     "name": "stderr",
     "output_type": "stream",
     "text": [
      "[bam_sort_core] merging from 3 files and 10 in-memory blocks...\n",
      "498.38user 13.49system 1:21.97elapsed 624%CPU (0avgtext+0avgdata 8865840maxresident)k\n",
      "32inputs+13428280outputs (0major+2550139minor)pagefaults 0swaps\n",
      "samtools: /home/adrian/anaconda3/bin/../lib/libtinfow.so.6: no version information available (required by samtools)\n",
      "samtools: /home/adrian/anaconda3/bin/../lib/libncursesw.so.6: no version information available (required by samtools)\n",
      "samtools: /home/adrian/anaconda3/bin/../lib/libncursesw.so.6: no version information available (required by samtools)\n"
     ]
    },
    {
     "name": "stdout",
     "output_type": "stream",
     "text": [
      "time samtools markdup -@ 10 -r /home/adrian/projects/reynisfjara/results/bam_genome/a4774_48h_2/positionsort.bam /home/adrian/projects/reynisfjara/results/bam_genome/a4774_48h_2/markdup.bam\n"
     ]
    },
    {
     "name": "stderr",
     "output_type": "stream",
     "text": [
      "267.98user 5.68system 0:55.63elapsed 491%CPU (0avgtext+0avgdata 380652maxresident)k\n",
      "0inputs+5060328outputs (0major+100460minor)pagefaults 0swaps\n",
      "samtools: /home/adrian/anaconda3/bin/../lib/libtinfow.so.6: no version information available (required by samtools)\n",
      "samtools: /home/adrian/anaconda3/bin/../lib/libncursesw.so.6: no version information available (required by samtools)\n",
      "samtools: /home/adrian/anaconda3/bin/../lib/libncursesw.so.6: no version information available (required by samtools)\n"
     ]
    },
    {
     "name": "stdout",
     "output_type": "stream",
     "text": [
      "time samtools sort -@ 10 -n -o /home/adrian/projects/reynisfjara/results/bam_genome/a4774_48h_3/namesort.bam /home/adrian/projects/reynisfjara/results/bam_genome/a4774_48h_3/a4774_48h_3.bam\n"
     ]
    },
    {
     "name": "stderr",
     "output_type": "stream",
     "text": [
      "[bam_sort_core] merging from 2 files and 10 in-memory blocks...\n",
      "555.72user 14.41system 1:20.38elapsed 709%CPU (0avgtext+0avgdata 8894908maxresident)k\n",
      "10074272inputs+18521480outputs (0major+2421081minor)pagefaults 0swaps\n",
      "samtools: /home/adrian/anaconda3/bin/../lib/libtinfow.so.6: no version information available (required by samtools)\n",
      "samtools: /home/adrian/anaconda3/bin/../lib/libncursesw.so.6: no version information available (required by samtools)\n",
      "samtools: /home/adrian/anaconda3/bin/../lib/libncursesw.so.6: no version information available (required by samtools)\n"
     ]
    },
    {
     "name": "stdout",
     "output_type": "stream",
     "text": [
      "time samtools fixmate -@ 10 -m /home/adrian/projects/reynisfjara/results/bam_genome/a4774_48h_3/namesort.bam /home/adrian/projects/reynisfjara/results/bam_genome/a4774_48h_3/fixmate.bam\n"
     ]
    },
    {
     "name": "stderr",
     "output_type": "stream",
     "text": [
      "334.05user 7.60system 0:41.73elapsed 818%CPU (0avgtext+0avgdata 13472maxresident)k\n",
      "0inputs+10406544outputs (0major+2967minor)pagefaults 0swaps\n",
      "samtools: /home/adrian/anaconda3/bin/../lib/libtinfow.so.6: no version information available (required by samtools)\n",
      "samtools: /home/adrian/anaconda3/bin/../lib/libncursesw.so.6: no version information available (required by samtools)\n",
      "samtools: /home/adrian/anaconda3/bin/../lib/libncursesw.so.6: no version information available (required by samtools)\n"
     ]
    },
    {
     "name": "stdout",
     "output_type": "stream",
     "text": [
      "time samtools sort -@ 10 -o /home/adrian/projects/reynisfjara/results/bam_genome/a4774_48h_3/positionsort.bam /home/adrian/projects/reynisfjara/results/bam_genome/a4774_48h_3/fixmate.bam\n"
     ]
    },
    {
     "name": "stderr",
     "output_type": "stream",
     "text": [
      "[bam_sort_core] merging from 2 files and 10 in-memory blocks...\n",
      "346.81user 10.43system 0:53.62elapsed 666%CPU (0avgtext+0avgdata 8863804maxresident)k\n",
      "8inputs+9576976outputs (0major+2416867minor)pagefaults 0swaps\n",
      "samtools: /home/adrian/anaconda3/bin/../lib/libtinfow.so.6: no version information available (required by samtools)\n",
      "samtools: /home/adrian/anaconda3/bin/../lib/libncursesw.so.6: no version information available (required by samtools)\n",
      "samtools: /home/adrian/anaconda3/bin/../lib/libncursesw.so.6: no version information available (required by samtools)\n"
     ]
    },
    {
     "name": "stdout",
     "output_type": "stream",
     "text": [
      "time samtools markdup -@ 10 -r /home/adrian/projects/reynisfjara/results/bam_genome/a4774_48h_3/positionsort.bam /home/adrian/projects/reynisfjara/results/bam_genome/a4774_48h_3/markdup.bam\n"
     ]
    },
    {
     "name": "stderr",
     "output_type": "stream",
     "text": [
      "208.90user 4.18system 0:37.75elapsed 564%CPU (0avgtext+0avgdata 252436maxresident)k\n",
      "0inputs+3910960outputs (0major+64318minor)pagefaults 0swaps\n",
      "samtools: /home/adrian/anaconda3/bin/../lib/libtinfow.so.6: no version information available (required by samtools)\n",
      "samtools: /home/adrian/anaconda3/bin/../lib/libncursesw.so.6: no version information available (required by samtools)\n",
      "samtools: /home/adrian/anaconda3/bin/../lib/libncursesw.so.6: no version information available (required by samtools)\n"
     ]
    },
    {
     "name": "stdout",
     "output_type": "stream",
     "text": [
      "time samtools sort -@ 10 -n -o /home/adrian/projects/reynisfjara/results/bam_genome/a4774_72h_1/namesort.bam /home/adrian/projects/reynisfjara/results/bam_genome/a4774_72h_1/a4774_72h_1.bam\n"
     ]
    },
    {
     "name": "stderr",
     "output_type": "stream",
     "text": [
      "[bam_sort_core] merging from 3 files and 10 in-memory blocks...\n",
      "823.56user 20.01system 1:59.91elapsed 703%CPU (0avgtext+0avgdata 8897184maxresident)k\n",
      "14712360inputs+27291616outputs (0major+2571598minor)pagefaults 0swaps\n",
      "samtools: /home/adrian/anaconda3/bin/../lib/libtinfow.so.6: no version information available (required by samtools)\n",
      "samtools: /home/adrian/anaconda3/bin/../lib/libncursesw.so.6: no version information available (required by samtools)\n",
      "samtools: /home/adrian/anaconda3/bin/../lib/libncursesw.so.6: no version information available (required by samtools)\n"
     ]
    },
    {
     "name": "stdout",
     "output_type": "stream",
     "text": [
      "time samtools fixmate -@ 10 -m /home/adrian/projects/reynisfjara/results/bam_genome/a4774_72h_1/namesort.bam /home/adrian/projects/reynisfjara/results/bam_genome/a4774_72h_1/fixmate.bam\n"
     ]
    },
    {
     "name": "stderr",
     "output_type": "stream",
     "text": [
      "482.72user 10.77system 1:00.61elapsed 814%CPU (0avgtext+0avgdata 13776maxresident)k\n",
      "16inputs+15199504outputs (0major+2993minor)pagefaults 0swaps\n",
      "samtools: /home/adrian/anaconda3/bin/../lib/libtinfow.so.6: no version information available (required by samtools)\n",
      "samtools: /home/adrian/anaconda3/bin/../lib/libncursesw.so.6: no version information available (required by samtools)\n",
      "samtools: /home/adrian/anaconda3/bin/../lib/libncursesw.so.6: no version information available (required by samtools)\n"
     ]
    },
    {
     "name": "stdout",
     "output_type": "stream",
     "text": [
      "time samtools sort -@ 10 -o /home/adrian/projects/reynisfjara/results/bam_genome/a4774_72h_1/positionsort.bam /home/adrian/projects/reynisfjara/results/bam_genome/a4774_72h_1/fixmate.bam\n"
     ]
    },
    {
     "name": "stderr",
     "output_type": "stream",
     "text": [
      "[bam_sort_core] merging from 3 files and 10 in-memory blocks...\n",
      "509.43user 14.76system 1:24.10elapsed 623%CPU (0avgtext+0avgdata 8865596maxresident)k\n",
      "8inputs+13952320outputs (0major+2567115minor)pagefaults 0swaps\n",
      "samtools: /home/adrian/anaconda3/bin/../lib/libtinfow.so.6: no version information available (required by samtools)\n",
      "samtools: /home/adrian/anaconda3/bin/../lib/libncursesw.so.6: no version information available (required by samtools)\n",
      "samtools: /home/adrian/anaconda3/bin/../lib/libncursesw.so.6: no version information available (required by samtools)\n"
     ]
    },
    {
     "name": "stdout",
     "output_type": "stream",
     "text": [
      "time samtools markdup -@ 10 -r /home/adrian/projects/reynisfjara/results/bam_genome/a4774_72h_1/positionsort.bam /home/adrian/projects/reynisfjara/results/bam_genome/a4774_72h_1/markdup.bam\n"
     ]
    },
    {
     "name": "stderr",
     "output_type": "stream",
     "text": [
      "282.70user 6.13system 0:55.98elapsed 515%CPU (0avgtext+0avgdata 354312maxresident)k\n",
      "0inputs+5345272outputs (0major+90066minor)pagefaults 0swaps\n",
      "samtools: /home/adrian/anaconda3/bin/../lib/libtinfow.so.6: no version information available (required by samtools)\n",
      "samtools: /home/adrian/anaconda3/bin/../lib/libncursesw.so.6: no version information available (required by samtools)\n",
      "samtools: /home/adrian/anaconda3/bin/../lib/libncursesw.so.6: no version information available (required by samtools)\n"
     ]
    },
    {
     "name": "stdout",
     "output_type": "stream",
     "text": [
      "time samtools sort -@ 10 -n -o /home/adrian/projects/reynisfjara/results/bam_genome/a4774_72h_2/namesort.bam /home/adrian/projects/reynisfjara/results/bam_genome/a4774_72h_2/a4774_72h_2.bam\n"
     ]
    },
    {
     "name": "stderr",
     "output_type": "stream",
     "text": [
      "[bam_sort_core] merging from 4 files and 10 in-memory blocks...\n",
      "955.03user 24.96system 2:18.72elapsed 706%CPU (0avgtext+0avgdata 8898188maxresident)k\n",
      "16144760inputs+32949680outputs (0major+2619992minor)pagefaults 0swaps\n",
      "samtools: /home/adrian/anaconda3/bin/../lib/libtinfow.so.6: no version information available (required by samtools)\n",
      "samtools: /home/adrian/anaconda3/bin/../lib/libncursesw.so.6: no version information available (required by samtools)\n",
      "samtools: /home/adrian/anaconda3/bin/../lib/libncursesw.so.6: no version information available (required by samtools)\n"
     ]
    },
    {
     "name": "stdout",
     "output_type": "stream",
     "text": [
      "time samtools fixmate -@ 10 -m /home/adrian/projects/reynisfjara/results/bam_genome/a4774_72h_2/namesort.bam /home/adrian/projects/reynisfjara/results/bam_genome/a4774_72h_2/fixmate.bam\n"
     ]
    },
    {
     "name": "stderr",
     "output_type": "stream",
     "text": [
      "526.67user 12.24system 1:05.29elapsed 825%CPU (0avgtext+0avgdata 14092maxresident)k\n",
      "0inputs+16676888outputs (0major+2997minor)pagefaults 0swaps\n",
      "samtools: /home/adrian/anaconda3/bin/../lib/libtinfow.so.6: no version information available (required by samtools)\n",
      "samtools: /home/adrian/anaconda3/bin/../lib/libncursesw.so.6: no version information available (required by samtools)\n",
      "samtools: /home/adrian/anaconda3/bin/../lib/libncursesw.so.6: no version information available (required by samtools)\n"
     ]
    },
    {
     "name": "stdout",
     "output_type": "stream",
     "text": [
      "time samtools sort -@ 10 -o /home/adrian/projects/reynisfjara/results/bam_genome/a4774_72h_2/positionsort.bam /home/adrian/projects/reynisfjara/results/bam_genome/a4774_72h_2/fixmate.bam\n"
     ]
    },
    {
     "name": "stderr",
     "output_type": "stream",
     "text": [
      "[bam_sort_core] merging from 4 files and 10 in-memory blocks...\n",
      "580.00user 17.00system 1:35.50elapsed 625%CPU (0avgtext+0avgdata 8866452maxresident)k\n",
      "16inputs+16916232outputs (0major+2615733minor)pagefaults 0swaps\n",
      "samtools: /home/adrian/anaconda3/bin/../lib/libtinfow.so.6: no version information available (required by samtools)\n",
      "samtools: /home/adrian/anaconda3/bin/../lib/libncursesw.so.6: no version information available (required by samtools)\n",
      "samtools: /home/adrian/anaconda3/bin/../lib/libncursesw.so.6: no version information available (required by samtools)\n"
     ]
    },
    {
     "name": "stdout",
     "output_type": "stream",
     "text": [
      "time samtools markdup -@ 10 -r /home/adrian/projects/reynisfjara/results/bam_genome/a4774_72h_2/positionsort.bam /home/adrian/projects/reynisfjara/results/bam_genome/a4774_72h_2/markdup.bam\n"
     ]
    },
    {
     "name": "stderr",
     "output_type": "stream",
     "text": [
      "307.99user 6.52system 1:04.31elapsed 489%CPU (0avgtext+0avgdata 394556maxresident)k\n",
      "0inputs+5788544outputs (0major+100402minor)pagefaults 0swaps\n",
      "samtools: /home/adrian/anaconda3/bin/../lib/libtinfow.so.6: no version information available (required by samtools)\n",
      "samtools: /home/adrian/anaconda3/bin/../lib/libncursesw.so.6: no version information available (required by samtools)\n",
      "samtools: /home/adrian/anaconda3/bin/../lib/libncursesw.so.6: no version information available (required by samtools)\n"
     ]
    },
    {
     "name": "stdout",
     "output_type": "stream",
     "text": [
      "time samtools sort -@ 10 -n -o /home/adrian/projects/reynisfjara/results/bam_genome/a4775_0h_1/namesort.bam /home/adrian/projects/reynisfjara/results/bam_genome/a4775_0h_1/a4775_0h_1.bam\n"
     ]
    },
    {
     "name": "stderr",
     "output_type": "stream",
     "text": [
      "[bam_sort_core] merging from 2 files and 10 in-memory blocks...\n",
      "519.48user 13.35system 1:12.86elapsed 731%CPU (0avgtext+0avgdata 8895052maxresident)k\n",
      "9572288inputs+17980008outputs (0major+2405981minor)pagefaults 0swaps\n",
      "samtools: /home/adrian/anaconda3/bin/../lib/libtinfow.so.6: no version information available (required by samtools)\n",
      "samtools: /home/adrian/anaconda3/bin/../lib/libncursesw.so.6: no version information available (required by samtools)\n",
      "samtools: /home/adrian/anaconda3/bin/../lib/libncursesw.so.6: no version information available (required by samtools)\n"
     ]
    },
    {
     "name": "stdout",
     "output_type": "stream",
     "text": [
      "time samtools fixmate -@ 10 -m /home/adrian/projects/reynisfjara/results/bam_genome/a4775_0h_1/namesort.bam /home/adrian/projects/reynisfjara/results/bam_genome/a4775_0h_1/fixmate.bam\n"
     ]
    },
    {
     "name": "stderr",
     "output_type": "stream",
     "text": [
      "310.73user 6.76system 0:36.28elapsed 875%CPU (0avgtext+0avgdata 13524maxresident)k\n",
      "0inputs+9882160outputs (0major+2966minor)pagefaults 0swaps\n",
      "samtools: /home/adrian/anaconda3/bin/../lib/libtinfow.so.6: no version information available (required by samtools)\n",
      "samtools: /home/adrian/anaconda3/bin/../lib/libncursesw.so.6: no version information available (required by samtools)\n",
      "samtools: /home/adrian/anaconda3/bin/../lib/libncursesw.so.6: no version information available (required by samtools)\n"
     ]
    },
    {
     "name": "stdout",
     "output_type": "stream",
     "text": [
      "time samtools sort -@ 10 -o /home/adrian/projects/reynisfjara/results/bam_genome/a4775_0h_1/positionsort.bam /home/adrian/projects/reynisfjara/results/bam_genome/a4775_0h_1/fixmate.bam\n"
     ]
    },
    {
     "name": "stderr",
     "output_type": "stream",
     "text": [
      "[bam_sort_core] merging from 2 files and 10 in-memory blocks...\n",
      "330.97user 10.26system 0:56.53elapsed 603%CPU (0avgtext+0avgdata 8863620maxresident)k\n",
      "0inputs+9033056outputs (0major+2401796minor)pagefaults 0swaps\n",
      "samtools: /home/adrian/anaconda3/bin/../lib/libtinfow.so.6: no version information available (required by samtools)\n",
      "samtools: /home/adrian/anaconda3/bin/../lib/libncursesw.so.6: no version information available (required by samtools)\n",
      "samtools: /home/adrian/anaconda3/bin/../lib/libncursesw.so.6: no version information available (required by samtools)\n"
     ]
    },
    {
     "name": "stdout",
     "output_type": "stream",
     "text": [
      "time samtools markdup -@ 10 -r /home/adrian/projects/reynisfjara/results/bam_genome/a4775_0h_1/positionsort.bam /home/adrian/projects/reynisfjara/results/bam_genome/a4775_0h_1/markdup.bam\n"
     ]
    },
    {
     "name": "stderr",
     "output_type": "stream",
     "text": [
      "189.45user 4.17system 0:37.10elapsed 521%CPU (0avgtext+0avgdata 218100maxresident)k\n",
      "0inputs+3563264outputs (0major+71560minor)pagefaults 0swaps\n",
      "samtools: /home/adrian/anaconda3/bin/../lib/libtinfow.so.6: no version information available (required by samtools)\n",
      "samtools: /home/adrian/anaconda3/bin/../lib/libncursesw.so.6: no version information available (required by samtools)\n",
      "samtools: /home/adrian/anaconda3/bin/../lib/libncursesw.so.6: no version information available (required by samtools)\n"
     ]
    },
    {
     "name": "stdout",
     "output_type": "stream",
     "text": [
      "time samtools sort -@ 10 -n -o /home/adrian/projects/reynisfjara/results/bam_genome/a4775_0h_2/namesort.bam /home/adrian/projects/reynisfjara/results/bam_genome/a4775_0h_2/a4775_0h_2.bam\n"
     ]
    },
    {
     "name": "stderr",
     "output_type": "stream",
     "text": [
      "[bam_sort_core] merging from 3 files and 10 in-memory blocks...\n",
      "915.48user 23.32system 2:20.32elapsed 669%CPU (0avgtext+0avgdata 8897392maxresident)k\n",
      "15395520inputs+27844112outputs (0major+2597806minor)pagefaults 0swaps\n",
      "samtools: /home/adrian/anaconda3/bin/../lib/libtinfow.so.6: no version information available (required by samtools)\n",
      "samtools: /home/adrian/anaconda3/bin/../lib/libncursesw.so.6: no version information available (required by samtools)\n",
      "samtools: /home/adrian/anaconda3/bin/../lib/libncursesw.so.6: no version information available (required by samtools)\n"
     ]
    },
    {
     "name": "stdout",
     "output_type": "stream",
     "text": [
      "time samtools fixmate -@ 10 -m /home/adrian/projects/reynisfjara/results/bam_genome/a4775_0h_2/namesort.bam /home/adrian/projects/reynisfjara/results/bam_genome/a4775_0h_2/fixmate.bam\n"
     ]
    },
    {
     "name": "stderr",
     "output_type": "stream",
     "text": [
      "502.89user 11.57system 0:59.51elapsed 864%CPU (0avgtext+0avgdata 13876maxresident)k\n",
      "0inputs+15877144outputs (0major+3001minor)pagefaults 0swaps\n",
      "samtools: /home/adrian/anaconda3/bin/../lib/libtinfow.so.6: no version information available (required by samtools)\n",
      "samtools: /home/adrian/anaconda3/bin/../lib/libncursesw.so.6: no version information available (required by samtools)\n",
      "samtools: /home/adrian/anaconda3/bin/../lib/libncursesw.so.6: no version information available (required by samtools)\n"
     ]
    },
    {
     "name": "stdout",
     "output_type": "stream",
     "text": [
      "time samtools sort -@ 10 -o /home/adrian/projects/reynisfjara/results/bam_genome/a4775_0h_2/positionsort.bam /home/adrian/projects/reynisfjara/results/bam_genome/a4775_0h_2/fixmate.bam\n"
     ]
    },
    {
     "name": "stderr",
     "output_type": "stream",
     "text": [
      "[bam_sort_core] merging from 3 files and 10 in-memory blocks...\n",
      "515.42user 14.09system 1:21.75elapsed 647%CPU (0avgtext+0avgdata 8866220maxresident)k\n",
      "16inputs+13678392outputs (0major+2593516minor)pagefaults 0swaps\n",
      "samtools: /home/adrian/anaconda3/bin/../lib/libtinfow.so.6: no version information available (required by samtools)\n",
      "samtools: /home/adrian/anaconda3/bin/../lib/libncursesw.so.6: no version information available (required by samtools)\n",
      "samtools: /home/adrian/anaconda3/bin/../lib/libncursesw.so.6: no version information available (required by samtools)\n"
     ]
    },
    {
     "name": "stdout",
     "output_type": "stream",
     "text": [
      "time samtools markdup -@ 10 -r /home/adrian/projects/reynisfjara/results/bam_genome/a4775_0h_2/positionsort.bam /home/adrian/projects/reynisfjara/results/bam_genome/a4775_0h_2/markdup.bam\n"
     ]
    },
    {
     "name": "stderr",
     "output_type": "stream",
     "text": [
      "280.26user 5.87system 1:00.85elapsed 470%CPU (0avgtext+0avgdata 326592maxresident)k\n",
      "0inputs+5228000outputs (0major+91888minor)pagefaults 0swaps\n",
      "samtools: /home/adrian/anaconda3/bin/../lib/libtinfow.so.6: no version information available (required by samtools)\n",
      "samtools: /home/adrian/anaconda3/bin/../lib/libncursesw.so.6: no version information available (required by samtools)\n",
      "samtools: /home/adrian/anaconda3/bin/../lib/libncursesw.so.6: no version information available (required by samtools)\n"
     ]
    },
    {
     "name": "stdout",
     "output_type": "stream",
     "text": [
      "time samtools sort -@ 10 -n -o /home/adrian/projects/reynisfjara/results/bam_genome/a4775_0h_3/namesort.bam /home/adrian/projects/reynisfjara/results/bam_genome/a4775_0h_3/a4775_0h_3.bam\n"
     ]
    },
    {
     "name": "stderr",
     "output_type": "stream",
     "text": [
      "[bam_sort_core] merging from 3 files and 10 in-memory blocks...\n",
      "766.66user 19.89system 1:51.22elapsed 707%CPU (0avgtext+0avgdata 8897224maxresident)k\n",
      "13362592inputs+25930208outputs (0major+2530444minor)pagefaults 0swaps\n",
      "samtools: /home/adrian/anaconda3/bin/../lib/libtinfow.so.6: no version information available (required by samtools)\n",
      "samtools: /home/adrian/anaconda3/bin/../lib/libncursesw.so.6: no version information available (required by samtools)\n",
      "samtools: /home/adrian/anaconda3/bin/../lib/libncursesw.so.6: no version information available (required by samtools)\n"
     ]
    },
    {
     "name": "stdout",
     "output_type": "stream",
     "text": [
      "time samtools fixmate -@ 10 -m /home/adrian/projects/reynisfjara/results/bam_genome/a4775_0h_3/namesort.bam /home/adrian/projects/reynisfjara/results/bam_genome/a4775_0h_3/fixmate.bam\n"
     ]
    },
    {
     "name": "stderr",
     "output_type": "stream",
     "text": [
      "440.38user 9.40system 0:52.96elapsed 849%CPU (0avgtext+0avgdata 13092maxresident)k\n",
      "0inputs+13801584outputs (0major+2965minor)pagefaults 0swaps\n",
      "samtools: /home/adrian/anaconda3/bin/../lib/libtinfow.so.6: no version information available (required by samtools)\n",
      "samtools: /home/adrian/anaconda3/bin/../lib/libncursesw.so.6: no version information available (required by samtools)\n",
      "samtools: /home/adrian/anaconda3/bin/../lib/libncursesw.so.6: no version information available (required by samtools)\n"
     ]
    },
    {
     "name": "stdout",
     "output_type": "stream",
     "text": [
      "time samtools sort -@ 10 -o /home/adrian/projects/reynisfjara/results/bam_genome/a4775_0h_3/positionsort.bam /home/adrian/projects/reynisfjara/results/bam_genome/a4775_0h_3/fixmate.bam\n"
     ]
    },
    {
     "name": "stderr",
     "output_type": "stream",
     "text": [
      "[bam_sort_core] merging from 3 files and 10 in-memory blocks...\n",
      "466.60user 13.16system 1:16.39elapsed 627%CPU (0avgtext+0avgdata 8865744maxresident)k\n",
      "8inputs+12866232outputs (0major+2526183minor)pagefaults 0swaps\n",
      "samtools: /home/adrian/anaconda3/bin/../lib/libtinfow.so.6: no version information available (required by samtools)\n",
      "samtools: /home/adrian/anaconda3/bin/../lib/libncursesw.so.6: no version information available (required by samtools)\n",
      "samtools: /home/adrian/anaconda3/bin/../lib/libncursesw.so.6: no version information available (required by samtools)\n"
     ]
    },
    {
     "name": "stdout",
     "output_type": "stream",
     "text": [
      "time samtools markdup -@ 10 -r /home/adrian/projects/reynisfjara/results/bam_genome/a4775_0h_3/positionsort.bam /home/adrian/projects/reynisfjara/results/bam_genome/a4775_0h_3/markdup.bam\n"
     ]
    },
    {
     "name": "stderr",
     "output_type": "stream",
     "text": [
      "248.94user 5.56system 0:52.82elapsed 481%CPU (0avgtext+0avgdata 275920maxresident)k\n",
      "0inputs+4637352outputs (0major+78039minor)pagefaults 0swaps\n",
      "samtools: /home/adrian/anaconda3/bin/../lib/libtinfow.so.6: no version information available (required by samtools)\n",
      "samtools: /home/adrian/anaconda3/bin/../lib/libncursesw.so.6: no version information available (required by samtools)\n",
      "samtools: /home/adrian/anaconda3/bin/../lib/libncursesw.so.6: no version information available (required by samtools)\n"
     ]
    },
    {
     "name": "stdout",
     "output_type": "stream",
     "text": [
      "time samtools sort -@ 10 -n -o /home/adrian/projects/reynisfjara/results/bam_genome/a4775_48h_1/namesort.bam /home/adrian/projects/reynisfjara/results/bam_genome/a4775_48h_1/a4775_48h_1.bam\n"
     ]
    },
    {
     "name": "stderr",
     "output_type": "stream",
     "text": [
      "[bam_sort_core] merging from 2 files and 10 in-memory blocks...\n",
      "632.43user 15.55system 1:30.86elapsed 713%CPU (0avgtext+0avgdata 8895352maxresident)k\n",
      "11628104inputs+20021592outputs (0major+2471975minor)pagefaults 0swaps\n",
      "samtools: /home/adrian/anaconda3/bin/../lib/libtinfow.so.6: no version information available (required by samtools)\n",
      "samtools: /home/adrian/anaconda3/bin/../lib/libncursesw.so.6: no version information available (required by samtools)\n",
      "samtools: /home/adrian/anaconda3/bin/../lib/libncursesw.so.6: no version information available (required by samtools)\n"
     ]
    },
    {
     "name": "stdout",
     "output_type": "stream",
     "text": [
      "time samtools fixmate -@ 10 -m /home/adrian/projects/reynisfjara/results/bam_genome/a4775_48h_1/namesort.bam /home/adrian/projects/reynisfjara/results/bam_genome/a4775_48h_1/fixmate.bam\n"
     ]
    },
    {
     "name": "stderr",
     "output_type": "stream",
     "text": [
      "378.64user 8.55system 0:49.01elapsed 789%CPU (0avgtext+0avgdata 13552maxresident)k\n",
      "56inputs+12001896outputs (0major+2983minor)pagefaults 0swaps\n",
      "samtools: /home/adrian/anaconda3/bin/../lib/libtinfow.so.6: no version information available (required by samtools)\n",
      "samtools: /home/adrian/anaconda3/bin/../lib/libncursesw.so.6: no version information available (required by samtools)\n",
      "samtools: /home/adrian/anaconda3/bin/../lib/libncursesw.so.6: no version information available (required by samtools)\n"
     ]
    },
    {
     "name": "stdout",
     "output_type": "stream",
     "text": [
      "time samtools sort -@ 10 -o /home/adrian/projects/reynisfjara/results/bam_genome/a4775_48h_1/positionsort.bam /home/adrian/projects/reynisfjara/results/bam_genome/a4775_48h_1/fixmate.bam\n"
     ]
    },
    {
     "name": "stderr",
     "output_type": "stream",
     "text": [
      "[bam_sort_core] merging from 2 files and 10 in-memory blocks...\n",
      "386.20user 10.91system 0:59.81elapsed 663%CPU (0avgtext+0avgdata 8863780maxresident)k\n",
      "0inputs+10083864outputs (0major+2467736minor)pagefaults 0swaps\n",
      "samtools: /home/adrian/anaconda3/bin/../lib/libtinfow.so.6: no version information available (required by samtools)\n",
      "samtools: /home/adrian/anaconda3/bin/../lib/libncursesw.so.6: no version information available (required by samtools)\n",
      "samtools: /home/adrian/anaconda3/bin/../lib/libncursesw.so.6: no version information available (required by samtools)\n"
     ]
    },
    {
     "name": "stdout",
     "output_type": "stream",
     "text": [
      "time samtools markdup -@ 10 -r /home/adrian/projects/reynisfjara/results/bam_genome/a4775_48h_1/positionsort.bam /home/adrian/projects/reynisfjara/results/bam_genome/a4775_48h_1/markdup.bam\n"
     ]
    },
    {
     "name": "stderr",
     "output_type": "stream",
     "text": [
      "227.85user 4.64system 0:44.11elapsed 527%CPU (0avgtext+0avgdata 239400maxresident)k\n",
      "0inputs+4299904outputs (0major+59542minor)pagefaults 0swaps\n",
      "samtools: /home/adrian/anaconda3/bin/../lib/libtinfow.so.6: no version information available (required by samtools)\n",
      "samtools: /home/adrian/anaconda3/bin/../lib/libncursesw.so.6: no version information available (required by samtools)\n",
      "samtools: /home/adrian/anaconda3/bin/../lib/libncursesw.so.6: no version information available (required by samtools)\n"
     ]
    },
    {
     "name": "stdout",
     "output_type": "stream",
     "text": [
      "time samtools sort -@ 10 -n -o /home/adrian/projects/reynisfjara/results/bam_genome/a4775_48h_2/namesort.bam /home/adrian/projects/reynisfjara/results/bam_genome/a4775_48h_2/a4775_48h_2.bam\n"
     ]
    },
    {
     "name": "stderr",
     "output_type": "stream",
     "text": [
      "[bam_sort_core] merging from 3 files and 10 in-memory blocks...\n",
      "822.54user 20.40system 1:59.52elapsed 705%CPU (0avgtext+0avgdata 8896736maxresident)k\n",
      "14468216inputs+27066712outputs (0major+2562877minor)pagefaults 0swaps\n",
      "samtools: /home/adrian/anaconda3/bin/../lib/libtinfow.so.6: no version information available (required by samtools)\n",
      "samtools: /home/adrian/anaconda3/bin/../lib/libncursesw.so.6: no version information available (required by samtools)\n",
      "samtools: /home/adrian/anaconda3/bin/../lib/libncursesw.so.6: no version information available (required by samtools)\n"
     ]
    },
    {
     "name": "stdout",
     "output_type": "stream",
     "text": [
      "time samtools fixmate -@ 10 -m /home/adrian/projects/reynisfjara/results/bam_genome/a4775_48h_2/namesort.bam /home/adrian/projects/reynisfjara/results/bam_genome/a4775_48h_2/fixmate.bam\n"
     ]
    },
    {
     "name": "stderr",
     "output_type": "stream",
     "text": [
      "470.82user 10.75system 0:58.34elapsed 825%CPU (0avgtext+0avgdata 13476maxresident)k\n",
      "0inputs+14932520outputs (0major+2991minor)pagefaults 0swaps\n",
      "samtools: /home/adrian/anaconda3/bin/../lib/libtinfow.so.6: no version information available (required by samtools)\n",
      "samtools: /home/adrian/anaconda3/bin/../lib/libncursesw.so.6: no version information available (required by samtools)\n",
      "samtools: /home/adrian/anaconda3/bin/../lib/libncursesw.so.6: no version information available (required by samtools)\n"
     ]
    },
    {
     "name": "stdout",
     "output_type": "stream",
     "text": [
      "time samtools sort -@ 10 -o /home/adrian/projects/reynisfjara/results/bam_genome/a4775_48h_2/positionsort.bam /home/adrian/projects/reynisfjara/results/bam_genome/a4775_48h_2/fixmate.bam\n"
     ]
    },
    {
     "name": "stderr",
     "output_type": "stream",
     "text": [
      "[bam_sort_core] merging from 3 files and 10 in-memory blocks...\n",
      "497.30user 13.85system 1:18.12elapsed 654%CPU (0avgtext+0avgdata 8864708maxresident)k\n",
      "0inputs+13582808outputs (0major+2558597minor)pagefaults 0swaps\n",
      "samtools: /home/adrian/anaconda3/bin/../lib/libtinfow.so.6: no version information available (required by samtools)\n",
      "samtools: /home/adrian/anaconda3/bin/../lib/libncursesw.so.6: no version information available (required by samtools)\n",
      "samtools: /home/adrian/anaconda3/bin/../lib/libncursesw.so.6: no version information available (required by samtools)\n"
     ]
    },
    {
     "name": "stdout",
     "output_type": "stream",
     "text": [
      "time samtools markdup -@ 10 -r /home/adrian/projects/reynisfjara/results/bam_genome/a4775_48h_2/positionsort.bam /home/adrian/projects/reynisfjara/results/bam_genome/a4775_48h_2/markdup.bam\n"
     ]
    },
    {
     "name": "stderr",
     "output_type": "stream",
     "text": [
      "277.64user 5.88system 0:54.56elapsed 519%CPU (0avgtext+0avgdata 302088maxresident)k\n",
      "0inputs+5187352outputs (0major+76173minor)pagefaults 0swaps\n",
      "samtools: /home/adrian/anaconda3/bin/../lib/libtinfow.so.6: no version information available (required by samtools)\n",
      "samtools: /home/adrian/anaconda3/bin/../lib/libncursesw.so.6: no version information available (required by samtools)\n",
      "samtools: /home/adrian/anaconda3/bin/../lib/libncursesw.so.6: no version information available (required by samtools)\n"
     ]
    },
    {
     "name": "stdout",
     "output_type": "stream",
     "text": [
      "time samtools sort -@ 10 -n -o /home/adrian/projects/reynisfjara/results/bam_genome/a4775_48h_3/namesort.bam /home/adrian/projects/reynisfjara/results/bam_genome/a4775_48h_3/a4775_48h_3.bam\n"
     ]
    },
    {
     "name": "stderr",
     "output_type": "stream",
     "text": [
      "[bam_sort_core] merging from 3 files and 10 in-memory blocks...\n",
      "783.52user 19.28system 1:51.85elapsed 717%CPU (0avgtext+0avgdata 8897164maxresident)k\n",
      "14006560inputs+26498512outputs (0major+2552730minor)pagefaults 0swaps\n",
      "samtools: /home/adrian/anaconda3/bin/../lib/libtinfow.so.6: no version information available (required by samtools)\n",
      "samtools: /home/adrian/anaconda3/bin/../lib/libncursesw.so.6: no version information available (required by samtools)\n",
      "samtools: /home/adrian/anaconda3/bin/../lib/libncursesw.so.6: no version information available (required by samtools)\n"
     ]
    },
    {
     "name": "stdout",
     "output_type": "stream",
     "text": [
      "time samtools fixmate -@ 10 -m /home/adrian/projects/reynisfjara/results/bam_genome/a4775_48h_3/namesort.bam /home/adrian/projects/reynisfjara/results/bam_genome/a4775_48h_3/fixmate.bam\n"
     ]
    },
    {
     "name": "stderr",
     "output_type": "stream",
     "text": [
      "451.42user 10.27system 0:57.23elapsed 806%CPU (0avgtext+0avgdata 13508maxresident)k\n",
      "0inputs+14449808outputs (0major+2972minor)pagefaults 0swaps\n",
      "samtools: /home/adrian/anaconda3/bin/../lib/libtinfow.so.6: no version information available (required by samtools)\n",
      "samtools: /home/adrian/anaconda3/bin/../lib/libncursesw.so.6: no version information available (required by samtools)\n",
      "samtools: /home/adrian/anaconda3/bin/../lib/libncursesw.so.6: no version information available (required by samtools)\n"
     ]
    },
    {
     "name": "stdout",
     "output_type": "stream",
     "text": [
      "time samtools sort -@ 10 -o /home/adrian/projects/reynisfjara/results/bam_genome/a4775_48h_3/positionsort.bam /home/adrian/projects/reynisfjara/results/bam_genome/a4775_48h_3/fixmate.bam\n"
     ]
    },
    {
     "name": "stderr",
     "output_type": "stream",
     "text": [
      "[bam_sort_core] merging from 3 files and 10 in-memory blocks...\n",
      "492.03user 14.34system 1:20.12elapsed 631%CPU (0avgtext+0avgdata 8865988maxresident)k\n",
      "0inputs+13234176outputs (0major+2548468minor)pagefaults 0swaps\n",
      "samtools: /home/adrian/anaconda3/bin/../lib/libtinfow.so.6: no version information available (required by samtools)\n",
      "samtools: /home/adrian/anaconda3/bin/../lib/libncursesw.so.6: no version information available (required by samtools)\n",
      "samtools: /home/adrian/anaconda3/bin/../lib/libncursesw.so.6: no version information available (required by samtools)\n"
     ]
    },
    {
     "name": "stdout",
     "output_type": "stream",
     "text": [
      "time samtools markdup -@ 10 -r /home/adrian/projects/reynisfjara/results/bam_genome/a4775_48h_3/positionsort.bam /home/adrian/projects/reynisfjara/results/bam_genome/a4775_48h_3/markdup.bam\n"
     ]
    },
    {
     "name": "stderr",
     "output_type": "stream",
     "text": [
      "267.21user 5.37system 1:02.86elapsed 433%CPU (0avgtext+0avgdata 312784maxresident)k\n",
      "24inputs+4863560outputs (0major+78042minor)pagefaults 0swaps\n",
      "samtools: /home/adrian/anaconda3/bin/../lib/libtinfow.so.6: no version information available (required by samtools)\n",
      "samtools: /home/adrian/anaconda3/bin/../lib/libncursesw.so.6: no version information available (required by samtools)\n",
      "samtools: /home/adrian/anaconda3/bin/../lib/libncursesw.so.6: no version information available (required by samtools)\n"
     ]
    },
    {
     "name": "stdout",
     "output_type": "stream",
     "text": [
      "time samtools sort -@ 10 -n -o /home/adrian/projects/reynisfjara/results/bam_genome/a4775_72h_1/namesort.bam /home/adrian/projects/reynisfjara/results/bam_genome/a4775_72h_1/a4775_72h_1.bam\n"
     ]
    },
    {
     "name": "stderr",
     "output_type": "stream",
     "text": [
      "[bam_sort_core] merging from 4 files and 10 in-memory blocks...\n",
      "965.28user 24.94system 2:20.29elapsed 705%CPU (0avgtext+0avgdata 8897408maxresident)k\n",
      "16301984inputs+33108960outputs (0major+2624341minor)pagefaults 0swaps\n",
      "samtools: /home/adrian/anaconda3/bin/../lib/libtinfow.so.6: no version information available (required by samtools)\n",
      "samtools: /home/adrian/anaconda3/bin/../lib/libncursesw.so.6: no version information available (required by samtools)\n",
      "samtools: /home/adrian/anaconda3/bin/../lib/libncursesw.so.6: no version information available (required by samtools)\n"
     ]
    },
    {
     "name": "stdout",
     "output_type": "stream",
     "text": [
      "time samtools fixmate -@ 10 -m /home/adrian/projects/reynisfjara/results/bam_genome/a4775_72h_1/namesort.bam /home/adrian/projects/reynisfjara/results/bam_genome/a4775_72h_1/fixmate.bam\n"
     ]
    },
    {
     "name": "stderr",
     "output_type": "stream",
     "text": [
      "546.43user 12.31system 1:08.29elapsed 818%CPU (0avgtext+0avgdata 14088maxresident)k\n",
      "72inputs+16838584outputs (0major+3017minor)pagefaults 0swaps\n",
      "samtools: /home/adrian/anaconda3/bin/../lib/libtinfow.so.6: no version information available (required by samtools)\n",
      "samtools: /home/adrian/anaconda3/bin/../lib/libncursesw.so.6: no version information available (required by samtools)\n",
      "samtools: /home/adrian/anaconda3/bin/../lib/libncursesw.so.6: no version information available (required by samtools)\n"
     ]
    },
    {
     "name": "stdout",
     "output_type": "stream",
     "text": [
      "time samtools sort -@ 10 -o /home/adrian/projects/reynisfjara/results/bam_genome/a4775_72h_1/positionsort.bam /home/adrian/projects/reynisfjara/results/bam_genome/a4775_72h_1/fixmate.bam\n"
     ]
    },
    {
     "name": "stderr",
     "output_type": "stream",
     "text": [
      "[bam_sort_core] merging from 4 files and 10 in-memory blocks...\n",
      "590.03user 17.26system 1:42.84elapsed 590%CPU (0avgtext+0avgdata 8866020maxresident)k\n",
      "152inputs+16725512outputs (0major+2619873minor)pagefaults 0swaps\n",
      "samtools: /home/adrian/anaconda3/bin/../lib/libtinfow.so.6: no version information available (required by samtools)\n",
      "samtools: /home/adrian/anaconda3/bin/../lib/libncursesw.so.6: no version information available (required by samtools)\n",
      "samtools: /home/adrian/anaconda3/bin/../lib/libncursesw.so.6: no version information available (required by samtools)\n"
     ]
    },
    {
     "name": "stdout",
     "output_type": "stream",
     "text": [
      "time samtools markdup -@ 10 -r /home/adrian/projects/reynisfjara/results/bam_genome/a4775_72h_1/positionsort.bam /home/adrian/projects/reynisfjara/results/bam_genome/a4775_72h_1/markdup.bam\n"
     ]
    },
    {
     "name": "stderr",
     "output_type": "stream",
     "text": [
      "296.18user 6.00system 1:03.13elapsed 478%CPU (0avgtext+0avgdata 323528maxresident)k\n",
      "8inputs+5545552outputs (0major+80461minor)pagefaults 0swaps\n",
      "samtools: /home/adrian/anaconda3/bin/../lib/libtinfow.so.6: no version information available (required by samtools)\n",
      "samtools: /home/adrian/anaconda3/bin/../lib/libncursesw.so.6: no version information available (required by samtools)\n",
      "samtools: /home/adrian/anaconda3/bin/../lib/libncursesw.so.6: no version information available (required by samtools)\n"
     ]
    },
    {
     "name": "stdout",
     "output_type": "stream",
     "text": [
      "time samtools sort -@ 10 -n -o /home/adrian/projects/reynisfjara/results/bam_genome/a4775_72h_2/namesort.bam /home/adrian/projects/reynisfjara/results/bam_genome/a4775_72h_2/a4775_72h_2.bam\n"
     ]
    },
    {
     "name": "stderr",
     "output_type": "stream",
     "text": [
      "[bam_sort_core] merging from 3 files and 10 in-memory blocks...\n",
      "870.37user 22.92system 2:16.12elapsed 656%CPU (0avgtext+0avgdata 8896896maxresident)k\n",
      "15317504inputs+27926416outputs (0major+2589506minor)pagefaults 0swaps\n",
      "samtools: /home/adrian/anaconda3/bin/../lib/libtinfow.so.6: no version information available (required by samtools)\n",
      "samtools: /home/adrian/anaconda3/bin/../lib/libncursesw.so.6: no version information available (required by samtools)\n",
      "samtools: /home/adrian/anaconda3/bin/../lib/libncursesw.so.6: no version information available (required by samtools)\n"
     ]
    },
    {
     "name": "stdout",
     "output_type": "stream",
     "text": [
      "time samtools fixmate -@ 10 -m /home/adrian/projects/reynisfjara/results/bam_genome/a4775_72h_2/namesort.bam /home/adrian/projects/reynisfjara/results/bam_genome/a4775_72h_2/fixmate.bam\n"
     ]
    },
    {
     "name": "stderr",
     "output_type": "stream",
     "text": [
      "490.07user 10.76system 1:05.19elapsed 768%CPU (0avgtext+0avgdata 13628maxresident)k\n",
      "0inputs+15822672outputs (0major+3018minor)pagefaults 0swaps\n",
      "samtools: /home/adrian/anaconda3/bin/../lib/libtinfow.so.6: no version information available (required by samtools)\n",
      "samtools: /home/adrian/anaconda3/bin/../lib/libncursesw.so.6: no version information available (required by samtools)\n",
      "samtools: /home/adrian/anaconda3/bin/../lib/libncursesw.so.6: no version information available (required by samtools)\n"
     ]
    },
    {
     "name": "stdout",
     "output_type": "stream",
     "text": [
      "time samtools sort -@ 10 -o /home/adrian/projects/reynisfjara/results/bam_genome/a4775_72h_2/positionsort.bam /home/adrian/projects/reynisfjara/results/bam_genome/a4775_72h_2/fixmate.bam\n"
     ]
    },
    {
     "name": "stderr",
     "output_type": "stream",
     "text": [
      "[bam_sort_core] merging from 3 files and 10 in-memory blocks...\n",
      "536.12user 15.04system 1:29.01elapsed 619%CPU (0avgtext+0avgdata 8865948maxresident)k\n",
      "0inputs+14137648outputs (0major+2585227minor)pagefaults 0swaps\n",
      "samtools: /home/adrian/anaconda3/bin/../lib/libtinfow.so.6: no version information available (required by samtools)\n",
      "samtools: /home/adrian/anaconda3/bin/../lib/libncursesw.so.6: no version information available (required by samtools)\n",
      "samtools: /home/adrian/anaconda3/bin/../lib/libncursesw.so.6: no version information available (required by samtools)\n"
     ]
    },
    {
     "name": "stdout",
     "output_type": "stream",
     "text": [
      "time samtools markdup -@ 10 -r /home/adrian/projects/reynisfjara/results/bam_genome/a4775_72h_2/positionsort.bam /home/adrian/projects/reynisfjara/results/bam_genome/a4775_72h_2/markdup.bam\n"
     ]
    },
    {
     "name": "stderr",
     "output_type": "stream",
     "text": [
      "299.42user 6.39system 1:03.04elapsed 485%CPU (0avgtext+0avgdata 310348maxresident)k\n",
      "0inputs+5478688outputs (0major+78361minor)pagefaults 0swaps\n",
      "samtools: /home/adrian/anaconda3/bin/../lib/libtinfow.so.6: no version information available (required by samtools)\n",
      "samtools: /home/adrian/anaconda3/bin/../lib/libncursesw.so.6: no version information available (required by samtools)\n",
      "samtools: /home/adrian/anaconda3/bin/../lib/libncursesw.so.6: no version information available (required by samtools)\n"
     ]
    },
    {
     "name": "stdout",
     "output_type": "stream",
     "text": [
      "time samtools sort -@ 10 -n -o /home/adrian/projects/reynisfjara/results/bam_genome/a4775_72h_3/namesort.bam /home/adrian/projects/reynisfjara/results/bam_genome/a4775_72h_3/a4775_72h_3.bam\n"
     ]
    },
    {
     "name": "stderr",
     "output_type": "stream",
     "text": [
      "[bam_sort_core] merging from 2 files and 10 in-memory blocks...\n",
      "619.01user 15.08system 1:33.29elapsed 679%CPU (0avgtext+0avgdata 8894948maxresident)k\n",
      "11380160inputs+19802736outputs (0major+2462291minor)pagefaults 0swaps\n",
      "samtools: /home/adrian/anaconda3/bin/../lib/libtinfow.so.6: no version information available (required by samtools)\n",
      "samtools: /home/adrian/anaconda3/bin/../lib/libncursesw.so.6: no version information available (required by samtools)\n",
      "samtools: /home/adrian/anaconda3/bin/../lib/libncursesw.so.6: no version information available (required by samtools)\n"
     ]
    },
    {
     "name": "stdout",
     "output_type": "stream",
     "text": [
      "time samtools fixmate -@ 10 -m /home/adrian/projects/reynisfjara/results/bam_genome/a4775_72h_3/namesort.bam /home/adrian/projects/reynisfjara/results/bam_genome/a4775_72h_3/fixmate.bam\n"
     ]
    },
    {
     "name": "stderr",
     "output_type": "stream",
     "text": [
      "378.79user 8.20system 0:51.84elapsed 746%CPU (0avgtext+0avgdata 13676maxresident)k\n",
      "32inputs+11761248outputs (0major+3030minor)pagefaults 0swaps\n",
      "samtools: /home/adrian/anaconda3/bin/../lib/libtinfow.so.6: no version information available (required by samtools)\n",
      "samtools: /home/adrian/anaconda3/bin/../lib/libncursesw.so.6: no version information available (required by samtools)\n",
      "samtools: /home/adrian/anaconda3/bin/../lib/libncursesw.so.6: no version information available (required by samtools)\n"
     ]
    },
    {
     "name": "stdout",
     "output_type": "stream",
     "text": [
      "time samtools sort -@ 10 -o /home/adrian/projects/reynisfjara/results/bam_genome/a4775_72h_3/positionsort.bam /home/adrian/projects/reynisfjara/results/bam_genome/a4775_72h_3/fixmate.bam\n"
     ]
    },
    {
     "name": "stderr",
     "output_type": "stream",
     "text": [
      "[bam_sort_core] merging from 2 files and 10 in-memory blocks...\n",
      "397.56user 11.45system 1:02.89elapsed 650%CPU (0avgtext+0avgdata 8863592maxresident)k\n",
      "32inputs+10146176outputs (0major+2458071minor)pagefaults 0swaps\n",
      "samtools: /home/adrian/anaconda3/bin/../lib/libtinfow.so.6: no version information available (required by samtools)\n",
      "samtools: /home/adrian/anaconda3/bin/../lib/libncursesw.so.6: no version information available (required by samtools)\n",
      "samtools: /home/adrian/anaconda3/bin/../lib/libncursesw.so.6: no version information available (required by samtools)\n"
     ]
    },
    {
     "name": "stdout",
     "output_type": "stream",
     "text": [
      "time samtools markdup -@ 10 -r /home/adrian/projects/reynisfjara/results/bam_genome/a4775_72h_3/positionsort.bam /home/adrian/projects/reynisfjara/results/bam_genome/a4775_72h_3/markdup.bam\n"
     ]
    },
    {
     "name": "stderr",
     "output_type": "stream",
     "text": [
      "239.95user 5.05system 0:48.60elapsed 504%CPU (0avgtext+0avgdata 243208maxresident)k\n",
      "16inputs+4362288outputs (0major+60452minor)pagefaults 0swaps\n",
      "samtools: /home/adrian/anaconda3/bin/../lib/libtinfow.so.6: no version information available (required by samtools)\n",
      "samtools: /home/adrian/anaconda3/bin/../lib/libncursesw.so.6: no version information available (required by samtools)\n",
      "samtools: /home/adrian/anaconda3/bin/../lib/libncursesw.so.6: no version information available (required by samtools)\n"
     ]
    },
    {
     "name": "stdout",
     "output_type": "stream",
     "text": [
      "time samtools sort -@ 10 -n -o /home/adrian/projects/reynisfjara/results/bam_genome/a4776_0h_1/namesort.bam /home/adrian/projects/reynisfjara/results/bam_genome/a4776_0h_1/a4776_0h_1.bam\n"
     ]
    },
    {
     "name": "stderr",
     "output_type": "stream",
     "text": [
      "[bam_sort_core] merging from 2 files and 10 in-memory blocks...\n",
      "613.09user 15.55system 1:35.11elapsed 660%CPU (0avgtext+0avgdata 8895336maxresident)k\n",
      "10697088inputs+19025512outputs (0major+2445392minor)pagefaults 0swaps\n",
      "samtools: /home/adrian/anaconda3/bin/../lib/libtinfow.so.6: no version information available (required by samtools)\n",
      "samtools: /home/adrian/anaconda3/bin/../lib/libncursesw.so.6: no version information available (required by samtools)\n",
      "samtools: /home/adrian/anaconda3/bin/../lib/libncursesw.so.6: no version information available (required by samtools)\n"
     ]
    },
    {
     "name": "stdout",
     "output_type": "stream",
     "text": [
      "time samtools fixmate -@ 10 -m /home/adrian/projects/reynisfjara/results/bam_genome/a4776_0h_1/namesort.bam /home/adrian/projects/reynisfjara/results/bam_genome/a4776_0h_1/fixmate.bam\n"
     ]
    },
    {
     "name": "stderr",
     "output_type": "stream",
     "text": [
      "358.54user 7.98system 0:45.64elapsed 802%CPU (0avgtext+0avgdata 13480maxresident)k\n",
      "96inputs+11038344outputs (0major+2960minor)pagefaults 0swaps\n",
      "samtools: /home/adrian/anaconda3/bin/../lib/libtinfow.so.6: no version information available (required by samtools)\n",
      "samtools: /home/adrian/anaconda3/bin/../lib/libncursesw.so.6: no version information available (required by samtools)\n",
      "samtools: /home/adrian/anaconda3/bin/../lib/libncursesw.so.6: no version information available (required by samtools)\n"
     ]
    },
    {
     "name": "stdout",
     "output_type": "stream",
     "text": [
      "time samtools sort -@ 10 -o /home/adrian/projects/reynisfjara/results/bam_genome/a4776_0h_1/positionsort.bam /home/adrian/projects/reynisfjara/results/bam_genome/a4776_0h_1/fixmate.bam\n"
     ]
    },
    {
     "name": "stderr",
     "output_type": "stream",
     "text": [
      "[bam_sort_core] merging from 2 files and 10 in-memory blocks...\n",
      "374.30user 11.45system 1:02.24elapsed 619%CPU (0avgtext+0avgdata 8864544maxresident)k\n",
      "48inputs+9612168outputs (0major+2441248minor)pagefaults 0swaps\n",
      "samtools: /home/adrian/anaconda3/bin/../lib/libtinfow.so.6: no version information available (required by samtools)\n",
      "samtools: /home/adrian/anaconda3/bin/../lib/libncursesw.so.6: no version information available (required by samtools)\n",
      "samtools: /home/adrian/anaconda3/bin/../lib/libncursesw.so.6: no version information available (required by samtools)\n"
     ]
    },
    {
     "name": "stdout",
     "output_type": "stream",
     "text": [
      "time samtools markdup -@ 10 -r /home/adrian/projects/reynisfjara/results/bam_genome/a4776_0h_1/positionsort.bam /home/adrian/projects/reynisfjara/results/bam_genome/a4776_0h_1/markdup.bam\n"
     ]
    },
    {
     "name": "stderr",
     "output_type": "stream",
     "text": [
      "222.59user 4.62system 0:45.01elapsed 504%CPU (0avgtext+0avgdata 302300maxresident)k\n",
      "32inputs+4038928outputs (0major+81844minor)pagefaults 0swaps\n",
      "samtools: /home/adrian/anaconda3/bin/../lib/libtinfow.so.6: no version information available (required by samtools)\n",
      "samtools: /home/adrian/anaconda3/bin/../lib/libncursesw.so.6: no version information available (required by samtools)\n",
      "samtools: /home/adrian/anaconda3/bin/../lib/libncursesw.so.6: no version information available (required by samtools)\n"
     ]
    },
    {
     "name": "stdout",
     "output_type": "stream",
     "text": [
      "time samtools sort -@ 10 -n -o /home/adrian/projects/reynisfjara/results/bam_genome/a4776_0h_2/namesort.bam /home/adrian/projects/reynisfjara/results/bam_genome/a4776_0h_2/a4776_0h_2.bam\n"
     ]
    },
    {
     "name": "stderr",
     "output_type": "stream",
     "text": [
      "[bam_sort_core] merging from 3 files and 10 in-memory blocks...\n",
      "745.20user 21.39system 2:11.45elapsed 583%CPU (0avgtext+0avgdata 8897128maxresident)k\n",
      "12341896inputs+24831408outputs (0major+2499621minor)pagefaults 0swaps\n",
      "samtools: /home/adrian/anaconda3/bin/../lib/libtinfow.so.6: no version information available (required by samtools)\n",
      "samtools: /home/adrian/anaconda3/bin/../lib/libncursesw.so.6: no version information available (required by samtools)\n",
      "samtools: /home/adrian/anaconda3/bin/../lib/libncursesw.so.6: no version information available (required by samtools)\n"
     ]
    },
    {
     "name": "stdout",
     "output_type": "stream",
     "text": [
      "time samtools fixmate -@ 10 -m /home/adrian/projects/reynisfjara/results/bam_genome/a4776_0h_2/namesort.bam /home/adrian/projects/reynisfjara/results/bam_genome/a4776_0h_2/fixmate.bam\n"
     ]
    },
    {
     "name": "stderr",
     "output_type": "stream",
     "text": [
      "403.71user 9.09system 0:57.98elapsed 711%CPU (0avgtext+0avgdata 13972maxresident)k\n",
      "56inputs+12731240outputs (0major+3003minor)pagefaults 0swaps\n",
      "samtools: /home/adrian/anaconda3/bin/../lib/libtinfow.so.6: no version information available (required by samtools)\n",
      "samtools: /home/adrian/anaconda3/bin/../lib/libncursesw.so.6: no version information available (required by samtools)\n",
      "samtools: /home/adrian/anaconda3/bin/../lib/libncursesw.so.6: no version information available (required by samtools)\n"
     ]
    },
    {
     "name": "stdout",
     "output_type": "stream",
     "text": [
      "time samtools sort -@ 10 -o /home/adrian/projects/reynisfjara/results/bam_genome/a4776_0h_2/positionsort.bam /home/adrian/projects/reynisfjara/results/bam_genome/a4776_0h_2/fixmate.bam\n"
     ]
    },
    {
     "name": "stderr",
     "output_type": "stream",
     "text": [
      "[bam_sort_core] merging from 3 files and 10 in-memory blocks...\n",
      "450.02user 13.56system 1:15.22elapsed 616%CPU (0avgtext+0avgdata 8866520maxresident)k\n",
      "56inputs+12361968outputs (0major+2495296minor)pagefaults 0swaps\n",
      "samtools: /home/adrian/anaconda3/bin/../lib/libtinfow.so.6: no version information available (required by samtools)\n",
      "samtools: /home/adrian/anaconda3/bin/../lib/libncursesw.so.6: no version information available (required by samtools)\n",
      "samtools: /home/adrian/anaconda3/bin/../lib/libncursesw.so.6: no version information available (required by samtools)\n"
     ]
    },
    {
     "name": "stdout",
     "output_type": "stream",
     "text": [
      "time samtools markdup -@ 10 -r /home/adrian/projects/reynisfjara/results/bam_genome/a4776_0h_2/positionsort.bam /home/adrian/projects/reynisfjara/results/bam_genome/a4776_0h_2/markdup.bam\n"
     ]
    },
    {
     "name": "stderr",
     "output_type": "stream",
     "text": [
      "239.55user 5.21system 0:54.32elapsed 450%CPU (0avgtext+0avgdata 341600maxresident)k\n",
      "0inputs+4364976outputs (0major+93490minor)pagefaults 0swaps\n",
      "samtools: /home/adrian/anaconda3/bin/../lib/libtinfow.so.6: no version information available (required by samtools)\n",
      "samtools: /home/adrian/anaconda3/bin/../lib/libncursesw.so.6: no version information available (required by samtools)\n",
      "samtools: /home/adrian/anaconda3/bin/../lib/libncursesw.so.6: no version information available (required by samtools)\n"
     ]
    },
    {
     "name": "stdout",
     "output_type": "stream",
     "text": [
      "time samtools sort -@ 10 -n -o /home/adrian/projects/reynisfjara/results/bam_genome/a4776_0h_3/namesort.bam /home/adrian/projects/reynisfjara/results/bam_genome/a4776_0h_3/a4776_0h_3.bam\n"
     ]
    },
    {
     "name": "stderr",
     "output_type": "stream",
     "text": [
      "[bam_sort_core] merging from 3 files and 10 in-memory blocks...\n",
      "730.29user 19.80system 1:53.30elapsed 662%CPU (0avgtext+0avgdata 8897680maxresident)k\n",
      "12262936inputs+24753432outputs (0major+2497564minor)pagefaults 0swaps\n",
      "samtools: /home/adrian/anaconda3/bin/../lib/libtinfow.so.6: no version information available (required by samtools)\n",
      "samtools: /home/adrian/anaconda3/bin/../lib/libncursesw.so.6: no version information available (required by samtools)\n",
      "samtools: /home/adrian/anaconda3/bin/../lib/libncursesw.so.6: no version information available (required by samtools)\n"
     ]
    },
    {
     "name": "stdout",
     "output_type": "stream",
     "text": [
      "time samtools fixmate -@ 10 -m /home/adrian/projects/reynisfjara/results/bam_genome/a4776_0h_3/namesort.bam /home/adrian/projects/reynisfjara/results/bam_genome/a4776_0h_3/fixmate.bam\n"
     ]
    },
    {
     "name": "stderr",
     "output_type": "stream",
     "text": [
      "398.65user 8.56system 1:00.16elapsed 676%CPU (0avgtext+0avgdata 13820maxresident)k\n",
      "48inputs+12653080outputs (0major+2988minor)pagefaults 0swaps\n",
      "samtools: /home/adrian/anaconda3/bin/../lib/libtinfow.so.6: no version information available (required by samtools)\n",
      "samtools: /home/adrian/anaconda3/bin/../lib/libncursesw.so.6: no version information available (required by samtools)\n",
      "samtools: /home/adrian/anaconda3/bin/../lib/libncursesw.so.6: no version information available (required by samtools)\n"
     ]
    },
    {
     "name": "stdout",
     "output_type": "stream",
     "text": [
      "time samtools sort -@ 10 -o /home/adrian/projects/reynisfjara/results/bam_genome/a4776_0h_3/positionsort.bam /home/adrian/projects/reynisfjara/results/bam_genome/a4776_0h_3/fixmate.bam\n"
     ]
    },
    {
     "name": "stderr",
     "output_type": "stream",
     "text": [
      "[bam_sort_core] merging from 3 files and 10 in-memory blocks...\n",
      "443.61user 12.99system 1:20.20elapsed 569%CPU (0avgtext+0avgdata 8865984maxresident)k\n",
      "48inputs+12422472outputs (0major+2493282minor)pagefaults 0swaps\n",
      "samtools: /home/adrian/anaconda3/bin/../lib/libtinfow.so.6: no version information available (required by samtools)\n",
      "samtools: /home/adrian/anaconda3/bin/../lib/libncursesw.so.6: no version information available (required by samtools)\n",
      "samtools: /home/adrian/anaconda3/bin/../lib/libncursesw.so.6: no version information available (required by samtools)\n"
     ]
    },
    {
     "name": "stdout",
     "output_type": "stream",
     "text": [
      "time samtools markdup -@ 10 -r /home/adrian/projects/reynisfjara/results/bam_genome/a4776_0h_3/positionsort.bam /home/adrian/projects/reynisfjara/results/bam_genome/a4776_0h_3/markdup.bam\n"
     ]
    },
    {
     "name": "stderr",
     "output_type": "stream",
     "text": [
      "232.67user 5.22system 0:48.93elapsed 486%CPU (0avgtext+0avgdata 343904maxresident)k\n",
      "48inputs+4363352outputs (0major+99828minor)pagefaults 0swaps\n",
      "samtools: /home/adrian/anaconda3/bin/../lib/libtinfow.so.6: no version information available (required by samtools)\n",
      "samtools: /home/adrian/anaconda3/bin/../lib/libncursesw.so.6: no version information available (required by samtools)\n",
      "samtools: /home/adrian/anaconda3/bin/../lib/libncursesw.so.6: no version information available (required by samtools)\n"
     ]
    },
    {
     "name": "stdout",
     "output_type": "stream",
     "text": [
      "time samtools sort -@ 10 -n -o /home/adrian/projects/reynisfjara/results/bam_genome/a4776_48h_1/namesort.bam /home/adrian/projects/reynisfjara/results/bam_genome/a4776_48h_1/a4776_48h_1.bam\n"
     ]
    },
    {
     "name": "stderr",
     "output_type": "stream",
     "text": [
      "[bam_sort_core] merging from 3 files and 10 in-memory blocks...\n",
      "848.60user 21.99system 2:03.83elapsed 703%CPU (0avgtext+0avgdata 8897944maxresident)k\n",
      "14800328inputs+27367168outputs (0major+2575798minor)pagefaults 0swaps\n",
      "samtools: /home/adrian/anaconda3/bin/../lib/libtinfow.so.6: no version information available (required by samtools)\n",
      "samtools: /home/adrian/anaconda3/bin/../lib/libncursesw.so.6: no version information available (required by samtools)\n",
      "samtools: /home/adrian/anaconda3/bin/../lib/libncursesw.so.6: no version information available (required by samtools)\n"
     ]
    },
    {
     "name": "stdout",
     "output_type": "stream",
     "text": [
      "time samtools fixmate -@ 10 -m /home/adrian/projects/reynisfjara/results/bam_genome/a4776_48h_1/namesort.bam /home/adrian/projects/reynisfjara/results/bam_genome/a4776_48h_1/fixmate.bam\n"
     ]
    },
    {
     "name": "stderr",
     "output_type": "stream",
     "text": [
      "485.93user 11.15system 1:01.16elapsed 812%CPU (0avgtext+0avgdata 13956maxresident)k\n",
      "64inputs+15287240outputs (0major+3015minor)pagefaults 0swaps\n",
      "samtools: /home/adrian/anaconda3/bin/../lib/libtinfow.so.6: no version information available (required by samtools)\n",
      "samtools: /home/adrian/anaconda3/bin/../lib/libncursesw.so.6: no version information available (required by samtools)\n",
      "samtools: /home/adrian/anaconda3/bin/../lib/libncursesw.so.6: no version information available (required by samtools)\n"
     ]
    },
    {
     "name": "stdout",
     "output_type": "stream",
     "text": [
      "time samtools sort -@ 10 -o /home/adrian/projects/reynisfjara/results/bam_genome/a4776_48h_1/positionsort.bam /home/adrian/projects/reynisfjara/results/bam_genome/a4776_48h_1/fixmate.bam\n"
     ]
    },
    {
     "name": "stderr",
     "output_type": "stream",
     "text": [
      "[bam_sort_core] merging from 3 files and 10 in-memory blocks...\n",
      "515.43user 14.67system 1:24.66elapsed 626%CPU (0avgtext+0avgdata 8866572maxresident)k\n",
      "48inputs+14026520outputs (0major+2571459minor)pagefaults 0swaps\n",
      "samtools: /home/adrian/anaconda3/bin/../lib/libtinfow.so.6: no version information available (required by samtools)\n",
      "samtools: /home/adrian/anaconda3/bin/../lib/libncursesw.so.6: no version information available (required by samtools)\n",
      "samtools: /home/adrian/anaconda3/bin/../lib/libncursesw.so.6: no version information available (required by samtools)\n"
     ]
    },
    {
     "name": "stdout",
     "output_type": "stream",
     "text": [
      "time samtools markdup -@ 10 -r /home/adrian/projects/reynisfjara/results/bam_genome/a4776_48h_1/positionsort.bam /home/adrian/projects/reynisfjara/results/bam_genome/a4776_48h_1/markdup.bam\n"
     ]
    },
    {
     "name": "stderr",
     "output_type": "stream",
     "text": [
      "288.25user 5.97system 0:58.88elapsed 499%CPU (0avgtext+0avgdata 436432maxresident)k\n",
      "8inputs+5388312outputs (0major+108697minor)pagefaults 0swaps\n",
      "samtools: /home/adrian/anaconda3/bin/../lib/libtinfow.so.6: no version information available (required by samtools)\n",
      "samtools: /home/adrian/anaconda3/bin/../lib/libncursesw.so.6: no version information available (required by samtools)\n",
      "samtools: /home/adrian/anaconda3/bin/../lib/libncursesw.so.6: no version information available (required by samtools)\n"
     ]
    },
    {
     "name": "stdout",
     "output_type": "stream",
     "text": [
      "time samtools sort -@ 10 -n -o /home/adrian/projects/reynisfjara/results/bam_genome/a4776_48h_2/namesort.bam /home/adrian/projects/reynisfjara/results/bam_genome/a4776_48h_2/a4776_48h_2.bam\n"
     ]
    },
    {
     "name": "stderr",
     "output_type": "stream",
     "text": [
      "[bam_sort_core] merging from 4 files and 10 in-memory blocks...\n",
      "972.97user 25.55system 2:25.93elapsed 684%CPU (0avgtext+0avgdata 8898368maxresident)k\n",
      "16603872inputs+33569280outputs (0major+2631120minor)pagefaults 0swaps\n",
      "samtools: /home/adrian/anaconda3/bin/../lib/libtinfow.so.6: no version information available (required by samtools)\n",
      "samtools: /home/adrian/anaconda3/bin/../lib/libncursesw.so.6: no version information available (required by samtools)\n",
      "samtools: /home/adrian/anaconda3/bin/../lib/libncursesw.so.6: no version information available (required by samtools)\n"
     ]
    },
    {
     "name": "stdout",
     "output_type": "stream",
     "text": [
      "time samtools fixmate -@ 10 -m /home/adrian/projects/reynisfjara/results/bam_genome/a4776_48h_2/namesort.bam /home/adrian/projects/reynisfjara/results/bam_genome/a4776_48h_2/fixmate.bam\n"
     ]
    },
    {
     "name": "stderr",
     "output_type": "stream",
     "text": [
      "549.11user 11.54system 1:09.42elapsed 807%CPU (0avgtext+0avgdata 13736maxresident)k\n",
      "40inputs+17157984outputs (0major+3024minor)pagefaults 0swaps\n",
      "samtools: /home/adrian/anaconda3/bin/../lib/libtinfow.so.6: no version information available (required by samtools)\n",
      "samtools: /home/adrian/anaconda3/bin/../lib/libncursesw.so.6: no version information available (required by samtools)\n",
      "samtools: /home/adrian/anaconda3/bin/../lib/libncursesw.so.6: no version information available (required by samtools)\n"
     ]
    },
    {
     "name": "stdout",
     "output_type": "stream",
     "text": [
      "time samtools sort -@ 10 -o /home/adrian/projects/reynisfjara/results/bam_genome/a4776_48h_2/positionsort.bam /home/adrian/projects/reynisfjara/results/bam_genome/a4776_48h_2/fixmate.bam\n"
     ]
    },
    {
     "name": "stderr",
     "output_type": "stream",
     "text": [
      "[bam_sort_core] merging from 4 files and 10 in-memory blocks...\n",
      "630.64user 17.33system 1:44.92elapsed 617%CPU (0avgtext+0avgdata 8867020maxresident)k\n",
      "40inputs+17359464outputs (0major+2626607minor)pagefaults 0swaps\n",
      "samtools: /home/adrian/anaconda3/bin/../lib/libtinfow.so.6: no version information available (required by samtools)\n",
      "samtools: /home/adrian/anaconda3/bin/../lib/libncursesw.so.6: no version information available (required by samtools)\n",
      "samtools: /home/adrian/anaconda3/bin/../lib/libncursesw.so.6: no version information available (required by samtools)\n"
     ]
    },
    {
     "name": "stdout",
     "output_type": "stream",
     "text": [
      "time samtools markdup -@ 10 -r /home/adrian/projects/reynisfjara/results/bam_genome/a4776_48h_2/positionsort.bam /home/adrian/projects/reynisfjara/results/bam_genome/a4776_48h_2/markdup.bam\n"
     ]
    },
    {
     "name": "stderr",
     "output_type": "stream",
     "text": [
      "356.92user 7.61system 1:19.52elapsed 458%CPU (0avgtext+0avgdata 484200maxresident)k\n",
      "8inputs+5922080outputs (0major+125483minor)pagefaults 0swaps\n",
      "samtools: /home/adrian/anaconda3/bin/../lib/libtinfow.so.6: no version information available (required by samtools)\n",
      "samtools: /home/adrian/anaconda3/bin/../lib/libncursesw.so.6: no version information available (required by samtools)\n",
      "samtools: /home/adrian/anaconda3/bin/../lib/libncursesw.so.6: no version information available (required by samtools)\n"
     ]
    },
    {
     "name": "stdout",
     "output_type": "stream",
     "text": [
      "time samtools sort -@ 10 -n -o /home/adrian/projects/reynisfjara/results/bam_genome/a4776_48h_3/namesort.bam /home/adrian/projects/reynisfjara/results/bam_genome/a4776_48h_3/a4776_48h_3.bam\n"
     ]
    },
    {
     "name": "stderr",
     "output_type": "stream",
     "text": [
      "[bam_sort_core] merging from 3 files and 10 in-memory blocks...\n",
      "745.63user 19.80system 1:55.34elapsed 663%CPU (0avgtext+0avgdata 8898040maxresident)k\n",
      "12313480inputs+25048960outputs (0major+2492754minor)pagefaults 0swaps\n",
      "samtools: /home/adrian/anaconda3/bin/../lib/libtinfow.so.6: no version information available (required by samtools)\n",
      "samtools: /home/adrian/anaconda3/bin/../lib/libncursesw.so.6: no version information available (required by samtools)\n",
      "samtools: /home/adrian/anaconda3/bin/../lib/libncursesw.so.6: no version information available (required by samtools)\n"
     ]
    },
    {
     "name": "stdout",
     "output_type": "stream",
     "text": [
      "time samtools fixmate -@ 10 -m /home/adrian/projects/reynisfjara/results/bam_genome/a4776_48h_3/namesort.bam /home/adrian/projects/reynisfjara/results/bam_genome/a4776_48h_3/fixmate.bam\n"
     ]
    },
    {
     "name": "stderr",
     "output_type": "stream",
     "text": [
      "423.35user 9.20system 0:55.59elapsed 778%CPU (0avgtext+0avgdata 13532maxresident)k\n",
      "32inputs+12729376outputs (0major+3034minor)pagefaults 0swaps\n",
      "samtools: /home/adrian/anaconda3/bin/../lib/libtinfow.so.6: no version information available (required by samtools)\n",
      "samtools: /home/adrian/anaconda3/bin/../lib/libncursesw.so.6: no version information available (required by samtools)\n",
      "samtools: /home/adrian/anaconda3/bin/../lib/libncursesw.so.6: no version information available (required by samtools)\n"
     ]
    },
    {
     "name": "stdout",
     "output_type": "stream",
     "text": [
      "time samtools sort -@ 10 -o /home/adrian/projects/reynisfjara/results/bam_genome/a4776_48h_3/positionsort.bam /home/adrian/projects/reynisfjara/results/bam_genome/a4776_48h_3/fixmate.bam\n"
     ]
    },
    {
     "name": "stderr",
     "output_type": "stream",
     "text": [
      "[bam_sort_core] merging from 3 files and 10 in-memory blocks...\n",
      "460.81user 13.09system 1:12.57elapsed 652%CPU (0avgtext+0avgdata 8866624maxresident)k\n",
      "8inputs+13204608outputs (0major+2489322minor)pagefaults 0swaps\n",
      "samtools: /home/adrian/anaconda3/bin/../lib/libtinfow.so.6: no version information available (required by samtools)\n",
      "samtools: /home/adrian/anaconda3/bin/../lib/libncursesw.so.6: no version information available (required by samtools)\n",
      "samtools: /home/adrian/anaconda3/bin/../lib/libncursesw.so.6: no version information available (required by samtools)\n"
     ]
    },
    {
     "name": "stdout",
     "output_type": "stream",
     "text": [
      "time samtools markdup -@ 10 -r /home/adrian/projects/reynisfjara/results/bam_genome/a4776_48h_3/positionsort.bam /home/adrian/projects/reynisfjara/results/bam_genome/a4776_48h_3/markdup.bam\n"
     ]
    },
    {
     "name": "stderr",
     "output_type": "stream",
     "text": [
      "261.37user 5.24system 0:47.90elapsed 556%CPU (0avgtext+0avgdata 345324maxresident)k\n",
      "32inputs+4770368outputs (0major+86149minor)pagefaults 0swaps\n",
      "samtools: /home/adrian/anaconda3/bin/../lib/libtinfow.so.6: no version information available (required by samtools)\n",
      "samtools: /home/adrian/anaconda3/bin/../lib/libncursesw.so.6: no version information available (required by samtools)\n",
      "samtools: /home/adrian/anaconda3/bin/../lib/libncursesw.so.6: no version information available (required by samtools)\n"
     ]
    },
    {
     "name": "stdout",
     "output_type": "stream",
     "text": [
      "time samtools sort -@ 10 -n -o /home/adrian/projects/reynisfjara/results/bam_genome/a4776_72h_1/namesort.bam /home/adrian/projects/reynisfjara/results/bam_genome/a4776_72h_1/a4776_72h_1.bam\n"
     ]
    },
    {
     "name": "stderr",
     "output_type": "stream",
     "text": [
      "[bam_sort_core] merging from 2 files and 10 in-memory blocks...\n",
      "629.07user 15.20system 1:24.42elapsed 763%CPU (0avgtext+0avgdata 8895744maxresident)k\n",
      "11292472inputs+19656088outputs (0major+2462449minor)pagefaults 0swaps\n",
      "samtools: /home/adrian/anaconda3/bin/../lib/libtinfow.so.6: no version information available (required by samtools)\n",
      "samtools: /home/adrian/anaconda3/bin/../lib/libncursesw.so.6: no version information available (required by samtools)\n",
      "samtools: /home/adrian/anaconda3/bin/../lib/libncursesw.so.6: no version information available (required by samtools)\n"
     ]
    },
    {
     "name": "stdout",
     "output_type": "stream",
     "text": [
      "time samtools fixmate -@ 10 -m /home/adrian/projects/reynisfjara/results/bam_genome/a4776_72h_1/namesort.bam /home/adrian/projects/reynisfjara/results/bam_genome/a4776_72h_1/fixmate.bam\n"
     ]
    },
    {
     "name": "stderr",
     "output_type": "stream",
     "text": [
      "378.22user 8.12system 0:43.67elapsed 884%CPU (0avgtext+0avgdata 13384maxresident)k\n",
      "8inputs+11666176outputs (0major+2983minor)pagefaults 0swaps\n",
      "samtools: /home/adrian/anaconda3/bin/../lib/libtinfow.so.6: no version information available (required by samtools)\n",
      "samtools: /home/adrian/anaconda3/bin/../lib/libncursesw.so.6: no version information available (required by samtools)\n",
      "samtools: /home/adrian/anaconda3/bin/../lib/libncursesw.so.6: no version information available (required by samtools)\n"
     ]
    },
    {
     "name": "stdout",
     "output_type": "stream",
     "text": [
      "time samtools sort -@ 10 -o /home/adrian/projects/reynisfjara/results/bam_genome/a4776_72h_1/positionsort.bam /home/adrian/projects/reynisfjara/results/bam_genome/a4776_72h_1/fixmate.bam\n"
     ]
    },
    {
     "name": "stderr",
     "output_type": "stream",
     "text": [
      "[bam_sort_core] merging from 2 files and 10 in-memory blocks...\n",
      "403.69user 11.12system 1:03.29elapsed 655%CPU (0avgtext+0avgdata 8864408maxresident)k\n",
      "80inputs+10100752outputs (0major+2458149minor)pagefaults 0swaps\n",
      "samtools: /home/adrian/anaconda3/bin/../lib/libtinfow.so.6: no version information available (required by samtools)\n",
      "samtools: /home/adrian/anaconda3/bin/../lib/libncursesw.so.6: no version information available (required by samtools)\n",
      "samtools: /home/adrian/anaconda3/bin/../lib/libncursesw.so.6: no version information available (required by samtools)\n"
     ]
    },
    {
     "name": "stdout",
     "output_type": "stream",
     "text": [
      "time samtools markdup -@ 10 -r /home/adrian/projects/reynisfjara/results/bam_genome/a4776_72h_1/positionsort.bam /home/adrian/projects/reynisfjara/results/bam_genome/a4776_72h_1/markdup.bam\n"
     ]
    },
    {
     "name": "stderr",
     "output_type": "stream",
     "text": [
      "231.95user 4.66system 0:41.60elapsed 568%CPU (0avgtext+0avgdata 323856maxresident)k\n",
      "208inputs+4341040outputs (0major+80649minor)pagefaults 0swaps\n",
      "samtools: /home/adrian/anaconda3/bin/../lib/libtinfow.so.6: no version information available (required by samtools)\n",
      "samtools: /home/adrian/anaconda3/bin/../lib/libncursesw.so.6: no version information available (required by samtools)\n",
      "samtools: /home/adrian/anaconda3/bin/../lib/libncursesw.so.6: no version information available (required by samtools)\n"
     ]
    },
    {
     "name": "stdout",
     "output_type": "stream",
     "text": [
      "time samtools sort -@ 10 -n -o /home/adrian/projects/reynisfjara/results/bam_genome/a4776_72h_2/namesort.bam /home/adrian/projects/reynisfjara/results/bam_genome/a4776_72h_2/a4776_72h_2.bam\n"
     ]
    },
    {
     "name": "stderr",
     "output_type": "stream",
     "text": [
      "[bam_sort_core] merging from 3 files and 10 in-memory blocks...\n",
      "758.07user 18.36system 1:44.81elapsed 740%CPU (0avgtext+0avgdata 8897512maxresident)k\n",
      "12827736inputs+25284720outputs (0major+2516869minor)pagefaults 0swaps\n",
      "samtools: /home/adrian/anaconda3/bin/../lib/libtinfow.so.6: no version information available (required by samtools)\n",
      "samtools: /home/adrian/anaconda3/bin/../lib/libncursesw.so.6: no version information available (required by samtools)\n",
      "samtools: /home/adrian/anaconda3/bin/../lib/libncursesw.so.6: no version information available (required by samtools)\n"
     ]
    },
    {
     "name": "stdout",
     "output_type": "stream",
     "text": [
      "time samtools fixmate -@ 10 -m /home/adrian/projects/reynisfjara/results/bam_genome/a4776_72h_2/namesort.bam /home/adrian/projects/reynisfjara/results/bam_genome/a4776_72h_2/fixmate.bam\n"
     ]
    },
    {
     "name": "stderr",
     "output_type": "stream",
     "text": [
      "433.49user 9.19system 0:47.47elapsed 932%CPU (0avgtext+0avgdata 13780maxresident)k\n",
      "240inputs+13244224outputs (0major+3066minor)pagefaults 0swaps\n",
      "samtools: /home/adrian/anaconda3/bin/../lib/libtinfow.so.6: no version information available (required by samtools)\n",
      "samtools: /home/adrian/anaconda3/bin/../lib/libncursesw.so.6: no version information available (required by samtools)\n",
      "samtools: /home/adrian/anaconda3/bin/../lib/libncursesw.so.6: no version information available (required by samtools)\n"
     ]
    },
    {
     "name": "stdout",
     "output_type": "stream",
     "text": [
      "time samtools sort -@ 10 -o /home/adrian/projects/reynisfjara/results/bam_genome/a4776_72h_2/positionsort.bam /home/adrian/projects/reynisfjara/results/bam_genome/a4776_72h_2/fixmate.bam\n"
     ]
    },
    {
     "name": "stderr",
     "output_type": "stream",
     "text": [
      "[bam_sort_core] merging from 3 files and 10 in-memory blocks...\n",
      "482.69user 14.25system 1:16.73elapsed 647%CPU (0avgtext+0avgdata 8866292maxresident)k\n",
      "32inputs+12931032outputs (0major+2512595minor)pagefaults 0swaps\n",
      "samtools: /home/adrian/anaconda3/bin/../lib/libtinfow.so.6: no version information available (required by samtools)\n",
      "samtools: /home/adrian/anaconda3/bin/../lib/libncursesw.so.6: no version information available (required by samtools)\n",
      "samtools: /home/adrian/anaconda3/bin/../lib/libncursesw.so.6: no version information available (required by samtools)\n"
     ]
    },
    {
     "name": "stdout",
     "output_type": "stream",
     "text": [
      "time samtools markdup -@ 10 -r /home/adrian/projects/reynisfjara/results/bam_genome/a4776_72h_2/positionsort.bam /home/adrian/projects/reynisfjara/results/bam_genome/a4776_72h_2/markdup.bam\n"
     ]
    },
    {
     "name": "stderr",
     "output_type": "stream",
     "text": [
      "267.58user 5.69system 0:51.56elapsed 529%CPU (0avgtext+0avgdata 362704maxresident)k\n",
      "0inputs+4897344outputs (0major+90421minor)pagefaults 0swaps\n",
      "samtools: /home/adrian/anaconda3/bin/../lib/libtinfow.so.6: no version information available (required by samtools)\n",
      "samtools: /home/adrian/anaconda3/bin/../lib/libncursesw.so.6: no version information available (required by samtools)\n",
      "samtools: /home/adrian/anaconda3/bin/../lib/libncursesw.so.6: no version information available (required by samtools)\n"
     ]
    },
    {
     "name": "stdout",
     "output_type": "stream",
     "text": [
      "time samtools sort -@ 10 -n -o /home/adrian/projects/reynisfjara/results/bam_genome/a4776_72h_3/namesort.bam /home/adrian/projects/reynisfjara/results/bam_genome/a4776_72h_3/a4776_72h_3.bam\n"
     ]
    },
    {
     "name": "stderr",
     "output_type": "stream",
     "text": [
      "[bam_sort_core] merging from 2 files and 10 in-memory blocks...\n",
      "620.41user 14.87system 1:25.68elapsed 741%CPU (0avgtext+0avgdata 8896540maxresident)k\n",
      "10420224inputs+18938352outputs (0major+2430625minor)pagefaults 0swaps\n",
      "samtools: /home/adrian/anaconda3/bin/../lib/libtinfow.so.6: no version information available (required by samtools)\n",
      "samtools: /home/adrian/anaconda3/bin/../lib/libncursesw.so.6: no version information available (required by samtools)\n",
      "samtools: /home/adrian/anaconda3/bin/../lib/libncursesw.so.6: no version information available (required by samtools)\n"
     ]
    },
    {
     "name": "stdout",
     "output_type": "stream",
     "text": [
      "time samtools fixmate -@ 10 -m /home/adrian/projects/reynisfjara/results/bam_genome/a4776_72h_3/namesort.bam /home/adrian/projects/reynisfjara/results/bam_genome/a4776_72h_3/fixmate.bam\n"
     ]
    },
    {
     "name": "stderr",
     "output_type": "stream",
     "text": [
      "369.64user 7.58system 0:40.10elapsed 940%CPU (0avgtext+0avgdata 13768maxresident)k\n",
      "0inputs+10779480outputs (0major+3020minor)pagefaults 0swaps\n",
      "samtools: /home/adrian/anaconda3/bin/../lib/libtinfow.so.6: no version information available (required by samtools)\n",
      "samtools: /home/adrian/anaconda3/bin/../lib/libncursesw.so.6: no version information available (required by samtools)\n",
      "samtools: /home/adrian/anaconda3/bin/../lib/libncursesw.so.6: no version information available (required by samtools)\n"
     ]
    },
    {
     "name": "stdout",
     "output_type": "stream",
     "text": [
      "time samtools sort -@ 10 -o /home/adrian/projects/reynisfjara/results/bam_genome/a4776_72h_3/positionsort.bam /home/adrian/projects/reynisfjara/results/bam_genome/a4776_72h_3/fixmate.bam\n"
     ]
    },
    {
     "name": "stderr",
     "output_type": "stream",
     "text": [
      "[bam_sort_core] merging from 2 files and 10 in-memory blocks...\n",
      "389.51user 10.17system 0:57.44elapsed 695%CPU (0avgtext+0avgdata 8864908maxresident)k\n",
      "0inputs+10095048outputs (0major+2426409minor)pagefaults 0swaps\n",
      "samtools: /home/adrian/anaconda3/bin/../lib/libtinfow.so.6: no version information available (required by samtools)\n",
      "samtools: /home/adrian/anaconda3/bin/../lib/libncursesw.so.6: no version information available (required by samtools)\n",
      "samtools: /home/adrian/anaconda3/bin/../lib/libncursesw.so.6: no version information available (required by samtools)\n"
     ]
    },
    {
     "name": "stdout",
     "output_type": "stream",
     "text": [
      "time samtools markdup -@ 10 -r /home/adrian/projects/reynisfjara/results/bam_genome/a4776_72h_3/positionsort.bam /home/adrian/projects/reynisfjara/results/bam_genome/a4776_72h_3/markdup.bam\n"
     ]
    },
    {
     "name": "stderr",
     "output_type": "stream",
     "text": [
      "236.13user 4.72system 0:41.46elapsed 580%CPU (0avgtext+0avgdata 291220maxresident)k\n",
      "0inputs+4213976outputs (0major+75821minor)pagefaults 0swaps\n"
     ]
    }
   ],
   "source": [
    "for label in bam_folders:\n",
    "    \n",
    "    bam_folder_path = bam_top_folder + label\n",
    "    \n",
    "    cmd1 = 'time samtools sort -@ 10 -n -o {}/namesort.bam {}/{}.bam'.format(bam_folder_path, bam_folder_path, label)\n",
    "    cmd2 = 'time samtools fixmate -@ 10 -m {}/namesort.bam {}/fixmate.bam'.format(bam_folder_path, bam_folder_path)\n",
    "    cmd3 = 'time samtools sort -@ 10 -o {}/positionsort.bam {}/fixmate.bam'.format(bam_folder_path, bam_folder_path)\n",
    "    cmd4 = 'time samtools markdup -@ 10 -r {}/positionsort.bam {}/markdup.bam'.format(bam_folder_path, bam_folder_path)\n",
    "    \n",
    "    print(cmd1)\n",
    "    os.system(cmd1)\n",
    "    print(cmd2)\n",
    "    os.system(cmd2)\n",
    "    print(cmd3)\n",
    "    os.system(cmd3)\n",
    "    print(cmd4)\n",
    "    os.system(cmd4)"
   ]
  }
 ],
 "metadata": {
  "kernelspec": {
   "display_name": "Python 3 (ipykernel)",
   "language": "python",
   "name": "python3"
  },
  "language_info": {
   "codemirror_mode": {
    "name": "ipython",
    "version": 3
   },
   "file_extension": ".py",
   "mimetype": "text/x-python",
   "name": "python",
   "nbconvert_exporter": "python",
   "pygments_lexer": "ipython3",
   "version": "3.9.16"
  }
 },
 "nbformat": 4,
 "nbformat_minor": 5
}
