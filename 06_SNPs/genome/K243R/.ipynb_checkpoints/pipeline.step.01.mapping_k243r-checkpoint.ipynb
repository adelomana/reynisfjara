{
 "cells": [
  {
   "cell_type": "markdown",
   "id": "36844b5e",
   "metadata": {},
   "source": [
    "This pipeline step maps clean reads into BAM files using bwa."
   ]
  },
  {
   "cell_type": "code",
   "execution_count": 1,
   "id": "6993cc85",
   "metadata": {},
   "outputs": [],
   "source": [
    "import os"
   ]
  },
  {
   "cell_type": "markdown",
   "id": "b1f34794",
   "metadata": {},
   "source": [
    "# user-defined variables"
   ]
  },
  {
   "cell_type": "code",
   "execution_count": 2,
   "id": "6da9feec",
   "metadata": {},
   "outputs": [],
   "source": [
    "genome_fasta_file = '/home/adrian/databases/ensembl/mouse_genome_k243r/Mus_musculus.GRCm39.dna.toplevel.fa'\n",
    "clean_fastq_top_folder = '/home/adrian/projects/reynisfjara/data/clean_fastq/'\n",
    "bam_top_folder = '/home/adrian/projects/reynisfjara/results/bam_genome_k243r/'"
   ]
  },
  {
   "cell_type": "code",
   "execution_count": 3,
   "id": "f6a2fc17",
   "metadata": {},
   "outputs": [],
   "source": [
    "threads = 10"
   ]
  },
  {
   "cell_type": "markdown",
   "id": "09b93484",
   "metadata": {},
   "source": [
    "# locate clean FASTQ folders"
   ]
  },
  {
   "cell_type": "code",
   "execution_count": 4,
   "id": "fb152585",
   "metadata": {},
   "outputs": [],
   "source": [
    "fastq_folders = os.listdir(clean_fastq_top_folder)\n",
    "fastq_folders.sort()"
   ]
  },
  {
   "cell_type": "code",
   "execution_count": 5,
   "id": "4ede6540",
   "metadata": {
    "scrolled": true
   },
   "outputs": [
    {
     "name": "stdout",
     "output_type": "stream",
     "text": [
      "['a3922_0h_1', 'a3922_0h_2', 'a3922_0h_3', 'a3922_48h_1', 'a3922_48h_2', 'a3922_48h_3', 'a3922_72h_1', 'a3922_72h_2', 'a3922_72h_3', 'a4774_0h_1', 'a4774_0h_2', 'a4774_0h_3', 'a4774_48h_1', 'a4774_48h_2', 'a4774_48h_3', 'a4774_72h_1', 'a4774_72h_2', 'a4775_0h_1', 'a4775_0h_2', 'a4775_0h_3', 'a4775_48h_1', 'a4775_48h_2', 'a4775_48h_3', 'a4775_72h_1', 'a4775_72h_2', 'a4775_72h_3', 'a4776_0h_1', 'a4776_0h_2', 'a4776_0h_3', 'a4776_48h_1', 'a4776_48h_2', 'a4776_48h_3', 'a4776_72h_1', 'a4776_72h_2', 'a4776_72h_3']\n"
     ]
    }
   ],
   "source": [
    "print(fastq_folders)"
   ]
  },
  {
   "cell_type": "markdown",
   "id": "18657299",
   "metadata": {},
   "source": [
    "# generate bam file"
   ]
  },
  {
   "cell_type": "code",
   "execution_count": 7,
   "id": "b24d4421",
   "metadata": {
    "scrolled": true
   },
   "outputs": [
    {
     "name": "stdout",
     "output_type": "stream",
     "text": [
      "! time bwa mem -M -t 10 /home/adrian/databases/ensembl/mouse_genome/Mus_musculus.GRCm39.dna.toplevel.fa /home/adrian/projects/reynisfjara/data/clean_fastq/a3922_0h_2/a3922_0h_2_R1_clean.fastq.gz /home/adrian/projects/reynisfjara/data/clean_fastq/a3922_0h_2/a3922_0h_2_R2_clean.fastq.gz | samtools view -S -b --verbosity 0 -@ 10 > /home/adrian/projects/reynisfjara/results/bam_genome//all.bam\n",
      "\n"
     ]
    }
   ],
   "source": [
    "for fastq_folder in fastq_folders:\n",
    "\n",
    "    bam_folder = bam_top_folder + fastq_folder\n",
    "    \n",
    "    if os.path.exists(bam_folder) == False:\n",
    "        os.mkdir(bam_folder)\n",
    "    \n",
    "    fastq_files = os.listdir(clean_fastq_top_folder + fastq_folder)\n",
    "    fastq_files.sort()\n",
    "    \n",
    "    read1 = clean_fastq_top_folder + fastq_folder + '/' + fastq_files[0]\n",
    "    read2 = clean_fastq_top_folder + fastq_folder + '/' + fastq_files[1]\n",
    "    \n",
    "    bamfile = bam_folder + '/' +fastq_folder + '.bam'\n",
    "    \n",
    "    command = '! time bwa mem -M -t {} {} {} {} | samtools view -S -b --verbosity 0 -@ {} > {}'.format(threads, genome_fasta_file, read1, read2, threads, bamfile)\n",
    "    \n",
    "    print(command)\n",
    "    print()\n",
    "    \n",
    "    os.system(command)"
   ]
  },
  {
   "cell_type": "code",
   "execution_count": null,
   "id": "36185eb7-17bf-4165-9166-70c66d08818f",
   "metadata": {},
   "outputs": [],
   "source": []
  }
 ],
 "metadata": {
  "kernelspec": {
   "display_name": "Python 3 (ipykernel)",
   "language": "python",
   "name": "python3"
  },
  "language_info": {
   "codemirror_mode": {
    "name": "ipython",
    "version": 3
   },
   "file_extension": ".py",
   "mimetype": "text/x-python",
   "name": "python",
   "nbconvert_exporter": "python",
   "pygments_lexer": "ipython3",
   "version": "3.9.16"
  }
 },
 "nbformat": 4,
 "nbformat_minor": 5
}
