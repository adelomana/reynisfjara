{
 "cells": [
  {
   "cell_type": "markdown",
   "id": "5af3b340",
   "metadata": {},
   "source": [
    "This pipeline sorts and removes duplicates of BAM files."
   ]
  },
  {
   "cell_type": "code",
   "execution_count": 1,
   "id": "01981558",
   "metadata": {},
   "outputs": [],
   "source": [
    "import os"
   ]
  },
  {
   "cell_type": "markdown",
   "id": "304d3d74",
   "metadata": {},
   "source": [
    "# user-defined variables"
   ]
  },
  {
   "cell_type": "code",
   "execution_count": 2,
   "id": "9a76c6b8",
   "metadata": {},
   "outputs": [],
   "source": [
    "bam_top_folder = '/home/adrian/projects/reynisfjara/results/bam_genome_k243r/'"
   ]
  },
  {
   "cell_type": "markdown",
   "id": "41f4280a",
   "metadata": {},
   "source": [
    "# sort and mark duplicates on individual BAM files"
   ]
  },
  {
   "cell_type": "code",
   "execution_count": 3,
   "id": "15e63501",
   "metadata": {},
   "outputs": [],
   "source": [
    "bam_folders = os.listdir(bam_top_folder)\n",
    "bam_folders.sort()"
   ]
  },
  {
   "cell_type": "code",
   "execution_count": null,
   "id": "947c9fd1-538b-44c6-a91f-56dd52006266",
   "metadata": {},
   "outputs": [
    {
     "name": "stdout",
     "output_type": "stream",
     "text": [
      "time samtools sort -@ 20 -n -o /home/adrian/projects/reynisfjara/results/bam_genome_k243r/a3922_0h_1/namesort.bam /home/adrian/projects/reynisfjara/results/bam_genome_k243r/a3922_0h_1/a3922_0h_1.bam\n"
     ]
    },
    {
     "name": "stderr",
     "output_type": "stream",
     "text": [
      "samtools: /home/adrian/anaconda3/bin/../lib/libtinfow.so.6: no version information available (required by samtools)\n",
      "samtools: /home/adrian/anaconda3/bin/../lib/libncursesw.so.6: no version information available (required by samtools)\n",
      "samtools: /home/adrian/anaconda3/bin/../lib/libncursesw.so.6: no version information available (required by samtools)\n",
      "[bam_sort_core] merging from 1 files and 20 in-memory blocks...\n",
      "885.96user 19.41system 1:06.69elapsed 1357%CPU (0avgtext+0avgdata 17772008maxresident)k\n",
      "11998864inputs+20331016outputs (7major+4579517minor)pagefaults 0swaps\n",
      "samtools: /home/adrian/anaconda3/bin/../lib/libtinfow.so.6: no version information available (required by samtools)\n",
      "samtools: /home/adrian/anaconda3/bin/../lib/libncursesw.so.6: no version information available (required by samtools)\n",
      "samtools: /home/adrian/anaconda3/bin/../lib/libncursesw.so.6: no version information available (required by samtools)\n"
     ]
    },
    {
     "name": "stdout",
     "output_type": "stream",
     "text": [
      "time samtools fixmate -@ 20 -m /home/adrian/projects/reynisfjara/results/bam_genome_k243r/a3922_0h_1/namesort.bam /home/adrian/projects/reynisfjara/results/bam_genome_k243r/a3922_0h_1/fixmate.bam\n"
     ]
    },
    {
     "name": "stderr",
     "output_type": "stream",
     "text": [
      "517.06user 10.39system 0:38.07elapsed 1385%CPU (0avgtext+0avgdata 22324maxresident)k\n",
      "0inputs+12380096outputs (0major+5597minor)pagefaults 0swaps\n",
      "samtools: /home/adrian/anaconda3/bin/../lib/libtinfow.so.6: no version information available (required by samtools)\n",
      "samtools: /home/adrian/anaconda3/bin/../lib/libncursesw.so.6: no version information available (required by samtools)\n",
      "samtools: /home/adrian/anaconda3/bin/../lib/libncursesw.so.6: no version information available (required by samtools)\n"
     ]
    },
    {
     "name": "stdout",
     "output_type": "stream",
     "text": [
      "time samtools sort -@ 20 -o /home/adrian/projects/reynisfjara/results/bam_genome_k243r/a3922_0h_1/positionsort.bam /home/adrian/projects/reynisfjara/results/bam_genome_k243r/a3922_0h_1/fixmate.bam\n"
     ]
    },
    {
     "name": "stderr",
     "output_type": "stream",
     "text": [
      "[bam_sort_core] merging from 1 files and 20 in-memory blocks...\n",
      "543.34user 14.10system 0:49.72elapsed 1121%CPU (0avgtext+0avgdata 17714620maxresident)k\n",
      "0inputs+9854440outputs (0major+4571386minor)pagefaults 0swaps\n",
      "samtools: /home/adrian/anaconda3/bin/../lib/libtinfow.so.6: no version information available (required by samtools)\n",
      "samtools: /home/adrian/anaconda3/bin/../lib/libncursesw.so.6: no version information available (required by samtools)\n",
      "samtools: /home/adrian/anaconda3/bin/../lib/libncursesw.so.6: no version information available (required by samtools)\n"
     ]
    },
    {
     "name": "stdout",
     "output_type": "stream",
     "text": [
      "time samtools markdup -@ 20 -r /home/adrian/projects/reynisfjara/results/bam_genome_k243r/a3922_0h_1/positionsort.bam /home/adrian/projects/reynisfjara/results/bam_genome_k243r/a3922_0h_1/markdup.bam\n"
     ]
    },
    {
     "name": "stderr",
     "output_type": "stream",
     "text": [
      "230.24user 4.44system 0:44.86elapsed 523%CPU (0avgtext+0avgdata 257080maxresident)k\n",
      "0inputs+4214392outputs (0major+75932minor)pagefaults 0swaps\n",
      "samtools: /home/adrian/anaconda3/bin/../lib/libtinfow.so.6: no version information available (required by samtools)\n",
      "samtools: /home/adrian/anaconda3/bin/../lib/libncursesw.so.6: no version information available (required by samtools)\n",
      "samtools: /home/adrian/anaconda3/bin/../lib/libncursesw.so.6: no version information available (required by samtools)\n"
     ]
    },
    {
     "name": "stdout",
     "output_type": "stream",
     "text": [
      "time samtools sort -@ 20 -n -o /home/adrian/projects/reynisfjara/results/bam_genome_k243r/a3922_0h_2/namesort.bam /home/adrian/projects/reynisfjara/results/bam_genome_k243r/a3922_0h_2/a3922_0h_2.bam\n"
     ]
    },
    {
     "name": "stderr",
     "output_type": "stream",
     "text": [
      "[bam_sort_core] merging from 1 files and 20 in-memory blocks...\n",
      "945.98user 20.41system 1:14.49elapsed 1297%CPU (0avgtext+0avgdata 17779820maxresident)k\n",
      "12833392inputs+21171296outputs (0major+4607532minor)pagefaults 0swaps\n",
      "samtools: /home/adrian/anaconda3/bin/../lib/libtinfow.so.6: no version information available (required by samtools)\n",
      "samtools: /home/adrian/anaconda3/bin/../lib/libncursesw.so.6: no version information available (required by samtools)\n",
      "samtools: /home/adrian/anaconda3/bin/../lib/libncursesw.so.6: no version information available (required by samtools)\n"
     ]
    },
    {
     "name": "stdout",
     "output_type": "stream",
     "text": [
      "time samtools fixmate -@ 20 -m /home/adrian/projects/reynisfjara/results/bam_genome_k243r/a3922_0h_2/namesort.bam /home/adrian/projects/reynisfjara/results/bam_genome_k243r/a3922_0h_2/fixmate.bam\n"
     ]
    },
    {
     "name": "stderr",
     "output_type": "stream",
     "text": [
      "539.80user 11.14system 0:41.58elapsed 1325%CPU (0avgtext+0avgdata 22364maxresident)k\n",
      "1424inputs+13239048outputs (10major+5592minor)pagefaults 0swaps\n",
      "samtools: /home/adrian/anaconda3/bin/../lib/libtinfow.so.6: no version information available (required by samtools)\n",
      "samtools: /home/adrian/anaconda3/bin/../lib/libncursesw.so.6: no version information available (required by samtools)\n",
      "samtools: /home/adrian/anaconda3/bin/../lib/libncursesw.so.6: no version information available (required by samtools)\n"
     ]
    },
    {
     "name": "stdout",
     "output_type": "stream",
     "text": [
      "time samtools sort -@ 20 -o /home/adrian/projects/reynisfjara/results/bam_genome_k243r/a3922_0h_2/positionsort.bam /home/adrian/projects/reynisfjara/results/bam_genome_k243r/a3922_0h_2/fixmate.bam\n"
     ]
    },
    {
     "name": "stderr",
     "output_type": "stream",
     "text": [
      "[bam_sort_core] merging from 1 files and 20 in-memory blocks...\n",
      "568.19user 16.21system 0:52.24elapsed 1118%CPU (0avgtext+0avgdata 17717908maxresident)k\n",
      "16inputs+10303096outputs (1major+4599423minor)pagefaults 0swaps\n",
      "samtools: /home/adrian/anaconda3/bin/../lib/libtinfow.so.6: no version information available (required by samtools)\n",
      "samtools: /home/adrian/anaconda3/bin/../lib/libncursesw.so.6: no version information available (required by samtools)\n",
      "samtools: /home/adrian/anaconda3/bin/../lib/libncursesw.so.6: no version information available (required by samtools)\n"
     ]
    },
    {
     "name": "stdout",
     "output_type": "stream",
     "text": [
      "time samtools markdup -@ 20 -r /home/adrian/projects/reynisfjara/results/bam_genome_k243r/a3922_0h_2/positionsort.bam /home/adrian/projects/reynisfjara/results/bam_genome_k243r/a3922_0h_2/markdup.bam\n"
     ]
    },
    {
     "name": "stderr",
     "output_type": "stream",
     "text": [
      "249.09user 4.90system 0:47.83elapsed 530%CPU (0avgtext+0avgdata 276728maxresident)k\n",
      "344inputs+4636320outputs (1major+75310minor)pagefaults 0swaps\n",
      "samtools: /home/adrian/anaconda3/bin/../lib/libtinfow.so.6: no version information available (required by samtools)\n",
      "samtools: /home/adrian/anaconda3/bin/../lib/libncursesw.so.6: no version information available (required by samtools)\n",
      "samtools: /home/adrian/anaconda3/bin/../lib/libncursesw.so.6: no version information available (required by samtools)\n"
     ]
    },
    {
     "name": "stdout",
     "output_type": "stream",
     "text": [
      "time samtools sort -@ 20 -n -o /home/adrian/projects/reynisfjara/results/bam_genome_k243r/a3922_0h_3/namesort.bam /home/adrian/projects/reynisfjara/results/bam_genome_k243r/a3922_0h_3/a3922_0h_3.bam\n"
     ]
    },
    {
     "name": "stderr",
     "output_type": "stream",
     "text": [
      "[bam_sort_core] merging from 2 files and 20 in-memory blocks...\n",
      "1327.30user 29.98system 1:40.93elapsed 1344%CPU (0avgtext+0avgdata 17782680maxresident)k\n",
      "16400176inputs+33218296outputs (0major+4722270minor)pagefaults 0swaps\n",
      "samtools: /home/adrian/anaconda3/bin/../lib/libtinfow.so.6: no version information available (required by samtools)\n",
      "samtools: /home/adrian/anaconda3/bin/../lib/libncursesw.so.6: no version information available (required by samtools)\n",
      "samtools: /home/adrian/anaconda3/bin/../lib/libncursesw.so.6: no version information available (required by samtools)\n"
     ]
    },
    {
     "name": "stdout",
     "output_type": "stream",
     "text": [
      "time samtools fixmate -@ 20 -m /home/adrian/projects/reynisfjara/results/bam_genome_k243r/a3922_0h_3/namesort.bam /home/adrian/projects/reynisfjara/results/bam_genome_k243r/a3922_0h_3/fixmate.bam\n"
     ]
    },
    {
     "name": "stderr",
     "output_type": "stream",
     "text": [
      "706.25user 14.28system 0:50.09elapsed 1438%CPU (0avgtext+0avgdata 23304maxresident)k\n",
      "8inputs+16945024outputs (1major+5594minor)pagefaults 0swaps\n",
      "samtools: /home/adrian/anaconda3/bin/../lib/libtinfow.so.6: no version information available (required by samtools)\n",
      "samtools: /home/adrian/anaconda3/bin/../lib/libncursesw.so.6: no version information available (required by samtools)\n",
      "samtools: /home/adrian/anaconda3/bin/../lib/libncursesw.so.6: no version information available (required by samtools)\n"
     ]
    },
    {
     "name": "stdout",
     "output_type": "stream",
     "text": [
      "time samtools sort -@ 20 -o /home/adrian/projects/reynisfjara/results/bam_genome_k243r/a3922_0h_3/positionsort.bam /home/adrian/projects/reynisfjara/results/bam_genome_k243r/a3922_0h_3/fixmate.bam\n"
     ]
    },
    {
     "name": "stderr",
     "output_type": "stream",
     "text": [
      "[bam_sort_core] merging from 2 files and 20 in-memory blocks...\n",
      "798.25user 22.99system 1:14.08elapsed 1108%CPU (0avgtext+0avgdata 17720624maxresident)k\n",
      "0inputs+16244800outputs (0major+4714646minor)pagefaults 0swaps\n",
      "samtools: /home/adrian/anaconda3/bin/../lib/libtinfow.so.6: no version information available (required by samtools)\n",
      "samtools: /home/adrian/anaconda3/bin/../lib/libncursesw.so.6: no version information available (required by samtools)\n",
      "samtools: /home/adrian/anaconda3/bin/../lib/libncursesw.so.6: no version information available (required by samtools)\n"
     ]
    },
    {
     "name": "stdout",
     "output_type": "stream",
     "text": [
      "time samtools markdup -@ 20 -r /home/adrian/projects/reynisfjara/results/bam_genome_k243r/a3922_0h_3/positionsort.bam /home/adrian/projects/reynisfjara/results/bam_genome_k243r/a3922_0h_3/markdup.bam\n"
     ]
    },
    {
     "name": "stderr",
     "output_type": "stream",
     "text": [
      "313.44user 6.36system 1:05.09elapsed 491%CPU (0avgtext+0avgdata 337172maxresident)k\n",
      "0inputs+5535048outputs (0major+90891minor)pagefaults 0swaps\n",
      "samtools: /home/adrian/anaconda3/bin/../lib/libtinfow.so.6: no version information available (required by samtools)\n",
      "samtools: /home/adrian/anaconda3/bin/../lib/libncursesw.so.6: no version information available (required by samtools)\n",
      "samtools: /home/adrian/anaconda3/bin/../lib/libncursesw.so.6: no version information available (required by samtools)\n"
     ]
    },
    {
     "name": "stdout",
     "output_type": "stream",
     "text": [
      "time samtools sort -@ 20 -n -o /home/adrian/projects/reynisfjara/results/bam_genome_k243r/a3922_48h_1/namesort.bam /home/adrian/projects/reynisfjara/results/bam_genome_k243r/a3922_48h_1/a3922_48h_1.bam\n"
     ]
    },
    {
     "name": "stderr",
     "output_type": "stream",
     "text": [
      "[bam_sort_core] merging from 1 files and 20 in-memory blocks...\n",
      "990.78user 21.07system 1:12.73elapsed 1391%CPU (0avgtext+0avgdata 17777348maxresident)k\n",
      "13290592inputs+21726296outputs (0major+4616762minor)pagefaults 0swaps\n",
      "samtools: /home/adrian/anaconda3/bin/../lib/libtinfow.so.6: no version information available (required by samtools)\n",
      "samtools: /home/adrian/anaconda3/bin/../lib/libncursesw.so.6: no version information available (required by samtools)\n",
      "samtools: /home/adrian/anaconda3/bin/../lib/libncursesw.so.6: no version information available (required by samtools)\n"
     ]
    },
    {
     "name": "stdout",
     "output_type": "stream",
     "text": [
      "time samtools fixmate -@ 20 -m /home/adrian/projects/reynisfjara/results/bam_genome_k243r/a3922_48h_1/namesort.bam /home/adrian/projects/reynisfjara/results/bam_genome_k243r/a3922_48h_1/fixmate.bam\n"
     ]
    },
    {
     "name": "stderr",
     "output_type": "stream",
     "text": [
      "573.97user 11.92system 0:39.80elapsed 1471%CPU (0avgtext+0avgdata 22816maxresident)k\n",
      "0inputs+13723976outputs (0major+5601minor)pagefaults 0swaps\n",
      "samtools: /home/adrian/anaconda3/bin/../lib/libtinfow.so.6: no version information available (required by samtools)\n",
      "samtools: /home/adrian/anaconda3/bin/../lib/libncursesw.so.6: no version information available (required by samtools)\n",
      "samtools: /home/adrian/anaconda3/bin/../lib/libncursesw.so.6: no version information available (required by samtools)\n"
     ]
    },
    {
     "name": "stdout",
     "output_type": "stream",
     "text": [
      "time samtools sort -@ 20 -o /home/adrian/projects/reynisfjara/results/bam_genome_k243r/a3922_48h_1/positionsort.bam /home/adrian/projects/reynisfjara/results/bam_genome_k243r/a3922_48h_1/fixmate.bam\n"
     ]
    },
    {
     "name": "stderr",
     "output_type": "stream",
     "text": [
      "[bam_sort_core] merging from 1 files and 20 in-memory blocks...\n",
      "600.83user 17.85system 0:53.31elapsed 1160%CPU (0avgtext+0avgdata 17715268maxresident)k\n",
      "0inputs+10607336outputs (0major+4608567minor)pagefaults 0swaps\n",
      "samtools: /home/adrian/anaconda3/bin/../lib/libtinfow.so.6: no version information available (required by samtools)\n",
      "samtools: /home/adrian/anaconda3/bin/../lib/libncursesw.so.6: no version information available (required by samtools)\n",
      "samtools: /home/adrian/anaconda3/bin/../lib/libncursesw.so.6: no version information available (required by samtools)\n"
     ]
    },
    {
     "name": "stdout",
     "output_type": "stream",
     "text": [
      "time samtools markdup -@ 20 -r /home/adrian/projects/reynisfjara/results/bam_genome_k243r/a3922_48h_1/positionsort.bam /home/adrian/projects/reynisfjara/results/bam_genome_k243r/a3922_48h_1/markdup.bam\n"
     ]
    },
    {
     "name": "stderr",
     "output_type": "stream",
     "text": [
      "260.87user 5.00system 0:48.64elapsed 546%CPU (0avgtext+0avgdata 238764maxresident)k\n",
      "0inputs+4753728outputs (0major+62036minor)pagefaults 0swaps\n",
      "samtools: /home/adrian/anaconda3/bin/../lib/libtinfow.so.6: no version information available (required by samtools)\n",
      "samtools: /home/adrian/anaconda3/bin/../lib/libncursesw.so.6: no version information available (required by samtools)\n",
      "samtools: /home/adrian/anaconda3/bin/../lib/libncursesw.so.6: no version information available (required by samtools)\n"
     ]
    },
    {
     "name": "stdout",
     "output_type": "stream",
     "text": [
      "time samtools sort -@ 20 -n -o /home/adrian/projects/reynisfjara/results/bam_genome_k243r/a3922_48h_2/namesort.bam /home/adrian/projects/reynisfjara/results/bam_genome_k243r/a3922_48h_2/a3922_48h_2.bam\n"
     ]
    },
    {
     "name": "stderr",
     "output_type": "stream",
     "text": [
      "[bam_sort_core] merging from 1 files and 20 in-memory blocks...\n",
      "803.90user 18.24system 1:01.01elapsed 1347%CPU (0avgtext+0avgdata 17771992maxresident)k\n",
      "10613624inputs+18937544outputs (0major+4536030minor)pagefaults 0swaps\n",
      "samtools: /home/adrian/anaconda3/bin/../lib/libtinfow.so.6: no version information available (required by samtools)\n",
      "samtools: /home/adrian/anaconda3/bin/../lib/libncursesw.so.6: no version information available (required by samtools)\n",
      "samtools: /home/adrian/anaconda3/bin/../lib/libncursesw.so.6: no version information available (required by samtools)\n"
     ]
    },
    {
     "name": "stdout",
     "output_type": "stream",
     "text": [
      "time samtools fixmate -@ 20 -m /home/adrian/projects/reynisfjara/results/bam_genome_k243r/a3922_48h_2/namesort.bam /home/adrian/projects/reynisfjara/results/bam_genome_k243r/a3922_48h_2/fixmate.bam\n"
     ]
    },
    {
     "name": "stderr",
     "output_type": "stream",
     "text": [
      "444.79user 9.22system 0:33.43elapsed 1358%CPU (0avgtext+0avgdata 22604maxresident)k\n",
      "16inputs+10951464outputs (1major+5598minor)pagefaults 0swaps\n",
      "samtools: /home/adrian/anaconda3/bin/../lib/libtinfow.so.6: no version information available (required by samtools)\n",
      "samtools: /home/adrian/anaconda3/bin/../lib/libncursesw.so.6: no version information available (required by samtools)\n",
      "samtools: /home/adrian/anaconda3/bin/../lib/libncursesw.so.6: no version information available (required by samtools)\n"
     ]
    },
    {
     "name": "stdout",
     "output_type": "stream",
     "text": [
      "time samtools sort -@ 20 -o /home/adrian/projects/reynisfjara/results/bam_genome_k243r/a3922_48h_2/positionsort.bam /home/adrian/projects/reynisfjara/results/bam_genome_k243r/a3922_48h_2/fixmate.bam\n"
     ]
    },
    {
     "name": "stderr",
     "output_type": "stream",
     "text": [
      "[bam_sort_core] merging from 1 files and 20 in-memory blocks...\n",
      "488.25user 14.90system 0:46.62elapsed 1079%CPU (0avgtext+0avgdata 17714960maxresident)k\n",
      "0inputs+9218704outputs (0major+4527907minor)pagefaults 0swaps\n",
      "samtools: /home/adrian/anaconda3/bin/../lib/libtinfow.so.6: no version information available (required by samtools)\n",
      "samtools: /home/adrian/anaconda3/bin/../lib/libncursesw.so.6: no version information available (required by samtools)\n",
      "samtools: /home/adrian/anaconda3/bin/../lib/libncursesw.so.6: no version information available (required by samtools)\n"
     ]
    },
    {
     "name": "stdout",
     "output_type": "stream",
     "text": [
      "time samtools markdup -@ 20 -r /home/adrian/projects/reynisfjara/results/bam_genome_k243r/a3922_48h_2/positionsort.bam /home/adrian/projects/reynisfjara/results/bam_genome_k243r/a3922_48h_2/markdup.bam\n"
     ]
    },
    {
     "name": "stderr",
     "output_type": "stream",
     "text": [
      "211.45user 4.22system 0:39.00elapsed 552%CPU (0avgtext+0avgdata 185480maxresident)k\n",
      "0inputs+3915520outputs (0major+49041minor)pagefaults 0swaps\n",
      "samtools: /home/adrian/anaconda3/bin/../lib/libtinfow.so.6: no version information available (required by samtools)\n",
      "samtools: /home/adrian/anaconda3/bin/../lib/libncursesw.so.6: no version information available (required by samtools)\n",
      "samtools: /home/adrian/anaconda3/bin/../lib/libncursesw.so.6: no version information available (required by samtools)\n"
     ]
    },
    {
     "name": "stdout",
     "output_type": "stream",
     "text": [
      "time samtools sort -@ 20 -n -o /home/adrian/projects/reynisfjara/results/bam_genome_k243r/a3922_48h_3/namesort.bam /home/adrian/projects/reynisfjara/results/bam_genome_k243r/a3922_48h_3/a3922_48h_3.bam\n"
     ]
    },
    {
     "name": "stderr",
     "output_type": "stream",
     "text": [
      "[bam_sort_core] merging from 1 files and 20 in-memory blocks...\n",
      "871.14user 19.46system 1:04.84elapsed 1373%CPU (0avgtext+0avgdata 17779192maxresident)k\n",
      "11596856inputs+19954912outputs (0major+4567478minor)pagefaults 0swaps\n",
      "samtools: /home/adrian/anaconda3/bin/../lib/libtinfow.so.6: no version information available (required by samtools)\n",
      "samtools: /home/adrian/anaconda3/bin/../lib/libncursesw.so.6: no version information available (required by samtools)\n",
      "samtools: /home/adrian/anaconda3/bin/../lib/libncursesw.so.6: no version information available (required by samtools)\n"
     ]
    },
    {
     "name": "stdout",
     "output_type": "stream",
     "text": [
      "time samtools fixmate -@ 20 -m /home/adrian/projects/reynisfjara/results/bam_genome_k243r/a3922_48h_3/namesort.bam /home/adrian/projects/reynisfjara/results/bam_genome_k243r/a3922_48h_3/fixmate.bam\n"
     ]
    },
    {
     "name": "stderr",
     "output_type": "stream",
     "text": [
      "494.72user 10.12system 0:35.10elapsed 1438%CPU (0avgtext+0avgdata 22280maxresident)k\n",
      "0inputs+11968240outputs (0major+5600minor)pagefaults 0swaps\n",
      "samtools: /home/adrian/anaconda3/bin/../lib/libtinfow.so.6: no version information available (required by samtools)\n",
      "samtools: /home/adrian/anaconda3/bin/../lib/libncursesw.so.6: no version information available (required by samtools)\n",
      "samtools: /home/adrian/anaconda3/bin/../lib/libncursesw.so.6: no version information available (required by samtools)\n"
     ]
    },
    {
     "name": "stdout",
     "output_type": "stream",
     "text": [
      "time samtools sort -@ 20 -o /home/adrian/projects/reynisfjara/results/bam_genome_k243r/a3922_48h_3/positionsort.bam /home/adrian/projects/reynisfjara/results/bam_genome_k243r/a3922_48h_3/fixmate.bam\n"
     ]
    },
    {
     "name": "stderr",
     "output_type": "stream",
     "text": [
      "[bam_sort_core] merging from 1 files and 20 in-memory blocks...\n",
      "532.57user 15.68system 0:50.56elapsed 1084%CPU (0avgtext+0avgdata 17716384maxresident)k\n",
      "0inputs+9877192outputs (0major+4559325minor)pagefaults 0swaps\n",
      "samtools: /home/adrian/anaconda3/bin/../lib/libtinfow.so.6: no version information available (required by samtools)\n",
      "samtools: /home/adrian/anaconda3/bin/../lib/libncursesw.so.6: no version information available (required by samtools)\n",
      "samtools: /home/adrian/anaconda3/bin/../lib/libncursesw.so.6: no version information available (required by samtools)\n"
     ]
    },
    {
     "name": "stdout",
     "output_type": "stream",
     "text": [
      "time samtools markdup -@ 20 -r /home/adrian/projects/reynisfjara/results/bam_genome_k243r/a3922_48h_3/positionsort.bam /home/adrian/projects/reynisfjara/results/bam_genome_k243r/a3922_48h_3/markdup.bam\n"
     ]
    },
    {
     "name": "stderr",
     "output_type": "stream",
     "text": [
      "239.67user 4.56system 0:42.08elapsed 580%CPU (0avgtext+0avgdata 204464maxresident)k\n",
      "0inputs+4386104outputs (0major+51068minor)pagefaults 0swaps\n",
      "samtools: /home/adrian/anaconda3/bin/../lib/libtinfow.so.6: no version information available (required by samtools)\n",
      "samtools: /home/adrian/anaconda3/bin/../lib/libncursesw.so.6: no version information available (required by samtools)\n",
      "samtools: /home/adrian/anaconda3/bin/../lib/libncursesw.so.6: no version information available (required by samtools)\n"
     ]
    },
    {
     "name": "stdout",
     "output_type": "stream",
     "text": [
      "time samtools sort -@ 20 -n -o /home/adrian/projects/reynisfjara/results/bam_genome_k243r/a3922_72h_1/namesort.bam /home/adrian/projects/reynisfjara/results/bam_genome_k243r/a3922_72h_1/a3922_72h_1.bam\n"
     ]
    },
    {
     "name": "stderr",
     "output_type": "stream",
     "text": [
      "[bam_sort_core] merging from 1 files and 20 in-memory blocks...\n",
      "1004.34user 20.84system 1:12.35elapsed 1416%CPU (0avgtext+0avgdata 17779696maxresident)k\n",
      "13464672inputs+21888904outputs (0major+4623143minor)pagefaults 0swaps\n",
      "samtools: /home/adrian/anaconda3/bin/../lib/libtinfow.so.6: no version information available (required by samtools)\n",
      "samtools: /home/adrian/anaconda3/bin/../lib/libncursesw.so.6: no version information available (required by samtools)\n",
      "samtools: /home/adrian/anaconda3/bin/../lib/libncursesw.so.6: no version information available (required by samtools)\n"
     ]
    },
    {
     "name": "stdout",
     "output_type": "stream",
     "text": [
      "time samtools fixmate -@ 20 -m /home/adrian/projects/reynisfjara/results/bam_genome_k243r/a3922_72h_1/namesort.bam /home/adrian/projects/reynisfjara/results/bam_genome_k243r/a3922_72h_1/fixmate.bam\n"
     ]
    },
    {
     "name": "stderr",
     "output_type": "stream",
     "text": [
      "578.53user 11.55system 0:42.38elapsed 1392%CPU (0avgtext+0avgdata 22812maxresident)k\n",
      "0inputs+13912840outputs (0major+5705minor)pagefaults 0swaps\n",
      "samtools: /home/adrian/anaconda3/bin/../lib/libtinfow.so.6: no version information available (required by samtools)\n",
      "samtools: /home/adrian/anaconda3/bin/../lib/libncursesw.so.6: no version information available (required by samtools)\n",
      "samtools: /home/adrian/anaconda3/bin/../lib/libncursesw.so.6: no version information available (required by samtools)\n"
     ]
    },
    {
     "name": "stdout",
     "output_type": "stream",
     "text": [
      "time samtools sort -@ 20 -o /home/adrian/projects/reynisfjara/results/bam_genome_k243r/a3922_72h_1/positionsort.bam /home/adrian/projects/reynisfjara/results/bam_genome_k243r/a3922_72h_1/fixmate.bam\n"
     ]
    },
    {
     "name": "stderr",
     "output_type": "stream",
     "text": [
      "[bam_sort_core] merging from 1 files and 20 in-memory blocks...\n",
      "616.38user 17.20system 0:54.92elapsed 1153%CPU (0avgtext+0avgdata 17716572maxresident)k\n",
      "0inputs+10833592outputs (0major+4614881minor)pagefaults 0swaps\n",
      "samtools: /home/adrian/anaconda3/bin/../lib/libtinfow.so.6: no version information available (required by samtools)\n",
      "samtools: /home/adrian/anaconda3/bin/../lib/libncursesw.so.6: no version information available (required by samtools)\n",
      "samtools: /home/adrian/anaconda3/bin/../lib/libncursesw.so.6: no version information available (required by samtools)\n"
     ]
    },
    {
     "name": "stdout",
     "output_type": "stream",
     "text": [
      "time samtools markdup -@ 20 -r /home/adrian/projects/reynisfjara/results/bam_genome_k243r/a3922_72h_1/positionsort.bam /home/adrian/projects/reynisfjara/results/bam_genome_k243r/a3922_72h_1/markdup.bam\n"
     ]
    },
    {
     "name": "stderr",
     "output_type": "stream",
     "text": [
      "269.89user 5.32system 0:49.69elapsed 553%CPU (0avgtext+0avgdata 232696maxresident)k\n",
      "0inputs+4902536outputs (0major+59691minor)pagefaults 0swaps\n",
      "samtools: /home/adrian/anaconda3/bin/../lib/libtinfow.so.6: no version information available (required by samtools)\n",
      "samtools: /home/adrian/anaconda3/bin/../lib/libncursesw.so.6: no version information available (required by samtools)\n",
      "samtools: /home/adrian/anaconda3/bin/../lib/libncursesw.so.6: no version information available (required by samtools)\n"
     ]
    },
    {
     "name": "stdout",
     "output_type": "stream",
     "text": [
      "time samtools sort -@ 20 -n -o /home/adrian/projects/reynisfjara/results/bam_genome_k243r/a3922_72h_2/namesort.bam /home/adrian/projects/reynisfjara/results/bam_genome_k243r/a3922_72h_2/a3922_72h_2.bam\n"
     ]
    },
    {
     "name": "stderr",
     "output_type": "stream",
     "text": [
      "[bam_sort_core] merging from 1 files and 20 in-memory blocks...\n",
      "1073.98user 22.01system 1:16.77elapsed 1427%CPU (0avgtext+0avgdata 17777852maxresident)k\n",
      "14542928inputs+22921960outputs (0major+4657049minor)pagefaults 0swaps\n",
      "samtools: /home/adrian/anaconda3/bin/../lib/libtinfow.so.6: no version information available (required by samtools)\n",
      "samtools: /home/adrian/anaconda3/bin/../lib/libncursesw.so.6: no version information available (required by samtools)\n",
      "samtools: /home/adrian/anaconda3/bin/../lib/libncursesw.so.6: no version information available (required by samtools)\n"
     ]
    },
    {
     "name": "stdout",
     "output_type": "stream",
     "text": [
      "time samtools fixmate -@ 20 -m /home/adrian/projects/reynisfjara/results/bam_genome_k243r/a3922_72h_2/namesort.bam /home/adrian/projects/reynisfjara/results/bam_genome_k243r/a3922_72h_2/fixmate.bam\n"
     ]
    },
    {
     "name": "stderr",
     "output_type": "stream",
     "text": [
      "653.13user 13.48system 0:46.61elapsed 1430%CPU (0avgtext+0avgdata 22756maxresident)k\n",
      "0inputs+15026680outputs (0major+5643minor)pagefaults 0swaps\n",
      "samtools: /home/adrian/anaconda3/bin/../lib/libtinfow.so.6: no version information available (required by samtools)\n",
      "samtools: /home/adrian/anaconda3/bin/../lib/libncursesw.so.6: no version information available (required by samtools)\n",
      "samtools: /home/adrian/anaconda3/bin/../lib/libncursesw.so.6: no version information available (required by samtools)\n"
     ]
    },
    {
     "name": "stdout",
     "output_type": "stream",
     "text": [
      "time samtools sort -@ 20 -o /home/adrian/projects/reynisfjara/results/bam_genome_k243r/a3922_72h_2/positionsort.bam /home/adrian/projects/reynisfjara/results/bam_genome_k243r/a3922_72h_2/fixmate.bam\n"
     ]
    },
    {
     "name": "stderr",
     "output_type": "stream",
     "text": [
      "[bam_sort_core] merging from 1 files and 20 in-memory blocks...\n",
      "652.07user 17.11system 0:58.15elapsed 1150%CPU (0avgtext+0avgdata 17714900maxresident)k\n",
      "0inputs+11182288outputs (0major+4648762minor)pagefaults 0swaps\n",
      "samtools: /home/adrian/anaconda3/bin/../lib/libtinfow.so.6: no version information available (required by samtools)\n",
      "samtools: /home/adrian/anaconda3/bin/../lib/libncursesw.so.6: no version information available (required by samtools)\n",
      "samtools: /home/adrian/anaconda3/bin/../lib/libncursesw.so.6: no version information available (required by samtools)\n"
     ]
    },
    {
     "name": "stdout",
     "output_type": "stream",
     "text": [
      "time samtools markdup -@ 20 -r /home/adrian/projects/reynisfjara/results/bam_genome_k243r/a3922_72h_2/positionsort.bam /home/adrian/projects/reynisfjara/results/bam_genome_k243r/a3922_72h_2/markdup.bam\n"
     ]
    },
    {
     "name": "stderr",
     "output_type": "stream",
     "text": [
      "277.43user 5.49system 0:52.68elapsed 537%CPU (0avgtext+0avgdata 245080maxresident)k\n",
      "0inputs+5049256outputs (0major+62508minor)pagefaults 0swaps\n",
      "samtools: /home/adrian/anaconda3/bin/../lib/libtinfow.so.6: no version information available (required by samtools)\n",
      "samtools: /home/adrian/anaconda3/bin/../lib/libncursesw.so.6: no version information available (required by samtools)\n",
      "samtools: /home/adrian/anaconda3/bin/../lib/libncursesw.so.6: no version information available (required by samtools)\n"
     ]
    },
    {
     "name": "stdout",
     "output_type": "stream",
     "text": [
      "time samtools sort -@ 20 -n -o /home/adrian/projects/reynisfjara/results/bam_genome_k243r/a3922_72h_3/namesort.bam /home/adrian/projects/reynisfjara/results/bam_genome_k243r/a3922_72h_3/a3922_72h_3.bam\n"
     ]
    },
    {
     "name": "stderr",
     "output_type": "stream",
     "text": [
      "[bam_sort_core] merging from 1 files and 20 in-memory blocks...\n",
      "1031.25user 21.37system 1:14.25elapsed 1417%CPU (0avgtext+0avgdata 17778996maxresident)k\n",
      "13923304inputs+22276736outputs (0major+4639540minor)pagefaults 0swaps\n",
      "samtools: /home/adrian/anaconda3/bin/../lib/libtinfow.so.6: no version information available (required by samtools)\n",
      "samtools: /home/adrian/anaconda3/bin/../lib/libncursesw.so.6: no version information available (required by samtools)\n",
      "samtools: /home/adrian/anaconda3/bin/../lib/libncursesw.so.6: no version information available (required by samtools)\n"
     ]
    },
    {
     "name": "stdout",
     "output_type": "stream",
     "text": [
      "time samtools fixmate -@ 20 -m /home/adrian/projects/reynisfjara/results/bam_genome_k243r/a3922_72h_3/namesort.bam /home/adrian/projects/reynisfjara/results/bam_genome_k243r/a3922_72h_3/fixmate.bam\n"
     ]
    },
    {
     "name": "stderr",
     "output_type": "stream",
     "text": [
      "605.40user 12.79system 0:44.27elapsed 1396%CPU (0avgtext+0avgdata 22404maxresident)k\n",
      "0inputs+14381608outputs (0major+5633minor)pagefaults 0swaps\n",
      "samtools: /home/adrian/anaconda3/bin/../lib/libtinfow.so.6: no version information available (required by samtools)\n",
      "samtools: /home/adrian/anaconda3/bin/../lib/libncursesw.so.6: no version information available (required by samtools)\n",
      "samtools: /home/adrian/anaconda3/bin/../lib/libncursesw.so.6: no version information available (required by samtools)\n"
     ]
    },
    {
     "name": "stdout",
     "output_type": "stream",
     "text": [
      "time samtools sort -@ 20 -o /home/adrian/projects/reynisfjara/results/bam_genome_k243r/a3922_72h_3/positionsort.bam /home/adrian/projects/reynisfjara/results/bam_genome_k243r/a3922_72h_3/fixmate.bam\n"
     ]
    },
    {
     "name": "stderr",
     "output_type": "stream",
     "text": [
      "[bam_sort_core] merging from 1 files and 20 in-memory blocks...\n",
      "618.70user 17.96system 0:58.31elapsed 1091%CPU (0avgtext+0avgdata 17715236maxresident)k\n",
      "0inputs+10903576outputs (0major+4631261minor)pagefaults 0swaps\n",
      "samtools: /home/adrian/anaconda3/bin/../lib/libtinfow.so.6: no version information available (required by samtools)\n",
      "samtools: /home/adrian/anaconda3/bin/../lib/libncursesw.so.6: no version information available (required by samtools)\n",
      "samtools: /home/adrian/anaconda3/bin/../lib/libncursesw.so.6: no version information available (required by samtools)\n"
     ]
    },
    {
     "name": "stdout",
     "output_type": "stream",
     "text": [
      "time samtools markdup -@ 20 -r /home/adrian/projects/reynisfjara/results/bam_genome_k243r/a3922_72h_3/positionsort.bam /home/adrian/projects/reynisfjara/results/bam_genome_k243r/a3922_72h_3/markdup.bam\n"
     ]
    },
    {
     "name": "stderr",
     "output_type": "stream",
     "text": [
      "279.62user 5.25system 0:52.02elapsed 547%CPU (0avgtext+0avgdata 233620maxresident)k\n",
      "0inputs+5008368outputs (0major+63880minor)pagefaults 0swaps\n",
      "samtools: /home/adrian/anaconda3/bin/../lib/libtinfow.so.6: no version information available (required by samtools)\n",
      "samtools: /home/adrian/anaconda3/bin/../lib/libncursesw.so.6: no version information available (required by samtools)\n",
      "samtools: /home/adrian/anaconda3/bin/../lib/libncursesw.so.6: no version information available (required by samtools)\n"
     ]
    },
    {
     "name": "stdout",
     "output_type": "stream",
     "text": [
      "time samtools sort -@ 20 -n -o /home/adrian/projects/reynisfjara/results/bam_genome_k243r/a4774_0h_1/namesort.bam /home/adrian/projects/reynisfjara/results/bam_genome_k243r/a4774_0h_1/a4774_0h_1.bam\n"
     ]
    },
    {
     "name": "stderr",
     "output_type": "stream",
     "text": [
      "[bam_sort_core] merging from 1 files and 20 in-memory blocks...\n",
      "838.31user 19.05system 1:03.74elapsed 1345%CPU (0avgtext+0avgdata 17779820maxresident)k\n",
      "10931912inputs+19295040outputs (0major+4546613minor)pagefaults 0swaps\n",
      "samtools: /home/adrian/anaconda3/bin/../lib/libtinfow.so.6: no version information available (required by samtools)\n",
      "samtools: /home/adrian/anaconda3/bin/../lib/libncursesw.so.6: no version information available (required by samtools)\n",
      "samtools: /home/adrian/anaconda3/bin/../lib/libncursesw.so.6: no version information available (required by samtools)\n"
     ]
    },
    {
     "name": "stdout",
     "output_type": "stream",
     "text": [
      "time samtools fixmate -@ 20 -m /home/adrian/projects/reynisfjara/results/bam_genome_k243r/a4774_0h_1/namesort.bam /home/adrian/projects/reynisfjara/results/bam_genome_k243r/a4774_0h_1/fixmate.bam\n"
     ]
    },
    {
     "name": "stderr",
     "output_type": "stream",
     "text": [
      "465.22user 9.68system 0:34.62elapsed 1371%CPU (0avgtext+0avgdata 22340maxresident)k\n",
      "0inputs+11282400outputs (0major+5597minor)pagefaults 0swaps\n",
      "samtools: /home/adrian/anaconda3/bin/../lib/libtinfow.so.6: no version information available (required by samtools)\n",
      "samtools: /home/adrian/anaconda3/bin/../lib/libncursesw.so.6: no version information available (required by samtools)\n",
      "samtools: /home/adrian/anaconda3/bin/../lib/libncursesw.so.6: no version information available (required by samtools)\n"
     ]
    },
    {
     "name": "stdout",
     "output_type": "stream",
     "text": [
      "time samtools sort -@ 20 -o /home/adrian/projects/reynisfjara/results/bam_genome_k243r/a4774_0h_1/positionsort.bam /home/adrian/projects/reynisfjara/results/bam_genome_k243r/a4774_0h_1/fixmate.bam\n"
     ]
    },
    {
     "name": "stderr",
     "output_type": "stream",
     "text": [
      "[bam_sort_core] merging from 1 files and 20 in-memory blocks...\n",
      "509.66user 15.34system 0:47.82elapsed 1097%CPU (0avgtext+0avgdata 17718096maxresident)k\n",
      "0inputs+9620344outputs (0major+4538525minor)pagefaults 0swaps\n",
      "samtools: /home/adrian/anaconda3/bin/../lib/libtinfow.so.6: no version information available (required by samtools)\n",
      "samtools: /home/adrian/anaconda3/bin/../lib/libncursesw.so.6: no version information available (required by samtools)\n",
      "samtools: /home/adrian/anaconda3/bin/../lib/libncursesw.so.6: no version information available (required by samtools)\n"
     ]
    },
    {
     "name": "stdout",
     "output_type": "stream",
     "text": [
      "time samtools markdup -@ 20 -r /home/adrian/projects/reynisfjara/results/bam_genome_k243r/a4774_0h_1/positionsort.bam /home/adrian/projects/reynisfjara/results/bam_genome_k243r/a4774_0h_1/markdup.bam\n"
     ]
    },
    {
     "name": "stderr",
     "output_type": "stream",
     "text": [
      "225.62user 4.67system 0:40.84elapsed 563%CPU (0avgtext+0avgdata 311736maxresident)k\n",
      "0inputs+4204304outputs (0major+90563minor)pagefaults 0swaps\n",
      "samtools: /home/adrian/anaconda3/bin/../lib/libtinfow.so.6: no version information available (required by samtools)\n",
      "samtools: /home/adrian/anaconda3/bin/../lib/libncursesw.so.6: no version information available (required by samtools)\n",
      "samtools: /home/adrian/anaconda3/bin/../lib/libncursesw.so.6: no version information available (required by samtools)\n"
     ]
    },
    {
     "name": "stdout",
     "output_type": "stream",
     "text": [
      "time samtools sort -@ 20 -n -o /home/adrian/projects/reynisfjara/results/bam_genome_k243r/a4774_0h_2/namesort.bam /home/adrian/projects/reynisfjara/results/bam_genome_k243r/a4774_0h_2/a4774_0h_2.bam\n"
     ]
    },
    {
     "name": "stderr",
     "output_type": "stream",
     "text": [
      "[bam_sort_core] merging from 1 files and 20 in-memory blocks...\n",
      "820.41user 18.61system 1:01.89elapsed 1355%CPU (0avgtext+0avgdata 17780172maxresident)k\n",
      "10617712inputs+18987336outputs (0major+4536361minor)pagefaults 0swaps\n",
      "samtools: /home/adrian/anaconda3/bin/../lib/libtinfow.so.6: no version information available (required by samtools)\n",
      "samtools: /home/adrian/anaconda3/bin/../lib/libncursesw.so.6: no version information available (required by samtools)\n",
      "samtools: /home/adrian/anaconda3/bin/../lib/libncursesw.so.6: no version information available (required by samtools)\n"
     ]
    },
    {
     "name": "stdout",
     "output_type": "stream",
     "text": [
      "time samtools fixmate -@ 20 -m /home/adrian/projects/reynisfjara/results/bam_genome_k243r/a4774_0h_2/namesort.bam /home/adrian/projects/reynisfjara/results/bam_genome_k243r/a4774_0h_2/fixmate.bam\n"
     ]
    },
    {
     "name": "stderr",
     "output_type": "stream",
     "text": [
      "450.92user 9.41system 0:33.49elapsed 1374%CPU (0avgtext+0avgdata 22948maxresident)k\n",
      "0inputs+10957664outputs (0major+5597minor)pagefaults 0swaps\n",
      "samtools: /home/adrian/anaconda3/bin/../lib/libtinfow.so.6: no version information available (required by samtools)\n",
      "samtools: /home/adrian/anaconda3/bin/../lib/libncursesw.so.6: no version information available (required by samtools)\n",
      "samtools: /home/adrian/anaconda3/bin/../lib/libncursesw.so.6: no version information available (required by samtools)\n"
     ]
    },
    {
     "name": "stdout",
     "output_type": "stream",
     "text": [
      "time samtools sort -@ 20 -o /home/adrian/projects/reynisfjara/results/bam_genome_k243r/a4774_0h_2/positionsort.bam /home/adrian/projects/reynisfjara/results/bam_genome_k243r/a4774_0h_2/fixmate.bam\n"
     ]
    },
    {
     "name": "stderr",
     "output_type": "stream",
     "text": [
      "[bam_sort_core] merging from 1 files and 20 in-memory blocks...\n",
      "495.73user 15.85system 0:49.88elapsed 1025%CPU (0avgtext+0avgdata 17718052maxresident)k\n",
      "8inputs+9404128outputs (0major+4528240minor)pagefaults 0swaps\n",
      "samtools: /home/adrian/anaconda3/bin/../lib/libtinfow.so.6: no version information available (required by samtools)\n",
      "samtools: /home/adrian/anaconda3/bin/../lib/libncursesw.so.6: no version information available (required by samtools)\n",
      "samtools: /home/adrian/anaconda3/bin/../lib/libncursesw.so.6: no version information available (required by samtools)\n"
     ]
    },
    {
     "name": "stdout",
     "output_type": "stream",
     "text": [
      "time samtools markdup -@ 20 -r /home/adrian/projects/reynisfjara/results/bam_genome_k243r/a4774_0h_2/positionsort.bam /home/adrian/projects/reynisfjara/results/bam_genome_k243r/a4774_0h_2/markdup.bam\n"
     ]
    },
    {
     "name": "stderr",
     "output_type": "stream",
     "text": [
      "216.52user 4.33system 0:40.11elapsed 550%CPU (0avgtext+0avgdata 278732maxresident)k\n",
      "8inputs+4009672outputs (0major+81993minor)pagefaults 0swaps\n",
      "samtools: /home/adrian/anaconda3/bin/../lib/libtinfow.so.6: no version information available (required by samtools)\n",
      "samtools: /home/adrian/anaconda3/bin/../lib/libncursesw.so.6: no version information available (required by samtools)\n",
      "samtools: /home/adrian/anaconda3/bin/../lib/libncursesw.so.6: no version information available (required by samtools)\n"
     ]
    },
    {
     "name": "stdout",
     "output_type": "stream",
     "text": [
      "time samtools sort -@ 20 -n -o /home/adrian/projects/reynisfjara/results/bam_genome_k243r/a4774_0h_3/namesort.bam /home/adrian/projects/reynisfjara/results/bam_genome_k243r/a4774_0h_3/a4774_0h_3.bam\n"
     ]
    },
    {
     "name": "stderr",
     "output_type": "stream",
     "text": [
      "[bam_sort_core] merging from 1 files and 20 in-memory blocks...\n",
      "1026.39user 22.02system 1:18.10elapsed 1342%CPU (0avgtext+0avgdata 17781536maxresident)k\n",
      "13919144inputs+22220176outputs (0major+4644358minor)pagefaults 0swaps\n",
      "samtools: /home/adrian/anaconda3/bin/../lib/libtinfow.so.6: no version information available (required by samtools)\n",
      "samtools: /home/adrian/anaconda3/bin/../lib/libncursesw.so.6: no version information available (required by samtools)\n",
      "samtools: /home/adrian/anaconda3/bin/../lib/libncursesw.so.6: no version information available (required by samtools)\n"
     ]
    },
    {
     "name": "stdout",
     "output_type": "stream",
     "text": [
      "time samtools fixmate -@ 20 -m /home/adrian/projects/reynisfjara/results/bam_genome_k243r/a4774_0h_3/namesort.bam /home/adrian/projects/reynisfjara/results/bam_genome_k243r/a4774_0h_3/fixmate.bam\n"
     ]
    },
    {
     "name": "stderr",
     "output_type": "stream",
     "text": [
      "612.65user 13.77system 0:42.96elapsed 1457%CPU (0avgtext+0avgdata 23064maxresident)k\n",
      "1016inputs+14356936outputs (9major+5604minor)pagefaults 0swaps\n",
      "samtools: /home/adrian/anaconda3/bin/../lib/libtinfow.so.6: no version information available (required by samtools)\n",
      "samtools: /home/adrian/anaconda3/bin/../lib/libncursesw.so.6: no version information available (required by samtools)\n",
      "samtools: /home/adrian/anaconda3/bin/../lib/libncursesw.so.6: no version information available (required by samtools)\n"
     ]
    },
    {
     "name": "stdout",
     "output_type": "stream",
     "text": [
      "time samtools sort -@ 20 -o /home/adrian/projects/reynisfjara/results/bam_genome_k243r/a4774_0h_3/positionsort.bam /home/adrian/projects/reynisfjara/results/bam_genome_k243r/a4774_0h_3/fixmate.bam\n"
     ]
    },
    {
     "name": "stderr",
     "output_type": "stream",
     "text": [
      "[bam_sort_core] merging from 1 files and 20 in-memory blocks...\n",
      "610.57user 17.46system 0:54.80elapsed 1145%CPU (0avgtext+0avgdata 17718308maxresident)k\n",
      "8inputs+10777008outputs (0major+4636243minor)pagefaults 0swaps\n",
      "samtools: /home/adrian/anaconda3/bin/../lib/libtinfow.so.6: no version information available (required by samtools)\n",
      "samtools: /home/adrian/anaconda3/bin/../lib/libncursesw.so.6: no version information available (required by samtools)\n",
      "samtools: /home/adrian/anaconda3/bin/../lib/libncursesw.so.6: no version information available (required by samtools)\n"
     ]
    },
    {
     "name": "stdout",
     "output_type": "stream",
     "text": [
      "time samtools markdup -@ 20 -r /home/adrian/projects/reynisfjara/results/bam_genome_k243r/a4774_0h_3/positionsort.bam /home/adrian/projects/reynisfjara/results/bam_genome_k243r/a4774_0h_3/markdup.bam\n"
     ]
    },
    {
     "name": "stderr",
     "output_type": "stream",
     "text": [
      "262.49user 5.38system 0:51.70elapsed 518%CPU (0avgtext+0avgdata 361788maxresident)k\n",
      "0inputs+4898992outputs (0major+101471minor)pagefaults 0swaps\n",
      "samtools: /home/adrian/anaconda3/bin/../lib/libtinfow.so.6: no version information available (required by samtools)\n",
      "samtools: /home/adrian/anaconda3/bin/../lib/libncursesw.so.6: no version information available (required by samtools)\n",
      "samtools: /home/adrian/anaconda3/bin/../lib/libncursesw.so.6: no version information available (required by samtools)\n"
     ]
    },
    {
     "name": "stdout",
     "output_type": "stream",
     "text": [
      "time samtools sort -@ 20 -n -o /home/adrian/projects/reynisfjara/results/bam_genome_k243r/a4774_48h_1/namesort.bam /home/adrian/projects/reynisfjara/results/bam_genome_k243r/a4774_48h_1/a4774_48h_1.bam\n"
     ]
    },
    {
     "name": "stderr",
     "output_type": "stream",
     "text": [
      "[bam_sort_core] merging from 1 files and 20 in-memory blocks...\n",
      "987.94user 21.26system 1:11.47elapsed 1412%CPU (0avgtext+0avgdata 17779592maxresident)k\n",
      "13304408inputs+21599360outputs (0major+4624834minor)pagefaults 0swaps\n",
      "samtools: /home/adrian/anaconda3/bin/../lib/libtinfow.so.6: no version information available (required by samtools)\n",
      "samtools: /home/adrian/anaconda3/bin/../lib/libncursesw.so.6: no version information available (required by samtools)\n",
      "samtools: /home/adrian/anaconda3/bin/../lib/libncursesw.so.6: no version information available (required by samtools)\n"
     ]
    },
    {
     "name": "stdout",
     "output_type": "stream",
     "text": [
      "time samtools fixmate -@ 20 -m /home/adrian/projects/reynisfjara/results/bam_genome_k243r/a4774_48h_1/namesort.bam /home/adrian/projects/reynisfjara/results/bam_genome_k243r/a4774_48h_1/fixmate.bam\n"
     ]
    },
    {
     "name": "stderr",
     "output_type": "stream",
     "text": [
      "570.82user 11.79system 0:42.05elapsed 1385%CPU (0avgtext+0avgdata 22576maxresident)k\n",
      "64inputs+13727032outputs (1major+5598minor)pagefaults 0swaps\n",
      "samtools: /home/adrian/anaconda3/bin/../lib/libtinfow.so.6: no version information available (required by samtools)\n",
      "samtools: /home/adrian/anaconda3/bin/../lib/libncursesw.so.6: no version information available (required by samtools)\n",
      "samtools: /home/adrian/anaconda3/bin/../lib/libncursesw.so.6: no version information available (required by samtools)\n"
     ]
    },
    {
     "name": "stdout",
     "output_type": "stream",
     "text": [
      "time samtools sort -@ 20 -o /home/adrian/projects/reynisfjara/results/bam_genome_k243r/a4774_48h_1/positionsort.bam /home/adrian/projects/reynisfjara/results/bam_genome_k243r/a4774_48h_1/fixmate.bam\n"
     ]
    },
    {
     "name": "stderr",
     "output_type": "stream",
     "text": [
      "[bam_sort_core] merging from 1 files and 20 in-memory blocks...\n",
      "596.69user 17.38system 0:54.71elapsed 1122%CPU (0avgtext+0avgdata 17717832maxresident)k\n",
      "0inputs+10631016outputs (0major+4616670minor)pagefaults 0swaps\n",
      "samtools: /home/adrian/anaconda3/bin/../lib/libtinfow.so.6: no version information available (required by samtools)\n",
      "samtools: /home/adrian/anaconda3/bin/../lib/libncursesw.so.6: no version information available (required by samtools)\n",
      "samtools: /home/adrian/anaconda3/bin/../lib/libncursesw.so.6: no version information available (required by samtools)\n"
     ]
    },
    {
     "name": "stdout",
     "output_type": "stream",
     "text": [
      "time samtools markdup -@ 20 -r /home/adrian/projects/reynisfjara/results/bam_genome_k243r/a4774_48h_1/positionsort.bam /home/adrian/projects/reynisfjara/results/bam_genome_k243r/a4774_48h_1/markdup.bam\n"
     ]
    },
    {
     "name": "stderr",
     "output_type": "stream",
     "text": [
      "262.58user 5.17system 0:49.77elapsed 537%CPU (0avgtext+0avgdata 353388maxresident)k\n",
      "8inputs+4839880outputs (0major+90708minor)pagefaults 0swaps\n",
      "samtools: /home/adrian/anaconda3/bin/../lib/libtinfow.so.6: no version information available (required by samtools)\n",
      "samtools: /home/adrian/anaconda3/bin/../lib/libncursesw.so.6: no version information available (required by samtools)\n",
      "samtools: /home/adrian/anaconda3/bin/../lib/libncursesw.so.6: no version information available (required by samtools)\n"
     ]
    },
    {
     "name": "stdout",
     "output_type": "stream",
     "text": [
      "time samtools sort -@ 20 -n -o /home/adrian/projects/reynisfjara/results/bam_genome_k243r/a4774_48h_2/namesort.bam /home/adrian/projects/reynisfjara/results/bam_genome_k243r/a4774_48h_2/a4774_48h_2.bam\n"
     ]
    },
    {
     "name": "stderr",
     "output_type": "stream",
     "text": [
      "[bam_sort_core] merging from 1 files and 20 in-memory blocks...\n",
      "1044.89user 21.54system 1:17.43elapsed 1377%CPU (0avgtext+0avgdata 17780008maxresident)k\n",
      "14101144inputs+22442968outputs (0major+4647787minor)pagefaults 0swaps\n",
      "samtools: /home/adrian/anaconda3/bin/../lib/libtinfow.so.6: no version information available (required by samtools)\n",
      "samtools: /home/adrian/anaconda3/bin/../lib/libncursesw.so.6: no version information available (required by samtools)\n",
      "samtools: /home/adrian/anaconda3/bin/../lib/libncursesw.so.6: no version information available (required by samtools)\n"
     ]
    },
    {
     "name": "stdout",
     "output_type": "stream",
     "text": [
      "time samtools fixmate -@ 20 -m /home/adrian/projects/reynisfjara/results/bam_genome_k243r/a4774_48h_2/namesort.bam /home/adrian/projects/reynisfjara/results/bam_genome_k243r/a4774_48h_2/fixmate.bam\n"
     ]
    },
    {
     "name": "stderr",
     "output_type": "stream",
     "text": [
      "596.40user 12.14system 0:45.45elapsed 1338%CPU (0avgtext+0avgdata 22272maxresident)k\n",
      "16inputs+14549920outputs (1major+5633minor)pagefaults 0swaps\n",
      "samtools: /home/adrian/anaconda3/bin/../lib/libtinfow.so.6: no version information available (required by samtools)\n",
      "samtools: /home/adrian/anaconda3/bin/../lib/libncursesw.so.6: no version information available (required by samtools)\n",
      "samtools: /home/adrian/anaconda3/bin/../lib/libncursesw.so.6: no version information available (required by samtools)\n"
     ]
    },
    {
     "name": "stdout",
     "output_type": "stream",
     "text": [
      "time samtools sort -@ 20 -o /home/adrian/projects/reynisfjara/results/bam_genome_k243r/a4774_48h_2/positionsort.bam /home/adrian/projects/reynisfjara/results/bam_genome_k243r/a4774_48h_2/fixmate.bam\n"
     ]
    },
    {
     "name": "stderr",
     "output_type": "stream",
     "text": [
      "[bam_sort_core] merging from 1 files and 20 in-memory blocks...\n",
      "626.12user 17.80system 0:56.68elapsed 1136%CPU (0avgtext+0avgdata 17717376maxresident)k\n",
      "8inputs+10990552outputs (0major+4639609minor)pagefaults 0swaps\n",
      "samtools: /home/adrian/anaconda3/bin/../lib/libtinfow.so.6: no version information available (required by samtools)\n",
      "samtools: /home/adrian/anaconda3/bin/../lib/libncursesw.so.6: no version information available (required by samtools)\n",
      "samtools: /home/adrian/anaconda3/bin/../lib/libncursesw.so.6: no version information available (required by samtools)\n"
     ]
    },
    {
     "name": "stdout",
     "output_type": "stream",
     "text": [
      "time samtools markdup -@ 20 -r /home/adrian/projects/reynisfjara/results/bam_genome_k243r/a4774_48h_2/positionsort.bam /home/adrian/projects/reynisfjara/results/bam_genome_k243r/a4774_48h_2/markdup.bam\n"
     ]
    },
    {
     "name": "stderr",
     "output_type": "stream",
     "text": [
      "278.79user 5.56system 0:52.72elapsed 539%CPU (0avgtext+0avgdata 388756maxresident)k\n",
      "0inputs+5060352outputs (0major+102177minor)pagefaults 0swaps\n",
      "samtools: /home/adrian/anaconda3/bin/../lib/libtinfow.so.6: no version information available (required by samtools)\n",
      "samtools: /home/adrian/anaconda3/bin/../lib/libncursesw.so.6: no version information available (required by samtools)\n",
      "samtools: /home/adrian/anaconda3/bin/../lib/libncursesw.so.6: no version information available (required by samtools)\n"
     ]
    },
    {
     "name": "stdout",
     "output_type": "stream",
     "text": [
      "time samtools sort -@ 20 -n -o /home/adrian/projects/reynisfjara/results/bam_genome_k243r/a4774_48h_3/namesort.bam /home/adrian/projects/reynisfjara/results/bam_genome_k243r/a4774_48h_3/a4774_48h_3.bam\n"
     ]
    },
    {
     "name": "stderr",
     "output_type": "stream",
     "text": [
      "[bam_sort_core] merging from 1 files and 20 in-memory blocks...\n",
      "785.71user 18.21system 1:00.46elapsed 1329%CPU (0avgtext+0avgdata 17779400maxresident)k\n",
      "10074376inputs+18521616outputs (0major+4516848minor)pagefaults 0swaps\n",
      "samtools: /home/adrian/anaconda3/bin/../lib/libtinfow.so.6: no version information available (required by samtools)\n",
      "samtools: /home/adrian/anaconda3/bin/../lib/libncursesw.so.6: no version information available (required by samtools)\n",
      "samtools: /home/adrian/anaconda3/bin/../lib/libncursesw.so.6: no version information available (required by samtools)\n"
     ]
    },
    {
     "name": "stdout",
     "output_type": "stream",
     "text": [
      "time samtools fixmate -@ 20 -m /home/adrian/projects/reynisfjara/results/bam_genome_k243r/a4774_48h_3/namesort.bam /home/adrian/projects/reynisfjara/results/bam_genome_k243r/a4774_48h_3/fixmate.bam\n"
     ]
    },
    {
     "name": "stderr",
     "output_type": "stream",
     "text": [
      "443.73user 8.90system 0:32.03elapsed 1412%CPU (0avgtext+0avgdata 23008maxresident)k\n",
      "0inputs+10406560outputs (0major+5607minor)pagefaults 0swaps\n",
      "samtools: /home/adrian/anaconda3/bin/../lib/libtinfow.so.6: no version information available (required by samtools)\n",
      "samtools: /home/adrian/anaconda3/bin/../lib/libncursesw.so.6: no version information available (required by samtools)\n",
      "samtools: /home/adrian/anaconda3/bin/../lib/libncursesw.so.6: no version information available (required by samtools)\n"
     ]
    },
    {
     "name": "stdout",
     "output_type": "stream",
     "text": [
      "time samtools sort -@ 20 -o /home/adrian/projects/reynisfjara/results/bam_genome_k243r/a4774_48h_3/positionsort.bam /home/adrian/projects/reynisfjara/results/bam_genome_k243r/a4774_48h_3/fixmate.bam\n"
     ]
    },
    {
     "name": "stderr",
     "output_type": "stream",
     "text": [
      "[bam_sort_core] merging from 1 files and 20 in-memory blocks...\n",
      "485.70user 14.81system 0:46.48elapsed 1076%CPU (0avgtext+0avgdata 17716748maxresident)k\n",
      "0inputs+9392792outputs (0major+4508656minor)pagefaults 0swaps\n",
      "samtools: /home/adrian/anaconda3/bin/../lib/libtinfow.so.6: no version information available (required by samtools)\n",
      "samtools: /home/adrian/anaconda3/bin/../lib/libncursesw.so.6: no version information available (required by samtools)\n",
      "samtools: /home/adrian/anaconda3/bin/../lib/libncursesw.so.6: no version information available (required by samtools)\n"
     ]
    },
    {
     "name": "stdout",
     "output_type": "stream",
     "text": [
      "time samtools markdup -@ 20 -r /home/adrian/projects/reynisfjara/results/bam_genome_k243r/a4774_48h_3/positionsort.bam /home/adrian/projects/reynisfjara/results/bam_genome_k243r/a4774_48h_3/markdup.bam\n"
     ]
    },
    {
     "name": "stderr",
     "output_type": "stream",
     "text": [
      "215.24user 4.25system 0:36.55elapsed 600%CPU (0avgtext+0avgdata 261440maxresident)k\n",
      "0inputs+3910984outputs (0major+66576minor)pagefaults 0swaps\n",
      "samtools: /home/adrian/anaconda3/bin/../lib/libtinfow.so.6: no version information available (required by samtools)\n",
      "samtools: /home/adrian/anaconda3/bin/../lib/libncursesw.so.6: no version information available (required by samtools)\n",
      "samtools: /home/adrian/anaconda3/bin/../lib/libncursesw.so.6: no version information available (required by samtools)\n"
     ]
    },
    {
     "name": "stdout",
     "output_type": "stream",
     "text": [
      "time samtools sort -@ 20 -n -o /home/adrian/projects/reynisfjara/results/bam_genome_k243r/a4774_72h_1/namesort.bam /home/adrian/projects/reynisfjara/results/bam_genome_k243r/a4774_72h_1/a4774_72h_1.bam\n"
     ]
    },
    {
     "name": "stderr",
     "output_type": "stream",
     "text": [
      "[bam_sort_core] merging from 1 files and 20 in-memory blocks...\n",
      "1086.40user 21.82system 1:18.29elapsed 1415%CPU (0avgtext+0avgdata 17778780maxresident)k\n",
      "14712312inputs+23067648outputs (0major+4664835minor)pagefaults 0swaps\n",
      "samtools: /home/adrian/anaconda3/bin/../lib/libtinfow.so.6: no version information available (required by samtools)\n",
      "samtools: /home/adrian/anaconda3/bin/../lib/libncursesw.so.6: no version information available (required by samtools)\n",
      "samtools: /home/adrian/anaconda3/bin/../lib/libncursesw.so.6: no version information available (required by samtools)\n"
     ]
    },
    {
     "name": "stdout",
     "output_type": "stream",
     "text": [
      "time samtools fixmate -@ 20 -m /home/adrian/projects/reynisfjara/results/bam_genome_k243r/a4774_72h_1/namesort.bam /home/adrian/projects/reynisfjara/results/bam_genome_k243r/a4774_72h_1/fixmate.bam\n"
     ]
    },
    {
     "name": "stderr",
     "output_type": "stream",
     "text": [
      "635.90user 13.07system 0:46.17elapsed 1405%CPU (0avgtext+0avgdata 23120maxresident)k\n",
      "0inputs+15199416outputs (0major+5627minor)pagefaults 0swaps\n",
      "samtools: /home/adrian/anaconda3/bin/../lib/libtinfow.so.6: no version information available (required by samtools)\n",
      "samtools: /home/adrian/anaconda3/bin/../lib/libncursesw.so.6: no version information available (required by samtools)\n",
      "samtools: /home/adrian/anaconda3/bin/../lib/libncursesw.so.6: no version information available (required by samtools)\n"
     ]
    },
    {
     "name": "stdout",
     "output_type": "stream",
     "text": [
      "time samtools sort -@ 20 -o /home/adrian/projects/reynisfjara/results/bam_genome_k243r/a4774_72h_1/positionsort.bam /home/adrian/projects/reynisfjara/results/bam_genome_k243r/a4774_72h_1/fixmate.bam\n"
     ]
    },
    {
     "name": "stderr",
     "output_type": "stream",
     "text": [
      "[bam_sort_core] merging from 1 files and 20 in-memory blocks...\n",
      "660.44user 18.42system 0:57.71elapsed 1176%CPU (0avgtext+0avgdata 17716568maxresident)k\n",
      "0inputs+11443736outputs (0major+4656543minor)pagefaults 0swaps\n",
      "samtools: /home/adrian/anaconda3/bin/../lib/libtinfow.so.6: no version information available (required by samtools)\n",
      "samtools: /home/adrian/anaconda3/bin/../lib/libncursesw.so.6: no version information available (required by samtools)\n",
      "samtools: /home/adrian/anaconda3/bin/../lib/libncursesw.so.6: no version information available (required by samtools)\n"
     ]
    },
    {
     "name": "stdout",
     "output_type": "stream",
     "text": [
      "time samtools markdup -@ 20 -r /home/adrian/projects/reynisfjara/results/bam_genome_k243r/a4774_72h_1/positionsort.bam /home/adrian/projects/reynisfjara/results/bam_genome_k243r/a4774_72h_1/markdup.bam\n"
     ]
    },
    {
     "name": "stderr",
     "output_type": "stream",
     "text": [
      "293.29user 5.67system 0:56.93elapsed 525%CPU (0avgtext+0avgdata 361556maxresident)k\n",
      "0inputs+5345352outputs (0major+92202minor)pagefaults 0swaps\n",
      "samtools: /home/adrian/anaconda3/bin/../lib/libtinfow.so.6: no version information available (required by samtools)\n",
      "samtools: /home/adrian/anaconda3/bin/../lib/libncursesw.so.6: no version information available (required by samtools)\n",
      "samtools: /home/adrian/anaconda3/bin/../lib/libncursesw.so.6: no version information available (required by samtools)\n"
     ]
    },
    {
     "name": "stdout",
     "output_type": "stream",
     "text": [
      "time samtools sort -@ 20 -n -o /home/adrian/projects/reynisfjara/results/bam_genome_k243r/a4774_72h_2/namesort.bam /home/adrian/projects/reynisfjara/results/bam_genome_k243r/a4774_72h_2/a4774_72h_2.bam\n"
     ]
    },
    {
     "name": "stderr",
     "output_type": "stream",
     "text": [
      "[bam_sort_core] merging from 2 files and 20 in-memory blocks...\n",
      "1327.49user 31.49system 1:42.03elapsed 1331%CPU (0avgtext+0avgdata 17784560maxresident)k\n",
      "16144744inputs+32949768outputs (0major+4715540minor)pagefaults 0swaps\n",
      "samtools: /home/adrian/anaconda3/bin/../lib/libtinfow.so.6: no version information available (required by samtools)\n",
      "samtools: /home/adrian/anaconda3/bin/../lib/libncursesw.so.6: no version information available (required by samtools)\n",
      "samtools: /home/adrian/anaconda3/bin/../lib/libncursesw.so.6: no version information available (required by samtools)\n"
     ]
    },
    {
     "name": "stdout",
     "output_type": "stream",
     "text": [
      "time samtools fixmate -@ 20 -m /home/adrian/projects/reynisfjara/results/bam_genome_k243r/a4774_72h_2/namesort.bam /home/adrian/projects/reynisfjara/results/bam_genome_k243r/a4774_72h_2/fixmate.bam\n"
     ]
    },
    {
     "name": "stderr",
     "output_type": "stream",
     "text": [
      "697.12user 14.00system 0:49.95elapsed 1423%CPU (0avgtext+0avgdata 22544maxresident)k\n",
      "0inputs+16676848outputs (0major+5628minor)pagefaults 0swaps\n",
      "samtools: /home/adrian/anaconda3/bin/../lib/libtinfow.so.6: no version information available (required by samtools)\n",
      "samtools: /home/adrian/anaconda3/bin/../lib/libncursesw.so.6: no version information available (required by samtools)\n",
      "samtools: /home/adrian/anaconda3/bin/../lib/libncursesw.so.6: no version information available (required by samtools)\n"
     ]
    },
    {
     "name": "stdout",
     "output_type": "stream",
     "text": [
      "time samtools sort -@ 20 -o /home/adrian/projects/reynisfjara/results/bam_genome_k243r/a4774_72h_2/positionsort.bam /home/adrian/projects/reynisfjara/results/bam_genome_k243r/a4774_72h_2/fixmate.bam\n"
     ]
    },
    {
     "name": "stderr",
     "output_type": "stream",
     "text": [
      "[bam_sort_core] merging from 2 files and 20 in-memory blocks...\n",
      "798.05user 24.33system 1:12.97elapsed 1127%CPU (0avgtext+0avgdata 17720704maxresident)k\n",
      "8inputs+16553888outputs (0major+4707094minor)pagefaults 0swaps\n",
      "samtools: /home/adrian/anaconda3/bin/../lib/libtinfow.so.6: no version information available (required by samtools)\n",
      "samtools: /home/adrian/anaconda3/bin/../lib/libncursesw.so.6: no version information available (required by samtools)\n",
      "samtools: /home/adrian/anaconda3/bin/../lib/libncursesw.so.6: no version information available (required by samtools)\n"
     ]
    },
    {
     "name": "stdout",
     "output_type": "stream",
     "text": [
      "time samtools markdup -@ 20 -r /home/adrian/projects/reynisfjara/results/bam_genome_k243r/a4774_72h_2/positionsort.bam /home/adrian/projects/reynisfjara/results/bam_genome_k243r/a4774_72h_2/markdup.bam\n"
     ]
    },
    {
     "name": "stderr",
     "output_type": "stream",
     "text": [
      "313.43user 6.25system 0:59.16elapsed 540%CPU (0avgtext+0avgdata 404440maxresident)k\n",
      "0inputs+5788376outputs (0major+102903minor)pagefaults 0swaps\n",
      "samtools: /home/adrian/anaconda3/bin/../lib/libtinfow.so.6: no version information available (required by samtools)\n",
      "samtools: /home/adrian/anaconda3/bin/../lib/libncursesw.so.6: no version information available (required by samtools)\n",
      "samtools: /home/adrian/anaconda3/bin/../lib/libncursesw.so.6: no version information available (required by samtools)\n"
     ]
    },
    {
     "name": "stdout",
     "output_type": "stream",
     "text": [
      "time samtools sort -@ 20 -n -o /home/adrian/projects/reynisfjara/results/bam_genome_k243r/a4775_0h_1/namesort.bam /home/adrian/projects/reynisfjara/results/bam_genome_k243r/a4775_0h_1/a4775_0h_1.bam\n"
     ]
    },
    {
     "name": "stderr",
     "output_type": "stream",
     "text": [
      "[bam_sort_core] merging from 1 files and 20 in-memory blocks...\n",
      "744.49user 18.17system 0:58.87elapsed 1295%CPU (0avgtext+0avgdata 17779780maxresident)k\n",
      "9572368inputs+17979968outputs (0major+4501693minor)pagefaults 0swaps\n",
      "samtools: /home/adrian/anaconda3/bin/../lib/libtinfow.so.6: no version information available (required by samtools)\n",
      "samtools: /home/adrian/anaconda3/bin/../lib/libncursesw.so.6: no version information available (required by samtools)\n",
      "samtools: /home/adrian/anaconda3/bin/../lib/libncursesw.so.6: no version information available (required by samtools)\n"
     ]
    },
    {
     "name": "stdout",
     "output_type": "stream",
     "text": [
      "time samtools fixmate -@ 20 -m /home/adrian/projects/reynisfjara/results/bam_genome_k243r/a4775_0h_1/namesort.bam /home/adrian/projects/reynisfjara/results/bam_genome_k243r/a4775_0h_1/fixmate.bam\n"
     ]
    },
    {
     "name": "stderr",
     "output_type": "stream",
     "text": [
      "407.90user 8.12system 0:30.20elapsed 1377%CPU (0avgtext+0avgdata 22128maxresident)k\n",
      "0inputs+9882064outputs (0major+5592minor)pagefaults 0swaps\n",
      "samtools: /home/adrian/anaconda3/bin/../lib/libtinfow.so.6: no version information available (required by samtools)\n",
      "samtools: /home/adrian/anaconda3/bin/../lib/libncursesw.so.6: no version information available (required by samtools)\n",
      "samtools: /home/adrian/anaconda3/bin/../lib/libncursesw.so.6: no version information available (required by samtools)\n"
     ]
    },
    {
     "name": "stdout",
     "output_type": "stream",
     "text": [
      "time samtools sort -@ 20 -o /home/adrian/projects/reynisfjara/results/bam_genome_k243r/a4775_0h_1/positionsort.bam /home/adrian/projects/reynisfjara/results/bam_genome_k243r/a4775_0h_1/fixmate.bam\n"
     ]
    },
    {
     "name": "stderr",
     "output_type": "stream",
     "text": [
      "[bam_sort_core] merging from 1 files and 20 in-memory blocks...\n",
      "457.29user 14.66system 0:43.47elapsed 1085%CPU (0avgtext+0avgdata 17717392maxresident)k\n",
      "0inputs+8857080outputs (0major+4493615minor)pagefaults 0swaps\n",
      "samtools: /home/adrian/anaconda3/bin/../lib/libtinfow.so.6: no version information available (required by samtools)\n",
      "samtools: /home/adrian/anaconda3/bin/../lib/libncursesw.so.6: no version information available (required by samtools)\n",
      "samtools: /home/adrian/anaconda3/bin/../lib/libncursesw.so.6: no version information available (required by samtools)\n"
     ]
    },
    {
     "name": "stdout",
     "output_type": "stream",
     "text": [
      "time samtools markdup -@ 20 -r /home/adrian/projects/reynisfjara/results/bam_genome_k243r/a4775_0h_1/positionsort.bam /home/adrian/projects/reynisfjara/results/bam_genome_k243r/a4775_0h_1/markdup.bam\n"
     ]
    },
    {
     "name": "stderr",
     "output_type": "stream",
     "text": [
      "195.33user 3.74system 0:35.68elapsed 557%CPU (0avgtext+0avgdata 225996maxresident)k\n",
      "0inputs+3563168outputs (0major+73886minor)pagefaults 0swaps\n",
      "samtools: /home/adrian/anaconda3/bin/../lib/libtinfow.so.6: no version information available (required by samtools)\n",
      "samtools: /home/adrian/anaconda3/bin/../lib/libncursesw.so.6: no version information available (required by samtools)\n",
      "samtools: /home/adrian/anaconda3/bin/../lib/libncursesw.so.6: no version information available (required by samtools)\n"
     ]
    },
    {
     "name": "stdout",
     "output_type": "stream",
     "text": [
      "time samtools sort -@ 20 -n -o /home/adrian/projects/reynisfjara/results/bam_genome_k243r/a4775_0h_2/namesort.bam /home/adrian/projects/reynisfjara/results/bam_genome_k243r/a4775_0h_2/a4775_0h_2.bam\n"
     ]
    },
    {
     "name": "stderr",
     "output_type": "stream",
     "text": [
      "[bam_sort_core] merging from 1 files and 20 in-memory blocks...\n",
      "1125.41user 22.98system 1:20.14elapsed 1432%CPU (0avgtext+0avgdata 17780496maxresident)k\n",
      "15395384inputs+23678048outputs (0major+4691065minor)pagefaults 0swaps\n",
      "samtools: /home/adrian/anaconda3/bin/../lib/libtinfow.so.6: no version information available (required by samtools)\n",
      "samtools: /home/adrian/anaconda3/bin/../lib/libncursesw.so.6: no version information available (required by samtools)\n",
      "samtools: /home/adrian/anaconda3/bin/../lib/libncursesw.so.6: no version information available (required by samtools)\n"
     ]
    },
    {
     "name": "stdout",
     "output_type": "stream",
     "text": [
      "time samtools fixmate -@ 20 -m /home/adrian/projects/reynisfjara/results/bam_genome_k243r/a4775_0h_2/namesort.bam /home/adrian/projects/reynisfjara/results/bam_genome_k243r/a4775_0h_2/fixmate.bam\n"
     ]
    },
    {
     "name": "stderr",
     "output_type": "stream",
     "text": [
      "635.35user 13.32system 0:48.47elapsed 1338%CPU (0avgtext+0avgdata 22584maxresident)k\n",
      "0inputs+15877072outputs (0major+5600minor)pagefaults 0swaps\n",
      "samtools: /home/adrian/anaconda3/bin/../lib/libtinfow.so.6: no version information available (required by samtools)\n",
      "samtools: /home/adrian/anaconda3/bin/../lib/libncursesw.so.6: no version information available (required by samtools)\n",
      "samtools: /home/adrian/anaconda3/bin/../lib/libncursesw.so.6: no version information available (required by samtools)\n"
     ]
    },
    {
     "name": "stdout",
     "output_type": "stream",
     "text": [
      "time samtools sort -@ 20 -o /home/adrian/projects/reynisfjara/results/bam_genome_k243r/a4775_0h_2/positionsort.bam /home/adrian/projects/reynisfjara/results/bam_genome_k243r/a4775_0h_2/fixmate.bam\n"
     ]
    },
    {
     "name": "stderr",
     "output_type": "stream",
     "text": [
      "[bam_sort_core] merging from 1 files and 20 in-memory blocks...\n",
      "656.48user 18.56system 0:59.91elapsed 1126%CPU (0avgtext+0avgdata 17717652maxresident)k\n",
      "0inputs+11293296outputs (0major+4682965minor)pagefaults 0swaps\n",
      "samtools: /home/adrian/anaconda3/bin/../lib/libtinfow.so.6: no version information available (required by samtools)\n",
      "samtools: /home/adrian/anaconda3/bin/../lib/libncursesw.so.6: no version information available (required by samtools)\n",
      "samtools: /home/adrian/anaconda3/bin/../lib/libncursesw.so.6: no version information available (required by samtools)\n"
     ]
    },
    {
     "name": "stdout",
     "output_type": "stream",
     "text": [
      "time samtools markdup -@ 20 -r /home/adrian/projects/reynisfjara/results/bam_genome_k243r/a4775_0h_2/positionsort.bam /home/adrian/projects/reynisfjara/results/bam_genome_k243r/a4775_0h_2/markdup.bam\n"
     ]
    },
    {
     "name": "stderr",
     "output_type": "stream",
     "text": [
      "287.45user 5.73system 0:59.29elapsed 494%CPU (0avgtext+0avgdata 337860maxresident)k\n",
      "0inputs+5227608outputs (0major+97129minor)pagefaults 0swaps\n",
      "samtools: /home/adrian/anaconda3/bin/../lib/libtinfow.so.6: no version information available (required by samtools)\n",
      "samtools: /home/adrian/anaconda3/bin/../lib/libncursesw.so.6: no version information available (required by samtools)\n",
      "samtools: /home/adrian/anaconda3/bin/../lib/libncursesw.so.6: no version information available (required by samtools)\n"
     ]
    },
    {
     "name": "stdout",
     "output_type": "stream",
     "text": [
      "time samtools sort -@ 20 -n -o /home/adrian/projects/reynisfjara/results/bam_genome_k243r/a4775_0h_3/namesort.bam /home/adrian/projects/reynisfjara/results/bam_genome_k243r/a4775_0h_3/a4775_0h_3.bam\n"
     ]
    },
    {
     "name": "stderr",
     "output_type": "stream",
     "text": [
      "[bam_sort_core] merging from 1 files and 20 in-memory blocks...\n",
      "994.42user 21.15system 1:12.04elapsed 1409%CPU (0avgtext+0avgdata 17780552maxresident)k\n",
      "13362672inputs+21733168outputs (0major+4623781minor)pagefaults 0swaps\n",
      "samtools: /home/adrian/anaconda3/bin/../lib/libtinfow.so.6: no version information available (required by samtools)\n",
      "samtools: /home/adrian/anaconda3/bin/../lib/libncursesw.so.6: no version information available (required by samtools)\n",
      "samtools: /home/adrian/anaconda3/bin/../lib/libncursesw.so.6: no version information available (required by samtools)\n"
     ]
    },
    {
     "name": "stdout",
     "output_type": "stream",
     "text": [
      "time samtools fixmate -@ 20 -m /home/adrian/projects/reynisfjara/results/bam_genome_k243r/a4775_0h_3/namesort.bam /home/adrian/projects/reynisfjara/results/bam_genome_k243r/a4775_0h_3/fixmate.bam\n"
     ]
    },
    {
     "name": "stderr",
     "output_type": "stream",
     "text": [
      "574.17user 11.65system 0:41.70elapsed 1404%CPU (0avgtext+0avgdata 22796maxresident)k\n",
      "0inputs+13801584outputs (0major+5602minor)pagefaults 0swaps\n",
      "samtools: /home/adrian/anaconda3/bin/../lib/libtinfow.so.6: no version information available (required by samtools)\n",
      "samtools: /home/adrian/anaconda3/bin/../lib/libncursesw.so.6: no version information available (required by samtools)\n",
      "samtools: /home/adrian/anaconda3/bin/../lib/libncursesw.so.6: no version information available (required by samtools)\n"
     ]
    },
    {
     "name": "stdout",
     "output_type": "stream",
     "text": [
      "time samtools sort -@ 20 -o /home/adrian/projects/reynisfjara/results/bam_genome_k243r/a4775_0h_3/positionsort.bam /home/adrian/projects/reynisfjara/results/bam_genome_k243r/a4775_0h_3/fixmate.bam\n"
     ]
    },
    {
     "name": "stderr",
     "output_type": "stream",
     "text": [
      "[bam_sort_core] merging from 1 files and 20 in-memory blocks...\n",
      "594.80user 17.51system 0:55.93elapsed 1094%CPU (0avgtext+0avgdata 17717644maxresident)k\n",
      "0inputs+10472048outputs (0major+4615719minor)pagefaults 0swaps\n",
      "samtools: /home/adrian/anaconda3/bin/../lib/libtinfow.so.6: no version information available (required by samtools)\n",
      "samtools: /home/adrian/anaconda3/bin/../lib/libncursesw.so.6: no version information available (required by samtools)\n",
      "samtools: /home/adrian/anaconda3/bin/../lib/libncursesw.so.6: no version information available (required by samtools)\n"
     ]
    },
    {
     "name": "stdout",
     "output_type": "stream",
     "text": [
      "time samtools markdup -@ 20 -r /home/adrian/projects/reynisfjara/results/bam_genome_k243r/a4775_0h_3/positionsort.bam /home/adrian/projects/reynisfjara/results/bam_genome_k243r/a4775_0h_3/markdup.bam\n"
     ]
    },
    {
     "name": "stderr",
     "output_type": "stream",
     "text": [
      "250.95user 5.38system 0:49.30elapsed 519%CPU (0avgtext+0avgdata 288768maxresident)k\n",
      "0inputs+4637448outputs (0major+81562minor)pagefaults 0swaps\n",
      "samtools: /home/adrian/anaconda3/bin/../lib/libtinfow.so.6: no version information available (required by samtools)\n",
      "samtools: /home/adrian/anaconda3/bin/../lib/libncursesw.so.6: no version information available (required by samtools)\n",
      "samtools: /home/adrian/anaconda3/bin/../lib/libncursesw.so.6: no version information available (required by samtools)\n"
     ]
    },
    {
     "name": "stdout",
     "output_type": "stream",
     "text": [
      "time samtools sort -@ 20 -n -o /home/adrian/projects/reynisfjara/results/bam_genome_k243r/a4775_48h_1/namesort.bam /home/adrian/projects/reynisfjara/results/bam_genome_k243r/a4775_48h_1/a4775_48h_1.bam\n"
     ]
    },
    {
     "name": "stderr",
     "output_type": "stream",
     "text": [
      "[bam_sort_core] merging from 1 files and 20 in-memory blocks...\n",
      "878.20user 19.68system 1:05.11elapsed 1379%CPU (0avgtext+0avgdata 17779840maxresident)k\n",
      "11627936inputs+20021608outputs (0major+4567722minor)pagefaults 0swaps\n",
      "samtools: /home/adrian/anaconda3/bin/../lib/libtinfow.so.6: no version information available (required by samtools)\n",
      "samtools: /home/adrian/anaconda3/bin/../lib/libncursesw.so.6: no version information available (required by samtools)\n",
      "samtools: /home/adrian/anaconda3/bin/../lib/libncursesw.so.6: no version information available (required by samtools)\n"
     ]
    },
    {
     "name": "stdout",
     "output_type": "stream",
     "text": [
      "time samtools fixmate -@ 20 -m /home/adrian/projects/reynisfjara/results/bam_genome_k243r/a4775_48h_1/namesort.bam /home/adrian/projects/reynisfjara/results/bam_genome_k243r/a4775_48h_1/fixmate.bam\n"
     ]
    },
    {
     "name": "stderr",
     "output_type": "stream",
     "text": [
      "496.78user 10.23system 0:36.77elapsed 1378%CPU (0avgtext+0avgdata 22632maxresident)k\n",
      "0inputs+12001880outputs (0major+5602minor)pagefaults 0swaps\n",
      "samtools: /home/adrian/anaconda3/bin/../lib/libtinfow.so.6: no version information available (required by samtools)\n",
      "samtools: /home/adrian/anaconda3/bin/../lib/libncursesw.so.6: no version information available (required by samtools)\n",
      "samtools: /home/adrian/anaconda3/bin/../lib/libncursesw.so.6: no version information available (required by samtools)\n"
     ]
    },
    {
     "name": "stdout",
     "output_type": "stream",
     "text": [
      "time samtools sort -@ 20 -o /home/adrian/projects/reynisfjara/results/bam_genome_k243r/a4775_48h_1/positionsort.bam /home/adrian/projects/reynisfjara/results/bam_genome_k243r/a4775_48h_1/fixmate.bam\n"
     ]
    },
    {
     "name": "stderr",
     "output_type": "stream",
     "text": [
      "[bam_sort_core] merging from 1 files and 20 in-memory blocks...\n",
      "537.24user 17.47system 0:49.90elapsed 1111%CPU (0avgtext+0avgdata 17717836maxresident)k\n",
      "0inputs+9900552outputs (0major+4559586minor)pagefaults 0swaps\n",
      "samtools: /home/adrian/anaconda3/bin/../lib/libtinfow.so.6: no version information available (required by samtools)\n",
      "samtools: /home/adrian/anaconda3/bin/../lib/libncursesw.so.6: no version information available (required by samtools)\n",
      "samtools: /home/adrian/anaconda3/bin/../lib/libncursesw.so.6: no version information available (required by samtools)\n"
     ]
    },
    {
     "name": "stdout",
     "output_type": "stream",
     "text": [
      "time samtools markdup -@ 20 -r /home/adrian/projects/reynisfjara/results/bam_genome_k243r/a4775_48h_1/positionsort.bam /home/adrian/projects/reynisfjara/results/bam_genome_k243r/a4775_48h_1/markdup.bam\n"
     ]
    },
    {
     "name": "stderr",
     "output_type": "stream",
     "text": [
      "234.27user 4.54system 0:42.22elapsed 565%CPU (0avgtext+0avgdata 247064maxresident)k\n",
      "0inputs+4300128outputs (0major+61504minor)pagefaults 0swaps\n",
      "samtools: /home/adrian/anaconda3/bin/../lib/libtinfow.so.6: no version information available (required by samtools)\n",
      "samtools: /home/adrian/anaconda3/bin/../lib/libncursesw.so.6: no version information available (required by samtools)\n",
      "samtools: /home/adrian/anaconda3/bin/../lib/libncursesw.so.6: no version information available (required by samtools)\n"
     ]
    },
    {
     "name": "stdout",
     "output_type": "stream",
     "text": [
      "time samtools sort -@ 20 -n -o /home/adrian/projects/reynisfjara/results/bam_genome_k243r/a4775_48h_2/namesort.bam /home/adrian/projects/reynisfjara/results/bam_genome_k243r/a4775_48h_2/a4775_48h_2.bam\n"
     ]
    },
    {
     "name": "stderr",
     "output_type": "stream",
     "text": [
      "[bam_sort_core] merging from 1 files and 20 in-memory blocks...\n",
      "1068.30user 22.57system 1:16.02elapsed 1434%CPU (0avgtext+0avgdata 17778152maxresident)k\n",
      "14469096inputs+22856672outputs (0major+4656055minor)pagefaults 0swaps\n",
      "samtools: /home/adrian/anaconda3/bin/../lib/libtinfow.so.6: no version information available (required by samtools)\n",
      "samtools: /home/adrian/anaconda3/bin/../lib/libncursesw.so.6: no version information available (required by samtools)\n",
      "samtools: /home/adrian/anaconda3/bin/../lib/libncursesw.so.6: no version information available (required by samtools)\n"
     ]
    },
    {
     "name": "stdout",
     "output_type": "stream",
     "text": [
      "time samtools fixmate -@ 20 -m /home/adrian/projects/reynisfjara/results/bam_genome_k243r/a4775_48h_2/namesort.bam /home/adrian/projects/reynisfjara/results/bam_genome_k243r/a4775_48h_2/fixmate.bam\n"
     ]
    },
    {
     "name": "stderr",
     "output_type": "stream",
     "text": [
      "615.77user 12.40system 0:44.97elapsed 1396%CPU (0avgtext+0avgdata 22340maxresident)k\n",
      "544inputs+14932496outputs (0major+5602minor)pagefaults 0swaps\n",
      "samtools: /home/adrian/anaconda3/bin/../lib/libtinfow.so.6: no version information available (required by samtools)\n",
      "samtools: /home/adrian/anaconda3/bin/../lib/libncursesw.so.6: no version information available (required by samtools)\n",
      "samtools: /home/adrian/anaconda3/bin/../lib/libncursesw.so.6: no version information available (required by samtools)\n"
     ]
    },
    {
     "name": "stdout",
     "output_type": "stream",
     "text": [
      "time samtools sort -@ 20 -o /home/adrian/projects/reynisfjara/results/bam_genome_k243r/a4775_48h_2/positionsort.bam /home/adrian/projects/reynisfjara/results/bam_genome_k243r/a4775_48h_2/fixmate.bam\n"
     ]
    },
    {
     "name": "stderr",
     "output_type": "stream",
     "text": [
      "[bam_sort_core] merging from 1 files and 20 in-memory blocks...\n",
      "641.59user 18.57system 0:56.59elapsed 1166%CPU (0avgtext+0avgdata 17716156maxresident)k\n",
      "392inputs+11145928outputs (0major+4647908minor)pagefaults 0swaps\n",
      "samtools: /home/adrian/anaconda3/bin/../lib/libtinfow.so.6: no version information available (required by samtools)\n",
      "samtools: /home/adrian/anaconda3/bin/../lib/libncursesw.so.6: no version information available (required by samtools)\n",
      "samtools: /home/adrian/anaconda3/bin/../lib/libncursesw.so.6: no version information available (required by samtools)\n"
     ]
    },
    {
     "name": "stdout",
     "output_type": "stream",
     "text": [
      "time samtools markdup -@ 20 -r /home/adrian/projects/reynisfjara/results/bam_genome_k243r/a4775_48h_2/positionsort.bam /home/adrian/projects/reynisfjara/results/bam_genome_k243r/a4775_48h_2/markdup.bam\n"
     ]
    },
    {
     "name": "stderr",
     "output_type": "stream",
     "text": [
      "284.31user 5.76system 0:53.61elapsed 541%CPU (0avgtext+0avgdata 311820maxresident)k\n",
      "184inputs+5187352outputs (0major+78682minor)pagefaults 0swaps\n",
      "samtools: /home/adrian/anaconda3/bin/../lib/libtinfow.so.6: no version information available (required by samtools)\n",
      "samtools: /home/adrian/anaconda3/bin/../lib/libncursesw.so.6: no version information available (required by samtools)\n",
      "samtools: /home/adrian/anaconda3/bin/../lib/libncursesw.so.6: no version information available (required by samtools)\n"
     ]
    },
    {
     "name": "stdout",
     "output_type": "stream",
     "text": [
      "time samtools sort -@ 20 -n -o /home/adrian/projects/reynisfjara/results/bam_genome_k243r/a4775_48h_3/namesort.bam /home/adrian/projects/reynisfjara/results/bam_genome_k243r/a4775_48h_3/a4775_48h_3.bam\n"
     ]
    },
    {
     "name": "stderr",
     "output_type": "stream",
     "text": [
      "[bam_sort_core] merging from 1 files and 20 in-memory blocks...\n",
      "1040.36user 21.99system 1:17.63elapsed 1368%CPU (0avgtext+0avgdata 17779224maxresident)k\n",
      "14007312inputs+22322584outputs (0major+4646117minor)pagefaults 0swaps\n",
      "samtools: /home/adrian/anaconda3/bin/../lib/libtinfow.so.6: no version information available (required by samtools)\n",
      "samtools: /home/adrian/anaconda3/bin/../lib/libncursesw.so.6: no version information available (required by samtools)\n",
      "samtools: /home/adrian/anaconda3/bin/../lib/libncursesw.so.6: no version information available (required by samtools)\n"
     ]
    },
    {
     "name": "stdout",
     "output_type": "stream",
     "text": [
      "time samtools fixmate -@ 20 -m /home/adrian/projects/reynisfjara/results/bam_genome_k243r/a4775_48h_3/namesort.bam /home/adrian/projects/reynisfjara/results/bam_genome_k243r/a4775_48h_3/fixmate.bam\n"
     ]
    },
    {
     "name": "stderr",
     "output_type": "stream",
     "text": [
      "595.17user 12.17system 0:43.77elapsed 1387%CPU (0avgtext+0avgdata 22536maxresident)k\n",
      "544inputs+14449920outputs (0major+5597minor)pagefaults 0swaps\n",
      "samtools: /home/adrian/anaconda3/bin/../lib/libtinfow.so.6: no version information available (required by samtools)\n",
      "samtools: /home/adrian/anaconda3/bin/../lib/libncursesw.so.6: no version information available (required by samtools)\n",
      "samtools: /home/adrian/anaconda3/bin/../lib/libncursesw.so.6: no version information available (required by samtools)\n"
     ]
    },
    {
     "name": "stdout",
     "output_type": "stream",
     "text": [
      "time samtools sort -@ 20 -o /home/adrian/projects/reynisfjara/results/bam_genome_k243r/a4775_48h_3/positionsort.bam /home/adrian/projects/reynisfjara/results/bam_genome_k243r/a4775_48h_3/fixmate.bam\n"
     ]
    },
    {
     "name": "stderr",
     "output_type": "stream",
     "text": [
      "[bam_sort_core] merging from 1 files and 20 in-memory blocks...\n",
      "618.60user 18.35system 0:55.41elapsed 1149%CPU (0avgtext+0avgdata 17717436maxresident)k\n",
      "384inputs+10817960outputs (0major+4637938minor)pagefaults 0swaps\n",
      "samtools: /home/adrian/anaconda3/bin/../lib/libtinfow.so.6: no version information available (required by samtools)\n",
      "samtools: /home/adrian/anaconda3/bin/../lib/libncursesw.so.6: no version information available (required by samtools)\n",
      "samtools: /home/adrian/anaconda3/bin/../lib/libncursesw.so.6: no version information available (required by samtools)\n"
     ]
    },
    {
     "name": "stdout",
     "output_type": "stream",
     "text": [
      "time samtools markdup -@ 20 -r /home/adrian/projects/reynisfjara/results/bam_genome_k243r/a4775_48h_3/positionsort.bam /home/adrian/projects/reynisfjara/results/bam_genome_k243r/a4775_48h_3/markdup.bam\n"
     ]
    },
    {
     "name": "stderr",
     "output_type": "stream",
     "text": [
      "262.90user 4.93system 0:50.34elapsed 531%CPU (0avgtext+0avgdata 321384maxresident)k\n",
      "176inputs+4863648outputs (0major+80411minor)pagefaults 0swaps\n",
      "samtools: /home/adrian/anaconda3/bin/../lib/libtinfow.so.6: no version information available (required by samtools)\n",
      "samtools: /home/adrian/anaconda3/bin/../lib/libncursesw.so.6: no version information available (required by samtools)\n",
      "samtools: /home/adrian/anaconda3/bin/../lib/libncursesw.so.6: no version information available (required by samtools)\n"
     ]
    },
    {
     "name": "stdout",
     "output_type": "stream",
     "text": [
      "time samtools sort -@ 20 -n -o /home/adrian/projects/reynisfjara/results/bam_genome_k243r/a4775_72h_1/namesort.bam /home/adrian/projects/reynisfjara/results/bam_genome_k243r/a4775_72h_1/a4775_72h_1.bam\n"
     ]
    },
    {
     "name": "stderr",
     "output_type": "stream",
     "text": [
      "[bam_sort_core] merging from 2 files and 20 in-memory blocks...\n",
      "1313.46user 30.33system 1:36.94elapsed 1386%CPU (0avgtext+0avgdata 17782844maxresident)k\n",
      "16303184inputs+33109032outputs (0major+4719064minor)pagefaults 0swaps\n",
      "samtools: /home/adrian/anaconda3/bin/../lib/libtinfow.so.6: no version information available (required by samtools)\n",
      "samtools: /home/adrian/anaconda3/bin/../lib/libncursesw.so.6: no version information available (required by samtools)\n",
      "samtools: /home/adrian/anaconda3/bin/../lib/libncursesw.so.6: no version information available (required by samtools)\n"
     ]
    },
    {
     "name": "stdout",
     "output_type": "stream",
     "text": [
      "time samtools fixmate -@ 20 -m /home/adrian/projects/reynisfjara/results/bam_genome_k243r/a4775_72h_1/namesort.bam /home/adrian/projects/reynisfjara/results/bam_genome_k243r/a4775_72h_1/fixmate.bam\n"
     ]
    },
    {
     "name": "stderr",
     "output_type": "stream",
     "text": [
      "697.90user 13.94system 0:53.40elapsed 1332%CPU (0avgtext+0avgdata 22456maxresident)k\n",
      "608inputs+16838744outputs (0major+5721minor)pagefaults 0swaps\n",
      "samtools: /home/adrian/anaconda3/bin/../lib/libtinfow.so.6: no version information available (required by samtools)\n",
      "samtools: /home/adrian/anaconda3/bin/../lib/libncursesw.so.6: no version information available (required by samtools)\n",
      "samtools: /home/adrian/anaconda3/bin/../lib/libncursesw.so.6: no version information available (required by samtools)\n"
     ]
    },
    {
     "name": "stdout",
     "output_type": "stream",
     "text": [
      "time samtools sort -@ 20 -o /home/adrian/projects/reynisfjara/results/bam_genome_k243r/a4775_72h_1/positionsort.bam /home/adrian/projects/reynisfjara/results/bam_genome_k243r/a4775_72h_1/fixmate.bam\n"
     ]
    },
    {
     "name": "stderr",
     "output_type": "stream",
     "text": [
      "[bam_sort_core] merging from 2 files and 20 in-memory blocks...\n",
      "788.76user 24.03system 1:18.12elapsed 1040%CPU (0avgtext+0avgdata 17720364maxresident)k\n",
      "576inputs+16362544outputs (0major+4710230minor)pagefaults 0swaps\n",
      "samtools: /home/adrian/anaconda3/bin/../lib/libtinfow.so.6: no version information available (required by samtools)\n",
      "samtools: /home/adrian/anaconda3/bin/../lib/libncursesw.so.6: no version information available (required by samtools)\n",
      "samtools: /home/adrian/anaconda3/bin/../lib/libncursesw.so.6: no version information available (required by samtools)\n"
     ]
    },
    {
     "name": "stdout",
     "output_type": "stream",
     "text": [
      "time samtools markdup -@ 20 -r /home/adrian/projects/reynisfjara/results/bam_genome_k243r/a4775_72h_1/positionsort.bam /home/adrian/projects/reynisfjara/results/bam_genome_k243r/a4775_72h_1/markdup.bam\n"
     ]
    },
    {
     "name": "stderr",
     "output_type": "stream",
     "text": [
      "302.02user 6.16system 0:59.74elapsed 515%CPU (0avgtext+0avgdata 331932maxresident)k\n",
      "192inputs+5545632outputs (0major+82914minor)pagefaults 0swaps\n",
      "samtools: /home/adrian/anaconda3/bin/../lib/libtinfow.so.6: no version information available (required by samtools)\n",
      "samtools: /home/adrian/anaconda3/bin/../lib/libncursesw.so.6: no version information available (required by samtools)\n",
      "samtools: /home/adrian/anaconda3/bin/../lib/libncursesw.so.6: no version information available (required by samtools)\n"
     ]
    },
    {
     "name": "stdout",
     "output_type": "stream",
     "text": [
      "time samtools sort -@ 20 -n -o /home/adrian/projects/reynisfjara/results/bam_genome_k243r/a4775_72h_2/namesort.bam /home/adrian/projects/reynisfjara/results/bam_genome_k243r/a4775_72h_2/a4775_72h_2.bam\n"
     ]
    },
    {
     "name": "stderr",
     "output_type": "stream",
     "text": [
      "[bam_sort_core] merging from 1 files and 20 in-memory blocks...\n",
      "1124.35user 22.68system 1:18.92elapsed 1453%CPU (0avgtext+0avgdata 17779360maxresident)k\n",
      "15318216inputs+23686984outputs (0major+4682781minor)pagefaults 0swaps\n",
      "samtools: /home/adrian/anaconda3/bin/../lib/libtinfow.so.6: no version information available (required by samtools)\n",
      "samtools: /home/adrian/anaconda3/bin/../lib/libncursesw.so.6: no version information available (required by samtools)\n",
      "samtools: /home/adrian/anaconda3/bin/../lib/libncursesw.so.6: no version information available (required by samtools)\n"
     ]
    },
    {
     "name": "stdout",
     "output_type": "stream",
     "text": [
      "time samtools fixmate -@ 20 -m /home/adrian/projects/reynisfjara/results/bam_genome_k243r/a4775_72h_2/namesort.bam /home/adrian/projects/reynisfjara/results/bam_genome_k243r/a4775_72h_2/fixmate.bam\n"
     ]
    },
    {
     "name": "stderr",
     "output_type": "stream",
     "text": [
      "656.72user 13.86system 0:48.87elapsed 1372%CPU (0avgtext+0avgdata 22428maxresident)k\n",
      "544inputs+15822544outputs (0major+5632minor)pagefaults 0swaps\n",
      "samtools: /home/adrian/anaconda3/bin/../lib/libtinfow.so.6: no version information available (required by samtools)\n",
      "samtools: /home/adrian/anaconda3/bin/../lib/libncursesw.so.6: no version information available (required by samtools)\n",
      "samtools: /home/adrian/anaconda3/bin/../lib/libncursesw.so.6: no version information available (required by samtools)\n"
     ]
    },
    {
     "name": "stdout",
     "output_type": "stream",
     "text": [
      "time samtools sort -@ 20 -o /home/adrian/projects/reynisfjara/results/bam_genome_k243r/a4775_72h_2/positionsort.bam /home/adrian/projects/reynisfjara/results/bam_genome_k243r/a4775_72h_2/fixmate.bam\n"
     ]
    },
    {
     "name": "stderr",
     "output_type": "stream",
     "text": [
      "[bam_sort_core] merging from 1 files and 20 in-memory blocks...\n",
      "673.43user 18.53system 1:02.42elapsed 1108%CPU (0avgtext+0avgdata 17716916maxresident)k\n",
      "480inputs+11600424outputs (0major+4674433minor)pagefaults 0swaps\n",
      "samtools: /home/adrian/anaconda3/bin/../lib/libtinfow.so.6: no version information available (required by samtools)\n",
      "samtools: /home/adrian/anaconda3/bin/../lib/libncursesw.so.6: no version information available (required by samtools)\n",
      "samtools: /home/adrian/anaconda3/bin/../lib/libncursesw.so.6: no version information available (required by samtools)\n"
     ]
    },
    {
     "name": "stdout",
     "output_type": "stream",
     "text": [
      "time samtools markdup -@ 20 -r /home/adrian/projects/reynisfjara/results/bam_genome_k243r/a4775_72h_2/positionsort.bam /home/adrian/projects/reynisfjara/results/bam_genome_k243r/a4775_72h_2/markdup.bam\n"
     ]
    },
    {
     "name": "stderr",
     "output_type": "stream",
     "text": [
      "308.63user 6.30system 0:59.92elapsed 525%CPU (0avgtext+0avgdata 318172maxresident)k\n",
      "200inputs+5478568outputs (0major+80633minor)pagefaults 0swaps\n",
      "samtools: /home/adrian/anaconda3/bin/../lib/libtinfow.so.6: no version information available (required by samtools)\n",
      "samtools: /home/adrian/anaconda3/bin/../lib/libncursesw.so.6: no version information available (required by samtools)\n",
      "samtools: /home/adrian/anaconda3/bin/../lib/libncursesw.so.6: no version information available (required by samtools)\n"
     ]
    },
    {
     "name": "stdout",
     "output_type": "stream",
     "text": [
      "time samtools sort -@ 20 -n -o /home/adrian/projects/reynisfjara/results/bam_genome_k243r/a4775_72h_3/namesort.bam /home/adrian/projects/reynisfjara/results/bam_genome_k243r/a4775_72h_3/a4775_72h_3.bam\n"
     ]
    },
    {
     "name": "stderr",
     "output_type": "stream",
     "text": [
      "[bam_sort_core] merging from 1 files and 20 in-memory blocks...\n",
      "868.44user 20.17system 1:05.37elapsed 1359%CPU (0avgtext+0avgdata 17780288maxresident)k\n",
      "11380880inputs+19802736outputs (0major+4557960minor)pagefaults 0swaps\n",
      "samtools: /home/adrian/anaconda3/bin/../lib/libtinfow.so.6: no version information available (required by samtools)\n",
      "samtools: /home/adrian/anaconda3/bin/../lib/libncursesw.so.6: no version information available (required by samtools)\n",
      "samtools: /home/adrian/anaconda3/bin/../lib/libncursesw.so.6: no version information available (required by samtools)\n"
     ]
    },
    {
     "name": "stdout",
     "output_type": "stream",
     "text": [
      "time samtools fixmate -@ 20 -m /home/adrian/projects/reynisfjara/results/bam_genome_k243r/a4775_72h_3/namesort.bam /home/adrian/projects/reynisfjara/results/bam_genome_k243r/a4775_72h_3/fixmate.bam\n"
     ]
    },
    {
     "name": "stderr",
     "output_type": "stream",
     "text": [
      "498.38user 10.04system 0:35.93elapsed 1414%CPU (0avgtext+0avgdata 23096maxresident)k\n",
      "504inputs+11761272outputs (0major+5634minor)pagefaults 0swaps\n",
      "samtools: /home/adrian/anaconda3/bin/../lib/libtinfow.so.6: no version information available (required by samtools)\n",
      "samtools: /home/adrian/anaconda3/bin/../lib/libncursesw.so.6: no version information available (required by samtools)\n",
      "samtools: /home/adrian/anaconda3/bin/../lib/libncursesw.so.6: no version information available (required by samtools)\n"
     ]
    },
    {
     "name": "stdout",
     "output_type": "stream",
     "text": [
      "time samtools sort -@ 20 -o /home/adrian/projects/reynisfjara/results/bam_genome_k243r/a4775_72h_3/positionsort.bam /home/adrian/projects/reynisfjara/results/bam_genome_k243r/a4775_72h_3/fixmate.bam\n"
     ]
    },
    {
     "name": "stderr",
     "output_type": "stream",
     "text": [
      "[bam_sort_core] merging from 1 files and 20 in-memory blocks...\n",
      "535.60user 16.72system 0:49.51elapsed 1115%CPU (0avgtext+0avgdata 17716556maxresident)k\n",
      "368inputs+9965080outputs (0major+4549703minor)pagefaults 0swaps\n",
      "samtools: /home/adrian/anaconda3/bin/../lib/libtinfow.so.6: no version information available (required by samtools)\n",
      "samtools: /home/adrian/anaconda3/bin/../lib/libncursesw.so.6: no version information available (required by samtools)\n",
      "samtools: /home/adrian/anaconda3/bin/../lib/libncursesw.so.6: no version information available (required by samtools)\n"
     ]
    },
    {
     "name": "stdout",
     "output_type": "stream",
     "text": [
      "time samtools markdup -@ 20 -r /home/adrian/projects/reynisfjara/results/bam_genome_k243r/a4775_72h_3/positionsort.bam /home/adrian/projects/reynisfjara/results/bam_genome_k243r/a4775_72h_3/markdup.bam\n"
     ]
    },
    {
     "name": "stderr",
     "output_type": "stream",
     "text": [
      "240.23user 4.80system 0:42.15elapsed 581%CPU (0avgtext+0avgdata 252292maxresident)k\n",
      "160inputs+4362264outputs (0major+62907minor)pagefaults 0swaps\n",
      "samtools: /home/adrian/anaconda3/bin/../lib/libtinfow.so.6: no version information available (required by samtools)\n",
      "samtools: /home/adrian/anaconda3/bin/../lib/libncursesw.so.6: no version information available (required by samtools)\n",
      "samtools: /home/adrian/anaconda3/bin/../lib/libncursesw.so.6: no version information available (required by samtools)\n"
     ]
    },
    {
     "name": "stdout",
     "output_type": "stream",
     "text": [
      "time samtools sort -@ 20 -n -o /home/adrian/projects/reynisfjara/results/bam_genome_k243r/a4776_0h_1/namesort.bam /home/adrian/projects/reynisfjara/results/bam_genome_k243r/a4776_0h_1/a4776_0h_1.bam\n"
     ]
    },
    {
     "name": "stderr",
     "output_type": "stream",
     "text": [
      "[bam_sort_core] merging from 1 files and 20 in-memory blocks...\n",
      "821.65user 19.12system 1:02.29elapsed 1349%CPU (0avgtext+0avgdata 17781324maxresident)k\n",
      "10697680inputs+19025600outputs (0major+4541304minor)pagefaults 0swaps\n",
      "samtools: /home/adrian/anaconda3/bin/../lib/libtinfow.so.6: no version information available (required by samtools)\n",
      "samtools: /home/adrian/anaconda3/bin/../lib/libncursesw.so.6: no version information available (required by samtools)\n",
      "samtools: /home/adrian/anaconda3/bin/../lib/libncursesw.so.6: no version information available (required by samtools)\n"
     ]
    },
    {
     "name": "stdout",
     "output_type": "stream",
     "text": [
      "time samtools fixmate -@ 20 -m /home/adrian/projects/reynisfjara/results/bam_genome_k243r/a4776_0h_1/namesort.bam /home/adrian/projects/reynisfjara/results/bam_genome_k243r/a4776_0h_1/fixmate.bam\n"
     ]
    },
    {
     "name": "stderr",
     "output_type": "stream",
     "text": [
      "453.14user 9.42system 0:33.79elapsed 1368%CPU (0avgtext+0avgdata 22740maxresident)k\n",
      "408inputs+11038368outputs (0major+5586minor)pagefaults 0swaps\n",
      "samtools: /home/adrian/anaconda3/bin/../lib/libtinfow.so.6: no version information available (required by samtools)\n",
      "samtools: /home/adrian/anaconda3/bin/../lib/libncursesw.so.6: no version information available (required by samtools)\n",
      "samtools: /home/adrian/anaconda3/bin/../lib/libncursesw.so.6: no version information available (required by samtools)\n"
     ]
    },
    {
     "name": "stdout",
     "output_type": "stream",
     "text": [
      "time samtools sort -@ 20 -o /home/adrian/projects/reynisfjara/results/bam_genome_k243r/a4776_0h_1/positionsort.bam /home/adrian/projects/reynisfjara/results/bam_genome_k243r/a4776_0h_1/fixmate.bam\n"
     ]
    },
    {
     "name": "stderr",
     "output_type": "stream",
     "text": [
      "[bam_sort_core] merging from 1 files and 20 in-memory blocks...\n",
      "501.12user 14.62system 0:45.78elapsed 1126%CPU (0avgtext+0avgdata 17718404maxresident)k\n",
      "352inputs+9431920outputs (0major+4533273minor)pagefaults 0swaps\n",
      "samtools: /home/adrian/anaconda3/bin/../lib/libtinfow.so.6: no version information available (required by samtools)\n",
      "samtools: /home/adrian/anaconda3/bin/../lib/libncursesw.so.6: no version information available (required by samtools)\n",
      "samtools: /home/adrian/anaconda3/bin/../lib/libncursesw.so.6: no version information available (required by samtools)\n"
     ]
    },
    {
     "name": "stdout",
     "output_type": "stream",
     "text": [
      "time samtools markdup -@ 20 -r /home/adrian/projects/reynisfjara/results/bam_genome_k243r/a4776_0h_1/positionsort.bam /home/adrian/projects/reynisfjara/results/bam_genome_k243r/a4776_0h_1/markdup.bam\n"
     ]
    },
    {
     "name": "stderr",
     "output_type": "stream",
     "text": [
      "226.45user 4.22system 0:43.36elapsed 531%CPU (0avgtext+0avgdata 310912maxresident)k\n",
      "128inputs+4038936outputs (0major+84126minor)pagefaults 0swaps\n",
      "samtools: /home/adrian/anaconda3/bin/../lib/libtinfow.so.6: no version information available (required by samtools)\n",
      "samtools: /home/adrian/anaconda3/bin/../lib/libncursesw.so.6: no version information available (required by samtools)\n",
      "samtools: /home/adrian/anaconda3/bin/../lib/libncursesw.so.6: no version information available (required by samtools)\n"
     ]
    },
    {
     "name": "stdout",
     "output_type": "stream",
     "text": [
      "time samtools sort -@ 20 -n -o /home/adrian/projects/reynisfjara/results/bam_genome_k243r/a4776_0h_2/namesort.bam /home/adrian/projects/reynisfjara/results/bam_genome_k243r/a4776_0h_2/a4776_0h_2.bam\n"
     ]
    },
    {
     "name": "stderr",
     "output_type": "stream",
     "text": [
      "[bam_sort_core] merging from 1 files and 20 in-memory blocks...\n",
      "933.83user 20.68system 1:08.91elapsed 1385%CPU (0avgtext+0avgdata 17779720maxresident)k\n",
      "12342664inputs+20659488outputs (0major+4592976minor)pagefaults 0swaps\n",
      "samtools: /home/adrian/anaconda3/bin/../lib/libtinfow.so.6: no version information available (required by samtools)\n",
      "samtools: /home/adrian/anaconda3/bin/../lib/libncursesw.so.6: no version information available (required by samtools)\n",
      "samtools: /home/adrian/anaconda3/bin/../lib/libncursesw.so.6: no version information available (required by samtools)\n"
     ]
    },
    {
     "name": "stdout",
     "output_type": "stream",
     "text": [
      "time samtools fixmate -@ 20 -m /home/adrian/projects/reynisfjara/results/bam_genome_k243r/a4776_0h_2/namesort.bam /home/adrian/projects/reynisfjara/results/bam_genome_k243r/a4776_0h_2/fixmate.bam\n"
     ]
    },
    {
     "name": "stderr",
     "output_type": "stream",
     "text": [
      "516.63user 10.55system 0:38.98elapsed 1352%CPU (0avgtext+0avgdata 23048maxresident)k\n",
      "472inputs+12731144outputs (0major+5599minor)pagefaults 0swaps\n",
      "samtools: /home/adrian/anaconda3/bin/../lib/libtinfow.so.6: no version information available (required by samtools)\n",
      "samtools: /home/adrian/anaconda3/bin/../lib/libncursesw.so.6: no version information available (required by samtools)\n",
      "samtools: /home/adrian/anaconda3/bin/../lib/libncursesw.so.6: no version information available (required by samtools)\n"
     ]
    },
    {
     "name": "stdout",
     "output_type": "stream",
     "text": [
      "time samtools sort -@ 20 -o /home/adrian/projects/reynisfjara/results/bam_genome_k243r/a4776_0h_2/positionsort.bam /home/adrian/projects/reynisfjara/results/bam_genome_k243r/a4776_0h_2/fixmate.bam\n"
     ]
    },
    {
     "name": "stderr",
     "output_type": "stream",
     "text": [
      "[bam_sort_core] merging from 1 files and 20 in-memory blocks...\n",
      "550.38user 16.80system 0:50.75elapsed 1117%CPU (0avgtext+0avgdata 17717908maxresident)k\n",
      "336inputs+9987856outputs (0major+4584904minor)pagefaults 0swaps\n",
      "samtools: /home/adrian/anaconda3/bin/../lib/libtinfow.so.6: no version information available (required by samtools)\n",
      "samtools: /home/adrian/anaconda3/bin/../lib/libncursesw.so.6: no version information available (required by samtools)\n",
      "samtools: /home/adrian/anaconda3/bin/../lib/libncursesw.so.6: no version information available (required by samtools)\n"
     ]
    },
    {
     "name": "stdout",
     "output_type": "stream",
     "text": [
      "time samtools markdup -@ 20 -r /home/adrian/projects/reynisfjara/results/bam_genome_k243r/a4776_0h_2/positionsort.bam /home/adrian/projects/reynisfjara/results/bam_genome_k243r/a4776_0h_2/markdup.bam\n"
     ]
    },
    {
     "name": "stderr",
     "output_type": "stream",
     "text": [
      "234.01user 4.62system 0:47.15elapsed 506%CPU (0avgtext+0avgdata 349956maxresident)k\n",
      "160inputs+4364848outputs (0major+96353minor)pagefaults 0swaps\n",
      "samtools: /home/adrian/anaconda3/bin/../lib/libtinfow.so.6: no version information available (required by samtools)\n",
      "samtools: /home/adrian/anaconda3/bin/../lib/libncursesw.so.6: no version information available (required by samtools)\n",
      "samtools: /home/adrian/anaconda3/bin/../lib/libncursesw.so.6: no version information available (required by samtools)\n"
     ]
    },
    {
     "name": "stdout",
     "output_type": "stream",
     "text": [
      "time samtools sort -@ 20 -n -o /home/adrian/projects/reynisfjara/results/bam_genome_k243r/a4776_0h_3/namesort.bam /home/adrian/projects/reynisfjara/results/bam_genome_k243r/a4776_0h_3/a4776_0h_3.bam\n"
     ]
    },
    {
     "name": "stderr",
     "output_type": "stream",
     "text": [
      "[bam_sort_core] merging from 1 files and 20 in-memory blocks...\n",
      "930.02user 20.60system 1:09.79elapsed 1362%CPU (0avgtext+0avgdata 17780520maxresident)k\n",
      "12263560inputs+20583672outputs (0major+4590927minor)pagefaults 0swaps\n",
      "samtools: /home/adrian/anaconda3/bin/../lib/libtinfow.so.6: no version information available (required by samtools)\n",
      "samtools: /home/adrian/anaconda3/bin/../lib/libncursesw.so.6: no version information available (required by samtools)\n",
      "samtools: /home/adrian/anaconda3/bin/../lib/libncursesw.so.6: no version information available (required by samtools)\n"
     ]
    },
    {
     "name": "stdout",
     "output_type": "stream",
     "text": [
      "time samtools fixmate -@ 20 -m /home/adrian/projects/reynisfjara/results/bam_genome_k243r/a4776_0h_3/namesort.bam /home/adrian/projects/reynisfjara/results/bam_genome_k243r/a4776_0h_3/fixmate.bam\n"
     ]
    },
    {
     "name": "stderr",
     "output_type": "stream",
     "text": [
      "520.64user 10.73system 0:38.89elapsed 1366%CPU (0avgtext+0avgdata 22920maxresident)k\n",
      "440inputs+12653192outputs (0major+5605minor)pagefaults 0swaps\n",
      "samtools: /home/adrian/anaconda3/bin/../lib/libtinfow.so.6: no version information available (required by samtools)\n",
      "samtools: /home/adrian/anaconda3/bin/../lib/libncursesw.so.6: no version information available (required by samtools)\n",
      "samtools: /home/adrian/anaconda3/bin/../lib/libncursesw.so.6: no version information available (required by samtools)\n"
     ]
    },
    {
     "name": "stdout",
     "output_type": "stream",
     "text": [
      "time samtools sort -@ 20 -o /home/adrian/projects/reynisfjara/results/bam_genome_k243r/a4776_0h_3/positionsort.bam /home/adrian/projects/reynisfjara/results/bam_genome_k243r/a4776_0h_3/fixmate.bam\n"
     ]
    },
    {
     "name": "stderr",
     "output_type": "stream",
     "text": [
      "[bam_sort_core] merging from 1 files and 20 in-memory blocks...\n",
      "550.07user 16.32system 0:51.63elapsed 1096%CPU (0avgtext+0avgdata 17718096maxresident)k\n",
      "352inputs+10032048outputs (0major+4582905minor)pagefaults 0swaps\n",
      "samtools: /home/adrian/anaconda3/bin/../lib/libtinfow.so.6: no version information available (required by samtools)\n",
      "samtools: /home/adrian/anaconda3/bin/../lib/libncursesw.so.6: no version information available (required by samtools)\n",
      "samtools: /home/adrian/anaconda3/bin/../lib/libncursesw.so.6: no version information available (required by samtools)\n"
     ]
    },
    {
     "name": "stdout",
     "output_type": "stream",
     "text": [
      "time samtools markdup -@ 20 -r /home/adrian/projects/reynisfjara/results/bam_genome_k243r/a4776_0h_3/positionsort.bam /home/adrian/projects/reynisfjara/results/bam_genome_k243r/a4776_0h_3/markdup.bam\n"
     ]
    },
    {
     "name": "stderr",
     "output_type": "stream",
     "text": [
      "237.47user 4.88system 0:46.24elapsed 524%CPU (0avgtext+0avgdata 351880maxresident)k\n",
      "152inputs+4363352outputs (0major+102220minor)pagefaults 0swaps\n",
      "samtools: /home/adrian/anaconda3/bin/../lib/libtinfow.so.6: no version information available (required by samtools)\n",
      "samtools: /home/adrian/anaconda3/bin/../lib/libncursesw.so.6: no version information available (required by samtools)\n",
      "samtools: /home/adrian/anaconda3/bin/../lib/libncursesw.so.6: no version information available (required by samtools)\n"
     ]
    },
    {
     "name": "stdout",
     "output_type": "stream",
     "text": [
      "time samtools sort -@ 20 -n -o /home/adrian/projects/reynisfjara/results/bam_genome_k243r/a4776_48h_1/namesort.bam /home/adrian/projects/reynisfjara/results/bam_genome_k243r/a4776_48h_1/a4776_48h_1.bam\n"
     ]
    },
    {
     "name": "stderr",
     "output_type": "stream",
     "text": [
      "[bam_sort_core] merging from 1 files and 20 in-memory blocks...\n",
      "Command terminated by signal 2\n",
      "672.96user 15.48system 0:55.79elapsed 1233%CPU (0avgtext+0avgdata 17781344maxresident)k\n",
      "14800704inputs+12892784outputs (0major+4669265minor)pagefaults 0swaps\n",
      "samtools: /home/adrian/anaconda3/bin/../lib/libtinfow.so.6: no version information available (required by samtools)\n",
      "samtools: /home/adrian/anaconda3/bin/../lib/libncursesw.so.6: no version information available (required by samtools)\n",
      "samtools: /home/adrian/anaconda3/bin/../lib/libncursesw.so.6: no version information available (required by samtools)\n",
      "[W::bam_hdr_read] EOF marker is absent. The input is probably truncated\n",
      "Command terminated by signal 2\n",
      "1.87user 0.03system 0:00.16elapsed 1143%CPU (0avgtext+0avgdata 24696maxresident)k\n",
      "0inputs+52888outputs (0major+5439minor)pagefaults 0swaps\n",
      "samtools: /home/adrian/anaconda3/bin/../lib/libtinfow.so.6: no version information available (required by samtools)\n",
      "samtools: /home/adrian/anaconda3/bin/../lib/libncursesw.so.6: no version information available (required by samtools)\n",
      "samtools: /home/adrian/anaconda3/bin/../lib/libncursesw.so.6: no version information available (required by samtools)\n",
      "[W::bam_hdr_read] EOF marker is absent. The input is probably truncated\n"
     ]
    },
    {
     "name": "stdout",
     "output_type": "stream",
     "text": [
      "time samtools fixmate -@ 20 -m /home/adrian/projects/reynisfjara/results/bam_genome_k243r/a4776_48h_1/namesort.bam /home/adrian/projects/reynisfjara/results/bam_genome_k243r/a4776_48h_1/fixmate.bam\n",
      "time samtools sort -@ 20 -o /home/adrian/projects/reynisfjara/results/bam_genome_k243r/a4776_48h_1/positionsort.bam /home/adrian/projects/reynisfjara/results/bam_genome_k243r/a4776_48h_1/fixmate.bam\n"
     ]
    },
    {
     "name": "stderr",
     "output_type": "stream",
     "text": [
      "[bam_sort_core] merging from 0 files and 20 in-memory blocks...\n",
      "Command terminated by signal 2\n",
      "1.58user 0.05system 0:00.18elapsed 888%CPU (0avgtext+0avgdata 137944maxresident)k\n",
      "0inputs+33384outputs (0major+35339minor)pagefaults 0swaps\n",
      "samtools: /home/adrian/anaconda3/bin/../lib/libtinfow.so.6: no version information available (required by samtools)\n",
      "samtools: /home/adrian/anaconda3/bin/../lib/libncursesw.so.6: no version information available (required by samtools)\n",
      "samtools: /home/adrian/anaconda3/bin/../lib/libncursesw.so.6: no version information available (required by samtools)\n",
      "[W::bam_hdr_read] EOF marker is absent. The input is probably truncated\n"
     ]
    },
    {
     "name": "stdout",
     "output_type": "stream",
     "text": [
      "time samtools markdup -@ 20 -r /home/adrian/projects/reynisfjara/results/bam_genome_k243r/a4776_48h_1/positionsort.bam /home/adrian/projects/reynisfjara/results/bam_genome_k243r/a4776_48h_1/markdup.bam\n",
      "time samtools sort -@ 20 -n -o /home/adrian/projects/reynisfjara/results/bam_genome_k243r/a4776_48h_2/namesort.bam /home/adrian/projects/reynisfjara/results/bam_genome_k243r/a4776_48h_2/a4776_48h_2.bam\n"
     ]
    },
    {
     "name": "stderr",
     "output_type": "stream",
     "text": [
      "[E::bgzf_read] Read block operation failed with error 4 after 0 of 4 bytes\n",
      "samtools markdup: error, truncated input file.\n",
      "\n",
      "Command terminated by signal 2\n",
      "1.36user 0.02system 0:00.17elapsed 808%CPU (0avgtext+0avgdata 23732maxresident)k\n",
      "0inputs+29592outputs (0major+5670minor)pagefaults 0swaps\n",
      "samtools: /home/adrian/anaconda3/bin/../lib/libtinfow.so.6: no version information available (required by samtools)\n",
      "samtools: /home/adrian/anaconda3/bin/../lib/libncursesw.so.6: no version information available (required by samtools)\n",
      "samtools: /home/adrian/anaconda3/bin/../lib/libncursesw.so.6: no version information available (required by samtools)\n",
      "Command terminated by signal 2\n",
      "0.35user 0.10system 0:00.21elapsed 217%CPU (0avgtext+0avgdata 249596maxresident)k\n",
      "119856inputs+0outputs (0major+61655minor)pagefaults 0swaps\n",
      "samtools: /home/adrian/anaconda3/bin/../lib/libtinfow.so.6: no version information available (required by samtools)\n",
      "samtools: /home/adrian/anaconda3/bin/../lib/libncursesw.so.6: no version information available (required by samtools)\n",
      "samtools: /home/adrian/anaconda3/bin/../lib/libncursesw.so.6: no version information available (required by samtools)\n",
      "[E::hts_open_format] Failed to open file \"/home/adrian/projects/reynisfjara/results/bam_genome_k243r/a4776_48h_2/namesort.bam\" : No such file or directory\n",
      "samtools fixmate: cannot open input file: No such file or directory\n",
      "Command exited with non-zero status 1\n",
      "0.00user 0.00system 0:00.00elapsed 96%CPU (0avgtext+0avgdata 3576maxresident)k\n",
      "0inputs+0outputs (1major+161minor)pagefaults 0swaps\n",
      "samtools: /home/adrian/anaconda3/bin/../lib/libtinfow.so.6: no version information available (required by samtools)\n",
      "samtools: /home/adrian/anaconda3/bin/../lib/libncursesw.so.6: no version information available (required by samtools)\n",
      "samtools: /home/adrian/anaconda3/bin/../lib/libncursesw.so.6: no version information available (required by samtools)\n",
      "[E::hts_open_format] Failed to open file \"/home/adrian/projects/reynisfjara/results/bam_genome_k243r/a4776_48h_2/fixmate.bam\" : No such file or directory\n",
      "samtools sort: can't open \"/home/adrian/projects/reynisfjara/results/bam_genome_k243r/a4776_48h_2/fixmate.bam\": No such file or directory\n",
      "Command exited with non-zero status 1\n",
      "0.00user 0.00system 0:00.00elapsed 93%CPU (0avgtext+0avgdata 3680maxresident)k\n",
      "0inputs+0outputs (0major+162minor)pagefaults 0swaps\n",
      "samtools: /home/adrian/anaconda3/bin/../lib/libtinfow.so.6: no version information available (required by samtools)\n",
      "samtools: /home/adrian/anaconda3/bin/../lib/libncursesw.so.6: no version information available (required by samtools)\n",
      "samtools: /home/adrian/anaconda3/bin/../lib/libncursesw.so.6: no version information available (required by samtools)\n",
      "[E::hts_open_format] Failed to open file \"/home/adrian/projects/reynisfjara/results/bam_genome_k243r/a4776_48h_2/positionsort.bam\" : No such file or directory\n",
      "samtools markdup: error, failed to open \"/home/adrian/projects/reynisfjara/results/bam_genome_k243r/a4776_48h_2/positionsort.bam\" for input: No such file or directory\n",
      "Command exited with non-zero status 1\n",
      "0.00user 0.00system 0:00.00elapsed 95%CPU (0avgtext+0avgdata 3500maxresident)k\n",
      "0inputs+0outputs (0major+160minor)pagefaults 0swaps\n",
      "samtools: /home/adrian/anaconda3/bin/../lib/libtinfow.so.6: no version information available (required by samtools)\n",
      "samtools: /home/adrian/anaconda3/bin/../lib/libncursesw.so.6: no version information available (required by samtools)\n",
      "samtools: /home/adrian/anaconda3/bin/../lib/libncursesw.so.6: no version information available (required by samtools)\n",
      "Command terminated by signal 2\n",
      "0.25user 0.11system 0:00.18elapsed 197%CPU (0avgtext+0avgdata 197312maxresident)k\n",
      "95280inputs+0outputs (0major+48569minor)pagefaults 0swaps\n",
      "samtools: /home/adrian/anaconda3/bin/../lib/libtinfow.so.6: no version information available (required by samtools)\n",
      "samtools: /home/adrian/anaconda3/bin/../lib/libncursesw.so.6: no version information available (required by samtools)\n",
      "samtools: /home/adrian/anaconda3/bin/../lib/libncursesw.so.6: no version information available (required by samtools)\n",
      "[E::hts_open_format] Failed to open file \"/home/adrian/projects/reynisfjara/results/bam_genome_k243r/a4776_48h_3/namesort.bam\" : No such file or directory\n",
      "samtools fixmate: cannot open input file: No such file or directory\n",
      "Command exited with non-zero status 1\n",
      "0.00user 0.00system 0:00.00elapsed 100%CPU (0avgtext+0avgdata 3516maxresident)k\n",
      "0inputs+0outputs (0major+160minor)pagefaults 0swaps\n",
      "samtools: /home/adrian/anaconda3/bin/../lib/libtinfow.so.6: no version information available (required by samtools)\n",
      "samtools: /home/adrian/anaconda3/bin/../lib/libncursesw.so.6: no version information available (required by samtools)\n",
      "samtools: /home/adrian/anaconda3/bin/../lib/libncursesw.so.6: no version information available (required by samtools)\n",
      "[E::hts_open_format] Failed to open file \"/home/adrian/projects/reynisfjara/results/bam_genome_k243r/a4776_48h_3/fixmate.bam\" : No such file or directory\n",
      "samtools sort: can't open \"/home/adrian/projects/reynisfjara/results/bam_genome_k243r/a4776_48h_3/fixmate.bam\": No such file or directory\n",
      "Command exited with non-zero status 1\n",
      "0.00user 0.00system 0:00.00elapsed 100%CPU (0avgtext+0avgdata 3776maxresident)k\n",
      "0inputs+0outputs (0major+166minor)pagefaults 0swaps\n",
      "samtools: /home/adrian/anaconda3/bin/../lib/libtinfow.so.6: no version information available (required by samtools)\n",
      "samtools: /home/adrian/anaconda3/bin/../lib/libncursesw.so.6: no version information available (required by samtools)\n",
      "samtools: /home/adrian/anaconda3/bin/../lib/libncursesw.so.6: no version information available (required by samtools)\n",
      "[E::hts_open_format] Failed to open file \"/home/adrian/projects/reynisfjara/results/bam_genome_k243r/a4776_48h_3/positionsort.bam\" : No such file or directory\n",
      "samtools markdup: error, failed to open \"/home/adrian/projects/reynisfjara/results/bam_genome_k243r/a4776_48h_3/positionsort.bam\" for input: No such file or directory\n",
      "Command exited with non-zero status 1\n",
      "0.00user 0.00system 0:00.00elapsed 0%CPU (0avgtext+0avgdata 3476maxresident)k\n",
      "0inputs+0outputs (0major+159minor)pagefaults 0swaps\n",
      "samtools: /home/adrian/anaconda3/bin/../lib/libtinfow.so.6: no version information available (required by samtools)\n",
      "samtools: /home/adrian/anaconda3/bin/../lib/libncursesw.so.6: no version information available (required by samtools)\n",
      "samtools: /home/adrian/anaconda3/bin/../lib/libncursesw.so.6: no version information available (required by samtools)\n"
     ]
    },
    {
     "name": "stdout",
     "output_type": "stream",
     "text": [
      "time samtools fixmate -@ 20 -m /home/adrian/projects/reynisfjara/results/bam_genome_k243r/a4776_48h_2/namesort.bam /home/adrian/projects/reynisfjara/results/bam_genome_k243r/a4776_48h_2/fixmate.bam\n",
      "time samtools sort -@ 20 -o /home/adrian/projects/reynisfjara/results/bam_genome_k243r/a4776_48h_2/positionsort.bam /home/adrian/projects/reynisfjara/results/bam_genome_k243r/a4776_48h_2/fixmate.bam\n",
      "time samtools markdup -@ 20 -r /home/adrian/projects/reynisfjara/results/bam_genome_k243r/a4776_48h_2/positionsort.bam /home/adrian/projects/reynisfjara/results/bam_genome_k243r/a4776_48h_2/markdup.bam\n",
      "time samtools sort -@ 20 -n -o /home/adrian/projects/reynisfjara/results/bam_genome_k243r/a4776_48h_3/namesort.bam /home/adrian/projects/reynisfjara/results/bam_genome_k243r/a4776_48h_3/a4776_48h_3.bam\n",
      "time samtools fixmate -@ 20 -m /home/adrian/projects/reynisfjara/results/bam_genome_k243r/a4776_48h_3/namesort.bam /home/adrian/projects/reynisfjara/results/bam_genome_k243r/a4776_48h_3/fixmate.bam\n",
      "time samtools sort -@ 20 -o /home/adrian/projects/reynisfjara/results/bam_genome_k243r/a4776_48h_3/positionsort.bam /home/adrian/projects/reynisfjara/results/bam_genome_k243r/a4776_48h_3/fixmate.bam\n",
      "time samtools markdup -@ 20 -r /home/adrian/projects/reynisfjara/results/bam_genome_k243r/a4776_48h_3/positionsort.bam /home/adrian/projects/reynisfjara/results/bam_genome_k243r/a4776_48h_3/markdup.bam\n",
      "time samtools sort -@ 20 -n -o /home/adrian/projects/reynisfjara/results/bam_genome_k243r/a4776_72h_1/namesort.bam /home/adrian/projects/reynisfjara/results/bam_genome_k243r/a4776_72h_1/a4776_72h_1.bam\n"
     ]
    },
    {
     "name": "stderr",
     "output_type": "stream",
     "text": [
      "Command terminated by signal 2\n",
      "0.37user 0.10system 0:00.22elapsed 211%CPU (0avgtext+0avgdata 244968maxresident)k\n",
      "115760inputs+0outputs (0major+60490minor)pagefaults 0swaps\n",
      "samtools: /home/adrian/anaconda3/bin/../lib/libtinfow.so.6: no version information available (required by samtools)\n",
      "samtools: /home/adrian/anaconda3/bin/../lib/libncursesw.so.6: no version information available (required by samtools)\n",
      "samtools: /home/adrian/anaconda3/bin/../lib/libncursesw.so.6: no version information available (required by samtools)\n",
      "[E::hts_open_format] Failed to open file \"/home/adrian/projects/reynisfjara/results/bam_genome_k243r/a4776_72h_1/namesort.bam\" : No such file or directory\n",
      "samtools fixmate: cannot open input file: No such file or directory\n",
      "Command exited with non-zero status 1\n",
      "0.00user 0.00system 0:00.00elapsed 100%CPU (0avgtext+0avgdata 3600maxresident)k\n",
      "0inputs+0outputs (0major+164minor)pagefaults 0swaps\n",
      "samtools: /home/adrian/anaconda3/bin/../lib/libtinfow.so.6: no version information available (required by samtools)\n",
      "samtools: /home/adrian/anaconda3/bin/../lib/libncursesw.so.6: no version information available (required by samtools)\n",
      "samtools: /home/adrian/anaconda3/bin/../lib/libncursesw.so.6: no version information available (required by samtools)\n",
      "[E::hts_open_format] Failed to open file \"/home/adrian/projects/reynisfjara/results/bam_genome_k243r/a4776_72h_1/fixmate.bam\" : No such file or directory\n",
      "samtools sort: can't open \"/home/adrian/projects/reynisfjara/results/bam_genome_k243r/a4776_72h_1/fixmate.bam\": No such file or directory\n",
      "Command exited with non-zero status 1\n",
      "0.00user 0.00system 0:00.00elapsed 100%CPU (0avgtext+0avgdata 3756maxresident)k\n",
      "0inputs+0outputs (0major+164minor)pagefaults 0swaps\n",
      "samtools: /home/adrian/anaconda3/bin/../lib/libtinfow.so.6: no version information available (required by samtools)\n",
      "samtools: /home/adrian/anaconda3/bin/../lib/libncursesw.so.6: no version information available (required by samtools)\n",
      "samtools: /home/adrian/anaconda3/bin/../lib/libncursesw.so.6: no version information available (required by samtools)\n",
      "[E::hts_open_format] Failed to open file \"/home/adrian/projects/reynisfjara/results/bam_genome_k243r/a4776_72h_1/positionsort.bam\" : No such file or directory\n",
      "samtools markdup: error, failed to open \"/home/adrian/projects/reynisfjara/results/bam_genome_k243r/a4776_72h_1/positionsort.bam\" for input: No such file or directory\n",
      "Command exited with non-zero status 1\n",
      "0.00user 0.00system 0:00.00elapsed 0%CPU (0avgtext+0avgdata 3476maxresident)k\n",
      "0inputs+0outputs (0major+159minor)pagefaults 0swaps\n",
      "samtools: /home/adrian/anaconda3/bin/../lib/libtinfow.so.6: no version information available (required by samtools)\n",
      "samtools: /home/adrian/anaconda3/bin/../lib/libncursesw.so.6: no version information available (required by samtools)\n",
      "samtools: /home/adrian/anaconda3/bin/../lib/libncursesw.so.6: no version information available (required by samtools)\n"
     ]
    },
    {
     "name": "stdout",
     "output_type": "stream",
     "text": [
      "time samtools fixmate -@ 20 -m /home/adrian/projects/reynisfjara/results/bam_genome_k243r/a4776_72h_1/namesort.bam /home/adrian/projects/reynisfjara/results/bam_genome_k243r/a4776_72h_1/fixmate.bam\n",
      "time samtools sort -@ 20 -o /home/adrian/projects/reynisfjara/results/bam_genome_k243r/a4776_72h_1/positionsort.bam /home/adrian/projects/reynisfjara/results/bam_genome_k243r/a4776_72h_1/fixmate.bam\n",
      "time samtools markdup -@ 20 -r /home/adrian/projects/reynisfjara/results/bam_genome_k243r/a4776_72h_1/positionsort.bam /home/adrian/projects/reynisfjara/results/bam_genome_k243r/a4776_72h_1/markdup.bam\n",
      "time samtools sort -@ 20 -n -o /home/adrian/projects/reynisfjara/results/bam_genome_k243r/a4776_72h_2/namesort.bam /home/adrian/projects/reynisfjara/results/bam_genome_k243r/a4776_72h_2/a4776_72h_2.bam\n"
     ]
    },
    {
     "name": "stderr",
     "output_type": "stream",
     "text": [
      "Command terminated by signal 2\n",
      "4.99user 1.37system 0:02.51elapsed 253%CPU (0avgtext+0avgdata 3358632maxresident)k\n",
      "1596464inputs+0outputs (0major+838880minor)pagefaults 0swaps\n",
      "samtools: /home/adrian/anaconda3/bin/../lib/libtinfow.so.6: no version information available (required by samtools)\n",
      "samtools: /home/adrian/anaconda3/bin/../lib/libncursesw.so.6: no version information available (required by samtools)\n",
      "samtools: /home/adrian/anaconda3/bin/../lib/libncursesw.so.6: no version information available (required by samtools)\n",
      "[E::hts_open_format] Failed to open file \"/home/adrian/projects/reynisfjara/results/bam_genome_k243r/a4776_72h_2/namesort.bam\" : No such file or directory\n",
      "samtools fixmate: cannot open input file: No such file or directory\n",
      "Command exited with non-zero status 1\n",
      "0.00user 0.00system 0:00.00elapsed 89%CPU (0avgtext+0avgdata 3564maxresident)k\n",
      "0inputs+0outputs (0major+161minor)pagefaults 0swaps\n",
      "samtools: /home/adrian/anaconda3/bin/../lib/libtinfow.so.6: no version information available (required by samtools)\n",
      "samtools: /home/adrian/anaconda3/bin/../lib/libncursesw.so.6: no version information available (required by samtools)\n",
      "samtools: /home/adrian/anaconda3/bin/../lib/libncursesw.so.6: no version information available (required by samtools)\n",
      "[E::hts_open_format] Failed to open file \"/home/adrian/projects/reynisfjara/results/bam_genome_k243r/a4776_72h_2/fixmate.bam\" : No such file or directory\n",
      "samtools sort: can't open \"/home/adrian/projects/reynisfjara/results/bam_genome_k243r/a4776_72h_2/fixmate.bam\": No such file or directory\n",
      "Command exited with non-zero status 1\n",
      "0.00user 0.00system 0:00.00elapsed 92%CPU (0avgtext+0avgdata 3716maxresident)k\n",
      "0inputs+0outputs (0major+164minor)pagefaults 0swaps\n",
      "samtools: /home/adrian/anaconda3/bin/../lib/libtinfow.so.6: no version information available (required by samtools)\n",
      "samtools: /home/adrian/anaconda3/bin/../lib/libncursesw.so.6: no version information available (required by samtools)\n",
      "samtools: /home/adrian/anaconda3/bin/../lib/libncursesw.so.6: no version information available (required by samtools)\n",
      "[E::hts_open_format] Failed to open file \"/home/adrian/projects/reynisfjara/results/bam_genome_k243r/a4776_72h_2/positionsort.bam\" : No such file or directory\n",
      "samtools markdup: error, failed to open \"/home/adrian/projects/reynisfjara/results/bam_genome_k243r/a4776_72h_2/positionsort.bam\" for input: No such file or directory\n",
      "Command exited with non-zero status 1\n",
      "0.00user 0.00system 0:00.00elapsed 91%CPU (0avgtext+0avgdata 3508maxresident)k\n",
      "0inputs+0outputs (0major+161minor)pagefaults 0swaps\n",
      "samtools: /home/adrian/anaconda3/bin/../lib/libtinfow.so.6: no version information available (required by samtools)\n",
      "samtools: /home/adrian/anaconda3/bin/../lib/libncursesw.so.6: no version information available (required by samtools)\n",
      "samtools: /home/adrian/anaconda3/bin/../lib/libncursesw.so.6: no version information available (required by samtools)\n",
      "Command terminated by signal 2\n",
      "0.12user 0.01system 0:00.07elapsed 189%CPU (0avgtext+0avgdata 94592maxresident)k\n",
      "46128inputs+0outputs (0major+22896minor)pagefaults 0swaps\n",
      "samtools: /home/adrian/anaconda3/bin/../lib/libtinfow.so.6: no version information available (required by samtools)\n",
      "samtools: /home/adrian/anaconda3/bin/../lib/libncursesw.so.6: no version information available (required by samtools)\n",
      "samtools: /home/adrian/anaconda3/bin/../lib/libncursesw.so.6: no version information available (required by samtools)\n",
      "[E::hts_open_format] Failed to open file \"/home/adrian/projects/reynisfjara/results/bam_genome_k243r/a4776_72h_3/namesort.bam\" : No such file or directory\n",
      "samtools fixmate: cannot open input file: No such file or directory\n",
      "Command exited with non-zero status 1\n",
      "0.00user 0.00system 0:00.00elapsed 96%CPU (0avgtext+0avgdata 3540maxresident)k\n",
      "0inputs+0outputs (0major+162minor)pagefaults 0swaps\n",
      "samtools: /home/adrian/anaconda3/bin/../lib/libtinfow.so.6: no version information available (required by samtools)\n",
      "samtools: /home/adrian/anaconda3/bin/../lib/libncursesw.so.6: no version information available (required by samtools)\n",
      "samtools: /home/adrian/anaconda3/bin/../lib/libncursesw.so.6: no version information available (required by samtools)\n",
      "[E::hts_open_format] Failed to open file \"/home/adrian/projects/reynisfjara/results/bam_genome_k243r/a4776_72h_3/fixmate.bam\" : No such file or directory\n",
      "samtools sort: can't open \"/home/adrian/projects/reynisfjara/results/bam_genome_k243r/a4776_72h_3/fixmate.bam\": No such file or directory\n",
      "Command exited with non-zero status 1\n",
      "0.00user 0.00system 0:00.00elapsed 95%CPU (0avgtext+0avgdata 3620maxresident)k\n",
      "0inputs+0outputs (0major+163minor)pagefaults 0swaps\n",
      "samtools: /home/adrian/anaconda3/bin/../lib/libtinfow.so.6: no version information available (required by samtools)\n",
      "samtools: /home/adrian/anaconda3/bin/../lib/libncursesw.so.6: no version information available (required by samtools)\n",
      "samtools: /home/adrian/anaconda3/bin/../lib/libncursesw.so.6: no version information available (required by samtools)\n",
      "[E::hts_open_format] Failed to open file \"/home/adrian/projects/reynisfjara/results/bam_genome_k243r/a4776_72h_3/positionsort.bam\" : No such file or directory\n",
      "samtools markdup: error, failed to open \"/home/adrian/projects/reynisfjara/results/bam_genome_k243r/a4776_72h_3/positionsort.bam\" for input: No such file or directory\n",
      "Command exited with non-zero status 1\n",
      "0.00user 0.00system 0:00.00elapsed 95%CPU (0avgtext+0avgdata 3532maxresident)k\n",
      "0inputs+0outputs (0major+161minor)pagefaults 0swaps\n"
     ]
    },
    {
     "name": "stdout",
     "output_type": "stream",
     "text": [
      "time samtools fixmate -@ 20 -m /home/adrian/projects/reynisfjara/results/bam_genome_k243r/a4776_72h_2/namesort.bam /home/adrian/projects/reynisfjara/results/bam_genome_k243r/a4776_72h_2/fixmate.bam\n",
      "time samtools sort -@ 20 -o /home/adrian/projects/reynisfjara/results/bam_genome_k243r/a4776_72h_2/positionsort.bam /home/adrian/projects/reynisfjara/results/bam_genome_k243r/a4776_72h_2/fixmate.bam\n",
      "time samtools markdup -@ 20 -r /home/adrian/projects/reynisfjara/results/bam_genome_k243r/a4776_72h_2/positionsort.bam /home/adrian/projects/reynisfjara/results/bam_genome_k243r/a4776_72h_2/markdup.bam\n",
      "time samtools sort -@ 20 -n -o /home/adrian/projects/reynisfjara/results/bam_genome_k243r/a4776_72h_3/namesort.bam /home/adrian/projects/reynisfjara/results/bam_genome_k243r/a4776_72h_3/a4776_72h_3.bam\n",
      "time samtools fixmate -@ 20 -m /home/adrian/projects/reynisfjara/results/bam_genome_k243r/a4776_72h_3/namesort.bam /home/adrian/projects/reynisfjara/results/bam_genome_k243r/a4776_72h_3/fixmate.bam\n",
      "time samtools sort -@ 20 -o /home/adrian/projects/reynisfjara/results/bam_genome_k243r/a4776_72h_3/positionsort.bam /home/adrian/projects/reynisfjara/results/bam_genome_k243r/a4776_72h_3/fixmate.bam\n",
      "time samtools markdup -@ 20 -r /home/adrian/projects/reynisfjara/results/bam_genome_k243r/a4776_72h_3/positionsort.bam /home/adrian/projects/reynisfjara/results/bam_genome_k243r/a4776_72h_3/markdup.bam\n"
     ]
    }
   ],
   "source": [
    "for label in bam_folders:\n",
    "    \n",
    "    bam_folder_path = bam_top_folder + label\n",
    "    \n",
    "    cmd1 = 'time samtools sort -@ 20 -n -o {}/namesort.bam {}/{}.bam'.format(bam_folder_path, bam_folder_path, label)\n",
    "    cmd2 = 'time samtools fixmate -@ 20 -m {}/namesort.bam {}/fixmate.bam'.format(bam_folder_path, bam_folder_path)\n",
    "    cmd3 = 'time samtools sort -@ 20 -o {}/positionsort.bam {}/fixmate.bam'.format(bam_folder_path, bam_folder_path)\n",
    "    cmd4 = 'time samtools markdup -@ 20 -r {}/positionsort.bam {}/markdup.bam'.format(bam_folder_path, bam_folder_path)\n",
    "    \n",
    "    print(cmd1)\n",
    "    os.system(cmd1)\n",
    "    print(cmd2)\n",
    "    os.system(cmd2)\n",
    "    print(cmd3)\n",
    "    os.system(cmd3)\n",
    "    print(cmd4)\n",
    "    os.system(cmd4)"
   ]
  }
 ],
 "metadata": {
  "kernelspec": {
   "display_name": "Python 3 (ipykernel)",
   "language": "python",
   "name": "python3"
  },
  "language_info": {
   "codemirror_mode": {
    "name": "ipython",
    "version": 3
   },
   "file_extension": ".py",
   "mimetype": "text/x-python",
   "name": "python",
   "nbconvert_exporter": "python",
   "pygments_lexer": "ipython3",
   "version": "3.9.16"
  }
 },
 "nbformat": 4,
 "nbformat_minor": 5
}
