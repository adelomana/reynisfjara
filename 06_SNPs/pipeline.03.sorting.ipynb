{
 "cells": [
  {
   "cell_type": "markdown",
   "id": "c258315b",
   "metadata": {},
   "source": [
    "This pipeline step sorts and mark duplicates on sample-specific BAM files."
   ]
  },
  {
   "cell_type": "code",
   "execution_count": 1,
   "id": "b908c049",
   "metadata": {},
   "outputs": [],
   "source": [
    "import os\n",
    "import multiprocessing, multiprocessing.pool"
   ]
  },
  {
   "cell_type": "markdown",
   "id": "560870ea",
   "metadata": {},
   "source": [
    "# user-defined variables"
   ]
  },
  {
   "cell_type": "code",
   "execution_count": 2,
   "id": "a47aaf1a",
   "metadata": {},
   "outputs": [],
   "source": [
    "bam_top_aggregated = '/home/adrian/projects/reynisfjara/data/aggregated_bam/'"
   ]
  },
  {
   "cell_type": "code",
   "execution_count": 3,
   "id": "2ca2a8b0",
   "metadata": {},
   "outputs": [],
   "source": [
    "threads = 12"
   ]
  },
  {
   "cell_type": "markdown",
   "id": "1d70fecc",
   "metadata": {},
   "source": [
    "# define function"
   ]
  },
  {
   "cell_type": "code",
   "execution_count": 4,
   "id": "71db4484",
   "metadata": {},
   "outputs": [],
   "source": [
    "def sorter(sample):\n",
    "    \n",
    "    command = 'time sambamba sort {}{}'.format(bam_top_aggregated, sample)\n",
    "    \n",
    "    print(command)\n",
    "    print()\n",
    "    \n",
    "    os.system(command)\n",
    "    \n",
    "    return None"
   ]
  },
  {
   "cell_type": "markdown",
   "id": "c99a9a53",
   "metadata": {},
   "source": [
    "# read data"
   ]
  },
  {
   "cell_type": "code",
   "execution_count": 5,
   "id": "fe999a5c",
   "metadata": {},
   "outputs": [],
   "source": [
    "bam_files = os.listdir(bam_top_aggregated)\n",
    "bam_files.sort()"
   ]
  },
  {
   "cell_type": "code",
   "execution_count": 6,
   "id": "808c3f3d",
   "metadata": {},
   "outputs": [
    {
     "data": {
      "text/plain": [
       "['a3922_0h.bam',\n",
       " 'a3922_48h.bam',\n",
       " 'a3922_72h.bam',\n",
       " 'a4774_0h.bam',\n",
       " 'a4774_48h.bam',\n",
       " 'a4774_72h.bam',\n",
       " 'a4775_0h.bam',\n",
       " 'a4775_48h.bam',\n",
       " 'a4775_72h.bam',\n",
       " 'a4776_0h.bam',\n",
       " 'a4776_48h.bam',\n",
       " 'a4776_72h.bam']"
      ]
     },
     "execution_count": 6,
     "metadata": {},
     "output_type": "execute_result"
    }
   ],
   "source": [
    "bam_files"
   ]
  },
  {
   "cell_type": "markdown",
   "id": "0e7d06ae",
   "metadata": {},
   "source": [
    "# single thread"
   ]
  },
  {
   "cell_type": "code",
   "execution_count": null,
   "id": "8831b6d0",
   "metadata": {},
   "outputs": [
    {
     "name": "stdout",
     "output_type": "stream",
     "text": [
      "time sambamba sort /home/adrian/projects/reynisfjara/data/aggregated_bam/a3922_0h.bam\n",
      "\n"
     ]
    }
   ],
   "source": [
    "for sample in bam_files:\n",
    "    sorter(sample)"
   ]
  },
  {
   "cell_type": "code",
   "execution_count": null,
   "id": "abbefd42",
   "metadata": {},
   "outputs": [],
   "source": []
  }
 ],
 "metadata": {
  "kernelspec": {
   "display_name": "Python 3 (ipykernel)",
   "language": "python",
   "name": "python3"
  },
  "language_info": {
   "codemirror_mode": {
    "name": "ipython",
    "version": 3
   },
   "file_extension": ".py",
   "mimetype": "text/x-python",
   "name": "python",
   "nbconvert_exporter": "python",
   "pygments_lexer": "ipython3",
   "version": "3.9.16"
  }
 },
 "nbformat": 4,
 "nbformat_minor": 5
}
