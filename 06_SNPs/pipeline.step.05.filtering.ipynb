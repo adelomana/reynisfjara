{
 "cells": [
  {
   "cell_type": "code",
   "execution_count": 1,
   "id": "f3b89430-25ed-42ab-96a8-71cb504ef2a2",
   "metadata": {},
   "outputs": [],
   "source": [
    "import os, pandas"
   ]
  },
  {
   "cell_type": "markdown",
   "id": "a57798f0-9c82-4a91-a166-3c859a669e62",
   "metadata": {},
   "source": [
    "# 0. user-defined variables"
   ]
  },
  {
   "cell_type": "code",
   "execution_count": 2,
   "id": "e5ea0ae1-fc11-4749-a240-2a4b72f98244",
   "metadata": {},
   "outputs": [],
   "source": [
    "# *28 seems to be Mitf-m\n",
    "FOI = ['ENSMUST00000203884.3', 'ENSMUST00000043637.14', 'ENSMUST00000101123.10', 'ENSMUST00000113339.8', 'ENSMUST00000043628.13', 'ENSMUST00000203938.2']"
   ]
  },
  {
   "cell_type": "code",
   "execution_count": 3,
   "id": "473f5236-fbe8-48c3-b023-0e3788c59156",
   "metadata": {},
   "outputs": [],
   "source": [
    "input_folder = '/home/adrian/projects/reynisfjara/results/vcf/run02/'"
   ]
  },
  {
   "cell_type": "markdown",
   "id": "538f7eaa-3ab7-41e2-bb47-d0834e07bf53",
   "metadata": {},
   "source": [
    "# 1. read data"
   ]
  },
  {
   "cell_type": "code",
   "execution_count": 4,
   "id": "c6045f50-c5b8-4914-b0dc-ec88b6be2254",
   "metadata": {},
   "outputs": [
    {
     "name": "stdout",
     "output_type": "stream",
     "text": [
      "['a3922_0h.vcf', 'a3922_48h.vcf', 'a3922_72h.vcf', 'a4774_0h.vcf', 'a4774_48h.vcf', 'a4774_72h.vcf', 'a4775_0h.vcf', 'a4775_48h.vcf', 'a4775_72h.vcf', 'a4776_0h.vcf', 'a4776_48h.vcf', 'a4776_72h.vcf']\n"
     ]
    }
   ],
   "source": [
    "files = os.listdir(input_folder)\n",
    "vcf_files = [element for element in files if 'vcf' in element]\n",
    "vcf_files.sort()\n",
    "print(vcf_files)"
   ]
  },
  {
   "cell_type": "markdown",
   "id": "bcbf732d-449d-440a-b849-de61d100302a",
   "metadata": {},
   "source": [
    "# 2. filter"
   ]
  },
  {
   "cell_type": "code",
   "execution_count": 5,
   "id": "1730bdd5-afe8-43b0-ba85-07f3582a51b1",
   "metadata": {},
   "outputs": [
    {
     "name": "stdout",
     "output_type": "stream",
     "text": [
      "a3922_0h.vcf\n",
      "ENSMUST00000043637.14 2600 C A  =>  3215 3017 182 || 92699 2163\n",
      "ENSMUST00000043637.14 3941 T G  =>  908 793 65 || 25309 934\n",
      "ENSMUST00000043628.13 2 C T  =>  186 175 11 || 6337 407\n",
      "ENSMUST00000043628.13 473 A G  =>  118 110 7 || 4020 247\n",
      "\n",
      "a3922_48h.vcf\n",
      "ENSMUST00000043637.14 3941 T G  =>  435 393 30 || 12261 401\n",
      "\n",
      "a3922_72h.vcf\n",
      "ENSMUST00000203884.3 954 C T  =>  38 36 2 || 1308 48\n",
      "ENSMUST00000203884.3 956 T G  =>  38 36 2 || 1296 22\n",
      "ENSMUST00000043637.14 2600 C A  =>  1910 1788 111 || 55922 1412\n",
      "ENSMUST00000043637.14 3941 T G  =>  513 461 34 || 14479 472\n",
      "ENSMUST00000043637.14 4859 T C  =>  371 337 19 || 12269 703\n",
      "ENSMUST00000203938.2 153 G A  =>  31 29 2 || 1073 74\n",
      "\n",
      "a4774_0h.vcf\n",
      "ENSMUST00000203884.3 1046 A G  =>  35 32 3 || 1172 111\n",
      "ENSMUST00000043637.14 4861 A T  =>  37 34 2 || 1258 74\n",
      "ENSMUST00000043628.13 2 C T  =>  285 264 21 || 9656 777\n",
      "ENSMUST00000043628.13 564 A G  =>  27 25 2 || 913 74\n",
      "\n",
      "a4774_48h.vcf\n",
      "ENSMUST00000203884.3 195 C A  =>  40 38 2 || 1344 74\n",
      "ENSMUST00000043637.14 3941 T G  =>  844 769 44 || 24439 535\n",
      "\n",
      "a4774_72h.vcf\n",
      "ENSMUST00000203884.3 684 G T  =>  41 38 3 || 1406 111\n",
      "ENSMUST00000203884.3 1042 A G  =>  27 25 2 || 925 74\n",
      "ENSMUST00000043637.14 2600 C A  =>  3270 3074 178 || 95446 2133\n",
      "ENSMUST00000043637.14 3941 T G  =>  915 822 65 || 25312 842\n",
      "ENSMUST00000043637.14 4859 T C  =>  586 538 30 || 19208 1072\n",
      "\n",
      "a4775_0h.vcf\n",
      "ENSMUST00000203884.3 1046 A G  =>  39 37 2 || 1345 74\n",
      "ENSMUST00000043637.14 3941 T G  =>  35 33 2 || 1071 22\n",
      "ENSMUST00000043628.13 2 C T  =>  361 340 19 || 12482 703\n",
      "\n",
      "a4775_48h.vcf\n",
      "ENSMUST00000203884.3 1046 A G  =>  35 33 2 || 1197 74\n",
      "ENSMUST00000043637.14 3941 T G  =>  832 765 43 || 24475 585\n",
      "ENSMUST00000043637.14 4859 T C  =>  513 463 32 || 16761 1158\n",
      "\n",
      "a4775_72h.vcf\n",
      "ENSMUST00000203884.3 884 T G  =>  35 33 2 || 1173 22\n",
      "ENSMUST00000043637.14 2600 C A  =>  4309 4056 229 || 126298 2765\n",
      "ENSMUST00000043637.14 3941 T G  =>  1270 1146 79 || 35802 1036\n",
      "ENSMUST00000043628.13 2 C T  =>  374 350 24 || 12750 876\n",
      "\n",
      "a4776_0h.vcf\n",
      "ENSMUST00000043637.14 3878 T A  =>  115 107 8 || 3923 296\n",
      "ENSMUST00000043637.14 3910 T A  =>  28 26 2 || 836 74\n",
      "ENSMUST00000043637.14 4859 T C  =>  27 23 3 || 827 111\n",
      "ENSMUST00000203938.2 280 G A  =>  32 29 2 || 1061 48\n",
      "ENSMUST00000203938.2 302 T A  =>  25 23 2 || 839 62\n",
      "\n",
      "a4776_48h.vcf\n",
      "ENSMUST00000203884.3 1048 A G  =>  57 53 3 || 1911 111\n",
      "ENSMUST00000043637.14 2600 C A  =>  6240 5865 328 || 181393 4047\n",
      "ENSMUST00000043637.14 3941 T G  =>  1774 1626 94 || 51424 1307\n",
      "ENSMUST00000043628.13 550 G A  =>  42 39 3 || 1381 111\n",
      "\n",
      "a4776_72h.vcf\n",
      "ENSMUST00000203884.3 1046 A G  =>  61 55 6 || 2009 222\n",
      "ENSMUST00000203884.3 1047 G T  =>  50 47 3 || 1715 33\n",
      "ENSMUST00000043637.14 3941 T G  =>  1760 1584 103 || 50036 1332\n",
      "\n"
     ]
    }
   ],
   "source": [
    "for vcf in vcf_files:\n",
    "    path = input_folder + vcf\n",
    "    print(vcf)\n",
    "    \n",
    "    with open(path, 'r') as f:\n",
    "        for line in f:\n",
    "            v = line.split('\\t')\n",
    "            if len(v) == 10:\n",
    "                if v[0] in FOI:\n",
    "                    \n",
    "                    locus_name = v[0]\n",
    "                    position = v[1]\n",
    "                    reference = v[3]\n",
    "                    alternative = v[4]\n",
    "                    \n",
    "                    info = v[-1]\n",
    "                    detailed_info = info.split(':')\n",
    "                    combined_depth = detailed_info[1]\n",
    "                    observed_reference = detailed_info[3]\n",
    "                    observed_alternative = detailed_info[5]\n",
    "                    quality_reference = detailed_info[4]\n",
    "                    quality_alternative = detailed_info[6]                    \n",
    "                    \n",
    "                    # a good reference for VCF fields: https://bioinformatics-core-shared-training.github.io/cruk-summer-school-2017/Day2/vcf-intro.nb.html\n",
    "                    # and also https://samtools.github.io/hts-specs/VCFv4.3.pdf\n",
    "                    \n",
    "                    if len(reference) == 1:\n",
    "                    \n",
    "                        # GL\n",
    "                        a = float(detailed_info[-1].split(',')[0])\n",
    "                        b = float(detailed_info[-1].split(',')[1])\n",
    "                        c = float(detailed_info[-1].split(',')[2])\n",
    "                        likelihoods = [a, b, c]\n",
    "                                          \n",
    "                        print(locus_name, position, reference, alternative, ' => ', combined_depth, observed_reference, observed_alternative, '||', quality_reference, quality_alternative)\n",
    "                    \n",
    "    print()"
   ]
  },
  {
   "cell_type": "code",
   "execution_count": null,
   "id": "c3632c7d-8087-4222-bdc6-3853b1b1b391",
   "metadata": {},
   "outputs": [],
   "source": []
  }
 ],
 "metadata": {
  "kernelspec": {
   "display_name": "Python 3 (ipykernel)",
   "language": "python",
   "name": "python3"
  },
  "language_info": {
   "codemirror_mode": {
    "name": "ipython",
    "version": 3
   },
   "file_extension": ".py",
   "mimetype": "text/x-python",
   "name": "python",
   "nbconvert_exporter": "python",
   "pygments_lexer": "ipython3",
   "version": "3.9.16"
  }
 },
 "nbformat": 4,
 "nbformat_minor": 5
}
