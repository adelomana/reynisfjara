{
 "cells": [
  {
   "cell_type": "code",
   "execution_count": 1,
   "id": "f3b89430-25ed-42ab-96a8-71cb504ef2a2",
   "metadata": {},
   "outputs": [],
   "source": [
    "import os, pandas"
   ]
  },
  {
   "cell_type": "markdown",
   "id": "a57798f0-9c82-4a91-a166-3c859a669e62",
   "metadata": {},
   "source": [
    "# 0. user-defined variables"
   ]
  },
  {
   "cell_type": "code",
   "execution_count": 2,
   "id": "e5ea0ae1-fc11-4749-a240-2a4b72f98244",
   "metadata": {},
   "outputs": [],
   "source": [
    "# *28 seems to be Mitf-m\n",
    "FOI = ['ENSMUST00000203884.3', 'ENSMUST00000043637.14', 'ENSMUST00000101123.10', 'ENSMUST00000113339.8', 'ENSMUST00000043628.13', 'ENSMUST00000203938.2']"
   ]
  },
  {
   "cell_type": "code",
   "execution_count": 3,
   "id": "473f5236-fbe8-48c3-b023-0e3788c59156",
   "metadata": {},
   "outputs": [],
   "source": [
    "input_folder = '/home/adrian/projects/reynisfjara/results/vcf/run03/'"
   ]
  },
  {
   "cell_type": "markdown",
   "id": "538f7eaa-3ab7-41e2-bb47-d0834e07bf53",
   "metadata": {},
   "source": [
    "# 1. read data"
   ]
  },
  {
   "cell_type": "code",
   "execution_count": 4,
   "id": "c6045f50-c5b8-4914-b0dc-ec88b6be2254",
   "metadata": {},
   "outputs": [
    {
     "name": "stdout",
     "output_type": "stream",
     "text": [
      "['a3922_0h.bam.vcf', 'a3922_48h.bam.vcf', 'a3922_72h.bam.vcf', 'a4774_0h.bam.vcf', 'a4774_48h.bam.vcf', 'a4774_72h.bam.vcf', 'a4775_0h.bam.vcf', 'a4775_48h.bam.vcf', 'a4775_72h.bam.vcf', 'a4776_0h.bam.vcf', 'a4776_48h.bam.vcf', 'a4776_72h.bam.vcf']\n"
     ]
    }
   ],
   "source": [
    "files = os.listdir(input_folder)\n",
    "vcf_files = [element for element in files if 'vcf' in element]\n",
    "vcf_files.sort()\n",
    "print(vcf_files)"
   ]
  },
  {
   "cell_type": "markdown",
   "id": "bcbf732d-449d-440a-b849-de61d100302a",
   "metadata": {},
   "source": [
    "# 2. filter"
   ]
  },
  {
   "cell_type": "code",
   "execution_count": 5,
   "id": "1730bdd5-afe8-43b0-ba85-07f3582a51b1",
   "metadata": {},
   "outputs": [
    {
     "name": "stdout",
     "output_type": "stream",
     "text": [
      "a3922_0h.bam.vcf\n",
      "\n",
      "a3922_48h.bam.vcf\n",
      "\n",
      "a3922_72h.bam.vcf\n",
      "ENSMUST00000043637.14 4859 T C  =>  245 223 13 || 8155 481\n",
      "\n",
      "a4774_0h.bam.vcf\n",
      "\n",
      "a4774_48h.bam.vcf\n",
      "\n",
      "a4774_72h.bam.vcf\n",
      "\n",
      "a4775_0h.bam.vcf\n",
      "\n",
      "a4775_48h.bam.vcf\n",
      "ENSMUST00000043637.14 4859 T C  =>  353 322 19 || 11758 703\n",
      "\n",
      "a4775_72h.bam.vcf\n",
      "ENSMUST00000043628.13 2 C T  =>  176 167 9 || 6155 333\n",
      "\n",
      "a4776_0h.bam.vcf\n",
      "ENSMUST00000043637.14 3878 T A  =>  87 81 6 || 2961 222\n",
      "ENSMUST00000043628.13 2 C T  =>  168 159 9 || 5871 333\n",
      "\n",
      "a4776_48h.bam.vcf\n",
      "ENSMUST00000203884.3 1048 A G  =>  35 31 3 || 1135 111\n",
      "\n",
      "a4776_72h.bam.vcf\n",
      "ENSMUST00000203884.3 1046 A G  =>  28 26 2 || 962 74\n",
      "\n"
     ]
    }
   ],
   "source": [
    "for vcf in vcf_files:\n",
    "    path = input_folder + vcf\n",
    "    print(vcf)\n",
    "    \n",
    "    with open(path, 'r') as f:\n",
    "        for line in f:\n",
    "            v = line.split('\\t')\n",
    "            if len(v) == 10:\n",
    "                if v[0] in FOI:\n",
    "                    \n",
    "                    locus_name = v[0]\n",
    "                    position = v[1]\n",
    "                    reference = v[3]\n",
    "                    alternative = v[4]\n",
    "                    \n",
    "                    info = v[-1]\n",
    "                    detailed_info = info.split(':')\n",
    "                    combined_depth = detailed_info[1]\n",
    "                    observed_reference = detailed_info[3]\n",
    "                    observed_alternative = detailed_info[5]\n",
    "                    quality_reference = detailed_info[4]\n",
    "                    quality_alternative = detailed_info[6]                    \n",
    "                    \n",
    "                    # a good reference for VCF fields: https://bioinformatics-core-shared-training.github.io/cruk-summer-school-2017/Day2/vcf-intro.nb.html\n",
    "                    # and also https://samtools.github.io/hts-specs/VCFv4.3.pdf\n",
    "                    \n",
    "                    if len(reference) == 1:\n",
    "                    \n",
    "                        # GL\n",
    "                        a = float(detailed_info[-1].split(',')[0])\n",
    "                        b = float(detailed_info[-1].split(',')[1])\n",
    "                        c = float(detailed_info[-1].split(',')[2])\n",
    "                        likelihoods = [a, b, c]\n",
    "                                          \n",
    "                        print(locus_name, position, reference, alternative, ' => ', combined_depth, observed_reference, observed_alternative, '||', quality_reference, quality_alternative)\n",
    "                    \n",
    "    print()"
   ]
  },
  {
   "cell_type": "code",
   "execution_count": null,
   "id": "c3632c7d-8087-4222-bdc6-3853b1b1b391",
   "metadata": {},
   "outputs": [],
   "source": []
  }
 ],
 "metadata": {
  "kernelspec": {
   "display_name": "Python 3 (ipykernel)",
   "language": "python",
   "name": "python3"
  },
  "language_info": {
   "codemirror_mode": {
    "name": "ipython",
    "version": 3
   },
   "file_extension": ".py",
   "mimetype": "text/x-python",
   "name": "python",
   "nbconvert_exporter": "python",
   "pygments_lexer": "ipython3",
   "version": "3.9.16"
  }
 },
 "nbformat": 4,
 "nbformat_minor": 5
}
