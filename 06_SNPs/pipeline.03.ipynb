{
 "cells": [
  {
   "cell_type": "markdown",
   "id": "9cf0d1ad",
   "metadata": {},
   "source": [
    "This pipeline step sorts and mark duplicates on sample-specific BAM files."
   ]
  },
  {
   "cell_type": "code",
   "execution_count": 1,
   "id": "151c4c22",
   "metadata": {},
   "outputs": [],
   "source": [
    "import os\n",
    "import multiprocessing, multiprocessing.pool"
   ]
  },
  {
   "cell_type": "markdown",
   "id": "cb41e2ed",
   "metadata": {},
   "source": [
    "# user-defined variables"
   ]
  },
  {
   "cell_type": "code",
   "execution_count": 2,
   "id": "f5b7de3a",
   "metadata": {},
   "outputs": [],
   "source": [
    "bam_top_aggregated = '/home/adrian/projects/reynisfjara/data/aggregated_bam/'"
   ]
  },
  {
   "cell_type": "code",
   "execution_count": 3,
   "id": "db256ee9",
   "metadata": {},
   "outputs": [],
   "source": [
    "threads = 12"
   ]
  },
  {
   "cell_type": "markdown",
   "id": "0b529c95",
   "metadata": {},
   "source": [
    "# define function"
   ]
  },
  {
   "cell_type": "code",
   "execution_count": 4,
   "id": "a6313343",
   "metadata": {},
   "outputs": [],
   "source": [
    "def sorter(sample):\n",
    "    \n",
    "    command = 'time sambamba sort {}{}.bam'.format(bam_top_aggregated, sample)\n",
    "    \n",
    "    print(command)\n",
    "    print()\n",
    "    \n",
    "    return None"
   ]
  },
  {
   "cell_type": "markdown",
   "id": "e7aa47f4",
   "metadata": {},
   "source": [
    "# read data"
   ]
  },
  {
   "cell_type": "code",
   "execution_count": 5,
   "id": "11e33a6e",
   "metadata": {},
   "outputs": [],
   "source": [
    "bam_files = os.listdir(bam_top_aggregated)\n",
    "bam_files.sort()"
   ]
  },
  {
   "cell_type": "code",
   "execution_count": 6,
   "id": "37739ea0",
   "metadata": {},
   "outputs": [
    {
     "data": {
      "text/plain": [
       "['a3922_0h.bam',\n",
       " 'a3922_48h.bam',\n",
       " 'a3922_72h.bam',\n",
       " 'a4774_0h.bam',\n",
       " 'a4774_48h.bam',\n",
       " 'a4774_72h.bam',\n",
       " 'a4775_0h.bam',\n",
       " 'a4775_48h.bam',\n",
       " 'a4775_72h.bam',\n",
       " 'a4776_0h.bam',\n",
       " 'a4776_48h.bam',\n",
       " 'a4776_72h.bam']"
      ]
     },
     "execution_count": 6,
     "metadata": {},
     "output_type": "execute_result"
    }
   ],
   "source": [
    "bam_files"
   ]
  },
  {
   "cell_type": "markdown",
   "id": "2ab3a06c",
   "metadata": {},
   "source": [
    "# single thread"
   ]
  },
  {
   "cell_type": "code",
   "execution_count": 7,
   "id": "e354d5e5",
   "metadata": {},
   "outputs": [
    {
     "ename": "NameError",
     "evalue": "name 'samples' is not defined",
     "output_type": "error",
     "traceback": [
      "\u001b[0;31m---------------------------------------------------------------------------\u001b[0m",
      "\u001b[0;31mNameError\u001b[0m                                 Traceback (most recent call last)",
      "Cell \u001b[0;32mIn[7], line 1\u001b[0m\n\u001b[0;32m----> 1\u001b[0m \u001b[38;5;28;01mfor\u001b[39;00m sample \u001b[38;5;129;01min\u001b[39;00m \u001b[43msamples\u001b[49m:\n\u001b[1;32m      2\u001b[0m     aggregator(sample)\n",
      "\u001b[0;31mNameError\u001b[0m: name 'samples' is not defined"
     ]
    }
   ],
   "source": [
    "for sample in samples:\n",
    "    aggregator(sample)"
   ]
  },
  {
   "cell_type": "code",
   "execution_count": null,
   "id": "44df5cf6",
   "metadata": {},
   "outputs": [],
   "source": []
  }
 ],
 "metadata": {
  "kernelspec": {
   "display_name": "Python 3 (ipykernel)",
   "language": "python",
   "name": "python3"
  },
  "language_info": {
   "codemirror_mode": {
    "name": "ipython",
    "version": 3
   },
   "file_extension": ".py",
   "mimetype": "text/x-python",
   "name": "python",
   "nbconvert_exporter": "python",
   "pygments_lexer": "ipython3",
   "version": "3.9.16"
  }
 },
 "nbformat": 4,
 "nbformat_minor": 5
}
