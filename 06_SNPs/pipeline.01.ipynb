{
 "cells": [
  {
   "cell_type": "code",
   "execution_count": 1,
   "id": "6993cc85",
   "metadata": {},
   "outputs": [],
   "source": [
    "import os"
   ]
  },
  {
   "cell_type": "markdown",
   "id": "21847495",
   "metadata": {},
   "source": [
    "# user-defined variables"
   ]
  },
  {
   "cell_type": "code",
   "execution_count": 2,
   "id": "6da9feec",
   "metadata": {},
   "outputs": [],
   "source": [
    "genome_fasta_file = '/home/adrian/databases/ensembl/mouse/Mus_musculus.GRCm39.cdna.all.fa'\n",
    "clean_fastq_top_folder = '/home/adrian/projects/reynisfjara/data/clean_fastq/'\n",
    "bam_top_folder = '/home/adrian/projects/reynisfjara/data/bam/'"
   ]
  },
  {
   "cell_type": "code",
   "execution_count": 3,
   "id": "ae58e2b2",
   "metadata": {},
   "outputs": [],
   "source": [
    "threads = 10"
   ]
  },
  {
   "cell_type": "markdown",
   "id": "996621e8",
   "metadata": {},
   "source": [
    "# locate clean FASTQ folders"
   ]
  },
  {
   "cell_type": "code",
   "execution_count": 4,
   "id": "97f3c12a",
   "metadata": {},
   "outputs": [],
   "source": [
    "fastq_folders = os.listdir(clean_fastq_top_folder)\n",
    "fastq_folders.sort()"
   ]
  },
  {
   "cell_type": "markdown",
   "id": "c07681c5",
   "metadata": {},
   "source": [
    "# generate bam files"
   ]
  },
  {
   "cell_type": "code",
   "execution_count": null,
   "id": "e8a3768d",
   "metadata": {},
   "outputs": [
    {
     "name": "stdout",
     "output_type": "stream",
     "text": [
      "! time bwa mem -M -t 10 /home/adrian/databases/ensembl/mouse/Mus_musculus.GRCm39.cdna.all.fa /home/adrian/projects/reynisfjara/data/clean_fastq/a3922_0h_1/a3922_0h_1_R1_clean.fastq.gz /home/adrian/projects/reynisfjara/data/clean_fastq/a3922_0h_1/a3922_0h_1_R2_clean.fastq.gz | samtools view -S -b --verbosity 0 -@ 10 > /home/adrian/projects/reynisfjara/data/bam/a3922_0h_1/a3922_0h_1.bam\n",
      "\n"
     ]
    },
    {
     "name": "stderr",
     "output_type": "stream",
     "text": [
      "samtools: /home/adrian/anaconda3/bin/../lib/libtinfow.so.6: no version information available (required by samtools)\n",
      "samtools: /home/adrian/anaconda3/bin/../lib/libncursesw.so.6: no version information available (required by samtools)\n",
      "samtools: /home/adrian/anaconda3/bin/../lib/libncursesw.so.6: no version information available (required by samtools)\n",
      "[M::bwa_idx_load_from_disk] read 0 ALT contigs\n",
      "[M::process] read 675110 sequences (100000240 bp)...\n",
      "[M::process] read 674478 sequences (100000283 bp)...\n",
      "[M::mem_pestat] # candidate unique pairs for (FF, FR, RF, RR): (81, 71631, 13, 56)\n",
      "[M::mem_pestat] analyzing insert size distribution for orientation FF...\n",
      "[M::mem_pestat] (25, 50, 75) percentile: (75, 116, 210)\n",
      "[M::mem_pestat] low and high boundaries for computing mean and std.dev: (1, 480)\n",
      "[M::mem_pestat] mean and std.dev: (139.10, 90.34)\n",
      "[M::mem_pestat] low and high boundaries for proper pairs: (1, 615)\n",
      "[M::mem_pestat] analyzing insert size distribution for orientation FR...\n",
      "[M::mem_pestat] (25, 50, 75) percentile: (234, 267, 300)\n",
      "[M::mem_pestat] low and high boundaries for computing mean and std.dev: (102, 432)\n",
      "[M::mem_pestat] mean and std.dev: (267.81, 50.35)\n",
      "[M::mem_pestat] low and high boundaries for proper pairs: (36, 498)\n",
      "[M::mem_pestat] analyzing insert size distribution for orientation RF...\n",
      "[M::mem_pestat] (25, 50, 75) percentile: (20, 63, 136)\n",
      "[M::mem_pestat] low and high boundaries for computing mean and std.dev: (1, 368)\n",
      "[M::mem_pestat] mean and std.dev: (80.62, 84.24)\n",
      "[M::mem_pestat] low and high boundaries for proper pairs: (1, 484)\n",
      "[M::mem_pestat] analyzing insert size distribution for orientation RR...\n",
      "[M::mem_pestat] (25, 50, 75) percentile: (77, 150, 233)\n",
      "[M::mem_pestat] low and high boundaries for computing mean and std.dev: (1, 545)\n",
      "[M::mem_pestat] mean and std.dev: (157.09, 99.88)\n",
      "[M::mem_pestat] low and high boundaries for proper pairs: (1, 701)\n",
      "[M::mem_pestat] skip orientation FF\n",
      "[M::mem_pestat] skip orientation RF\n",
      "[M::mem_pestat] skip orientation RR\n",
      "[M::mem_process_seqs] Processed 675110 reads in 139.426 CPU sec, 14.067 real sec\n",
      "[M::process] read 674234 sequences (100000270 bp)...\n"
     ]
    }
   ],
   "source": [
    "for fastq_folder in fastq_folders:\n",
    "\n",
    "    bam_folder = bam_top_folder + fastq_folder\n",
    "    \n",
    "    if os.path.exists(bam_folder) == False:\n",
    "        os.mkdir(bam_folder)\n",
    "    \n",
    "    fastq_files = os.listdir(clean_fastq_top_folder + fastq_folder)\n",
    "    fastq_files.sort()\n",
    "    \n",
    "    read1 = clean_fastq_top_folder + fastq_folder + '/' + fastq_files[0]\n",
    "    read2 = clean_fastq_top_folder + fastq_folder + '/' + fastq_files[1]\n",
    "    \n",
    "    bamfile = bam_folder + '/' +fastq_folder + '.bam'\n",
    "    \n",
    "    command = '! time bwa mem -M -t {} {} {} {} | samtools view -S -b --verbosity 0 -@ {} > {}'.format(threads, genome_fasta_file, read1, read2, threads, bamfile)\n",
    "    \n",
    "    print(command)\n",
    "    print()\n",
    "    \n",
    "    os.system(command)"
   ]
  }
 ],
 "metadata": {
  "kernelspec": {
   "display_name": "Python 3 (ipykernel)",
   "language": "python",
   "name": "python3"
  },
  "language_info": {
   "codemirror_mode": {
    "name": "ipython",
    "version": 3
   },
   "file_extension": ".py",
   "mimetype": "text/x-python",
   "name": "python",
   "nbconvert_exporter": "python",
   "pygments_lexer": "ipython3",
   "version": "3.9.16"
  }
 },
 "nbformat": 4,
 "nbformat_minor": 5
}
