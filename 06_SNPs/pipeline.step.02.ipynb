{
 "cells": [
  {
   "cell_type": "markdown",
   "id": "4bec726d",
   "metadata": {},
   "source": [
    "This pipeline step merges sample replicate BAM files using bamaddrg."
   ]
  },
  {
   "cell_type": "code",
   "execution_count": 1,
   "id": "20e3a8f6",
   "metadata": {},
   "outputs": [],
   "source": [
    "import os\n",
    "import multiprocessing, multiprocessing.pool"
   ]
  },
  {
   "cell_type": "markdown",
   "id": "52bcfa66",
   "metadata": {},
   "source": [
    "# user-defined variables"
   ]
  },
  {
   "cell_type": "code",
   "execution_count": 2,
   "id": "9d9790b9",
   "metadata": {},
   "outputs": [],
   "source": [
    "bam_top_folder = '/home/adrian/projects/reynisfjara/data/bam/'\n",
    "bam_top_aggregated = '/home/adrian/projects/reynisfjara/data/aggregated_bam/'"
   ]
  },
  {
   "cell_type": "code",
   "execution_count": 3,
   "id": "8fbce409",
   "metadata": {},
   "outputs": [],
   "source": [
    "threads = 12"
   ]
  },
  {
   "cell_type": "markdown",
   "id": "0dee92b4",
   "metadata": {},
   "source": [
    "# define function"
   ]
  },
  {
   "cell_type": "code",
   "execution_count": 4,
   "id": "7b235cf7",
   "metadata": {},
   "outputs": [],
   "source": [
    "def aggregator(sample):\n",
    "    \n",
    "    target_bam = bam_top_aggregated + sample + '.bam'\n",
    "    \n",
    "    working_folders = [element for element in bam_folders if sample in element]\n",
    "    print(sample)\n",
    "    print(working_folders)\n",
    "    \n",
    "    working_bam_files = []\n",
    "    for folder in working_folders:\n",
    "        bam_file = bam_top_folder + folder + '/' + folder + '.bam'\n",
    "        working_bam_files.append(bam_file)\n",
    "    \n",
    "    command = 'time bamaddrg'\n",
    "    for bam_file in working_bam_files:\n",
    "        command = command + ' -b {} -s {} > {}'.format(bam_file, sample, target_bam)\n",
    "        \n",
    "    print(command)\n",
    "    print()\n",
    "    \n",
    "    os.system(command)\n",
    "    \n",
    "    return None\n"
   ]
  },
  {
   "cell_type": "markdown",
   "id": "818ad158",
   "metadata": {},
   "source": [
    "# read data"
   ]
  },
  {
   "cell_type": "code",
   "execution_count": 5,
   "id": "cf264bfa",
   "metadata": {},
   "outputs": [],
   "source": [
    "bam_folders = os.listdir(bam_top_folder)"
   ]
  },
  {
   "cell_type": "code",
   "execution_count": 6,
   "id": "934f0d7d",
   "metadata": {},
   "outputs": [
    {
     "name": "stdout",
     "output_type": "stream",
     "text": [
      "['a3922_0h', 'a3922_48h', 'a3922_72h', 'a4774_0h', 'a4774_48h', 'a4774_72h', 'a4775_0h', 'a4775_48h', 'a4775_72h', 'a4776_0h', 'a4776_48h', 'a4776_72h']\n"
     ]
    }
   ],
   "source": [
    "samples = ['_'.join(element.split('_')[:2]) for element in bam_folders]\n",
    "samples = list(set(samples))\n",
    "samples.sort()\n",
    "print(samples)"
   ]
  },
  {
   "cell_type": "markdown",
   "id": "6b9c3a2e",
   "metadata": {},
   "source": [
    "# single thread"
   ]
  },
  {
   "cell_type": "code",
   "execution_count": 7,
   "id": "fee10145",
   "metadata": {
    "scrolled": false
   },
   "outputs": [],
   "source": [
    "#for sample in samples:\n",
    "#    aggregator(sample)"
   ]
  },
  {
   "cell_type": "markdown",
   "id": "43e12225",
   "metadata": {},
   "source": [
    "# parallel"
   ]
  },
  {
   "cell_type": "code",
   "execution_count": null,
   "id": "ce6ae547",
   "metadata": {
    "scrolled": false
   },
   "outputs": [
    {
     "name": "stdout",
     "output_type": "stream",
     "text": [
      "a3922_72ha3922_48ha3922_0ha4774_0ha4774_72ha4774_48ha4775_0ha4775_48h\n",
      "\n",
      "\n",
      "a4775_72ha4776_48ha4776_0h\n",
      "a4776_72h\n",
      "\n",
      "\n",
      "['a3922_48h_1', 'a3922_48h_2', 'a3922_48h_3']\n",
      "['a3922_72h_1', 'a3922_72h_3', 'a3922_72h_2']['a3922_0h_3', 'a3922_0h_1', 'a3922_0h_2']\n",
      "\n",
      "\n",
      "['a4774_72h_1', 'a4774_72h_2']\n",
      "['a4774_48h_1', 'a4774_48h_2', 'a4774_48h_3']['a4775_0h_2', 'a4775_0h_3', 'a4775_0h_1']['a4774_0h_2', 'a4774_0h_1', 'a4774_0h_3']\n",
      "['a4775_48h_3', 'a4775_48h_1', 'a4775_48h_2']\n",
      "\n",
      "['a4776_0h_1', 'a4776_0h_2', 'a4776_0h_3']['a4775_72h_3', 'a4775_72h_1', 'a4775_72h_2']['a4776_48h_1', 'a4776_48h_3', 'a4776_48h_2']\n",
      "['a4776_72h_1', 'a4776_72h_2', 'a4776_72h_3']\n",
      "\n",
      "\n",
      "time bamaddrg -b /home/adrian/projects/reynisfjara/data/bam/a3922_48h_1/a3922_48h_1.bam -s a3922_48h > /home/adrian/projects/reynisfjara/data/aggregated_bam/a3922_48h.bam -b /home/adrian/projects/reynisfjara/data/bam/a3922_48h_2/a3922_48h_2.bam -s a3922_48h > /home/adrian/projects/reynisfjara/data/aggregated_bam/a3922_48h.bam -b /home/adrian/projects/reynisfjara/data/bam/a3922_48h_3/a3922_48h_3.bam -s a3922_48h > /home/adrian/projects/reynisfjara/data/aggregated_bam/a3922_48h.bam\n",
      "time bamaddrg -b /home/adrian/projects/reynisfjara/data/bam/a3922_72h_1/a3922_72h_1.bam -s a3922_72h > /home/adrian/projects/reynisfjara/data/aggregated_bam/a3922_72h.bam -b /home/adrian/projects/reynisfjara/data/bam/a3922_72h_3/a3922_72h_3.bam -s a3922_72h > /home/adrian/projects/reynisfjara/data/aggregated_bam/a3922_72h.bam -b /home/adrian/projects/reynisfjara/data/bam/a3922_72h_2/a3922_72h_2.bam -s a3922_72h > /home/adrian/projects/reynisfjara/data/aggregated_bam/a3922_72h.bamtime bamaddrg -b /home/adrian/projects/reynisfjara/data/bam/a3922_0h_3/a3922_0h_3.bam -s a3922_0h > /home/adrian/projects/reynisfjara/data/aggregated_bam/a3922_0h.bam -b /home/adrian/projects/reynisfjara/data/bam/a3922_0h_1/a3922_0h_1.bam -s a3922_0h > /home/adrian/projects/reynisfjara/data/aggregated_bam/a3922_0h.bam -b /home/adrian/projects/reynisfjara/data/bam/a3922_0h_2/a3922_0h_2.bam -s a3922_0h > /home/adrian/projects/reynisfjara/data/aggregated_bam/a3922_0h.bam\n",
      "\n",
      "\n",
      "\n",
      "time bamaddrg -b /home/adrian/projects/reynisfjara/data/bam/a4774_72h_1/a4774_72h_1.bam -s a4774_72h > /home/adrian/projects/reynisfjara/data/aggregated_bam/a4774_72h.bam -b /home/adrian/projects/reynisfjara/data/bam/a4774_72h_2/a4774_72h_2.bam -s a4774_72h > /home/adrian/projects/reynisfjara/data/aggregated_bam/a4774_72h.bamtime bamaddrg -b /home/adrian/projects/reynisfjara/data/bam/a4775_0h_2/a4775_0h_2.bam -s a4775_0h > /home/adrian/projects/reynisfjara/data/aggregated_bam/a4775_0h.bam -b /home/adrian/projects/reynisfjara/data/bam/a4775_0h_3/a4775_0h_3.bam -s a4775_0h > /home/adrian/projects/reynisfjara/data/aggregated_bam/a4775_0h.bam -b /home/adrian/projects/reynisfjara/data/bam/a4775_0h_1/a4775_0h_1.bam -s a4775_0h > /home/adrian/projects/reynisfjara/data/aggregated_bam/a4775_0h.bamtime bamaddrg -b /home/adrian/projects/reynisfjara/data/bam/a4774_48h_1/a4774_48h_1.bam -s a4774_48h > /home/adrian/projects/reynisfjara/data/aggregated_bam/a4774_48h.bam -b /home/adrian/projects/reynisfjara/data/bam/a4774_48h_2/a4774_48h_2.bam -s a4774_48h > /home/adrian/projects/reynisfjara/data/aggregated_bam/a4774_48h.bam -b /home/adrian/projects/reynisfjara/data/bam/a4774_48h_3/a4774_48h_3.bam -s a4774_48h > /home/adrian/projects/reynisfjara/data/aggregated_bam/a4774_48h.bamtime bamaddrg -b /home/adrian/projects/reynisfjara/data/bam/a4774_0h_2/a4774_0h_2.bam -s a4774_0h > /home/adrian/projects/reynisfjara/data/aggregated_bam/a4774_0h.bam -b /home/adrian/projects/reynisfjara/data/bam/a4774_0h_1/a4774_0h_1.bam -s a4774_0h > /home/adrian/projects/reynisfjara/data/aggregated_bam/a4774_0h.bam -b /home/adrian/projects/reynisfjara/data/bam/a4774_0h_3/a4774_0h_3.bam -s a4774_0h > /home/adrian/projects/reynisfjara/data/aggregated_bam/a4774_0h.bam\n",
      "time bamaddrg -b /home/adrian/projects/reynisfjara/data/bam/a4775_48h_3/a4775_48h_3.bam -s a4775_48h > /home/adrian/projects/reynisfjara/data/aggregated_bam/a4775_48h.bam -b /home/adrian/projects/reynisfjara/data/bam/a4775_48h_1/a4775_48h_1.bam -s a4775_48h > /home/adrian/projects/reynisfjara/data/aggregated_bam/a4775_48h.bam -b /home/adrian/projects/reynisfjara/data/bam/a4775_48h_2/a4775_48h_2.bam -s a4775_48h > /home/adrian/projects/reynisfjara/data/aggregated_bam/a4775_48h.bam\n",
      "\n",
      "time bamaddrg -b /home/adrian/projects/reynisfjara/data/bam/a4775_72h_3/a4775_72h_3.bam -s a4775_72h > /home/adrian/projects/reynisfjara/data/aggregated_bam/a4775_72h.bam -b /home/adrian/projects/reynisfjara/data/bam/a4775_72h_1/a4775_72h_1.bam -s a4775_72h > /home/adrian/projects/reynisfjara/data/aggregated_bam/a4775_72h.bam -b /home/adrian/projects/reynisfjara/data/bam/a4775_72h_2/a4775_72h_2.bam -s a4775_72h > /home/adrian/projects/reynisfjara/data/aggregated_bam/a4775_72h.bamtime bamaddrg -b /home/adrian/projects/reynisfjara/data/bam/a4776_0h_1/a4776_0h_1.bam -s a4776_0h > /home/adrian/projects/reynisfjara/data/aggregated_bam/a4776_0h.bam -b /home/adrian/projects/reynisfjara/data/bam/a4776_0h_2/a4776_0h_2.bam -s a4776_0h > /home/adrian/projects/reynisfjara/data/aggregated_bam/a4776_0h.bam -b /home/adrian/projects/reynisfjara/data/bam/a4776_0h_3/a4776_0h_3.bam -s a4776_0h > /home/adrian/projects/reynisfjara/data/aggregated_bam/a4776_0h.bamtime bamaddrg -b /home/adrian/projects/reynisfjara/data/bam/a4776_48h_1/a4776_48h_1.bam -s a4776_48h > /home/adrian/projects/reynisfjara/data/aggregated_bam/a4776_48h.bam -b /home/adrian/projects/reynisfjara/data/bam/a4776_48h_3/a4776_48h_3.bam -s a4776_48h > /home/adrian/projects/reynisfjara/data/aggregated_bam/a4776_48h.bam -b /home/adrian/projects/reynisfjara/data/bam/a4776_48h_2/a4776_48h_2.bam -s a4776_48h > /home/adrian/projects/reynisfjara/data/aggregated_bam/a4776_48h.bamtime bamaddrg -b /home/adrian/projects/reynisfjara/data/bam/a4776_72h_1/a4776_72h_1.bam -s a4776_72h > /home/adrian/projects/reynisfjara/data/aggregated_bam/a4776_72h.bam -b /home/adrian/projects/reynisfjara/data/bam/a4776_72h_2/a4776_72h_2.bam -s a4776_72h > /home/adrian/projects/reynisfjara/data/aggregated_bam/a4776_72h.bam -b /home/adrian/projects/reynisfjara/data/bam/a4776_72h_3/a4776_72h_3.bam -s a4776_72h > /home/adrian/projects/reynisfjara/data/aggregated_bam/a4776_72h.bam\n",
      "\n",
      "\n",
      "\n",
      "\n",
      "\n",
      "\n",
      "\n",
      "\n",
      "\n",
      "\n",
      "\n",
      "\n",
      "\n",
      "\n",
      "\n",
      "\n",
      "\n",
      "\n",
      "\n",
      "\n"
     ]
    }
   ],
   "source": [
    "hydra = multiprocessing.pool.Pool(threads)\n",
    "empty = hydra.map(aggregator, samples)"
   ]
  }
 ],
 "metadata": {
  "kernelspec": {
   "display_name": "Python 3 (ipykernel)",
   "language": "python",
   "name": "python3"
  },
  "language_info": {
   "codemirror_mode": {
    "name": "ipython",
    "version": 3
   },
   "file_extension": ".py",
   "mimetype": "text/x-python",
   "name": "python",
   "nbconvert_exporter": "python",
   "pygments_lexer": "ipython3",
   "version": "3.9.16"
  }
 },
 "nbformat": 4,
 "nbformat_minor": 5
}
