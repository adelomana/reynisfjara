{
 "cells": [
  {
   "cell_type": "markdown",
   "id": "5af3b340",
   "metadata": {},
   "source": [
    "This pipeline step merges sample replicate BAM files using bamaddrg."
   ]
  },
  {
   "cell_type": "code",
   "execution_count": 1,
   "id": "01981558",
   "metadata": {},
   "outputs": [],
   "source": [
    "import os\n",
    "import multiprocessing, multiprocessing.pool"
   ]
  },
  {
   "cell_type": "markdown",
   "id": "304d3d74",
   "metadata": {},
   "source": [
    "# user-defined variables"
   ]
  },
  {
   "cell_type": "code",
   "execution_count": 2,
   "id": "9a76c6b8",
   "metadata": {},
   "outputs": [],
   "source": [
    "bam_top_folder = '/home/adrian/projects/reynisfjara/data/bam/'\n",
    "bam_top_aggregated = '/home/adrian/projects/reynisfjara/data/aggregated_bam/'"
   ]
  },
  {
   "cell_type": "code",
   "execution_count": 3,
   "id": "7b6cb9fd",
   "metadata": {},
   "outputs": [],
   "source": [
    "threads = 12"
   ]
  },
  {
   "cell_type": "markdown",
   "id": "cdc124ee",
   "metadata": {},
   "source": [
    "# define function"
   ]
  },
  {
   "cell_type": "code",
   "execution_count": 4,
   "id": "ba30aebb",
   "metadata": {},
   "outputs": [],
   "source": [
    "def aggregator(sample):\n",
    "    \n",
    "    target_bam = bam_top_aggregated + sample + '.bam'\n",
    "    \n",
    "    working_folders = [element for element in bam_folders if sample in element]\n",
    "    print(sample)\n",
    "    print(working_folders)\n",
    "    \n",
    "    working_bam_files = []\n",
    "    for folder in working_folders:\n",
    "        bam_file = bam_top_folder + folder + '/' + folder + '.bam'\n",
    "        working_bam_files.append(bam_file)\n",
    "    \n",
    "    command = 'time bamaddrg'\n",
    "    for bam_file in working_bam_files:\n",
    "        command = command + ' -b {} -s {} > {}'.format(bam_file, sample, target_bam)\n",
    "        \n",
    "    print(command)\n",
    "    print()\n",
    "    \n",
    "    os.system(command)\n",
    "    \n",
    "    return None"
   ]
  },
  {
   "cell_type": "markdown",
   "id": "41f4280a",
   "metadata": {},
   "source": [
    "# read data"
   ]
  },
  {
   "cell_type": "code",
   "execution_count": 5,
   "id": "15e63501",
   "metadata": {},
   "outputs": [],
   "source": [
    "bam_folders = os.listdir(bam_top_folder)"
   ]
  },
  {
   "cell_type": "code",
   "execution_count": 6,
   "id": "949976a5",
   "metadata": {},
   "outputs": [
    {
     "name": "stdout",
     "output_type": "stream",
     "text": [
      "['a3922_0h', 'a3922_48h', 'a3922_72h', 'a4774_0h', 'a4774_48h', 'a4774_72h', 'a4775_0h', 'a4775_48h', 'a4775_72h', 'a4776_0h', 'a4776_48h', 'a4776_72h']\n"
     ]
    }
   ],
   "source": [
    "samples = ['_'.join(element.split('_')[:2]) for element in bam_folders]\n",
    "samples = list(set(samples))\n",
    "samples.sort()\n",
    "print(samples)"
   ]
  },
  {
   "cell_type": "markdown",
   "id": "9df45140",
   "metadata": {},
   "source": [
    "# single thread"
   ]
  },
  {
   "cell_type": "code",
   "execution_count": 7,
   "id": "43ae3f91",
   "metadata": {
    "scrolled": false
   },
   "outputs": [],
   "source": [
    "#for sample in samples:\n",
    "#    aggregator(sample)"
   ]
  },
  {
   "cell_type": "markdown",
   "id": "f49b02cd",
   "metadata": {},
   "source": [
    "# parallel"
   ]
  },
  {
   "cell_type": "code",
   "execution_count": 8,
   "id": "de7e1e69",
   "metadata": {
    "scrolled": false
   },
   "outputs": [
    {
     "name": "stdout",
     "output_type": "stream",
     "text": [
      "a3922_72ha3922_48ha3922_0ha4774_0ha4774_72ha4774_48ha4775_0ha4775_48h\n",
      "\n",
      "\n",
      "a4775_72ha4776_48ha4776_0h\n",
      "a4776_72h\n",
      "\n",
      "\n",
      "['a3922_48h_1', 'a3922_48h_2', 'a3922_48h_3']\n",
      "['a3922_72h_1', 'a3922_72h_3', 'a3922_72h_2']['a3922_0h_3', 'a3922_0h_1', 'a3922_0h_2']\n",
      "\n",
      "\n",
      "['a4774_72h_1', 'a4774_72h_2']\n",
      "['a4774_48h_1', 'a4774_48h_2', 'a4774_48h_3']['a4775_0h_2', 'a4775_0h_3', 'a4775_0h_1']['a4774_0h_2', 'a4774_0h_1', 'a4774_0h_3']\n",
      "['a4775_48h_3', 'a4775_48h_1', 'a4775_48h_2']\n",
      "\n",
      "['a4776_0h_1', 'a4776_0h_2', 'a4776_0h_3']['a4775_72h_3', 'a4775_72h_1', 'a4775_72h_2']['a4776_48h_1', 'a4776_48h_3', 'a4776_48h_2']\n",
      "['a4776_72h_1', 'a4776_72h_2', 'a4776_72h_3']\n",
      "\n",
      "\n",
      "time bamaddrg -b /home/adrian/projects/reynisfjara/data/bam/a3922_48h_1/a3922_48h_1.bam -s a3922_48h > /home/adrian/projects/reynisfjara/data/aggregated_bam/a3922_48h.bam -b /home/adrian/projects/reynisfjara/data/bam/a3922_48h_2/a3922_48h_2.bam -s a3922_48h > /home/adrian/projects/reynisfjara/data/aggregated_bam/a3922_48h.bam -b /home/adrian/projects/reynisfjara/data/bam/a3922_48h_3/a3922_48h_3.bam -s a3922_48h > /home/adrian/projects/reynisfjara/data/aggregated_bam/a3922_48h.bam\n",
      "time bamaddrg -b /home/adrian/projects/reynisfjara/data/bam/a3922_72h_1/a3922_72h_1.bam -s a3922_72h > /home/adrian/projects/reynisfjara/data/aggregated_bam/a3922_72h.bam -b /home/adrian/projects/reynisfjara/data/bam/a3922_72h_3/a3922_72h_3.bam -s a3922_72h > /home/adrian/projects/reynisfjara/data/aggregated_bam/a3922_72h.bam -b /home/adrian/projects/reynisfjara/data/bam/a3922_72h_2/a3922_72h_2.bam -s a3922_72h > /home/adrian/projects/reynisfjara/data/aggregated_bam/a3922_72h.bamtime bamaddrg -b /home/adrian/projects/reynisfjara/data/bam/a3922_0h_3/a3922_0h_3.bam -s a3922_0h > /home/adrian/projects/reynisfjara/data/aggregated_bam/a3922_0h.bam -b /home/adrian/projects/reynisfjara/data/bam/a3922_0h_1/a3922_0h_1.bam -s a3922_0h > /home/adrian/projects/reynisfjara/data/aggregated_bam/a3922_0h.bam -b /home/adrian/projects/reynisfjara/data/bam/a3922_0h_2/a3922_0h_2.bam -s a3922_0h > /home/adrian/projects/reynisfjara/data/aggregated_bam/a3922_0h.bam\n",
      "\n",
      "\n",
      "\n",
      "time bamaddrg -b /home/adrian/projects/reynisfjara/data/bam/a4774_72h_1/a4774_72h_1.bam -s a4774_72h > /home/adrian/projects/reynisfjara/data/aggregated_bam/a4774_72h.bam -b /home/adrian/projects/reynisfjara/data/bam/a4774_72h_2/a4774_72h_2.bam -s a4774_72h > /home/adrian/projects/reynisfjara/data/aggregated_bam/a4774_72h.bamtime bamaddrg -b /home/adrian/projects/reynisfjara/data/bam/a4775_0h_2/a4775_0h_2.bam -s a4775_0h > /home/adrian/projects/reynisfjara/data/aggregated_bam/a4775_0h.bam -b /home/adrian/projects/reynisfjara/data/bam/a4775_0h_3/a4775_0h_3.bam -s a4775_0h > /home/adrian/projects/reynisfjara/data/aggregated_bam/a4775_0h.bam -b /home/adrian/projects/reynisfjara/data/bam/a4775_0h_1/a4775_0h_1.bam -s a4775_0h > /home/adrian/projects/reynisfjara/data/aggregated_bam/a4775_0h.bamtime bamaddrg -b /home/adrian/projects/reynisfjara/data/bam/a4774_48h_1/a4774_48h_1.bam -s a4774_48h > /home/adrian/projects/reynisfjara/data/aggregated_bam/a4774_48h.bam -b /home/adrian/projects/reynisfjara/data/bam/a4774_48h_2/a4774_48h_2.bam -s a4774_48h > /home/adrian/projects/reynisfjara/data/aggregated_bam/a4774_48h.bam -b /home/adrian/projects/reynisfjara/data/bam/a4774_48h_3/a4774_48h_3.bam -s a4774_48h > /home/adrian/projects/reynisfjara/data/aggregated_bam/a4774_48h.bamtime bamaddrg -b /home/adrian/projects/reynisfjara/data/bam/a4774_0h_2/a4774_0h_2.bam -s a4774_0h > /home/adrian/projects/reynisfjara/data/aggregated_bam/a4774_0h.bam -b /home/adrian/projects/reynisfjara/data/bam/a4774_0h_1/a4774_0h_1.bam -s a4774_0h > /home/adrian/projects/reynisfjara/data/aggregated_bam/a4774_0h.bam -b /home/adrian/projects/reynisfjara/data/bam/a4774_0h_3/a4774_0h_3.bam -s a4774_0h > /home/adrian/projects/reynisfjara/data/aggregated_bam/a4774_0h.bam\n",
      "time bamaddrg -b /home/adrian/projects/reynisfjara/data/bam/a4775_48h_3/a4775_48h_3.bam -s a4775_48h > /home/adrian/projects/reynisfjara/data/aggregated_bam/a4775_48h.bam -b /home/adrian/projects/reynisfjara/data/bam/a4775_48h_1/a4775_48h_1.bam -s a4775_48h > /home/adrian/projects/reynisfjara/data/aggregated_bam/a4775_48h.bam -b /home/adrian/projects/reynisfjara/data/bam/a4775_48h_2/a4775_48h_2.bam -s a4775_48h > /home/adrian/projects/reynisfjara/data/aggregated_bam/a4775_48h.bam\n",
      "\n",
      "time bamaddrg -b /home/adrian/projects/reynisfjara/data/bam/a4775_72h_3/a4775_72h_3.bam -s a4775_72h > /home/adrian/projects/reynisfjara/data/aggregated_bam/a4775_72h.bam -b /home/adrian/projects/reynisfjara/data/bam/a4775_72h_1/a4775_72h_1.bam -s a4775_72h > /home/adrian/projects/reynisfjara/data/aggregated_bam/a4775_72h.bam -b /home/adrian/projects/reynisfjara/data/bam/a4775_72h_2/a4775_72h_2.bam -s a4775_72h > /home/adrian/projects/reynisfjara/data/aggregated_bam/a4775_72h.bamtime bamaddrg -b /home/adrian/projects/reynisfjara/data/bam/a4776_0h_1/a4776_0h_1.bam -s a4776_0h > /home/adrian/projects/reynisfjara/data/aggregated_bam/a4776_0h.bam -b /home/adrian/projects/reynisfjara/data/bam/a4776_0h_2/a4776_0h_2.bam -s a4776_0h > /home/adrian/projects/reynisfjara/data/aggregated_bam/a4776_0h.bam -b /home/adrian/projects/reynisfjara/data/bam/a4776_0h_3/a4776_0h_3.bam -s a4776_0h > /home/adrian/projects/reynisfjara/data/aggregated_bam/a4776_0h.bamtime bamaddrg -b /home/adrian/projects/reynisfjara/data/bam/a4776_48h_1/a4776_48h_1.bam -s a4776_48h > /home/adrian/projects/reynisfjara/data/aggregated_bam/a4776_48h.bam -b /home/adrian/projects/reynisfjara/data/bam/a4776_48h_3/a4776_48h_3.bam -s a4776_48h > /home/adrian/projects/reynisfjara/data/aggregated_bam/a4776_48h.bam -b /home/adrian/projects/reynisfjara/data/bam/a4776_48h_2/a4776_48h_2.bam -s a4776_48h > /home/adrian/projects/reynisfjara/data/aggregated_bam/a4776_48h.bamtime bamaddrg -b /home/adrian/projects/reynisfjara/data/bam/a4776_72h_1/a4776_72h_1.bam -s a4776_72h > /home/adrian/projects/reynisfjara/data/aggregated_bam/a4776_72h.bam -b /home/adrian/projects/reynisfjara/data/bam/a4776_72h_2/a4776_72h_2.bam -s a4776_72h > /home/adrian/projects/reynisfjara/data/aggregated_bam/a4776_72h.bam -b /home/adrian/projects/reynisfjara/data/bam/a4776_72h_3/a4776_72h_3.bam -s a4776_72h > /home/adrian/projects/reynisfjara/data/aggregated_bam/a4776_72h.bam\n",
      "\n",
      "\n",
      "\n",
      "\n",
      "\n",
      "\n",
      "\n",
      "\n",
      "\n",
      "\n",
      "\n",
      "\n",
      "\n",
      "\n",
      "\n",
      "\n",
      "\n",
      "\n",
      "\n",
      "\n"
     ]
    },
    {
     "name": "stderr",
     "output_type": "stream",
     "text": [
      "2632.21user 18.65system 44:11.29elapsed 99%CPU (0avgtext+0avgdata 242568maxresident)k\n",
      "26991432inputs+29733520outputs (112major+113133minor)pagefaults 0swaps\n",
      "2662.22user 17.60system 44:40.23elapsed 99%CPU (0avgtext+0avgdata 242608maxresident)k\n",
      "28840560inputs+29833232outputs (45major+113169minor)pagefaults 0swaps\n",
      "2710.99user 17.27system 45:28.81elapsed 99%CPU (0avgtext+0avgdata 242484maxresident)k\n",
      "29090584inputs+30099184outputs (67major+113191minor)pagefaults 0swaps\n",
      "2725.96user 17.28system 45:43.67elapsed 99%CPU (0avgtext+0avgdata 242524maxresident)k\n",
      "28976672inputs+29941680outputs (83major+113181minor)pagefaults 0swaps\n",
      "2761.04user 16.95system 46:18.41elapsed 99%CPU (0avgtext+0avgdata 193212maxresident)k\n",
      "25551824inputs+26344648outputs (33major+99604minor)pagefaults 0swaps\n",
      "2949.35user 18.91system 49:28.69elapsed 99%CPU (0avgtext+0avgdata 242624maxresident)k\n",
      "31223168inputs+32293520outputs (19major+113093minor)pagefaults 0swaps\n",
      "3130.86user 20.47system 52:33.33elapsed 99%CPU (0avgtext+0avgdata 242620maxresident)k\n",
      "25238000inputs+34991328outputs (45major+113098minor)pagefaults 0swaps\n",
      "3136.44user 20.60system 52:37.71elapsed 99%CPU (0avgtext+0avgdata 242584maxresident)k\n",
      "32852136inputs+33993736outputs (12major+113074minor)pagefaults 0swaps\n",
      "3294.38user 21.85system 55:16.89elapsed 99%CPU (0avgtext+0avgdata 242548maxresident)k\n",
      "34566464inputs+35792672outputs (43major+113338minor)pagefaults 0swaps\n",
      "3302.16user 22.18system 55:24.98elapsed 99%CPU (0avgtext+0avgdata 242544maxresident)k\n",
      "35474344inputs+36711624outputs (15major+113124minor)pagefaults 0swaps\n",
      "3340.35user 21.64system 56:02.62elapsed 99%CPU (0avgtext+0avgdata 242584maxresident)k\n",
      "30883768inputs+31951032outputs (31major+113219minor)pagefaults 0swaps\n",
      "3623.33user 24.19system 1:00:48elapsed 99%CPU (0avgtext+0avgdata 242536maxresident)k\n",
      "36253336inputs+37512936outputs (10major+113095minor)pagefaults 0swaps\n"
     ]
    }
   ],
   "source": [
    "hydra = multiprocessing.pool.Pool(threads)\n",
    "empty = hydra.map(aggregator, samples)"
   ]
  }
 ],
 "metadata": {
  "kernelspec": {
   "display_name": "Python 3 (ipykernel)",
   "language": "python",
   "name": "python3"
  },
  "language_info": {
   "codemirror_mode": {
    "name": "ipython",
    "version": 3
   },
   "file_extension": ".py",
   "mimetype": "text/x-python",
   "name": "python",
   "nbconvert_exporter": "python",
   "pygments_lexer": "ipython3",
   "version": "3.9.16"
  }
 },
 "nbformat": 4,
 "nbformat_minor": 5
}
