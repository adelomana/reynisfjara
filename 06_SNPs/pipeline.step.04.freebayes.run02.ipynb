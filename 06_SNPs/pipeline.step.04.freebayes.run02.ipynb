{
 "cells": [
  {
   "cell_type": "markdown",
   "id": "4eaa69ef-2c6d-4c9e-b81d-aa744da3493a",
   "metadata": {},
   "source": [
    "This pipeline runs freebayes on the sorted, marked duplicates, merged BAM files.\n",
    "We are looking for SNPs supported by 100 reads at least at 5% frequency."
   ]
  },
  {
   "cell_type": "code",
   "execution_count": 1,
   "id": "f9110a5b-1986-4c64-bb77-e4e4df23b157",
   "metadata": {},
   "outputs": [],
   "source": [
    "import os"
   ]
  },
  {
   "cell_type": "code",
   "execution_count": 2,
   "id": "2ac41ca2-cad1-460f-9719-ff5ab64ff988",
   "metadata": {},
   "outputs": [],
   "source": [
    "import multiprocessing, multiprocessing.pool"
   ]
  },
  {
   "cell_type": "markdown",
   "id": "7595517e-96e6-4257-941e-e9ae54f01f42",
   "metadata": {},
   "source": [
    "# user-defined variables"
   ]
  },
  {
   "cell_type": "code",
   "execution_count": 3,
   "id": "bf4cf74a-19d0-43b2-83ec-72cf2b104a7c",
   "metadata": {},
   "outputs": [],
   "source": [
    "bam_top_folder = '/home/adrian/projects/reynisfjara/results/bam/'\n",
    "vcf_folder = '/home/adrian/projects/reynisfjara/results/vcf/'\n",
    "reference = '/home/adrian/databases/ensembl/mouse/Mus_musculus.GRCm39.cdna.all.fa'\n",
    "executable_file = '/home/adrian/software/freebayes/freebayes-1.3.6-linux-amd64-static'"
   ]
  },
  {
   "cell_type": "code",
   "execution_count": 4,
   "id": "a806fc37-22c7-4839-9788-6811bdfd0cd5",
   "metadata": {},
   "outputs": [],
   "source": [
    "threads = 12"
   ]
  },
  {
   "cell_type": "markdown",
   "id": "0604ae95-c9a0-4e56-b6a7-528214bbbd25",
   "metadata": {},
   "source": [
    "# read data"
   ]
  },
  {
   "cell_type": "code",
   "execution_count": 5,
   "id": "0b3d1f68-7a06-4ffa-8ff5-e0fea7bcfa78",
   "metadata": {},
   "outputs": [
    {
     "name": "stdout",
     "output_type": "stream",
     "text": [
      "['a3922_0h', 'a3922_48h', 'a3922_72h', 'a4774_0h', 'a4774_48h', 'a4774_72h', 'a4775_0h', 'a4775_48h', 'a4775_72h', 'a4776_0h', 'a4776_48h', 'a4776_72h']\n"
     ]
    }
   ],
   "source": [
    "bam_folders = os.listdir(bam_top_folder)\n",
    "samples = ['_'.join(element.split('_')[:2]) for element in bam_folders]\n",
    "samples = list(set(samples))\n",
    "samples.sort()\n",
    "print(samples)"
   ]
  },
  {
   "cell_type": "markdown",
   "id": "1afcdcfb-79b6-4f81-b5ba-1cb4715920f5",
   "metadata": {},
   "source": [
    "# call freebaues in parallel mode"
   ]
  },
  {
   "cell_type": "code",
   "execution_count": 6,
   "id": "98088c31-8f03-48ff-b0e0-bb6faac2a3ab",
   "metadata": {},
   "outputs": [],
   "source": [
    "def caller(sample):\n",
    "        \n",
    "    target_folders = [element for element in bam_folders if sample in element]\n",
    "    target_folders.sort()\n",
    "\n",
    "    target_bams = ['{}{}/positionsort.bam'.format(bam_top_folder, element) for element in target_folders]\n",
    "    target_bams_string = ' '.join(target_bams)\n",
    "\n",
    "    cmd = 'time {} -f {} --min-coverage 25 -F 0.05 {} > {}{}.vcf'.format(executable_file, \n",
    "    reference, target_bams_string, vcf_folder, sample\n",
    "    )\n",
    "\n",
    "    print(cmd)\n",
    "    os.system(cmd)\n",
    "    print()\n",
    "    \n",
    "    return None"
   ]
  },
  {
   "cell_type": "code",
   "execution_count": 7,
   "id": "9b6ea9b8-2b13-4957-bfd4-d6633682aae8",
   "metadata": {},
   "outputs": [
    {
     "name": "stdout",
     "output_type": "stream",
     "text": [
      "time /home/adrian/software/freebayes/freebayes-1.3.6-linux-amd64-static -f /home/adrian/databases/ensembl/mouse/Mus_musculus.GRCm39.cdna.all.fa --min-coverage 25 -F 0.05 /home/adrian/projects/reynisfjara/results/bam/a4774_0h_1/positionsort.bam /home/adrian/projects/reynisfjara/results/bam/a4774_0h_2/positionsort.bam /home/adrian/projects/reynisfjara/results/bam/a4774_0h_3/positionsort.bam > /home/adrian/projects/reynisfjara/results/vcf/a4774_0h.vcftime /home/adrian/software/freebayes/freebayes-1.3.6-linux-amd64-static -f /home/adrian/databases/ensembl/mouse/Mus_musculus.GRCm39.cdna.all.fa --min-coverage 25 -F 0.05 /home/adrian/projects/reynisfjara/results/bam/a3922_48h_1/positionsort.bam /home/adrian/projects/reynisfjara/results/bam/a3922_48h_2/positionsort.bam /home/adrian/projects/reynisfjara/results/bam/a3922_48h_3/positionsort.bam > /home/adrian/projects/reynisfjara/results/vcf/a3922_48h.vcftime /home/adrian/software/freebayes/freebayes-1.3.6-linux-amd64-static -f /home/adrian/databases/ensembl/mouse/Mus_musculus.GRCm39.cdna.all.fa --min-coverage 25 -F 0.05 /home/adrian/projects/reynisfjara/results/bam/a3922_0h_1/positionsort.bam /home/adrian/projects/reynisfjara/results/bam/a3922_0h_2/positionsort.bam /home/adrian/projects/reynisfjara/results/bam/a3922_0h_3/positionsort.bam > /home/adrian/projects/reynisfjara/results/vcf/a3922_0h.vcftime /home/adrian/software/freebayes/freebayes-1.3.6-linux-amd64-static -f /home/adrian/databases/ensembl/mouse/Mus_musculus.GRCm39.cdna.all.fa --min-coverage 25 -F 0.05 /home/adrian/projects/reynisfjara/results/bam/a4774_48h_1/positionsort.bam /home/adrian/projects/reynisfjara/results/bam/a4774_48h_2/positionsort.bam /home/adrian/projects/reynisfjara/results/bam/a4774_48h_3/positionsort.bam > /home/adrian/projects/reynisfjara/results/vcf/a4774_48h.vcftime /home/adrian/software/freebayes/freebayes-1.3.6-linux-amd64-static -f /home/adrian/databases/ensembl/mouse/Mus_musculus.GRCm39.cdna.all.fa --min-coverage 25 -F 0.05 /home/adrian/projects/reynisfjara/results/bam/a3922_72h_1/positionsort.bam /home/adrian/projects/reynisfjara/results/bam/a3922_72h_2/positionsort.bam /home/adrian/projects/reynisfjara/results/bam/a3922_72h_3/positionsort.bam > /home/adrian/projects/reynisfjara/results/vcf/a3922_72h.vcf\n",
      "\n",
      "\n",
      "\n",
      "time /home/adrian/software/freebayes/freebayes-1.3.6-linux-amd64-static -f /home/adrian/databases/ensembl/mouse/Mus_musculus.GRCm39.cdna.all.fa --min-coverage 25 -F 0.05 /home/adrian/projects/reynisfjara/results/bam/a4775_48h_1/positionsort.bam /home/adrian/projects/reynisfjara/results/bam/a4775_48h_2/positionsort.bam /home/adrian/projects/reynisfjara/results/bam/a4775_48h_3/positionsort.bam > /home/adrian/projects/reynisfjara/results/vcf/a4775_48h.vcftime /home/adrian/software/freebayes/freebayes-1.3.6-linux-amd64-static -f /home/adrian/databases/ensembl/mouse/Mus_musculus.GRCm39.cdna.all.fa --min-coverage 25 -F 0.05 /home/adrian/projects/reynisfjara/results/bam/a4774_72h_1/positionsort.bam /home/adrian/projects/reynisfjara/results/bam/a4774_72h_2/positionsort.bam > /home/adrian/projects/reynisfjara/results/vcf/a4774_72h.vcftime /home/adrian/software/freebayes/freebayes-1.3.6-linux-amd64-static -f /home/adrian/databases/ensembl/mouse/Mus_musculus.GRCm39.cdna.all.fa --min-coverage 25 -F 0.05 /home/adrian/projects/reynisfjara/results/bam/a4775_72h_1/positionsort.bam /home/adrian/projects/reynisfjara/results/bam/a4775_72h_2/positionsort.bam /home/adrian/projects/reynisfjara/results/bam/a4775_72h_3/positionsort.bam > /home/adrian/projects/reynisfjara/results/vcf/a4775_72h.vcf\n",
      "time /home/adrian/software/freebayes/freebayes-1.3.6-linux-amd64-static -f /home/adrian/databases/ensembl/mouse/Mus_musculus.GRCm39.cdna.all.fa --min-coverage 25 -F 0.05 /home/adrian/projects/reynisfjara/results/bam/a4776_0h_1/positionsort.bam /home/adrian/projects/reynisfjara/results/bam/a4776_0h_2/positionsort.bam /home/adrian/projects/reynisfjara/results/bam/a4776_0h_3/positionsort.bam > /home/adrian/projects/reynisfjara/results/vcf/a4776_0h.vcf\n",
      "\n",
      "time /home/adrian/software/freebayes/freebayes-1.3.6-linux-amd64-static -f /home/adrian/databases/ensembl/mouse/Mus_musculus.GRCm39.cdna.all.fa --min-coverage 25 -F 0.05 /home/adrian/projects/reynisfjara/results/bam/a4776_72h_1/positionsort.bam /home/adrian/projects/reynisfjara/results/bam/a4776_72h_2/positionsort.bam /home/adrian/projects/reynisfjara/results/bam/a4776_72h_3/positionsort.bam > /home/adrian/projects/reynisfjara/results/vcf/a4776_72h.vcftime /home/adrian/software/freebayes/freebayes-1.3.6-linux-amd64-static -f /home/adrian/databases/ensembl/mouse/Mus_musculus.GRCm39.cdna.all.fa --min-coverage 25 -F 0.05 /home/adrian/projects/reynisfjara/results/bam/a4775_0h_1/positionsort.bam /home/adrian/projects/reynisfjara/results/bam/a4775_0h_2/positionsort.bam /home/adrian/projects/reynisfjara/results/bam/a4775_0h_3/positionsort.bam > /home/adrian/projects/reynisfjara/results/vcf/a4775_0h.vcf\n",
      "\n",
      "\n",
      "time /home/adrian/software/freebayes/freebayes-1.3.6-linux-amd64-static -f /home/adrian/databases/ensembl/mouse/Mus_musculus.GRCm39.cdna.all.fa --min-coverage 25 -F 0.05 /home/adrian/projects/reynisfjara/results/bam/a4776_48h_1/positionsort.bam /home/adrian/projects/reynisfjara/results/bam/a4776_48h_2/positionsort.bam /home/adrian/projects/reynisfjara/results/bam/a4776_48h_3/positionsort.bam > /home/adrian/projects/reynisfjara/results/vcf/a4776_48h.vcf\n",
      "\n",
      "\n"
     ]
    },
    {
     "name": "stderr",
     "output_type": "stream",
     "text": [
      "3588.92user 16.14system 1:11:36elapsed 83%CPU (0avgtext+0avgdata 765068maxresident)k\n",
      "13762392inputs+116600outputs (430major+198818minor)pagefaults 0swaps\n"
     ]
    },
    {
     "name": "stdout",
     "output_type": "stream",
     "text": [
      "\n"
     ]
    },
    {
     "name": "stderr",
     "output_type": "stream",
     "text": [
      "3890.55user 16.15system 1:16:20elapsed 85%CPU (0avgtext+0avgdata 870724maxresident)k\n",
      "15153448inputs+99656outputs (433major+230393minor)pagefaults 0swaps\n"
     ]
    },
    {
     "name": "stdout",
     "output_type": "stream",
     "text": [
      "\n"
     ]
    },
    {
     "name": "stderr",
     "output_type": "stream",
     "text": [
      "3919.27user 15.82system 1:16:47elapsed 85%CPU (0avgtext+0avgdata 806508maxresident)k\n",
      "15128512inputs+104144outputs (449major+214384minor)pagefaults 0swaps\n"
     ]
    },
    {
     "name": "stdout",
     "output_type": "stream",
     "text": [
      "\n"
     ]
    },
    {
     "name": "stderr",
     "output_type": "stream",
     "text": [
      "3980.37user 15.94system 1:18:21elapsed 84%CPU (0avgtext+0avgdata 825264maxresident)k\n",
      "14889608inputs+96904outputs (397major+219026minor)pagefaults 0swaps\n"
     ]
    },
    {
     "name": "stdout",
     "output_type": "stream",
     "text": [
      "\n"
     ]
    },
    {
     "name": "stderr",
     "output_type": "stream",
     "text": [
      "4052.03user 16.97system 1:19:20elapsed 85%CPU (0avgtext+0avgdata 822888maxresident)k\n",
      "15431648inputs+127456outputs (444major+218494minor)pagefaults 0swaps\n"
     ]
    },
    {
     "name": "stdout",
     "output_type": "stream",
     "text": [
      "\n"
     ]
    },
    {
     "name": "stderr",
     "output_type": "stream",
     "text": [
      "4196.08user 16.60system 1:22:01elapsed 85%CPU (0avgtext+0avgdata 954356maxresident)k\n",
      "16177048inputs+120896outputs (391major+251229minor)pagefaults 0swaps\n"
     ]
    },
    {
     "name": "stdout",
     "output_type": "stream",
     "text": [
      "\n"
     ]
    },
    {
     "name": "stderr",
     "output_type": "stream",
     "text": [
      "4292.16user 15.77system 1:23:20elapsed 86%CPU (0avgtext+0avgdata 914760maxresident)k\n",
      "15940536inputs+102680outputs (424major+241355minor)pagefaults 0swaps\n"
     ]
    },
    {
     "name": "stdout",
     "output_type": "stream",
     "text": [
      "\n"
     ]
    },
    {
     "name": "stderr",
     "output_type": "stream",
     "text": [
      "4362.08user 16.90system 1:24:24elapsed 86%CPU (0avgtext+0avgdata 1013432maxresident)k\n",
      "16947232inputs+114360outputs (421major+266095minor)pagefaults 0swaps\n"
     ]
    },
    {
     "name": "stdout",
     "output_type": "stream",
     "text": [
      "\n"
     ]
    },
    {
     "name": "stderr",
     "output_type": "stream",
     "text": [
      "4536.65user 16.94system 1:27:01elapsed 87%CPU (0avgtext+0avgdata 945768maxresident)k\n",
      "17991856inputs+118864outputs (420major+249177minor)pagefaults 0swaps\n"
     ]
    },
    {
     "name": "stdout",
     "output_type": "stream",
     "text": [
      "\n"
     ]
    },
    {
     "name": "stderr",
     "output_type": "stream",
     "text": [
      "4566.64user 16.74system 1:27:39elapsed 87%CPU (0avgtext+0avgdata 953156maxresident)k\n",
      "17267824inputs+113232outputs (494major+260010minor)pagefaults 0swaps\n"
     ]
    },
    {
     "name": "stdout",
     "output_type": "stream",
     "text": [
      "\n"
     ]
    },
    {
     "name": "stderr",
     "output_type": "stream",
     "text": [
      "4589.80user 17.18system 1:28:01elapsed 87%CPU (0avgtext+0avgdata 1067992maxresident)k\n",
      "18496584inputs+124992outputs (398major+279624minor)pagefaults 0swaps\n"
     ]
    },
    {
     "name": "stdout",
     "output_type": "stream",
     "text": [
      "\n"
     ]
    },
    {
     "name": "stderr",
     "output_type": "stream",
     "text": [
      "4729.58user 17.30system 1:30:30elapsed 87%CPU (0avgtext+0avgdata 1028016maxresident)k\n",
      "19161504inputs+138432outputs (343major+269664minor)pagefaults 0swaps\n"
     ]
    }
   ],
   "source": [
    "hydra = multiprocessing.pool.Pool(threads)\n",
    "empty = hydra.map(caller, samples)"
   ]
  },
  {
   "cell_type": "code",
   "execution_count": 8,
   "id": "7cd1b9fd-ef4c-4590-b95f-0e4326ca0e8d",
   "metadata": {},
   "outputs": [
    {
     "name": "stdout",
     "output_type": "stream",
     "text": [
      "... done.\n"
     ]
    }
   ],
   "source": [
    "print('... done.')"
   ]
  }
 ],
 "metadata": {
  "kernelspec": {
   "display_name": "Python 3 (ipykernel)",
   "language": "python",
   "name": "python3"
  },
  "language_info": {
   "codemirror_mode": {
    "name": "ipython",
    "version": 3
   },
   "file_extension": ".py",
   "mimetype": "text/x-python",
   "name": "python",
   "nbconvert_exporter": "python",
   "pygments_lexer": "ipython3",
   "version": "3.9.16"
  }
 },
 "nbformat": 4,
 "nbformat_minor": 5
}
