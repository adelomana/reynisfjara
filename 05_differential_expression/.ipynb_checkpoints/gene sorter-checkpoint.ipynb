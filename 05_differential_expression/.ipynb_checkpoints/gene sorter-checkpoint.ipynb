{
 "cells": [
  {
   "cell_type": "markdown",
   "id": "06909d13",
   "metadata": {},
   "source": [
    "This script analyses the trend changes between WT and MUT phenotypes across time. \n",
    "\n",
    "First, it associates a trend tag to each gene, in both WT and MUT conditions as follows:\n",
    "\n",
    "- up:\n",
    "    - max. expr. > 2; and abs log2FC > 1; and P < 0.05.\n",
    "- down:\n",
    "    - max. expr. > 2; and abs log2FC < 1; and P < 0.05.\n",
    "- flat: in both t = 48 h and t = 72 h. If it is different in each time point, it will be a not determined trend tag.\n",
    "    - max. expr. < 2; or\n",
    "    - abs log2FC < 1; or\n",
    "    - P < 0.05;\n",
    "- ND: not determined, trend not obvious to tag.\n",
    "\n",
    "The tag should be consistent across 2 out of the three MUT biological replicates.\n",
    "\n",
    "Once the tags are defined for WT and MUT in a dataframe, differential responses are retrieved as follows:\n",
    "\n",
    "- two gained responses: WT flat --> MUT up/down.\n",
    "- two lost responses: WT up/down --> WT flat.\n",
    "- two flipped responses: WT up/down ---> MUT down/up.\n",
    "\n",
    "Finally, for each response, a table is generated sorted by abs log2FC (MUT72h / WT@72h)."
   ]
  },
  {
   "cell_type": "code",
   "execution_count": null,
   "id": "d3ea6360",
   "metadata": {},
   "outputs": [],
   "source": [
    "for ensembl in ensembls:\n",
    "    tag = 'ND'\n",
    "    if is_flat(ensembl) == True:\n",
    "        tag = 'flat'\n",
    "    if is_up()\n",
    "    is_down()\n",
    "    "
   ]
  }
 ],
 "metadata": {
  "kernelspec": {
   "display_name": "Python 3",
   "language": "python",
   "name": "python3"
  },
  "language_info": {
   "codemirror_mode": {
    "name": "ipython",
    "version": 3
   },
   "file_extension": ".py",
   "mimetype": "text/x-python",
   "name": "python",
   "nbconvert_exporter": "python",
   "pygments_lexer": "ipython3",
   "version": "3.8.13"
  }
 },
 "nbformat": 4,
 "nbformat_minor": 5
}
