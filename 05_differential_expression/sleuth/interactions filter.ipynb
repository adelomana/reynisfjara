{
 "cells": [
  {
   "cell_type": "code",
   "execution_count": null,
   "id": "821605b8",
   "metadata": {},
   "outputs": [],
   "source": [
    "# drangajokull\n",
    "DEG_folder = '/home/adrian/projects/reynisfjara/results/DEGs_sleuth/'\n",
    "expression_file = '/home/adrian/projects/reynisfjara/results/tpm/sleuth_TPM_gene.csv'"
   ]
  },
  {
   "cell_type": "code",
   "execution_count": null,
   "id": "64b65416",
   "metadata": {},
   "outputs": [],
   "source": [
    "mice = ['a3922', 'a4774', 'a4775', 'a4776']\n",
    "times = ['0h', '48h', '72h']\n",
    "numerical_times = [0, 48, 72]"
   ]
  },
  {
   "cell_type": "code",
   "execution_count": null,
   "id": "42be8485",
   "metadata": {},
   "outputs": [],
   "source": [
    "expression = pandas.read_csv(expression_file, sep=',', index_col=0)\n",
    "expression.head()"
   ]
  },
  {
   "cell_type": "code",
   "execution_count": null,
   "id": "507aa977",
   "metadata": {},
   "outputs": [],
   "source": [
    "annotation = pandas.read_csv(annotation_file, sep=',', index_col='ens_gene')\n",
    "annotation.drop(columns=['Unnamed: 0', 'target_id'], inplace=True)\n",
    "annotation.drop_duplicates(inplace=True)\n",
    "print(annotation.shape)\n",
    "annotation.head()"
   ]
  }
 ],
 "metadata": {
  "kernelspec": {
   "display_name": "Python 3 (ipykernel)",
   "language": "python",
   "name": "python3"
  },
  "language_info": {
   "codemirror_mode": {
    "name": "ipython",
    "version": 3
   },
   "file_extension": ".py",
   "mimetype": "text/x-python",
   "name": "python",
   "nbconvert_exporter": "python",
   "pygments_lexer": "ipython3",
   "version": "3.9.16"
  }
 },
 "nbformat": 4,
 "nbformat_minor": 5
}
