{
 "cells": [
  {
   "cell_type": "markdown",
   "id": "f8e4b3c5",
   "metadata": {},
   "source": [
    "This scripts reproduces the relax pattern analysis using likelihood ratio test DEGs called by sleuth.\n",
    "LR should be more appropriate than Wald, as mentioned by developpers."
   ]
  },
  {
   "cell_type": "code",
   "execution_count": 1,
   "id": "c2954b8a",
   "metadata": {},
   "outputs": [],
   "source": [
    "import pandas, numpy, termcolor, seaborn, colorutils, matplotlib_venn\n",
    "import scipy, scipy.stats"
   ]
  },
  {
   "cell_type": "code",
   "execution_count": 2,
   "id": "75ea11da",
   "metadata": {},
   "outputs": [],
   "source": [
    "import matplotlib, matplotlib.pyplot\n",
    "matplotlib.rcParams.update({'font.size':20, 'font.family':'sans-serif', 'xtick.labelsize':30, 'ytick.labelsize':30, 'figure.figsize':(16, 9), 'axes.labelsize':40})"
   ]
  },
  {
   "cell_type": "markdown",
   "id": "5b1794e4",
   "metadata": {},
   "source": [
    "# 0. user-defined variables"
   ]
  },
  {
   "cell_type": "code",
   "execution_count": 3,
   "id": "c5f6a900",
   "metadata": {},
   "outputs": [],
   "source": [
    "DEG_folder = '/home/adrian/projects/reynisfjara/results/DEGs_sleuth/'\n",
    "expression_file = '/home/adrian/projects/reynisfjara/results/tpm/sleuth_TPM_gene.csv'\n",
    "\n",
    "annotation_file = '/home/adrian/projects/reynisfjara/results/annotation/annotation.csv'\n",
    "dorothea_file = '/home/adrian/software/dorothea/mmusculus/mmusculus.dorothea.txt'\n",
    "\n",
    "mice = ['a3922', 'a4774', 'a4775', 'a4776']\n",
    "times = ['0h', '48h', '72h']\n",
    "numerical_times = [0, 48, 72]"
   ]
  },
  {
   "cell_type": "markdown",
   "id": "e00a8d06",
   "metadata": {},
   "source": [
    "# 1. read data"
   ]
  },
  {
   "cell_type": "markdown",
   "id": "ef2a5a9b",
   "metadata": {},
   "source": [
    "## 1.1. read expression"
   ]
  },
  {
   "cell_type": "code",
   "execution_count": 4,
   "id": "7faa6b45",
   "metadata": {},
   "outputs": [
    {
     "data": {
      "text/html": [
       "<div>\n",
       "<style scoped>\n",
       "    .dataframe tbody tr th:only-of-type {\n",
       "        vertical-align: middle;\n",
       "    }\n",
       "\n",
       "    .dataframe tbody tr th {\n",
       "        vertical-align: top;\n",
       "    }\n",
       "\n",
       "    .dataframe thead th {\n",
       "        text-align: right;\n",
       "    }\n",
       "</style>\n",
       "<table border=\"1\" class=\"dataframe\">\n",
       "  <thead>\n",
       "    <tr style=\"text-align: right;\">\n",
       "      <th></th>\n",
       "      <th>a3922_0h_1</th>\n",
       "      <th>a3922_0h_2</th>\n",
       "      <th>a3922_0h_3</th>\n",
       "      <th>a3922_48h_1</th>\n",
       "      <th>a3922_48h_2</th>\n",
       "      <th>a3922_48h_3</th>\n",
       "      <th>a3922_72h_1</th>\n",
       "      <th>a3922_72h_2</th>\n",
       "      <th>a3922_72h_3</th>\n",
       "      <th>a4774_0h_1</th>\n",
       "      <th>...</th>\n",
       "      <th>a4775_72h_3</th>\n",
       "      <th>a4776_0h_1</th>\n",
       "      <th>a4776_0h_2</th>\n",
       "      <th>a4776_0h_3</th>\n",
       "      <th>a4776_48h_1</th>\n",
       "      <th>a4776_48h_2</th>\n",
       "      <th>a4776_48h_3</th>\n",
       "      <th>a4776_72h_1</th>\n",
       "      <th>a4776_72h_2</th>\n",
       "      <th>a4776_72h_3</th>\n",
       "    </tr>\n",
       "  </thead>\n",
       "  <tbody>\n",
       "    <tr>\n",
       "      <th>ENSMUSG00000000001</th>\n",
       "      <td>70.858869</td>\n",
       "      <td>67.179056</td>\n",
       "      <td>66.517375</td>\n",
       "      <td>81.861848</td>\n",
       "      <td>77.489075</td>\n",
       "      <td>70.854094</td>\n",
       "      <td>67.129660</td>\n",
       "      <td>72.872443</td>\n",
       "      <td>69.831027</td>\n",
       "      <td>60.885758</td>\n",
       "      <td>...</td>\n",
       "      <td>67.388986</td>\n",
       "      <td>65.794367</td>\n",
       "      <td>69.699430</td>\n",
       "      <td>68.146005</td>\n",
       "      <td>59.799927</td>\n",
       "      <td>66.423357</td>\n",
       "      <td>63.896714</td>\n",
       "      <td>64.310235</td>\n",
       "      <td>64.637999</td>\n",
       "      <td>64.687759</td>\n",
       "    </tr>\n",
       "    <tr>\n",
       "      <th>ENSMUSG00000000003</th>\n",
       "      <td>0.000000</td>\n",
       "      <td>0.000000</td>\n",
       "      <td>0.000000</td>\n",
       "      <td>0.000000</td>\n",
       "      <td>0.000000</td>\n",
       "      <td>0.000000</td>\n",
       "      <td>0.000000</td>\n",
       "      <td>0.000000</td>\n",
       "      <td>0.000000</td>\n",
       "      <td>0.000000</td>\n",
       "      <td>...</td>\n",
       "      <td>0.000000</td>\n",
       "      <td>0.000000</td>\n",
       "      <td>0.000000</td>\n",
       "      <td>0.000000</td>\n",
       "      <td>0.000000</td>\n",
       "      <td>0.000000</td>\n",
       "      <td>0.000000</td>\n",
       "      <td>0.000000</td>\n",
       "      <td>0.000000</td>\n",
       "      <td>0.000000</td>\n",
       "    </tr>\n",
       "    <tr>\n",
       "      <th>ENSMUSG00000000028</th>\n",
       "      <td>6.457057</td>\n",
       "      <td>5.565796</td>\n",
       "      <td>5.086769</td>\n",
       "      <td>22.012606</td>\n",
       "      <td>21.543720</td>\n",
       "      <td>22.339772</td>\n",
       "      <td>19.053432</td>\n",
       "      <td>22.896946</td>\n",
       "      <td>20.433887</td>\n",
       "      <td>7.799455</td>\n",
       "      <td>...</td>\n",
       "      <td>14.342087</td>\n",
       "      <td>4.784545</td>\n",
       "      <td>3.919546</td>\n",
       "      <td>4.207112</td>\n",
       "      <td>6.702482</td>\n",
       "      <td>8.104330</td>\n",
       "      <td>8.976260</td>\n",
       "      <td>8.732827</td>\n",
       "      <td>9.355852</td>\n",
       "      <td>8.934475</td>\n",
       "    </tr>\n",
       "    <tr>\n",
       "      <th>ENSMUSG00000000037</th>\n",
       "      <td>0.239987</td>\n",
       "      <td>0.977034</td>\n",
       "      <td>0.266774</td>\n",
       "      <td>1.054613</td>\n",
       "      <td>1.251900</td>\n",
       "      <td>2.173192</td>\n",
       "      <td>0.980283</td>\n",
       "      <td>2.443527</td>\n",
       "      <td>1.803596</td>\n",
       "      <td>0.542594</td>\n",
       "      <td>...</td>\n",
       "      <td>0.973886</td>\n",
       "      <td>0.458734</td>\n",
       "      <td>0.556198</td>\n",
       "      <td>0.693947</td>\n",
       "      <td>2.656600</td>\n",
       "      <td>0.836882</td>\n",
       "      <td>1.843121</td>\n",
       "      <td>1.487803</td>\n",
       "      <td>1.964196</td>\n",
       "      <td>4.959732</td>\n",
       "    </tr>\n",
       "    <tr>\n",
       "      <th>ENSMUSG00000000049</th>\n",
       "      <td>0.066739</td>\n",
       "      <td>0.063029</td>\n",
       "      <td>0.100137</td>\n",
       "      <td>0.000000</td>\n",
       "      <td>0.077734</td>\n",
       "      <td>0.000000</td>\n",
       "      <td>0.059189</td>\n",
       "      <td>0.000000</td>\n",
       "      <td>0.000000</td>\n",
       "      <td>0.212834</td>\n",
       "      <td>...</td>\n",
       "      <td>0.749643</td>\n",
       "      <td>0.000000</td>\n",
       "      <td>0.133703</td>\n",
       "      <td>0.000000</td>\n",
       "      <td>0.000000</td>\n",
       "      <td>0.093305</td>\n",
       "      <td>0.121948</td>\n",
       "      <td>0.000000</td>\n",
       "      <td>0.000000</td>\n",
       "      <td>0.000000</td>\n",
       "    </tr>\n",
       "  </tbody>\n",
       "</table>\n",
       "<p>5 rows × 35 columns</p>\n",
       "</div>"
      ],
      "text/plain": [
       "                    a3922_0h_1  a3922_0h_2  a3922_0h_3  a3922_48h_1  \\\n",
       "ENSMUSG00000000001   70.858869   67.179056   66.517375    81.861848   \n",
       "ENSMUSG00000000003    0.000000    0.000000    0.000000     0.000000   \n",
       "ENSMUSG00000000028    6.457057    5.565796    5.086769    22.012606   \n",
       "ENSMUSG00000000037    0.239987    0.977034    0.266774     1.054613   \n",
       "ENSMUSG00000000049    0.066739    0.063029    0.100137     0.000000   \n",
       "\n",
       "                    a3922_48h_2  a3922_48h_3  a3922_72h_1  a3922_72h_2  \\\n",
       "ENSMUSG00000000001    77.489075    70.854094    67.129660    72.872443   \n",
       "ENSMUSG00000000003     0.000000     0.000000     0.000000     0.000000   \n",
       "ENSMUSG00000000028    21.543720    22.339772    19.053432    22.896946   \n",
       "ENSMUSG00000000037     1.251900     2.173192     0.980283     2.443527   \n",
       "ENSMUSG00000000049     0.077734     0.000000     0.059189     0.000000   \n",
       "\n",
       "                    a3922_72h_3  a4774_0h_1  ...  a4775_72h_3  a4776_0h_1  \\\n",
       "ENSMUSG00000000001    69.831027   60.885758  ...    67.388986   65.794367   \n",
       "ENSMUSG00000000003     0.000000    0.000000  ...     0.000000    0.000000   \n",
       "ENSMUSG00000000028    20.433887    7.799455  ...    14.342087    4.784545   \n",
       "ENSMUSG00000000037     1.803596    0.542594  ...     0.973886    0.458734   \n",
       "ENSMUSG00000000049     0.000000    0.212834  ...     0.749643    0.000000   \n",
       "\n",
       "                    a4776_0h_2  a4776_0h_3  a4776_48h_1  a4776_48h_2  \\\n",
       "ENSMUSG00000000001   69.699430   68.146005    59.799927    66.423357   \n",
       "ENSMUSG00000000003    0.000000    0.000000     0.000000     0.000000   \n",
       "ENSMUSG00000000028    3.919546    4.207112     6.702482     8.104330   \n",
       "ENSMUSG00000000037    0.556198    0.693947     2.656600     0.836882   \n",
       "ENSMUSG00000000049    0.133703    0.000000     0.000000     0.093305   \n",
       "\n",
       "                    a4776_48h_3  a4776_72h_1  a4776_72h_2  a4776_72h_3  \n",
       "ENSMUSG00000000001    63.896714    64.310235    64.637999    64.687759  \n",
       "ENSMUSG00000000003     0.000000     0.000000     0.000000     0.000000  \n",
       "ENSMUSG00000000028     8.976260     8.732827     9.355852     8.934475  \n",
       "ENSMUSG00000000037     1.843121     1.487803     1.964196     4.959732  \n",
       "ENSMUSG00000000049     0.121948     0.000000     0.000000     0.000000  \n",
       "\n",
       "[5 rows x 35 columns]"
      ]
     },
     "execution_count": 4,
     "metadata": {},
     "output_type": "execute_result"
    }
   ],
   "source": [
    "expression = pandas.read_csv(expression_file, sep=',', index_col=0)\n",
    "expression.head()"
   ]
  },
  {
   "cell_type": "markdown",
   "id": "0276205d",
   "metadata": {},
   "source": [
    "# 1.2. read annotation"
   ]
  },
  {
   "cell_type": "code",
   "execution_count": 5,
   "id": "1439a312",
   "metadata": {},
   "outputs": [
    {
     "name": "stdout",
     "output_type": "stream",
     "text": [
      "(53193, 3)\n"
     ]
    },
    {
     "data": {
      "text/html": [
       "<div>\n",
       "<style scoped>\n",
       "    .dataframe tbody tr th:only-of-type {\n",
       "        vertical-align: middle;\n",
       "    }\n",
       "\n",
       "    .dataframe tbody tr th {\n",
       "        vertical-align: top;\n",
       "    }\n",
       "\n",
       "    .dataframe thead th {\n",
       "        text-align: right;\n",
       "    }\n",
       "</style>\n",
       "<table border=\"1\" class=\"dataframe\">\n",
       "  <thead>\n",
       "    <tr style=\"text-align: right;\">\n",
       "      <th></th>\n",
       "      <th>gene_biotype</th>\n",
       "      <th>description</th>\n",
       "      <th>ext_gene</th>\n",
       "    </tr>\n",
       "    <tr>\n",
       "      <th>ens_gene</th>\n",
       "      <th></th>\n",
       "      <th></th>\n",
       "      <th></th>\n",
       "    </tr>\n",
       "  </thead>\n",
       "  <tbody>\n",
       "    <tr>\n",
       "      <th>ENSMUSG00000064336</th>\n",
       "      <td>Mt_tRNA</td>\n",
       "      <td>mitochondrially encoded tRNA phenylalanine [So...</td>\n",
       "      <td>mt-Tf</td>\n",
       "    </tr>\n",
       "    <tr>\n",
       "      <th>ENSMUSG00000064337</th>\n",
       "      <td>Mt_rRNA</td>\n",
       "      <td>mitochondrially encoded 12S rRNA [Source:MGI S...</td>\n",
       "      <td>mt-Rnr1</td>\n",
       "    </tr>\n",
       "    <tr>\n",
       "      <th>ENSMUSG00000064338</th>\n",
       "      <td>Mt_tRNA</td>\n",
       "      <td>mitochondrially encoded tRNA valine [Source:MG...</td>\n",
       "      <td>mt-Tv</td>\n",
       "    </tr>\n",
       "    <tr>\n",
       "      <th>ENSMUSG00000064339</th>\n",
       "      <td>Mt_rRNA</td>\n",
       "      <td>mitochondrially encoded 16S rRNA [Source:MGI S...</td>\n",
       "      <td>mt-Rnr2</td>\n",
       "    </tr>\n",
       "    <tr>\n",
       "      <th>ENSMUSG00000064340</th>\n",
       "      <td>Mt_tRNA</td>\n",
       "      <td>mitochondrially encoded tRNA leucine 1 [Source...</td>\n",
       "      <td>mt-Tl1</td>\n",
       "    </tr>\n",
       "  </tbody>\n",
       "</table>\n",
       "</div>"
      ],
      "text/plain": [
       "                   gene_biotype  \\\n",
       "ens_gene                          \n",
       "ENSMUSG00000064336      Mt_tRNA   \n",
       "ENSMUSG00000064337      Mt_rRNA   \n",
       "ENSMUSG00000064338      Mt_tRNA   \n",
       "ENSMUSG00000064339      Mt_rRNA   \n",
       "ENSMUSG00000064340      Mt_tRNA   \n",
       "\n",
       "                                                          description ext_gene  \n",
       "ens_gene                                                                        \n",
       "ENSMUSG00000064336  mitochondrially encoded tRNA phenylalanine [So...    mt-Tf  \n",
       "ENSMUSG00000064337  mitochondrially encoded 12S rRNA [Source:MGI S...  mt-Rnr1  \n",
       "ENSMUSG00000064338  mitochondrially encoded tRNA valine [Source:MG...    mt-Tv  \n",
       "ENSMUSG00000064339  mitochondrially encoded 16S rRNA [Source:MGI S...  mt-Rnr2  \n",
       "ENSMUSG00000064340  mitochondrially encoded tRNA leucine 1 [Source...   mt-Tl1  "
      ]
     },
     "execution_count": 5,
     "metadata": {},
     "output_type": "execute_result"
    }
   ],
   "source": [
    "annotation = pandas.read_csv(annotation_file, sep=',', index_col='ens_gene')\n",
    "annotation.drop(columns=['Unnamed: 0', 'target_id'], inplace=True)\n",
    "annotation.drop_duplicates(inplace=True)\n",
    "print(annotation.shape)\n",
    "annotation.head()"
   ]
  },
  {
   "cell_type": "markdown",
   "id": "d769196f",
   "metadata": {},
   "source": [
    "# 2. transform expression to be more amenable to downstream analysis"
   ]
  },
  {
   "cell_type": "markdown",
   "id": "89471c63",
   "metadata": {},
   "source": [
    "## 2.1. retreive median expression over technical replicates"
   ]
  },
  {
   "cell_type": "code",
   "execution_count": 6,
   "id": "cbd833f8",
   "metadata": {},
   "outputs": [
    {
     "data": {
      "text/html": [
       "<div>\n",
       "<style scoped>\n",
       "    .dataframe tbody tr th:only-of-type {\n",
       "        vertical-align: middle;\n",
       "    }\n",
       "\n",
       "    .dataframe tbody tr th {\n",
       "        vertical-align: top;\n",
       "    }\n",
       "\n",
       "    .dataframe thead th {\n",
       "        text-align: right;\n",
       "    }\n",
       "</style>\n",
       "<table border=\"1\" class=\"dataframe\">\n",
       "  <thead>\n",
       "    <tr style=\"text-align: right;\">\n",
       "      <th></th>\n",
       "      <th>a3922_0h</th>\n",
       "      <th>a3922_48h</th>\n",
       "      <th>a3922_72h</th>\n",
       "      <th>a4774_0h</th>\n",
       "      <th>a4774_48h</th>\n",
       "      <th>a4774_72h</th>\n",
       "      <th>a4775_0h</th>\n",
       "      <th>a4775_48h</th>\n",
       "      <th>a4775_72h</th>\n",
       "      <th>a4776_0h</th>\n",
       "      <th>a4776_48h</th>\n",
       "      <th>a4776_72h</th>\n",
       "    </tr>\n",
       "  </thead>\n",
       "  <tbody>\n",
       "    <tr>\n",
       "      <th>ENSMUSG00000000001</th>\n",
       "      <td>67.179056</td>\n",
       "      <td>77.489075</td>\n",
       "      <td>69.831027</td>\n",
       "      <td>61.431895</td>\n",
       "      <td>63.517095</td>\n",
       "      <td>61.381634</td>\n",
       "      <td>61.144257</td>\n",
       "      <td>65.723226</td>\n",
       "      <td>65.802481</td>\n",
       "      <td>68.146005</td>\n",
       "      <td>63.896714</td>\n",
       "      <td>64.637999</td>\n",
       "    </tr>\n",
       "    <tr>\n",
       "      <th>ENSMUSG00000000003</th>\n",
       "      <td>0.000000</td>\n",
       "      <td>0.000000</td>\n",
       "      <td>0.000000</td>\n",
       "      <td>0.000000</td>\n",
       "      <td>0.000000</td>\n",
       "      <td>0.000000</td>\n",
       "      <td>0.000000</td>\n",
       "      <td>0.000000</td>\n",
       "      <td>0.000000</td>\n",
       "      <td>0.000000</td>\n",
       "      <td>0.000000</td>\n",
       "      <td>0.000000</td>\n",
       "    </tr>\n",
       "    <tr>\n",
       "      <th>ENSMUSG00000000028</th>\n",
       "      <td>5.565796</td>\n",
       "      <td>22.012606</td>\n",
       "      <td>20.433887</td>\n",
       "      <td>7.799455</td>\n",
       "      <td>7.762091</td>\n",
       "      <td>10.865097</td>\n",
       "      <td>9.153277</td>\n",
       "      <td>15.931611</td>\n",
       "      <td>15.545989</td>\n",
       "      <td>4.207112</td>\n",
       "      <td>8.104330</td>\n",
       "      <td>8.934475</td>\n",
       "    </tr>\n",
       "    <tr>\n",
       "      <th>ENSMUSG00000000037</th>\n",
       "      <td>0.266774</td>\n",
       "      <td>1.251900</td>\n",
       "      <td>1.803596</td>\n",
       "      <td>0.582819</td>\n",
       "      <td>1.347229</td>\n",
       "      <td>1.062233</td>\n",
       "      <td>0.516596</td>\n",
       "      <td>0.954984</td>\n",
       "      <td>1.646817</td>\n",
       "      <td>0.556198</td>\n",
       "      <td>1.843121</td>\n",
       "      <td>1.964196</td>\n",
       "    </tr>\n",
       "    <tr>\n",
       "      <th>ENSMUSG00000000049</th>\n",
       "      <td>0.066739</td>\n",
       "      <td>0.000000</td>\n",
       "      <td>0.000000</td>\n",
       "      <td>0.212834</td>\n",
       "      <td>0.000000</td>\n",
       "      <td>0.000000</td>\n",
       "      <td>0.158297</td>\n",
       "      <td>0.000000</td>\n",
       "      <td>0.424440</td>\n",
       "      <td>0.000000</td>\n",
       "      <td>0.093305</td>\n",
       "      <td>0.000000</td>\n",
       "    </tr>\n",
       "  </tbody>\n",
       "</table>\n",
       "</div>"
      ],
      "text/plain": [
       "                     a3922_0h  a3922_48h  a3922_72h   a4774_0h  a4774_48h  \\\n",
       "ENSMUSG00000000001  67.179056  77.489075  69.831027  61.431895  63.517095   \n",
       "ENSMUSG00000000003   0.000000   0.000000   0.000000   0.000000   0.000000   \n",
       "ENSMUSG00000000028   5.565796  22.012606  20.433887   7.799455   7.762091   \n",
       "ENSMUSG00000000037   0.266774   1.251900   1.803596   0.582819   1.347229   \n",
       "ENSMUSG00000000049   0.066739   0.000000   0.000000   0.212834   0.000000   \n",
       "\n",
       "                    a4774_72h   a4775_0h  a4775_48h  a4775_72h   a4776_0h  \\\n",
       "ENSMUSG00000000001  61.381634  61.144257  65.723226  65.802481  68.146005   \n",
       "ENSMUSG00000000003   0.000000   0.000000   0.000000   0.000000   0.000000   \n",
       "ENSMUSG00000000028  10.865097   9.153277  15.931611  15.545989   4.207112   \n",
       "ENSMUSG00000000037   1.062233   0.516596   0.954984   1.646817   0.556198   \n",
       "ENSMUSG00000000049   0.000000   0.158297   0.000000   0.424440   0.000000   \n",
       "\n",
       "                    a4776_48h  a4776_72h  \n",
       "ENSMUSG00000000001  63.896714  64.637999  \n",
       "ENSMUSG00000000003   0.000000   0.000000  \n",
       "ENSMUSG00000000028   8.104330   8.934475  \n",
       "ENSMUSG00000000037   1.843121   1.964196  \n",
       "ENSMUSG00000000049   0.093305   0.000000  "
      ]
     },
     "execution_count": 6,
     "metadata": {},
     "output_type": "execute_result"
    }
   ],
   "source": [
    "mice_expression = pandas.DataFrame()\n",
    "for mouse in mice:\n",
    "    for time in times:\n",
    "        condition_labels = [label for label in expression.columns if mouse in label and time in label]\n",
    "        mice_expression[mouse + '_' + time] = expression.loc[:, condition_labels].median(axis=1)\n",
    "mice_expression.head()"
   ]
  },
  {
   "cell_type": "markdown",
   "id": "dbb048c4",
   "metadata": {},
   "source": [
    "## 2.2. generate simple expression over biological replicates"
   ]
  },
  {
   "cell_type": "code",
   "execution_count": 7,
   "id": "0e3b365e",
   "metadata": {},
   "outputs": [
    {
     "data": {
      "text/html": [
       "<div>\n",
       "<style scoped>\n",
       "    .dataframe tbody tr th:only-of-type {\n",
       "        vertical-align: middle;\n",
       "    }\n",
       "\n",
       "    .dataframe tbody tr th {\n",
       "        vertical-align: top;\n",
       "    }\n",
       "\n",
       "    .dataframe thead th {\n",
       "        text-align: right;\n",
       "    }\n",
       "</style>\n",
       "<table border=\"1\" class=\"dataframe\">\n",
       "  <thead>\n",
       "    <tr style=\"text-align: right;\">\n",
       "      <th></th>\n",
       "      <th>WT_0h</th>\n",
       "      <th>WT_48h</th>\n",
       "      <th>WT_72h</th>\n",
       "    </tr>\n",
       "  </thead>\n",
       "  <tbody>\n",
       "    <tr>\n",
       "      <th>ENSMUSG00000000001</th>\n",
       "      <td>67.179056</td>\n",
       "      <td>77.489075</td>\n",
       "      <td>69.831027</td>\n",
       "    </tr>\n",
       "    <tr>\n",
       "      <th>ENSMUSG00000000003</th>\n",
       "      <td>0.000000</td>\n",
       "      <td>0.000000</td>\n",
       "      <td>0.000000</td>\n",
       "    </tr>\n",
       "    <tr>\n",
       "      <th>ENSMUSG00000000028</th>\n",
       "      <td>5.565796</td>\n",
       "      <td>22.012606</td>\n",
       "      <td>20.433887</td>\n",
       "    </tr>\n",
       "    <tr>\n",
       "      <th>ENSMUSG00000000037</th>\n",
       "      <td>0.266774</td>\n",
       "      <td>1.251900</td>\n",
       "      <td>1.803596</td>\n",
       "    </tr>\n",
       "    <tr>\n",
       "      <th>ENSMUSG00000000049</th>\n",
       "      <td>0.066739</td>\n",
       "      <td>0.000000</td>\n",
       "      <td>0.000000</td>\n",
       "    </tr>\n",
       "  </tbody>\n",
       "</table>\n",
       "</div>"
      ],
      "text/plain": [
       "                        WT_0h     WT_48h     WT_72h\n",
       "ENSMUSG00000000001  67.179056  77.489075  69.831027\n",
       "ENSMUSG00000000003   0.000000   0.000000   0.000000\n",
       "ENSMUSG00000000028   5.565796  22.012606  20.433887\n",
       "ENSMUSG00000000037   0.266774   1.251900   1.803596\n",
       "ENSMUSG00000000049   0.066739   0.000000   0.000000"
      ]
     },
     "execution_count": 7,
     "metadata": {},
     "output_type": "execute_result"
    }
   ],
   "source": [
    "simple_expression = mice_expression.iloc[:, :3]\n",
    "for label in simple_expression.columns:\n",
    "    if 'a3922' in label:\n",
    "        new_label = 'WT_' + label.split('_')[1]\n",
    "        simple_expression.rename(columns = {label:new_label}, inplace=True)\n",
    "simple_expression.head()"
   ]
  },
  {
   "cell_type": "code",
   "execution_count": 8,
   "id": "05a9e5e5",
   "metadata": {},
   "outputs": [
    {
     "data": {
      "text/html": [
       "<div>\n",
       "<style scoped>\n",
       "    .dataframe tbody tr th:only-of-type {\n",
       "        vertical-align: middle;\n",
       "    }\n",
       "\n",
       "    .dataframe tbody tr th {\n",
       "        vertical-align: top;\n",
       "    }\n",
       "\n",
       "    .dataframe thead th {\n",
       "        text-align: right;\n",
       "    }\n",
       "</style>\n",
       "<table border=\"1\" class=\"dataframe\">\n",
       "  <thead>\n",
       "    <tr style=\"text-align: right;\">\n",
       "      <th></th>\n",
       "      <th>WT_0h</th>\n",
       "      <th>WT_48h</th>\n",
       "      <th>WT_72h</th>\n",
       "      <th>MUT_0h</th>\n",
       "      <th>MUT_48h</th>\n",
       "      <th>MUT_72h</th>\n",
       "    </tr>\n",
       "  </thead>\n",
       "  <tbody>\n",
       "    <tr>\n",
       "      <th>ENSMUSG00000000001</th>\n",
       "      <td>67.179056</td>\n",
       "      <td>77.489075</td>\n",
       "      <td>69.831027</td>\n",
       "      <td>61.431895</td>\n",
       "      <td>63.896714</td>\n",
       "      <td>64.637999</td>\n",
       "    </tr>\n",
       "    <tr>\n",
       "      <th>ENSMUSG00000000003</th>\n",
       "      <td>0.000000</td>\n",
       "      <td>0.000000</td>\n",
       "      <td>0.000000</td>\n",
       "      <td>0.000000</td>\n",
       "      <td>0.000000</td>\n",
       "      <td>0.000000</td>\n",
       "    </tr>\n",
       "    <tr>\n",
       "      <th>ENSMUSG00000000028</th>\n",
       "      <td>5.565796</td>\n",
       "      <td>22.012606</td>\n",
       "      <td>20.433887</td>\n",
       "      <td>7.799455</td>\n",
       "      <td>8.104330</td>\n",
       "      <td>10.865097</td>\n",
       "    </tr>\n",
       "    <tr>\n",
       "      <th>ENSMUSG00000000037</th>\n",
       "      <td>0.266774</td>\n",
       "      <td>1.251900</td>\n",
       "      <td>1.803596</td>\n",
       "      <td>0.556198</td>\n",
       "      <td>1.347229</td>\n",
       "      <td>1.646817</td>\n",
       "    </tr>\n",
       "    <tr>\n",
       "      <th>ENSMUSG00000000049</th>\n",
       "      <td>0.066739</td>\n",
       "      <td>0.000000</td>\n",
       "      <td>0.000000</td>\n",
       "      <td>0.158297</td>\n",
       "      <td>0.000000</td>\n",
       "      <td>0.000000</td>\n",
       "    </tr>\n",
       "  </tbody>\n",
       "</table>\n",
       "</div>"
      ],
      "text/plain": [
       "                        WT_0h     WT_48h     WT_72h     MUT_0h    MUT_48h  \\\n",
       "ENSMUSG00000000001  67.179056  77.489075  69.831027  61.431895  63.896714   \n",
       "ENSMUSG00000000003   0.000000   0.000000   0.000000   0.000000   0.000000   \n",
       "ENSMUSG00000000028   5.565796  22.012606  20.433887   7.799455   8.104330   \n",
       "ENSMUSG00000000037   0.266774   1.251900   1.803596   0.556198   1.347229   \n",
       "ENSMUSG00000000049   0.066739   0.000000   0.000000   0.158297   0.000000   \n",
       "\n",
       "                      MUT_72h  \n",
       "ENSMUSG00000000001  64.637999  \n",
       "ENSMUSG00000000003   0.000000  \n",
       "ENSMUSG00000000028  10.865097  \n",
       "ENSMUSG00000000037   1.646817  \n",
       "ENSMUSG00000000049   0.000000  "
      ]
     },
     "execution_count": 8,
     "metadata": {},
     "output_type": "execute_result"
    }
   ],
   "source": [
    "for time in times:\n",
    "    condition_labels = [label for label in mice_expression.columns if time in label and 'a3922' not in label]\n",
    "    simple_expression['MUT_' + time] = mice_expression.loc[:, condition_labels].median(axis=1)\n",
    "\n",
    "simple_expression.head()"
   ]
  },
  {
   "cell_type": "markdown",
   "id": "770a46ec",
   "metadata": {},
   "source": [
    "# 3. identify signficance over the MUT mice"
   ]
  },
  {
   "cell_type": "code",
   "execution_count": 9,
   "id": "33584f24",
   "metadata": {},
   "outputs": [
    {
     "name": "stdout",
     "output_type": "stream",
     "text": [
      "working with mouse a4774\n",
      "\t significance detected for 3124 genes\n",
      "working with mouse a4775\n",
      "\t significance detected for 7285 genes\n",
      "working with mouse a4776\n",
      "\t significance detected for 8512 genes\n",
      "significant genes: 2559\n"
     ]
    }
   ],
   "source": [
    "significants = []\n",
    "for mouse in mice[1:]:\n",
    "    print('working with mouse {}'.format(mouse))\n",
    "    \n",
    "    ### significance\n",
    "    path = DEG_folder + mouse + '.t72overt0.LRT.csv'\n",
    "    df = pandas.read_csv(path, sep=',', index_col='target_id')\n",
    "    mouse_significants = df.index.to_list()\n",
    "    print('\\t significance detected for {} genes'.format(len(mouse_significants)))\n",
    "    significants.append(set(mouse_significants))\n",
    "    \n",
    "consistent_significants = list(significants[0] & significants[1] & significants[2])\n",
    "print('significant genes: {}'.format(len(consistent_significants)))"
   ]
  },
  {
   "cell_type": "markdown",
   "id": "bcfd3ed9",
   "metadata": {},
   "source": [
    "# 4. search for pattern based on regression"
   ]
  },
  {
   "cell_type": "markdown",
   "id": "8e3883e3",
   "metadata": {},
   "source": [
    "## 4.1. identify WT flat genes\n",
    "\n",
    "A flat gene is a gene that:  \n",
    "\n",
    "- has a low expression (TPM < 2),   \n",
    "- or, abs log2FC < log2(1.5).  \n",
    "\n",
    "working on regression lines.\n",
    "\n",
    "Also, we exclude signficances because in many cases small changes bring up significance but they may not be biologically meaningful."
   ]
  },
  {
   "cell_type": "code",
   "execution_count": null,
   "id": "e2db3dc7",
   "metadata": {},
   "outputs": [
    {
     "name": "stdout",
     "output_type": "stream",
     "text": [
      "['a3922_0h', 'a3922_48h', 'a3922_72h']\n",
      "[ 0 48 72]\n"
     ]
    }
   ],
   "source": [
    "wt_flat_genes = []\n",
    "fitted_response_wt = {}\n",
    "fitted_trajectory_wt = {} # used for heatmap\n",
    "\n",
    "labels = [label for label in mice_expression.columns if 'a3922' in label]\n",
    "labels.sort()\n",
    "t = numpy.array(numerical_times)\n",
    "print(labels)\n",
    "print(t)\n",
    "\n",
    "for ensembl in mice_expression.index:\n",
    "    y = mice_expression.loc[ensembl, labels].values\n",
    "    slope, intercept, r_value, p_value, std_err = scipy.stats.linregress(t, y)\n",
    "    fitted_y = slope*t + intercept\n",
    "    fitted_y[fitted_y < 0] = 0\n",
    "    fitted_trajectory_wt[ensembl] = fitted_y\n",
    "    max_fitted_y = numpy.max(fitted_y)\n",
    "    log2_fc_fitted_y = numpy.log2((fitted_y[-1]+1) / (fitted_y[0]+1))\n",
    "    fitted_response_wt[ensembl] = log2_fc_fitted_y\n",
    "    \n",
    "    if max_fitted_y < 2:\n",
    "        wt_flat_genes.append(ensembl)\n",
    "    if numpy.abs(log2_fc_fitted_y) < numpy.log2(1.5):\n",
    "        wt_flat_genes.append(ensembl)\n",
    "\n",
    "wt_flat_genes = list(set(wt_flat_genes))\n",
    "print('detected flat genes in WT: {}'.format(len(wt_flat_genes)))    "
   ]
  },
  {
   "cell_type": "markdown",
   "id": "ed3409cb",
   "metadata": {},
   "source": [
    "## 4.2. identify change in MUT and flat in WT"
   ]
  },
  {
   "cell_type": "code",
   "execution_count": null,
   "id": "1ba849a1",
   "metadata": {},
   "outputs": [],
   "source": [
    "substantials = []\n",
    "fitted_response_mut = {}\n",
    "fitted_trajectory_mut = {} # used for heatmap\n",
    "\n",
    "labels = [label for label in mice_expression.columns if 'a3922' not in label]\n",
    "labels.sort()\n",
    "catt = numpy.concatenate((numerical_times, numerical_times, numerical_times), axis=0)\n",
    "print(labels)\n",
    "print(t)\n",
    "\n",
    "print('working with {} consistent significant genes'.format(len(consistent_significants)))\n",
    "\n",
    "for ensembl in consistent_significants:\n",
    "    \n",
    "    ### determine if significants\n",
    "    y = mice_expression.loc[ensembl, labels].values\n",
    "    slope, intercept, r_value, p_value, std_err = scipy.stats.linregress(catt, y)\n",
    "    fitted_y = slope*t + intercept\n",
    "    fitted_y[fitted_y < 0] = 0\n",
    "    fitted_trajectory_mut[ensembl] = fitted_y\n",
    "    max_fitted_y = numpy.max(fitted_y)\n",
    "    log2_fc_fitted_y = numpy.log2((fitted_y[-1]+1) / (fitted_y[0]+1))\n",
    "    fitted_response_mut[ensembl] = log2_fc_fitted_y\n",
    "    \n",
    "    if numpy.abs(log2_fc_fitted_y) > 1 and max_fitted_y > 2:\n",
    "        substantials.append(ensembl)\n",
    "            \n",
    "print('\\t substantial change found for {} genes'.format(len(substantials)))"
   ]
  },
  {
   "cell_type": "code",
   "execution_count": null,
   "id": "321c3e3d",
   "metadata": {},
   "outputs": [],
   "source": [
    "### determine if substantials are also flat in WT\n",
    "weak_pattern_genes = []\n",
    "\n",
    "for ensembl in substantials:\n",
    "    if ensembl in wt_flat_genes:\n",
    "        weak_pattern_genes.append(ensembl)\n",
    "print('\\t weak pattern found for {} genes'.format(len(weak_pattern_genes)))"
   ]
  },
  {
   "cell_type": "code",
   "execution_count": null,
   "id": "c1d6b729",
   "metadata": {},
   "outputs": [],
   "source": [
    "### determine that sustantials have a delta between WT and MUT larger than one\n",
    "strong_pattern_genes = []\n",
    "\n",
    "for ensembl in weak_pattern_genes:\n",
    "    \n",
    "    ## determine the delta\n",
    "    delta =  fitted_response_mut[ensembl] - fitted_response_wt[ensembl]\n",
    "    if numpy.abs(delta) >= 1:\n",
    "        strong_pattern_genes.append(ensembl)\n",
    "\n",
    "print('\\t strong pattern found for {} genes'.format(len(strong_pattern_genes)))"
   ]
  },
  {
   "cell_type": "markdown",
   "id": "0d342a3e",
   "metadata": {},
   "source": [
    "# 5. build scatter plot"
   ]
  },
  {
   "cell_type": "code",
   "execution_count": null,
   "id": "15c8e994",
   "metadata": {},
   "outputs": [],
   "source": [
    "### determine volcano locations\n",
    "locations = {}\n",
    "\n",
    "for ensembl in weak_pattern_genes:\n",
    "    delta =  fitted_response_mut[ensembl] - fitted_response_wt[ensembl]\n",
    "    average_expression = numpy.mean(numpy.log10(mice_expression.loc[ensembl, :]))\n",
    "    locations[ensembl] = [delta, average_expression]"
   ]
  },
  {
   "cell_type": "code",
   "execution_count": null,
   "id": "b6445966",
   "metadata": {},
   "outputs": [],
   "source": [
    "for i in range(len(strong_pattern_genes)):\n",
    "    ensembl = strong_pattern_genes[i]\n",
    "    \n",
    "    gene_name = annotation.loc[ensembl]['ext_gene']\n",
    "    locx = locations[ensembl][0]\n",
    "    locy = locations[ensembl][1]\n",
    "    \n",
    "    if locx > 1:\n",
    "        the_color = 'tab:red'\n",
    "        matplotlib.pyplot.text(locx+(11/60), locy+(11.5/60), gene_name, color=the_color)\n",
    "    elif locx < -1:\n",
    "        the_color = 'tab:blue'\n",
    "        matplotlib.pyplot.text(locx-(11/12), locy+(11.5/60), gene_name, color=the_color)\n",
    "    else:\n",
    "        print(locx)\n",
    "        print('error')\n",
    "        \n",
    "    # finally plotting the dot\n",
    "    matplotlib.pyplot.scatter(locx, locy, s=1000, c=the_color, alpha=2/3, edgecolor='none')\n",
    "    \n",
    "    # printing for interpretation\n",
    "    if the_color == 'tab:blue':\n",
    "        printing_color = 'blue'\n",
    "    elif the_color == 'tab:red':\n",
    "        printing_color = 'red'\n",
    "    else:\n",
    "        printing_color = 'grey'\n",
    "    message = '\\t'.join([gene_name, '{:.3f}'.format(locx), '{:.3f}'.format(locy), the_color])\n",
    "    print(termcolor.colored(message, printing_color))\n",
    "\n",
    "matplotlib.pyplot.grid(alpha=0.5, ls=':')\n",
    "matplotlib.pyplot.xlabel('Differential response\\n[log$_2$FC$^{MUT}$(T72/T0) -  log$_2$FC$^{WT}$(T72/T0)]')\n",
    "matplotlib.pyplot.ylabel('Average expression\\n[log$_{10}$ TPM]')\n",
    "matplotlib.pyplot.axvline(1, color='gray', ls='--', lw=3, zorder=0)\n",
    "matplotlib.pyplot.axvline(-1, color='gray', ls='--', lw=3, zorder=0)\n",
    "matplotlib.pyplot.xlim([-4.6, 4.6])\n",
    "matplotlib.pyplot.ylim([0, 3.3])\n",
    "matplotlib.pyplot.tight_layout()"
   ]
  },
  {
   "cell_type": "markdown",
   "id": "d5a73f33",
   "metadata": {},
   "source": [
    "## 5.1. scatter plot for weak pattern"
   ]
  },
  {
   "cell_type": "code",
   "execution_count": null,
   "id": "ef0cfb44",
   "metadata": {},
   "outputs": [],
   "source": [
    "info = {}\n",
    "\n",
    "for i in range(len(weak_pattern_genes)):\n",
    "    ensembl = weak_pattern_genes[i]\n",
    "    \n",
    "    gene_name = annotation.loc[ensembl]['ext_gene']\n",
    "    description = annotation.loc[ensembl]['description']\n",
    "    locx = locations[ensembl][0]\n",
    "    locy = locations[ensembl][1]\n",
    "    info[ensembl] = [gene_name, description, locx, locy]\n",
    "    \n",
    "    if -1 < locx < 1:\n",
    "        the_color = 'gray'\n",
    "        matplotlib.pyplot.text(locx, locy, gene_name, color=the_color)\n",
    "    elif locx > 1:\n",
    "        the_color = 'tab:red'\n",
    "        matplotlib.pyplot.text(locx+(11/60), locy+(11.5/60), gene_name, color=the_color)\n",
    "    elif locx < -1:\n",
    "        the_color = 'tab:blue'\n",
    "        matplotlib.pyplot.text(locx-(11/12), locy+(11.5/60), gene_name, color=the_color)\n",
    "    else:\n",
    "        print(locx)\n",
    "        print('error')\n",
    "        \n",
    "    # finally plotting the dot\n",
    "    matplotlib.pyplot.scatter(locx, locy, s=1000, c=the_color, alpha=2/3, edgecolor='none')\n",
    "    \n",
    "    # printing for interpretation\n",
    "    if the_color == 'tab:blue':\n",
    "        printing_color = 'blue'\n",
    "    elif the_color == 'tab:red':\n",
    "        printing_color = 'red'\n",
    "    else:\n",
    "        printing_color = 'grey'\n",
    "    message = '\\t'.join([gene_name, '{:.3f}'.format(locx), '{:.3f}'.format(locy), the_color])\n",
    "    print(termcolor.colored(message, printing_color))\n",
    "\n",
    "matplotlib.pyplot.grid(alpha=0.5, ls=':')\n",
    "matplotlib.pyplot.xlabel('Differential response\\n[log$_2$FC$^{MUT}$(T72/T0) -  log$_2$FC$^{WT}$(T72/T0)]')\n",
    "matplotlib.pyplot.ylabel('Average expression\\n[log$_{10}$ TPM]')\n",
    "matplotlib.pyplot.axvline(1, color='gray', ls='--', lw=3, zorder=0)\n",
    "matplotlib.pyplot.axvline(-1, color='gray', ls='--', lw=3, zorder=0)\n",
    "matplotlib.pyplot.xlim([-4.6, 4.6])\n",
    "matplotlib.pyplot.ylim([0, 3.3])\n",
    "matplotlib.pyplot.tight_layout()"
   ]
  },
  {
   "cell_type": "code",
   "execution_count": null,
   "id": "40bbee30",
   "metadata": {
    "scrolled": false
   },
   "outputs": [],
   "source": [
    "df = pandas.DataFrame.from_dict(info, orient='index', columns=['Gene name', 'Description', 'Response difference', 'Expression [log10 TPM]'])\n",
    "df.sort_values(by='Response difference', inplace=True, ascending=False)"
   ]
  },
  {
   "cell_type": "code",
   "execution_count": null,
   "id": "8849e27d",
   "metadata": {},
   "outputs": [],
   "source": [
    "reds = df[df['Response difference'] > 1]\n",
    "print(reds.shape)\n",
    "reds"
   ]
  },
  {
   "cell_type": "code",
   "execution_count": null,
   "id": "736962a3",
   "metadata": {},
   "outputs": [],
   "source": [
    "greys = df[(df['Response difference'] < 1) & (df['Response difference'] > -1)]\n",
    "greys['Absolute difference'] = numpy.abs(greys['Response difference'])\n",
    "print(greys.shape)\n",
    "greys"
   ]
  },
  {
   "cell_type": "code",
   "execution_count": null,
   "id": "6dddce2f",
   "metadata": {},
   "outputs": [],
   "source": [
    "blues = df[df['Response difference'] < -1]\n",
    "print(blues.shape)\n",
    "blues"
   ]
  },
  {
   "cell_type": "markdown",
   "id": "7045ff6a",
   "metadata": {},
   "source": [
    "# 6. identify enrichment"
   ]
  },
  {
   "cell_type": "code",
   "execution_count": null,
   "id": "ccbaa1a8",
   "metadata": {},
   "outputs": [],
   "source": [
    "for ensembl in strong_pattern_genes:\n",
    "    print(ensembl)"
   ]
  },
  {
   "cell_type": "markdown",
   "id": "fa055609",
   "metadata": {},
   "source": [
    "Mus musculus (REF)\tupload_1 ( Hierarchy  NEW! Tips)  \n",
    "Reactome pathways\t#\t#\texpected\tFold Enrichment\t+/-\tP value  \n",
    "HS-GAG degradation\t22\t3\t.04\t85.70\t+\t1.37E-02  \n",
    "Unclassified\t12955\t12\t20.61\t.58\t-\t0.00E00  \n",
    "\n",
    "\n",
    "Naglu, Gpc2 and Hpse."
   ]
  },
  {
   "cell_type": "markdown",
   "id": "d7a95b39",
   "metadata": {},
   "source": [
    "# 6. build heatmap"
   ]
  },
  {
   "cell_type": "code",
   "execution_count": null,
   "id": "22c35c68",
   "metadata": {},
   "outputs": [],
   "source": [
    "container = {}\n",
    "for ensembl in strong_pattern_genes:\n",
    "    full = numpy.concatenate((fitted_trajectory_mut[ensembl], fitted_trajectory_wt[ensembl]), axis=0)\n",
    "    container[ensembl] = full\n",
    "    \n",
    "df = pandas.DataFrame.from_dict(container, orient='index', columns=['MUT_0h', 'MUT_48h', 'MUT_72h','WT_0h', 'WT_48h', 'WT_72h'])\n",
    "df.head()\n",
    "\n",
    "new_index = {}\n",
    "for ensembl in df.index:\n",
    "    gene_name = annotation.loc[ensembl]['ext_gene']\n",
    "    new_index[ensembl] = gene_name\n",
    "df.rename(index=new_index, inplace=True)"
   ]
  },
  {
   "cell_type": "code",
   "execution_count": null,
   "id": "6eacbbc8",
   "metadata": {},
   "outputs": [],
   "source": [
    "zscore_df = scipy.stats.zscore(df, axis=1)\n",
    "zscore_df.head()"
   ]
  },
  {
   "cell_type": "code",
   "execution_count": null,
   "id": "420803e6",
   "metadata": {},
   "outputs": [],
   "source": [
    "print(numpy.max(zscore_df.max()))\n",
    "print(numpy.min(zscore_df.min()))\n",
    "\n",
    "top = 2.5; bottom = -2.5\n",
    "top_white = 5/6; bottom_white = -5/6"
   ]
  },
  {
   "cell_type": "code",
   "execution_count": null,
   "id": "d01171e5",
   "metadata": {},
   "outputs": [],
   "source": [
    "# edited from https://stackoverflow.com/questions/59270751/how-to-make-a-diverging-color-bar-with-white-space-between-two-values-matplotlib\n",
    "p = [bottom, bottom_white, top_white, top]\n",
    "f = lambda x: numpy.interp(x, p, [0, 0.5, 0.5, 1])\n",
    "new_cmap = matplotlib.colors.LinearSegmentedColormap.from_list('map_white', list(zip(numpy.linspace(0,1), matplotlib.pyplot.cm.bwr(f(numpy.linspace(min(p), max(p)))))))"
   ]
  },
  {
   "cell_type": "code",
   "execution_count": null,
   "id": "9ae61ae7",
   "metadata": {},
   "outputs": [],
   "source": [
    "linkage_method = 'ward'\n",
    "distance_metric = 'euclidean'\n",
    "seaborn.set(font_scale=0.9)\n",
    "\n",
    "h = seaborn.clustermap(zscore_df, cmap=new_cmap, col_cluster=False, vmin=bottom, vmax=top, method=linkage_method, metric=distance_metric, yticklabels=1, xticklabels = ['MUT 0h', 'MUT 48h', 'MUT 72h', 'WT 0h', 'WT 48h', 'WT 72h'], cbar_kws={'label':'Expression (z-score)'})\n",
    "\n",
    "ordered_gene_names = [element.get_text() for element in h.ax_heatmap.get_yticklabels()]\n",
    "\n",
    "matplotlib.pyplot.title('{} {}'.format(linkage_method, distance_metric))\n",
    "matplotlib.pyplot.tight_layout()\n",
    "\n",
    "matplotlib.pyplot.show()\n",
    "\n",
    "#matplotlib.pyplot.savefig('heatmap.svg')"
   ]
  },
  {
   "cell_type": "markdown",
   "id": "c209bd48",
   "metadata": {},
   "source": [
    "# 7.build dynamics"
   ]
  },
  {
   "cell_type": "code",
   "execution_count": null,
   "id": "f7e888c5",
   "metadata": {},
   "outputs": [],
   "source": [
    "seaborn.reset_orig()\n",
    "matplotlib.rcParams.update({'font.size':12, 'font.family':'sans-serif', 'xtick.labelsize':12, 'ytick.labelsize':12, 'figure.figsize':(16/2, 9/2), 'axes.labelsize':12})"
   ]
  },
  {
   "cell_type": "code",
   "execution_count": null,
   "id": "73c4734c",
   "metadata": {},
   "outputs": [],
   "source": [
    "strong_pattern_gene_names = [annotation.loc[ensembl]['ext_gene'] for ensembl in strong_pattern_genes]\n",
    "strong_pattern_gene_names.sort()"
   ]
  },
  {
   "cell_type": "code",
   "execution_count": null,
   "id": "d86c4b1e",
   "metadata": {
    "scrolled": false
   },
   "outputs": [],
   "source": [
    "for gene_name in strong_pattern_gene_names:\n",
    "    ensembl = annotation[annotation['ext_gene'] == gene_name].index.to_list()[0]\n",
    "    ensembl_trajectory = []; ensembl_times = []\n",
    "    for mouse in mice:\n",
    "        \n",
    "        ### plot error bars based on mean and std values\n",
    "        plotting_means = []\n",
    "        plotting_stds = []\n",
    "        for time in times:\n",
    "            working_labels = [label for label in expression.columns if mouse in label and time in label]\n",
    "            #print(working_labels)\n",
    "            values = expression.loc[ensembl, working_labels]\n",
    "            plotting_means.append(numpy.mean(values))\n",
    "            plotting_stds.append(numpy.std(values))\n",
    "            \n",
    "        # plot data\n",
    "        if mouse == 'a3922':\n",
    "            the_color = 'black'\n",
    "        elif mouse == 'a4774':\n",
    "            the_color = 'gold'\n",
    "        elif mouse == 'a4775':\n",
    "            the_color = 'tab:orange'\n",
    "        elif mouse == 'a4776':\n",
    "            the_color = 'tab:purple'\n",
    "        else:\n",
    "            print('error')\n",
    "        matplotlib.pyplot.errorbar(numerical_times, plotting_means, yerr=plotting_stds, color=the_color, lw=0, elinewidth=4, alpha=2/3)\n",
    "        matplotlib.pyplot.plot(numerical_times, plotting_means, 'o', color=the_color, ms=20)\n",
    "        \n",
    "    ### plot the regression lines based on mice expresssion\n",
    "    labels = [label for label in mice_expression.columns if 'a3922' in label]\n",
    "    labels.sort()    \n",
    "    y = mice_expression.loc[ensembl, labels].values\n",
    "    t = numpy.array(numerical_times)\n",
    "    slope, intercept, r_value, p_value, std_err = scipy.stats.linregress(t, y)\n",
    "    fitted_y = slope*t + intercept\n",
    "    fitted_y[fitted_y < 0] = 0\n",
    "    matplotlib.pyplot.plot(t, fitted_y, '-', color='black', lw=5, zorder=0)\n",
    "    \n",
    "    labels = [label for label in mice_expression.columns if 'a3922' not in label]\n",
    "    labels.sort()\n",
    "    y = mice_expression.loc[ensembl, labels].values\n",
    "        \n",
    "    slope, intercept, r_value, p_value, std_err = scipy.stats.linregress(catt, y)\n",
    "    fitted_y = slope*t + intercept\n",
    "    fitted_y[fitted_y < 0] = 0\n",
    "    matplotlib.pyplot.plot(t, fitted_y, '-', color='tab:red', lw=5, zorder=0)\n",
    "        \n",
    "    # close figure\n",
    "    matplotlib.pyplot.grid(alpha=0.5, ls=':')\n",
    "    matplotlib.pyplot.title(gene_name, fontweight='bold')\n",
    "    matplotlib.pyplot.xlabel('Time [h]')\n",
    "    matplotlib.pyplot.ylabel('Expression [TPM]')\n",
    "    matplotlib.pyplot.tight_layout()\n",
    "    matplotlib.pyplot.show()"
   ]
  },
  {
   "cell_type": "markdown",
   "id": "b536784f",
   "metadata": {},
   "source": [
    "# Appendix 1 --- Analysis for direct targets"
   ]
  },
  {
   "cell_type": "code",
   "execution_count": null,
   "id": "6fb9556c",
   "metadata": {},
   "outputs": [],
   "source": []
  },
  {
   "cell_type": "markdown",
   "id": "d8c0b136",
   "metadata": {},
   "source": [
    "# Appendix 2 --- identify the number of filtered DEGs that separate time and biological differences."
   ]
  },
  {
   "cell_type": "code",
   "execution_count": null,
   "id": "b1575600",
   "metadata": {},
   "outputs": [],
   "source": [
    "## A.2.1. PCA on top highly expressed genes"
   ]
  },
  {
   "cell_type": "code",
   "execution_count": null,
   "id": "af7e8551",
   "metadata": {},
   "outputs": [],
   "source": [
    "## A.2.2. for time, retain union of time for each mouse."
   ]
  },
  {
   "cell_type": "code",
   "execution_count": null,
   "id": "510bd944",
   "metadata": {},
   "outputs": [],
   "source": [
    "## A.2.3. for biological differences, retain union of WT vs each MUT"
   ]
  },
  {
   "cell_type": "code",
   "execution_count": null,
   "id": "f6c3bfc6",
   "metadata": {},
   "outputs": [],
   "source": [
    "this is the end"
   ]
  },
  {
   "cell_type": "markdown",
   "id": "1a207378",
   "metadata": {},
   "source": [
    "## 3.2. identify the pattern of change in MUT and flat in WT"
   ]
  },
  {
   "cell_type": "code",
   "execution_count": null,
   "id": "81676542",
   "metadata": {},
   "outputs": [],
   "source": [
    "t = numpy.array(numerical_times)\n",
    "wt = simple_expression.loc[ensembl][:3].to_list()\n",
    "slope, intercept, r_value, p_value, std_err = scipy.stats.linregress(t, wt)\n",
    "fitted_wt = slope*t + intercept\n",
    "log2_fc_wt = numpy.log2(fitted_wt[-1] / fitted_wt[0])\n",
    "print(log2_fc_wt)\n"
   ]
  },
  {
   "cell_type": "code",
   "execution_count": null,
   "id": "ea5d52d6",
   "metadata": {
    "scrolled": false
   },
   "outputs": [],
   "source": [
    "over_mice = []\n",
    "for mouse in mice[1:]:\n",
    "    print('working with mouse {}'.format(mouse))\n",
    "    \n",
    "    ### significance\n",
    "    path = DEG_folder + mouse + '.t72overt0.LRT.csv'\n",
    "    df = pandas.read_csv(path, sep=',', index_col='target_id')\n",
    "    significants = df.index.to_list()\n",
    "    print('\\t significance detected for {} genes'.format(len(significants)))\n",
    "    \n",
    "    ### filter out genes that do not cross the abs log2FC >= 1 and the max. expr. >= 2\n",
    "    substantials = []\n",
    "    for significant in significants:\n",
    "        start = mice_expression.loc[significant, '{}_0h'.format(mouse)]\n",
    "        end = mice_expression.loc[significant, '{}_72h'.format(mouse)]\n",
    "        abs_log2FC = numpy.abs(numpy.log2((end+1)/(start+1)))\n",
    "        max_expr = numpy.max([start, end])\n",
    "        if abs_log2FC >= 1 and max_expr >= 2:\n",
    "            substantials.append(significant)\n",
    "    print('\\t substantial change found for {} genes'.format(len(substantials)))\n",
    "    \n",
    "    ### determine if substantials are flat in WT\n",
    "    pattern_ensembls = []\n",
    "    for substantial in substantials:\n",
    "        if substantial in wt_flat_genes:\n",
    "            pattern_ensembls.append(substantial)\n",
    "    print('\\t searched pattern found for {} genes'.format(len(pattern_ensembls)))\n",
    "    \n",
    "    ### determine if fitted delta between WT and MUT is larger than one\n",
    "    response_ensembls = []\n",
    "    mouse_labels = [label for label in mice_expression.columns if mouse in label]\n",
    "    for ensembl in pattern_ensembls:\n",
    "        t = numpy.array(numerical_times)\n",
    "        wt = simple_expression.loc[ensembl][:3].to_list()\n",
    "        slope, intercept, r_value, p_value, std_err = scipy.stats.linregress(t, wt)\n",
    "        fitted_wt = numpy.round(slope*t + intercept, 0)\n",
    "        fitted_wt[fitted_wt < 0] = 0\n",
    "        log2_fc_wt = numpy.log2((fitted_wt[-1]+1) / (fitted_wt[0]+1))  \n",
    "    \n",
    "        mut = mice_expression.loc[ensembl, mouse_labels].to_list()\n",
    "        slope, intercept, r_value, p_value, std_err = scipy.stats.linregress(t, mut)\n",
    "        fitted_mut = numpy.round(slope*t + intercept, 0)\n",
    "        fitted_mut[fitted_mut < 0] = 0\n",
    "        log2_fc_mut = numpy.log2((fitted_mut[-1]+1) / (fitted_mut[0]+1))\n",
    "        \n",
    "        delta = log2_fc_mut - log2_fc_wt\n",
    "        if numpy.abs(delta) >= 1:\n",
    "            response_ensembls.append(ensembl)\n",
    "    print('\\t response found for {} genes'.format(len(response_ensembls)))\n",
    "        \n",
    "    ### add the final set of response genes to find the intersect\n",
    "    over_mice.append(set(response_ensembls))\n",
    "        \n",
    "    print()\n",
    "    \n",
    "induced = list(over_mice[0] & over_mice[1] & over_mice[2])\n",
    "print('induced genes: {}'.format(len(induced)))"
   ]
  },
  {
   "cell_type": "code",
   "execution_count": null,
   "id": "d3cb2e78",
   "metadata": {},
   "outputs": [],
   "source": [
    "this is the end"
   ]
  },
  {
   "cell_type": "markdown",
   "id": "58f635e2",
   "metadata": {},
   "source": [
    "# 4. plot and print identified genes"
   ]
  },
  {
   "cell_type": "markdown",
   "id": "5d79e97c",
   "metadata": {},
   "source": [
    "## 4.1. print selected set of genes"
   ]
  },
  {
   "cell_type": "markdown",
   "id": "1caaf100",
   "metadata": {},
   "source": [
    "### Enrichment\n",
    "\n",
    "Mus musculus (REF)\tupload_1 ( Hierarchy  NEW! Tips)\n",
    "Reactome pathways\t#\t#\texpected\tFold Enrichment\t+/-\tP value\n",
    "HS-GAG degradation\t22\t3\t.03\t> 100\t+\t6.89E-03\n",
    "\n",
    "Naglu, Gpc2, Hpse"
   ]
  },
  {
   "cell_type": "code",
   "execution_count": null,
   "id": "1c385a74",
   "metadata": {},
   "outputs": [],
   "source": [
    "index = 0\n",
    "for ensembl in response_genes:\n",
    "    index = index + 1\n",
    "    gene_name = annotation.loc[ensembl]['ext_gene']\n",
    "    description = annotation.loc[ensembl]['description'].split(' [')[0]\n",
    "    if simple_expression.loc[ensembl, 'MUT_72h'] > simple_expression.loc[ensembl, 'MUT_0h']:\n",
    "        trend = 'up'\n",
    "        message = '\\t'.join([str(index), ensembl, gene_name, trend, description])\n",
    "        print(termcolor.colored(message, 'red'))\n",
    "    else:\n",
    "        trend = 'down'\n",
    "        message = '\\t'.join([str(index), ensembl, gene_name, trend, description])\n",
    "        print(termcolor.colored(message, 'blue'))"
   ]
  },
  {
   "cell_type": "code",
   "execution_count": null,
   "id": "69f05530",
   "metadata": {},
   "outputs": [],
   "source": [
    "# comparison with DESeq2 relax. It should be 27 genes.\n",
    "list_deseq2 = ['ENSMUSG00000001751', 'ENSMUSG00000003617', 'ENSMUSG00000009687', 'ENSMUSG00000013653', 'ENSMUSG00000014444', 'ENSMUSG00000016496', 'ENSMUSG00000017817', 'ENSMUSG00000021998', 'ENSMUSG00000022243', 'ENSMUSG00000023009', 'ENSMUSG00000026857', 'ENSMUSG00000028194', 'ENSMUSG00000028713', 'ENSMUSG00000029510', 'ENSMUSG00000029661', 'ENSMUSG00000029861', 'ENSMUSG00000030796', 'ENSMUSG00000035273', 'ENSMUSG00000036853', 'ENSMUSG00000041828', 'ENSMUSG00000046727', 'ENSMUSG00000047793', 'ENSMUSG00000047797', 'ENSMUSG00000059013', 'ENSMUSG00000068220', 'ENSMUSG00000074892', 'ENSMUSG00000074968']\n",
    "print(len(list_deseq2))"
   ]
  },
  {
   "cell_type": "code",
   "execution_count": null,
   "id": "137cb3ce",
   "metadata": {},
   "outputs": [],
   "source": [
    "print('sleuth-specific DEGs:')\n",
    "index = 0\n",
    "for ensembl in response_genes:\n",
    "    if ensembl not in list_deseq2:\n",
    "        index = index + 1\n",
    "        gene_name = annotation.loc[ensembl]['ext_gene']\n",
    "        description = annotation.loc[ensembl]['description'].split(' [')[0] \n",
    "        message = '\\t'.join([str(index), ensembl, gene_name, description])\n",
    "        print(message)\n",
    "\n",
    "print()\n",
    "\n",
    "print('DESeq2-specific DEGs:')\n",
    "index = 0\n",
    "for ensembl in list_deseq2:\n",
    "    if ensembl not in list_five:\n",
    "        index = index + 1\n",
    "        gene_name = annotation.loc[ensembl]['ext_gene']\n",
    "        description = annotation.loc[ensembl]['description'].split(' [')[0] \n",
    "        message = '\\t'.join([str(index), ensembl, gene_name, description])\n",
    "        print(message)\n",
    "        \n",
    "print()\n",
    "\n",
    "print('Common in both')\n",
    "common = list(set(response_genes) & set(list_deseq2))\n",
    "index = 0\n",
    "for ensembl in common:\n",
    "    index = index + 1\n",
    "    gene_name = annotation.loc[ensembl]['ext_gene']\n",
    "    description = annotation.loc[ensembl]['description'].split(' [')[0] \n",
    "    message = '\\t'.join([str(index), ensembl, gene_name, description])\n",
    "    print(message)"
   ]
  },
  {
   "cell_type": "markdown",
   "id": "3524b817",
   "metadata": {},
   "source": [
    "## 4.2. generate trajectory plots"
   ]
  },
  {
   "cell_type": "code",
   "execution_count": null,
   "id": "af26527f",
   "metadata": {
    "scrolled": false
   },
   "outputs": [],
   "source": [
    "matplotlib.rcParams.update({'figure.figsize':(16/3, 9/3)})\n",
    "matplotlib.rcParams.update({'font.size':10, 'xtick.labelsize':8, 'ytick.labelsize':8, 'figure.figsize':(16/3, 9/3), 'axes.labelsize':10})\n",
    "\n",
    "expression_labels = expression.columns\n",
    "wt_labels = [label for label in simple_expression.columns if 'WT' in label]\n",
    "mut_labels = [label for label in simple_expression.columns if 'MUT' in label]\n",
    "fitted_change_dict = {}\n",
    "\n",
    "list_six = [annotation.loc[ensembl]['ext_gene'] for ensembl in list_five]\n",
    "list_six.sort()\n",
    "\n",
    "for ensembl in response_genes:\n",
    "    gene_name = annotation.loc[ensembl]['ext_gene']\n",
    "    ensembl_trajectory = []; ensembl_times = []\n",
    "    fitted_change_dict[gene_name] = []\n",
    "    \n",
    "    for mouse in mice:\n",
    "        plotting_means = []\n",
    "        plotting_stds = []\n",
    "        \n",
    "        for time in times:\n",
    "            working_labels = [label for label in expression_labels if mouse in label and time in label]\n",
    "            values = expression.loc[ensembl, working_labels]\n",
    "            plotting_means.append(numpy.mean(values))\n",
    "            plotting_stds.append(numpy.std(values))\n",
    "            \n",
    "            for value in values.to_list():\n",
    "                ensembl_trajectory.append(value)\n",
    "                ensembl_times.append(int(time.split('h')[0]))\n",
    "            \n",
    "        # plot data\n",
    "        if mouse == 'a3922':\n",
    "            the_color = 'black'\n",
    "        elif mouse == 'a4774':\n",
    "            the_color = 'gold'\n",
    "        elif mouse == 'a4775':\n",
    "            the_color = 'tab:orange'\n",
    "        elif mouse == 'a4776':\n",
    "            the_color = 'tab:purple'\n",
    "        else:\n",
    "            print('error')\n",
    "        matplotlib.pyplot.errorbar(numerical_times, plotting_means, yerr=plotting_stds, color=the_color, lw=0, elinewidth=4, alpha=2/3)\n",
    "        matplotlib.pyplot.plot(numerical_times, plotting_means, 'o', color=the_color, ms=20)\n",
    "            \n",
    "    # fit and visualize trend\n",
    "    x = ensembl_times[:9]\n",
    "    y = ensembl_trajectory[:9]\n",
    "    slope, intercept, r_value, p_value, std_err = scipy.stats.linregress(x, y)\n",
    "    newx = numpy.arange(0, 72+1, 1)\n",
    "    newy = slope*newx + intercept\n",
    "    matplotlib.pyplot.plot(newx, newy, '-', color='black', lw=5, zorder=0)\n",
    "    # store info for z-score heatmap\n",
    "    d = slope*numpy.array(numerical_times) + intercept\n",
    "    for element in d:\n",
    "        fitted_change_dict[gene_name].append(element)\n",
    "    \n",
    "    x = ensembl_times[9:]\n",
    "    y = ensembl_trajectory[9:]\n",
    "    slope, intercept, r_value, p_value, std_err = scipy.stats.linregress(x, y)\n",
    "    newx = numpy.arange(0, 72+1, 1)\n",
    "    newy = slope*newx + intercept\n",
    "    matplotlib.pyplot.plot(newx, newy, '-', color='tab:red', lw=5, zorder=0)\n",
    "    \n",
    "    # store info for z-score heatmap\n",
    "    d = slope*numpy.array(numerical_times) + intercept\n",
    "    for element in d:\n",
    "        fitted_change_dict[gene_name].append(element)\n",
    "        \n",
    "    # define legend elements\n",
    "    legend_elements = [\n",
    "        matplotlib.lines.Line2D([0], [0], color='white', marker='o', markeredgecolor='white', markerfacecolor='gold', markersize=25),\n",
    "        matplotlib.lines.Line2D([0], [0], color='white', marker='o', markeredgecolor='white', markerfacecolor='tab:orange', markersize=25),\n",
    "        matplotlib.lines.Line2D([0], [0], color='white', marker='o', markeredgecolor='white', markerfacecolor='tab:purple', markersize=25),\n",
    "        \n",
    "        matplotlib.lines.Line2D([0], [0], color='black', ls='-', lw=5),\n",
    "        matplotlib.lines.Line2D([0], [0], color='tab:red', ls='-', lw=5)      \n",
    "]\n",
    "    matplotlib.pyplot.legend(legend_elements, ['Mut A', 'Mut B', 'Mut C', 'WT', 'MUT'], ncol=2)\n",
    "    \n",
    "    # close figure\n",
    "    matplotlib.pyplot.grid(alpha=0.5, ls=':')\n",
    "    matplotlib.pyplot.title(gene_name, fontweight='bold')\n",
    "    matplotlib.pyplot.xlabel('Time [h]')\n",
    "    matplotlib.pyplot.ylabel('Expression [TPM]')\n",
    "    matplotlib.pyplot.tight_layout()\n",
    "    #matplotlib.pyplot.show()"
   ]
  },
  {
   "cell_type": "markdown",
   "id": "45a6ec3b",
   "metadata": {},
   "source": [
    "## 4.3. generate heatmap on z-score"
   ]
  },
  {
   "cell_type": "code",
   "execution_count": null,
   "id": "a36ab770",
   "metadata": {},
   "outputs": [],
   "source": [
    "df = pandas.DataFrame(fitted_change_dict)\n",
    "tdf = df.transpose()\n",
    "tdf.columns = simple_expression.columns\n",
    "tdf.head()"
   ]
  },
  {
   "cell_type": "code",
   "execution_count": null,
   "id": "925e3600",
   "metadata": {},
   "outputs": [],
   "source": [
    "# retrieve x and y for volcano plot\n",
    "volcanox = []; volcanoy = []\n",
    "for gene_name in tdf.index:\n",
    "    average_expression = numpy.mean(numpy.log10(tdf.loc[gene_name, :]))\n",
    "    fc_wt = (tdf.loc[gene_name, 'WT_72h']+1) / (tdf.loc[gene_name, 'WT_0h']+1)\n",
    "    fc_mut = (tdf.loc[gene_name, 'MUT_72h']+1) / (tdf.loc[gene_name, 'MUT_0h']+1)\n",
    "    delta = numpy.log2(fc_mut) - numpy.log2(fc_wt)\n",
    "    volcanox.append(delta); volcanoy.append(average_expression)"
   ]
  },
  {
   "cell_type": "code",
   "execution_count": null,
   "id": "18706183",
   "metadata": {},
   "outputs": [],
   "source": [
    "rounded_df = numpy.round(tdf, 0) + 1\n",
    "rounded_df.head()"
   ]
  },
  {
   "cell_type": "code",
   "execution_count": null,
   "id": "ac67f3c6",
   "metadata": {},
   "outputs": [],
   "source": [
    "zscore_df = scipy.stats.zscore(rounded_df, axis=1)\n",
    "zscore_df.head()"
   ]
  },
  {
   "cell_type": "code",
   "execution_count": null,
   "id": "17e87c8c",
   "metadata": {},
   "outputs": [],
   "source": [
    "zscore_df = zscore_df[['MUT_0h', 'MUT_48h', 'MUT_72h','WT_0h', 'WT_48h', 'WT_72h']]\n",
    "zscore_df.head()"
   ]
  },
  {
   "cell_type": "code",
   "execution_count": null,
   "id": "b1fad131",
   "metadata": {},
   "outputs": [],
   "source": [
    "print(numpy.max(zscore_df.max()))\n",
    "print(numpy.min(zscore_df.min()))\n",
    "\n",
    "top = 2.5; bottom = -2.5\n",
    "top_white = 5/6; bottom_white = -5/6"
   ]
  },
  {
   "cell_type": "code",
   "execution_count": null,
   "id": "e8fb0ddc",
   "metadata": {},
   "outputs": [],
   "source": [
    "# edited from https://stackoverflow.com/questions/59270751/how-to-make-a-diverging-color-bar-with-white-space-between-two-values-matplotlib\n",
    "p = [bottom, bottom_white, top_white, top]\n",
    "f = lambda x: numpy.interp(x, p, [0, 0.5, 0.5, 1])\n",
    "new_cmap = matplotlib.colors.LinearSegmentedColormap.from_list('map_white', list(zip(numpy.linspace(0,1), matplotlib.pyplot.cm.bwr(f(numpy.linspace(min(p), max(p)))))))"
   ]
  },
  {
   "cell_type": "code",
   "execution_count": null,
   "id": "c36553e4",
   "metadata": {
    "scrolled": false
   },
   "outputs": [],
   "source": [
    "linkage_method = 'ward'\n",
    "distance_metric = 'euclidean'\n",
    "seaborn.set(font_scale=0.9)\n",
    "\n",
    "h = seaborn.clustermap(zscore_df, cmap=new_cmap, col_cluster=False, vmin=bottom, vmax=top, method=linkage_method, metric=distance_metric, yticklabels=1, xticklabels = ['MUT 0h', 'MUT 48h', 'MUT 72h', 'WT 0h', 'WT 48h', 'WT 72h'], cbar_kws={'label':'Expression (z-score)'})\n",
    "\n",
    "ordered_gene_names = [element.get_text() for element in h.ax_heatmap.get_yticklabels()]\n",
    "for gene_name in ordered_gene_names:\n",
    "    print(gene_name)\n",
    "\n",
    "matplotlib.pyplot.title('{} {}'.format(linkage_method, distance_metric))\n",
    "matplotlib.pyplot.tight_layout()\n",
    "\n",
    "#matplotlib.pyplot.show()\n",
    "\n",
    "matplotlib.pyplot.savefig('heatmap.svg')"
   ]
  },
  {
   "cell_type": "code",
   "execution_count": null,
   "id": "e2fa8690",
   "metadata": {},
   "outputs": [],
   "source": [
    "# just a different visualization of the same data\n",
    "linkage_method = 'ward'\n",
    "distance_metric = 'euclidean'\n",
    "seaborn.set(font_scale=0.9)\n",
    "\n",
    "seaborn.clustermap(zscore_df, cmap='RdBu_r', col_cluster=False, vmin=bottom, vmax=top, method=linkage_method, metric=distance_metric, yticklabels=1, xticklabels = ['MUT 0h', 'MUT 48h', 'MUT 72h', 'WT 0h', 'WT 48h', 'WT 72h'], cbar_kws={'label':'Expression (z-score)'})\n",
    "\n",
    "matplotlib.pyplot.title('{} {}'.format(linkage_method, distance_metric))\n",
    "matplotlib.pyplot.tight_layout()\n",
    "matplotlib.pyplot.show()"
   ]
  },
  {
   "cell_type": "code",
   "execution_count": null,
   "id": "9d7d7d05",
   "metadata": {},
   "outputs": [],
   "source": [
    "seaborn.reset_orig()\n",
    "matplotlib.rcParams.update({'font.size':20, 'font.family':'sans-serif', 'xtick.labelsize':30, 'ytick.labelsize':30, 'figure.figsize':(16, 9), 'axes.labelsize':40})"
   ]
  },
  {
   "cell_type": "markdown",
   "id": "1e4315d2",
   "metadata": {},
   "source": [
    "## 4.4. pseudo volcano plot"
   ]
  },
  {
   "cell_type": "code",
   "execution_count": null,
   "id": "26f51f6d",
   "metadata": {},
   "outputs": [],
   "source": [
    "gene_names = rounded_df.index\n",
    "\n",
    "for i in range(len(volcanox)):\n",
    "    \n",
    "    if -1 <= volcanox[i] <= 1:\n",
    "        the_color = 'gray'\n",
    "        matplotlib.pyplot.text(volcanox[i], volcanoy[i]+(3.5/25), gene_names[i], color=the_color)\n",
    "    elif volcanox[i] > 1:\n",
    "        the_color = 'tab:red'\n",
    "        matplotlib.pyplot.text(volcanox[i]+(7/50), volcanoy[i]+(3.5/25), gene_names[i], color=the_color)\n",
    "    elif volcanox[i] < -1:\n",
    "        the_color = 'tab:blue'\n",
    "        matplotlib.pyplot.text(volcanox[i]-(7/12), volcanoy[i]+(3.5/25), gene_names[i], color=the_color)\n",
    "    else:\n",
    "        print(volcanox[i])\n",
    "        print('error')\n",
    "        \n",
    "    # finally plotting the dot\n",
    "    matplotlib.pyplot.scatter(volcanox[i], volcanoy[i], s=1000, c=the_color, alpha=2/3, edgecolor='none')\n",
    "    \n",
    "    # printing for interpretation\n",
    "    if the_color == 'tab:blue':\n",
    "        printing_color = 'blue'\n",
    "    elif the_color == 'tab:red':\n",
    "        printing_color = 'red'\n",
    "    else:\n",
    "        printing_color = 'grey'\n",
    "    message = '\\t'.join([str(i+1), gene_names[i], '{:.3f}'.format(volcanox[i]), '{:.3f}'.format(volcanoy[i]), the_color])\n",
    "    print(termcolor.colored(message, printing_color))\n",
    "\n",
    "matplotlib.pyplot.grid(alpha=0.5, ls=':')\n",
    "matplotlib.pyplot.xlabel('Differential response\\n[log$_2$FC$^{MUT}$(T72/T0) -  log$_2$FC$^{WT}$(T72/T0)]')\n",
    "matplotlib.pyplot.ylabel('Average expression\\n[log$_{10}$ TPM]')\n",
    "matplotlib.pyplot.axvline(1, color='gray', ls='--', lw=3, zorder=0)\n",
    "matplotlib.pyplot.axvline(-1, color='gray', ls='--', lw=3, zorder=0)\n",
    "matplotlib.pyplot.xlim([-5, 5])\n",
    "matplotlib.pyplot.ylim([0, 3.5])\n",
    "matplotlib.pyplot.tight_layout()"
   ]
  },
  {
   "cell_type": "markdown",
   "id": "dc988215",
   "metadata": {},
   "source": [
    "# 5. Mitf direct targets analysis"
   ]
  },
  {
   "cell_type": "markdown",
   "id": "0cdfcfe3",
   "metadata": {},
   "source": [
    "## 5.1. read Dorothea database"
   ]
  },
  {
   "cell_type": "code",
   "execution_count": null,
   "id": "6ab8670e",
   "metadata": {},
   "outputs": [],
   "source": [
    "dorothea = pandas.read_csv(dorothea_file, sep='\\t', index_col=0)\n",
    "print(dorothea.shape)\n",
    "dorothea.head()"
   ]
  },
  {
   "cell_type": "code",
   "execution_count": null,
   "id": "19a4fd97",
   "metadata": {},
   "outputs": [],
   "source": [
    "# define gene names for annotation\n",
    "annotation_gene_names = set(annotation['ext_gene'].to_list())\n",
    "print('annotation genes: {}'.format(len(annotation_gene_names)))\n",
    "\n",
    "a = set(dorothea['tf'].to_list())\n",
    "b = set(dorothea['target'].to_list())\n",
    "dorothea_genes = a.union(b)\n",
    "print('dorothea genes: {}'.format(len(dorothea_genes)))\n",
    "\n",
    "\n",
    "universe = list(annotation_gene_names & dorothea_genes)\n",
    "print('common universe genes: {}'.format(len(universe)))"
   ]
  },
  {
   "cell_type": "markdown",
   "id": "13c80ee3",
   "metadata": {},
   "source": [
    "## 5.2. define the set of Mitf direct targets"
   ]
  },
  {
   "cell_type": "code",
   "execution_count": null,
   "id": "08414d24",
   "metadata": {},
   "outputs": [],
   "source": [
    "direct_targets = dorothea[dorothea['tf'] == 'Mitf']\n",
    "print(direct_targets.shape)\n",
    "direct_targets.head()"
   ]
  },
  {
   "cell_type": "code",
   "execution_count": null,
   "id": "f7571833",
   "metadata": {},
   "outputs": [],
   "source": [
    "direct_targets_names = direct_targets['target'].to_list()\n",
    "print(len(direct_targets_names))"
   ]
  },
  {
   "cell_type": "markdown",
   "id": "f11577cd",
   "metadata": {},
   "source": [
    "## 5.3. define the number of responding genes among Mitf direct target genes"
   ]
  },
  {
   "cell_type": "code",
   "execution_count": null,
   "id": "9d2cabe7",
   "metadata": {},
   "outputs": [],
   "source": [
    "print(direct_targets_names, len(direct_targets_names))\n",
    "response_genes = gene_names.to_list()\n",
    "print(response_genes, len(response_genes))"
   ]
  },
  {
   "cell_type": "code",
   "execution_count": null,
   "id": "740e54e9",
   "metadata": {},
   "outputs": [],
   "source": [
    "successes = list(set(direct_targets_names) & set(response_genes))\n",
    "print(successes)"
   ]
  },
  {
   "cell_type": "markdown",
   "id": "6d5d1afe",
   "metadata": {},
   "source": [
    "## 5.4. plot the behaviour of the Mitf direct target genes"
   ]
  },
  {
   "cell_type": "code",
   "execution_count": null,
   "id": "135c6a0b",
   "metadata": {},
   "outputs": [],
   "source": [
    "list_seven = []\n",
    "for gene_name in direct_targets_names:\n",
    "    ensembl = annotation[annotation['ext_gene'] == gene_name].index.to_list()[0]\n",
    "    list_seven.append(ensembl)\n",
    "print(len(list_seven))"
   ]
  },
  {
   "cell_type": "code",
   "execution_count": null,
   "id": "abb865db",
   "metadata": {
    "scrolled": false
   },
   "outputs": [],
   "source": [
    "matplotlib.rcParams.update({'figure.figsize':(16/3, 9/3)})\n",
    "matplotlib.rcParams.update({'font.size':10, 'xtick.labelsize':8, 'ytick.labelsize':8, 'figure.figsize':(16/3, 9/3), 'axes.labelsize':10})\n",
    "\n",
    "expression_labels = expression.columns\n",
    "wt_labels = [label for label in simple_expression.columns if 'WT' in label]\n",
    "mut_labels = [label for label in simple_expression.columns if 'MUT' in label]\n",
    "fitted_change_dict = {}\n",
    "\n",
    "for ensembl in list_seven:\n",
    "    gene_name = annotation.loc[ensembl]['ext_gene']\n",
    "    ensembl_trajectory = []; ensembl_times = []\n",
    "    fitted_change_dict[gene_name] = []\n",
    "    \n",
    "    for mouse in mice:\n",
    "        plotting_means = []\n",
    "        plotting_stds = []\n",
    "        \n",
    "        for time in times:\n",
    "            working_labels = [label for label in expression_labels if mouse in label and time in label]\n",
    "            values = expression.loc[ensembl, working_labels]\n",
    "            plotting_means.append(numpy.mean(values))\n",
    "            plotting_stds.append(numpy.std(values))\n",
    "            \n",
    "            for value in values.to_list():\n",
    "                ensembl_trajectory.append(value)\n",
    "                ensembl_times.append(int(time.split('h')[0]))\n",
    "            \n",
    "        # plot data\n",
    "        if mouse == 'a3922':\n",
    "            the_color = 'black'\n",
    "        elif mouse == 'a4774':\n",
    "            the_color = 'gold'\n",
    "        elif mouse == 'a4775':\n",
    "            the_color = 'tab:orange'\n",
    "        elif mouse == 'a4776':\n",
    "            the_color = 'tab:purple'\n",
    "        else:\n",
    "            print('error')\n",
    "        matplotlib.pyplot.errorbar(numerical_times, plotting_means, yerr=plotting_stds, color=the_color, lw=0, elinewidth=4, alpha=2/3)\n",
    "        matplotlib.pyplot.plot(numerical_times, plotting_means, 'o', color=the_color, ms=20)\n",
    "            \n",
    "    # fit and visualize trend\n",
    "    x = ensembl_times[:9]\n",
    "    y = ensembl_trajectory[:9]\n",
    "    slope, intercept, r_value, p_value, std_err = scipy.stats.linregress(x, y)\n",
    "    newx = numpy.arange(0, 72+1, 1)\n",
    "    newy = slope*newx + intercept\n",
    "    matplotlib.pyplot.plot(newx, newy, '-', color='black', lw=5, zorder=0)\n",
    "    # store info for z-score heatmap\n",
    "    d = slope*numpy.array(numerical_times) + intercept\n",
    "    for element in d:\n",
    "        fitted_change_dict[gene_name].append(element)\n",
    "    \n",
    "    x = ensembl_times[9:]\n",
    "    y = ensembl_trajectory[9:]\n",
    "    slope, intercept, r_value, p_value, std_err = scipy.stats.linregress(x, y)\n",
    "    newx = numpy.arange(0, 72+1, 1)\n",
    "    newy = slope*newx + intercept\n",
    "    matplotlib.pyplot.plot(newx, newy, '-', color='tab:red', lw=5, zorder=0)\n",
    "    \n",
    "    # store info for z-score heatmap\n",
    "    d = slope*numpy.array(numerical_times) + intercept\n",
    "    for element in d:\n",
    "        fitted_change_dict[gene_name].append(element)\n",
    "        \n",
    "    # define legend elements\n",
    "    legend_elements = [\n",
    "        matplotlib.lines.Line2D([0], [0], color='white', marker='o', markeredgecolor='white', markerfacecolor='gold', markersize=25),\n",
    "        matplotlib.lines.Line2D([0], [0], color='white', marker='o', markeredgecolor='white', markerfacecolor='tab:orange', markersize=25),\n",
    "        matplotlib.lines.Line2D([0], [0], color='white', marker='o', markeredgecolor='white', markerfacecolor='tab:purple', markersize=25),\n",
    "        \n",
    "        matplotlib.lines.Line2D([0], [0], color='black', ls='-', lw=5),\n",
    "        matplotlib.lines.Line2D([0], [0], color='tab:red', ls='-', lw=5)      \n",
    "]\n",
    "    matplotlib.pyplot.legend(legend_elements, ['Mut A', 'Mut B', 'Mut C', 'WT', 'MUT'], ncol=2)\n",
    "    \n",
    "    # close figure\n",
    "    matplotlib.pyplot.grid(alpha=0.5, ls=':')\n",
    "    matplotlib.pyplot.title(gene_name)\n",
    "    matplotlib.pyplot.xlabel('Time [h]')\n",
    "    matplotlib.pyplot.ylabel('Expression [TPM]')\n",
    "    matplotlib.pyplot.tight_layout()\n",
    "    matplotlib.pyplot.show()"
   ]
  },
  {
   "cell_type": "markdown",
   "id": "da688265",
   "metadata": {},
   "source": [
    "## 5.5. build a heatmap of direct targets"
   ]
  },
  {
   "cell_type": "code",
   "execution_count": null,
   "id": "778aa8ae",
   "metadata": {},
   "outputs": [],
   "source": [
    "df = simple_expression.loc[list_seven, :]\n",
    "\n",
    "new_index = {}\n",
    "for ensembl in list_seven:\n",
    "    gene_name = annotation.loc[ensembl]['ext_gene']\n",
    "    new_index[ensembl] = gene_name\n",
    "df.rename(index=new_index, inplace=True)\n",
    "\n",
    "print(df.shape)\n",
    "df.head()"
   ]
  },
  {
   "cell_type": "code",
   "execution_count": null,
   "id": "1f924096",
   "metadata": {},
   "outputs": [],
   "source": [
    "# retrieve x and y for volcano plot\n",
    "volcanox = []; volcanoy = []\n",
    "for gene_name in df.index:\n",
    "    average_expression = numpy.mean(numpy.log10(df.loc[gene_name, :]))\n",
    "    fc_wt = (df.loc[gene_name, 'WT_72h']+1) / (df.loc[gene_name, 'WT_0h']+1)\n",
    "    fc_mut = (df.loc[gene_name, 'MUT_72h']+1) / (df.loc[gene_name, 'MUT_0h']+1)\n",
    "    delta = numpy.log2(fc_mut) - numpy.log2(fc_wt)\n",
    "    volcanox.append(delta); volcanoy.append(average_expression)"
   ]
  },
  {
   "cell_type": "code",
   "execution_count": null,
   "id": "cd143249",
   "metadata": {},
   "outputs": [],
   "source": [
    "rounded_df = numpy.round(df, 0) + 1\n",
    "rounded_df.head()"
   ]
  },
  {
   "cell_type": "code",
   "execution_count": null,
   "id": "f3a11365",
   "metadata": {},
   "outputs": [],
   "source": [
    "zscore_df = scipy.stats.zscore(rounded_df, axis=1)\n",
    "zscore_df.head()"
   ]
  },
  {
   "cell_type": "code",
   "execution_count": null,
   "id": "50f97900",
   "metadata": {},
   "outputs": [],
   "source": [
    "zscore_df.fillna(0, inplace=True)\n",
    "zscore_df.head()"
   ]
  },
  {
   "cell_type": "code",
   "execution_count": null,
   "id": "52ac2f32",
   "metadata": {},
   "outputs": [],
   "source": [
    "zscore_df = zscore_df[['MUT_0h', 'MUT_48h', 'MUT_72h','WT_0h', 'WT_48h', 'WT_72h']]\n",
    "zscore_df.head()"
   ]
  },
  {
   "cell_type": "code",
   "execution_count": null,
   "id": "51f18816",
   "metadata": {},
   "outputs": [],
   "source": [
    "print(numpy.max(zscore_df.max()))\n",
    "print(numpy.min(zscore_df.min()))\n",
    "\n",
    "top = 2.5; bottom = -2.5\n",
    "top_white = 5/6; bottom_white = -5/6"
   ]
  },
  {
   "cell_type": "code",
   "execution_count": null,
   "id": "df3acbab",
   "metadata": {},
   "outputs": [],
   "source": [
    "# edited from https://stackoverflow.com/questions/59270751/how-to-make-a-diverging-color-bar-with-white-space-between-two-values-matplotlib\n",
    "p = [bottom, bottom_white, top_white, top]\n",
    "f = lambda x: numpy.interp(x, p, [0, 0.5, 0.5, 1])\n",
    "new_cmap = matplotlib.colors.LinearSegmentedColormap.from_list('map_white', list(zip(numpy.linspace(0,1), matplotlib.pyplot.cm.bwr(f(numpy.linspace(min(p), max(p)))))))"
   ]
  },
  {
   "cell_type": "code",
   "execution_count": null,
   "id": "16a2aec0",
   "metadata": {},
   "outputs": [],
   "source": [
    "linkage_method = 'ward'\n",
    "distance_metric = 'euclidean'\n",
    "seaborn.set(font_scale=0.9)\n",
    "\n",
    "seaborn.clustermap(zscore_df, cmap=new_cmap, col_cluster=False, vmin=bottom, vmax=top, method=linkage_method, metric=distance_metric, yticklabels=1, xticklabels = ['MUT 0h', 'MUT 48h', 'MUT 72h', 'WT 0h', 'WT 48h', 'WT 72h'], cbar_kws={'label':'Expression (z-score)'})\n",
    "\n",
    "matplotlib.pyplot.title('{} {}'.format(linkage_method, distance_metric))\n",
    "matplotlib.pyplot.tight_layout()\n",
    "matplotlib.pyplot.show()"
   ]
  },
  {
   "cell_type": "code",
   "execution_count": null,
   "id": "b36542b9",
   "metadata": {},
   "outputs": [],
   "source": [
    "seaborn.reset_orig()\n",
    "matplotlib.rcParams.update({'font.size':20, 'font.family':'sans-serif', 'xtick.labelsize':30, 'ytick.labelsize':30, 'figure.figsize':(16, 9), 'axes.labelsize':40})"
   ]
  }
 ],
 "metadata": {
  "kernelspec": {
   "display_name": "Python 3",
   "language": "python",
   "name": "python3"
  },
  "language_info": {
   "codemirror_mode": {
    "name": "ipython",
    "version": 3
   },
   "file_extension": ".py",
   "mimetype": "text/x-python",
   "name": "python",
   "nbconvert_exporter": "python",
   "pygments_lexer": "ipython3",
   "version": "3.8.13"
  }
 },
 "nbformat": 4,
 "nbformat_minor": 5
}
